{
 "cells": [
  {
   "cell_type": "code",
   "execution_count": 1,
   "id": "7985bc70-ef49-4d53-b4ee-b06707d28edf",
   "metadata": {},
   "outputs": [],
   "source": [
    "%reload_ext autoreload\n",
    "%autoreload 2"
   ]
  },
  {
   "cell_type": "code",
   "execution_count": 2,
   "id": "e7d91f9b-f372-4e89-bcf3-c1d207bbe0a5",
   "metadata": {},
   "outputs": [],
   "source": [
    "import pandas as pd\n",
    "from pathlib import Path\n",
    "import polars as pl\n",
    "import ast\n",
    "import glob\n",
    "import numpy as np\n",
    "from rtseg.utils.param_io import load_params\n",
    "from pathlib import Path\n",
    "import matplotlib.pyplot as plt\n",
    "from skimage.transform import resize\n",
    "from skimage.io import imread\n",
    "from rtseg.forkplot import compute_forkplot_stats\n",
    "from rtseg.cells.plotting import generate_abins_lbins, generate_fork_plot, get_bulk_init_area, slice_fork_plot_around_init\n",
    "import matplotlib.patches as patches\n",
    "%matplotlib qt5"
   ]
  },
  {
   "cell_type": "code",
   "execution_count": 3,
   "id": "ef3d099e-6c96-4f12-a08a-b83ff49ebb58",
   "metadata": {},
   "outputs": [],
   "source": [
    "params_path = Path(\"C://Users/elflab/Documents/Praneeth/rtseg/rtseg/resources/reference_params/reference_microscope.yaml\")\n",
    "param = load_params(params_path, ref_type='expt')"
   ]
  },
  {
   "cell_type": "code",
   "execution_count": 4,
   "id": "da3664fa-1825-49a9-af72-7ae97ba4577a",
   "metadata": {},
   "outputs": [],
   "source": [
    "save_dir = Path(\"F:Oscar/EXP-25-CD0117/live_run/\")"
   ]
  },
  {
   "cell_type": "code",
   "execution_count": 5,
   "id": "83debed2-0500-4053-812d-c4d6c0687e0c",
   "metadata": {},
   "outputs": [],
   "source": [
    "\n",
    "fork_filenames = glob.glob(str(save_dir / Path('Pos[0-9]*/forks.parquet')))\n",
    "columns_to_extract = ['area', 'length', 'normalized_internal_x', 'normalization_counts']\n",
    "data = pl.read_parquet(fork_filenames, use_pyarrow=True, columns=columns_to_extract)\n"
   ]
  },
  {
   "cell_type": "code",
   "execution_count": 6,
   "id": "2da85508-05f1-462b-98fd-4b2ad6d587d5",
   "metadata": {},
   "outputs": [],
   "source": [
    "\n",
    "areas = data['area'].to_numpy()\n",
    "lengths = data['length'].to_numpy()\n",
    "longs = data['normalized_internal_x'].to_numpy()\n",
    "counts = data['normalization_counts'].to_numpy()\n",
    "bin_scale = param.Forkplots.bin_scale\n",
    "heatmap_threshold = param.Forkplots.heatmap_threshold\n",
    "pixel_size = param.Forkplots.pixel_size\n",
    "min_length = param.Forkplots.min_length\n",
    "arb_div_area = param.Forkplots.arb_div_area\n",
    "init_area_cv = param.Forkplots.init_area_cv"
   ]
  },
  {
   "cell_type": "code",
   "execution_count": 7,
   "id": "253dea7b-557c-4520-b3f6-4c2e02367a2a",
   "metadata": {},
   "outputs": [],
   "source": [
    "\n",
    "heatmap, mean_cell_lengths, abins, lbins, extent = generate_fork_plot(areas, lengths, longs, counts,\n",
    "                            bin_scale=bin_scale,\n",
    "                            pixel_size=pixel_size,\n",
    "                            heatmap_threshold=heatmap_threshold)\n"
   ]
  },
  {
   "cell_type": "code",
   "execution_count": null,
   "id": "d123767f-7629-458a-835c-b7b3804fcac1",
   "metadata": {},
   "outputs": [],
   "source": [
    "%%timeit\n",
    "init_area = get_bulk_init_area(areas, counts, longs, lengths, min_length=min_length, \n",
    "                           pixel_size=pixel_size, arb_div_area=arb_div_area)\n",
    "            "
   ]
  },
  {
   "cell_type": "code",
   "execution_count": null,
   "id": "28c77037-ea54-47e3-8d18-58e30f445063",
   "metadata": {},
   "outputs": [],
   "source": [
    "\n",
    "area_bins_around_init, lbins_around_init, heatmap_around_init, mean_cell_lengths_around_init, abins_inds_around_init, lbins_inds_around_init = slice_fork_plot_around_init(abins, lbins, heatmap, mean_cell_lengths, init_area, init_area_cv)\n"
   ]
  }
 ],
 "metadata": {
  "kernelspec": {
   "display_name": "Python 3 (ipykernel)",
   "language": "python",
   "name": "python3"
  },
  "language_info": {
   "codemirror_mode": {
    "name": "ipython",
    "version": 3
   },
   "file_extension": ".py",
   "mimetype": "text/x-python",
   "name": "python",
   "nbconvert_exporter": "python",
   "pygments_lexer": "ipython3",
   "version": "3.11.0"
  }
 },
 "nbformat": 4,
 "nbformat_minor": 5
}
