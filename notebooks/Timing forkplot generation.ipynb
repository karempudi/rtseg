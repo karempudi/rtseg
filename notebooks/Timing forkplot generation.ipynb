{
 "cells": [
  {
   "cell_type": "code",
   "execution_count": 1,
   "id": "7985bc70-ef49-4d53-b4ee-b06707d28edf",
   "metadata": {},
   "outputs": [],
   "source": [
    "%reload_ext autoreload\n",
    "%autoreload 2"
   ]
  },
  {
   "cell_type": "code",
   "execution_count": 2,
   "id": "e7d91f9b-f372-4e89-bcf3-c1d207bbe0a5",
   "metadata": {},
   "outputs": [],
   "source": [
    "import pandas as pd\n",
    "from pathlib import Path\n",
    "import polars as pl\n",
    "import ast\n",
    "import time\n",
    "import glob\n",
    "import numpy as np\n",
    "from scipy.special import erf\n",
    "from rtseg.utils.param_io import load_params\n",
    "from pathlib import Path\n",
    "import matplotlib.pyplot as plt\n",
    "from skimage.transform import resize\n",
    "from skimage.io import imread\n",
    "from rtseg.forkplot import compute_forkplot_stats\n",
    "from rtseg.cells.plotting import generate_abins_lbins, generate_fork_plot, get_bulk_init_area, slice_fork_plot_around_init\n",
    "from rtseg.cells.plotting import fast_generate_fork_plot\n",
    "import matplotlib.patches as patches\n",
    "from numba import jit, vectorize\n",
    "%matplotlib qt5"
   ]
  },
  {
   "cell_type": "code",
   "execution_count": 3,
   "id": "06ceaae7-a069-433b-ad51-4bea8b00d07b",
   "metadata": {},
   "outputs": [],
   "source": [
    "from scipy.optimize import curve_fit"
   ]
  },
  {
   "cell_type": "code",
   "execution_count": 4,
   "id": "ef3d099e-6c96-4f12-a08a-b83ff49ebb58",
   "metadata": {},
   "outputs": [],
   "source": [
    "params_path = Path(\"/home/pk/Documents//rtseg/rtseg/resources/reference_params/reference_microscope.yaml\")\n",
    "param = load_params(params_path, ref_type='expt')"
   ]
  },
  {
   "cell_type": "code",
   "execution_count": 5,
   "id": "da3664fa-1825-49a9-af72-7ae97ba4577a",
   "metadata": {},
   "outputs": [],
   "source": [
    "save_dir = Path(\"/mnt/sda1/REALTIME/analysis/EXP-25-CD0117/\")"
   ]
  },
  {
   "cell_type": "code",
   "execution_count": 6,
   "id": "83debed2-0500-4053-812d-c4d6c0687e0c",
   "metadata": {},
   "outputs": [],
   "source": [
    "\n",
    "#fork_filenames = glob.glob(str(save_dir / Path('Pos[0-9]*/forks.parquet')))\n",
    "#columns_to_extract = ['area', 'length', 'normalized_internal_x', 'normalization_counts']\n",
    "#data = pl.read_parquet(fork_filenames, use_pyarrow=True, columns=columns_to_extract)\n"
   ]
  },
  {
   "cell_type": "code",
   "execution_count": 7,
   "id": "885939a7-a9eb-43df-9c89-6bcfcd0b7a79",
   "metadata": {},
   "outputs": [],
   "source": [
    "\n",
    "data = pl.read_parquet(save_dir / Path('forks_all.parquet'), use_pyarrow=True)"
   ]
  },
  {
   "cell_type": "code",
   "execution_count": 8,
   "id": "6955ae0c-fdeb-4782-97c8-9f58793c051a",
   "metadata": {},
   "outputs": [
    {
     "data": {
      "text/plain": [
       "(9591797, 12)"
      ]
     },
     "execution_count": 8,
     "metadata": {},
     "output_type": "execute_result"
    }
   ],
   "source": [
    "data.shape"
   ]
  },
  {
   "cell_type": "code",
   "execution_count": null,
   "id": "df226e41-a78e-4d74-adc4-9c63cacc44e5",
   "metadata": {},
   "outputs": [],
   "source": []
  },
  {
   "cell_type": "code",
   "execution_count": null,
   "id": "23c6b605-d609-460e-9800-6e65f428021e",
   "metadata": {},
   "outputs": [],
   "source": []
  },
  {
   "cell_type": "code",
   "execution_count": 9,
   "id": "2da85508-05f1-462b-98fd-4b2ad6d587d5",
   "metadata": {},
   "outputs": [],
   "source": [
    "\n",
    "areas = data['area'].to_numpy()\n",
    "lengths = data['length'].to_numpy()\n",
    "longs = data['normalized_internal_x'].to_numpy()\n",
    "counts = data['normalization_counts'].to_numpy()\n",
    "bin_scale = param.Forkplots.bin_scale\n",
    "heatmap_threshold = param.Forkplots.heatmap_threshold\n",
    "pixel_size = param.Forkplots.pixel_size\n",
    "min_length = param.Forkplots.min_length\n",
    "arb_div_area = param.Forkplots.arb_div_area\n",
    "init_area_cv = param.Forkplots.init_area_cv\n",
    "\n",
    "abins = None\n",
    "lbins = None\n"
   ]
  },
  {
   "cell_type": "code",
   "execution_count": 10,
   "id": "7cc188ec-dcb7-43f4-a0d3-73b6332538d0",
   "metadata": {},
   "outputs": [
    {
     "name": "stdout",
     "output_type": "stream",
     "text": [
      "2.38 s ± 29.3 ms per loop (mean ± std. dev. of 7 runs, 1 loop each)\n"
     ]
    }
   ],
   "source": [
    "%%timeit\n",
    "heatmap, mean_cell_lengths, abins, lbins, extent = fast_generate_fork_plot(areas, lengths, longs, counts,\n",
    "            bin_scale=bin_scale,\n",
    "            pixel_size=pixel_size,\n",
    "            heatmap_threshold=heatmap_threshold)"
   ]
  },
  {
   "cell_type": "code",
   "execution_count": 11,
   "id": "1d2c3337-c9ae-46ff-93ca-34c6aaa46299",
   "metadata": {},
   "outputs": [
    {
     "name": "stdout",
     "output_type": "stream",
     "text": [
      "7.1 s ± 347 ms per loop (mean ± std. dev. of 7 runs, 1 loop each)\n"
     ]
    }
   ],
   "source": [
    "%%timeit\n",
    "init_area = get_bulk_init_area(areas, counts, longs, lengths, min_length=min_length, \n",
    "                           pixel_size=pixel_size, arb_div_area=arb_div_area)"
   ]
  },
  {
   "cell_type": "code",
   "execution_count": 12,
   "id": "180b7e89-28f2-4d6b-903c-89fe07267b58",
   "metadata": {},
   "outputs": [
    {
     "data": {
      "text/plain": [
       "1.4930643001248802"
      ]
     },
     "execution_count": 12,
     "metadata": {},
     "output_type": "execute_result"
    }
   ],
   "source": [
    "init_area"
   ]
  },
  {
   "cell_type": "code",
   "execution_count": null,
   "id": "1607663f-a416-408f-b9b6-e5eb68d62196",
   "metadata": {},
   "outputs": [],
   "source": []
  },
  {
   "cell_type": "code",
   "execution_count": 15,
   "id": "bcf0ce69-0e4c-4d83-b689-f3899e1d0160",
   "metadata": {},
   "outputs": [],
   "source": [
    "\n",
    "def get_dots_per_cell(areas, counts, longs, lengths, min_length=0.44, pixel_size=0.046, dots_per_cell_bin_scale=50):\n",
    "    \n",
    "    areas = areas * pixel_size**2\n",
    "    amin = np.quantile(areas, 0.005)\n",
    "    amax = np.quantile(areas, 0.98)\n",
    "    anrbins = round((amax-amin) * dots_per_cell_bin_scale)\n",
    "    abins = np.linspace(amin, amax, anrbins)\n",
    "    \n",
    "    #lengths = lengths * pixel_size\n",
    "    longs = longs - 0.5\n",
    "    absLongsLengths = np.abs(longs * lengths)\n",
    "\n",
    "    dots_per_cell = np.zeros((anrbins-1,))\n",
    "    for i in range(0, anrbins-1):\n",
    "        sel_dots = np.logical_and(areas > abins[i], areas <= abins[i+1])\n",
    "        sel_longs = absLongsLengths > min_length\n",
    "        sel_counts = counts[sel_dots]\n",
    "        norm_factor = sum(1/sel_counts)\n",
    "        dots_per_cell[i] = np.sum(sel_dots & sel_longs)/norm_factor\n",
    "\n",
    "    area_bins = (abins[0:-1] + abins[1:])/2\n",
    "    \n",
    "    return dots_per_cell, area_bins\n",
    "\n",
    "\n",
    "def dpc_fit(x, b, x0, s):\n",
    "    return b * (1 + erf((x - x0) / (np.sqrt(2) * s)))\n",
    "    \n",
    "def get_bulk_init_area(areas, counts, longs, lengths, min_length=0.44, pixel_size=0.046, arb_div_area = 2.5):\n",
    "#The arb_div_area variable is a guess of the approximate division area of cells in µm^2. The default is 3, but it can be changed \n",
    "    start = time.time()\n",
    "    start_point = np.array([2, 2, 0.2])\n",
    "\n",
    "    dots_per_cell, area_bins = get_dots_per_cell(areas, counts, longs, lengths, min_length=min_length, pixel_size=pixel_size, dots_per_cell_bin_scale=50)\n",
    "    print(f\"Duration: {time.time() - start}s\")\n",
    "    nan_dot_inds = ~np.isnan(dots_per_cell)\n",
    "    area_bins = area_bins[nan_dot_inds]\n",
    "    dots_per_cell = dots_per_cell[nan_dot_inds]\n",
    "\n",
    "    sel_area_bins = area_bins < arb_div_area\n",
    "    area_bins_fit = area_bins[sel_area_bins]\n",
    "    dots_per_cell_fit = dots_per_cell[sel_area_bins]\n",
    "    \n",
    "    the_fit, _ = curve_fit(dpc_fit, area_bins_fit, dots_per_cell_fit, p0=start_point)\n",
    "   \n",
    "    #Plotting code that can be used for debugging\n",
    "    #plt.figure()\n",
    "    #plt.plot(area_bins, dots_per_cell, 'bs')\n",
    "    #plt.plot(area_bins_fit, dpc_fit(area_bins_fit, *the_fit), 'r')\n",
    "    #plt.show()\n",
    "    init_area = the_fit[1]\n",
    "\n",
    "    return init_area"
   ]
  },
  {
   "cell_type": "code",
   "execution_count": null,
   "id": "f8770ef8-6f39-4195-b173-8f21d59f972d",
   "metadata": {},
   "outputs": [],
   "source": []
  },
  {
   "cell_type": "code",
   "execution_count": 22,
   "id": "0b0ed5e0-dad2-41b8-beda-0def6d1e24f5",
   "metadata": {},
   "outputs": [
    {
     "data": {
      "text/plain": [
       "array([1731., 1731., 1731., ...,  337.,  383.,  361.])"
      ]
     },
     "execution_count": 22,
     "metadata": {},
     "output_type": "execute_result"
    }
   ],
   "source": [
    "areas"
   ]
  },
  {
   "cell_type": "code",
   "execution_count": 16,
   "id": "9af00617-5618-4229-b48b-ac57f4b65543",
   "metadata": {},
   "outputs": [],
   "source": [
    "\n",
    "h, m, _, _, (x, y) = fast_generate_fork_plot(areas, lengths, longs, counts, bin_scale=bin_scale, heatmap_threshold=heatmap_threshold)"
   ]
  },
  {
   "cell_type": "code",
   "execution_count": 24,
   "id": "91af7cf0-d888-4cc5-924b-4f9ac3b5babf",
   "metadata": {},
   "outputs": [
    {
     "data": {
      "text/plain": [
       "array([1731., 1731., 1731., ...,  337.,  383.,  361.])"
      ]
     },
     "execution_count": 24,
     "metadata": {},
     "output_type": "execute_result"
    }
   ],
   "source": [
    "areas"
   ]
  },
  {
   "cell_type": "code",
   "execution_count": 20,
   "id": "31bba8d2-ac63-47f8-b721-43cf5204c5e9",
   "metadata": {},
   "outputs": [
    {
     "name": "stdout",
     "output_type": "stream",
     "text": [
      "Duration: 3.3097128868103027s\n"
     ]
    }
   ],
   "source": [
    "init_area = get_bulk_init_area(areas, counts, longs, lengths, min_length=min_length, \n",
    "                           pixel_size=pixel_size, arb_div_area=arb_div_area)"
   ]
  },
  {
   "cell_type": "code",
   "execution_count": 21,
   "id": "9a26e7c7-3a3a-40d7-8343-3556559166c3",
   "metadata": {},
   "outputs": [
    {
     "data": {
      "text/plain": [
       "1.7437211778398576"
      ]
     },
     "execution_count": 21,
     "metadata": {},
     "output_type": "execute_result"
    }
   ],
   "source": [
    "init_area"
   ]
  },
  {
   "cell_type": "code",
   "execution_count": 19,
   "id": "ae7e7a46-d301-4050-9a19-6ed09fc98c80",
   "metadata": {},
   "outputs": [
    {
     "data": {
      "text/plain": [
       "(3.0, 0.6012561302681992)"
      ]
     },
     "execution_count": 19,
     "metadata": {},
     "output_type": "execute_result"
    }
   ],
   "source": [
    "#Commenting out the full fork plot code for now, but it can be added back in if needed \n",
    "fig, ax = plt.subplots()\n",
    "ax.matshow(h, aspect='auto', interpolation='none', \n",
    "                extent=[x[0], x[-1], y[-1], y[0]], origin='upper', cmap='jet')\n",
    "ax.plot(-0.5 * m, y, 'w', linewidth=2)\n",
    "ax.plot(+0.5 * m ,y, 'w', linewidth=2)\n",
    "ax.axhline(init_area, color='red', linestyle='--', linewidth=2)\n",
    "ax.set_xlabel('Cell long axis (µm)')\n",
    "ax.set_ylabel('Cell size (µm^2)')\n",
    "ax.set_xlim(-3, 3)\n",
    "ax.set_ylim(3, y[0])\n"
   ]
  },
  {
   "cell_type": "code",
   "execution_count": null,
   "id": "6e51a0f0-3de5-450f-b68a-decb50cf81bb",
   "metadata": {},
   "outputs": [],
   "source": [
    "%%timeit -n 10\n",
    "h2, _, _, _, _ = generate_fork_plot(areas, lengths, longs, counts, bin_scale=bin_scale, heatmap_threshold=heatmap_threshold)"
   ]
  },
  {
   "cell_type": "code",
   "execution_count": null,
   "id": "68c5a1fd-be2a-4a4b-8dac-550539b4bdfc",
   "metadata": {},
   "outputs": [],
   "source": [
    "5.95/2.2"
   ]
  },
  {
   "cell_type": "code",
   "execution_count": null,
   "id": "8b43b9e8-fa6b-425d-a297-a3ad2b697661",
   "metadata": {},
   "outputs": [],
   "source": [
    "plt.figure()\n",
    "plt.imshow(h2, cmap='jet')\n",
    "plt.show()"
   ]
  },
  {
   "cell_type": "code",
   "execution_count": null,
   "id": "01a0a51c-8e08-49a6-bd22-9786fc4e4743",
   "metadata": {},
   "outputs": [],
   "source": [
    "plt.figure()\n",
    "plt.imshow(h2-h, cmap='jet')\n",
    "plt.show()"
   ]
  },
  {
   "cell_type": "code",
   "execution_count": null,
   "id": "39aa4e56-6526-4929-8038-eb5900471874",
   "metadata": {},
   "outputs": [],
   "source": []
  },
  {
   "cell_type": "code",
   "execution_count": null,
   "id": "a359dd40-df90-4e52-8010-f360aa3e9ab7",
   "metadata": {},
   "outputs": [],
   "source": []
  },
  {
   "cell_type": "code",
   "execution_count": null,
   "id": "8b4bce65-0bf5-4243-a25b-e62411df683a",
   "metadata": {},
   "outputs": [],
   "source": []
  },
  {
   "cell_type": "code",
   "execution_count": null,
   "id": "90711b37-f5dd-4c52-87b9-708045349dfb",
   "metadata": {},
   "outputs": [],
   "source": []
  },
  {
   "cell_type": "code",
   "execution_count": null,
   "id": "89402dfa-dbb1-4b37-95b8-4e05262b86f0",
   "metadata": {},
   "outputs": [],
   "source": []
  },
  {
   "cell_type": "code",
   "execution_count": null,
   "id": "79403b50-d0f7-42fb-b3bf-499a70b3ca50",
   "metadata": {},
   "outputs": [],
   "source": []
  },
  {
   "cell_type": "code",
   "execution_count": null,
   "id": "5288e170-8ddc-456d-ad89-7ede3c8d5ce7",
   "metadata": {},
   "outputs": [],
   "source": []
  },
  {
   "cell_type": "code",
   "execution_count": null,
   "id": "b02e62e0-bb74-42a8-89b8-86e35d03b13e",
   "metadata": {},
   "outputs": [],
   "source": []
  },
  {
   "cell_type": "code",
   "execution_count": null,
   "id": "6ef7e0a0-5b55-4068-8a42-72c728f2a8bc",
   "metadata": {},
   "outputs": [],
   "source": []
  },
  {
   "cell_type": "code",
   "execution_count": null,
   "id": "0696a965-2110-4edc-8089-5f7cfc3ae0b5",
   "metadata": {},
   "outputs": [],
   "source": []
  },
  {
   "cell_type": "code",
   "execution_count": null,
   "id": "4cfed6a4-fcb0-4aa4-baa4-cc5946d74e04",
   "metadata": {},
   "outputs": [],
   "source": []
  },
  {
   "cell_type": "code",
   "execution_count": null,
   "id": "b97edfa8-20cc-40a1-8f51-0330029e4093",
   "metadata": {},
   "outputs": [],
   "source": []
  },
  {
   "cell_type": "code",
   "execution_count": null,
   "id": "71693e6c-1421-4fc7-b8ba-9a6f0ac4e98b",
   "metadata": {},
   "outputs": [],
   "source": []
  },
  {
   "cell_type": "code",
   "execution_count": null,
   "id": "073e60ea-65d5-405e-b9aa-2f538bdf4e4f",
   "metadata": {},
   "outputs": [],
   "source": []
  },
  {
   "cell_type": "code",
   "execution_count": null,
   "id": "21c12916-cff1-48f2-ba6f-9e2b754da957",
   "metadata": {},
   "outputs": [],
   "source": []
  },
  {
   "cell_type": "code",
   "execution_count": null,
   "id": "74664997-ce93-46d0-a3ec-343faa7a9df4",
   "metadata": {},
   "outputs": [],
   "source": []
  },
  {
   "cell_type": "code",
   "execution_count": null,
   "id": "6b94f3fd-2ec0-4cb6-948b-bc13d0f092bd",
   "metadata": {},
   "outputs": [],
   "source": []
  },
  {
   "cell_type": "code",
   "execution_count": null,
   "id": "f613ad59-0080-48bd-98d2-7b6b1f22b753",
   "metadata": {},
   "outputs": [],
   "source": []
  },
  {
   "cell_type": "code",
   "execution_count": null,
   "id": "4be20759-1f2a-4a6f-a3a7-dcd18a7f0722",
   "metadata": {},
   "outputs": [],
   "source": []
  },
  {
   "cell_type": "code",
   "execution_count": null,
   "id": "a1eda9bb-f571-48e7-85c7-b8161dc600f2",
   "metadata": {},
   "outputs": [],
   "source": []
  },
  {
   "cell_type": "code",
   "execution_count": null,
   "id": "64f6fa0c-5bc7-4159-b22e-a482a14196f6",
   "metadata": {},
   "outputs": [],
   "source": []
  },
  {
   "cell_type": "code",
   "execution_count": null,
   "id": "35ae5234-152c-42bf-ae14-224f124ba9ff",
   "metadata": {},
   "outputs": [],
   "source": []
  },
  {
   "cell_type": "code",
   "execution_count": null,
   "id": "4a8bdd63-8c7c-4865-9f74-6161311e4e3e",
   "metadata": {},
   "outputs": [],
   "source": []
  },
  {
   "cell_type": "code",
   "execution_count": null,
   "id": "1fa502e7-a092-47a8-87b0-9dcb611a1d72",
   "metadata": {},
   "outputs": [],
   "source": []
  },
  {
   "cell_type": "code",
   "execution_count": null,
   "id": "5c9771e3-2a40-463b-bdbe-2460ee833bed",
   "metadata": {},
   "outputs": [],
   "source": []
  },
  {
   "cell_type": "code",
   "execution_count": null,
   "id": "6a98c1c6-3f72-4fb1-b28d-535315647983",
   "metadata": {},
   "outputs": [],
   "source": [
    "np.seterr(divide='ignore', invalid='ignore')\n",
    "areas = areas * (pixel_size **2)\n",
    "lengths = lengths * pixel_size\n",
    "\n",
    "longs = longs - 0.5\n",
    "\n",
    "if abins is None and lbins is None:\n",
    "    amin = np.quantile(areas, 0.005)\n",
    "    amax = np.quantile(areas, 0.98)\n",
    "\n",
    "    ainds = np.where(np.logical_and(areas >= amin, areas <= amax))[0]\n",
    "    rescaled_lengths = lengths * longs\n",
    "    rescaled_lengths_filtered = rescaled_lengths[ainds]\n",
    "\n",
    "    lmax = max(rescaled_lengths_filtered)\n",
    "    lmin = min(rescaled_lengths_filtered)\n",
    "    lminmax = max(lmax, -lmin)\n",
    "    lnrbins = round(2 * lminmax * bin_scale)\n",
    "    if lnrbins % 2 != 0:\n",
    "        lnrbins += 1\n",
    "\n",
    "    lbins = np.linspace(-lminmax, lminmax, lnrbins)\n",
    "    anrbins = lnrbins\n",
    "    abins = np.linspace(amin, amax, anrbins)\n",
    "\n",
    "else:\n",
    "    lnrbins = len(lbins)\n",
    "    anrbins = lnrbins\n",
    "\n",
    "areas_filtered = areas[ainds]\n",
    "counts_filtered = counts[ainds]\n",
    "longs_filtered = longs[ainds]\n",
    "lengths_filtered = lengths[ainds]"
   ]
  },
  {
   "cell_type": "code",
   "execution_count": null,
   "id": "80d95724-5b93-441a-91aa-80b1978b7b6b",
   "metadata": {},
   "outputs": [],
   "source": [
    "\n",
    "heatmap = np.zeros(shape=(anrbins-1, lnrbins-1))\n",
    "mean_cell_lengths = np.zeros((anrbins-1,))\n",
    "n = []\n",
    "\n",
    "for i in range(0, anrbins-1):\n",
    "    sel_dots = np.logical_and(areas > abins[i], areas <= abins[i+1])\n",
    "    sel_lengths = lengths[sel_dots]\n",
    "    sel_counts = counts[sel_dots]\n",
    "    sel_long = longs[sel_dots]\n",
    "    h1,_ = np.histogram(sel_long * sel_lengths, lbins)\n",
    "    normFactor = np.sum(1./sel_counts)\n",
    "    n.append(normFactor)\n",
    "    heatmap[i, :] = h1 / normFactor\n",
    "    mean_cell_lengths[i] = np.mean(sel_lengths)\n",
    "n_array = np.array(n)"
   ]
  },
  {
   "cell_type": "code",
   "execution_count": null,
   "id": "baddb876-1742-45da-9cdd-0beed21bde07",
   "metadata": {},
   "outputs": [],
   "source": [
    "plt.figure()\n",
    "plt.imshow(heatmap, cmap='jet')\n",
    "plt.show()"
   ]
  },
  {
   "cell_type": "code",
   "execution_count": null,
   "id": "876044dc-a67c-44d7-806f-fb721d6bc731",
   "metadata": {},
   "outputs": [],
   "source": []
  },
  {
   "cell_type": "code",
   "execution_count": null,
   "id": "999aed1a-36e4-4659-b486-9b97e333d3ea",
   "metadata": {},
   "outputs": [],
   "source": [
    "\n",
    "def get_dots_per_cell(areas, counts, longs, lengths, min_length=0.44, pixel_size=0.046, dots_per_cell_bin_scale=50):\n",
    "    \n",
    "    areas = areas * pixel_size**2\n",
    "    amin = np.quantile(areas, 0.005)\n",
    "    amax = np.quantile(areas, 0.98)\n",
    "    anrbins = round((amax-amin) * dots_per_cell_bin_scale)\n",
    "    abins = np.linspace(amin, amax, anrbins)\n",
    "    \n",
    "    #lengths = lengths * pixel_size\n",
    "    longs = longs - 0.5\n",
    "    absLongsLengths = np.abs(longs * lengths)\n",
    "\n",
    "    dots_per_cell = np.zeros((anrbins-1,))\n",
    "    for i in range(0, anrbins-1):\n",
    "        sel_dots = np.logical_and(areas > abins[i], areas <= abins[i+1])\n",
    "        sel_longs = absLongsLengths > min_length\n",
    "        sel_counts = counts[sel_dots]\n",
    "        norm_factor = sum(1/sel_counts)\n",
    "        dots_per_cell[i] = np.sum(sel_dots & sel_longs)/norm_factor\n",
    "\n",
    "    area_bins = (abins[0:-1] + abins[1:])/2\n",
    "    \n",
    "    return dots_per_cell, area_bins\n"
   ]
  },
  {
   "cell_type": "code",
   "execution_count": null,
   "id": "612f414a-fa6a-45e4-b21d-dc36d07fb688",
   "metadata": {},
   "outputs": [],
   "source": [
    "\n",
    "get_dots_per_cell(areas, counts, longs, lengths)"
   ]
  },
  {
   "cell_type": "code",
   "execution_count": null,
   "id": "ba2a0364-03a9-455b-ad32-8db0d2139355",
   "metadata": {},
   "outputs": [],
   "source": []
  },
  {
   "cell_type": "code",
   "execution_count": null,
   "id": "adcaee95-19f6-4b77-ba51-9f3cdd6c65df",
   "metadata": {},
   "outputs": [],
   "source": [
    "import time"
   ]
  },
  {
   "cell_type": "code",
   "execution_count": null,
   "id": "e9fec3e6-11ec-46f3-bab4-8448228ae2c6",
   "metadata": {},
   "outputs": [],
   "source": [
    "def dpc_fit(x, b, x0, s):\n",
    "    return b * (1 + erf((x - x0) / (np.sqrt(2) * s)))\n",
    "    \n",
    "def get_bulk_init_area(areas, counts, longs, lengths, min_length=0.44, pixel_size=0.046, arb_div_area = 2.5):\n",
    "#The arb_div_area variable is a guess of the approximate division area of cells in µm^2. The default is 3, but it can be changed \n",
    "    start = time.time()\n",
    "    start_point = np.array([2, 2, 0.2])\n",
    "\n",
    "    dots_per_cell, area_bins = get_dots_per_cell(areas, counts, longs, lengths, min_length=min_length, pixel_size=pixel_size, dots_per_cell_bin_scale=50)\n",
    "    print(f\"Duration: {time.time() - start}s\")\n",
    "    nan_dot_inds = ~np.isnan(dots_per_cell)\n",
    "    area_bins = area_bins[nan_dot_inds]\n",
    "    dots_per_cell = dots_per_cell[nan_dot_inds]\n",
    "\n",
    "    sel_area_bins = area_bins < arb_div_area\n",
    "    area_bins_fit = area_bins[sel_area_bins]\n",
    "    dots_per_cell_fit = dots_per_cell[sel_area_bins]\n",
    "    \n",
    "    the_fit, _ = curve_fit(dpc_fit, area_bins_fit, dots_per_cell_fit, p0=start_point)\n",
    "   \n",
    "    #Plotting code that can be used for debugging\n",
    "    plt.figure()\n",
    "    plt.plot(area_bins, dots_per_cell, 'bs')\n",
    "    plt.plot(area_bins_fit, dpc_fit(area_bins_fit, *the_fit), 'r')\n",
    "    plt.show()\n",
    "    init_area = the_fit[1]\n",
    "\n",
    "    return init_area"
   ]
  },
  {
   "cell_type": "code",
   "execution_count": null,
   "id": "26a9fcf7-0f24-41f2-a925-1e6dcfe86e7f",
   "metadata": {},
   "outputs": [],
   "source": [
    "get_bulk_init_area(areas, counts, longs, lengths)"
   ]
  },
  {
   "cell_type": "code",
   "execution_count": null,
   "id": "406feb7f-089a-47a3-8009-1269c7919eba",
   "metadata": {},
   "outputs": [],
   "source": []
  },
  {
   "cell_type": "code",
   "execution_count": null,
   "id": "6cf86d5d-5dc1-4a47-8cdf-b7766eaa612c",
   "metadata": {},
   "outputs": [],
   "source": []
  },
  {
   "cell_type": "code",
   "execution_count": null,
   "id": "8a521ec3-c448-4a27-8ab7-c2f6593b7731",
   "metadata": {},
   "outputs": [],
   "source": []
  },
  {
   "cell_type": "code",
   "execution_count": null,
   "id": "aa57e040-c930-4953-8be2-c8b34a8da72f",
   "metadata": {},
   "outputs": [],
   "source": []
  },
  {
   "cell_type": "code",
   "execution_count": null,
   "id": "1f2e0efd-6805-4696-ab20-4631b09e46ab",
   "metadata": {},
   "outputs": [],
   "source": [
    "from scipy.stats import binned_statistic"
   ]
  },
  {
   "cell_type": "code",
   "execution_count": null,
   "id": "68e98081-d166-43ca-be4f-6d39798263de",
   "metadata": {},
   "outputs": [],
   "source": [
    "\n",
    "H, _, _ = np.histogram2d(areas_filtered, longs_filtered * lengths_filtered, bins=(abins, lbins))\n",
    "\n",
    "s, _,_  = binned_statistic(areas_filtered, 1.0/ counts_filtered, statistic='sum', bins=abins)\n",
    "\n",
    "m, _, _ = binned_statistic(areas_filtered, lengths_filtered, statistic='mean', bins=abins)\n",
    "ans = H/s[:, np.newaxis]"
   ]
  },
  {
   "cell_type": "code",
   "execution_count": null,
   "id": "98dd15e0-9893-45a0-9b00-ce65fb89e793",
   "metadata": {},
   "outputs": [],
   "source": []
  },
  {
   "cell_type": "code",
   "execution_count": null,
   "id": "60d8675b-bb3d-40ba-875c-7c037939ec91",
   "metadata": {},
   "outputs": [],
   "source": []
  },
  {
   "cell_type": "code",
   "execution_count": null,
   "id": "54b45faf-2ed4-48fb-8a4c-2423cf6f1511",
   "metadata": {},
   "outputs": [],
   "source": [
    "m.shape"
   ]
  },
  {
   "cell_type": "code",
   "execution_count": null,
   "id": "d0ce43cf-b8c0-46b0-b5cb-9b7e1d5e90e9",
   "metadata": {},
   "outputs": [],
   "source": [
    "mean_cell_lengths.shape"
   ]
  },
  {
   "cell_type": "code",
   "execution_count": null,
   "id": "d2162600-9594-40b4-820e-3678cdcc2cd2",
   "metadata": {},
   "outputs": [],
   "source": [
    "plt.figure()\n",
    "plt.imshow(ans, cmap='jet')\n",
    "plt.show()"
   ]
  },
  {
   "cell_type": "code",
   "execution_count": null,
   "id": "87d02f7d-3444-4188-805a-9bde402a7641",
   "metadata": {},
   "outputs": [],
   "source": [
    "plt.figure()\n",
    "plt.imshow((ans - heatmap))\n",
    "plt.colorbar()\n",
    "plt.show()"
   ]
  },
  {
   "cell_type": "code",
   "execution_count": null,
   "id": "f9d552d8-f343-44dc-904a-e0c6dab75611",
   "metadata": {},
   "outputs": [],
   "source": [
    "plt.figure()\n",
    "plt.imshow(heatmap, cmap='jet')\n",
    "plt.show()"
   ]
  },
  {
   "cell_type": "code",
   "execution_count": null,
   "id": "b068b7f2-576f-4ba1-b1ee-8dc12f346b55",
   "metadata": {},
   "outputs": [],
   "source": []
  },
  {
   "cell_type": "code",
   "execution_count": null,
   "id": "98d8e2c5-fd4f-40ea-8871-d5de78a3f274",
   "metadata": {},
   "outputs": [],
   "source": []
  },
  {
   "cell_type": "code",
   "execution_count": null,
   "id": "c41617df-439d-4c53-966b-d69d2ab2b5ce",
   "metadata": {},
   "outputs": [],
   "source": []
  },
  {
   "cell_type": "code",
   "execution_count": null,
   "id": "64188a29-965f-41d8-8f96-a6db39e3c2f4",
   "metadata": {},
   "outputs": [],
   "source": []
  },
  {
   "cell_type": "code",
   "execution_count": null,
   "id": "253dea7b-557c-4520-b3f6-4c2e02367a2a",
   "metadata": {},
   "outputs": [],
   "source": [
    "heatmap, mean_cell_lengths, abins, lbins, extent = generate_fork_plot(areas, lengths, longs, counts,\n",
    "                            bin_scale=bin_scale,\n",
    "                            pixel_size=pixel_size,\n",
    "                            heatmap_threshold=heatmap_threshold)\n"
   ]
  },
  {
   "cell_type": "code",
   "execution_count": null,
   "id": "d123767f-7629-458a-835c-b7b3804fcac1",
   "metadata": {},
   "outputs": [],
   "source": [
    "\n",
    "init_area = get_bulk_init_area(areas, counts, longs, lengths, min_length=min_length, \n",
    "                           pixel_size=pixel_size, arb_div_area=arb_div_area)\n",
    "            "
   ]
  },
  {
   "cell_type": "code",
   "execution_count": null,
   "id": "28c77037-ea54-47e3-8d18-58e30f445063",
   "metadata": {},
   "outputs": [],
   "source": [
    "\n",
    "area_bins_around_init, lbins_around_init, heatmap_around_init, mean_cell_lengths_around_init, abins_inds_around_init, lbins_inds_around_init = slice_fork_plot_around_init(abins, lbins, heatmap, mean_cell_lengths, init_area, init_area_cv)\n"
   ]
  },
  {
   "cell_type": "code",
   "execution_count": null,
   "id": "0e1b5840-6c84-482f-8cea-ade6fde6cb80",
   "metadata": {},
   "outputs": [],
   "source": []
  },
  {
   "cell_type": "code",
   "execution_count": null,
   "id": "2386ac86-5bd0-4967-b1bf-1cc3eff76d3f",
   "metadata": {},
   "outputs": [],
   "source": [
    "np.seterr(divide='ignore', invalid='ignore')\n",
    "areas = areas * (pixel_size **2)\n",
    "lengths = lengths * pixel_size\n",
    "\n",
    "longs = longs - 0.5\n",
    "\n",
    "if abins is None and lbins is None:\n",
    "    amin = np.quantile(areas, 0.005)\n",
    "    amax = np.quantile(areas, 0.98)\n",
    "\n",
    "    ainds = np.where(np.logical_and(areas >= amin, areas <= amax))[0]\n",
    "    rescaled_lengths = lengths * longs\n",
    "    rescaled_lengths_filtered = rescaled_lengths[ainds]\n",
    "\n",
    "    lmax = max(rescaled_lengths_filtered)\n",
    "    lmin = min(rescaled_lengths_filtered)\n",
    "    lminmax = max(lmax, -lmin)\n",
    "    lnrbins = round(2 * lminmax * bin_scale)\n",
    "    if lnrbins % 2 != 0:\n",
    "        lnrbins += 1\n",
    "\n",
    "    lbins = np.linspace(-lminmax, lminmax, lnrbins)\n",
    "    anrbins = lnrbins\n",
    "    abins = np.linspace(amin, amax, anrbins)\n",
    "\n",
    "else:\n",
    "    lnrbins = len(lbins)\n",
    "    anrbins = lnrbins\n"
   ]
  },
  {
   "cell_type": "code",
   "execution_count": null,
   "id": "f34e9b52-af55-463c-9154-60f2512974b1",
   "metadata": {},
   "outputs": [],
   "source": [
    "\n",
    "def generate_heatmap():\n",
    "    heatmap = np.zeros(shape=(anrbins-1, lnrbins-1))\n",
    "    mean_cell_lengths = np.zeros((anrbins-1,))\n",
    "    for i in range(0, anrbins-1):\n",
    "        sel_dots = np.logical_and(areas > abins[i], areas <= abins[i+1])\n",
    "        sel_lengths = lengths[sel_dots]\n",
    "        sel_counts = counts[sel_dots]\n",
    "        sel_long = longs[sel_dots]\n",
    "        h1,_ = np.histogram(sel_long * sel_lengths, lbins)\n",
    "        normFactor = np.sum(1./sel_counts)\n",
    "        heatmap[i, :] = h1 / normFactor\n",
    "        mean_cell_lengths[i] = np.mean(sel_lengths)\n",
    "    return heatmap"
   ]
  },
  {
   "cell_type": "code",
   "execution_count": null,
   "id": "74778560-1703-4c8c-ab40-5ff24e4ad7c8",
   "metadata": {},
   "outputs": [],
   "source": [
    "def generate_heatmap2():\n",
    "    heatmap = np.zeros((anrbins-1, lnrbins-1))\n",
    "    mean_cell_lengths = np.zeros((anrbins-1,))\n",
    "    \n",
    "    # Step 1: Determine the bin indices for each area using np.digitize.\n",
    "    bin_indices = np.digitize(areas, abins) - 1  # bins start from 0, so subtract 1.\n",
    "    \n",
    "    # Step 2: Create masks for each bin\n",
    "    masks = [bin_indices == i for i in range(anrbins-1)]\n",
    "    \n",
    "    # Step 3: Vectorized operation for each bin\n",
    "    for i, mask in enumerate(masks):\n",
    "        sel_lengths = lengths[mask]\n",
    "        sel_counts = counts[mask]\n",
    "        sel_long = longs[mask]\n",
    "        \n",
    "        # Histogram for sel_long * sel_lengths\n",
    "        h1, _ = np.histogram(sel_long * sel_lengths, lbins)\n",
    "        \n",
    "        # Normalization factor\n",
    "        normFactor = np.sum(1. / sel_counts)\n",
    "        \n",
    "        # Store results in heatmap and mean_cell_lengths\n",
    "        heatmap[i, :] = h1 / normFactor\n",
    "        mean_cell_lengths[i] = np.mean(sel_lengths)\n",
    "\n",
    "    return heatmap\n"
   ]
  },
  {
   "cell_type": "code",
   "execution_count": null,
   "id": "a98f4bfa-8a5e-4902-b956-4e52e0e3a228",
   "metadata": {},
   "outputs": [],
   "source": [
    "\n",
    "a = generate_heatmap2()"
   ]
  },
  {
   "cell_type": "code",
   "execution_count": null,
   "id": "831e6451-8717-4e79-9a5d-4cf5fba7e349",
   "metadata": {},
   "outputs": [],
   "source": [
    "\n",
    "def generate_heatmap4():\n",
    "    # Initialize arrays\n",
    "    heatmap = np.zeros((anrbins - 1, lnrbins - 1))\n",
    "    \n",
    "    # Step 1: Determine bin indices for areas\n",
    "    bin_indices = np.digitize(areas, abins) - 1  # Ensure 0-based indexing\n",
    "    valid_mask = (bin_indices >= 0) & (bin_indices < anrbins - 1)  # Ignore out-of-range indices\n",
    "    bin_indices = bin_indices[valid_mask]\n",
    "\n",
    "    # Step 2: Compute mean cell lengths per bin using np.bincount\n",
    "    mean_cell_lengths = np.zeros(anrbins - 1)\n",
    "    count_per_bin = np.bincount(bin_indices, minlength=anrbins - 1)\n",
    "    sum_lengths_per_bin = np.bincount(bin_indices, weights=lengths[valid_mask], minlength=anrbins - 1)\n",
    "\n",
    "    # Avoid division by zero\n",
    "    nonzero_bins = count_per_bin > 0\n",
    "    mean_cell_lengths[nonzero_bins] = sum_lengths_per_bin[nonzero_bins] / count_per_bin[nonzero_bins]\n",
    "\n",
    "    # Step 3: Compute normalization factor per bin\n",
    "    norm_factors = np.bincount(bin_indices, weights=1. / counts[valid_mask], minlength=anrbins - 1)\n",
    "\n",
    "    # Step 4: Compute weighted histogram\n",
    "    weighted_values = (longs * lengths)[valid_mask]  # Only use valid entries\n",
    "    bin_assignment = np.digitize(weighted_values, lbins) - 1  # Compute histogram bin indices\n",
    "\n",
    "    # Filter out-of-range values\n",
    "    valid_hist_mask = (bin_assignment >= 0) & (bin_assignment < lnrbins - 1)\n",
    "    bin_indices_hist = bin_indices[valid_hist_mask]\n",
    "    bin_assignment = bin_assignment[valid_hist_mask]\n",
    "\n",
    "    # Efficiently accumulate counts using np.add.at\n",
    "    np.add.at(heatmap, (bin_indices_hist, bin_assignment), 1)\n",
    "\n",
    "    # Normalize the heatmap by norm_factors (avoid division by zero)\n",
    "    heatmap[nonzero_bins, :] /= norm_factors[nonzero_bins, None]\n",
    "\n",
    "    return heatmap, mean_cell_lengths\n"
   ]
  },
  {
   "cell_type": "code",
   "execution_count": null,
   "id": "024483b2-b3f2-4371-9d6a-886c36648984",
   "metadata": {},
   "outputs": [],
   "source": [
    "\n",
    "a = generate_heatmap4()"
   ]
  },
  {
   "cell_type": "code",
   "execution_count": null,
   "id": "2ef78294-4438-48d2-b486-e350daac7c6f",
   "metadata": {},
   "outputs": [],
   "source": [
    "plt.matshow(a,cmap='jet')"
   ]
  },
  {
   "cell_type": "code",
   "execution_count": null,
   "id": "5015e7a9-8e75-4d8b-b6d9-3712ebdf2671",
   "metadata": {},
   "outputs": [],
   "source": [
    "plt.matshow(heatmap,cmap='jet')"
   ]
  },
  {
   "cell_type": "code",
   "execution_count": null,
   "id": "03e222b4-bf2b-4956-b68b-3f88360f4e35",
   "metadata": {},
   "outputs": [],
   "source": [
    "a[0] == heatmap\n"
   ]
  },
  {
   "cell_type": "code",
   "execution_count": null,
   "id": "30405db2-9e8a-42c5-b865-ec019259dc09",
   "metadata": {},
   "outputs": [],
   "source": [
    "plt.imshow(a == heatmap)"
   ]
  },
  {
   "cell_type": "code",
   "execution_count": null,
   "id": "6f587597-0c47-481b-80d0-012d1e32da00",
   "metadata": {},
   "outputs": [],
   "source": []
  },
  {
   "cell_type": "code",
   "execution_count": null,
   "id": "b73d879d-ad7d-4c92-bee1-8833ee49258a",
   "metadata": {},
   "outputs": [],
   "source": []
  },
  {
   "cell_type": "code",
   "execution_count": null,
   "id": "fc09d4da-c733-4d04-9fd4-0ce08c74f9c5",
   "metadata": {},
   "outputs": [],
   "source": []
  },
  {
   "cell_type": "code",
   "execution_count": null,
   "id": "073097c1-7e8e-440a-8a90-4e927e01126c",
   "metadata": {},
   "outputs": [],
   "source": [
    "heatmap.shape"
   ]
  },
  {
   "cell_type": "code",
   "execution_count": null,
   "id": "29cb5af3-0bb2-4e13-975b-f940e8045e31",
   "metadata": {},
   "outputs": [],
   "source": [
    "a[0].shape"
   ]
  },
  {
   "cell_type": "code",
   "execution_count": null,
   "id": "367bd02c-a59e-49b3-87ae-eee421dd44b2",
   "metadata": {},
   "outputs": [],
   "source": []
  },
  {
   "cell_type": "code",
   "execution_count": null,
   "id": "47f58785-7c6f-4a34-8c34-ca066e15e806",
   "metadata": {},
   "outputs": [],
   "source": [
    "def write_fork_plot("
   ]
  },
  {
   "cell_type": "code",
   "execution_count": null,
   "id": "fcae77a7-7c54-4df1-8059-bd7deed55948",
   "metadata": {},
   "outputs": [],
   "source": []
  },
  {
   "cell_type": "code",
   "execution_count": null,
   "id": "c929f34a-713e-4f96-b1b0-c580c67b7bd7",
   "metadata": {},
   "outputs": [],
   "source": []
  },
  {
   "cell_type": "code",
   "execution_count": null,
   "id": "1ac748dc-dd67-470e-8bc0-606e397c78cd",
   "metadata": {},
   "outputs": [],
   "source": []
  },
  {
   "cell_type": "code",
   "execution_count": null,
   "id": "7e926c13-58a7-4d7f-8d45-c147fdf48882",
   "metadata": {},
   "outputs": [],
   "source": [
    "# DO NOT REPORT THIS... COMPILATION TIME IS INCLUDED IN THE EXECUTION TIME!\n",
    "start = time.perf_counter()\n",
    "generate_heatmap()\n",
    "end = time.perf_counter()\n",
    "print(\"Elapsed (with compilation) = {}s\".format((end - start)))\n",
    "\n",
    "# NOW THE FUNCTION IS COMPILED, RE-TIME IT EXECUTING FROM CACHE\n",
    "start = time.perf_counter()\n",
    "generate_heatmap()\n",
    "end = time.perf_counter()\n",
    "print(\"Elapsed (after compilation) = {}s\".format((end - start)))"
   ]
  },
  {
   "cell_type": "markdown",
   "id": "91f83c00-5832-488e-a5c3-e1195d6a0f49",
   "metadata": {},
   "source": [
    "### Numba jit"
   ]
  },
  {
   "cell_type": "code",
   "execution_count": null,
   "id": "cd988206-d562-4919-9e58-12c76928302f",
   "metadata": {},
   "outputs": [],
   "source": [
    "from numba import jit\n",
    "import numpy as np\n"
   ]
  },
  {
   "cell_type": "code",
   "execution_count": null,
   "id": "8a763faf-d4fb-4321-bec8-2efcc3884841",
   "metadata": {},
   "outputs": [],
   "source": [
    "areas = areas * (pixel_size **2)\n",
    "lengths = lengths * pixel_size\n",
    "\n",
    "longs = longs - 0.5\n"
   ]
  },
  {
   "cell_type": "code",
   "execution_count": null,
   "id": "e6a5cb14-b9e6-4437-a3cd-9478bf1a4424",
   "metadata": {},
   "outputs": [],
   "source": [
    "%%timeit\n",
    "go_fast(x)"
   ]
  },
  {
   "cell_type": "code",
   "execution_count": null,
   "id": "47a15b02-105e-41e0-9975-21142a6785fe",
   "metadata": {},
   "outputs": [],
   "source": [
    "11.9 * 1000 / 643"
   ]
  },
  {
   "cell_type": "code",
   "execution_count": null,
   "id": "edb37586-88f6-4c59-9484-b81fb3ddb19f",
   "metadata": {},
   "outputs": [],
   "source": []
  }
 ],
 "metadata": {
  "kernelspec": {
   "display_name": "Python 3 (ipykernel)",
   "language": "python",
   "name": "python3"
  },
  "language_info": {
   "codemirror_mode": {
    "name": "ipython",
    "version": 3
   },
   "file_extension": ".py",
   "mimetype": "text/x-python",
   "name": "python",
   "nbconvert_exporter": "python",
   "pygments_lexer": "ipython3",
<<<<<<< HEAD
   "version": "3.11.0"
=======
   "version": "3.11.0rc1"
>>>>>>> 0f4eeefa13a58479ea2d13eb5c0baa2d1b56c967
  }
 },
 "nbformat": 4,
 "nbformat_minor": 5
}
