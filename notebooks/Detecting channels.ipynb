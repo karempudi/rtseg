{
 "cells": [
  {
   "cell_type": "code",
   "execution_count": 1,
   "id": "16e91a56-fe9b-4a5f-988e-195562efd22f",
   "metadata": {},
   "outputs": [],
   "source": [
    "%reload_ext autoreload\n",
    "%autoreload 2"
   ]
  },
  {
   "cell_type": "code",
   "execution_count": 2,
   "id": "9993839d-7bc4-4b4c-9182-34de30b42a06",
   "metadata": {},
   "outputs": [],
   "source": [
    "import numpy as np\n",
    "from skimage.io import imread\n",
    "import matplotlib.pyplot as plt\n",
    "from pathlib import Path\n",
    "import matplotlib.patches as patches\n",
    "from rtseg.utils.param_io import load_params\n",
    "from scipy.signal import find_peaks, peak_prominences\n",
    "%matplotlib qt5"
   ]
  },
  {
   "cell_type": "markdown",
   "id": "5870d3d0-3011-4b4b-a31e-bc76edfdce92",
   "metadata": {},
   "source": [
    "### Load image"
   ]
  },
  {
   "cell_type": "code",
   "execution_count": 3,
   "id": "1dc96db9-7773-4642-91d9-a3a498244ff8",
   "metadata": {},
   "outputs": [],
   "source": [
    "phase_img_path = Path('/mnt/sda1/REALTIME/data/test_data/EXP-24-CD0103/40x newchip testimages/_1/Default/phase/img_channel000_position000_time000000000_z000.tif')"
   ]
  },
  {
   "cell_type": "code",
   "execution_count": 4,
   "id": "efe4bec6-8288-420a-a8c3-65efbb6c2669",
   "metadata": {},
   "outputs": [],
   "source": [
    "image = imread(phase_img_path)"
   ]
  },
  {
   "cell_type": "markdown",
   "id": "4614d5a7-0103-4d36-aa1b-33d3b87bc9ad",
   "metadata": {},
   "source": [
    "### Get barcodes first and then figure out the channel locations to cut"
   ]
  },
  {
   "cell_type": "code",
   "execution_count": 5,
   "id": "183aec4e-84bd-4544-b492-d5db25eeb8bd",
   "metadata": {},
   "outputs": [],
   "source": [
    "from rtseg.identify_channels import get_barcode_model, detect_barcodes"
   ]
  },
  {
   "cell_type": "code",
   "execution_count": 6,
   "id": "e19cc70f-c6d9-4645-b6c0-19e18809a914",
   "metadata": {},
   "outputs": [],
   "source": [
    "barcode_model_path = Path(\"/mnt/sda1/REALTIME/network_expts/barcode_expts/2025-01-17_13-26-07/model.pth\")\n",
    "params_path = Path(\"/home/pk/Documents/rtseg/rtseg/resources/reference_params/reference_linux.yaml\")\n",
    "params = load_params(params_path, ref_type=\"expt\")\n",
    "barcode_params = params.BarcodeAndChannels\n",
    "anchor_sizes = barcode_params.model_params.anchors.sizes\n",
    "strides = barcode_params.model_params.anchors.strides\n",
    "num_classes = barcode_params.model_params.num_classes\n",
    "device = 'cuda:0'"
   ]
  },
  {
   "cell_type": "code",
   "execution_count": 7,
   "id": "0ab08196-58ff-487d-a328-62ccf1d09710",
   "metadata": {},
   "outputs": [],
   "source": [
    "model, anchors, strides = get_barcode_model(barcode_model_path, anchor_sizes, strides)"
   ]
  },
  {
   "cell_type": "code",
   "execution_count": 8,
   "id": "a0ac675f-7fd4-4252-9ba6-30552bcc5051",
   "metadata": {},
   "outputs": [],
   "source": [
    "bboxes_final = detect_barcodes(model, anchors, strides, image.astype('float32'), [256, 800])"
   ]
  },
  {
   "cell_type": "code",
   "execution_count": 9,
   "id": "e7127253-45ce-4540-b96e-23c7a203c198",
   "metadata": {},
   "outputs": [],
   "source": [
    "fig, ax = plt.subplots()\n",
    "ax.imshow(image, cmap='gray')\n",
    "for row in bboxes_final:\n",
    "    rect = patches.Rectangle((row[0], row[1]), row[2] - row[0], row[3] - row[1], linewidth=1, edgecolor='r', facecolor='none')\n",
    "    ax.add_patch(rect)\n",
    "plt.show()"
   ]
  },
  {
   "cell_type": "markdown",
   "id": "0eb5e029-6697-47f9-abfc-50dc17f80bc1",
   "metadata": {},
   "source": [
    "### Cutting channels"
   ]
  },
  {
   "cell_type": "code",
   "execution_count": 10,
   "id": "dbd9688d-e08b-442d-9eff-2d9235137d7e",
   "metadata": {},
   "outputs": [
    {
     "data": {
      "text/plain": [
       "[array([611.7605   , 212.61502  , 652.5735   , 558.02313  ,   0.8009013,\n",
       "          0.       ], dtype=float32),\n",
       " array([1.2066503e+03, 2.2793683e+02, 1.2445505e+03, 5.7554742e+02,\n",
       "        5.3137660e-01, 0.0000000e+00], dtype=float32),\n",
       " array([1.7980172e+03, 2.5303416e+02, 1.8349648e+03, 5.9444427e+02,\n",
       "        8.5779959e-01, 0.0000000e+00], dtype=float32),\n",
       " array([2.3908232e+03, 2.8842435e+02, 2.4292185e+03, 6.1529254e+02,\n",
       "        7.2835815e-01, 0.0000000e+00], dtype=float32),\n",
       " array([2.9868606e+03, 2.8449405e+02, 3.0191638e+03, 6.2564075e+02,\n",
       "        3.9682052e-01, 0.0000000e+00], dtype=float32)]"
      ]
     },
     "execution_count": 10,
     "metadata": {},
     "output_type": "execute_result"
    }
   ],
   "source": [
    "bboxes_final"
   ]
  },
  {
   "cell_type": "code",
   "execution_count": 11,
   "id": "1ae62b5b-c664-43ba-b36e-3564e508b26c",
   "metadata": {},
   "outputs": [],
   "source": [
    "bbox_centers = [(bbox[0] + bbox[2])/2 for bbox in bboxes_final]"
   ]
  },
  {
   "cell_type": "code",
   "execution_count": 12,
   "id": "aa885b67-3d16-4677-9afb-5c8a5684f60b",
   "metadata": {},
   "outputs": [
    {
     "data": {
      "text/plain": [
       "[632.1669921875,\n",
       " 1225.600341796875,\n",
       " 1816.490966796875,\n",
       " 2410.02099609375,\n",
       " 3003.01220703125]"
      ]
     },
     "execution_count": 12,
     "metadata": {},
     "output_type": "execute_result"
    }
   ],
   "source": [
    "bbox_centers"
   ]
  },
  {
   "cell_type": "code",
   "execution_count": null,
   "id": "f184e868-00e0-4a43-9f80-b69b14fa5bd8",
   "metadata": {},
   "outputs": [],
   "source": []
  },
  {
   "cell_type": "markdown",
   "id": "6bf91eff-5835-4c6f-8c88-0499f8163db9",
   "metadata": {},
   "source": [
    "#### Strategy\n",
    "\n",
    "1. Find peaks\n",
    "2. Find the peaks that lie inside the barcode bboxes\n",
    "3. Go to 14 peaks on the left of each barcode bbox\n",
    "4. Check that the first bbox is more than a block from the start of the image.\n",
    "5. finalize channel locations"
   ]
  },
  {
   "cell_type": "code",
   "execution_count": null,
   "id": "f58fc156-1c8e-4ccc-8120-3fb2b05b8d5e",
   "metadata": {},
   "outputs": [],
   "source": []
  },
  {
   "cell_type": "code",
   "execution_count": 13,
   "id": "956a5dc0-eb30-46bf-8d13-b098cd7ad992",
   "metadata": {},
   "outputs": [],
   "source": [
    "hist = np.sum(image, axis=0)"
   ]
  },
  {
   "cell_type": "code",
   "execution_count": 14,
   "id": "e9e3a26f-28e1-4197-af72-1a0c05d1b54e",
   "metadata": {},
   "outputs": [],
   "source": [
    "plt.figure()\n",
    "plt.plot(hist)\n",
    "plt.show()"
   ]
  },
  {
   "cell_type": "code",
   "execution_count": 15,
   "id": "39a82fe2-144a-4361-8cde-6b2744649060",
   "metadata": {},
   "outputs": [],
   "source": [
    "peaks, _ = find_peaks(hist, distance=23)"
   ]
  },
  {
   "cell_type": "code",
   "execution_count": 16,
   "id": "e4eef60c-ab03-49fc-89d0-821a5a935b89",
   "metadata": {},
   "outputs": [
    {
     "data": {
      "text/plain": [
       "array([   7,   35,   65,  108,  149,  190,  232,  274,  315,  357,  398,\n",
       "        438,  481,  522,  564,  605,  633,  660,  703,  744,  785,  825,\n",
       "        867,  907,  948,  990, 1032, 1072, 1114, 1155, 1196, 1224, 1251,\n",
       "       1293, 1334, 1375, 1415, 1457, 1499, 1540, 1582, 1622, 1663, 1704,\n",
       "       1744, 1786, 1817, 1842, 1884, 1924, 1966, 2007, 2048, 2089, 2130,\n",
       "       2173, 2214, 2255, 2297, 2338, 2380, 2406, 2436, 2478, 2519, 2559,\n",
       "       2601, 2642, 2685, 2726, 2768, 2808, 2850, 2891, 2933, 2975, 3002])"
      ]
     },
     "execution_count": 16,
     "metadata": {},
     "output_type": "execute_result"
    }
   ],
   "source": [
    "peaks"
   ]
  },
  {
   "cell_type": "code",
   "execution_count": 17,
   "id": "c39266d9-34c2-483c-a803-bc474638790b",
   "metadata": {},
   "outputs": [
    {
     "data": {
      "text/plain": [
       "77"
      ]
     },
     "execution_count": 17,
     "metadata": {},
     "output_type": "execute_result"
    }
   ],
   "source": [
    "len(peaks)"
   ]
  },
  {
   "cell_type": "code",
   "execution_count": 18,
   "id": "c4263abb-600e-4d55-af38-14cb0dba0ce7",
   "metadata": {},
   "outputs": [],
   "source": [
    "plt.figure()\n",
    "plt.plot(hist)\n",
    "plt.plot(peaks, hist[peaks],'r*')\n",
    "plt.show()"
   ]
  },
  {
   "cell_type": "markdown",
   "id": "ecdca69c-88f1-4732-83d0-b67d3a8c9baa",
   "metadata": {},
   "source": [
    "#### Find peaks the lie inside barcodes"
   ]
  },
  {
   "cell_type": "code",
   "execution_count": 19,
   "id": "e470683b-390d-4c29-beba-874ba06868c4",
   "metadata": {},
   "outputs": [
    {
     "data": {
      "text/plain": [
       "[array([611.7605   , 212.61502  , 652.5735   , 558.02313  ,   0.8009013,\n",
       "          0.       ], dtype=float32),\n",
       " array([1.2066503e+03, 2.2793683e+02, 1.2445505e+03, 5.7554742e+02,\n",
       "        5.3137660e-01, 0.0000000e+00], dtype=float32),\n",
       " array([1.7980172e+03, 2.5303416e+02, 1.8349648e+03, 5.9444427e+02,\n",
       "        8.5779959e-01, 0.0000000e+00], dtype=float32),\n",
       " array([2.3908232e+03, 2.8842435e+02, 2.4292185e+03, 6.1529254e+02,\n",
       "        7.2835815e-01, 0.0000000e+00], dtype=float32),\n",
       " array([2.9868606e+03, 2.8449405e+02, 3.0191638e+03, 6.2564075e+02,\n",
       "        3.9682052e-01, 0.0000000e+00], dtype=float32)]"
      ]
     },
     "execution_count": 19,
     "metadata": {},
     "output_type": "execute_result"
    }
   ],
   "source": [
    "bboxes_final"
   ]
  },
  {
   "cell_type": "code",
   "execution_count": 20,
   "id": "855b145c-80ac-4cdf-9094-532f96aa8616",
   "metadata": {},
   "outputs": [],
   "source": [
    "bboxes_taken = [False for bbox in bboxes_final]\n",
    "bboxes_bounds = [(bbox[0], bbox[2]) for bbox in bboxes_final]"
   ]
  },
  {
   "cell_type": "code",
   "execution_count": 21,
   "id": "1287541e-7490-4dea-b231-0276266f3d8d",
   "metadata": {},
   "outputs": [
    {
     "data": {
      "text/plain": [
       "[(611.7605, 652.5735),\n",
       " (1206.6503, 1244.5505),\n",
       " (1798.0172, 1834.9648),\n",
       " (2390.8232, 2429.2185),\n",
       " (2986.8606, 3019.1638)]"
      ]
     },
     "execution_count": 21,
     "metadata": {},
     "output_type": "execute_result"
    }
   ],
   "source": [
    "bboxes_bounds"
   ]
  },
  {
   "cell_type": "code",
   "execution_count": 22,
   "id": "83a36c33-b101-4d14-9b7a-ebc0f2c6ff80",
   "metadata": {},
   "outputs": [
    {
     "data": {
      "text/plain": [
       "[False, False, False, False, False]"
      ]
     },
     "execution_count": 22,
     "metadata": {},
     "output_type": "execute_result"
    }
   ],
   "source": [
    "bboxes_taken"
   ]
  },
  {
   "cell_type": "code",
   "execution_count": null,
   "id": "3c9d15e6-a5f0-432f-a7c3-89fd7d525f4d",
   "metadata": {},
   "outputs": [],
   "source": []
  },
  {
   "cell_type": "code",
   "execution_count": 23,
   "id": "50fb8754-80b1-48c1-8a22-03d8022284f8",
   "metadata": {},
   "outputs": [
    {
     "name": "stdout",
     "output_type": "stream",
     "text": [
      "633 16 ---> (611.7605, 652.5735) 0\n",
      "1224 31 ---> (1206.6503, 1244.5505) 1\n",
      "1817 46 ---> (1798.0172, 1834.9648) 2\n",
      "2406 61 ---> (2390.8232, 2429.2185) 3\n",
      "3002 76 ---> (2986.8606, 3019.1638) 4\n"
     ]
    }
   ],
   "source": [
    "channel_locations = dict()\n",
    "for peak_idx, peak in enumerate(peaks, 0):\n",
    "    for i, bbox_bound in enumerate(bboxes_bounds):\n",
    "        if peak >= bbox_bound[0] and peak <= bbox_bound[1]:\n",
    "            print(peak, peak_idx,\"--->\", bbox_bound, i)\n",
    "            try:\n",
    "                channel_locations[i] = peaks[peak_idx-14: peak_idx]\n",
    "            except:\n",
    "                channel_locations[i] = np.array([])"
   ]
  },
  {
   "cell_type": "code",
   "execution_count": 24,
   "id": "37c58177-60f5-4565-9093-ecde318771ef",
   "metadata": {},
   "outputs": [
    {
     "data": {
      "text/plain": [
       "{0: array([ 65, 108, 149, 190, 232, 274, 315, 357, 398, 438, 481, 522, 564,\n",
       "        605]),\n",
       " 1: array([ 660,  703,  744,  785,  825,  867,  907,  948,  990, 1032, 1072,\n",
       "        1114, 1155, 1196]),\n",
       " 2: array([1251, 1293, 1334, 1375, 1415, 1457, 1499, 1540, 1582, 1622, 1663,\n",
       "        1704, 1744, 1786]),\n",
       " 3: array([1842, 1884, 1924, 1966, 2007, 2048, 2089, 2130, 2173, 2214, 2255,\n",
       "        2297, 2338, 2380]),\n",
       " 4: array([2436, 2478, 2519, 2559, 2601, 2642, 2685, 2726, 2768, 2808, 2850,\n",
       "        2891, 2933, 2975])}"
      ]
     },
     "execution_count": 24,
     "metadata": {},
     "output_type": "execute_result"
    }
   ],
   "source": [
    "channel_locations"
   ]
  },
  {
   "cell_type": "code",
   "execution_count": null,
   "id": "b8c84d28-5ff9-4b28-91db-634485265974",
   "metadata": {},
   "outputs": [],
   "source": []
  },
  {
   "cell_type": "code",
   "execution_count": null,
   "id": "815d37bc-f2e4-4de2-9bb2-89d0cfef8d16",
   "metadata": {},
   "outputs": [],
   "source": []
  },
  {
   "cell_type": "markdown",
   "id": "4eaa54e3-fe26-4922-8cfe-069647873244",
   "metadata": {},
   "source": [
    "#### Putting together"
   ]
  },
  {
   "cell_type": "code",
   "execution_count": null,
   "id": "482ea9e1-1660-4074-97d1-36f47184b855",
   "metadata": {},
   "outputs": [],
   "source": [
    "from rtseg.identify_channels import channel_locations"
   ]
  },
  {
   "cell_type": "code",
   "execution_count": 26,
   "id": "529d49ba-cb76-466b-ad1b-b10a6b0ce17a",
   "metadata": {},
   "outputs": [
    {
     "name": "stdout",
     "output_type": "stream",
     "text": [
      "633 16 ---> (611.7605, 652.5735) 0\n",
      "1224 31 ---> (1206.6503, 1244.5505) 1\n",
      "1817 46 ---> (1798.0172, 1834.9648) 2\n",
      "2406 61 ---> (2390.8232, 2429.2185) 3\n",
      "3002 76 ---> (2986.8606, 3019.1638) 4\n"
     ]
    },
    {
     "data": {
      "text/plain": [
       "({0: array([], dtype=float64),\n",
       "  1: array([], dtype=float64),\n",
       "  2: array([], dtype=float64),\n",
       "  3: array([], dtype=float64),\n",
       "  4: array([], dtype=float64)},\n",
       " [True, True, True, True, True])"
      ]
     },
     "execution_count": 26,
     "metadata": {},
     "output_type": "execute_result"
    }
   ],
   "source": [
    "channel_locations(image, bboxes_final)"
   ]
  },
  {
   "cell_type": "code",
   "execution_count": null,
   "id": "77339e5c-8918-4c7f-9411-9f4fc790da26",
   "metadata": {},
   "outputs": [],
   "source": []
  }
 ],
 "metadata": {
  "kernelspec": {
   "display_name": "Python 3 (ipykernel)",
   "language": "python",
   "name": "python3"
  },
  "language_info": {
   "codemirror_mode": {
    "name": "ipython",
    "version": 3
   },
   "file_extension": ".py",
   "mimetype": "text/x-python",
   "name": "python",
   "nbconvert_exporter": "python",
   "pygments_lexer": "ipython3",
   "version": "3.11.0rc1"
  }
 },
 "nbformat": 4,
 "nbformat_minor": 5
}
