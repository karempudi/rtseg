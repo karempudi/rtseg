{
 "cells": [
  {
   "cell_type": "code",
   "execution_count": 2,
   "id": "e74d53c7-d40f-4057-b078-1323ff0acf46",
   "metadata": {},
   "outputs": [],
   "source": [
    "import numpy as np\n",
    "import json"
   ]
  },
  {
   "cell_type": "code",
   "execution_count": 3,
   "id": "41079f57-9059-4448-8f1c-8346be0f1a57",
   "metadata": {},
   "outputs": [],
   "source": [
    "a = np.random.rand(1000, 4096)"
   ]
  },
  {
   "cell_type": "code",
   "execution_count": 7,
   "id": "09f550d3-6c56-4554-9292-60e3fde5f384",
   "metadata": {},
   "outputs": [],
   "source": [
    "a_bytes = a.tobytes()"
   ]
  },
  {
   "cell_type": "code",
   "execution_count": 12,
   "id": "a490b1c3-c8b3-4956-ac54-05b513db8f30",
   "metadata": {},
   "outputs": [
    {
     "name": "stdout",
     "output_type": "stream",
     "text": [
      "766 ms ± 8.98 ms per loop (mean ± std. dev. of 7 runs, 1 loop each)\n"
     ]
    }
   ],
   "source": [
    "%timeit data = json.dumps({'array': str(a_bytes), 'H': 1000, 'W': 4096})"
   ]
  },
  {
   "cell_type": "code",
   "execution_count": null,
   "id": "80d2f6aa-cb7a-4e9c-805c-267ae0e1325f",
   "metadata": {},
   "outputs": [],
   "source": []
  }
 ],
 "metadata": {
  "kernelspec": {
   "display_name": "Python 3 (ipykernel)",
   "language": "python",
   "name": "python3"
  },
  "language_info": {
   "codemirror_mode": {
    "name": "ipython",
    "version": 3
   },
   "file_extension": ".py",
   "mimetype": "text/x-python",
   "name": "python",
   "nbconvert_exporter": "python",
   "pygments_lexer": "ipython3",
   "version": "3.11.0rc1"
  }
 },
 "nbformat": 4,
 "nbformat_minor": 5
}
