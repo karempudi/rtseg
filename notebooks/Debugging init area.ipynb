{
 "cells": [
  {
   "cell_type": "code",
   "execution_count": 1,
   "id": "9700696a-4eff-4a6c-b321-510f645d044d",
   "metadata": {},
   "outputs": [],
   "source": [
    "%reload_ext autoreload\n",
    "%autoreload 2"
   ]
  },
  {
   "cell_type": "code",
   "execution_count": 2,
   "id": "a456a918-8499-4109-9926-c019fc8354af",
   "metadata": {},
   "outputs": [],
   "source": [
    "import pandas as pd\n",
    "from pathlib import Path\n",
    "import polars as pl\n",
    "import ast\n",
    "import time\n",
    "import glob\n",
    "import numpy as np\n",
    "from scipy.special import erf\n",
    "from rtseg.utils.param_io import load_params\n",
    "from pathlib import Path\n",
    "import matplotlib.pyplot as plt\n",
    "from skimage.transform import resize\n",
    "from skimage.io import imread\n",
    "from rtseg.forkplot import compute_forkplot_stats\n",
    "from rtseg.cells.plotting import generate_abins_lbins, generate_fork_plot, get_bulk_init_area, slice_fork_plot_around_init\n",
    "from rtseg.cells.plotting import fast_generate_fork_plot\n",
    "import matplotlib.patches as patches\n",
    "from numba import jit, vectorize\n",
    "import glob\n",
    "import os\n",
    "%matplotlib qt5"
   ]
  },
  {
   "cell_type": "code",
   "execution_count": 3,
   "id": "c6f58d1a-f48a-4a76-92b0-81be3400fa62",
   "metadata": {},
   "outputs": [],
   "source": [
    "from scipy.optimize import curve_fit"
   ]
  },
  {
   "cell_type": "code",
   "execution_count": 4,
   "id": "c67eef35-5088-4eb3-929b-edf83e74386b",
   "metadata": {},
   "outputs": [],
   "source": [
    "params_path = Path(\"/home/pk/Documents//rtseg/rtseg/resources/reference_params/reference_microscope.yaml\")\n",
    "param = load_params(params_path, ref_type='expt')"
   ]
  },
  {
   "cell_type": "code",
   "execution_count": 5,
   "id": "689df6aa-86c1-427d-9ae3-b52d1a6b6ddd",
   "metadata": {},
   "outputs": [],
   "source": [
    "save_dir = Path(\"/mnt/sda1/REALTIME/analysis/EXP-25-CD0117/\")"
   ]
  },
  {
   "cell_type": "code",
   "execution_count": 8,
   "id": "f4f5a359-871a-459b-a170-5aeeb8fe2f06",
   "metadata": {},
   "outputs": [],
   "source": [
    "\n",
    "if os.name == 'nt':\n",
    "    use_pyarrow = True\n",
    "else:\n",
    "    use_pyarrow = False\n",
    "\n",
    "fork_filenames = glob.glob(str(save_dir / Path('Pos[0-9]*/forks.parquet')))\n",
    "columns_to_extract = ['area', 'length', 'normalized_internal_x', 'normalization_counts']\n",
    "data = pl.read_parquet(fork_filenames, use_pyarrow=use_pyarrow, columns=columns_to_extract)\n",
    "\n",
    "areas = data['area'].to_numpy()\n",
    "lengths = data['length'].to_numpy()\n",
    "longs = data['normalized_internal_x'].to_numpy()\n",
    "counts = data['normalization_counts'].to_numpy()\n",
    "\n",
    "\n",
    "bin_scale = param.Forkplots.bin_scale\n",
    "heatmap_threshold = param.Forkplots.heatmap_threshold\n",
    "pixel_size = param.Forkplots.pixel_size\n",
    "min_length = param.Forkplots.min_length\n",
    "arb_div_area = param.Forkplots.arb_div_area\n",
    "init_area_cv = param.Forkplots.init_area_cv \n",
    "\n",
    "heatmap, mean_cell_lengths, abins, lbins, extent = generate_fork_plot(areas, lengths, longs, counts,\n",
    "            bin_scale=bin_scale,\n",
    "            pixel_size=pixel_size,\n",
    "            heatmap_threshold=heatmap_threshold)\n",
    "\n",
    "init_area = get_bulk_init_area(areas, counts, longs, lengths, min_length=min_length, \n",
    "                           pixel_size=pixel_size, arb_div_area=arb_div_area)\n",
    "\n",
    "#area_bins_around_init, lbins_around_init, heatmap_around_init, mean_cell_lengths_around_init, abins_inds_around_init, lbins_inds_around_init = slice_fork_plot_around_init(abins, lbins, heatmap, mean_cell_lengths, init_area, init_area_cv)\n"
   ]
  },
  {
   "cell_type": "code",
   "execution_count": 9,
   "id": "20577cf9-87bf-481c-9eaf-e381c6034ea9",
   "metadata": {},
   "outputs": [
    {
     "data": {
      "text/plain": [
       "1.4930643001248802"
      ]
     },
     "execution_count": 9,
     "metadata": {},
     "output_type": "execute_result"
    }
   ],
   "source": [
    "init_area"
   ]
  },
  {
   "cell_type": "code",
   "execution_count": null,
   "id": "d676f0bb-4ea8-4820-b956-18f92180ba00",
   "metadata": {},
   "outputs": [],
   "source": []
  },
  {
   "cell_type": "markdown",
   "id": "c3cfba44-3b7e-412a-808c-97f2082d0102",
   "metadata": {},
   "source": [
    "### Random tests"
   ]
  },
  {
   "cell_type": "code",
   "execution_count": null,
   "id": "3508b2cf-866d-47fc-b51f-9fb97a63923f",
   "metadata": {},
   "outputs": [],
   "source": []
  },
  {
   "cell_type": "code",
   "execution_count": 10,
   "id": "ab025f9a-58b3-403f-8ff2-489dd55e5aed",
   "metadata": {},
   "outputs": [],
   "source": [
    "save_dir = Path(\"/mnt/sda1/REALTIME/analysis/EXP-25-CD0117/\")"
   ]
  },
  {
   "cell_type": "code",
   "execution_count": 13,
   "id": "74ae3d4a-89a4-4c5f-8af0-0a4ccebddc63",
   "metadata": {},
   "outputs": [],
   "source": [
    "a = sorted(list(save_dir.glob('Pos*')))"
   ]
  },
  {
   "cell_type": "code",
   "execution_count": 15,
   "id": "667c059f-4d77-4800-80c1-c82d3883d529",
   "metadata": {},
   "outputs": [
    {
     "data": {
      "text/plain": [
       "'Pos1'"
      ]
     },
     "execution_count": 15,
     "metadata": {},
     "output_type": "execute_result"
    }
   ],
   "source": [
    "a[0].name"
   ]
  },
  {
   "cell_type": "code",
   "execution_count": null,
   "id": "5abe350f-5451-4cc7-b6c4-018ce5c893c3",
   "metadata": {},
   "outputs": [],
   "source": []
  }
 ],
 "metadata": {
  "kernelspec": {
   "display_name": "Python 3 (ipykernel)",
   "language": "python",
   "name": "python3"
  },
  "language_info": {
   "codemirror_mode": {
    "name": "ipython",
    "version": 3
   },
   "file_extension": ".py",
   "mimetype": "text/x-python",
   "name": "python",
   "nbconvert_exporter": "python",
   "pygments_lexer": "ipython3",
   "version": "3.11.0rc1"
  }
 },
 "nbformat": 4,
 "nbformat_minor": 5
}
