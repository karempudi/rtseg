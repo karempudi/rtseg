{
 "cells": [
  {
   "cell_type": "code",
   "execution_count": 1,
   "id": "5649aaf4-d2fa-454f-8aa7-6348635051f4",
   "metadata": {},
   "outputs": [],
   "source": [
    "%reload_ext autoreload\n",
    "%autoreload 2"
   ]
  },
  {
   "cell_type": "code",
   "execution_count": 2,
   "id": "215b789c-41a9-47de-bc8d-245c33708c1e",
   "metadata": {},
   "outputs": [],
   "source": [
    "import numpy as np\n",
    "from rtseg.utils.param_io import load_params\n",
    "from pathlib import Path\n",
    "import matplotlib.pyplot as plt\n",
    "from skimage.transform import resize\n",
    "from skimage.io import imread\n",
    "import matplotlib.patches as patches\n",
    "%matplotlib qt5"
   ]
  },
  {
   "cell_type": "code",
   "execution_count": 3,
   "id": "75c4e7e7-1a23-43a3-a4e0-3b473fe4c822",
   "metadata": {},
   "outputs": [
    {
     "name": "stderr",
     "output_type": "stream",
     "text": [
      "/home/pk/Documents/rtclient/.venv/lib/python3.11/site-packages/albumentations/__init__.py:24: UserWarning: A new version of Albumentations is available: '2.0.1' (you have '2.0.0'). Upgrade using: pip install -U albumentations. To disable automatic update checks, set the environment variable NO_ALBUMENTATIONS_UPDATE to 1.\n",
      "  check_for_updates()\n"
     ]
    }
   ],
   "source": [
    "from rtseg.segmentation import LiveNet, get_live_model, live_segment"
   ]
  },
  {
   "cell_type": "code",
   "execution_count": 4,
   "id": "9247fa59-99c5-4d75-85b1-966976b0f75d",
   "metadata": {},
   "outputs": [],
   "source": [
    "params_path = Path(\"/home/pk/Documents/rtseg/rtseg/resources/reference_params/reference_linux.yaml\")\n",
    "params = load_params(params_path, ref_type='expt')"
   ]
  },
  {
   "cell_type": "code",
   "execution_count": 5,
   "id": "b8f07709-eed3-4d94-99f9-99863225ce2a",
   "metadata": {},
   "outputs": [],
   "source": [
    "phase_path = Path('/home/pk/Documents/rtclient/rtclient/resources/test_images/phase_dummy.tiff')\n",
    "fluor_path = Path('/home/pk/Documents/rtclient/rtclient/resources/test_images/fluor_dummy.tiff')\n",
    "phase_img = imread(phase_path).astype('float32')\n",
    "fluor_img = imread(fluor_path)\n",
    "datapoint = {\n",
    "    'phase': phase_img,\n",
    "    'fluor': fluor_img,\n",
    "    'position': 1,\n",
    "    'timepoint': 0,\n",
    "}"
   ]
  },
  {
   "cell_type": "code",
   "execution_count": 6,
   "id": "9441ce69-02b5-4812-b9d7-83f265940340",
   "metadata": {},
   "outputs": [],
   "source": [
    "live_net = get_live_model(params)"
   ]
  },
  {
   "cell_type": "code",
   "execution_count": 7,
   "id": "3ee9f0e6-8072-4d65-b5f3-34384513eb89",
   "metadata": {},
   "outputs": [],
   "source": [
    "seg_result = live_segment(datapoint, live_net, params)"
   ]
  },
  {
   "cell_type": "code",
   "execution_count": 8,
   "id": "780dca7e-0665-4773-b907-40c3046b87c0",
   "metadata": {},
   "outputs": [],
   "source": [
    "plt.figure()\n",
    "plt.imshow(seg_result['seg_mask'])\n",
    "plt.show()"
   ]
  },
  {
   "cell_type": "code",
   "execution_count": 9,
   "id": "dd5fe9f2-2287-47f4-8a92-17d665922682",
   "metadata": {},
   "outputs": [],
   "source": [
    "plt.figure()\n",
    "plt.imshow(phase_img)\n",
    "plt.show()"
   ]
  },
  {
   "cell_type": "code",
   "execution_count": null,
   "id": "fe5bc104-bd59-42d4-b6d3-acc9780897b9",
   "metadata": {},
   "outputs": [],
   "source": []
  },
  {
   "cell_type": "code",
   "execution_count": 11,
   "id": "28982b91-1930-4f46-b037-2b253220dffd",
   "metadata": {},
   "outputs": [],
   "source": [
    "fig, ax = plt.subplots()\n",
    "ax.imshow(phase_img, cmap='gray')\n",
    "for row in seg_result['barcode_locations']:\n",
    "    rect = patches.Rectangle((row[0], row[1]), row[2] - row[0], row[3] - row[1], linewidth=1, edgecolor='r', facecolor='none')\n",
    "    ax.add_patch(rect)\n",
    "plt.show()"
   ]
  },
  {
   "cell_type": "code",
   "execution_count": null,
   "id": "3fda26d5-063d-4642-8b51-f7534f862799",
   "metadata": {},
   "outputs": [],
   "source": []
  },
  {
   "cell_type": "code",
   "execution_count": 12,
   "id": "8b79803a-1707-4ab1-be63-b0b2781c1fc1",
   "metadata": {},
   "outputs": [
    {
     "data": {
      "text/plain": [
       "{'phase': array([[ 9191,  9630,  9750, ...,  9215,  9126,  8947],\n",
       "        [ 9543,  9264,  9978, ...,  8928,  8727,  9221],\n",
       "        [ 9442,  9854,  9719, ...,  9542,  9192,  9502],\n",
       "        ...,\n",
       "        [ 9132, 10096, 10089, ..., 10937, 10458, 10586],\n",
       "        [ 9916,  9450,  9832, ..., 10307, 10652, 11273],\n",
       "        [ 9788,  9445, 10127, ..., 10408, 10779, 10595]], dtype=uint16),\n",
       " 'fluor': array([[251, 201, 266, ..., 241, 200, 229],\n",
       "        [222, 220, 231, ..., 211, 221, 218],\n",
       "        [215, 220, 243, ..., 218, 222, 226],\n",
       "        ...,\n",
       "        [253, 260, 225, ..., 207, 244, 213],\n",
       "        [275, 195, 236, ..., 201, 239, 236],\n",
       "        [273, 254, 220, ..., 195, 215, 218]], dtype=uint16),\n",
       " 'position': 1,\n",
       " 'timepoint': 0,\n",
       " 'barcode_locations': [array([5.03924990e+00, 2.19385025e+02, 9.49055023e+01, 1.00268695e+03,\n",
       "         6.10479295e-01, 0.00000000e+00], dtype=float32),\n",
       "  array([1.4597417e+03, 3.3374533e+02, 1.5652759e+03, 1.1148585e+03,\n",
       "         6.3969195e-01, 0.0000000e+00], dtype=float32),\n",
       "  array([2.9446873e+03, 3.7736230e+02, 3.0228665e+03, 1.0973221e+03,\n",
       "         6.0869664e-01, 0.0000000e+00], dtype=float32)],\n",
       " 'seg_mask': array([[0, 0, 0, ..., 0, 0, 0],\n",
       "        [0, 0, 0, ..., 0, 0, 0],\n",
       "        [0, 0, 0, ..., 0, 0, 0],\n",
       "        ...,\n",
       "        [0, 0, 0, ..., 0, 0, 0],\n",
       "        [0, 0, 0, ..., 0, 0, 0],\n",
       "        [0, 0, 0, ..., 0, 0, 0]], dtype=int32),\n",
       " 'trap_locations_list': [116,\n",
       "  218,\n",
       "  320,\n",
       "  422,\n",
       "  524,\n",
       "  628,\n",
       "  728,\n",
       "  830,\n",
       "  933,\n",
       "  1035,\n",
       "  1137,\n",
       "  1239,\n",
       "  1340,\n",
       "  1444,\n",
       "  1583,\n",
       "  1686,\n",
       "  1787,\n",
       "  1891,\n",
       "  1996,\n",
       "  2095,\n",
       "  2196,\n",
       "  2299,\n",
       "  2404,\n",
       "  2506,\n",
       "  2606,\n",
       "  2708,\n",
       "  2811,\n",
       "  2913],\n",
       " 'num_traps': 28,\n",
       " 'error': False}"
      ]
     },
     "execution_count": 12,
     "metadata": {},
     "output_type": "execute_result"
    }
   ],
   "source": [
    "seg_result"
   ]
  },
  {
   "cell_type": "code",
   "execution_count": null,
   "id": "21b6ab95-d390-46f3-a085-b161a0175cec",
   "metadata": {},
   "outputs": [],
   "source": []
  }
 ],
 "metadata": {
  "kernelspec": {
   "display_name": "Python 3 (ipykernel)",
   "language": "python",
   "name": "python3"
  },
  "language_info": {
   "codemirror_mode": {
    "name": "ipython",
    "version": 3
   },
   "file_extension": ".py",
   "mimetype": "text/x-python",
   "name": "python",
   "nbconvert_exporter": "python",
   "pygments_lexer": "ipython3",
   "version": "3.11.0rc1"
  }
 },
 "nbformat": 4,
 "nbformat_minor": 5
}
