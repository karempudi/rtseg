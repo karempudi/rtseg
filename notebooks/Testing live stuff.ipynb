{
 "cells": [
  {
   "cell_type": "code",
   "execution_count": 1,
   "id": "5649aaf4-d2fa-454f-8aa7-6348635051f4",
   "metadata": {},
   "outputs": [],
   "source": [
    "%reload_ext autoreload\n",
    "%autoreload 2"
   ]
  },
  {
   "cell_type": "code",
   "execution_count": 2,
   "id": "215b789c-41a9-47de-bc8d-245c33708c1e",
   "metadata": {},
   "outputs": [],
   "source": [
    "import numpy as np\n",
    "from rtseg.utils.param_io import load_params\n",
    "from pathlib import Path\n",
    "import matplotlib.pyplot as plt\n",
    "from skimage.transform import resize\n",
    "from skimage.io import imread\n",
    "from rtseg.forkplot import compute_forkplot_stats\n",
    "import matplotlib.patches as patches\n",
    "%matplotlib qt5"
   ]
  },
  {
   "cell_type": "code",
   "execution_count": 3,
   "id": "75c4e7e7-1a23-43a3-a4e0-3b473fe4c822",
   "metadata": {},
   "outputs": [
    {
     "name": "stderr",
     "output_type": "stream",
     "text": [
      "/home/pk/Documents/rtclient/.venv/lib/python3.11/site-packages/albumentations/__init__.py:24: UserWarning: A new version of Albumentations is available: '2.0.3' (you have '2.0.0'). Upgrade using: pip install -U albumentations. To disable automatic update checks, set the environment variable NO_ALBUMENTATIONS_UPDATE to 1.\n",
      "  check_for_updates()\n"
     ]
    }
   ],
   "source": [
    "from rtseg.segmentation import LiveNet, get_live_model, live_segment"
   ]
  },
  {
   "cell_type": "code",
   "execution_count": 4,
   "id": "9247fa59-99c5-4d75-85b1-966976b0f75d",
   "metadata": {},
   "outputs": [],
   "source": [
    "params_path = Path(\"/home/pk/Documents/rtseg/rtseg/resources/reference_params/reference_linux.yaml\")\n",
    "params = load_params(params_path, ref_type='expt')"
   ]
  },
  {
   "cell_type": "code",
   "execution_count": 5,
   "id": "b8f07709-eed3-4d94-99f9-99863225ce2a",
   "metadata": {},
   "outputs": [],
   "source": [
    "phase_path = Path('/home/pk/Documents/rtclient/rtclient/resources/test_images/phase_dummy.tiff')\n",
    "fluor_path = Path('/home/pk/Documents/rtclient/rtclient/resources/test_images/fluor_dummy.tiff')\n",
    "phase_img = imread(phase_path).astype('float32')\n",
    "fluor_img = imread(fluor_path)\n",
    "datapoint = {\n",
    "    'phase': phase_img,\n",
    "    'fluor': fluor_img,\n",
    "    'position': 1,\n",
    "    'timepoint': 0,\n",
    "}"
   ]
  },
  {
   "cell_type": "code",
   "execution_count": 6,
   "id": "9441ce69-02b5-4812-b9d7-83f265940340",
   "metadata": {},
   "outputs": [],
   "source": [
    "live_net = get_live_model(params)"
   ]
  },
  {
   "cell_type": "code",
   "execution_count": 7,
   "id": "3ee9f0e6-8072-4d65-b5f3-34384513eb89",
   "metadata": {},
   "outputs": [],
   "source": [
    "seg_result = live_segment(datapoint, live_net, params)"
   ]
  },
  {
   "cell_type": "code",
   "execution_count": 8,
   "id": "780dca7e-0665-4773-b907-40c3046b87c0",
   "metadata": {},
   "outputs": [],
   "source": [
    "plt.figure()\n",
    "plt.imshow(seg_result['seg_mask'])\n",
    "plt.show()"
   ]
  },
  {
   "cell_type": "code",
   "execution_count": 9,
   "id": "dd5fe9f2-2287-47f4-8a92-17d665922682",
   "metadata": {},
   "outputs": [],
   "source": [
    "plt.figure()\n",
    "plt.imshow(phase_img)\n",
    "plt.show()"
   ]
  },
  {
   "cell_type": "code",
   "execution_count": null,
   "id": "fe5bc104-bd59-42d4-b6d3-acc9780897b9",
   "metadata": {},
   "outputs": [],
   "source": []
  },
  {
   "cell_type": "code",
   "execution_count": 10,
   "id": "28982b91-1930-4f46-b037-2b253220dffd",
   "metadata": {},
   "outputs": [],
   "source": [
    "fig, ax = plt.subplots()\n",
    "ax.imshow(phase_img, cmap='gray')\n",
    "for row in seg_result['barcode_locations']:\n",
    "    rect = patches.Rectangle((row[0], row[1]), row[2] - row[0], row[3] - row[1], linewidth=1, edgecolor='r', facecolor='none')\n",
    "    ax.add_patch(rect)\n",
    "plt.show()"
   ]
  },
  {
   "cell_type": "markdown",
   "id": "6f53339c-bca7-4e40-93a6-77d5194e09a4",
   "metadata": {},
   "source": [
    "### Dot coorindates"
   ]
  },
  {
   "cell_type": "code",
   "execution_count": 11,
   "id": "21b6ab95-d390-46f3-a085-b161a0175cec",
   "metadata": {},
   "outputs": [],
   "source": [
    "from rtseg.dotdetect import compute_dot_coordinates"
   ]
  },
  {
   "cell_type": "code",
   "execution_count": 12,
   "id": "eba93c14-b3aa-407f-ac01-09d3f8a31b75",
   "metadata": {},
   "outputs": [
    {
     "data": {
      "text/plain": [
       "'cuda:0'"
      ]
     },
     "execution_count": 12,
     "metadata": {},
     "output_type": "execute_result"
    }
   ],
   "source": [
    "params.Hardware.device"
   ]
  },
  {
   "cell_type": "code",
   "execution_count": 13,
   "id": "b4bf950b-3af9-444a-a149-80b6c578aa2e",
   "metadata": {},
   "outputs": [],
   "source": [
    "dots= compute_dot_coordinates(seg_result['fluor'], seg_result['seg_mask'], params)"
   ]
  },
  {
   "cell_type": "code",
   "execution_count": 14,
   "id": "30219de8-bd20-44a8-956c-166e0a4a2acf",
   "metadata": {},
   "outputs": [
    {
     "data": {
      "text/plain": [
       "{'raw_coords': array([[ 790.09599631, 1478.81642799],\n",
       "        [1264.70615296, 3027.29873491],\n",
       "        [ 278.22508568, 2941.70431803],\n",
       "        ...,\n",
       "        [1014.99314642,  100.4847352 ],\n",
       "        [ 168.46496874,   18.97020964],\n",
       "        [ 170.55851776,   10.02274833]]),\n",
       " 'rotated_coords': array([[1556.18357201,  790.09599631],\n",
       "        [   7.70126509, 1264.70615296],\n",
       "        [  93.29568197,  278.22508568],\n",
       "        ...,\n",
       "        [2934.5152648 , 1014.99314642],\n",
       "        [3016.02979036,  168.46496874],\n",
       "        [3024.97725167,  170.55851776]])}"
      ]
     },
     "execution_count": 14,
     "metadata": {},
     "output_type": "execute_result"
    }
   ],
   "source": [
    "dots"
   ]
  },
  {
   "cell_type": "code",
   "execution_count": 15,
   "id": "f1974e68-2b28-4137-b3a6-96ff35ba5274",
   "metadata": {},
   "outputs": [],
   "source": [
    "def plot_dots(fluor_image, dots):\n",
    "    plt.figure()\n",
    "    plt.imshow(fluor_image)\n",
    "    plt.plot(dots[:, 1], dots[:, 0], 'ro')\n",
    "    plt.show()"
   ]
  },
  {
   "cell_type": "code",
   "execution_count": 16,
   "id": "16ebebd6-767c-4b98-8724-a5893387444a",
   "metadata": {},
   "outputs": [],
   "source": [
    "plot_dots(seg_result['seg_mask'], dots['raw_coords'])"
   ]
  },
  {
   "cell_type": "markdown",
   "id": "8348d46a-4b7c-41e4-8421-c1b40b1d1535",
   "metadata": {},
   "source": [
    "### Computing Internal coordinates to plot"
   ]
  },
  {
   "cell_type": "code",
   "execution_count": 17,
   "id": "c6d1d54a-02ef-4d6b-9574-e1a1c8316dfa",
   "metadata": {},
   "outputs": [],
   "source": [
    "from rtseg.cells.utils import regionprops_custom"
   ]
  },
  {
   "cell_type": "code",
   "execution_count": 18,
   "id": "d81ed02c-bf87-476e-9f8e-7128abc62332",
   "metadata": {},
   "outputs": [],
   "source": [
    "trap_locations = seg_result['trap_locations_list']"
   ]
  },
  {
   "cell_type": "code",
   "execution_count": 19,
   "id": "c31f6e4c-917d-48cc-b55e-b629beeb574c",
   "metadata": {},
   "outputs": [],
   "source": [
    "fork_stats = compute_forkplot_stats(seg_result['seg_mask'], dots['rotated_coords'], trap_locations=trap_locations)"
   ]
  },
  {
   "cell_type": "code",
   "execution_count": 20,
   "id": "46989550-408c-4747-8b22-e17493d83fbe",
   "metadata": {},
   "outputs": [],
   "source": [
    "def transform_to_polars(stats):\n",
    "    keys = stats.keys()"
   ]
  },
  {
   "cell_type": "code",
   "execution_count": 21,
   "id": "4a78a0fc-a771-410c-a1e4-2f25d76bce54",
   "metadata": {},
   "outputs": [],
   "source": [
    "stats = fork_stats"
   ]
  },
  {
   "cell_type": "code",
   "execution_count": 22,
   "id": "0ad0fde8-2056-492b-92e0-18fe6b2ab1f3",
   "metadata": {},
   "outputs": [
    {
     "data": {
      "text/plain": [
       "dict_keys(['position', 'timepoint', 'trap', 'cell_label', 'area', 'length', 'normalization_counts', 'internal_coord', 'normalized_internal_x', 'bbox', 'global_coords', 'local_coords'])"
      ]
     },
     "execution_count": 22,
     "metadata": {},
     "output_type": "execute_result"
    }
   ],
   "source": [
    "stats[0].keys()"
   ]
  },
  {
   "cell_type": "code",
   "execution_count": 23,
   "id": "c0630c69-6dc2-47ca-8c2e-dc34dd0cb53b",
   "metadata": {},
   "outputs": [],
   "source": [
    "d = {key: [] for key in stats[0].keys()}"
   ]
  },
  {
   "cell_type": "code",
   "execution_count": 24,
   "id": "ca2cd6ae-2408-4723-9c1d-6a184f66be2d",
   "metadata": {},
   "outputs": [],
   "source": [
    "for i in range(len(stats)):\n",
    "    for key, value in stats[i].items():\n",
    "        d[key].append(value)"
   ]
  },
  {
   "cell_type": "code",
   "execution_count": 25,
   "id": "4acc04d7-0b8f-4c66-83b7-d4331cfaf00e",
   "metadata": {},
   "outputs": [],
   "source": [
    "import polars as pl"
   ]
  },
  {
   "cell_type": "code",
   "execution_count": 26,
   "id": "a48a0637-6584-4681-bbef-8a2684c75b4f",
   "metadata": {},
   "outputs": [],
   "source": [
    "df = pl.DataFrame(d)"
   ]
  },
  {
   "cell_type": "code",
   "execution_count": 27,
   "id": "df400408-65b7-4253-a6fe-1cab98d34bed",
   "metadata": {},
   "outputs": [
    {
     "data": {
      "text/plain": [
       "Schema([('position', Int64),\n",
       "        ('timepoint', Int64),\n",
       "        ('trap', Int64),\n",
       "        ('cell_label', Int32),\n",
       "        ('area', Float64),\n",
       "        ('length', Float64),\n",
       "        ('normalization_counts', Int64),\n",
       "        ('internal_coord', List(Float64)),\n",
       "        ('normalized_internal_x', Float64),\n",
       "        ('bbox', List(Int64)),\n",
       "        ('global_coords', List(Float64)),\n",
       "        ('local_coords', List(Float64))])"
      ]
     },
     "execution_count": 27,
     "metadata": {},
     "output_type": "execute_result"
    }
   ],
   "source": [
    "df.schema"
   ]
  },
  {
   "cell_type": "code",
   "execution_count": 28,
   "id": "4d26b62c-a07d-42c1-ba59-9cac57b9d424",
   "metadata": {},
   "outputs": [
    {
     "data": {
      "text/plain": [
       "(901, 12)"
      ]
     },
     "execution_count": 28,
     "metadata": {},
     "output_type": "execute_result"
    }
   ],
   "source": [
    "df.shape"
   ]
  },
  {
   "cell_type": "code",
   "execution_count": 29,
   "id": "38ae591b-e462-42e2-9df9-676d97fe3e03",
   "metadata": {},
   "outputs": [],
   "source": [
    "import glob"
   ]
  },
  {
   "cell_type": "code",
   "execution_count": 30,
   "id": "b868b4b1-4a50-4bfb-ba6e-9e9d666f68dc",
   "metadata": {},
   "outputs": [
    {
     "data": {
      "text/plain": [
       "['/mnt/sda1/REALTIME/test_runs/Pos15/forks.parquet',\n",
       " '/mnt/sda1/REALTIME/test_runs/Pos5/forks.parquet',\n",
       " '/mnt/sda1/REALTIME/test_runs/Pos29/forks.parquet',\n",
       " '/mnt/sda1/REALTIME/test_runs/Pos2/forks.parquet',\n",
       " '/mnt/sda1/REALTIME/test_runs/Pos3/forks.parquet',\n",
       " '/mnt/sda1/REALTIME/test_runs/Pos10/forks.parquet',\n",
       " '/mnt/sda1/REALTIME/test_runs/Pos21/forks.parquet',\n",
       " '/mnt/sda1/REALTIME/test_runs/Pos17/forks.parquet',\n",
       " '/mnt/sda1/REALTIME/test_runs/Pos26/forks.parquet',\n",
       " '/mnt/sda1/REALTIME/test_runs/Pos8/forks.parquet',\n",
       " '/mnt/sda1/REALTIME/test_runs/Pos11/forks.parquet',\n",
       " '/mnt/sda1/REALTIME/test_runs/Pos24/forks.parquet',\n",
       " '/mnt/sda1/REALTIME/test_runs/Pos23/forks.parquet',\n",
       " '/mnt/sda1/REALTIME/test_runs/Pos20/forks.parquet',\n",
       " '/mnt/sda1/REALTIME/test_runs/Pos22/forks.parquet',\n",
       " '/mnt/sda1/REALTIME/test_runs/Pos6/forks.parquet',\n",
       " '/mnt/sda1/REALTIME/test_runs/Pos13/forks.parquet',\n",
       " '/mnt/sda1/REALTIME/test_runs/Pos12/forks.parquet',\n",
       " '/mnt/sda1/REALTIME/test_runs/Pos16/forks.parquet',\n",
       " '/mnt/sda1/REALTIME/test_runs/Pos18/forks.parquet',\n",
       " '/mnt/sda1/REALTIME/test_runs/Pos27/forks.parquet',\n",
       " '/mnt/sda1/REALTIME/test_runs/Pos1/forks.parquet',\n",
       " '/mnt/sda1/REALTIME/test_runs/Pos19/forks.parquet',\n",
       " '/mnt/sda1/REALTIME/test_runs/Pos30/forks.parquet',\n",
       " '/mnt/sda1/REALTIME/test_runs/Pos14/forks.parquet',\n",
       " '/mnt/sda1/REALTIME/test_runs/Pos9/forks.parquet',\n",
       " '/mnt/sda1/REALTIME/test_runs/Pos28/forks.parquet',\n",
       " '/mnt/sda1/REALTIME/test_runs/Pos7/forks.parquet',\n",
       " '/mnt/sda1/REALTIME/test_runs/Pos4/forks.parquet',\n",
       " '/mnt/sda1/REALTIME/test_runs/Pos25/forks.parquet']"
      ]
     },
     "execution_count": 30,
     "metadata": {},
     "output_type": "execute_result"
    }
   ],
   "source": [
    "glob.glob(\"/mnt/sda1/REALTIME/test_runs/Pos[0-9]*/forks.parquet\")"
   ]
  },
  {
   "cell_type": "code",
   "execution_count": null,
   "id": "37fcda14-1494-4c6a-a0be-071d5db2d661",
   "metadata": {},
   "outputs": [],
   "source": []
  },
  {
   "cell_type": "code",
   "execution_count": 31,
   "id": "e1c84192-8dec-4e35-b7a4-0d6d19aeac6b",
   "metadata": {},
   "outputs": [],
   "source": [
    "path = Path(\"/mnt/sda1/REALTIME/test_runs/Pos[0-999]/forks.parquet\")\n"
   ]
  },
  {
   "cell_type": "code",
   "execution_count": null,
   "id": "ce6f7f2b-a053-4f70-a674-ea3f70f87715",
   "metadata": {},
   "outputs": [],
   "source": []
  },
  {
   "cell_type": "code",
   "execution_count": null,
   "id": "79709095-71d4-45a5-a879-d83a84486b46",
   "metadata": {},
   "outputs": [],
   "source": []
  },
  {
   "cell_type": "code",
   "execution_count": 67,
   "id": "3fb7ae3f-968c-4e6a-a47e-0ca580cd4e88",
   "metadata": {},
   "outputs": [
    {
     "name": "stdout",
     "output_type": "stream",
     "text": [
      "shape: (567_630, 12)\n",
      "┌──────────┬───────────┬──────┬────────────┬───┬────────────┬────────────┬────────────┬────────────┐\n",
      "│ position ┆ timepoint ┆ trap ┆ cell_label ┆ … ┆ normalized ┆ bbox       ┆ global_coo ┆ local_coor │\n",
      "│ ---      ┆ ---       ┆ ---  ┆ ---        ┆   ┆ _internal_ ┆ ---        ┆ rds        ┆ ds         │\n",
      "│ i64      ┆ i64       ┆ i64  ┆ i32        ┆   ┆ x          ┆ list[i64]  ┆ ---        ┆ ---        │\n",
      "│          ┆           ┆      ┆            ┆   ┆ ---        ┆            ┆ list[f64]  ┆ list[f64]  │\n",
      "│          ┆           ┆      ┆            ┆   ┆ f64        ┆            ┆            ┆            │\n",
      "╞══════════╪═══════════╪══════╪════════════╪═══╪════════════╪════════════╪════════════╪════════════╡\n",
      "│ 15       ┆ 0         ┆ 0    ┆ 20         ┆ … ┆ 0.183908   ┆ [2898,     ┆ [2903.0426 ┆ [5.042699, │\n",
      "│          ┆           ┆      ┆            ┆   ┆            ┆ 231, …     ┆ 99, 245.74 ┆ 14.743775] │\n",
      "│          ┆           ┆      ┆            ┆   ┆            ┆ 309]       ┆ 3775]      ┆            │\n",
      "│ 15       ┆ 0         ┆ 0    ┆ 20         ┆ … ┆ 0.072268   ┆ [2898,     ┆ [2902.0181 ┆ [4.018189, │\n",
      "│          ┆           ┆      ┆            ┆   ┆            ┆ 231, …     ┆ 89, 236.99 ┆ 5.998875]  │\n",
      "│          ┆           ┆      ┆            ┆   ┆            ┆ 309]       ┆ 8875]      ┆            │\n",
      "│ 15       ┆ 0         ┆ 0    ┆ 20         ┆ … ┆ 0.738573   ┆ [2898,     ┆ [2909.5220 ┆ [11.522023 │\n",
      "│          ┆           ┆      ┆            ┆   ┆            ┆ 231, …     ┆ 23, 288.39 ┆ ,          │\n",
      "│          ┆           ┆      ┆            ┆   ┆            ┆ 309]       ┆ 5867]      ┆ 57.395867] │\n",
      "│ 15       ┆ 0         ┆ 0    ┆ 20         ┆ … ┆ 0.671923   ┆ [2898,     ┆ [2910.4303 ┆ [12.430389 │\n",
      "│          ┆           ┆      ┆            ┆   ┆            ┆ 231, …     ┆ 89, 283.09 ┆ ,          │\n",
      "│          ┆           ┆      ┆            ┆   ┆            ┆ 309]       ┆ 4935]      ┆ 52.094935] │\n",
      "│ 15       ┆ 0         ┆ 0    ┆ 55         ┆ … ┆ 0.221126   ┆ [2901,     ┆ [2910.2935 ┆ [9.29358,  │\n",
      "│          ┆           ┆      ┆            ┆   ┆            ┆ 312, …     ┆ 8, 328.283 ┆ 16.283664] │\n",
      "│          ┆           ┆      ┆            ┆   ┆            ┆ 385]       ┆ 664]       ┆            │\n",
      "│ …        ┆ …         ┆ …    ┆ …          ┆ … ┆ …          ┆ …          ┆ …          ┆ …          │\n",
      "│ 25       ┆ 20        ┆ 9    ┆ 285        ┆ … ┆ 0.752942   ┆ [1999,     ┆ [2012.0545 ┆ [13.054529 │\n",
      "│          ┆           ┆      ┆            ┆   ┆            ┆ 936, …     ┆ 29, 970.84 ┆ ,          │\n",
      "│          ┆           ┆      ┆            ┆   ┆            ┆ 984]       ┆ 4598]      ┆ 34.844598] │\n",
      "│ 25       ┆ 20        ┆ 9    ┆ 298        ┆ … ┆ 0.321589   ┆ [2000,     ┆ [2009.0519 ┆ [9.051945, │\n",
      "│          ┆           ┆      ┆            ┆   ┆            ┆ 983, …     ┆ 45, 1012.5 ┆ 29.519718] │\n",
      "│          ┆           ┆      ┆            ┆   ┆            ┆ 1077]      ┆ 19718]     ┆            │\n",
      "│ 25       ┆ 20        ┆ 9    ┆ 298        ┆ … ┆ 0.52181    ┆ [2000,     ┆ [2015.4905 ┆ [15.490588 │\n",
      "│          ┆           ┆      ┆            ┆   ┆            ┆ 983, …     ┆ 88, 1030.4 ┆ ,          │\n",
      "│          ┆           ┆      ┆            ┆   ┆            ┆ 1077]      ┆ 96327]     ┆ 47.496327] │\n",
      "│ 25       ┆ 20        ┆ 9    ┆ 328        ┆ … ┆ 0.769368   ┆ [2003,     ┆ [2012.9582 ┆ [9.958244, │\n",
      "│          ┆           ┆      ┆            ┆   ┆            ┆ 1073, …    ┆ 44, 1148.4 ┆ 75.462952] │\n",
      "│          ┆           ┆      ┆            ┆   ┆            ┆ 1172]      ┆ 62952]     ┆            │\n",
      "│ 25       ┆ 20        ┆ 9    ┆ 350        ┆ … ┆ 0.252981   ┆ [2005,     ┆ [2011.7350 ┆ [6.735057, │\n",
      "│          ┆           ┆      ┆            ┆   ┆            ┆ 1172, …    ┆ 57, 1180.8 ┆ 8.854089]  │\n",
      "│          ┆           ┆      ┆            ┆   ┆            ┆ 1211]      ┆ 54089]     ┆            │\n",
      "└──────────┴───────────┴──────┴────────────┴───┴────────────┴────────────┴────────────┴────────────┘\n"
     ]
    }
   ],
   "source": [
    "# Define the columns you want to extract\n",
    "columns_to_extract = ['area', 'length', 'normalized_internal_x', 'normalization_counts']\n",
    "\n",
    "# Read the Parquet files and extract specified columns\n",
    "#df = pl.read_parquet(glob.glob(\"/mnt/sda1/REALTIME/test_runs/Pos[0-9]*/forks.parquet\"), columns=columns_to_extract)\n",
    "df = pl.read_parquet(glob.glob(\"/mnt/sda1/REALTIME/test_runs/Pos[0-9]*/forks.parquet\"))\n",
    "# Display the resulting DataFrame\n",
    "print(df)"
   ]
  },
  {
   "cell_type": "code",
   "execution_count": 68,
   "id": "7439d9b0-8b8c-43d3-b875-f1f9617dd166",
   "metadata": {},
   "outputs": [
    {
     "data": {
      "text/plain": [
       "Schema([('position', Int64),\n",
       "        ('timepoint', Int64),\n",
       "        ('trap', Int64),\n",
       "        ('cell_label', Int32),\n",
       "        ('area', Float64),\n",
       "        ('length', Float64),\n",
       "        ('normalization_counts', Int64),\n",
       "        ('internal_coord', List(Float64)),\n",
       "        ('normalized_internal_x', Float64),\n",
       "        ('bbox', List(Int64)),\n",
       "        ('global_coords', List(Float64)),\n",
       "        ('local_coords', List(Float64))])"
      ]
     },
     "execution_count": 68,
     "metadata": {},
     "output_type": "execute_result"
    }
   ],
   "source": [
    "df.schema"
   ]
  },
  {
   "cell_type": "code",
   "execution_count": null,
   "id": "f3b2ea2f-8f60-49c5-83e9-eba02438ae9e",
   "metadata": {},
   "outputs": [],
   "source": []
  },
  {
   "cell_type": "code",
   "execution_count": null,
   "id": "7f275823-c5e5-4964-ba5e-f63c1d498ccc",
   "metadata": {},
   "outputs": [],
   "source": []
  },
  {
   "cell_type": "markdown",
   "id": "26ed4943-6e23-4f9f-b039-de260aff1404",
   "metadata": {},
   "source": [
    "### Read pandas and convert to parquet"
   ]
  },
  {
   "cell_type": "code",
   "execution_count": 3,
   "id": "3507184c-95cd-4b51-8680-2060ef782169",
   "metadata": {},
   "outputs": [],
   "source": [
    "import pandas as pd\n",
    "from pathlib import Path\n",
    "import polars as pl\n",
    "import ast\n",
    "import glob\n",
    "\n",
    "# Define a custom converter function\n",
    "def safe_literal_eval(value):\n",
    "    try:\n",
    "        return ast.literal_eval(value)\n",
    "    except (SyntaxError, ValueError):\n",
    "        return None  # or any other default value"
   ]
  },
  {
   "cell_type": "code",
   "execution_count": 4,
   "id": "6739fe20-b480-49a9-bb6d-197545ed452d",
   "metadata": {},
   "outputs": [],
   "source": [
    "save_dir = Path(\"F:Oscar/EXP-25-CD0117/live_run/\")"
   ]
  },
  {
   "cell_type": "code",
   "execution_count": null,
   "id": "add32d07-3bc5-47ff-b424-a53b159c6df6",
   "metadata": {},
   "outputs": [],
   "source": []
  },
  {
   "cell_type": "code",
   "execution_count": 10,
   "id": "f9359264-7a8f-4c0b-bc43-20cc13cef866",
   "metadata": {},
   "outputs": [],
   "source": [
    "fork_filenames = glob.glob(str(save_dir / Path('Pos[0-9]*/forks.parquet')))\n",
    "columns_to_extract = ['area', 'length', 'normalized_internal_x', 'normalization_counts']\n",
    "data = pl.read_parquet(fork_filenames, use_pyarrow=True, columns=columns_to_extract)\n"
   ]
  },
  {
   "cell_type": "code",
   "execution_count": 11,
   "id": "3a802b8b-4dc5-42c9-ab8c-ae85c5353df6",
   "metadata": {},
   "outputs": [
    {
     "data": {
      "text/plain": [
       "(9591797, 4)"
      ]
     },
     "execution_count": 11,
     "metadata": {},
     "output_type": "execute_result"
    }
   ],
   "source": [
    "data.shape"
   ]
  },
  {
   "cell_type": "code",
   "execution_count": null,
   "id": "698a1d13-d29e-49f8-b2c6-fed43442995f",
   "metadata": {},
   "outputs": [],
   "source": []
  },
  {
   "cell_type": "code",
   "execution_count": 7,
   "id": "6cb3fc39-5141-4b4c-be06-bd7a4e503ac2",
   "metadata": {},
   "outputs": [
    {
     "name": "stdout",
     "output_type": "stream",
     "text": [
      "F:Oscar\\EXP-25-CD0117\\live_run\\Pos1\\forks.parquet (347576, 12)\n",
      "F:Oscar\\EXP-25-CD0117\\live_run\\Pos10\\forks.parquet (314135, 12)\n",
      "F:Oscar\\EXP-25-CD0117\\live_run\\Pos11\\forks.parquet (301068, 12)\n",
      "F:Oscar\\EXP-25-CD0117\\live_run\\Pos12\\forks.parquet (333604, 12)\n",
      "F:Oscar\\EXP-25-CD0117\\live_run\\Pos13\\forks.parquet (332025, 12)\n",
      "F:Oscar\\EXP-25-CD0117\\live_run\\Pos14\\forks.parquet (299641, 12)\n",
      "F:Oscar\\EXP-25-CD0117\\live_run\\Pos15\\forks.parquet (321389, 12)\n",
      "F:Oscar\\EXP-25-CD0117\\live_run\\Pos16\\forks.parquet (326609, 12)\n",
      "F:Oscar\\EXP-25-CD0117\\live_run\\Pos17\\forks.parquet (318428, 12)\n",
      "F:Oscar\\EXP-25-CD0117\\live_run\\Pos18\\forks.parquet (314377, 12)\n",
      "F:Oscar\\EXP-25-CD0117\\live_run\\Pos19\\forks.parquet (342689, 12)\n",
      "F:Oscar\\EXP-25-CD0117\\live_run\\Pos2\\forks.parquet (289667, 12)\n",
      "F:Oscar\\EXP-25-CD0117\\live_run\\Pos20\\forks.parquet (336885, 12)\n",
      "F:Oscar\\EXP-25-CD0117\\live_run\\Pos21\\forks.parquet (308606, 12)\n",
      "F:Oscar\\EXP-25-CD0117\\live_run\\Pos22\\forks.parquet (322492, 12)\n",
      "F:Oscar\\EXP-25-CD0117\\live_run\\Pos23\\forks.parquet (330188, 12)\n",
      "F:Oscar\\EXP-25-CD0117\\live_run\\Pos24\\forks.parquet (321695, 12)\n",
      "F:Oscar\\EXP-25-CD0117\\live_run\\Pos25\\forks.parquet (327564, 12)\n",
      "F:Oscar\\EXP-25-CD0117\\live_run\\Pos26\\forks.parquet (328894, 12)\n",
      "F:Oscar\\EXP-25-CD0117\\live_run\\Pos27\\forks.parquet (335829, 12)\n",
      "F:Oscar\\EXP-25-CD0117\\live_run\\Pos28\\forks.parquet (296239, 12)\n",
      "F:Oscar\\EXP-25-CD0117\\live_run\\Pos29\\forks.parquet (315298, 12)\n",
      "F:Oscar\\EXP-25-CD0117\\live_run\\Pos3\\forks.parquet (293883, 12)\n",
      "F:Oscar\\EXP-25-CD0117\\live_run\\Pos30\\forks.parquet (293664, 12)\n",
      "F:Oscar\\EXP-25-CD0117\\live_run\\Pos4\\forks.parquet (298444, 12)\n",
      "F:Oscar\\EXP-25-CD0117\\live_run\\Pos5\\forks.parquet (336592, 12)\n",
      "F:Oscar\\EXP-25-CD0117\\live_run\\Pos6\\forks.parquet (334048, 12)\n",
      "F:Oscar\\EXP-25-CD0117\\live_run\\Pos7\\forks.parquet (320999, 12)\n",
      "F:Oscar\\EXP-25-CD0117\\live_run\\Pos8\\forks.parquet (332399, 12)\n",
      "F:Oscar\\EXP-25-CD0117\\live_run\\Pos9\\forks.parquet (316870, 12)\n"
     ]
    }
   ],
   "source": [
    "\n",
    "forks_filenames = [position_dir / Path('forks.csv') for position_dir in list(save_dir.glob('Pos*'))]\n",
    "schema = {\n",
    "        'position':pl.Int64,\n",
    "        'timepoint':pl.Int64,\n",
    "        'trap' : pl.Int64,\n",
    "        'cell_label': pl.Int32,\n",
    "        'area' : pl.Float64,\n",
    "        'length' : pl.Float64,\n",
    "        'normalization_counts' :pl.Int64,\n",
    "        'internal_coord': pl.List(pl.Float64),\n",
    "        'normalized_internal_x': pl.Float64,\n",
    "        'bbox' : pl.List(pl.Int64),\n",
    "        'global_coords' : pl.List(pl.Float64),\n",
    "        'local_coords' : pl.List(pl.Float64)\n",
    "}\n",
    "for filename in forks_filenames:\n",
    "    dataframes = pd.read_csv(filename, converters= {'internal_coord': safe_literal_eval,\n",
    "                                                             'bbox': safe_literal_eval,\n",
    "                                                             'global_coords': safe_literal_eval,\n",
    "                                                             'local_coords': safe_literal_eval})\n",
    "    df2 = pl.from_pandas(dataframes, schema_overrides=schema)\n",
    "    write_path = filename.parent / Path('forks.parquet')\n",
    "    df2.write_parquet(write_path, use_pyarrow=True, partition_by='trap')\n",
    "    print(write_path, df2.shape)"
   ]
  },
  {
   "cell_type": "code",
   "execution_count": null,
   "id": "bdf288ec-044a-4577-be59-6e796e9abe78",
   "metadata": {},
   "outputs": [],
   "source": []
  },
  {
   "cell_type": "code",
   "execution_count": null,
   "id": "776b67a9-b70b-4be8-8965-d468121226ad",
   "metadata": {},
   "outputs": [],
   "source": []
  },
  {
   "cell_type": "code",
   "execution_count": null,
   "id": "07d8c1f6-5325-4a28-8c73-374a38bd6a0f",
   "metadata": {},
   "outputs": [],
   "source": [
    "s"
   ]
  },
  {
   "cell_type": "code",
   "execution_count": null,
   "id": "9ee2f1b9-4c56-4afc-9202-be49e81220ed",
   "metadata": {},
   "outputs": [],
   "source": []
  },
  {
   "cell_type": "code",
   "execution_count": null,
   "id": "34f06c10-6ac8-4e5a-b0be-e568e80b255f",
   "metadata": {},
   "outputs": [],
   "source": []
  },
  {
   "cell_type": "code",
   "execution_count": 12,
   "id": "19ec282e-b99d-4250-8916-cacddff93a6e",
   "metadata": {},
   "outputs": [
    {
     "data": {
      "text/plain": [
       "WindowsPath('F:Oscar/EXP-25-CD0117/live_run/Pos1/forks.parquet')"
      ]
     },
     "execution_count": 12,
     "metadata": {},
     "output_type": "execute_result"
    }
   ],
   "source": [
    "write_path"
   ]
  },
  {
   "cell_type": "code",
   "execution_count": 6,
   "id": "7ea9c9f0-9a9e-481f-a302-ff72ed0fabed",
   "metadata": {},
   "outputs": [
    {
     "data": {
      "text/plain": [
       "WindowsPath('F:Oscar/EXP-25-CD0117/live_run/Pos1/forks.csv')"
      ]
     },
     "execution_count": 6,
     "metadata": {},
     "output_type": "execute_result"
    }
   ],
   "source": [
    "filename"
   ]
  },
  {
   "cell_type": "code",
   "execution_count": 5,
   "id": "e49d0169-20fa-46f5-a277-2f78d555b544",
   "metadata": {},
   "outputs": [
    {
     "data": {
      "text/plain": [
       "WindowsPath('F:Oscar/EXP-25-CD0117/live_run/Pos1')"
      ]
     },
     "execution_count": 5,
     "metadata": {},
     "output_type": "execute_result"
    }
   ],
   "source": [
    "filename.parent"
   ]
  },
  {
   "cell_type": "code",
   "execution_count": 6,
   "id": "bba17f71-5011-43f7-8394-adc3823abb76",
   "metadata": {},
   "outputs": [
    {
     "ename": "PanicException",
     "evalue": "called `Result::unwrap()` on an `Err` value: ()",
     "output_type": "error",
     "traceback": [
      "\u001b[1;31m---------------------------------------------------------------------------\u001b[0m",
      "\u001b[1;31mPanicException\u001b[0m                            Traceback (most recent call last)",
      "Cell \u001b[1;32mIn[6], line 1\u001b[0m\n\u001b[1;32m----> 1\u001b[0m \u001b[43mdf2\u001b[49m\u001b[38;5;241;43m.\u001b[39;49m\u001b[43mwrite_parquet\u001b[49m\u001b[43m(\u001b[49m\u001b[43mwrite_path\u001b[49m\u001b[43m,\u001b[49m\u001b[43m \u001b[49m\u001b[43mpartition_by\u001b[49m\u001b[38;5;241;43m=\u001b[39;49m\u001b[38;5;124;43m\"\u001b[39;49m\u001b[38;5;124;43mtrap\u001b[39;49m\u001b[38;5;124;43m\"\u001b[39;49m\u001b[43m)\u001b[49m\n",
      "File \u001b[1;32m~\\Documents\\Praneeth\\rtclient\\.venv\\Lib\\site-packages\\polars\\dataframe\\frame.py:4032\u001b[0m, in \u001b[0;36mDataFrame.write_parquet\u001b[1;34m(self, file, compression, compression_level, statistics, row_group_size, data_page_size, use_pyarrow, pyarrow_options, partition_by, partition_chunk_size_bytes, storage_options, credential_provider, retries)\u001b[0m\n\u001b[0;32m   4029\u001b[0m \u001b[38;5;28;01mif\u001b[39;00m \u001b[38;5;28misinstance\u001b[39m(partition_by, \u001b[38;5;28mstr\u001b[39m):\n\u001b[0;32m   4030\u001b[0m     partition_by \u001b[38;5;241m=\u001b[39m [partition_by]\n\u001b[1;32m-> 4032\u001b[0m \u001b[38;5;28;43mself\u001b[39;49m\u001b[38;5;241;43m.\u001b[39;49m\u001b[43m_df\u001b[49m\u001b[38;5;241;43m.\u001b[39;49m\u001b[43mwrite_parquet\u001b[49m\u001b[43m(\u001b[49m\n\u001b[0;32m   4033\u001b[0m \u001b[43m    \u001b[49m\u001b[43mfile\u001b[49m\u001b[43m,\u001b[49m\n\u001b[0;32m   4034\u001b[0m \u001b[43m    \u001b[49m\u001b[43mcompression\u001b[49m\u001b[43m,\u001b[49m\n\u001b[0;32m   4035\u001b[0m \u001b[43m    \u001b[49m\u001b[43mcompression_level\u001b[49m\u001b[43m,\u001b[49m\n\u001b[0;32m   4036\u001b[0m \u001b[43m    \u001b[49m\u001b[43mstatistics\u001b[49m\u001b[43m,\u001b[49m\n\u001b[0;32m   4037\u001b[0m \u001b[43m    \u001b[49m\u001b[43mrow_group_size\u001b[49m\u001b[43m,\u001b[49m\n\u001b[0;32m   4038\u001b[0m \u001b[43m    \u001b[49m\u001b[43mdata_page_size\u001b[49m\u001b[43m,\u001b[49m\n\u001b[0;32m   4039\u001b[0m \u001b[43m    \u001b[49m\u001b[43mpartition_by\u001b[49m\u001b[38;5;241;43m=\u001b[39;49m\u001b[43mpartition_by\u001b[49m\u001b[43m,\u001b[49m\n\u001b[0;32m   4040\u001b[0m \u001b[43m    \u001b[49m\u001b[43mpartition_chunk_size_bytes\u001b[49m\u001b[38;5;241;43m=\u001b[39;49m\u001b[43mpartition_chunk_size_bytes\u001b[49m\u001b[43m,\u001b[49m\n\u001b[0;32m   4041\u001b[0m \u001b[43m    \u001b[49m\u001b[43mcloud_options\u001b[49m\u001b[38;5;241;43m=\u001b[39;49m\u001b[43mstorage_options\u001b[49m\u001b[43m,\u001b[49m\n\u001b[0;32m   4042\u001b[0m \u001b[43m    \u001b[49m\u001b[43mcredential_provider\u001b[49m\u001b[38;5;241;43m=\u001b[39;49m\u001b[43mcredential_provider\u001b[49m\u001b[43m,\u001b[49m\n\u001b[0;32m   4043\u001b[0m \u001b[43m    \u001b[49m\u001b[43mretries\u001b[49m\u001b[38;5;241;43m=\u001b[39;49m\u001b[43mretries\u001b[49m\u001b[43m,\u001b[49m\n\u001b[0;32m   4044\u001b[0m \u001b[43m\u001b[49m\u001b[43m)\u001b[49m\n",
      "\u001b[1;31mPanicException\u001b[0m: called `Result::unwrap()` on an `Err` value: ()"
     ]
    }
   ],
   "source": [
    "df2.write_parquet(write_path, use_pyarrow=True, partition_by=\"trap\")"
   ]
  },
  {
   "cell_type": "code",
   "execution_count": null,
   "id": "c2d362c7-0215-455a-b18a-822704b6aa0e",
   "metadata": {},
   "outputs": [],
   "source": []
  },
  {
   "cell_type": "code",
   "execution_count": null,
   "id": "98cd7307-92a1-46e5-afad-e800260727d6",
   "metadata": {},
   "outputs": [],
   "source": []
  },
  {
   "cell_type": "code",
   "execution_count": null,
   "id": "d4781b26-3b62-4de5-96f1-1eefbd35468d",
   "metadata": {},
   "outputs": [],
   "source": []
  },
  {
   "cell_type": "code",
   "execution_count": null,
   "id": "2b275e32-d911-49ea-9939-8ad882ce3a72",
   "metadata": {},
   "outputs": [],
   "source": []
  },
  {
   "cell_type": "code",
   "execution_count": 64,
   "id": "06691f6d-ad54-492f-8b1d-55bf4bc782d4",
   "metadata": {},
   "outputs": [],
   "source": [
    "schema = {\n",
    "        'position':pl.Int64,\n",
    "        'timepoint':pl.Int64,\n",
    "        'trap' : pl.Int64,\n",
    "        'cell_label': pl.Int32,\n",
    "        'area' : pl.Float64,\n",
    "        'length' : pl.Float64,\n",
    "        'normalization_counts' :pl.Int64,\n",
    "        'internal_coord': pl.List(pl.Float64),\n",
    "        'normalized_internal_x': pl.Float64,\n",
    "        'bbox' : pl.List(pl.Int64),\n",
    "        'global_coords' : pl.List(pl.Float64),\n",
    "        'local_coords' : pl.List(pl.Float64)\n",
    "}"
   ]
  },
  {
   "cell_type": "code",
   "execution_count": 69,
   "id": "8b583815-f56a-431d-a817-c59e19b4342a",
   "metadata": {},
   "outputs": [],
   "source": [
    "df2 = pl.from_pandas(data, schema_overrides=schema)"
   ]
  },
  {
   "cell_type": "code",
   "execution_count": 72,
   "id": "6a0fca5e-8314-4944-bce2-72c812db143f",
   "metadata": {},
   "outputs": [
    {
     "data": {
      "text/plain": [
       "Schema([('position', Int64),\n",
       "        ('timepoint', Int64),\n",
       "        ('trap', Int64),\n",
       "        ('cell_label', Int32),\n",
       "        ('area', Float64),\n",
       "        ('length', Float64),\n",
       "        ('normalization_counts', Int64),\n",
       "        ('internal_coord', List(Float64)),\n",
       "        ('normalized_internal_x', Float64),\n",
       "        ('bbox', List(Int64)),\n",
       "        ('global_coords', List(Float64)),\n",
       "        ('local_coords', List(Float64))])"
      ]
     },
     "execution_count": 72,
     "metadata": {},
     "output_type": "execute_result"
    }
   ],
   "source": [
    "df2.schema"
   ]
  },
  {
   "cell_type": "code",
   "execution_count": 73,
   "id": "21603699-fda3-4792-a622-cf17c36f02ca",
   "metadata": {},
   "outputs": [
    {
     "data": {
      "text/plain": [
       "Schema([('position', Int64),\n",
       "        ('timepoint', Int64),\n",
       "        ('trap', Int64),\n",
       "        ('cell_label', Int32),\n",
       "        ('area', Float64),\n",
       "        ('length', Float64),\n",
       "        ('normalization_counts', Int64),\n",
       "        ('internal_coord', List(Float64)),\n",
       "        ('normalized_internal_x', Float64),\n",
       "        ('bbox', List(Int64)),\n",
       "        ('global_coords', List(Float64)),\n",
       "        ('local_coords', List(Float64))])"
      ]
     },
     "execution_count": 73,
     "metadata": {},
     "output_type": "execute_result"
    }
   ],
   "source": [
    "df.schema"
   ]
  },
  {
   "cell_type": "markdown",
   "id": "9fb8b890-7293-41eb-913b-5c1383f12d9a",
   "metadata": {},
   "source": [
    "#### Testing reading parquets"
   ]
  },
  {
   "cell_type": "code",
   "execution_count": null,
   "id": "077196e1-e402-4829-af8d-63d93eb86330",
   "metadata": {},
   "outputs": [],
   "source": []
  },
  {
   "cell_type": "code",
   "execution_count": null,
   "id": "92236e86-e9fb-4f1f-a154-ea9c7a6005a5",
   "metadata": {},
   "outputs": [],
   "source": []
  },
  {
   "cell_type": "code",
   "execution_count": 67,
   "id": "400337f9-a3cb-4dd8-b2e2-9339f81f8556",
   "metadata": {},
   "outputs": [],
   "source": [
    "import polars as pl"
   ]
  },
  {
   "cell_type": "code",
   "execution_count": 74,
   "id": "77fa8850-6eb6-4b6b-bdcf-ca7f4e8b6ae3",
   "metadata": {},
   "outputs": [],
   "source": [
    "df = pl.read_parquet('/mnt/sda1/REALTIME/test_runs/Pos15/forks.parquet/')"
   ]
  },
  {
   "cell_type": "code",
   "execution_count": 75,
   "id": "9e76caa6-c6eb-4132-a4a5-c857ba4c6b60",
   "metadata": {},
   "outputs": [
    {
     "data": {
      "text/html": [
       "<div><style>\n",
       ".dataframe > thead > tr,\n",
       ".dataframe > tbody > tr {\n",
       "  text-align: right;\n",
       "  white-space: pre-wrap;\n",
       "}\n",
       "</style>\n",
       "<small>shape: (12_614, 12)</small><table border=\"1\" class=\"dataframe\"><thead><tr><th>position</th><th>timepoint</th><th>trap</th><th>cell_label</th><th>area</th><th>length</th><th>normalization_counts</th><th>internal_coord</th><th>normalized_internal_x</th><th>bbox</th><th>global_coords</th><th>local_coords</th></tr><tr><td>i64</td><td>i64</td><td>i64</td><td>i32</td><td>f64</td><td>f64</td><td>i64</td><td>list[f64]</td><td>f64</td><td>list[i64]</td><td>list[f64]</td><td>list[f64]</td></tr></thead><tbody><tr><td>15</td><td>0</td><td>0</td><td>20</td><td>969.0</td><td>77.473008</td><td>4</td><td>[14.247897, 2.203242]</td><td>0.183908</td><td>[2898, 231, … 309]</td><td>[2903.042699, 245.743775]</td><td>[5.042699, 14.743775]</td></tr><tr><td>15</td><td>0</td><td>0</td><td>20</td><td>969.0</td><td>77.473008</td><td>4</td><td>[5.598788, 3.350511]</td><td>0.072268</td><td>[2898, 231, … 309]</td><td>[2902.018189, 236.998875]</td><td>[4.018189, 5.998875]</td></tr><tr><td>15</td><td>0</td><td>0</td><td>20</td><td>969.0</td><td>77.473008</td><td>4</td><td>[57.219483, -1.177507]</td><td>0.738573</td><td>[2898, 231, … 309]</td><td>[2909.522023, 288.395867]</td><td>[11.522023, 57.395867]</td></tr><tr><td>15</td><td>0</td><td>0</td><td>20</td><td>969.0</td><td>77.473008</td><td>4</td><td>[52.055878, -2.792716]</td><td>0.671923</td><td>[2898, 231, … 309]</td><td>[2910.430389, 283.094935]</td><td>[12.430389, 52.094935]</td></tr><tr><td>15</td><td>0</td><td>0</td><td>55</td><td>808.0</td><td>72.518836</td><td>2</td><td>[16.03578, -3.551992]</td><td>0.221126</td><td>[2901, 312, … 385]</td><td>[2910.29358, 328.283664]</td><td>[9.29358, 16.283664]</td></tr><tr><td>&hellip;</td><td>&hellip;</td><td>&hellip;</td><td>&hellip;</td><td>&hellip;</td><td>&hellip;</td><td>&hellip;</td><td>&hellip;</td><td>&hellip;</td><td>&hellip;</td><td>&hellip;</td><td>&hellip;</td></tr><tr><td>15</td><td>13</td><td>9</td><td>285</td><td>502.0</td><td>45.683252</td><td>2</td><td>[34.396858, -3.359979]</td><td>0.752942</td><td>[1999, 936, … 984]</td><td>[2012.054529, 970.844598]</td><td>[13.054529, 34.844598]</td></tr><tr><td>15</td><td>13</td><td>9</td><td>298</td><td>1063.0</td><td>91.301096</td><td>2</td><td>[29.361403, -1.199828]</td><td>0.321589</td><td>[2000, 983, … 1077]</td><td>[2009.051945, 1012.519718]</td><td>[9.051945, 29.519718]</td></tr><tr><td>15</td><td>13</td><td>9</td><td>298</td><td>1063.0</td><td>91.301096</td><td>2</td><td>[47.641851, -6.248417]</td><td>0.52181</td><td>[2000, 983, … 1077]</td><td>[2015.490588, 1030.496327]</td><td>[15.490588, 47.496327]</td></tr><tr><td>15</td><td>13</td><td>9</td><td>328</td><td>1081.0</td><td>91.109822</td><td>1</td><td>[70.097024, -0.988265]</td><td>0.769368</td><td>[2003, 1073, … 1172]</td><td>[2012.958244, 1148.462952]</td><td>[9.958244, 75.462952]</td></tr><tr><td>15</td><td>13</td><td>9</td><td>350</td><td>416.0</td><td>39.252573</td><td>1</td><td>[9.930156, -1.217829]</td><td>0.252981</td><td>[2005, 1172, … 1211]</td><td>[2011.735057, 1180.854089]</td><td>[6.735057, 8.854089]</td></tr></tbody></table></div>"
      ],
      "text/plain": [
       "shape: (12_614, 12)\n",
       "┌──────────┬───────────┬──────┬────────────┬───┬────────────┬────────────┬────────────┬────────────┐\n",
       "│ position ┆ timepoint ┆ trap ┆ cell_label ┆ … ┆ normalized ┆ bbox       ┆ global_coo ┆ local_coor │\n",
       "│ ---      ┆ ---       ┆ ---  ┆ ---        ┆   ┆ _internal_ ┆ ---        ┆ rds        ┆ ds         │\n",
       "│ i64      ┆ i64       ┆ i64  ┆ i32        ┆   ┆ x          ┆ list[i64]  ┆ ---        ┆ ---        │\n",
       "│          ┆           ┆      ┆            ┆   ┆ ---        ┆            ┆ list[f64]  ┆ list[f64]  │\n",
       "│          ┆           ┆      ┆            ┆   ┆ f64        ┆            ┆            ┆            │\n",
       "╞══════════╪═══════════╪══════╪════════════╪═══╪════════════╪════════════╪════════════╪════════════╡\n",
       "│ 15       ┆ 0         ┆ 0    ┆ 20         ┆ … ┆ 0.183908   ┆ [2898,     ┆ [2903.0426 ┆ [5.042699, │\n",
       "│          ┆           ┆      ┆            ┆   ┆            ┆ 231, …     ┆ 99, 245.74 ┆ 14.743775] │\n",
       "│          ┆           ┆      ┆            ┆   ┆            ┆ 309]       ┆ 3775]      ┆            │\n",
       "│ 15       ┆ 0         ┆ 0    ┆ 20         ┆ … ┆ 0.072268   ┆ [2898,     ┆ [2902.0181 ┆ [4.018189, │\n",
       "│          ┆           ┆      ┆            ┆   ┆            ┆ 231, …     ┆ 89, 236.99 ┆ 5.998875]  │\n",
       "│          ┆           ┆      ┆            ┆   ┆            ┆ 309]       ┆ 8875]      ┆            │\n",
       "│ 15       ┆ 0         ┆ 0    ┆ 20         ┆ … ┆ 0.738573   ┆ [2898,     ┆ [2909.5220 ┆ [11.522023 │\n",
       "│          ┆           ┆      ┆            ┆   ┆            ┆ 231, …     ┆ 23, 288.39 ┆ ,          │\n",
       "│          ┆           ┆      ┆            ┆   ┆            ┆ 309]       ┆ 5867]      ┆ 57.395867] │\n",
       "│ 15       ┆ 0         ┆ 0    ┆ 20         ┆ … ┆ 0.671923   ┆ [2898,     ┆ [2910.4303 ┆ [12.430389 │\n",
       "│          ┆           ┆      ┆            ┆   ┆            ┆ 231, …     ┆ 89, 283.09 ┆ ,          │\n",
       "│          ┆           ┆      ┆            ┆   ┆            ┆ 309]       ┆ 4935]      ┆ 52.094935] │\n",
       "│ 15       ┆ 0         ┆ 0    ┆ 55         ┆ … ┆ 0.221126   ┆ [2901,     ┆ [2910.2935 ┆ [9.29358,  │\n",
       "│          ┆           ┆      ┆            ┆   ┆            ┆ 312, …     ┆ 8, 328.283 ┆ 16.283664] │\n",
       "│          ┆           ┆      ┆            ┆   ┆            ┆ 385]       ┆ 664]       ┆            │\n",
       "│ …        ┆ …         ┆ …    ┆ …          ┆ … ┆ …          ┆ …          ┆ …          ┆ …          │\n",
       "│ 15       ┆ 13        ┆ 9    ┆ 285        ┆ … ┆ 0.752942   ┆ [1999,     ┆ [2012.0545 ┆ [13.054529 │\n",
       "│          ┆           ┆      ┆            ┆   ┆            ┆ 936, …     ┆ 29, 970.84 ┆ ,          │\n",
       "│          ┆           ┆      ┆            ┆   ┆            ┆ 984]       ┆ 4598]      ┆ 34.844598] │\n",
       "│ 15       ┆ 13        ┆ 9    ┆ 298        ┆ … ┆ 0.321589   ┆ [2000,     ┆ [2009.0519 ┆ [9.051945, │\n",
       "│          ┆           ┆      ┆            ┆   ┆            ┆ 983, …     ┆ 45, 1012.5 ┆ 29.519718] │\n",
       "│          ┆           ┆      ┆            ┆   ┆            ┆ 1077]      ┆ 19718]     ┆            │\n",
       "│ 15       ┆ 13        ┆ 9    ┆ 298        ┆ … ┆ 0.52181    ┆ [2000,     ┆ [2015.4905 ┆ [15.490588 │\n",
       "│          ┆           ┆      ┆            ┆   ┆            ┆ 983, …     ┆ 88, 1030.4 ┆ ,          │\n",
       "│          ┆           ┆      ┆            ┆   ┆            ┆ 1077]      ┆ 96327]     ┆ 47.496327] │\n",
       "│ 15       ┆ 13        ┆ 9    ┆ 328        ┆ … ┆ 0.769368   ┆ [2003,     ┆ [2012.9582 ┆ [9.958244, │\n",
       "│          ┆           ┆      ┆            ┆   ┆            ┆ 1073, …    ┆ 44, 1148.4 ┆ 75.462952] │\n",
       "│          ┆           ┆      ┆            ┆   ┆            ┆ 1172]      ┆ 62952]     ┆            │\n",
       "│ 15       ┆ 13        ┆ 9    ┆ 350        ┆ … ┆ 0.252981   ┆ [2005,     ┆ [2011.7350 ┆ [6.735057, │\n",
       "│          ┆           ┆      ┆            ┆   ┆            ┆ 1172, …    ┆ 57, 1180.8 ┆ 8.854089]  │\n",
       "│          ┆           ┆      ┆            ┆   ┆            ┆ 1211]      ┆ 54089]     ┆            │\n",
       "└──────────┴───────────┴──────┴────────────┴───┴────────────┴────────────┴────────────┴────────────┘"
      ]
     },
     "execution_count": 75,
     "metadata": {},
     "output_type": "execute_result"
    }
   ],
   "source": [
    "df"
   ]
  },
  {
   "cell_type": "code",
   "execution_count": 35,
   "id": "5b8ea9b1-7707-4c83-8eff-71b8827bdaad",
   "metadata": {},
   "outputs": [],
   "source": [
    "import pandas as pd"
   ]
  },
  {
   "cell_type": "code",
   "execution_count": 36,
   "id": "a3cafd09-cbe2-4c21-b4fb-9c5f0e30318a",
   "metadata": {},
   "outputs": [],
   "source": [
    "fork_stats_table = pd.DataFrame(fork_stats)"
   ]
  },
  {
   "cell_type": "code",
   "execution_count": 37,
   "id": "a86b63ae-4440-4a26-890a-12d4fb4d518e",
   "metadata": {},
   "outputs": [
    {
     "data": {
      "text/html": [
       "<div>\n",
       "<style scoped>\n",
       "    .dataframe tbody tr th:only-of-type {\n",
       "        vertical-align: middle;\n",
       "    }\n",
       "\n",
       "    .dataframe tbody tr th {\n",
       "        vertical-align: top;\n",
       "    }\n",
       "\n",
       "    .dataframe thead th {\n",
       "        text-align: right;\n",
       "    }\n",
       "</style>\n",
       "<table border=\"1\" class=\"dataframe\">\n",
       "  <thead>\n",
       "    <tr style=\"text-align: right;\">\n",
       "      <th></th>\n",
       "      <th>position</th>\n",
       "      <th>timepoint</th>\n",
       "      <th>trap</th>\n",
       "      <th>cell_label</th>\n",
       "      <th>area</th>\n",
       "      <th>length</th>\n",
       "      <th>normalization_counts</th>\n",
       "      <th>internal_coord</th>\n",
       "      <th>normalized_internal_x</th>\n",
       "      <th>bbox</th>\n",
       "      <th>global_coords</th>\n",
       "      <th>local_coords</th>\n",
       "    </tr>\n",
       "  </thead>\n",
       "  <tbody>\n",
       "    <tr>\n",
       "      <th>0</th>\n",
       "      <td>0</td>\n",
       "      <td>0</td>\n",
       "      <td>4</td>\n",
       "      <td>15</td>\n",
       "      <td>368.0</td>\n",
       "      <td>30.025607</td>\n",
       "      <td>1</td>\n",
       "      <td>(10.331315843264065, -2.273029129056189)</td>\n",
       "      <td>0.344083</td>\n",
       "      <td>(2490, 227, 2511, 258)</td>\n",
       "      <td>(2502.3362740292982, 237.55769754397429)</td>\n",
       "      <td>(12.336274029298238, 10.557697543974285)</td>\n",
       "    </tr>\n",
       "    <tr>\n",
       "      <th>1</th>\n",
       "      <td>0</td>\n",
       "      <td>0</td>\n",
       "      <td>8</td>\n",
       "      <td>16</td>\n",
       "      <td>596.0</td>\n",
       "      <td>55.741157</td>\n",
       "      <td>4</td>\n",
       "      <td>(48.513692552829426, 4.7893035480254476)</td>\n",
       "      <td>0.870339</td>\n",
       "      <td>(2082, 228, 2104, 286)</td>\n",
       "      <td>(2083.5672611944983, 277.55680462224456)</td>\n",
       "      <td>(1.5672611944983146, 49.556804622244556)</td>\n",
       "    </tr>\n",
       "    <tr>\n",
       "      <th>2</th>\n",
       "      <td>0</td>\n",
       "      <td>0</td>\n",
       "      <td>8</td>\n",
       "      <td>16</td>\n",
       "      <td>596.0</td>\n",
       "      <td>55.741157</td>\n",
       "      <td>4</td>\n",
       "      <td>(38.77562401109707, 3.410713575993412)</td>\n",
       "      <td>0.695637</td>\n",
       "      <td>(2082, 228, 2104, 286)</td>\n",
       "      <td>(2085.3359853121174, 267.1814565483476)</td>\n",
       "      <td>(3.335985312117373, 39.181456548347626)</td>\n",
       "    </tr>\n",
       "    <tr>\n",
       "      <th>3</th>\n",
       "      <td>0</td>\n",
       "      <td>0</td>\n",
       "      <td>8</td>\n",
       "      <td>16</td>\n",
       "      <td>596.0</td>\n",
       "      <td>55.741157</td>\n",
       "      <td>4</td>\n",
       "      <td>(25.49408365838375, 1.4085934599614878)</td>\n",
       "      <td>0.457366</td>\n",
       "      <td>(2082, 228, 2104, 286)</td>\n",
       "      <td>(2090.4882352941177, 254.24359861591697)</td>\n",
       "      <td>(8.488235294117658, 26.243598615916966)</td>\n",
       "    </tr>\n",
       "    <tr>\n",
       "      <th>4</th>\n",
       "      <td>0</td>\n",
       "      <td>0</td>\n",
       "      <td>8</td>\n",
       "      <td>16</td>\n",
       "      <td>596.0</td>\n",
       "      <td>55.741157</td>\n",
       "      <td>4</td>\n",
       "      <td>(17.678084451145736, -2.1620871565639836)</td>\n",
       "      <td>0.317146</td>\n",
       "      <td>(2082, 228, 2104, 286)</td>\n",
       "      <td>(2096.785154092566, 248.4542140726831)</td>\n",
       "      <td>(14.78515409256579, 20.4542140726831)</td>\n",
       "    </tr>\n",
       "    <tr>\n",
       "      <th>...</th>\n",
       "      <td>...</td>\n",
       "      <td>...</td>\n",
       "      <td>...</td>\n",
       "      <td>...</td>\n",
       "      <td>...</td>\n",
       "      <td>...</td>\n",
       "      <td>...</td>\n",
       "      <td>...</td>\n",
       "      <td>...</td>\n",
       "      <td>...</td>\n",
       "      <td>...</td>\n",
       "      <td>...</td>\n",
       "    </tr>\n",
       "    <tr>\n",
       "      <th>896</th>\n",
       "      <td>0</td>\n",
       "      <td>0</td>\n",
       "      <td>23</td>\n",
       "      <td>355</td>\n",
       "      <td>582.0</td>\n",
       "      <td>47.668006</td>\n",
       "      <td>1</td>\n",
       "      <td>(24.969438280041942, 0.11646185491855153)</td>\n",
       "      <td>0.523820</td>\n",
       "      <td>(535, 1198, 552, 1247)</td>\n",
       "      <td>(541.9235198311655, 1222.8753698988369)</td>\n",
       "      <td>(6.9235198311655495, 24.87536989883688)</td>\n",
       "    </tr>\n",
       "    <tr>\n",
       "      <th>897</th>\n",
       "      <td>0</td>\n",
       "      <td>0</td>\n",
       "      <td>19</td>\n",
       "      <td>356</td>\n",
       "      <td>371.0</td>\n",
       "      <td>37.364992</td>\n",
       "      <td>2</td>\n",
       "      <td>(18.515859724714527, 0.49341423287447705)</td>\n",
       "      <td>0.495540</td>\n",
       "      <td>(944, 1204, 963, 1241)</td>\n",
       "      <td>(952.9429480044522, 1221.7819049133407)</td>\n",
       "      <td>(8.942948004452205, 17.781904913340668)</td>\n",
       "    </tr>\n",
       "    <tr>\n",
       "      <th>898</th>\n",
       "      <td>0</td>\n",
       "      <td>0</td>\n",
       "      <td>19</td>\n",
       "      <td>356</td>\n",
       "      <td>371.0</td>\n",
       "      <td>37.364992</td>\n",
       "      <td>2</td>\n",
       "      <td>(28.673333550869668, 2.5895484369136805)</td>\n",
       "      <td>0.767385</td>\n",
       "      <td>(944, 1204, 963, 1241)</td>\n",
       "      <td>(954.3035876889455, 1232.0016390457113)</td>\n",
       "      <td>(10.303587688945527, 28.001639045711272)</td>\n",
       "    </tr>\n",
       "    <tr>\n",
       "      <th>899</th>\n",
       "      <td>0</td>\n",
       "      <td>0</td>\n",
       "      <td>25</td>\n",
       "      <td>357</td>\n",
       "      <td>455.0</td>\n",
       "      <td>44.946226</td>\n",
       "      <td>2</td>\n",
       "      <td>(38.345571980881836, 3.637052744213372)</td>\n",
       "      <td>0.853143</td>\n",
       "      <td>(331, 1215, 350, 1259)</td>\n",
       "      <td>(340.2880712321592, 1252.842084588189)</td>\n",
       "      <td>(9.288071232159211, 37.84208458818898)</td>\n",
       "    </tr>\n",
       "    <tr>\n",
       "      <th>900</th>\n",
       "      <td>0</td>\n",
       "      <td>0</td>\n",
       "      <td>25</td>\n",
       "      <td>357</td>\n",
       "      <td>455.0</td>\n",
       "      <td>44.946226</td>\n",
       "      <td>2</td>\n",
       "      <td>(22.67820826060076, -1.2565278582655084)</td>\n",
       "      <td>0.504563</td>\n",
       "      <td>(331, 1215, 350, 1259)</td>\n",
       "      <td>(341.0613425925926, 1236.5298032407406)</td>\n",
       "      <td>(10.06134259259261, 21.529803240740648)</td>\n",
       "    </tr>\n",
       "  </tbody>\n",
       "</table>\n",
       "<p>901 rows × 12 columns</p>\n",
       "</div>"
      ],
      "text/plain": [
       "     position  timepoint  trap  cell_label   area     length  \\\n",
       "0           0          0     4          15  368.0  30.025607   \n",
       "1           0          0     8          16  596.0  55.741157   \n",
       "2           0          0     8          16  596.0  55.741157   \n",
       "3           0          0     8          16  596.0  55.741157   \n",
       "4           0          0     8          16  596.0  55.741157   \n",
       "..        ...        ...   ...         ...    ...        ...   \n",
       "896         0          0    23         355  582.0  47.668006   \n",
       "897         0          0    19         356  371.0  37.364992   \n",
       "898         0          0    19         356  371.0  37.364992   \n",
       "899         0          0    25         357  455.0  44.946226   \n",
       "900         0          0    25         357  455.0  44.946226   \n",
       "\n",
       "     normalization_counts                             internal_coord  \\\n",
       "0                       1   (10.331315843264065, -2.273029129056189)   \n",
       "1                       4   (48.513692552829426, 4.7893035480254476)   \n",
       "2                       4     (38.77562401109707, 3.410713575993412)   \n",
       "3                       4    (25.49408365838375, 1.4085934599614878)   \n",
       "4                       4  (17.678084451145736, -2.1620871565639836)   \n",
       "..                    ...                                        ...   \n",
       "896                     1  (24.969438280041942, 0.11646185491855153)   \n",
       "897                     2  (18.515859724714527, 0.49341423287447705)   \n",
       "898                     2   (28.673333550869668, 2.5895484369136805)   \n",
       "899                     2    (38.345571980881836, 3.637052744213372)   \n",
       "900                     2   (22.67820826060076, -1.2565278582655084)   \n",
       "\n",
       "     normalized_internal_x                    bbox  \\\n",
       "0                 0.344083  (2490, 227, 2511, 258)   \n",
       "1                 0.870339  (2082, 228, 2104, 286)   \n",
       "2                 0.695637  (2082, 228, 2104, 286)   \n",
       "3                 0.457366  (2082, 228, 2104, 286)   \n",
       "4                 0.317146  (2082, 228, 2104, 286)   \n",
       "..                     ...                     ...   \n",
       "896               0.523820  (535, 1198, 552, 1247)   \n",
       "897               0.495540  (944, 1204, 963, 1241)   \n",
       "898               0.767385  (944, 1204, 963, 1241)   \n",
       "899               0.853143  (331, 1215, 350, 1259)   \n",
       "900               0.504563  (331, 1215, 350, 1259)   \n",
       "\n",
       "                                global_coords  \\\n",
       "0    (2502.3362740292982, 237.55769754397429)   \n",
       "1    (2083.5672611944983, 277.55680462224456)   \n",
       "2     (2085.3359853121174, 267.1814565483476)   \n",
       "3    (2090.4882352941177, 254.24359861591697)   \n",
       "4      (2096.785154092566, 248.4542140726831)   \n",
       "..                                        ...   \n",
       "896   (541.9235198311655, 1222.8753698988369)   \n",
       "897   (952.9429480044522, 1221.7819049133407)   \n",
       "898   (954.3035876889455, 1232.0016390457113)   \n",
       "899    (340.2880712321592, 1252.842084588189)   \n",
       "900   (341.0613425925926, 1236.5298032407406)   \n",
       "\n",
       "                                 local_coords  \n",
       "0    (12.336274029298238, 10.557697543974285)  \n",
       "1    (1.5672611944983146, 49.556804622244556)  \n",
       "2     (3.335985312117373, 39.181456548347626)  \n",
       "3     (8.488235294117658, 26.243598615916966)  \n",
       "4       (14.78515409256579, 20.4542140726831)  \n",
       "..                                        ...  \n",
       "896   (6.9235198311655495, 24.87536989883688)  \n",
       "897   (8.942948004452205, 17.781904913340668)  \n",
       "898  (10.303587688945527, 28.001639045711272)  \n",
       "899    (9.288071232159211, 37.84208458818898)  \n",
       "900   (10.06134259259261, 21.529803240740648)  \n",
       "\n",
       "[901 rows x 12 columns]"
      ]
     },
     "execution_count": 37,
     "metadata": {},
     "output_type": "execute_result"
    }
   ],
   "source": [
    "fork_stats_table"
   ]
  },
  {
   "cell_type": "code",
   "execution_count": 38,
   "id": "b3ac1765-b636-4d42-b432-4a146970857b",
   "metadata": {},
   "outputs": [
    {
     "data": {
      "text/plain": [
       "901"
      ]
     },
     "execution_count": 38,
     "metadata": {},
     "output_type": "execute_result"
    }
   ],
   "source": [
    "len(fork_stats_table)"
   ]
  },
  {
   "cell_type": "code",
   "execution_count": 39,
   "id": "2195bb79-136e-4458-90b3-ca385a6df654",
   "metadata": {},
   "outputs": [],
   "source": [
    "fork_stats_table.to_csv('forks.csv', mode='a', index=False, header=False)"
   ]
  },
  {
   "cell_type": "code",
   "execution_count": 40,
   "id": "c168d962-8b96-42e8-9cca-9dfcc4171d66",
   "metadata": {},
   "outputs": [],
   "source": [
    "df = pd.read_csv('forks.csv')"
   ]
  },
  {
   "cell_type": "code",
   "execution_count": 41,
   "id": "41eb2a7e-48b3-42a2-8448-56751a366620",
   "metadata": {},
   "outputs": [
    {
     "data": {
      "text/plain": [
       "3077"
      ]
     },
     "execution_count": 41,
     "metadata": {},
     "output_type": "execute_result"
    }
   ],
   "source": [
    "len(df)"
   ]
  },
  {
   "cell_type": "code",
   "execution_count": 58,
   "id": "3978ad86-bc85-41df-b8ff-f6095eb862e2",
   "metadata": {},
   "outputs": [
    {
     "data": {
      "text/plain": [
       "position                              position\n",
       "timepoint                            timepoint\n",
       "trap                                      trap\n",
       "cell_label                          cell_label\n",
       "area                                      area\n",
       "length                                  length\n",
       "normalization_counts      normalization_counts\n",
       "internal_coord                  internal_coord\n",
       "normalized_internal_x    normalized_internal_x\n",
       "bbox                                      bbox\n",
       "global_coords                    global_coords\n",
       "local_coords                      local_coords\n",
       "Name: 1025, dtype: object"
      ]
     },
     "execution_count": 58,
     "metadata": {},
     "output_type": "execute_result"
    }
   ],
   "source": [
    "df.iloc[1025]"
   ]
  },
  {
   "cell_type": "code",
   "execution_count": null,
   "id": "7d8b3d66-393c-4dbd-aea7-168e81ddc8a7",
   "metadata": {},
   "outputs": [],
   "source": []
  },
  {
   "cell_type": "code",
   "execution_count": null,
   "id": "fd40daaf-ea31-43a3-bbfe-966b7127d7fb",
   "metadata": {},
   "outputs": [],
   "source": []
  },
  {
   "cell_type": "code",
   "execution_count": 54,
   "id": "07caed35-9af1-42ae-84f9-93ab23ce55b3",
   "metadata": {},
   "outputs": [],
   "source": [
    "trap_locations_left = [loc-40 for loc in trap_locations]\n",
    "trap_locations_right = [loc+40 for loc in trap_locations]"
   ]
  },
  {
   "cell_type": "code",
   "execution_count": 58,
   "id": "d71c9ea6-1f92-4a3b-ab10-c8bdeba91b91",
   "metadata": {},
   "outputs": [
    {
     "name": "stdout",
     "output_type": "stream",
     "text": [
      "[76, 178, 280, 382, 484, 588, 688, 790, 893, 995, 1097, 1199, 1300, 1404, 1543, 1646, 1747, 1851, 1956, 2055, 2156, 2259, 2364, 2466, 2566, 2668, 2771, 2873]\n",
      "[156, 258, 360, 462, 564, 668, 768, 870, 973, 1075, 1177, 1279, 1380, 1484, 1623, 1726, 1827, 1931, 2036, 2135, 2236, 2339, 2444, 2546, 2646, 2748, 2851, 2953]\n"
     ]
    }
   ],
   "source": [
    "print(trap_locations_left)\n",
    "print(trap_locations_right)"
   ]
  },
  {
   "cell_type": "code",
   "execution_count": 51,
   "id": "172ceb87-1c4d-4ee3-b00d-73da36dddd46",
   "metadata": {},
   "outputs": [
    {
     "data": {
      "text/plain": [
       "(2933.2462686567164, 167.36567164179104)"
      ]
     },
     "execution_count": 51,
     "metadata": {},
     "output_type": "execute_result"
    }
   ],
   "source": [
    "props[0].centroid"
   ]
  },
  {
   "cell_type": "code",
   "execution_count": 52,
   "id": "16f3ef18-2952-4264-8673-7aeb232391d0",
   "metadata": {},
   "outputs": [],
   "source": [
    "import bisect"
   ]
  },
  {
   "cell_type": "code",
   "execution_count": 61,
   "id": "0119ac2e-907e-495d-83eb-7763c5ca1728",
   "metadata": {},
   "outputs": [
    {
     "name": "stdout",
     "output_type": "stream",
     "text": [
      "2933.2462686567164 2873 2953 27 27\n",
      "2063.690476190476 2055 2135 19 19\n",
      "2722.548672566372 2668 2748 25 25\n",
      "1464.5013698630137 1404 1484 13 13\n",
      "2207.8502673796793 2156 2236 20 20\n",
      "1414.361963190184 1404 1484 13 13\n",
      "2705.904593639576 2668 2748 25 25\n",
      "1902.078313253012 1851 1931 17 17\n",
      "1991.3779193205944 1956 2036 18 18\n",
      "1600.5 1543 1623 14 14\n",
      "2398.1688311688313 2364 2444 22 22\n",
      "1347.2350119904077 1300 1380 12 12\n",
      "2599.437984496124 2566 2646 24 24\n",
      "800.2452830188679 790 870 7 7\n",
      "2498.6603260869565 2466 2546 23 23\n",
      "2091.6593959731545 2055 2135 19 19\n",
      "1235.9347826086957 1199 1279 11 11\n",
      "2804.16765578635 2771 2851 26 26\n",
      "1149.392857142857 1097 1177 10 10\n",
      "2906.8090815273476 2873 2953 27 27\n",
      "1036.440281030445 995 1075 9 9\n",
      "2190.878306878307 2156 2236 20 20\n",
      "430.7031630170316 382 462 3 3\n",
      "1680.3676470588234 1646 1726 15 15\n",
      "1589.2236842105262 1543 1623 14 14\n",
      "523.6628477905074 484 564 4 4\n",
      "2295.34179357022 2259 2339 21 21\n",
      "626.2301458670988 588 668 5 5\n",
      "2599.326530612245 2566 2646 24 24\n",
      "1887.576 1851 1931 17 17\n",
      "1782.9785992217899 1747 1827 16 16\n",
      "1571.5 1543 1623 14 14\n",
      "1988.3814814814814 1956 2036 18 18\n",
      "2499.300561797753 2466 2546 23 23\n",
      "1579.9296577946768 1543 1623 14 14\n",
      "2703.3753846153845 2668 2748 25 25\n",
      "1440.1 1404 1484 13 13\n",
      "1886.5028768699656 1851 1931 17 17\n",
      "724.2266009852217 688 768 6 6\n",
      "1133.5682926829268 1097 1177 10 10\n",
      "927.0 893 973 8 8\n",
      "824.7863777089783 790 870 7 7\n",
      "2805.165644171779 2771 2851 26 26\n",
      "2091.0386996904026 2055 2135 19 19\n",
      "314.64406779661016 280 360 2 2\n",
      "2296.7956989247314 2259 2339 21 21\n",
      "928.5724431818181 893 973 8 8\n",
      "1682.0568513119533 1646 1726 15 15\n",
      "1784.6882978723404 1747 1827 16 16\n",
      "1439.662273476112 1404 1484 13 13\n",
      "210.90432098765433 178 258 1 1\n",
      "416.74178832116786 382 462 3 3\n",
      "2193.4684684684685 2156 2236 20 20\n",
      "109.57157676348548 76 156 0 0\n",
      "2908.9245049504952 2873 2953 27 27\n",
      "1580.375806451613 1543 1623 14 14\n",
      "1133.759493670886 1097 1177 10 10\n",
      "827.1455437448897 790 870 7 7\n",
      "2499.6732954545455 2466 2546 23 23\n",
      "1990.64598540146 1956 2036 18 18\n",
      "1339.3085714285714 1300 1380 12 12\n",
      "2605.460880195599 2566 2646 24 24\n",
      "725.1728016359918 688 768 6 6\n",
      "1887.8008213552362 1851 1931 17 17\n",
      "314.3533950617284 280 360 2 2\n",
      "2398.744680851064 2364 2444 22 22\n",
      "2093.8782849239283 2055 2135 19 19\n",
      "1442.5808270676691 1404 1484 13 13\n",
      "622.4648166501487 588 668 5 5\n",
      "2706.4424111948333 2668 2748 25 25\n",
      "929.4852320675105 893 973 8 8\n",
      "1684.6228323699422 1646 1726 15 15\n",
      "211.8618881118881 178 258 1 1\n",
      "2807.8053392658508 2771 2851 26 26\n",
      "1581.5063868613138 1543 1623 14 14\n",
      "1786.0929577464788 1747 1827 16 16\n",
      "2196.159951159951 2156 2236 20 20\n",
      "2502.5767918088736 2466 2546 23 23\n",
      "2911.84331797235 2873 2953 27 27\n",
      "1339.6981450252952 1300 1380 12 12\n",
      "1135.513784461153 1097 1177 10 10\n",
      "1991.311369509044 1956 2036 18 18\n",
      "419.72352389878165 382 462 3 3\n",
      "1441.2183333333332 1404 1484 13 13\n",
      "111.375 76 156 0 0\n",
      "318.4338138925295 280 360 2 2\n",
      "1239.5741391426563 1199 1279 11 11\n",
      "2299.1441441441443 2259 2339 21 21\n",
      "2605.0485933503837 2566 2646 24 24\n",
      "214.48499210110583 178 258 1 1\n",
      "2094.239043824701 2055 2135 19 19\n",
      "1685.4748299319729 1646 1726 15 15\n",
      "933.6991279069767 893 973 8 8\n",
      "829.2999062792877 790 870 7 7\n",
      "727.3320848938827 688 768 6 6\n",
      "1890.2448747152619 1851 1931 17 17\n",
      "2707.399357601713 2668 2748 25 25\n",
      "2810.095631641086 2771 2851 26 26\n",
      "2197.3507728894174 2156 2236 20 20\n",
      "1445.7050092764377 1404 1484 13 13\n",
      "2402.8880706921946 2364 2444 22 22\n",
      "112.83123877917414 76 156 0 0\n",
      "2504.8341375150785 2466 2546 23 23\n",
      "1137.88125 1097 1177 10 10\n",
      "1583.427536231884 1543 1623 14 14\n",
      "1993.3548895899053 1956 2036 18 18\n",
      "2912.771820448878 2873 2953 27 27\n",
      "1790.635359116022 1747 1827 16 16\n",
      "216.96433878157504 178 258 1 1\n",
      "316.76616231086655 280 360 2 2\n",
      "1686.8790820829656 1646 1726 15 15\n",
      "626.0359788359789 588 668 5 5\n",
      "933.6826923076923 893 973 8 8\n",
      "421.9637964774951 382 462 3 3\n",
      "2607.1679049034174 2566 2646 24 24\n",
      "2096.053680981595 2055 2135 19 19\n",
      "729.8988372093023 688 768 6 6\n",
      "1445.0125 1404 1484 13 13\n",
      "1892.3873873873874 1851 1931 17 17\n",
      "523.7043121149898 484 564 4 4\n",
      "113.52301255230125 76 156 0 0\n",
      "832.3666210670315 790 870 7 7\n",
      "2710.577427821522 2668 2748 25 25\n",
      "1587.558 1543 1623 14 14\n",
      "2810.466150870406 2771 2851 26 26\n",
      "2300.411196911197 2259 2339 21 21\n",
      "2199.8790697674417 2156 2236 20 20\n",
      "1995.1680532445923 1956 2036 18 18\n",
      "1343.5404376784015 1300 1380 12 12\n",
      "217.84478021978023 178 258 1 1\n",
      "2405.2732644017724 2364 2444 22 22\n",
      "1242.5498687664042 1199 1279 11 11\n",
      "2915.4129032258065 2873 2953 27 27\n",
      "319.45968882602546 280 360 2 2\n",
      "935.7846820809249 893 973 8 8\n",
      "2609.304709141274 2566 2646 24 24\n",
      "2097.4559884559885 2055 2135 19 19\n",
      "524.4545454545455 484 564 4 4\n",
      "1140.408988764045 1097 1177 10 10\n",
      "1448.6277227722771 1404 1484 13 13\n",
      "1790.989612842304 1747 1827 16 16\n",
      "114.66732673267327 76 156 0 0\n",
      "1587.296 1543 1623 14 14\n",
      "1038.0596774193548 995 1075 9 9\n",
      "731.061403508772 688 768 6 6\n",
      "423.8301662707838 382 462 3 3\n",
      "1894.4845425867509 1851 1931 17 17\n",
      "2303.6969696969695 2259 2339 21 21\n",
      "2815.6396103896104 2771 2851 26 26\n",
      "1689.7365439093485 1646 1726 15 15\n",
      "833.316251830161 790 870 7 7\n",
      "1996.5853242320818 1956 2036 18 18\n",
      "219.96296296296296 178 258 1 1\n",
      "1141.4473409801876 1097 1177 10 10\n",
      "2507.030303030303 2466 2546 23 23\n",
      "1446.2577319587629 1404 1484 13 13\n",
      "2201.877102199224 2156 2236 20 20\n",
      "2610.2389240506327 2566 2646 24 24\n",
      "2099.4104134762633 2055 2135 19 19\n",
      "116.64168377823408 76 156 0 0\n",
      "1243.8181818181818 1199 1279 11 11\n",
      "527.3194154488518 484 564 4 4\n",
      "321.95165745856355 280 360 2 2\n",
      "937.7075718015666 893 973 8 8\n",
      "2406.490837696335 2364 2444 22 22\n",
      "2917.2712066905615 2873 2953 27 27\n",
      "2712.5357751277684 2668 2748 25 25\n",
      "730.7854889589905 688 768 6 6\n",
      "1040.3604826546002 995 1075 9 9\n",
      "2304.4031365313654 2259 2339 21 21\n",
      "630.261569416499 588 668 5 5\n",
      "2815.5470085470088 2771 2851 26 26\n",
      "1998.409556313993 1956 2036 18 18\n",
      "424.2541766109785 382 462 3 3\n",
      "2510.832132259432 2466 2546 23 23\n",
      "835.5094637223975 790 870 7 7\n",
      "1451.077868852459 1404 1484 13 13\n",
      "1794.045617173524 1747 1827 16 16\n",
      "2611.7935285053927 2566 2646 24 24\n",
      "1245.483039348711 1199 1279 11 11\n",
      "323.7073891625616 280 360 2 2\n",
      "1590.249529190207 1543 1623 14 14\n",
      "2101.0666666666666 2055 2135 19 19\n",
      "2203.330383480826 2156 2236 20 20\n",
      "220.5017667844523 178 258 1 1\n",
      "1692.372660699756 1646 1726 15 15\n",
      "733.1435546875 688 768 6 6\n",
      "1142.7662565905096 1097 1177 10 10\n",
      "1347.7047101449275 1300 1380 12 12\n",
      "2406.2713567839196 2364 2444 22 22\n",
      "529.2450142450142 484 564 4 4\n",
      "2920.9268585131895 2873 2953 27 27\n",
      "1997.7697368421052 1956 2036 18 18\n",
      "120.40160642570281 76 156 0 0\n",
      "1449.572327044025 1404 1484 13 13\n",
      "1901.1746445497631 1851 1931 17 17\n",
      "836.6447368421053 790 870 7 7\n",
      "938.7264631043257 893 973 8 8\n",
      "426.5295597484277 382 462 3 3\n",
      "2614.1944777911162 2566 2646 24 24\n",
      "2717.100642398287 2668 2748 25 25\n",
      "2410.314662273476 2364 2444 22 22\n",
      "2307.4067164179105 2259 2339 21 21\n",
      "1143.6320422535211 1097 1177 10 10\n",
      "2102.9326923076924 2055 2135 19 19\n",
      "1247.3981723237598 1199 1279 11 11\n",
      "2204.8535211267604 2156 2236 20 20\n",
      "1451.979381443299 1404 1484 13 13\n",
      "223.5173501577287 178 258 1 1\n",
      "1802.2583173663124 1747 1827 16 16\n",
      "2001.4090150250418 1956 2036 18 18\n",
      "324.8905660377358 280 360 2 2\n",
      "838.323188405797 790 870 7 7\n",
      "1593.3389830508474 1543 1623 14 14\n",
      "633.1811111111111 588 668 5 5\n",
      "735.1191806331472 688 768 6 6\n",
      "1351.406954887218 1300 1380 12 12\n",
      "2409.7571428571428 2364 2444 22 22\n",
      "941.8810068649885 893 973 8 8\n",
      "1147.3683083511778 1097 1177 10 10\n",
      "533.0204953031597 484 564 4 4\n",
      "1695.4449152542372 1646 1726 15 15\n",
      "2206.6076086956523 2156 2236 20 20\n",
      "2104.4607843137255 2055 2135 19 19\n",
      "429.3317249698432 382 462 3 3\n",
      "121.69634906500445 76 156 0 0\n",
      "2615.621983914209 2566 2646 24 24\n",
      "2819.867469879518 2771 2851 26 26\n",
      "1248.9880546075085 1199 1279 11 11\n",
      "2308.3529411764707 2259 2339 21 21\n",
      "1044.097046413502 995 1075 9 9\n",
      "327.02309058614566 280 360 2 2\n",
      "2717.8353115727004 2668 2748 25 25\n",
      "2002.7674714104194 1956 2036 18 18\n",
      "737.0775444264943 688 768 6 6\n",
      "2411.262697022767 2364 2444 22 22\n",
      "943.3845693779904 893 973 8 8\n",
      "1454.4232081911264 1404 1484 13 13\n",
      "839.9360269360269 790 870 7 7\n",
      "225.00715015321757 178 258 1 1\n",
      "2820.0575263662513 2771 2851 26 26\n",
      "2105.4989384288747 2055 2135 19 19\n",
      "635.4343544857768 588 668 5 5\n",
      "327.40380047505937 280 360 2 2\n",
      "2514.723731884058 2466 2546 23 23\n",
      "1046.715976331361 995 1075 9 9\n",
      "1250.744537815126 1199 1279 11 11\n",
      "2616.540500736377 2566 2646 24 24\n",
      "431.35276532137516 382 462 3 3\n",
      "2311.120987654321 2259 2339 21 21\n",
      "1596.0829195630586 1543 1623 14 14\n",
      "2411.9469696969695 2364 2444 22 22\n",
      "2209.0510018214936 2156 2236 20 20\n",
      "2719.3221809169763 2668 2748 25 25\n",
      "737.7242582897034 688 768 6 6\n",
      "1352.9547368421054 1300 1380 12 12\n",
      "839.1869639794168 790 870 7 7\n",
      "531.5396825396825 484 564 4 4\n",
      "2004.5765550239234 1956 2036 18 18\n",
      "329.49792531120335 280 360 2 2\n",
      "1699.1717081850534 1646 1726 15 15\n",
      "2108.2946593001843 2055 2135 19 19\n",
      "124.35282651072124 76 156 0 0\n",
      "1458.559298569451 1404 1484 13 13\n",
      "2413.515587529976 2364 2444 22 22\n",
      "1150.0598851517636 1097 1177 10 10\n",
      "227.08198614318707 178 258 1 1\n",
      "2924.6817042606517 2873 2953 27 27\n",
      "1251.9515050167224 1199 1279 11 11\n",
      "1046.7909407665504 995 1075 9 9\n",
      "2209.794032723773 2156 2236 20 20\n",
      "432.9579831932773 382 462 3 3\n",
      "2618.4266666666667 2566 2646 24 24\n",
      "742.5894294714735 688 768 6 6\n",
      "638.4930924548353 588 668 5 5\n",
      "332.11875 280 360 2 2\n",
      "844.1678832116788 790 870 7 7\n",
      "536.1940298507462 484 564 4 4\n",
      "2825.213040181956 2771 2851 26 26\n",
      "2414.222018348624 2364 2444 22 22\n",
      "2313.423615743829 2259 2339 21 21\n",
      "2721.1716129032257 2668 2748 25 25\n",
      "2516.558359621451 2466 2546 23 23\n",
      "948.7051392477749 893 973 8 8\n",
      "2006.816733067729 1956 2036 18 18\n",
      "1357.7694300518135 1300 1380 12 12\n",
      "1253.3658536585365 1199 1279 11 11\n",
      "1049.8967297762479 995 1075 9 9\n",
      "332.75302308537925 280 360 2 2\n",
      "229.19022869022868 178 258 1 1\n",
      "534.6710963455149 484 564 4 4\n",
      "1700.0934320074005 1646 1726 15 15\n",
      "127.84925690021231 76 156 0 0\n",
      "2620.201096892139 2566 2646 24 24\n",
      "434.4777183600713 382 462 3 3\n",
      "2927.4322820037105 2873 2953 27 27\n",
      "640.491683991684 588 668 5 5\n",
      "2008.4703668861712 1956 2036 18 18\n",
      "2210.545988258317 2156 2236 20 20\n",
      "2725.1830601092897 2668 2748 25 25\n",
      "1154.9086521889003 1097 1177 10 10\n",
      "848.0785519125683 790 870 7 7\n",
      "1049.8017366136035 995 1075 9 9\n",
      "1598.8373333333334 1543 1623 14 14\n",
      "2416.939668174962 2364 2444 22 22\n",
      "2112.4391626689926 2055 2135 19 19\n",
      "1359.7803217821781 1300 1380 12 12\n",
      "537.4904013961606 484 564 4 4\n",
      "2520.517867271696 2466 2546 23 23\n",
      "2623.0408525754883 2566 2646 24 24\n",
      "438.1453175457481 382 462 3 3\n",
      "231.19764705882352 178 258 1 1\n",
      "1905.966318234611 1851 1931 17 17\n",
      "2214.1491053677933 2156 2236 20 20\n",
      "129.12809917355372 76 156 0 0\n",
      "1600.3185595567868 1543 1623 14 14\n",
      "1702.2215189873418 1646 1726 15 15\n",
      "1255.7732793522266 1199 1279 11 11\n",
      "2317.3550432276656 2259 2339 21 21\n",
      "1050.059842519685 995 1075 9 9\n",
      "537.9756097560976 484 564 4 4\n",
      "643.9068529607451 588 668 5 5\n",
      "2623.2274562584116 2566 2646 24 24\n",
      "1462.734036939314 1404 1484 13 13\n",
      "2930.3042582417584 2873 2953 27 27\n",
      "2419.5559210526317 2364 2444 22 22\n",
      "1600.7624565469293 1543 1623 14 14\n",
      "2010.7261794634599 1956 2036 18 18\n",
      "2214.553830227743 2156 2236 20 20\n",
      "1704.1387665198238 1646 1726 15 15\n",
      "1257.1156583629893 1199 1279 11 11\n",
      "2419.5958549222796 2364 2444 22 22\n",
      "233.3043956043956 178 258 1 1\n",
      "539.6022727272727 484 564 4 4\n",
      "1053.8472385428906 995 1075 9 9\n",
      "1910.3163972286375 1851 1931 17 17\n",
      "131.8027127003699 76 156 0 0\n",
      "2624.7706766917295 2566 2646 24 24\n",
      "1705.3955094991366 1646 1726 15 15\n",
      "2829.209935897436 2771 2851 26 26\n",
      "1257.7050505050504 1199 1279 11 11\n",
      "746.726090283091 688 768 6 6\n",
      "1604.10348583878 1543 1623 14 14\n",
      "2420.856152512998 2364 2444 22 22\n",
      "1910.494752623688 1851 1931 17 17\n",
      "1360.7980922098568 1300 1380 12 12\n",
      "542.0220440881764 484 564 4 4\n",
      "2523.7186544342508 2466 2546 23 23\n",
      "235.63062283737025 178 258 1 1\n",
      "2012.951923076923 1956 2036 18 18\n",
      "2218.5238095238096 2156 2236 20 20\n",
      "1706.3086419753085 1646 1726 15 15\n",
      "338.3793859649123 280 360 2 2\n",
      "133.42190889370931 76 156 0 0\n",
      "542.852233676976 484 564 4 4\n",
      "953.4824797843665 893 973 8 8\n",
      "339.8131868131868 280 360 2 2\n"
     ]
    }
   ],
   "source": [
    "for prop in props:\n",
    "    left_index = bisect.bisect_left(trap_locations_left, prop.centroid[0])\n",
    "    right_index = bisect.bisect_right(trap_locations_right, prop.centroid[0])\n",
    "    print(prop.centroid[0], trap_locations_left[left_index-1], trap_locations_right[right_index], left_index-1, right_index)\n",
    "    if left_index - 1 == right_index:\n",
    "        prop.trap = right_index\n",
    "    else:\n",
    "        prop.trap = None\n",
    "    prop.left_index = left_index\n",
    "    prop.right_index = right_index"
   ]
  },
  {
   "cell_type": "code",
   "execution_count": 56,
   "id": "11114921-94ae-4214-a623-4acc9deb475c",
   "metadata": {},
   "outputs": [
    {
     "data": {
      "text/plain": [
       "28"
      ]
     },
     "execution_count": 56,
     "metadata": {},
     "output_type": "execute_result"
    }
   ],
   "source": [
    "props[0].left_index"
   ]
  },
  {
   "cell_type": "code",
   "execution_count": 57,
   "id": "0518e3c8-ccd1-4ad9-a89a-ede9ec763bee",
   "metadata": {},
   "outputs": [
    {
     "data": {
      "text/plain": [
       "27"
      ]
     },
     "execution_count": 57,
     "metadata": {},
     "output_type": "execute_result"
    }
   ],
   "source": [
    "props[0].right_index"
   ]
  },
  {
   "cell_type": "code",
   "execution_count": null,
   "id": "5b4b3b4b-3879-4cdf-806f-4046f6bd5213",
   "metadata": {},
   "outputs": [],
   "source": []
  }
 ],
 "metadata": {
  "kernelspec": {
   "display_name": "Python 3 (ipykernel)",
   "language": "python",
   "name": "python3"
  },
  "language_info": {
   "codemirror_mode": {
    "name": "ipython",
    "version": 3
   },
   "file_extension": ".py",
   "mimetype": "text/x-python",
   "name": "python",
   "nbconvert_exporter": "python",
   "pygments_lexer": "ipython3",
   "version": "3.11.0"
  }
 },
 "nbformat": 4,
 "nbformat_minor": 5
}
