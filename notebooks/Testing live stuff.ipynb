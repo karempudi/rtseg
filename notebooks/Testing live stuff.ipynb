{
 "cells": [
  {
   "cell_type": "code",
   "execution_count": 1,
   "id": "5649aaf4-d2fa-454f-8aa7-6348635051f4",
   "metadata": {},
   "outputs": [],
   "source": [
    "%reload_ext autoreload\n",
    "%autoreload 2"
   ]
  },
  {
   "cell_type": "code",
   "execution_count": 4,
   "id": "d14e45c8-6b69-4ff1-b76e-901852e1f054",
   "metadata": {},
   "outputs": [],
   "source": [
    "!pip install PyQt5"
   ]
  },
  {
   "cell_type": "code",
   "execution_count": 6,
   "id": "215b789c-41a9-47de-bc8d-245c33708c1e",
   "metadata": {},
   "outputs": [],
   "source": [
    "import numpy as np\n",
    "from rtseg.utils.param_io import load_params\n",
    "from pathlib import Path\n",
    "import matplotlib.pyplot as plt\n",
    "from skimage.transform import resize\n",
    "from skimage.io import imread\n",
    "from rtseg.forkplot import compute_forkplot_stats\n",
    "import matplotlib.patches as patches"
   ]
  },
  {
   "cell_type": "code",
   "execution_count": 7,
   "id": "75c4e7e7-1a23-43a3-a4e0-3b473fe4c822",
   "metadata": {},
<<<<<<< Updated upstream
   "outputs": [],
=======
   "outputs": [
    {
     "name": "stderr",
     "output_type": "stream",
     "text": [
      "/home/pk/Documents/rtclient/.venv/lib/python3.11/site-packages/albumentations/__init__.py:24: UserWarning: A new version of Albumentations is available: '2.0.3' (you have '2.0.0'). Upgrade using: pip install -U albumentations. To disable automatic update checks, set the environment variable NO_ALBUMENTATIONS_UPDATE to 1.\n",
      "  check_for_updates()\n"
     ]
    }
   ],
>>>>>>> Stashed changes
   "source": [
    "from rtseg.segmentation import LiveNet, get_live_model, live_segment"
   ]
  },
  {
   "cell_type": "code",
   "execution_count": 9,
   "id": "9247fa59-99c5-4d75-85b1-966976b0f75d",
   "metadata": {},
   "outputs": [],
   "source": [
    "params_path = Path(\"C:/Users/oscbr226/Desktop/Initiation_Lib_Tweezer/Code/realtimeAnalysis/rtseg/rtseg/resources/reference_params/reference_microscope.yaml\")\n",
    "params = load_params(params_path, ref_type='expt')"
   ]
  },
  {
   "cell_type": "code",
   "execution_count": 11,
   "id": "888025b8-216c-4044-9c8d-25261b6bd740",
   "metadata": {},
   "outputs": [
    {
     "data": {
      "text/plain": [
       "namespace(Hardware=namespace(device='cuda:0'),\n",
       "          Save=namespace(trap_width=80),\n",
       "          Forkplots=namespace(pixel_size=0.046,\n",
       "                              bin_scale=20,\n",
       "                              heatmap_threshold=0.99),\n",
       "          Segmentation=namespace(type='dual',\n",
       "                                 architecture='Unet',\n",
       "                                 output=['cells', 'channels'],\n",
       "                                 model_paths=namespace(both='C:\\\\\\\\Users\\\\\\\\elflab\\\\\\\\Documents\\\\\\\\Praneeth\\\\\\\\models\\\\\\\\seg_expts\\\\\\\\2025-01-22_13-53-51\\\\\\\\model.pth',\n",
       "                                                       cells=None,\n",
       "                                                       channels=None),\n",
       "                                 thresholds=namespace(cells=namespace(probability=0.85),\n",
       "                                                      channels=namespace(probability=0.5)),\n",
       "                                 transformations=namespace(before_type='UnetTestTransforms',\n",
       "                                                           after_type='PostSegTransforms'),\n",
       "                                 model_params=namespace(channels_by_scale=[1,\n",
       "                                                                           32,\n",
       "                                                                           64,\n",
       "                                                                           128,\n",
       "                                                                           256],\n",
       "                                                        num_outputs=2,\n",
       "                                                        upsample_type='transpose_conv',\n",
       "                                                        feature_fusion_type='concat')),\n",
       "          Dots=namespace(min_spot_area=0.0,\n",
       "                         max_axes_ratio=2.0,\n",
       "                         wavelet_plane_no=1,\n",
       "                         noise_threshold=3.7),\n",
       "          Events=namespace(path=''),\n",
       "          Logging=namespace(to_file=True, to_console=True),\n",
       "          BarcodeAndChannels=namespace(thresholds=namespace(conf=0.5, iou=0.5),\n",
       "                                       img_size=[256, 800],\n",
       "                                       num_traps_per_block=14,\n",
       "                                       num_blocks_per_image=2,\n",
       "                                       distance_between_traps=65,\n",
       "                                       peak_prominences=200,\n",
       "                                       channel_mask=[400, 800],\n",
       "                                       architecture='YOLOv3',\n",
       "                                       model_path='C:\\\\\\\\Users\\\\\\\\elflab\\\\\\\\Documents\\\\\\\\Praneeth\\\\\\\\models\\\\\\\\barcode_expts\\\\\\\\2025-01-17_13-26-07\\\\\\\\model.pth',\n",
       "                                       batch_size=1,\n",
       "                                       transformations=namespace(before_type='YoloLiveAugmentations',\n",
       "                                                                 after_type='YoloLiveUnAgumentations'),\n",
       "                                       model_params=namespace(num_classes=1,\n",
       "                                                              anchors=namespace(number=9,\n",
       "                                                                                sizes=[[19,\n",
       "                                                                                        168],\n",
       "                                                                                       [21,\n",
       "                                                                                        168],\n",
       "                                                                                       [29,\n",
       "                                                                                        178],\n",
       "                                                                                       [11,\n",
       "                                                                                        130],\n",
       "                                                                                       [11,\n",
       "                                                                                        131],\n",
       "                                                                                       [15,\n",
       "                                                                                        165],\n",
       "                                                                                       [6,\n",
       "                                                                                        115],\n",
       "                                                                                       [7,\n",
       "                                                                                        115],\n",
       "                                                                                       [7,\n",
       "                                                                                        125]],\n",
       "                                                                                strides=[[32,\n",
       "                                                                                          32],\n",
       "                                                                                         [16,\n",
       "                                                                                          16],\n",
       "                                                                                         [8,\n",
       "                                                                                          8]]))))"
      ]
     },
     "execution_count": 11,
     "metadata": {},
     "output_type": "execute_result"
    }
   ],
   "source": [
    "params"
   ]
  },
  {
   "cell_type": "code",
   "execution_count": 12,
   "id": "b8f07709-eed3-4d94-99f9-99863225ce2a",
   "metadata": {},
   "outputs": [
    {
     "ename": "FileNotFoundError",
     "evalue": "[Errno 2] No such file or directory: 'C:\\\\home\\\\pk\\\\Documents\\\\rtclient\\\\rtclient\\\\resources\\\\test_images\\\\phase_dummy.tiff'",
     "output_type": "error",
     "traceback": [
      "\u001b[1;31m---------------------------------------------------------------------------\u001b[0m",
      "\u001b[1;31mFileNotFoundError\u001b[0m                         Traceback (most recent call last)",
      "\u001b[1;32m~\\AppData\\Local\\Temp\\ipykernel_13708\\1277819797.py\u001b[0m in \u001b[0;36m?\u001b[1;34m()\u001b[0m\n\u001b[0;32m      1\u001b[0m \u001b[0mphase_path\u001b[0m \u001b[1;33m=\u001b[0m \u001b[0mPath\u001b[0m\u001b[1;33m(\u001b[0m\u001b[1;34m'/home/pk/Documents/rtclient/rtclient/resources/test_images/phase_dummy.tiff'\u001b[0m\u001b[1;33m)\u001b[0m\u001b[1;33m\u001b[0m\u001b[1;33m\u001b[0m\u001b[0m\n\u001b[0;32m      2\u001b[0m \u001b[0mfluor_path\u001b[0m \u001b[1;33m=\u001b[0m \u001b[0mPath\u001b[0m\u001b[1;33m(\u001b[0m\u001b[1;34m'/home/pk/Documents/rtclient/rtclient/resources/test_images/fluor_dummy.tiff'\u001b[0m\u001b[1;33m)\u001b[0m\u001b[1;33m\u001b[0m\u001b[1;33m\u001b[0m\u001b[0m\n\u001b[1;32m----> 3\u001b[1;33m \u001b[0mphase_img\u001b[0m \u001b[1;33m=\u001b[0m \u001b[0mimread\u001b[0m\u001b[1;33m(\u001b[0m\u001b[0mphase_path\u001b[0m\u001b[1;33m)\u001b[0m\u001b[1;33m.\u001b[0m\u001b[0mastype\u001b[0m\u001b[1;33m(\u001b[0m\u001b[1;34m'float32'\u001b[0m\u001b[1;33m)\u001b[0m\u001b[1;33m\u001b[0m\u001b[1;33m\u001b[0m\u001b[0m\n\u001b[0m\u001b[0;32m      4\u001b[0m \u001b[0mfluor_img\u001b[0m \u001b[1;33m=\u001b[0m \u001b[0mimread\u001b[0m\u001b[1;33m(\u001b[0m\u001b[0mfluor_path\u001b[0m\u001b[1;33m)\u001b[0m\u001b[1;33m\u001b[0m\u001b[1;33m\u001b[0m\u001b[0m\n\u001b[0;32m      5\u001b[0m datapoint = {\n\u001b[0;32m      6\u001b[0m     \u001b[1;34m'phase'\u001b[0m\u001b[1;33m:\u001b[0m \u001b[0mphase_img\u001b[0m\u001b[1;33m,\u001b[0m\u001b[1;33m\u001b[0m\u001b[1;33m\u001b[0m\u001b[0m\n",
      "\u001b[1;32m~\\Desktop\\Initiation_Lib_Tweezer\\Code\\realtimeAnalysis\\.venv\\Lib\\site-packages\\skimage\\_shared\\utils.py\u001b[0m in \u001b[0;36m?\u001b[1;34m(*args, **kwargs)\u001b[0m\n\u001b[0;32m    324\u001b[0m                 \u001b[1;32melif\u001b[0m \u001b[0mself\u001b[0m\u001b[1;33m.\u001b[0m\u001b[0mnew_name\u001b[0m \u001b[1;32mis\u001b[0m \u001b[1;32mnot\u001b[0m \u001b[1;32mNone\u001b[0m\u001b[1;33m:\u001b[0m\u001b[1;33m\u001b[0m\u001b[1;33m\u001b[0m\u001b[0m\n\u001b[0;32m    325\u001b[0m                     \u001b[1;31m# Assign old value to new one\u001b[0m\u001b[1;33m\u001b[0m\u001b[1;33m\u001b[0m\u001b[0m\n\u001b[0;32m    326\u001b[0m                     \u001b[0mkwargs\u001b[0m\u001b[1;33m[\u001b[0m\u001b[0mself\u001b[0m\u001b[1;33m.\u001b[0m\u001b[0mnew_name\u001b[0m\u001b[1;33m]\u001b[0m \u001b[1;33m=\u001b[0m \u001b[0mdeprecated_value\u001b[0m\u001b[1;33m\u001b[0m\u001b[1;33m\u001b[0m\u001b[0m\n\u001b[0;32m    327\u001b[0m \u001b[1;33m\u001b[0m\u001b[0m\n\u001b[1;32m--> 328\u001b[1;33m             \u001b[1;32mreturn\u001b[0m \u001b[0mfunc\u001b[0m\u001b[1;33m(\u001b[0m\u001b[1;33m*\u001b[0m\u001b[0margs\u001b[0m\u001b[1;33m,\u001b[0m \u001b[1;33m**\u001b[0m\u001b[0mkwargs\u001b[0m\u001b[1;33m)\u001b[0m\u001b[1;33m\u001b[0m\u001b[1;33m\u001b[0m\u001b[0m\n\u001b[0m",
      "\u001b[1;32m~\\Desktop\\Initiation_Lib_Tweezer\\Code\\realtimeAnalysis\\.venv\\Lib\\site-packages\\skimage\\io\\_io.py\u001b[0m in \u001b[0;36m?\u001b[1;34m(fname, as_gray, plugin, **plugin_args)\u001b[0m\n\u001b[0;32m     78\u001b[0m         \u001b[1;32mif\u001b[0m \u001b[0mfname\u001b[0m\u001b[1;33m.\u001b[0m\u001b[0mlower\u001b[0m\u001b[1;33m(\u001b[0m\u001b[1;33m)\u001b[0m\u001b[1;33m.\u001b[0m\u001b[0mendswith\u001b[0m\u001b[1;33m(\u001b[0m\u001b[1;33m(\u001b[0m\u001b[1;34m'.tiff'\u001b[0m\u001b[1;33m,\u001b[0m \u001b[1;34m'.tif'\u001b[0m\u001b[1;33m)\u001b[0m\u001b[1;33m)\u001b[0m\u001b[1;33m:\u001b[0m\u001b[1;33m\u001b[0m\u001b[1;33m\u001b[0m\u001b[0m\n\u001b[0;32m     79\u001b[0m             \u001b[0mplugin\u001b[0m \u001b[1;33m=\u001b[0m \u001b[1;34m'tifffile'\u001b[0m\u001b[1;33m\u001b[0m\u001b[1;33m\u001b[0m\u001b[0m\n\u001b[0;32m     80\u001b[0m \u001b[1;33m\u001b[0m\u001b[0m\n\u001b[0;32m     81\u001b[0m     \u001b[1;32mwith\u001b[0m \u001b[0mfile_or_url_context\u001b[0m\u001b[1;33m(\u001b[0m\u001b[0mfname\u001b[0m\u001b[1;33m)\u001b[0m \u001b[1;32mas\u001b[0m \u001b[0mfname\u001b[0m\u001b[1;33m,\u001b[0m \u001b[0m_hide_plugin_deprecation_warnings\u001b[0m\u001b[1;33m(\u001b[0m\u001b[1;33m)\u001b[0m\u001b[1;33m:\u001b[0m\u001b[1;33m\u001b[0m\u001b[1;33m\u001b[0m\u001b[0m\n\u001b[1;32m---> 82\u001b[1;33m         \u001b[0mimg\u001b[0m \u001b[1;33m=\u001b[0m \u001b[0mcall_plugin\u001b[0m\u001b[1;33m(\u001b[0m\u001b[1;34m'imread'\u001b[0m\u001b[1;33m,\u001b[0m \u001b[0mfname\u001b[0m\u001b[1;33m,\u001b[0m \u001b[0mplugin\u001b[0m\u001b[1;33m=\u001b[0m\u001b[0mplugin\u001b[0m\u001b[1;33m,\u001b[0m \u001b[1;33m**\u001b[0m\u001b[0mplugin_args\u001b[0m\u001b[1;33m)\u001b[0m\u001b[1;33m\u001b[0m\u001b[1;33m\u001b[0m\u001b[0m\n\u001b[0m\u001b[0;32m     83\u001b[0m \u001b[1;33m\u001b[0m\u001b[0m\n\u001b[0;32m     84\u001b[0m     \u001b[1;32mif\u001b[0m \u001b[1;32mnot\u001b[0m \u001b[0mhasattr\u001b[0m\u001b[1;33m(\u001b[0m\u001b[0mimg\u001b[0m\u001b[1;33m,\u001b[0m \u001b[1;34m'ndim'\u001b[0m\u001b[1;33m)\u001b[0m\u001b[1;33m:\u001b[0m\u001b[1;33m\u001b[0m\u001b[1;33m\u001b[0m\u001b[0m\n\u001b[0;32m     85\u001b[0m         \u001b[1;32mreturn\u001b[0m \u001b[0mimg\u001b[0m\u001b[1;33m\u001b[0m\u001b[1;33m\u001b[0m\u001b[0m\n",
      "\u001b[1;32m~\\Desktop\\Initiation_Lib_Tweezer\\Code\\realtimeAnalysis\\.venv\\Lib\\site-packages\\skimage\\_shared\\utils.py\u001b[0m in \u001b[0;36m?\u001b[1;34m(*args, **kwargs)\u001b[0m\n\u001b[0;32m    534\u001b[0m         \u001b[1;33m@\u001b[0m\u001b[0mfunctools\u001b[0m\u001b[1;33m.\u001b[0m\u001b[0mwraps\u001b[0m\u001b[1;33m(\u001b[0m\u001b[0mfunc\u001b[0m\u001b[1;33m)\u001b[0m\u001b[1;33m\u001b[0m\u001b[1;33m\u001b[0m\u001b[0m\n\u001b[0;32m    535\u001b[0m         \u001b[1;32mdef\u001b[0m \u001b[0mwrapped\u001b[0m\u001b[1;33m(\u001b[0m\u001b[1;33m*\u001b[0m\u001b[0margs\u001b[0m\u001b[1;33m,\u001b[0m \u001b[1;33m**\u001b[0m\u001b[0mkwargs\u001b[0m\u001b[1;33m)\u001b[0m\u001b[1;33m:\u001b[0m\u001b[1;33m\u001b[0m\u001b[1;33m\u001b[0m\u001b[0m\n\u001b[0;32m    536\u001b[0m             \u001b[0mstacklevel\u001b[0m \u001b[1;33m=\u001b[0m \u001b[1;36m1\u001b[0m \u001b[1;33m+\u001b[0m \u001b[0mself\u001b[0m\u001b[1;33m.\u001b[0m\u001b[0mget_stack_length\u001b[0m\u001b[1;33m(\u001b[0m\u001b[0mfunc\u001b[0m\u001b[1;33m)\u001b[0m \u001b[1;33m-\u001b[0m \u001b[0mstack_rank\u001b[0m\u001b[1;33m\u001b[0m\u001b[1;33m\u001b[0m\u001b[0m\n\u001b[0;32m    537\u001b[0m             \u001b[0mwarnings\u001b[0m\u001b[1;33m.\u001b[0m\u001b[0mwarn\u001b[0m\u001b[1;33m(\u001b[0m\u001b[0mmessage\u001b[0m\u001b[1;33m,\u001b[0m \u001b[0mcategory\u001b[0m\u001b[1;33m=\u001b[0m\u001b[0mFutureWarning\u001b[0m\u001b[1;33m,\u001b[0m \u001b[0mstacklevel\u001b[0m\u001b[1;33m=\u001b[0m\u001b[0mstacklevel\u001b[0m\u001b[1;33m)\u001b[0m\u001b[1;33m\u001b[0m\u001b[1;33m\u001b[0m\u001b[0m\n\u001b[1;32m--> 538\u001b[1;33m             \u001b[1;32mreturn\u001b[0m \u001b[0mfunc\u001b[0m\u001b[1;33m(\u001b[0m\u001b[1;33m*\u001b[0m\u001b[0margs\u001b[0m\u001b[1;33m,\u001b[0m \u001b[1;33m**\u001b[0m\u001b[0mkwargs\u001b[0m\u001b[1;33m)\u001b[0m\u001b[1;33m\u001b[0m\u001b[1;33m\u001b[0m\u001b[0m\n\u001b[0m",
      "\u001b[1;32m~\\Desktop\\Initiation_Lib_Tweezer\\Code\\realtimeAnalysis\\.venv\\Lib\\site-packages\\skimage\\io\\manage_plugins.py\u001b[0m in \u001b[0;36m?\u001b[1;34m(kind, *args, **kwargs)\u001b[0m\n\u001b[0;32m    250\u001b[0m             \u001b[0mfunc\u001b[0m \u001b[1;33m=\u001b[0m \u001b[1;33m[\u001b[0m\u001b[0mf\u001b[0m \u001b[1;32mfor\u001b[0m \u001b[1;33m(\u001b[0m\u001b[0mp\u001b[0m\u001b[1;33m,\u001b[0m \u001b[0mf\u001b[0m\u001b[1;33m)\u001b[0m \u001b[1;32min\u001b[0m \u001b[0mplugin_funcs\u001b[0m \u001b[1;32mif\u001b[0m \u001b[0mp\u001b[0m \u001b[1;33m==\u001b[0m \u001b[0mplugin\u001b[0m\u001b[1;33m]\u001b[0m\u001b[1;33m[\u001b[0m\u001b[1;36m0\u001b[0m\u001b[1;33m]\u001b[0m\u001b[1;33m\u001b[0m\u001b[1;33m\u001b[0m\u001b[0m\n\u001b[0;32m    251\u001b[0m         \u001b[1;32mexcept\u001b[0m \u001b[0mIndexError\u001b[0m\u001b[1;33m:\u001b[0m\u001b[1;33m\u001b[0m\u001b[1;33m\u001b[0m\u001b[0m\n\u001b[0;32m    252\u001b[0m             \u001b[1;32mraise\u001b[0m \u001b[0mRuntimeError\u001b[0m\u001b[1;33m(\u001b[0m\u001b[1;34mf'Could not find the plugin \"{plugin}\" for {kind}.'\u001b[0m\u001b[1;33m)\u001b[0m\u001b[1;33m\u001b[0m\u001b[1;33m\u001b[0m\u001b[0m\n\u001b[0;32m    253\u001b[0m \u001b[1;33m\u001b[0m\u001b[0m\n\u001b[1;32m--> 254\u001b[1;33m     \u001b[1;32mreturn\u001b[0m \u001b[0mfunc\u001b[0m\u001b[1;33m(\u001b[0m\u001b[1;33m*\u001b[0m\u001b[0margs\u001b[0m\u001b[1;33m,\u001b[0m \u001b[1;33m**\u001b[0m\u001b[0mkwargs\u001b[0m\u001b[1;33m)\u001b[0m\u001b[1;33m\u001b[0m\u001b[1;33m\u001b[0m\u001b[0m\n\u001b[0m",
      "\u001b[1;32m~\\Desktop\\Initiation_Lib_Tweezer\\Code\\realtimeAnalysis\\.venv\\Lib\\site-packages\\skimage\\io\\_plugins\\tifffile_plugin.py\u001b[0m in \u001b[0;36m?\u001b[1;34m(fname, **kwargs)\u001b[0m\n\u001b[0;32m     70\u001b[0m     \"\"\"\n\u001b[0;32m     71\u001b[0m     \u001b[1;32mif\u001b[0m \u001b[1;34m'img_num'\u001b[0m \u001b[1;32min\u001b[0m \u001b[0mkwargs\u001b[0m\u001b[1;33m:\u001b[0m\u001b[1;33m\u001b[0m\u001b[1;33m\u001b[0m\u001b[0m\n\u001b[0;32m     72\u001b[0m         \u001b[0mkwargs\u001b[0m\u001b[1;33m[\u001b[0m\u001b[1;34m'key'\u001b[0m\u001b[1;33m]\u001b[0m \u001b[1;33m=\u001b[0m \u001b[0mkwargs\u001b[0m\u001b[1;33m.\u001b[0m\u001b[0mpop\u001b[0m\u001b[1;33m(\u001b[0m\u001b[1;34m'img_num'\u001b[0m\u001b[1;33m)\u001b[0m\u001b[1;33m\u001b[0m\u001b[1;33m\u001b[0m\u001b[0m\n\u001b[0;32m     73\u001b[0m \u001b[1;33m\u001b[0m\u001b[0m\n\u001b[1;32m---> 74\u001b[1;33m     \u001b[1;32mreturn\u001b[0m \u001b[0mtifffile_imread\u001b[0m\u001b[1;33m(\u001b[0m\u001b[0mfname\u001b[0m\u001b[1;33m,\u001b[0m \u001b[1;33m**\u001b[0m\u001b[0mkwargs\u001b[0m\u001b[1;33m)\u001b[0m\u001b[1;33m\u001b[0m\u001b[1;33m\u001b[0m\u001b[0m\n\u001b[0m",
      "\u001b[1;32m~\\Desktop\\Initiation_Lib_Tweezer\\Code\\realtimeAnalysis\\.venv\\Lib\\site-packages\\tifffile\\tifffile.py\u001b[0m in \u001b[0;36m?\u001b[1;34m(***failed resolving arguments***)\u001b[0m\n\u001b[0;32m   1224\u001b[0m         ):\n\u001b[0;32m   1225\u001b[0m             \u001b[0mfiles\u001b[0m \u001b[1;33m=\u001b[0m \u001b[0mfiles\u001b[0m\u001b[1;33m[\u001b[0m\u001b[1;36m0\u001b[0m\u001b[1;33m]\u001b[0m\u001b[1;33m\u001b[0m\u001b[1;33m\u001b[0m\u001b[0m\n\u001b[0;32m   1226\u001b[0m \u001b[1;33m\u001b[0m\u001b[0m\n\u001b[0;32m   1227\u001b[0m         \u001b[1;32mif\u001b[0m \u001b[0misinstance\u001b[0m\u001b[1;33m(\u001b[0m\u001b[0mfiles\u001b[0m\u001b[1;33m,\u001b[0m \u001b[0mstr\u001b[0m\u001b[1;33m)\u001b[0m \u001b[1;32mor\u001b[0m \u001b[1;32mnot\u001b[0m \u001b[0misinstance\u001b[0m\u001b[1;33m(\u001b[0m\u001b[0mfiles\u001b[0m\u001b[1;33m,\u001b[0m \u001b[0mSequence\u001b[0m\u001b[1;33m)\u001b[0m\u001b[1;33m:\u001b[0m\u001b[1;33m\u001b[0m\u001b[1;33m\u001b[0m\u001b[0m\n\u001b[1;32m-> 1228\u001b[1;33m             with TiffFile(\n\u001b[0m\u001b[0;32m   1229\u001b[0m                 \u001b[0mfiles\u001b[0m\u001b[1;33m,\u001b[0m\u001b[1;33m\u001b[0m\u001b[1;33m\u001b[0m\u001b[0m\n\u001b[0;32m   1230\u001b[0m                 \u001b[0mmode\u001b[0m\u001b[1;33m=\u001b[0m\u001b[0mmode\u001b[0m\u001b[1;33m,\u001b[0m\u001b[1;33m\u001b[0m\u001b[1;33m\u001b[0m\u001b[0m\n\u001b[0;32m   1231\u001b[0m                 \u001b[0mname\u001b[0m\u001b[1;33m=\u001b[0m\u001b[0mname\u001b[0m\u001b[1;33m,\u001b[0m\u001b[1;33m\u001b[0m\u001b[1;33m\u001b[0m\u001b[0m\n",
      "\u001b[1;32m~\\Desktop\\Initiation_Lib_Tweezer\\Code\\realtimeAnalysis\\.venv\\Lib\\site-packages\\tifffile\\tifffile.py\u001b[0m in \u001b[0;36m?\u001b[1;34m(self, file, mode, name, offset, size, omexml, _multifile, _useframes, _parent, **is_flags)\u001b[0m\n\u001b[0;32m   4290\u001b[0m                 \u001b[1;32mraise\u001b[0m \u001b[0mValueError\u001b[0m\u001b[1;33m(\u001b[0m\u001b[1;34m'invalid OME-XML'\u001b[0m\u001b[1;33m)\u001b[0m\u001b[1;33m\u001b[0m\u001b[1;33m\u001b[0m\u001b[0m\n\u001b[0;32m   4291\u001b[0m             \u001b[0mself\u001b[0m\u001b[1;33m.\u001b[0m\u001b[0m_omexml\u001b[0m \u001b[1;33m=\u001b[0m \u001b[0momexml\u001b[0m\u001b[1;33m\u001b[0m\u001b[1;33m\u001b[0m\u001b[0m\n\u001b[0;32m   4292\u001b[0m             \u001b[0mself\u001b[0m\u001b[1;33m.\u001b[0m\u001b[0mis_ome\u001b[0m \u001b[1;33m=\u001b[0m \u001b[1;32mTrue\u001b[0m\u001b[1;33m\u001b[0m\u001b[1;33m\u001b[0m\u001b[0m\n\u001b[0;32m   4293\u001b[0m \u001b[1;33m\u001b[0m\u001b[0m\n\u001b[1;32m-> 4294\u001b[1;33m         \u001b[0mfh\u001b[0m \u001b[1;33m=\u001b[0m \u001b[0mFileHandle\u001b[0m\u001b[1;33m(\u001b[0m\u001b[0mfile\u001b[0m\u001b[1;33m,\u001b[0m \u001b[0mmode\u001b[0m\u001b[1;33m=\u001b[0m\u001b[0mmode\u001b[0m\u001b[1;33m,\u001b[0m \u001b[0mname\u001b[0m\u001b[1;33m=\u001b[0m\u001b[0mname\u001b[0m\u001b[1;33m,\u001b[0m \u001b[0moffset\u001b[0m\u001b[1;33m=\u001b[0m\u001b[0moffset\u001b[0m\u001b[1;33m,\u001b[0m \u001b[0msize\u001b[0m\u001b[1;33m=\u001b[0m\u001b[0msize\u001b[0m\u001b[1;33m)\u001b[0m\u001b[1;33m\u001b[0m\u001b[1;33m\u001b[0m\u001b[0m\n\u001b[0m\u001b[0;32m   4295\u001b[0m         \u001b[0mself\u001b[0m\u001b[1;33m.\u001b[0m\u001b[0m_fh\u001b[0m \u001b[1;33m=\u001b[0m \u001b[0mfh\u001b[0m\u001b[1;33m\u001b[0m\u001b[1;33m\u001b[0m\u001b[0m\n\u001b[0;32m   4296\u001b[0m         \u001b[0mself\u001b[0m\u001b[1;33m.\u001b[0m\u001b[0m_multifile\u001b[0m \u001b[1;33m=\u001b[0m \u001b[1;32mTrue\u001b[0m \u001b[1;32mif\u001b[0m \u001b[0m_multifile\u001b[0m \u001b[1;32mis\u001b[0m \u001b[1;32mNone\u001b[0m \u001b[1;32melse\u001b[0m \u001b[0mbool\u001b[0m\u001b[1;33m(\u001b[0m\u001b[0m_multifile\u001b[0m\u001b[1;33m)\u001b[0m\u001b[1;33m\u001b[0m\u001b[1;33m\u001b[0m\u001b[0m\n\u001b[0;32m   4297\u001b[0m         \u001b[0mself\u001b[0m\u001b[1;33m.\u001b[0m\u001b[0m_files\u001b[0m \u001b[1;33m=\u001b[0m \u001b[1;33m{\u001b[0m\u001b[0mfh\u001b[0m\u001b[1;33m.\u001b[0m\u001b[0mname\u001b[0m\u001b[1;33m:\u001b[0m \u001b[0mself\u001b[0m\u001b[1;33m}\u001b[0m\u001b[1;33m\u001b[0m\u001b[1;33m\u001b[0m\u001b[0m\n",
      "\u001b[1;32m~\\Desktop\\Initiation_Lib_Tweezer\\Code\\realtimeAnalysis\\.venv\\Lib\\site-packages\\tifffile\\tifffile.py\u001b[0m in \u001b[0;36m?\u001b[1;34m(self, file, mode, name, offset, size)\u001b[0m\n\u001b[0;32m  14693\u001b[0m         \u001b[0mself\u001b[0m\u001b[1;33m.\u001b[0m\u001b[0m_offset\u001b[0m \u001b[1;33m=\u001b[0m \u001b[1;33m-\u001b[0m\u001b[1;36m1\u001b[0m \u001b[1;32mif\u001b[0m \u001b[0moffset\u001b[0m \u001b[1;32mis\u001b[0m \u001b[1;32mNone\u001b[0m \u001b[1;32melse\u001b[0m \u001b[0moffset\u001b[0m\u001b[1;33m\u001b[0m\u001b[1;33m\u001b[0m\u001b[0m\n\u001b[0;32m  14694\u001b[0m         \u001b[0mself\u001b[0m\u001b[1;33m.\u001b[0m\u001b[0m_size\u001b[0m \u001b[1;33m=\u001b[0m \u001b[1;33m-\u001b[0m\u001b[1;36m1\u001b[0m \u001b[1;32mif\u001b[0m \u001b[0msize\u001b[0m \u001b[1;32mis\u001b[0m \u001b[1;32mNone\u001b[0m \u001b[1;32melse\u001b[0m \u001b[0msize\u001b[0m\u001b[1;33m\u001b[0m\u001b[1;33m\u001b[0m\u001b[0m\n\u001b[0;32m  14695\u001b[0m         \u001b[0mself\u001b[0m\u001b[1;33m.\u001b[0m\u001b[0m_close\u001b[0m \u001b[1;33m=\u001b[0m \u001b[1;32mTrue\u001b[0m\u001b[1;33m\u001b[0m\u001b[1;33m\u001b[0m\u001b[0m\n\u001b[0;32m  14696\u001b[0m         \u001b[0mself\u001b[0m\u001b[1;33m.\u001b[0m\u001b[0m_lock\u001b[0m \u001b[1;33m=\u001b[0m \u001b[0mNullContext\u001b[0m\u001b[1;33m(\u001b[0m\u001b[1;33m)\u001b[0m\u001b[1;33m\u001b[0m\u001b[1;33m\u001b[0m\u001b[0m\n\u001b[1;32m> 14697\u001b[1;33m         \u001b[0mself\u001b[0m\u001b[1;33m.\u001b[0m\u001b[0mopen\u001b[0m\u001b[1;33m(\u001b[0m\u001b[1;33m)\u001b[0m\u001b[1;33m\u001b[0m\u001b[1;33m\u001b[0m\u001b[0m\n\u001b[0m\u001b[0;32m  14698\u001b[0m         \u001b[1;32massert\u001b[0m \u001b[0mself\u001b[0m\u001b[1;33m.\u001b[0m\u001b[0m_fh\u001b[0m \u001b[1;32mis\u001b[0m \u001b[1;32mnot\u001b[0m \u001b[1;32mNone\u001b[0m\u001b[1;33m\u001b[0m\u001b[1;33m\u001b[0m\u001b[0m\n",
      "\u001b[1;32m~\\Desktop\\Initiation_Lib_Tweezer\\Code\\realtimeAnalysis\\.venv\\Lib\\site-packages\\tifffile\\tifffile.py\u001b[0m in \u001b[0;36m?\u001b[1;34m(self)\u001b[0m\n\u001b[0;32m  14712\u001b[0m             \u001b[1;32mif\u001b[0m \u001b[0mself\u001b[0m\u001b[1;33m.\u001b[0m\u001b[0m_mode\u001b[0m \u001b[1;32mnot\u001b[0m \u001b[1;32min\u001b[0m \u001b[1;33m{\u001b[0m\u001b[1;34m'rb'\u001b[0m\u001b[1;33m,\u001b[0m \u001b[1;34m'r+b'\u001b[0m\u001b[1;33m,\u001b[0m \u001b[1;34m'wb'\u001b[0m\u001b[1;33m,\u001b[0m \u001b[1;34m'xb'\u001b[0m\u001b[1;33m}\u001b[0m\u001b[1;33m:\u001b[0m\u001b[1;33m\u001b[0m\u001b[1;33m\u001b[0m\u001b[0m\n\u001b[0;32m  14713\u001b[0m                 \u001b[1;32mraise\u001b[0m \u001b[0mValueError\u001b[0m\u001b[1;33m(\u001b[0m\u001b[1;34mf'invalid mode {self._mode}'\u001b[0m\u001b[1;33m)\u001b[0m\u001b[1;33m\u001b[0m\u001b[1;33m\u001b[0m\u001b[0m\n\u001b[0;32m  14714\u001b[0m             \u001b[0mself\u001b[0m\u001b[1;33m.\u001b[0m\u001b[0m_file\u001b[0m \u001b[1;33m=\u001b[0m \u001b[0mos\u001b[0m\u001b[1;33m.\u001b[0m\u001b[0mpath\u001b[0m\u001b[1;33m.\u001b[0m\u001b[0mrealpath\u001b[0m\u001b[1;33m(\u001b[0m\u001b[0mself\u001b[0m\u001b[1;33m.\u001b[0m\u001b[0m_file\u001b[0m\u001b[1;33m)\u001b[0m\u001b[1;33m\u001b[0m\u001b[1;33m\u001b[0m\u001b[0m\n\u001b[0;32m  14715\u001b[0m             \u001b[0mself\u001b[0m\u001b[1;33m.\u001b[0m\u001b[0m_dir\u001b[0m\u001b[1;33m,\u001b[0m \u001b[0mself\u001b[0m\u001b[1;33m.\u001b[0m\u001b[0m_name\u001b[0m \u001b[1;33m=\u001b[0m \u001b[0mos\u001b[0m\u001b[1;33m.\u001b[0m\u001b[0mpath\u001b[0m\u001b[1;33m.\u001b[0m\u001b[0msplit\u001b[0m\u001b[1;33m(\u001b[0m\u001b[0mself\u001b[0m\u001b[1;33m.\u001b[0m\u001b[0m_file\u001b[0m\u001b[1;33m)\u001b[0m\u001b[1;33m\u001b[0m\u001b[1;33m\u001b[0m\u001b[0m\n\u001b[1;32m> 14716\u001b[1;33m             \u001b[0mself\u001b[0m\u001b[1;33m.\u001b[0m\u001b[0m_fh\u001b[0m \u001b[1;33m=\u001b[0m \u001b[0mopen\u001b[0m\u001b[1;33m(\u001b[0m\u001b[0mself\u001b[0m\u001b[1;33m.\u001b[0m\u001b[0m_file\u001b[0m\u001b[1;33m,\u001b[0m \u001b[0mself\u001b[0m\u001b[1;33m.\u001b[0m\u001b[0m_mode\u001b[0m\u001b[1;33m,\u001b[0m \u001b[0mencoding\u001b[0m\u001b[1;33m=\u001b[0m\u001b[1;32mNone\u001b[0m\u001b[1;33m)\u001b[0m\u001b[1;33m\u001b[0m\u001b[1;33m\u001b[0m\u001b[0m\n\u001b[0m\u001b[0;32m  14717\u001b[0m             \u001b[0mself\u001b[0m\u001b[1;33m.\u001b[0m\u001b[0m_close\u001b[0m \u001b[1;33m=\u001b[0m \u001b[1;32mTrue\u001b[0m\u001b[1;33m\u001b[0m\u001b[1;33m\u001b[0m\u001b[0m\n\u001b[0;32m  14718\u001b[0m             \u001b[0mself\u001b[0m\u001b[1;33m.\u001b[0m\u001b[0m_offset\u001b[0m \u001b[1;33m=\u001b[0m \u001b[0mmax\u001b[0m\u001b[1;33m(\u001b[0m\u001b[1;36m0\u001b[0m\u001b[1;33m,\u001b[0m \u001b[0mself\u001b[0m\u001b[1;33m.\u001b[0m\u001b[0m_offset\u001b[0m\u001b[1;33m)\u001b[0m\u001b[1;33m\u001b[0m\u001b[1;33m\u001b[0m\u001b[0m\n\u001b[0;32m  14719\u001b[0m         \u001b[1;32melif\u001b[0m \u001b[0misinstance\u001b[0m\u001b[1;33m(\u001b[0m\u001b[0mself\u001b[0m\u001b[1;33m.\u001b[0m\u001b[0m_file\u001b[0m\u001b[1;33m,\u001b[0m \u001b[0mFileHandle\u001b[0m\u001b[1;33m)\u001b[0m\u001b[1;33m:\u001b[0m\u001b[1;33m\u001b[0m\u001b[1;33m\u001b[0m\u001b[0m\n",
      "\u001b[1;31mFileNotFoundError\u001b[0m: [Errno 2] No such file or directory: 'C:\\\\home\\\\pk\\\\Documents\\\\rtclient\\\\rtclient\\\\resources\\\\test_images\\\\phase_dummy.tiff'"
     ]
    }
   ],
   "source": [
    "phase_path = Path('/mnt/sda1/REALTIME/analysis/EXP-25-CD0116/testing_failures/Pos21/phase/phase_0071.tiff')\n",
    "fluor_path = Path('/mnt/sda1/REALTIME/analysis/EXP-25-CD0116/testing_failures/Pos21/fluor/fluor_0071.tiff')\n",
    "phase_img = imread(phase_path).astype('float32')\n",
    "fluor_img = imread(fluor_path)\n",
    "datapoint = {\n",
    "    'phase': phase_img,\n",
    "    'fluor': fluor_img,\n",
    "    'position': 1,\n",
    "    'timepoint': 0,\n",
    "}"
   ]
  },
  {
   "cell_type": "code",
   "execution_count": 6,
   "id": "9441ce69-02b5-4812-b9d7-83f265940340",
   "metadata": {},
   "outputs": [],
   "source": [
    "live_net = get_live_model(params)"
   ]
  },
  {
   "cell_type": "code",
   "execution_count": 7,
   "id": "3ee9f0e6-8072-4d65-b5f3-34384513eb89",
   "metadata": {},
   "outputs": [],
   "source": [
    "seg_result = live_segment(datapoint, live_net, params)"
   ]
  },
  {
   "cell_type": "code",
   "execution_count": 8,
   "id": "780dca7e-0665-4773-b907-40c3046b87c0",
   "metadata": {},
   "outputs": [],
   "source": [
    "plt.figure()\n",
    "plt.imshow(seg_result['seg_mask'])\n",
    "plt.show()"
   ]
  },
  {
   "cell_type": "code",
   "execution_count": 9,
   "id": "dd5fe9f2-2287-47f4-8a92-17d665922682",
   "metadata": {},
   "outputs": [],
   "source": [
    "plt.figure()\n",
    "plt.imshow(phase_img)\n",
    "plt.show()"
   ]
  },
  {
   "cell_type": "code",
   "execution_count": null,
   "id": "fe5bc104-bd59-42d4-b6d3-acc9780897b9",
   "metadata": {},
   "outputs": [],
   "source": []
  },
  {
   "cell_type": "code",
   "execution_count": 10,
   "id": "28982b91-1930-4f46-b037-2b253220dffd",
   "metadata": {},
   "outputs": [],
   "source": [
    "fig, ax = plt.subplots()\n",
    "ax.imshow(phase_img, cmap='gray')\n",
    "for row in seg_result['barcode_locations']:\n",
    "    rect = patches.Rectangle((row[0], row[1]), row[2] - row[0], row[3] - row[1], linewidth=1, edgecolor='r', facecolor='none')\n",
    "    ax.add_patch(rect)\n",
    "plt.show()"
   ]
  },
  {
   "cell_type": "code",
   "execution_count": null,
   "id": "3fda26d5-063d-4642-8b51-f7534f862799",
   "metadata": {},
   "outputs": [],
   "source": []
  },
  {
   "cell_type": "code",
   "execution_count": 11,
   "id": "8b79803a-1707-4ab1-be63-b0b2781c1fc1",
   "metadata": {},
   "outputs": [
    {
     "data": {
      "text/plain": [
       "{'phase': array([[16654, 17236, 17141, ..., 16895, 16944, 17218],\n",
       "        [17425, 17448, 17313, ..., 17768, 17489, 17184],\n",
       "        [17830, 17332, 17384, ..., 16860, 17293, 17651],\n",
       "        ...,\n",
       "        [12941, 14082, 13344, ..., 21639, 22365, 21686],\n",
       "        [12936, 13688, 13957, ..., 22170, 22080, 21485],\n",
       "        [11638, 12780, 13995, ..., 22579, 22253, 21613]], dtype=uint16),\n",
       " 'fluor': array([[248, 213, 218, ..., 206, 218, 202],\n",
       "        [194, 201, 197, ..., 196, 207, 190],\n",
       "        [205, 202, 205, ..., 198, 200, 210],\n",
       "        ...,\n",
       "        [258, 220, 205, ..., 216, 224, 209],\n",
       "        [253, 209, 196, ..., 203, 209, 202],\n",
       "        [212, 212, 195, ..., 189, 207, 201]], dtype=uint16),\n",
       " 'channel_mask': array([[False, False, False, ..., False, False, False],\n",
       "        [False, False, False, ..., False, False, False],\n",
       "        [False, False, False, ..., False, False, False],\n",
       "        ...,\n",
       "        [False, False, False, ..., False, False, False],\n",
       "        [False, False, False, ..., False, False, False],\n",
       "        [False, False, False, ..., False, False, False]]),\n",
       " 'position': 1,\n",
       " 'timepoint': 0,\n",
       " 'barcode_locations': [array([7.7366600e+00, 1.6079683e+02, 9.9642700e+01, 9.4444922e+02,\n",
       "         6.7940032e-01, 0.0000000e+00], dtype=float32),\n",
       "  array([1.4643524e+03, 1.6798073e+02, 1.5674143e+03, 1.0045900e+03,\n",
       "         6.0651374e-01, 0.0000000e+00], dtype=float32),\n",
       "  array([2.9417908e+03, 1.5789398e+02, 3.0234841e+03, 9.4692542e+02,\n",
       "         7.4835944e-01, 0.0000000e+00], dtype=float32)],\n",
       " 'seg_mask': array([[0, 0, 0, ..., 0, 0, 0],\n",
       "        [0, 0, 0, ..., 0, 0, 0],\n",
       "        [0, 0, 0, ..., 0, 0, 0],\n",
       "        ...,\n",
       "        [0, 0, 0, ..., 0, 0, 0],\n",
       "        [0, 0, 0, ..., 0, 0, 0],\n",
       "        [0, 0, 0, ..., 0, 0, 0]], dtype=int32),\n",
       " 'trap_locations_list': [122,\n",
       "  224,\n",
       "  325,\n",
       "  427,\n",
       "  529,\n",
       "  631,\n",
       "  733,\n",
       "  835,\n",
       "  937,\n",
       "  1039,\n",
       "  1141,\n",
       "  1243,\n",
       "  1345,\n",
       "  1447,\n",
       "  1586,\n",
       "  1689,\n",
       "  1791,\n",
       "  1893,\n",
       "  1995,\n",
       "  2097,\n",
       "  2199,\n",
       "  2301,\n",
       "  2403,\n",
       "  2506,\n",
       "  2608,\n",
       "  2709,\n",
       "  2812,\n",
       "  2914],\n",
       " 'num_traps': 28,\n",
       " 'error': False}"
      ]
     },
     "execution_count": 11,
     "metadata": {},
     "output_type": "execute_result"
    }
   ],
   "source": [
    "seg_result"
   ]
  },
  {
   "cell_type": "code",
   "execution_count": 12,
   "id": "21b6ab95-d390-46f3-a085-b161a0175cec",
   "metadata": {},
   "outputs": [],
   "source": [
    "from rtseg.dotdetect import compute_dot_coordinates"
   ]
  },
  {
   "cell_type": "code",
   "execution_count": 13,
   "id": "eba93c14-b3aa-407f-ac01-09d3f8a31b75",
   "metadata": {},
   "outputs": [
    {
     "data": {
      "text/plain": [
       "'cuda:0'"
      ]
     },
     "execution_count": 13,
     "metadata": {},
     "output_type": "execute_result"
    }
   ],
   "source": [
    "params.Hardware.device"
   ]
  },
  {
   "cell_type": "code",
   "execution_count": 14,
   "id": "b4bf950b-3af9-444a-a149-80b6c578aa2e",
   "metadata": {},
   "outputs": [],
   "source": [
    "dots= compute_dot_coordinates(seg_result['fluor'], seg_result['seg_mask'], params)"
   ]
  },
  {
   "cell_type": "code",
   "execution_count": 15,
   "id": "30219de8-bd20-44a8-956c-166e0a4a2acf",
   "metadata": {},
   "outputs": [
    {
     "data": {
      "text/plain": [
       "{'raw_coords': array([[ 650.36542363, 1507.99029425],\n",
       "        [  66.13486989, 2854.4664684 ],\n",
       "        [  80.9668124 , 2847.99403816],\n",
       "        ...,\n",
       "        [1006.51608752,  128.91205491],\n",
       "        [ 430.6972912 ,  118.90383747],\n",
       "        [ 107.26138088,  119.53053869]]),\n",
       " 'rotated_coords': array([[1523.00970575,  650.36542363],\n",
       "        [ 176.5335316 ,   66.13486989],\n",
       "        [ 183.00596184,   80.9668124 ],\n",
       "        ...,\n",
       "        [2902.08794509, 1006.51608752],\n",
       "        [2912.09616253,  430.6972912 ],\n",
       "        [2911.46946131,  107.26138088]])}"
      ]
     },
     "execution_count": 15,
     "metadata": {},
     "output_type": "execute_result"
    }
   ],
   "source": [
    "dots"
   ]
  },
  {
   "cell_type": "code",
   "execution_count": 16,
   "id": "f1974e68-2b28-4137-b3a6-96ff35ba5274",
   "metadata": {},
   "outputs": [],
   "source": [
    "def plot_dots(fluor_image, dots):\n",
    "    plt.figure()\n",
    "    plt.imshow(fluor_image)\n",
    "    plt.plot(dots[:, 1], dots[:, 0], 'ro')\n",
    "    plt.show()"
   ]
  },
  {
   "cell_type": "code",
   "execution_count": 17,
   "id": "16ebebd6-767c-4b98-8724-a5893387444a",
   "metadata": {},
   "outputs": [],
   "source": [
    "plot_dots(seg_result['seg_mask'], dots['raw_coords'])"
   ]
  },
  {
   "cell_type": "markdown",
   "id": "8348d46a-4b7c-41e4-8421-c1b40b1d1535",
   "metadata": {},
   "source": [
    "### Computing Internal coordinates to plot"
   ]
  },
  {
   "cell_type": "code",
   "execution_count": 18,
   "id": "c6d1d54a-02ef-4d6b-9574-e1a1c8316dfa",
   "metadata": {},
   "outputs": [],
   "source": [
    "from rtseg.cells.utils import regionprops_custom, compute_arc_length, compute_fit_coeff_poles_arc_length, compute_backbone_coordinates\n",
    "import math"
   ]
  },
  {
   "cell_type": "code",
   "execution_count": 19,
   "id": "1a69178e-9e8a-4d27-be25-61bf39325e3b",
   "metadata": {},
   "outputs": [],
   "source": [
    "cell_mask_rot = np.rot90(seg_result['seg_mask']).copy()"
   ]
  },
  {
   "cell_type": "code",
   "execution_count": 20,
   "id": "a50d9a5e-3532-40ca-9c41-da82edd1816e",
   "metadata": {},
   "outputs": [],
   "source": [
    "props = regionprops_custom(cell_mask_rot)"
   ]
  },
  {
   "cell_type": "code",
   "execution_count": 21,
   "id": "d81ed02c-bf87-476e-9f8e-7128abc62332",
   "metadata": {},
   "outputs": [],
   "source": [
    "trap_locations = seg_result['trap_locations_list']"
   ]
  },
  {
   "cell_type": "code",
   "execution_count": 22,
   "id": "12aa4d60-f5ce-4659-8759-06614b43ef0c",
   "metadata": {},
   "outputs": [
    {
     "data": {
      "text/plain": [
       "[122,\n",
       " 224,\n",
       " 325,\n",
       " 427,\n",
       " 529,\n",
       " 631,\n",
       " 733,\n",
       " 835,\n",
       " 937,\n",
       " 1039,\n",
       " 1141,\n",
       " 1243,\n",
       " 1345,\n",
       " 1447,\n",
       " 1586,\n",
       " 1689,\n",
       " 1791,\n",
       " 1893,\n",
       " 1995,\n",
       " 2097,\n",
       " 2199,\n",
       " 2301,\n",
       " 2403,\n",
       " 2506,\n",
       " 2608,\n",
       " 2709,\n",
       " 2812,\n",
       " 2914]"
      ]
     },
     "execution_count": 22,
     "metadata": {},
     "output_type": "execute_result"
    }
   ],
   "source": [
    "trap_locations"
   ]
  },
  {
   "cell_type": "code",
   "execution_count": 23,
   "id": "d612e56a-87f6-4a4a-9876-4af4fcfd8f61",
   "metadata": {},
   "outputs": [],
   "source": [
    "plt.figure()\n",
    "plt.imshow(np.rot90(seg_result['seg_mask']))\n",
    "plt.show()"
   ]
  },
  {
   "cell_type": "code",
   "execution_count": 24,
   "id": "c31f6e4c-917d-48cc-b55e-b629beeb574c",
   "metadata": {},
   "outputs": [],
   "source": [
    "fork_stats = compute_forkplot_stats(seg_result['seg_mask'], dots['rotated_coords'], trap_locations=trap_locations)"
   ]
  },
  {
   "cell_type": "code",
   "execution_count": 26,
   "id": "4e5acbcf-f362-4fc0-bf17-8cbfdafb976a",
   "metadata": {},
   "outputs": [
    {
     "data": {
      "text/plain": [
       "535"
      ]
     },
     "execution_count": 26,
     "metadata": {},
     "output_type": "execute_result"
    }
   ],
   "source": [
    "len(fork_stats)"
   ]
  },
  {
   "cell_type": "code",
   "execution_count": 27,
   "id": "b7bb7253-caff-4295-b68a-9dc3379db959",
   "metadata": {},
   "outputs": [],
   "source": [
    "plt.figure()\n",
    "plt.imshow(props[0].image)\n",
    "plt.show()"
   ]
  },
  {
   "cell_type": "code",
   "execution_count": 59,
   "id": "4e26f0c6-f13b-41bb-8c8b-487b5386873c",
   "metadata": {},
   "outputs": [],
   "source": [
    "image = props[0].image"
   ]
  },
  {
   "cell_type": "code",
   "execution_count": 62,
   "id": "1b02dfaf-df7f-41f5-8c3c-98a810f46c94",
   "metadata": {},
   "outputs": [],
   "source": [
    "\n",
    "# computing backbone pixels so that we can get the poles\n",
    "fit_coord = compute_backbone_coordinates(fit_coeff, image.shape)\n",
    "fit_im = np.zeros(image.shape, dtype='bool')\n",
    "fit_im[fit_coord[:, 1], fit_coord[:, 0]] = True\n",
    "backbone_im = image * fit_im\n",
    "y_backbone, x_backbone = np.nonzero(backbone_im)\n",
    "poles = np.zeros((2, 2))\n",
    "x_0, x_end = min(x_backbone) - 0.5, max(x_backbone) + 0.5 # deviation from matlab code as np.nonzero doesn't sort in x dimension\n",
    "poles[:, 0] = [x_0, x_end]\n",
    "poles[:, 1] = fit_coeff[0] * poles[:, 0]**2 + fit_coeff[1] * poles[:, 0] + fit_coeff[2]\n"
   ]
  },
  {
   "cell_type": "code",
   "execution_count": 65,
   "id": "bc1dca61-4a8b-48d0-818a-c9c22720f528",
   "metadata": {},
   "outputs": [],
   "source": [
    "fit_coeff, _, _, _ = compute_fit_coeff_poles_arc_length(props[0].image, plot=True)"
   ]
  },
  {
   "cell_type": "code",
   "execution_count": 63,
   "id": "b6440469-38db-4d07-baf0-e3bf033144f9",
   "metadata": {},
   "outputs": [
    {
     "data": {
      "text/plain": [
       "array([[-0.5,  0. ],\n",
       "       [ 5.5,  0. ]])"
      ]
     },
     "execution_count": 63,
     "metadata": {},
     "output_type": "execute_result"
    }
   ],
   "source": [
    "poles"
   ]
  },
  {
   "cell_type": "code",
   "execution_count": 64,
   "id": "861ef9d5-3cce-4828-9b0b-e1f3e262b57e",
   "metadata": {},
   "outputs": [
    {
     "data": {
      "text/plain": [
       "(-0.5, 5.5)"
      ]
     },
     "execution_count": 64,
     "metadata": {},
     "output_type": "execute_result"
    }
   ],
   "source": [
    "x_0, x_end"
   ]
  },
  {
   "cell_type": "code",
   "execution_count": 67,
   "id": "ffc3c611-d9f6-40b9-887f-f4708baccc25",
   "metadata": {},
   "outputs": [
    {
     "data": {
      "text/plain": [
       "array([0., 0., 0.])"
      ]
     },
     "execution_count": 67,
     "metadata": {},
     "output_type": "execute_result"
    }
   ],
   "source": [
    "fit_coeff"
   ]
  },
  {
   "cell_type": "code",
   "execution_count": 69,
   "id": "65aef25d-dce0-45d8-ae6f-4226eab1ea18",
   "metadata": {},
   "outputs": [],
   "source": [
    "fit_coeff[0] = 1.0"
   ]
  },
  {
   "cell_type": "code",
   "execution_count": 70,
   "id": "f5e06e23-f217-42db-8771-ddafc6542d8c",
   "metadata": {},
   "outputs": [
    {
     "data": {
      "text/plain": [
       "array([31.72191513])"
      ]
     },
     "execution_count": 70,
     "metadata": {},
     "output_type": "execute_result"
    }
   ],
   "source": [
    "compute_arc_length(fit_coeff, x_0, x_end)"
   ]
  },
  {
   "cell_type": "code",
   "execution_count": 71,
   "id": "2e4f6913-c45c-4b86-9905-d02b6452cf24",
   "metadata": {},
   "outputs": [],
   "source": [
    "fit_points = [fit_coeff[1] * x_0 + fit_coeff[2], fit_coeff[1] * x_end + fit_coeff[2]]"
   ]
  },
  {
   "cell_type": "code",
   "execution_count": 72,
   "id": "6b8d5ebd-1347-4394-a2cd-9f2610bb3a8d",
   "metadata": {},
   "outputs": [
    {
     "data": {
      "text/plain": [
       "[0.0, 0.0]"
      ]
     },
     "execution_count": 72,
     "metadata": {},
     "output_type": "execute_result"
    }
   ],
   "source": [
    "fit_points"
   ]
  },
  {
   "cell_type": "code",
   "execution_count": 79,
   "id": "9941f70f-a5b7-41b6-a8bd-8f7dd9e92ed5",
   "metadata": {},
   "outputs": [],
   "source": [
    "arc_length = np.array([math.sqrt((x_0 - x_end) ** 2 + (fit_points[0] - fit_points[1]) ** 2)])"
   ]
  },
  {
   "cell_type": "code",
   "execution_count": 80,
   "id": "e595b315-b260-4f82-8e39-e2b92377fbf2",
   "metadata": {},
   "outputs": [
    {
     "data": {
      "text/plain": [
       "array([6.])"
      ]
     },
     "execution_count": 80,
     "metadata": {},
     "output_type": "execute_result"
    }
   ],
   "source": [
    "arc_length"
   ]
  },
  {
   "cell_type": "code",
   "execution_count": null,
   "id": "e79f797a-3847-4cd3-844b-0b730fa5d1cd",
   "metadata": {},
   "outputs": [],
   "source": []
  },
  {
   "cell_type": "code",
   "execution_count": null,
   "id": "a11f1f5d-9a9e-4a77-9d4c-350462d9f762",
   "metadata": {},
   "outputs": [],
   "source": []
  },
  {
   "cell_type": "code",
   "execution_count": 2,
   "id": "ee5ffb50-9462-4671-957c-cd6f2b821c01",
   "metadata": {},
   "outputs": [],
   "source": [
    "import numpy as np\n",
    "dot_coords = []"
   ]
  },
  {
   "cell_type": "code",
   "execution_count": 3,
   "id": "db886930-48cf-463e-801f-0594d03e1719",
   "metadata": {},
   "outputs": [
    {
     "data": {
      "text/plain": [
       "array([], dtype=float64)"
      ]
     },
     "execution_count": 3,
     "metadata": {},
     "output_type": "execute_result"
    }
   ],
   "source": [
    "np.array(dot_coords)"
   ]
  },
  {
   "cell_type": "code",
   "execution_count": 6,
   "id": "a309f2f9-e92b-4e9f-9254-dd114fc4529f",
   "metadata": {},
   "outputs": [],
   "source": [
    "dots_on_raw_img = np.zeros_like(dot_coords)"
   ]
  },
  {
   "cell_type": "code",
   "execution_count": 7,
   "id": "627cff1d-7a4a-49f1-8405-d107a2bef3d4",
   "metadata": {},
   "outputs": [],
   "source": [
    "raw_shape = (800, 3000)"
   ]
  },
  {
   "cell_type": "code",
   "execution_count": 9,
   "id": "ce9c0373-85ff-4a35-9ef4-8729dd0100d9",
   "metadata": {},
   "outputs": [
    {
     "ename": "TypeError",
     "evalue": "list indices must be integers or slices, not tuple",
     "output_type": "error",
     "traceback": [
      "\u001b[0;31m---------------------------------------------------------------------------\u001b[0m",
      "\u001b[0;31mTypeError\u001b[0m                                 Traceback (most recent call last)",
      "Cell \u001b[0;32mIn[9], line 1\u001b[0m\n\u001b[0;32m----> 1\u001b[0m dots_on_raw_img[:, \u001b[38;5;241m0\u001b[39m] \u001b[38;5;241m=\u001b[39m \u001b[43mdot_coords\u001b[49m\u001b[43m[\u001b[49m\u001b[43m:\u001b[49m\u001b[43m,\u001b[49m\u001b[43m \u001b[49m\u001b[38;5;241;43m1\u001b[39;49m\u001b[43m]\u001b[49m\n\u001b[1;32m      2\u001b[0m dots_on_raw_img[:, \u001b[38;5;241m1\u001b[39m] \u001b[38;5;241m=\u001b[39m \u001b[38;5;241m-\u001b[39mdot_coords[:, \u001b[38;5;241m0\u001b[39m] \u001b[38;5;241m+\u001b[39m raw_shape[\u001b[38;5;241m1\u001b[39m] \u001b[38;5;241m-\u001b[39m \u001b[38;5;241m1\u001b[39m\n",
      "\u001b[0;31mTypeError\u001b[0m: list indices must be integers or slices, not tuple"
     ]
    }
   ],
   "source": [
    "dots_on_raw_img[:, 0] = dot_coords[:, 1]\n",
    "dots_on_raw_img[:, 1] = -dot_coords[:, 0] + raw_shape[1] - 1"
   ]
  },
  {
   "cell_type": "code",
   "execution_count": null,
   "id": "50530812-3589-4304-a335-195ed43bb721",
   "metadata": {},
   "outputs": [],
   "source": []
  },
  {
   "cell_type": "code",
   "execution_count": null,
   "id": "0e6ea4d1-6d3a-4e68-a3df-3695daca9ef4",
   "metadata": {},
   "outputs": [],
   "source": []
  },
  {
   "cell_type": "code",
   "execution_count": 28,
   "id": "5b8ea9b1-7707-4c83-8eff-71b8827bdaad",
   "metadata": {},
   "outputs": [],
   "source": [
    "import pandas as pd"
   ]
  },
  {
   "cell_type": "code",
   "execution_count": 29,
   "id": "a3cafd09-cbe2-4c21-b4fb-9c5f0e30318a",
   "metadata": {},
   "outputs": [],
   "source": [
    "fork_stats_table = pd.DataFrame(fork_stats)"
   ]
  },
  {
   "cell_type": "code",
   "execution_count": 30,
   "id": "a86b63ae-4440-4a26-890a-12d4fb4d518e",
   "metadata": {},
   "outputs": [
    {
     "data": {
      "text/html": [
       "<div>\n",
       "<style scoped>\n",
       "    .dataframe tbody tr th:only-of-type {\n",
       "        vertical-align: middle;\n",
       "    }\n",
       "\n",
       "    .dataframe tbody tr th {\n",
       "        vertical-align: top;\n",
       "    }\n",
       "\n",
       "    .dataframe thead th {\n",
       "        text-align: right;\n",
       "    }\n",
       "</style>\n",
       "<table border=\"1\" class=\"dataframe\">\n",
       "  <thead>\n",
       "    <tr style=\"text-align: right;\">\n",
       "      <th></th>\n",
       "      <th>position</th>\n",
       "      <th>timepoint</th>\n",
       "      <th>trap</th>\n",
       "      <th>cell_label</th>\n",
       "      <th>area</th>\n",
       "      <th>length</th>\n",
       "      <th>normalization_counts</th>\n",
       "      <th>internal_coord</th>\n",
       "      <th>normalized_internal_x</th>\n",
       "      <th>bbox</th>\n",
       "      <th>global_coords</th>\n",
       "      <th>local_coords</th>\n",
       "    </tr>\n",
       "  </thead>\n",
       "  <tbody>\n",
       "    <tr>\n",
       "      <th>0</th>\n",
       "      <td>0</td>\n",
       "      <td>0</td>\n",
       "      <td>16</td>\n",
       "      <td>1</td>\n",
       "      <td>70.0</td>\n",
       "      <td>6.000000</td>\n",
       "      <td>1</td>\n",
       "      <td>(24.650798095771492, -9.694623354802616)</td>\n",
       "      <td>4.108466</td>\n",
       "      <td>(1207, 80, 1218, 106)</td>\n",
       "      <td>(1216.6946233548026, 104.15079809577149)</td>\n",
       "      <td>(9.694623354802616, 24.150798095771492)</td>\n",
       "    </tr>\n",
       "    <tr>\n",
       "      <th>1</th>\n",
       "      <td>0</td>\n",
       "      <td>0</td>\n",
       "      <td>25</td>\n",
       "      <td>2</td>\n",
       "      <td>1124.0</td>\n",
       "      <td>108.780123</td>\n",
       "      <td>2</td>\n",
       "      <td>(75.26027793711236, 2.3393003799551866)</td>\n",
       "      <td>0.691857</td>\n",
       "      <td>(290, 97, 324, 204)</td>\n",
       "      <td>(314.07865712074306, 170.23316563467492)</td>\n",
       "      <td>(24.07865712074306, 73.23316563467492)</td>\n",
       "    </tr>\n",
       "    <tr>\n",
       "      <th>2</th>\n",
       "      <td>0</td>\n",
       "      <td>0</td>\n",
       "      <td>25</td>\n",
       "      <td>2</td>\n",
       "      <td>1124.0</td>\n",
       "      <td>108.780123</td>\n",
       "      <td>2</td>\n",
       "      <td>(46.94324333822039, -2.4228180608690972)</td>\n",
       "      <td>0.431542</td>\n",
       "      <td>(290, 97, 324, 204)</td>\n",
       "      <td>(314.64667747163696, 141.56525884259702)</td>\n",
       "      <td>(24.646677471636963, 44.56525884259702)</td>\n",
       "    </tr>\n",
       "    <tr>\n",
       "      <th>3</th>\n",
       "      <td>0</td>\n",
       "      <td>0</td>\n",
       "      <td>14</td>\n",
       "      <td>4</td>\n",
       "      <td>754.0</td>\n",
       "      <td>67.757580</td>\n",
       "      <td>1</td>\n",
       "      <td>(42.641062496121116, -0.0995063078570784)</td>\n",
       "      <td>0.629318</td>\n",
       "      <td>(1427, 111, 1450, 193)</td>\n",
       "      <td>(1441.1138805328749, 167.6246239793726)</td>\n",
       "      <td>(14.113880532874873, 56.624623979372586)</td>\n",
       "    </tr>\n",
       "    <tr>\n",
       "      <th>4</th>\n",
       "      <td>0</td>\n",
       "      <td>0</td>\n",
       "      <td>4</td>\n",
       "      <td>10</td>\n",
       "      <td>550.0</td>\n",
       "      <td>55.258348</td>\n",
       "      <td>1</td>\n",
       "      <td>(21.09237469531637, -1.3684536041650435)</td>\n",
       "      <td>0.381705</td>\n",
       "      <td>(2491, 119, 2505, 174)</td>\n",
       "      <td>(2498.855247024883, 139.53104940497656)</td>\n",
       "      <td>(7.8552470248828286, 20.531049404976557)</td>\n",
       "    </tr>\n",
       "    <tr>\n",
       "      <th>...</th>\n",
       "      <td>...</td>\n",
       "      <td>...</td>\n",
       "      <td>...</td>\n",
       "      <td>...</td>\n",
       "      <td>...</td>\n",
       "      <td>...</td>\n",
       "      <td>...</td>\n",
       "      <td>...</td>\n",
       "      <td>...</td>\n",
       "      <td>...</td>\n",
       "      <td>...</td>\n",
       "      <td>...</td>\n",
       "    </tr>\n",
       "    <tr>\n",
       "      <th>530</th>\n",
       "      <td>0</td>\n",
       "      <td>0</td>\n",
       "      <td>9</td>\n",
       "      <td>342</td>\n",
       "      <td>447.0</td>\n",
       "      <td>45.677263</td>\n",
       "      <td>2</td>\n",
       "      <td>(25.607188506432536, 0.384215482391824)</td>\n",
       "      <td>0.560611</td>\n",
       "      <td>(1989, 1040, 2007, 1084)</td>\n",
       "      <td>(1996.4904296044238, 1064.999149298171)</td>\n",
       "      <td>(7.490429604423753, 24.999149298171005)</td>\n",
       "    </tr>\n",
       "    <tr>\n",
       "      <th>531</th>\n",
       "      <td>0</td>\n",
       "      <td>0</td>\n",
       "      <td>9</td>\n",
       "      <td>342</td>\n",
       "      <td>447.0</td>\n",
       "      <td>45.677263</td>\n",
       "      <td>2</td>\n",
       "      <td>(9.228119167547195, -5.22907102876194)</td>\n",
       "      <td>0.202029</td>\n",
       "      <td>(1989, 1040, 2007, 1084)</td>\n",
       "      <td>(2000.0888030888032, 1048.7163234663235)</td>\n",
       "      <td>(11.08880308880316, 8.716323466323502)</td>\n",
       "    </tr>\n",
       "    <tr>\n",
       "      <th>532</th>\n",
       "      <td>0</td>\n",
       "      <td>0</td>\n",
       "      <td>4</td>\n",
       "      <td>343</td>\n",
       "      <td>271.0</td>\n",
       "      <td>28.234273</td>\n",
       "      <td>1</td>\n",
       "      <td>(23.41470571291077, 0.5447307080160332)</td>\n",
       "      <td>0.829301</td>\n",
       "      <td>(2499, 1047, 2517, 1076)</td>\n",
       "      <td>(2508.9964994165693, 1068.161901983664)</td>\n",
       "      <td>(9.99649941656935, 21.161901983663938)</td>\n",
       "    </tr>\n",
       "    <tr>\n",
       "      <th>533</th>\n",
       "      <td>0</td>\n",
       "      <td>0</td>\n",
       "      <td>16</td>\n",
       "      <td>344</td>\n",
       "      <td>270.0</td>\n",
       "      <td>26.087198</td>\n",
       "      <td>1</td>\n",
       "      <td>(25.97779964570371, -4.723440498261594)</td>\n",
       "      <td>0.995806</td>\n",
       "      <td>(1240, 1054, 1253, 1081)</td>\n",
       "      <td>(1251.6638438880707, 1078.7142857142858)</td>\n",
       "      <td>(11.663843888070687, 24.71428571428578)</td>\n",
       "    </tr>\n",
       "    <tr>\n",
       "      <th>534</th>\n",
       "      <td>0</td>\n",
       "      <td>0</td>\n",
       "      <td>12</td>\n",
       "      <td>345</td>\n",
       "      <td>149.0</td>\n",
       "      <td>20.958829</td>\n",
       "      <td>1</td>\n",
       "      <td>(3.1335727660300887, -0.2810860480195788)</td>\n",
       "      <td>0.149511</td>\n",
       "      <td>(1687, 1056, 1698, 1077)</td>\n",
       "      <td>(1694.4979253112033, 1057.9921161825725)</td>\n",
       "      <td>(7.497925311203289, 1.9921161825725449)</td>\n",
       "    </tr>\n",
       "  </tbody>\n",
       "</table>\n",
       "<p>535 rows × 12 columns</p>\n",
       "</div>"
      ],
      "text/plain": [
       "     position  timepoint  trap  cell_label    area      length  \\\n",
       "0           0          0    16           1    70.0    6.000000   \n",
       "1           0          0    25           2  1124.0  108.780123   \n",
       "2           0          0    25           2  1124.0  108.780123   \n",
       "3           0          0    14           4   754.0   67.757580   \n",
       "4           0          0     4          10   550.0   55.258348   \n",
       "..        ...        ...   ...         ...     ...         ...   \n",
       "530         0          0     9         342   447.0   45.677263   \n",
       "531         0          0     9         342   447.0   45.677263   \n",
       "532         0          0     4         343   271.0   28.234273   \n",
       "533         0          0    16         344   270.0   26.087198   \n",
       "534         0          0    12         345   149.0   20.958829   \n",
       "\n",
       "     normalization_counts                             internal_coord  \\\n",
       "0                       1   (24.650798095771492, -9.694623354802616)   \n",
       "1                       2    (75.26027793711236, 2.3393003799551866)   \n",
       "2                       2   (46.94324333822039, -2.4228180608690972)   \n",
       "3                       1  (42.641062496121116, -0.0995063078570784)   \n",
       "4                       1   (21.09237469531637, -1.3684536041650435)   \n",
       "..                    ...                                        ...   \n",
       "530                     2    (25.607188506432536, 0.384215482391824)   \n",
       "531                     2     (9.228119167547195, -5.22907102876194)   \n",
       "532                     1    (23.41470571291077, 0.5447307080160332)   \n",
       "533                     1    (25.97779964570371, -4.723440498261594)   \n",
       "534                     1  (3.1335727660300887, -0.2810860480195788)   \n",
       "\n",
       "     normalized_internal_x                      bbox  \\\n",
       "0                 4.108466     (1207, 80, 1218, 106)   \n",
       "1                 0.691857       (290, 97, 324, 204)   \n",
       "2                 0.431542       (290, 97, 324, 204)   \n",
       "3                 0.629318    (1427, 111, 1450, 193)   \n",
       "4                 0.381705    (2491, 119, 2505, 174)   \n",
       "..                     ...                       ...   \n",
       "530               0.560611  (1989, 1040, 2007, 1084)   \n",
       "531               0.202029  (1989, 1040, 2007, 1084)   \n",
       "532               0.829301  (2499, 1047, 2517, 1076)   \n",
       "533               0.995806  (1240, 1054, 1253, 1081)   \n",
       "534               0.149511  (1687, 1056, 1698, 1077)   \n",
       "\n",
       "                                global_coords  \\\n",
       "0    (1216.6946233548026, 104.15079809577149)   \n",
       "1    (314.07865712074306, 170.23316563467492)   \n",
       "2    (314.64667747163696, 141.56525884259702)   \n",
       "3     (1441.1138805328749, 167.6246239793726)   \n",
       "4     (2498.855247024883, 139.53104940497656)   \n",
       "..                                        ...   \n",
       "530   (1996.4904296044238, 1064.999149298171)   \n",
       "531  (2000.0888030888032, 1048.7163234663235)   \n",
       "532   (2508.9964994165693, 1068.161901983664)   \n",
       "533  (1251.6638438880707, 1078.7142857142858)   \n",
       "534  (1694.4979253112033, 1057.9921161825725)   \n",
       "\n",
       "                                 local_coords  \n",
       "0     (9.694623354802616, 24.150798095771492)  \n",
       "1      (24.07865712074306, 73.23316563467492)  \n",
       "2     (24.646677471636963, 44.56525884259702)  \n",
       "3    (14.113880532874873, 56.624623979372586)  \n",
       "4    (7.8552470248828286, 20.531049404976557)  \n",
       "..                                        ...  \n",
       "530   (7.490429604423753, 24.999149298171005)  \n",
       "531    (11.08880308880316, 8.716323466323502)  \n",
       "532    (9.99649941656935, 21.161901983663938)  \n",
       "533   (11.663843888070687, 24.71428571428578)  \n",
       "534   (7.497925311203289, 1.9921161825725449)  \n",
       "\n",
       "[535 rows x 12 columns]"
      ]
     },
     "execution_count": 30,
     "metadata": {},
     "output_type": "execute_result"
    }
   ],
   "source": [
    "fork_stats_table"
   ]
  },
  {
   "cell_type": "code",
   "execution_count": 32,
   "id": "b3ac1765-b636-4d42-b432-4a146970857b",
   "metadata": {},
   "outputs": [
    {
     "data": {
      "text/plain": [
       "1025"
      ]
     },
     "execution_count": 32,
     "metadata": {},
     "output_type": "execute_result"
    }
   ],
   "source": [
    "len(fork_stats_table)"
   ]
  },
  {
   "cell_type": "code",
   "execution_count": 39,
   "id": "2195bb79-136e-4458-90b3-ca385a6df654",
   "metadata": {},
   "outputs": [],
   "source": [
    "fork_stats_table.to_csv('forks.csv', mode='a', index=False, header=False)"
   ]
  },
  {
   "cell_type": "code",
   "execution_count": 40,
   "id": "c168d962-8b96-42e8-9cca-9dfcc4171d66",
   "metadata": {},
   "outputs": [],
   "source": [
    "df = pd.read_csv('forks.csv')"
   ]
  },
  {
   "cell_type": "code",
   "execution_count": 41,
   "id": "51491188-3646-49f0-8826-8bb30651bd69",
   "metadata": {},
   "outputs": [
    {
     "data": {
      "text/html": [
       "<div>\n",
       "<style scoped>\n",
       "    .dataframe tbody tr th:only-of-type {\n",
       "        vertical-align: middle;\n",
       "    }\n",
       "\n",
       "    .dataframe tbody tr th {\n",
       "        vertical-align: top;\n",
       "    }\n",
       "\n",
       "    .dataframe thead th {\n",
       "        text-align: right;\n",
       "    }\n",
       "</style>\n",
       "<table border=\"1\" class=\"dataframe\">\n",
       "  <thead>\n",
       "    <tr style=\"text-align: right;\">\n",
       "      <th></th>\n",
       "      <th>position</th>\n",
       "      <th>timepoint</th>\n",
       "      <th>trap</th>\n",
       "      <th>cell_label</th>\n",
       "      <th>area</th>\n",
       "      <th>length</th>\n",
       "      <th>normalization_counts</th>\n",
       "      <th>internal_coord</th>\n",
       "      <th>normalized_internal_x</th>\n",
       "      <th>bbox</th>\n",
       "      <th>global_coords</th>\n",
       "      <th>local_coords</th>\n",
       "    </tr>\n",
       "  </thead>\n",
       "  <tbody>\n",
       "    <tr>\n",
       "      <th>0</th>\n",
       "      <td>0</td>\n",
       "      <td>0</td>\n",
       "      <td>4</td>\n",
       "      <td>15</td>\n",
       "      <td>368.0</td>\n",
       "      <td>30.025607</td>\n",
       "      <td>2</td>\n",
       "      <td>(11.98922317624821, 1.6399408567633893)</td>\n",
       "      <td>0.399300</td>\n",
       "      <td>(2490, 227, 2511, 258)</td>\n",
       "      <td>(2498.0897671568628, 237.50857843137254)</td>\n",
       "      <td>(8.089767156862763, 10.508578431372541)</td>\n",
       "    </tr>\n",
       "    <tr>\n",
       "      <th>1</th>\n",
       "      <td>0</td>\n",
       "      <td>0</td>\n",
       "      <td>4</td>\n",
       "      <td>15</td>\n",
       "      <td>368.0</td>\n",
       "      <td>30.025607</td>\n",
       "      <td>2</td>\n",
       "      <td>(9.788336731681527, -3.865848233606922)</td>\n",
       "      <td>0.326000</td>\n",
       "      <td>(2490, 227, 2511, 258)</td>\n",
       "      <td>(2504.0020677771395, 237.7408385985066)</td>\n",
       "      <td>(14.002067777139473, 10.740838598506599)</td>\n",
       "    </tr>\n",
       "    <tr>\n",
       "      <th>2</th>\n",
       "      <td>0</td>\n",
       "      <td>0</td>\n",
       "      <td>8</td>\n",
       "      <td>16</td>\n",
       "      <td>596.0</td>\n",
       "      <td>55.741157</td>\n",
       "      <td>4</td>\n",
       "      <td>(48.05295137060893, 4.746203548365416)</td>\n",
       "      <td>0.862073</td>\n",
       "      <td>(2082, 228, 2104, 286)</td>\n",
       "      <td>(2083.5879702709813, 277.0554788213628)</td>\n",
       "      <td>(1.587970270981259, 49.05547882136278)</td>\n",
       "    </tr>\n",
       "    <tr>\n",
       "      <th>3</th>\n",
       "      <td>0</td>\n",
       "      <td>0</td>\n",
       "      <td>8</td>\n",
       "      <td>16</td>\n",
       "      <td>596.0</td>\n",
       "      <td>55.741157</td>\n",
       "      <td>4</td>\n",
       "      <td>(37.3826746952392, 4.079160304717635)</td>\n",
       "      <td>0.670648</td>\n",
       "      <td>(2082, 228, 2104, 286)</td>\n",
       "      <td>(2084.875520523498, 265.62076145151696)</td>\n",
       "      <td>(2.8755205234979258, 37.620761451516955)</td>\n",
       "    </tr>\n",
       "    <tr>\n",
       "      <th>4</th>\n",
       "      <td>0</td>\n",
       "      <td>0</td>\n",
       "      <td>8</td>\n",
       "      <td>16</td>\n",
       "      <td>596.0</td>\n",
       "      <td>55.741157</td>\n",
       "      <td>4</td>\n",
       "      <td>(25.4714595987455, 1.3097386295719315)</td>\n",
       "      <td>0.456960</td>\n",
       "      <td>(2082, 228, 2104, 286)</td>\n",
       "      <td>(2090.5891111187348, 254.25496586503826)</td>\n",
       "      <td>(8.589111118734763, 26.25496586503826)</td>\n",
       "    </tr>\n",
       "    <tr>\n",
       "      <th>...</th>\n",
       "      <td>...</td>\n",
       "      <td>...</td>\n",
       "      <td>...</td>\n",
       "      <td>...</td>\n",
       "      <td>...</td>\n",
       "      <td>...</td>\n",
       "      <td>...</td>\n",
       "      <td>...</td>\n",
       "      <td>...</td>\n",
       "      <td>...</td>\n",
       "      <td>...</td>\n",
       "      <td>...</td>\n",
       "    </tr>\n",
       "    <tr>\n",
       "      <th>3070</th>\n",
       "      <td>0</td>\n",
       "      <td>0</td>\n",
       "      <td>23</td>\n",
       "      <td>355</td>\n",
       "      <td>582.0</td>\n",
       "      <td>47.668006</td>\n",
       "      <td>1</td>\n",
       "      <td>(25.005121986290117, 0.34552260922799044)</td>\n",
       "      <td>0.524568</td>\n",
       "      <td>(535, 1198, 552, 1247)</td>\n",
       "      <td>(541.6917005993503, 1222.8776593311068)</td>\n",
       "      <td>(6.69170059935027, 24.87765933110677)</td>\n",
       "    </tr>\n",
       "    <tr>\n",
       "      <th>3071</th>\n",
       "      <td>0</td>\n",
       "      <td>0</td>\n",
       "      <td>19</td>\n",
       "      <td>356</td>\n",
       "      <td>371.0</td>\n",
       "      <td>37.364992</td>\n",
       "      <td>2</td>\n",
       "      <td>(18.373922048488232, 0.4941400365225665)</td>\n",
       "      <td>0.491742</td>\n",
       "      <td>(944, 1204, 963, 1241)</td>\n",
       "      <td>(952.8927276323598, 1221.6494362761257)</td>\n",
       "      <td>(8.892727632359765, 17.649436276125698)</td>\n",
       "    </tr>\n",
       "    <tr>\n",
       "      <th>3072</th>\n",
       "      <td>0</td>\n",
       "      <td>0</td>\n",
       "      <td>19</td>\n",
       "      <td>356</td>\n",
       "      <td>371.0</td>\n",
       "      <td>37.364992</td>\n",
       "      <td>2</td>\n",
       "      <td>(28.80098371269993, 2.6872475579280533)</td>\n",
       "      <td>0.770801</td>\n",
       "      <td>(944, 1204, 963, 1241)</td>\n",
       "      <td>(954.2500640751815, 1232.1520717642034)</td>\n",
       "      <td>(10.250064075181513, 28.152071764203356)</td>\n",
       "    </tr>\n",
       "    <tr>\n",
       "      <th>3073</th>\n",
       "      <td>0</td>\n",
       "      <td>0</td>\n",
       "      <td>25</td>\n",
       "      <td>357</td>\n",
       "      <td>455.0</td>\n",
       "      <td>44.946226</td>\n",
       "      <td>2</td>\n",
       "      <td>(37.892924170826184, 3.064576871844503)</td>\n",
       "      <td>0.843072</td>\n",
       "      <td>(331, 1215, 350, 1259)</td>\n",
       "      <td>(340.747684015496, 1252.2806131042614)</td>\n",
       "      <td>(9.74768401549602, 37.28061310426142)</td>\n",
       "    </tr>\n",
       "    <tr>\n",
       "      <th>3074</th>\n",
       "      <td>0</td>\n",
       "      <td>0</td>\n",
       "      <td>25</td>\n",
       "      <td>357</td>\n",
       "      <td>455.0</td>\n",
       "      <td>44.946226</td>\n",
       "      <td>2</td>\n",
       "      <td>(23.123395793214012, -2.6247981999795136)</td>\n",
       "      <td>0.514468</td>\n",
       "      <td>(331, 1215, 350, 1259)</td>\n",
       "      <td>(342.5008285984849, 1236.5688920454545)</td>\n",
       "      <td>(11.500828598484873, 21.568892045454504)</td>\n",
       "    </tr>\n",
       "  </tbody>\n",
       "</table>\n",
       "<p>3075 rows × 12 columns</p>\n",
       "</div>"
      ],
      "text/plain": [
       "      position  timepoint  trap  cell_label   area     length  \\\n",
       "0            0          0     4          15  368.0  30.025607   \n",
       "1            0          0     4          15  368.0  30.025607   \n",
       "2            0          0     8          16  596.0  55.741157   \n",
       "3            0          0     8          16  596.0  55.741157   \n",
       "4            0          0     8          16  596.0  55.741157   \n",
       "...        ...        ...   ...         ...    ...        ...   \n",
       "3070         0          0    23         355  582.0  47.668006   \n",
       "3071         0          0    19         356  371.0  37.364992   \n",
       "3072         0          0    19         356  371.0  37.364992   \n",
       "3073         0          0    25         357  455.0  44.946226   \n",
       "3074         0          0    25         357  455.0  44.946226   \n",
       "\n",
       "      normalization_counts                             internal_coord  \\\n",
       "0                        2    (11.98922317624821, 1.6399408567633893)   \n",
       "1                        2    (9.788336731681527, -3.865848233606922)   \n",
       "2                        4     (48.05295137060893, 4.746203548365416)   \n",
       "3                        4      (37.3826746952392, 4.079160304717635)   \n",
       "4                        4     (25.4714595987455, 1.3097386295719315)   \n",
       "...                    ...                                        ...   \n",
       "3070                     1  (25.005121986290117, 0.34552260922799044)   \n",
       "3071                     2   (18.373922048488232, 0.4941400365225665)   \n",
       "3072                     2    (28.80098371269993, 2.6872475579280533)   \n",
       "3073                     2    (37.892924170826184, 3.064576871844503)   \n",
       "3074                     2  (23.123395793214012, -2.6247981999795136)   \n",
       "\n",
       "      normalized_internal_x                    bbox  \\\n",
       "0                  0.399300  (2490, 227, 2511, 258)   \n",
       "1                  0.326000  (2490, 227, 2511, 258)   \n",
       "2                  0.862073  (2082, 228, 2104, 286)   \n",
       "3                  0.670648  (2082, 228, 2104, 286)   \n",
       "4                  0.456960  (2082, 228, 2104, 286)   \n",
       "...                     ...                     ...   \n",
       "3070               0.524568  (535, 1198, 552, 1247)   \n",
       "3071               0.491742  (944, 1204, 963, 1241)   \n",
       "3072               0.770801  (944, 1204, 963, 1241)   \n",
       "3073               0.843072  (331, 1215, 350, 1259)   \n",
       "3074               0.514468  (331, 1215, 350, 1259)   \n",
       "\n",
       "                                 global_coords  \\\n",
       "0     (2498.0897671568628, 237.50857843137254)   \n",
       "1      (2504.0020677771395, 237.7408385985066)   \n",
       "2      (2083.5879702709813, 277.0554788213628)   \n",
       "3      (2084.875520523498, 265.62076145151696)   \n",
       "4     (2090.5891111187348, 254.25496586503826)   \n",
       "...                                        ...   \n",
       "3070   (541.6917005993503, 1222.8776593311068)   \n",
       "3071   (952.8927276323598, 1221.6494362761257)   \n",
       "3072   (954.2500640751815, 1232.1520717642034)   \n",
       "3073    (340.747684015496, 1252.2806131042614)   \n",
       "3074   (342.5008285984849, 1236.5688920454545)   \n",
       "\n",
       "                                  local_coords  \n",
       "0      (8.089767156862763, 10.508578431372541)  \n",
       "1     (14.002067777139473, 10.740838598506599)  \n",
       "2       (1.587970270981259, 49.05547882136278)  \n",
       "3     (2.8755205234979258, 37.620761451516955)  \n",
       "4       (8.589111118734763, 26.25496586503826)  \n",
       "...                                        ...  \n",
       "3070     (6.69170059935027, 24.87765933110677)  \n",
       "3071   (8.892727632359765, 17.649436276125698)  \n",
       "3072  (10.250064075181513, 28.152071764203356)  \n",
       "3073     (9.74768401549602, 37.28061310426142)  \n",
       "3074  (11.500828598484873, 21.568892045454504)  \n",
       "\n",
       "[3075 rows x 12 columns]"
      ]
     },
     "execution_count": 41,
     "metadata": {},
     "output_type": "execute_result"
    }
   ],
   "source": [
    "df"
   ]
  },
  {
   "cell_type": "code",
   "execution_count": 41,
   "id": "41eb2a7e-48b3-42a2-8448-56751a366620",
   "metadata": {},
   "outputs": [
    {
     "data": {
      "text/plain": [
       "3077"
      ]
     },
     "execution_count": 41,
     "metadata": {},
     "output_type": "execute_result"
    }
   ],
   "source": [
    "len(df)"
   ]
  },
  {
   "cell_type": "code",
   "execution_count": 58,
   "id": "3978ad86-bc85-41df-b8ff-f6095eb862e2",
   "metadata": {},
   "outputs": [
    {
     "data": {
      "text/plain": [
       "position                              position\n",
       "timepoint                            timepoint\n",
       "trap                                      trap\n",
       "cell_label                          cell_label\n",
       "area                                      area\n",
       "length                                  length\n",
       "normalization_counts      normalization_counts\n",
       "internal_coord                  internal_coord\n",
       "normalized_internal_x    normalized_internal_x\n",
       "bbox                                      bbox\n",
       "global_coords                    global_coords\n",
       "local_coords                      local_coords\n",
       "Name: 1025, dtype: object"
      ]
     },
     "execution_count": 58,
     "metadata": {},
     "output_type": "execute_result"
    }
   ],
   "source": [
    "df.iloc[1025]"
   ]
  },
  {
   "cell_type": "code",
   "execution_count": null,
   "id": "7d8b3d66-393c-4dbd-aea7-168e81ddc8a7",
   "metadata": {},
   "outputs": [],
   "source": []
  },
  {
   "cell_type": "code",
   "execution_count": null,
   "id": "fd40daaf-ea31-43a3-bbfe-966b7127d7fb",
   "metadata": {},
   "outputs": [],
   "source": []
  },
  {
   "cell_type": "code",
   "execution_count": 54,
   "id": "07caed35-9af1-42ae-84f9-93ab23ce55b3",
   "metadata": {},
   "outputs": [],
   "source": [
    "trap_locations_left = [loc-40 for loc in trap_locations]\n",
    "trap_locations_right = [loc+40 for loc in trap_locations]"
   ]
  },
  {
   "cell_type": "code",
   "execution_count": 58,
   "id": "d71c9ea6-1f92-4a3b-ab10-c8bdeba91b91",
   "metadata": {},
   "outputs": [
    {
     "name": "stdout",
     "output_type": "stream",
     "text": [
      "[76, 178, 280, 382, 484, 588, 688, 790, 893, 995, 1097, 1199, 1300, 1404, 1543, 1646, 1747, 1851, 1956, 2055, 2156, 2259, 2364, 2466, 2566, 2668, 2771, 2873]\n",
      "[156, 258, 360, 462, 564, 668, 768, 870, 973, 1075, 1177, 1279, 1380, 1484, 1623, 1726, 1827, 1931, 2036, 2135, 2236, 2339, 2444, 2546, 2646, 2748, 2851, 2953]\n"
     ]
    }
   ],
   "source": [
    "print(trap_locations_left)\n",
    "print(trap_locations_right)"
   ]
  },
  {
   "cell_type": "code",
   "execution_count": 51,
   "id": "172ceb87-1c4d-4ee3-b00d-73da36dddd46",
   "metadata": {},
   "outputs": [
    {
     "data": {
      "text/plain": [
       "(2933.2462686567164, 167.36567164179104)"
      ]
     },
     "execution_count": 51,
     "metadata": {},
     "output_type": "execute_result"
    }
   ],
   "source": [
    "props[0].centroid"
   ]
  },
  {
   "cell_type": "code",
   "execution_count": 52,
   "id": "16f3ef18-2952-4264-8673-7aeb232391d0",
   "metadata": {},
   "outputs": [],
   "source": [
    "import bisect"
   ]
  },
  {
   "cell_type": "code",
   "execution_count": 61,
   "id": "0119ac2e-907e-495d-83eb-7763c5ca1728",
   "metadata": {},
   "outputs": [
    {
     "name": "stdout",
     "output_type": "stream",
     "text": [
      "2933.2462686567164 2873 2953 27 27\n",
      "2063.690476190476 2055 2135 19 19\n",
      "2722.548672566372 2668 2748 25 25\n",
      "1464.5013698630137 1404 1484 13 13\n",
      "2207.8502673796793 2156 2236 20 20\n",
      "1414.361963190184 1404 1484 13 13\n",
      "2705.904593639576 2668 2748 25 25\n",
      "1902.078313253012 1851 1931 17 17\n",
      "1991.3779193205944 1956 2036 18 18\n",
      "1600.5 1543 1623 14 14\n",
      "2398.1688311688313 2364 2444 22 22\n",
      "1347.2350119904077 1300 1380 12 12\n",
      "2599.437984496124 2566 2646 24 24\n",
      "800.2452830188679 790 870 7 7\n",
      "2498.6603260869565 2466 2546 23 23\n",
      "2091.6593959731545 2055 2135 19 19\n",
      "1235.9347826086957 1199 1279 11 11\n",
      "2804.16765578635 2771 2851 26 26\n",
      "1149.392857142857 1097 1177 10 10\n",
      "2906.8090815273476 2873 2953 27 27\n",
      "1036.440281030445 995 1075 9 9\n",
      "2190.878306878307 2156 2236 20 20\n",
      "430.7031630170316 382 462 3 3\n",
      "1680.3676470588234 1646 1726 15 15\n",
      "1589.2236842105262 1543 1623 14 14\n",
      "523.6628477905074 484 564 4 4\n",
      "2295.34179357022 2259 2339 21 21\n",
      "626.2301458670988 588 668 5 5\n",
      "2599.326530612245 2566 2646 24 24\n",
      "1887.576 1851 1931 17 17\n",
      "1782.9785992217899 1747 1827 16 16\n",
      "1571.5 1543 1623 14 14\n",
      "1988.3814814814814 1956 2036 18 18\n",
      "2499.300561797753 2466 2546 23 23\n",
      "1579.9296577946768 1543 1623 14 14\n",
      "2703.3753846153845 2668 2748 25 25\n",
      "1440.1 1404 1484 13 13\n",
      "1886.5028768699656 1851 1931 17 17\n",
      "724.2266009852217 688 768 6 6\n",
      "1133.5682926829268 1097 1177 10 10\n",
      "927.0 893 973 8 8\n",
      "824.7863777089783 790 870 7 7\n",
      "2805.165644171779 2771 2851 26 26\n",
      "2091.0386996904026 2055 2135 19 19\n",
      "314.64406779661016 280 360 2 2\n",
      "2296.7956989247314 2259 2339 21 21\n",
      "928.5724431818181 893 973 8 8\n",
      "1682.0568513119533 1646 1726 15 15\n",
      "1784.6882978723404 1747 1827 16 16\n",
      "1439.662273476112 1404 1484 13 13\n",
      "210.90432098765433 178 258 1 1\n",
      "416.74178832116786 382 462 3 3\n",
      "2193.4684684684685 2156 2236 20 20\n",
      "109.57157676348548 76 156 0 0\n",
      "2908.9245049504952 2873 2953 27 27\n",
      "1580.375806451613 1543 1623 14 14\n",
      "1133.759493670886 1097 1177 10 10\n",
      "827.1455437448897 790 870 7 7\n",
      "2499.6732954545455 2466 2546 23 23\n",
      "1990.64598540146 1956 2036 18 18\n",
      "1339.3085714285714 1300 1380 12 12\n",
      "2605.460880195599 2566 2646 24 24\n",
      "725.1728016359918 688 768 6 6\n",
      "1887.8008213552362 1851 1931 17 17\n",
      "314.3533950617284 280 360 2 2\n",
      "2398.744680851064 2364 2444 22 22\n",
      "2093.8782849239283 2055 2135 19 19\n",
      "1442.5808270676691 1404 1484 13 13\n",
      "622.4648166501487 588 668 5 5\n",
      "2706.4424111948333 2668 2748 25 25\n",
      "929.4852320675105 893 973 8 8\n",
      "1684.6228323699422 1646 1726 15 15\n",
      "211.8618881118881 178 258 1 1\n",
      "2807.8053392658508 2771 2851 26 26\n",
      "1581.5063868613138 1543 1623 14 14\n",
      "1786.0929577464788 1747 1827 16 16\n",
      "2196.159951159951 2156 2236 20 20\n",
      "2502.5767918088736 2466 2546 23 23\n",
      "2911.84331797235 2873 2953 27 27\n",
      "1339.6981450252952 1300 1380 12 12\n",
      "1135.513784461153 1097 1177 10 10\n",
      "1991.311369509044 1956 2036 18 18\n",
      "419.72352389878165 382 462 3 3\n",
      "1441.2183333333332 1404 1484 13 13\n",
      "111.375 76 156 0 0\n",
      "318.4338138925295 280 360 2 2\n",
      "1239.5741391426563 1199 1279 11 11\n",
      "2299.1441441441443 2259 2339 21 21\n",
      "2605.0485933503837 2566 2646 24 24\n",
      "214.48499210110583 178 258 1 1\n",
      "2094.239043824701 2055 2135 19 19\n",
      "1685.4748299319729 1646 1726 15 15\n",
      "933.6991279069767 893 973 8 8\n",
      "829.2999062792877 790 870 7 7\n",
      "727.3320848938827 688 768 6 6\n",
      "1890.2448747152619 1851 1931 17 17\n",
      "2707.399357601713 2668 2748 25 25\n",
      "2810.095631641086 2771 2851 26 26\n",
      "2197.3507728894174 2156 2236 20 20\n",
      "1445.7050092764377 1404 1484 13 13\n",
      "2402.8880706921946 2364 2444 22 22\n",
      "112.83123877917414 76 156 0 0\n",
      "2504.8341375150785 2466 2546 23 23\n",
      "1137.88125 1097 1177 10 10\n",
      "1583.427536231884 1543 1623 14 14\n",
      "1993.3548895899053 1956 2036 18 18\n",
      "2912.771820448878 2873 2953 27 27\n",
      "1790.635359116022 1747 1827 16 16\n",
      "216.96433878157504 178 258 1 1\n",
      "316.76616231086655 280 360 2 2\n",
      "1686.8790820829656 1646 1726 15 15\n",
      "626.0359788359789 588 668 5 5\n",
      "933.6826923076923 893 973 8 8\n",
      "421.9637964774951 382 462 3 3\n",
      "2607.1679049034174 2566 2646 24 24\n",
      "2096.053680981595 2055 2135 19 19\n",
      "729.8988372093023 688 768 6 6\n",
      "1445.0125 1404 1484 13 13\n",
      "1892.3873873873874 1851 1931 17 17\n",
      "523.7043121149898 484 564 4 4\n",
      "113.52301255230125 76 156 0 0\n",
      "832.3666210670315 790 870 7 7\n",
      "2710.577427821522 2668 2748 25 25\n",
      "1587.558 1543 1623 14 14\n",
      "2810.466150870406 2771 2851 26 26\n",
      "2300.411196911197 2259 2339 21 21\n",
      "2199.8790697674417 2156 2236 20 20\n",
      "1995.1680532445923 1956 2036 18 18\n",
      "1343.5404376784015 1300 1380 12 12\n",
      "217.84478021978023 178 258 1 1\n",
      "2405.2732644017724 2364 2444 22 22\n",
      "1242.5498687664042 1199 1279 11 11\n",
      "2915.4129032258065 2873 2953 27 27\n",
      "319.45968882602546 280 360 2 2\n",
      "935.7846820809249 893 973 8 8\n",
      "2609.304709141274 2566 2646 24 24\n",
      "2097.4559884559885 2055 2135 19 19\n",
      "524.4545454545455 484 564 4 4\n",
      "1140.408988764045 1097 1177 10 10\n",
      "1448.6277227722771 1404 1484 13 13\n",
      "1790.989612842304 1747 1827 16 16\n",
      "114.66732673267327 76 156 0 0\n",
      "1587.296 1543 1623 14 14\n",
      "1038.0596774193548 995 1075 9 9\n",
      "731.061403508772 688 768 6 6\n",
      "423.8301662707838 382 462 3 3\n",
      "1894.4845425867509 1851 1931 17 17\n",
      "2303.6969696969695 2259 2339 21 21\n",
      "2815.6396103896104 2771 2851 26 26\n",
      "1689.7365439093485 1646 1726 15 15\n",
      "833.316251830161 790 870 7 7\n",
      "1996.5853242320818 1956 2036 18 18\n",
      "219.96296296296296 178 258 1 1\n",
      "1141.4473409801876 1097 1177 10 10\n",
      "2507.030303030303 2466 2546 23 23\n",
      "1446.2577319587629 1404 1484 13 13\n",
      "2201.877102199224 2156 2236 20 20\n",
      "2610.2389240506327 2566 2646 24 24\n",
      "2099.4104134762633 2055 2135 19 19\n",
      "116.64168377823408 76 156 0 0\n",
      "1243.8181818181818 1199 1279 11 11\n",
      "527.3194154488518 484 564 4 4\n",
      "321.95165745856355 280 360 2 2\n",
      "937.7075718015666 893 973 8 8\n",
      "2406.490837696335 2364 2444 22 22\n",
      "2917.2712066905615 2873 2953 27 27\n",
      "2712.5357751277684 2668 2748 25 25\n",
      "730.7854889589905 688 768 6 6\n",
      "1040.3604826546002 995 1075 9 9\n",
      "2304.4031365313654 2259 2339 21 21\n",
      "630.261569416499 588 668 5 5\n",
      "2815.5470085470088 2771 2851 26 26\n",
      "1998.409556313993 1956 2036 18 18\n",
      "424.2541766109785 382 462 3 3\n",
      "2510.832132259432 2466 2546 23 23\n",
      "835.5094637223975 790 870 7 7\n",
      "1451.077868852459 1404 1484 13 13\n",
      "1794.045617173524 1747 1827 16 16\n",
      "2611.7935285053927 2566 2646 24 24\n",
      "1245.483039348711 1199 1279 11 11\n",
      "323.7073891625616 280 360 2 2\n",
      "1590.249529190207 1543 1623 14 14\n",
      "2101.0666666666666 2055 2135 19 19\n",
      "2203.330383480826 2156 2236 20 20\n",
      "220.5017667844523 178 258 1 1\n",
      "1692.372660699756 1646 1726 15 15\n",
      "733.1435546875 688 768 6 6\n",
      "1142.7662565905096 1097 1177 10 10\n",
      "1347.7047101449275 1300 1380 12 12\n",
      "2406.2713567839196 2364 2444 22 22\n",
      "529.2450142450142 484 564 4 4\n",
      "2920.9268585131895 2873 2953 27 27\n",
      "1997.7697368421052 1956 2036 18 18\n",
      "120.40160642570281 76 156 0 0\n",
      "1449.572327044025 1404 1484 13 13\n",
      "1901.1746445497631 1851 1931 17 17\n",
      "836.6447368421053 790 870 7 7\n",
      "938.7264631043257 893 973 8 8\n",
      "426.5295597484277 382 462 3 3\n",
      "2614.1944777911162 2566 2646 24 24\n",
      "2717.100642398287 2668 2748 25 25\n",
      "2410.314662273476 2364 2444 22 22\n",
      "2307.4067164179105 2259 2339 21 21\n",
      "1143.6320422535211 1097 1177 10 10\n",
      "2102.9326923076924 2055 2135 19 19\n",
      "1247.3981723237598 1199 1279 11 11\n",
      "2204.8535211267604 2156 2236 20 20\n",
      "1451.979381443299 1404 1484 13 13\n",
      "223.5173501577287 178 258 1 1\n",
      "1802.2583173663124 1747 1827 16 16\n",
      "2001.4090150250418 1956 2036 18 18\n",
      "324.8905660377358 280 360 2 2\n",
      "838.323188405797 790 870 7 7\n",
      "1593.3389830508474 1543 1623 14 14\n",
      "633.1811111111111 588 668 5 5\n",
      "735.1191806331472 688 768 6 6\n",
      "1351.406954887218 1300 1380 12 12\n",
      "2409.7571428571428 2364 2444 22 22\n",
      "941.8810068649885 893 973 8 8\n",
      "1147.3683083511778 1097 1177 10 10\n",
      "533.0204953031597 484 564 4 4\n",
      "1695.4449152542372 1646 1726 15 15\n",
      "2206.6076086956523 2156 2236 20 20\n",
      "2104.4607843137255 2055 2135 19 19\n",
      "429.3317249698432 382 462 3 3\n",
      "121.69634906500445 76 156 0 0\n",
      "2615.621983914209 2566 2646 24 24\n",
      "2819.867469879518 2771 2851 26 26\n",
      "1248.9880546075085 1199 1279 11 11\n",
      "2308.3529411764707 2259 2339 21 21\n",
      "1044.097046413502 995 1075 9 9\n",
      "327.02309058614566 280 360 2 2\n",
      "2717.8353115727004 2668 2748 25 25\n",
      "2002.7674714104194 1956 2036 18 18\n",
      "737.0775444264943 688 768 6 6\n",
      "2411.262697022767 2364 2444 22 22\n",
      "943.3845693779904 893 973 8 8\n",
      "1454.4232081911264 1404 1484 13 13\n",
      "839.9360269360269 790 870 7 7\n",
      "225.00715015321757 178 258 1 1\n",
      "2820.0575263662513 2771 2851 26 26\n",
      "2105.4989384288747 2055 2135 19 19\n",
      "635.4343544857768 588 668 5 5\n",
      "327.40380047505937 280 360 2 2\n",
      "2514.723731884058 2466 2546 23 23\n",
      "1046.715976331361 995 1075 9 9\n",
      "1250.744537815126 1199 1279 11 11\n",
      "2616.540500736377 2566 2646 24 24\n",
      "431.35276532137516 382 462 3 3\n",
      "2311.120987654321 2259 2339 21 21\n",
      "1596.0829195630586 1543 1623 14 14\n",
      "2411.9469696969695 2364 2444 22 22\n",
      "2209.0510018214936 2156 2236 20 20\n",
      "2719.3221809169763 2668 2748 25 25\n",
      "737.7242582897034 688 768 6 6\n",
      "1352.9547368421054 1300 1380 12 12\n",
      "839.1869639794168 790 870 7 7\n",
      "531.5396825396825 484 564 4 4\n",
      "2004.5765550239234 1956 2036 18 18\n",
      "329.49792531120335 280 360 2 2\n",
      "1699.1717081850534 1646 1726 15 15\n",
      "2108.2946593001843 2055 2135 19 19\n",
      "124.35282651072124 76 156 0 0\n",
      "1458.559298569451 1404 1484 13 13\n",
      "2413.515587529976 2364 2444 22 22\n",
      "1150.0598851517636 1097 1177 10 10\n",
      "227.08198614318707 178 258 1 1\n",
      "2924.6817042606517 2873 2953 27 27\n",
      "1251.9515050167224 1199 1279 11 11\n",
      "1046.7909407665504 995 1075 9 9\n",
      "2209.794032723773 2156 2236 20 20\n",
      "432.9579831932773 382 462 3 3\n",
      "2618.4266666666667 2566 2646 24 24\n",
      "742.5894294714735 688 768 6 6\n",
      "638.4930924548353 588 668 5 5\n",
      "332.11875 280 360 2 2\n",
      "844.1678832116788 790 870 7 7\n",
      "536.1940298507462 484 564 4 4\n",
      "2825.213040181956 2771 2851 26 26\n",
      "2414.222018348624 2364 2444 22 22\n",
      "2313.423615743829 2259 2339 21 21\n",
      "2721.1716129032257 2668 2748 25 25\n",
      "2516.558359621451 2466 2546 23 23\n",
      "948.7051392477749 893 973 8 8\n",
      "2006.816733067729 1956 2036 18 18\n",
      "1357.7694300518135 1300 1380 12 12\n",
      "1253.3658536585365 1199 1279 11 11\n",
      "1049.8967297762479 995 1075 9 9\n",
      "332.75302308537925 280 360 2 2\n",
      "229.19022869022868 178 258 1 1\n",
      "534.6710963455149 484 564 4 4\n",
      "1700.0934320074005 1646 1726 15 15\n",
      "127.84925690021231 76 156 0 0\n",
      "2620.201096892139 2566 2646 24 24\n",
      "434.4777183600713 382 462 3 3\n",
      "2927.4322820037105 2873 2953 27 27\n",
      "640.491683991684 588 668 5 5\n",
      "2008.4703668861712 1956 2036 18 18\n",
      "2210.545988258317 2156 2236 20 20\n",
      "2725.1830601092897 2668 2748 25 25\n",
      "1154.9086521889003 1097 1177 10 10\n",
      "848.0785519125683 790 870 7 7\n",
      "1049.8017366136035 995 1075 9 9\n",
      "1598.8373333333334 1543 1623 14 14\n",
      "2416.939668174962 2364 2444 22 22\n",
      "2112.4391626689926 2055 2135 19 19\n",
      "1359.7803217821781 1300 1380 12 12\n",
      "537.4904013961606 484 564 4 4\n",
      "2520.517867271696 2466 2546 23 23\n",
      "2623.0408525754883 2566 2646 24 24\n",
      "438.1453175457481 382 462 3 3\n",
      "231.19764705882352 178 258 1 1\n",
      "1905.966318234611 1851 1931 17 17\n",
      "2214.1491053677933 2156 2236 20 20\n",
      "129.12809917355372 76 156 0 0\n",
      "1600.3185595567868 1543 1623 14 14\n",
      "1702.2215189873418 1646 1726 15 15\n",
      "1255.7732793522266 1199 1279 11 11\n",
      "2317.3550432276656 2259 2339 21 21\n",
      "1050.059842519685 995 1075 9 9\n",
      "537.9756097560976 484 564 4 4\n",
      "643.9068529607451 588 668 5 5\n",
      "2623.2274562584116 2566 2646 24 24\n",
      "1462.734036939314 1404 1484 13 13\n",
      "2930.3042582417584 2873 2953 27 27\n",
      "2419.5559210526317 2364 2444 22 22\n",
      "1600.7624565469293 1543 1623 14 14\n",
      "2010.7261794634599 1956 2036 18 18\n",
      "2214.553830227743 2156 2236 20 20\n",
      "1704.1387665198238 1646 1726 15 15\n",
      "1257.1156583629893 1199 1279 11 11\n",
      "2419.5958549222796 2364 2444 22 22\n",
      "233.3043956043956 178 258 1 1\n",
      "539.6022727272727 484 564 4 4\n",
      "1053.8472385428906 995 1075 9 9\n",
      "1910.3163972286375 1851 1931 17 17\n",
      "131.8027127003699 76 156 0 0\n",
      "2624.7706766917295 2566 2646 24 24\n",
      "1705.3955094991366 1646 1726 15 15\n",
      "2829.209935897436 2771 2851 26 26\n",
      "1257.7050505050504 1199 1279 11 11\n",
      "746.726090283091 688 768 6 6\n",
      "1604.10348583878 1543 1623 14 14\n",
      "2420.856152512998 2364 2444 22 22\n",
      "1910.494752623688 1851 1931 17 17\n",
      "1360.7980922098568 1300 1380 12 12\n",
      "542.0220440881764 484 564 4 4\n",
      "2523.7186544342508 2466 2546 23 23\n",
      "235.63062283737025 178 258 1 1\n",
      "2012.951923076923 1956 2036 18 18\n",
      "2218.5238095238096 2156 2236 20 20\n",
      "1706.3086419753085 1646 1726 15 15\n",
      "338.3793859649123 280 360 2 2\n",
      "133.42190889370931 76 156 0 0\n",
      "542.852233676976 484 564 4 4\n",
      "953.4824797843665 893 973 8 8\n",
      "339.8131868131868 280 360 2 2\n"
     ]
    }
   ],
   "source": [
    "for prop in props:\n",
    "    left_index = bisect.bisect_left(trap_locations_left, prop.centroid[0])\n",
    "    right_index = bisect.bisect_right(trap_locations_right, prop.centroid[0])\n",
    "    print(prop.centroid[0], trap_locations_left[left_index-1], trap_locations_right[right_index], left_index-1, right_index)\n",
    "    if left_index - 1 == right_index:\n",
    "        prop.trap = right_index\n",
    "    else:\n",
    "        prop.trap = None\n",
    "    prop.left_index = left_index\n",
    "    prop.right_index = right_index"
   ]
  },
  {
   "cell_type": "code",
   "execution_count": 56,
   "id": "11114921-94ae-4214-a623-4acc9deb475c",
   "metadata": {},
   "outputs": [
    {
     "data": {
      "text/plain": [
       "28"
      ]
     },
     "execution_count": 56,
     "metadata": {},
     "output_type": "execute_result"
    }
   ],
   "source": [
    "props[0].left_index"
   ]
  },
  {
   "cell_type": "code",
   "execution_count": 57,
   "id": "0518e3c8-ccd1-4ad9-a89a-ede9ec763bee",
   "metadata": {},
   "outputs": [
    {
     "data": {
      "text/plain": [
       "27"
      ]
     },
     "execution_count": 57,
     "metadata": {},
     "output_type": "execute_result"
    }
   ],
   "source": [
    "props[0].right_index"
   ]
  },
  {
   "cell_type": "code",
   "execution_count": null,
   "id": "5b4b3b4b-3879-4cdf-806f-4046f6bd5213",
   "metadata": {},
   "outputs": [],
   "source": []
  }
 ],
 "metadata": {
  "kernelspec": {
   "display_name": "Python 3 (ipykernel)",
   "language": "python",
   "name": "python3"
  },
  "language_info": {
   "codemirror_mode": {
    "name": "ipython",
    "version": 3
   },
   "file_extension": ".py",
   "mimetype": "text/x-python",
   "name": "python",
   "nbconvert_exporter": "python",
   "pygments_lexer": "ipython3",
   "version": "3.11.0"
  }
 },
 "nbformat": 4,
 "nbformat_minor": 5
}
