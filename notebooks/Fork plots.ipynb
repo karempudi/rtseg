{
 "cells": [
  {
   "cell_type": "code",
   "execution_count": 1,
   "id": "2bcef801-3f84-43ad-bdaa-9edddae462a2",
   "metadata": {},
   "outputs": [],
   "source": [
    "%reload_ext autoreload\n",
    "%autoreload 2"
   ]
  },
  {
   "cell_type": "code",
   "execution_count": 2,
   "id": "4adb52ad-14a4-4f11-97de-dd3bf60353f6",
   "metadata": {},
   "outputs": [],
   "source": [
    "import numpy as np\n",
    "import matplotlib.pyplot as plt\n",
    "from skimage.io import imread\n",
    "from rtseg.oldseg.transforms import UnetTestTransforms\n",
    "from rtseg.oldseg.networks import model_dict as seg_model_dict\n",
    "from rtseg.utils.param_io import load_params\n",
    "from pathlib import Path\n",
    "import torch\n",
    "%matplotlib qt5"
   ]
  },
  {
   "cell_type": "code",
   "execution_count": 3,
   "id": "478f7120-4540-4c2c-8816-fc2ffd8bff4e",
   "metadata": {},
   "outputs": [],
   "source": [
    "phase_path = Path('/home/pk/Documents/REALTIME/data/test/img_000000000.tiff')\n",
    "fluor_path = Path('/home/pk/Documents/REALTIME/data/test/img_000000000_fluor.tiff')"
   ]
  },
  {
   "cell_type": "code",
   "execution_count": 4,
   "id": "99d80eaf-cd59-4299-8f25-d24c4a417422",
   "metadata": {},
   "outputs": [],
   "source": [
    "phase_img = imread(phase_path)\n",
    "fluor_img = imread(fluor_path)"
   ]
  },
  {
   "cell_type": "code",
   "execution_count": 5,
   "id": "29bb480b-48a9-4a9e-9d48-bcecbe3e58d9",
   "metadata": {},
   "outputs": [],
   "source": [
    "fig, ax = plt.subplots(nrows=2, ncols=1)\n",
    "ax[0].imshow(phase_img, cmap='gray')\n",
    "ax[1].imshow(fluor_img, cmap='gray', vmin=0, vmax=500)\n",
    "plt.show()"
   ]
  },
  {
   "cell_type": "markdown",
   "id": "5fc3d0d1-24e1-4d75-962d-40e923c35f75",
   "metadata": {},
   "source": [
    "#### Segment phase"
   ]
  },
  {
   "cell_type": "code",
   "execution_count": 6,
   "id": "064347b8-2c04-4cf0-ba2e-daa8ac938640",
   "metadata": {},
   "outputs": [],
   "source": [
    "params_path = Path(\"/home/pk/Documents/rtseg/rtseg/resources/reference_params/reference_linux.yaml\")\n",
    "params = load_params(params_path, ref_type='expt')"
   ]
  },
  {
   "cell_type": "code",
   "execution_count": 7,
   "id": "e4e394ec-246b-4425-a2ea-6a4f314d9a68",
   "metadata": {},
   "outputs": [],
   "source": [
    "segment_params = params.Segmentation"
   ]
  },
  {
   "cell_type": "code",
   "execution_count": 8,
   "id": "4aac22db-8000-4a12-97fb-99db5ec8045a",
   "metadata": {},
   "outputs": [
    {
     "data": {
      "text/plain": [
       "Unet(\n",
       "  (down_layers): Sequential(\n",
       "    (0): ConvBlock(\n",
       "      (block): Sequential(\n",
       "        (0): Conv2d(1, 32, kernel_size=(3, 3), stride=(1, 1), padding=(1, 1))\n",
       "        (1): BatchNorm2d(32, eps=1e-05, momentum=0.1, affine=True, track_running_stats=True)\n",
       "        (2): ReLU(inplace=True)\n",
       "        (3): Conv2d(32, 32, kernel_size=(3, 3), stride=(1, 1), padding=(1, 1))\n",
       "        (4): BatchNorm2d(32, eps=1e-05, momentum=0.1, affine=True, track_running_stats=True)\n",
       "        (5): ReLU(inplace=True)\n",
       "      )\n",
       "    )\n",
       "    (1): MaxPool2d(kernel_size=2, stride=2, padding=0, dilation=1, ceil_mode=False)\n",
       "    (2): ConvBlock(\n",
       "      (block): Sequential(\n",
       "        (0): Conv2d(32, 64, kernel_size=(3, 3), stride=(1, 1), padding=(1, 1))\n",
       "        (1): BatchNorm2d(64, eps=1e-05, momentum=0.1, affine=True, track_running_stats=True)\n",
       "        (2): ReLU(inplace=True)\n",
       "        (3): Conv2d(64, 64, kernel_size=(3, 3), stride=(1, 1), padding=(1, 1))\n",
       "        (4): BatchNorm2d(64, eps=1e-05, momentum=0.1, affine=True, track_running_stats=True)\n",
       "        (5): ReLU(inplace=True)\n",
       "      )\n",
       "    )\n",
       "    (3): MaxPool2d(kernel_size=2, stride=2, padding=0, dilation=1, ceil_mode=False)\n",
       "    (4): ConvBlock(\n",
       "      (block): Sequential(\n",
       "        (0): Conv2d(64, 128, kernel_size=(3, 3), stride=(1, 1), padding=(1, 1))\n",
       "        (1): BatchNorm2d(128, eps=1e-05, momentum=0.1, affine=True, track_running_stats=True)\n",
       "        (2): ReLU(inplace=True)\n",
       "        (3): Conv2d(128, 128, kernel_size=(3, 3), stride=(1, 1), padding=(1, 1))\n",
       "        (4): BatchNorm2d(128, eps=1e-05, momentum=0.1, affine=True, track_running_stats=True)\n",
       "        (5): ReLU(inplace=True)\n",
       "      )\n",
       "    )\n",
       "    (5): MaxPool2d(kernel_size=2, stride=2, padding=0, dilation=1, ceil_mode=False)\n",
       "    (6): ConvBlock(\n",
       "      (block): Sequential(\n",
       "        (0): Conv2d(128, 256, kernel_size=(3, 3), stride=(1, 1), padding=(1, 1))\n",
       "        (1): BatchNorm2d(256, eps=1e-05, momentum=0.1, affine=True, track_running_stats=True)\n",
       "        (2): ReLU(inplace=True)\n",
       "        (3): Conv2d(256, 256, kernel_size=(3, 3), stride=(1, 1), padding=(1, 1))\n",
       "        (4): BatchNorm2d(256, eps=1e-05, momentum=0.1, affine=True, track_running_stats=True)\n",
       "        (5): ReLU(inplace=True)\n",
       "      )\n",
       "    )\n",
       "  )\n",
       "  (up_layers): Sequential(\n",
       "    (0): UpsampleBlock(\n",
       "      (upsample_block): ConvTranspose2d(256, 256, kernel_size=(2, 2), stride=(2, 2))\n",
       "      (conv_block): ConvBlock(\n",
       "        (block): Sequential(\n",
       "          (0): Conv2d(384, 128, kernel_size=(3, 3), stride=(1, 1), padding=(1, 1))\n",
       "          (1): BatchNorm2d(128, eps=1e-05, momentum=0.1, affine=True, track_running_stats=True)\n",
       "          (2): ReLU(inplace=True)\n",
       "          (3): Conv2d(128, 128, kernel_size=(3, 3), stride=(1, 1), padding=(1, 1))\n",
       "          (4): BatchNorm2d(128, eps=1e-05, momentum=0.1, affine=True, track_running_stats=True)\n",
       "          (5): ReLU(inplace=True)\n",
       "        )\n",
       "      )\n",
       "    )\n",
       "    (1): UpsampleBlock(\n",
       "      (upsample_block): ConvTranspose2d(128, 128, kernel_size=(2, 2), stride=(2, 2))\n",
       "      (conv_block): ConvBlock(\n",
       "        (block): Sequential(\n",
       "          (0): Conv2d(192, 64, kernel_size=(3, 3), stride=(1, 1), padding=(1, 1))\n",
       "          (1): BatchNorm2d(64, eps=1e-05, momentum=0.1, affine=True, track_running_stats=True)\n",
       "          (2): ReLU(inplace=True)\n",
       "          (3): Conv2d(64, 64, kernel_size=(3, 3), stride=(1, 1), padding=(1, 1))\n",
       "          (4): BatchNorm2d(64, eps=1e-05, momentum=0.1, affine=True, track_running_stats=True)\n",
       "          (5): ReLU(inplace=True)\n",
       "        )\n",
       "      )\n",
       "    )\n",
       "    (2): UpsampleBlock(\n",
       "      (upsample_block): ConvTranspose2d(64, 64, kernel_size=(2, 2), stride=(2, 2))\n",
       "      (conv_block): ConvBlock(\n",
       "        (block): Sequential(\n",
       "          (0): Conv2d(96, 32, kernel_size=(3, 3), stride=(1, 1), padding=(1, 1))\n",
       "          (1): BatchNorm2d(32, eps=1e-05, momentum=0.1, affine=True, track_running_stats=True)\n",
       "          (2): ReLU(inplace=True)\n",
       "          (3): Conv2d(32, 32, kernel_size=(3, 3), stride=(1, 1), padding=(1, 1))\n",
       "          (4): BatchNorm2d(32, eps=1e-05, momentum=0.1, affine=True, track_running_stats=True)\n",
       "          (5): ReLU(inplace=True)\n",
       "        )\n",
       "      )\n",
       "    )\n",
       "  )\n",
       "  (last_conv): Conv2d(32, 2, kernel_size=(1, 1), stride=(1, 1))\n",
       ")"
      ]
     },
     "execution_count": 8,
     "metadata": {},
     "output_type": "execute_result"
    }
   ],
   "source": [
    "model = seg_model_dict[segment_params.architecture]\n",
    "segment_model = model.parse(channels_by_scale=segment_params.model_params.channels_by_scale,\n",
    "                                 num_outputs=segment_params.model_params.num_outputs,\n",
    "                                 upsample_type=segment_params.model_params.upsample_type,\n",
    "                                 feature_fusion_type=segment_params.model_params.feature_fusion_type).to(device='cuda:0')\n",
    "segment_model_path = params.Segmentation.model_paths.both\n",
    "segment_model.load_state_dict(torch.load(segment_model_path, map_location='cuda:0'))\n",
    "segment_model.eval()"
   ]
  },
  {
   "cell_type": "code",
   "execution_count": 9,
   "id": "c7f5fc63-cc66-4bfa-b226-b2516578df36",
   "metadata": {},
   "outputs": [],
   "source": [
    "pre_segment_transforms = UnetTestTransforms()"
   ]
  },
  {
   "cell_type": "code",
   "execution_count": 10,
   "id": "19acede2-fe9a-4663-9d17-6b0a34c5eb56",
   "metadata": {},
   "outputs": [],
   "source": [
    "raw_shape = phase_img.shape"
   ]
  },
  {
   "cell_type": "code",
   "execution_count": 11,
   "id": "c43efb03-b824-4cdc-94cb-03425af71198",
   "metadata": {},
   "outputs": [],
   "source": [
    "seg_sample = pre_segment_transforms({'phase': phase_img.astype('float32'), 'raw_shape': raw_shape})"
   ]
  },
  {
   "cell_type": "code",
   "execution_count": 12,
   "id": "c55e89f7-c5ae-4fec-9671-35407e316dd4",
   "metadata": {},
   "outputs": [
    {
     "data": {
      "text/plain": [
       "{'phase': tensor([[[ 0.1105,  0.1157,  0.1183,  ...,  0.1289,  0.1285,  0.1298],\n",
       "          [ 0.1097,  0.1155,  0.1156,  ...,  0.1262,  0.1259,  0.1262],\n",
       "          [ 0.1120,  0.1160,  0.1195,  ...,  0.1283,  0.1295,  0.1289],\n",
       "          ...,\n",
       "          [-0.5000, -0.5000, -0.5000,  ..., -0.5000, -0.5000, -0.5000],\n",
       "          [-0.5000, -0.5000, -0.5000,  ..., -0.5000, -0.5000, -0.5000],\n",
       "          [-0.5000, -0.5000, -0.5000,  ..., -0.5000, -0.5000, -0.5000]]]),\n",
       " 'raw_shape': (891, 2048)}"
      ]
     },
     "execution_count": 12,
     "metadata": {},
     "output_type": "execute_result"
    }
   ],
   "source": [
    "seg_sample"
   ]
  },
  {
   "cell_type": "code",
   "execution_count": 15,
   "id": "21581a99-99aa-4867-a106-35b26c241bd6",
   "metadata": {},
   "outputs": [],
   "source": [
    "with torch.inference_mode():\n",
    "    seg_pred = segment_model(seg_sample['phase'].unsqueeze(0).to('cuda:0')).sigmoid().cpu().numpy().squeeze(0)"
   ]
  },
  {
   "cell_type": "code",
   "execution_count": 16,
   "id": "2e482048-35bb-43b5-ac7e-8881d1d007f8",
   "metadata": {},
   "outputs": [
    {
     "data": {
      "text/plain": [
       "(2, 896, 2048)"
      ]
     },
     "execution_count": 16,
     "metadata": {},
     "output_type": "execute_result"
    }
   ],
   "source": [
    "seg_pred.shape"
   ]
  },
  {
   "cell_type": "code",
   "execution_count": 17,
   "id": "848c599b-cbd0-4efe-ba03-3bb8d1d1c9b1",
   "metadata": {},
   "outputs": [],
   "source": [
    "cell_mask = seg_pred[0][:raw_shape[0], :raw_shape[1]] > 0.9"
   ]
  },
  {
   "cell_type": "code",
   "execution_count": 18,
   "id": "0784eaa8-e029-49eb-84c2-f1ffef582650",
   "metadata": {},
   "outputs": [],
   "source": [
    "channel_mask = seg_pred[1][:raw_shape[0], :raw_shape[1]] > 0.8"
   ]
  },
  {
   "cell_type": "code",
   "execution_count": 19,
   "id": "1b52508f-8111-4451-a29a-08676e5cdf36",
   "metadata": {},
   "outputs": [],
   "source": [
    "fig, ax = plt.subplots(nrows=2, ncols=1)\n",
    "ax[0].imshow(cell_mask)\n",
    "ax[1].imshow(channel_mask)\n",
    "plt.show()"
   ]
  },
  {
   "cell_type": "code",
   "execution_count": 20,
   "id": "efaacfe8-c922-4cdb-864f-6964e4892f04",
   "metadata": {},
   "outputs": [
    {
     "data": {
      "text/plain": [
       "((891, 2048), (891, 2048))"
      ]
     },
     "execution_count": 20,
     "metadata": {},
     "output_type": "execute_result"
    }
   ],
   "source": [
    "cell_mask.shape, fluor_img.shape"
   ]
  },
  {
   "cell_type": "code",
   "execution_count": null,
   "id": "361ac3d1-dbfc-4207-b979-14780a19514a",
   "metadata": {},
   "outputs": [],
   "source": []
  },
  {
   "cell_type": "markdown",
   "id": "f5ee0250-21d2-40a7-8ed8-a1fdb1c9be93",
   "metadata": {},
   "source": [
    "#### Detect dots"
   ]
  },
  {
   "cell_type": "code",
   "execution_count": 21,
   "id": "5f3de035-9f22-4100-ab39-2e07f6c9f318",
   "metadata": {},
   "outputs": [],
   "source": [
    "from rtseg.dotdetection.detect import compute_spot_binary_mask, compute_wavelet_planes\n",
    "from skimage.measure import label, regionprops"
   ]
  },
  {
   "cell_type": "code",
   "execution_count": 23,
   "id": "972c559a-db6a-49ac-9259-62527efc4460",
   "metadata": {},
   "outputs": [],
   "source": [
    "binary_spot_mask = compute_spot_binary_mask(fluor_img, cell_mask, noise_threshold=3.0, wavelet_plane_no=1, device='cuda:0')"
   ]
  },
  {
   "cell_type": "code",
   "execution_count": 24,
   "id": "dc81d781-8f32-4a19-b118-5ec840264468",
   "metadata": {},
   "outputs": [
    {
     "data": {
      "text/plain": [
       "(891, 2048)"
      ]
     },
     "execution_count": 24,
     "metadata": {},
     "output_type": "execute_result"
    }
   ],
   "source": [
    "binary_spot_mask.shape"
   ]
  },
  {
   "cell_type": "code",
   "execution_count": 25,
   "id": "948ca69a-dc86-47ae-ba65-f3fe7a593bcd",
   "metadata": {},
   "outputs": [],
   "source": [
    "plt.figure()\n",
    "plt.imshow(binary_spot_mask)\n",
    "plt.show()"
   ]
  },
  {
   "cell_type": "code",
   "execution_count": null,
   "id": "09de64b7-9bc7-44b9-a5e2-9c11210a3690",
   "metadata": {},
   "outputs": [],
   "source": []
  },
  {
   "cell_type": "code",
   "execution_count": 26,
   "id": "ed69331f-4509-4787-ae06-6c26cb771eef",
   "metadata": {},
   "outputs": [],
   "source": [
    "spot_stats = regionprops(label(binary_spot_mask), fluor_img)\n",
    "min_spot_area = 0.0 # 4 is default\n",
    "max_axes_ratio = 1.7"
   ]
  },
  {
   "cell_type": "code",
   "execution_count": 27,
   "id": "52260d1e-a61b-45f0-8d7d-2be5fe9eb2b2",
   "metadata": {},
   "outputs": [],
   "source": [
    "spot_filtered = [item for item in spot_stats if item.area > min_spot_area]\n",
    "\n",
    "spot_axes_ratio = np.array([spot.axis_major_length / spot.axis_minor_length for spot in spot_filtered])\n",
    "spot_areas = np.array([spot.area for spot in spot_filtered])\n",
    "# indices in spot filtered based on area\n",
    "dot_coords = [spot.centroid_weighted for spot in spot_filtered]"
   ]
  },
  {
   "cell_type": "code",
   "execution_count": 28,
   "id": "60289d3d-04b9-4fc0-b672-642a3d66c578",
   "metadata": {},
   "outputs": [],
   "source": [
    "len(dot_coords)\n",
    "dot_coords_np = np.array(dot_coords)"
   ]
  },
  {
   "cell_type": "code",
   "execution_count": 31,
   "id": "30e3dcb0-1545-43db-af71-912dfcbbeeea",
   "metadata": {},
   "outputs": [],
   "source": [
    "def plot_dots(fluor_image, dots):\n",
    "    plt.figure()\n",
    "    plt.imshow(fluor_image, cmap='gray')\n",
    "    plt.plot(dots[:, 1], dots[:, 0], 'ro')\n",
    "    plt.show()"
   ]
  },
  {
   "cell_type": "code",
   "execution_count": 32,
   "id": "53cf08e3-72eb-41d9-83c2-a2de1532ca7f",
   "metadata": {},
   "outputs": [],
   "source": [
    "plot_dots(fluor_img, dot_coords_np)"
   ]
  },
  {
   "cell_type": "code",
   "execution_count": null,
   "id": "4fdc19c4-178f-4eb5-a84d-e6570fa5d71e",
   "metadata": {},
   "outputs": [],
   "source": []
  },
  {
   "cell_type": "code",
   "execution_count": null,
   "id": "79cfb8d7-84d4-4f50-b77e-7915ed92730f",
   "metadata": {},
   "outputs": [],
   "source": []
  },
  {
   "cell_type": "code",
   "execution_count": null,
   "id": "6b1648b3-1c5d-4196-b8d1-63954234649c",
   "metadata": {},
   "outputs": [],
   "source": []
  },
  {
   "cell_type": "markdown",
   "id": "19da38c1-4c9e-4be5-8cab-c30cd6c9f9b7",
   "metadata": {},
   "source": [
    "#### Calculate backbones"
   ]
  },
  {
   "cell_type": "code",
   "execution_count": 34,
   "id": "b4d0692c-f471-44d7-aa37-6e4e3a20997b",
   "metadata": {},
   "outputs": [],
   "source": [
    "cell_mask_label = label(cell_mask)"
   ]
  },
  {
   "cell_type": "code",
   "execution_count": 35,
   "id": "0a7cf860-7a93-49e0-851d-dc603dc35324",
   "metadata": {},
   "outputs": [],
   "source": [
    "plt.figure()\n",
    "plt.imshow(cell_mask_label)\n",
    "plt.show()"
   ]
  },
  {
   "cell_type": "code",
   "execution_count": 33,
   "id": "c704dfc6-a1c0-4242-907d-92862a9013fe",
   "metadata": {},
   "outputs": [],
   "source": [
    "def plot_dots_on_mask(mask, dots):\n",
    "    plt.figure()\n",
    "    plt.imshow(mask)\n",
    "    plt.plot(dots[:, 1], dots[:, 0], 'ro')\n",
    "    plt.show()"
   ]
  },
  {
   "cell_type": "code",
   "execution_count": 36,
   "id": "267bc683-bbf2-4e44-ad80-564cef632a39",
   "metadata": {},
   "outputs": [],
   "source": [
    "plot_dots_on_mask(cell_mask_label, dot_coords_np)"
   ]
  },
  {
   "cell_type": "code",
   "execution_count": 37,
   "id": "5cdb5586-308a-4270-a8f6-9052a0053cea",
   "metadata": {},
   "outputs": [],
   "source": [
    "from rtseg.cells.utils import regionprops_custom"
   ]
  },
  {
   "cell_type": "code",
   "execution_count": 39,
   "id": "7db9a3c0-ed62-4510-b8ef-cd0ee44b2a40",
   "metadata": {},
   "outputs": [],
   "source": [
    "props = regionprops_custom(cell_mask_label)"
   ]
  },
  {
   "cell_type": "code",
   "execution_count": 40,
   "id": "06d1ba1a-73df-4081-913b-a4b321ae6d49",
   "metadata": {},
   "outputs": [
    {
     "data": {
      "text/plain": [
       "741"
      ]
     },
     "execution_count": 40,
     "metadata": {},
     "output_type": "execute_result"
    }
   ],
   "source": [
    "len(props)"
   ]
  },
  {
   "cell_type": "code",
   "execution_count": 41,
   "id": "eee57900-8747-4faa-80f6-5f08eee9a7bc",
   "metadata": {},
   "outputs": [
    {
     "data": {
      "text/plain": [
       "(1212, 2)"
      ]
     },
     "execution_count": 41,
     "metadata": {},
     "output_type": "execute_result"
    }
   ],
   "source": [
    "dot_coords_np.shape"
   ]
  },
  {
   "cell_type": "code",
   "execution_count": null,
   "id": "d2a73b72-a081-490c-8ccd-116a7e9ea599",
   "metadata": {},
   "outputs": [],
   "source": []
  },
  {
   "cell_type": "code",
   "execution_count": 42,
   "id": "15cbc032-3de2-49e7-aba6-e578039d8d89",
   "metadata": {},
   "outputs": [
    {
     "data": {
      "text/plain": [
       "(array([19.28411794]),\n",
       " array([[-0.5       ,  3.82288664],\n",
       "        [ 6.5       , -4.67106966]]),\n",
       " array([-0.65794834,  2.73426772,  5.35450759]))"
      ]
     },
     "execution_count": 42,
     "metadata": {},
     "output_type": "execute_result"
    }
   ],
   "source": [
    "props[2].arc_length, props[2].poles, props[2].fit_coeff"
   ]
  },
  {
   "cell_type": "code",
   "execution_count": 45,
   "id": "c4000ef1-bb82-4198-a9a6-b4f618f48c18",
   "metadata": {},
   "outputs": [],
   "source": [
    "dot_coords_int = dot_coords_np.astype('int')"
   ]
  },
  {
   "cell_type": "code",
   "execution_count": 49,
   "id": "00d2fa52-59e3-4d1a-afd0-536999212d77",
   "metadata": {},
   "outputs": [],
   "source": [
    "x, y = dot_coords_int[:, 0], dot_coords_int[:, 1]"
   ]
  },
  {
   "cell_type": "code",
   "execution_count": 51,
   "id": "2f2d5d2f-17d4-404c-af71-7c14759a9fbc",
   "metadata": {},
   "outputs": [
    {
     "data": {
      "text/plain": [
       "array([  0,   0,   0, ..., 721, 733,   0], dtype=int32)"
      ]
     },
     "execution_count": 51,
     "metadata": {},
     "output_type": "execute_result"
    }
   ],
   "source": [
    "cell_mask_label[x, y]"
   ]
  },
  {
   "cell_type": "code",
   "execution_count": 62,
   "id": "05cc1091-c527-4eb1-af40-52409f37776f",
   "metadata": {},
   "outputs": [],
   "source": [
    "dot_labels = cell_mask_label[x, y]"
   ]
  },
  {
   "cell_type": "code",
   "execution_count": 63,
   "id": "0a5146a2-16ff-42cb-b1f7-8c5ff6a221d3",
   "metadata": {},
   "outputs": [
    {
     "data": {
      "text/plain": [
       "(1212, 1212, 1212)"
      ]
     },
     "execution_count": 63,
     "metadata": {},
     "output_type": "execute_result"
    }
   ],
   "source": [
    "len(x), len(y), len(dot_labels)"
   ]
  },
  {
   "cell_type": "code",
   "execution_count": 67,
   "id": "6218c73c-092e-4e4f-86d5-4f9e1a19209e",
   "metadata": {},
   "outputs": [],
   "source": [
    "dots_inside_cells_idx = np.nonzero(dot_labels)[0]"
   ]
  },
  {
   "cell_type": "code",
   "execution_count": 100,
   "id": "8383afe8-7f0d-4431-9555-c58b8fca21f3",
   "metadata": {},
   "outputs": [
    {
     "data": {
      "text/plain": [
       "array([ 97,  99, 100, 101, 102, 103, 104, 105, 107, 108, 109, 110, 111,\n",
       "       112, 113, 114, 115, 116, 117, 118])"
      ]
     },
     "execution_count": 100,
     "metadata": {},
     "output_type": "execute_result"
    }
   ],
   "source": [
    "dots_inside_cells_idx[20:40]"
   ]
  },
  {
   "cell_type": "code",
   "execution_count": 89,
   "id": "208f79b9-aec7-48f8-9d19-14182f11a46c",
   "metadata": {},
   "outputs": [],
   "source": [
    "cell_labels_for_dots = dot_labels[dots_inside_cells_idx]"
   ]
  },
  {
   "cell_type": "code",
   "execution_count": 101,
   "id": "f91e85e4-bf17-4743-8044-1f6aac86c614",
   "metadata": {},
   "outputs": [
    {
     "data": {
      "text/plain": [
       "array([ 99,  59, 101,  73,  84,  63,  79,  92,  98,  91,  81,  93, 111,\n",
       "       107, 108, 106,  95, 109,  88, 115], dtype=int32)"
      ]
     },
     "execution_count": 101,
     "metadata": {},
     "output_type": "execute_result"
    }
   ],
   "source": [
    "cell_labels_for_dots[20:40]"
   ]
  },
  {
   "cell_type": "code",
   "execution_count": 105,
   "id": "4ab2f6c8-fce7-4ec1-bd20-a9c7bfaeaab9",
   "metadata": {},
   "outputs": [],
   "source": [
    "plt.figure()\n",
    "plt.imshow(cell_mask_label == 115)\n",
    "plt.plot(dot_coords_np[118][1], dot_coords_np[118][0], 'ro')\n",
    "plt.show()"
   ]
  },
  {
   "cell_type": "code",
   "execution_count": 106,
   "id": "1bcbe6e1-df7c-48d9-b517-33b9ac3c4234",
   "metadata": {},
   "outputs": [],
   "source": [
    "plt.figure()\n",
    "plt.imshow(props[114].image)\n",
    "plt.show()"
   ]
  },
  {
   "cell_type": "code",
   "execution_count": 107,
   "id": "d66d5667-edf3-4ef1-a81a-0349a94ecce6",
   "metadata": {},
   "outputs": [
    {
     "data": {
      "text/plain": [
       "array([9.69695333])"
      ]
     },
     "execution_count": 107,
     "metadata": {},
     "output_type": "execute_result"
    }
   ],
   "source": [
    "props[114].arc_length"
   ]
  },
  {
   "cell_type": "code",
   "execution_count": 108,
   "id": "9cf0c05e-a4dd-4399-87c8-ddce56ec7a67",
   "metadata": {},
   "outputs": [
    {
     "data": {
      "text/plain": [
       "array([[-0.5       , 22.2831658 ],\n",
       "       [ 7.5       , 26.26673705]])"
      ]
     },
     "execution_count": 108,
     "metadata": {},
     "output_type": "execute_result"
    }
   ],
   "source": [
    "props[114].poles"
   ]
  },
  {
   "cell_type": "code",
   "execution_count": 113,
   "id": "28b5f409-c471-4efc-b0f6-638c1a25267b",
   "metadata": {},
   "outputs": [
    {
     "data": {
      "text/plain": [
       "59.02163246623325"
      ]
     },
     "execution_count": 113,
     "metadata": {},
     "output_type": "execute_result"
    }
   ],
   "source": [
    "props[114].axis_major_length"
   ]
  },
  {
   "cell_type": "code",
   "execution_count": null,
   "id": "a1a96a8c-dd71-4fae-acb3-0bef659158fc",
   "metadata": {},
   "outputs": [],
   "source": []
  },
  {
   "cell_type": "code",
   "execution_count": 115,
   "id": "0b89460c-953b-4aec-9c25-b632738b293c",
   "metadata": {},
   "outputs": [
    {
     "name": "stdout",
     "output_type": "stream",
     "text": [
      "5.2 μs ± 14.6 ns per loop (mean ± std. dev. of 7 runs, 100,000 loops each)\n"
     ]
    }
   ],
   "source": [
    "%%timeit\n",
    "np.rot90(cell_mask_label)"
   ]
  },
  {
   "cell_type": "code",
   "execution_count": 116,
   "id": "ed553b97-569e-42d7-8df7-db599224fe11",
   "metadata": {},
   "outputs": [
    {
     "data": {
      "text/plain": [
       "(2048, 891)"
      ]
     },
     "execution_count": 116,
     "metadata": {},
     "output_type": "execute_result"
    }
   ],
   "source": [
    "np.rot90(cell_mask_label).shape"
   ]
  },
  {
   "cell_type": "code",
   "execution_count": 110,
   "id": "3f22d3eb-ed07-45f7-969d-adb1fe7ed9d4",
   "metadata": {},
   "outputs": [],
   "source": [
    "plt.figure()\n",
    "plt.imshow(np.rot90(cell_mask_label))\n",
    "plt.show()"
   ]
  },
  {
   "cell_type": "code",
   "execution_count": null,
   "id": "06b2088d-ddc3-47f9-8daa-39e8dbdd83c8",
   "metadata": {},
   "outputs": [],
   "source": []
  },
  {
   "cell_type": "code",
   "execution_count": null,
   "id": "85d091d4-b997-440a-9321-c80ffd50a2cb",
   "metadata": {},
   "outputs": [],
   "source": []
  },
  {
   "cell_type": "code",
   "execution_count": 98,
   "id": "8a380d36-7eed-4325-bd06-d999c399dff4",
   "metadata": {},
   "outputs": [
    {
     "data": {
      "text/plain": [
       "716.5766723842196"
      ]
     },
     "execution_count": 98,
     "metadata": {},
     "output_type": "execute_result"
    }
   ],
   "source": [
    "dot_coords_np[:, 0].max()"
   ]
  },
  {
   "cell_type": "code",
   "execution_count": 99,
   "id": "5489c1ad-a93f-431d-9640-4f050a56b91d",
   "metadata": {},
   "outputs": [
    {
     "data": {
      "text/plain": [
       "2039.506221719457"
      ]
     },
     "execution_count": 99,
     "metadata": {},
     "output_type": "execute_result"
    }
   ],
   "source": [
    "dot_coords_np[:, 1].max()"
   ]
  },
  {
   "cell_type": "code",
   "execution_count": 95,
   "id": "861fe26d-cf86-4dec-b839-2cd930f3bfe3",
   "metadata": {},
   "outputs": [
    {
     "data": {
      "text/plain": [
       "array([[0, 0, 0, ..., 0, 0, 0],\n",
       "       [0, 0, 0, ..., 0, 0, 0],\n",
       "       [0, 0, 0, ..., 0, 0, 0],\n",
       "       ...,\n",
       "       [0, 0, 0, ..., 0, 0, 0],\n",
       "       [0, 0, 0, ..., 0, 0, 0],\n",
       "       [0, 0, 0, ..., 0, 0, 0]], dtype=int32)"
      ]
     },
     "execution_count": 95,
     "metadata": {},
     "output_type": "execute_result"
    }
   ],
   "source": [
    "cell_mask_label["
   ]
  },
  {
   "cell_type": "code",
   "execution_count": null,
   "id": "32344f15-158e-4efd-8116-d3c446e32a86",
   "metadata": {},
   "outputs": [],
   "source": []
  },
  {
   "cell_type": "code",
   "execution_count": null,
   "id": "2b0a283e-b6f7-4020-8202-ebff898a06f4",
   "metadata": {},
   "outputs": [],
   "source": []
  },
  {
   "cell_type": "code",
   "execution_count": null,
   "id": "fdabe676-22c7-408b-b670-e8760b2da0ab",
   "metadata": {},
   "outputs": [],
   "source": []
  },
  {
   "cell_type": "code",
   "execution_count": null,
   "id": "906dec96-4151-4871-967a-f23386d0cec4",
   "metadata": {},
   "outputs": [],
   "source": []
  },
  {
   "cell_type": "code",
   "execution_count": null,
   "id": "e1d9d061-b946-4a77-85f1-5d05c2c6b9f5",
   "metadata": {},
   "outputs": [],
   "source": []
  },
  {
   "cell_type": "code",
   "execution_count": null,
   "id": "7651b191-167d-4de0-abee-3017e95178ee",
   "metadata": {},
   "outputs": [],
   "source": []
  },
  {
   "cell_type": "code",
   "execution_count": null,
   "id": "2085b05e-9d4e-4d7f-9467-9c0078f818d3",
   "metadata": {},
   "outputs": [],
   "source": []
  },
  {
   "cell_type": "code",
   "execution_count": null,
   "id": "77b982ae-d6d5-4bf1-a80e-6e0297f32df3",
   "metadata": {},
   "outputs": [],
   "source": []
  },
  {
   "cell_type": "markdown",
   "id": "cc4a2c0e-dbc0-4a11-b7dc-99443a423070",
   "metadata": {},
   "source": [
    "#### Make forkplots"
   ]
  },
  {
   "cell_type": "code",
   "execution_count": null,
   "id": "daa6151f-86ea-4c3e-bd50-3449f8c2fb71",
   "metadata": {},
   "outputs": [],
   "source": []
  },
  {
   "cell_type": "code",
   "execution_count": null,
   "id": "239fdfb5-91ec-4603-92db-5a41ec879d33",
   "metadata": {},
   "outputs": [],
   "source": []
  },
  {
   "cell_type": "code",
   "execution_count": null,
   "id": "085a4236-12d1-48b6-8d8d-f75e95a9c855",
   "metadata": {},
   "outputs": [],
   "source": []
  },
  {
   "cell_type": "code",
   "execution_count": null,
   "id": "0560a51f-fc1d-498a-80db-8c8f63783f78",
   "metadata": {},
   "outputs": [],
   "source": []
  },
  {
   "cell_type": "code",
   "execution_count": null,
   "id": "1ce4e85a-3ed0-4cc4-80e6-b888ed876ec1",
   "metadata": {},
   "outputs": [],
   "source": []
  }
 ],
 "metadata": {
  "kernelspec": {
   "display_name": "Python 3 (ipykernel)",
   "language": "python",
   "name": "python3"
  },
  "language_info": {
   "codemirror_mode": {
    "name": "ipython",
    "version": 3
   },
   "file_extension": ".py",
   "mimetype": "text/x-python",
   "name": "python",
   "nbconvert_exporter": "python",
   "pygments_lexer": "ipython3",
   "version": "3.11.0rc1"
  }
 },
 "nbformat": 4,
 "nbformat_minor": 5
}
