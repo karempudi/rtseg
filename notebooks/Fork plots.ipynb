{
 "cells": [
  {
   "cell_type": "code",
   "execution_count": 1,
   "id": "2bcef801-3f84-43ad-bdaa-9edddae462a2",
   "metadata": {},
   "outputs": [],
   "source": [
    "%reload_ext autoreload\n",
    "%autoreload 2"
   ]
  },
  {
   "cell_type": "code",
   "execution_count": 2,
   "id": "4adb52ad-14a4-4f11-97de-dd3bf60353f6",
   "metadata": {},
   "outputs": [],
   "source": [
    "import numpy as np\n",
    "import matplotlib.pyplot as plt\n",
    "from skimage.io import imread\n",
    "from rtseg.oldseg.transforms import UnetTestTransforms\n",
    "from rtseg.oldseg.networks import model_dict as seg_model_dict\n",
    "from rtseg.utils.param_io import load_params\n",
    "from rtseg.cells.utils import compute_projected_points, compute_arc_length\n",
    "from pathlib import Path\n",
    "import torch\n",
    "%matplotlib qt5"
   ]
  },
  {
   "cell_type": "code",
   "execution_count": 3,
   "id": "478f7120-4540-4c2c-8816-fc2ffd8bff4e",
   "metadata": {},
   "outputs": [],
   "source": [
    "phase_path = Path('/home/pk/Documents/rtclient/rtclient/resources/test_images/phase_dummy.tiff')\n",
    "fluor_path = Path('/home/pk/Documents/rtclient/rtclient/resources/test_images/fluor_dummy.tiff')"
   ]
  },
  {
   "cell_type": "code",
   "execution_count": 4,
   "id": "99d80eaf-cd59-4299-8f25-d24c4a417422",
   "metadata": {},
   "outputs": [],
   "source": [
    "phase_img = imread(phase_path)\n",
    "fluor_img = imread(fluor_path)"
   ]
  },
  {
   "cell_type": "code",
   "execution_count": 5,
   "id": "29bb480b-48a9-4a9e-9d48-bcecbe3e58d9",
   "metadata": {},
   "outputs": [],
   "source": [
    "fig, ax = plt.subplots(nrows=1, ncols=2)\n",
    "ax[0].imshow(phase_img, cmap='gray')\n",
    "ax[1].imshow(fluor_img, cmap='gray', vmin=0, vmax=500)\n",
    "plt.show()"
   ]
  },
  {
   "cell_type": "markdown",
   "id": "5fc3d0d1-24e1-4d75-962d-40e923c35f75",
   "metadata": {},
   "source": [
    "#### Segment phase"
   ]
  },
  {
   "cell_type": "code",
   "execution_count": 6,
   "id": "064347b8-2c04-4cf0-ba2e-daa8ac938640",
   "metadata": {},
   "outputs": [],
   "source": [
    "params_path = Path(\"/home/pk/Documents/rtseg/rtseg/resources/reference_params/reference_linux.yaml\")\n",
    "params = load_params(params_path, ref_type='expt')"
   ]
  },
  {
   "cell_type": "code",
   "execution_count": 7,
   "id": "e4e394ec-246b-4425-a2ea-6a4f314d9a68",
   "metadata": {},
   "outputs": [],
   "source": [
    "segment_params = params.Segmentation"
   ]
  },
  {
   "cell_type": "code",
   "execution_count": 8,
   "id": "4aac22db-8000-4a12-97fb-99db5ec8045a",
   "metadata": {},
   "outputs": [
    {
     "data": {
      "text/plain": [
       "Unet(\n",
       "  (down_layers): Sequential(\n",
       "    (0): ConvBlock(\n",
       "      (block): Sequential(\n",
       "        (0): Conv2d(1, 32, kernel_size=(3, 3), stride=(1, 1), padding=(1, 1))\n",
       "        (1): BatchNorm2d(32, eps=1e-05, momentum=0.1, affine=True, track_running_stats=True)\n",
       "        (2): ReLU(inplace=True)\n",
       "        (3): Conv2d(32, 32, kernel_size=(3, 3), stride=(1, 1), padding=(1, 1))\n",
       "        (4): BatchNorm2d(32, eps=1e-05, momentum=0.1, affine=True, track_running_stats=True)\n",
       "        (5): ReLU(inplace=True)\n",
       "      )\n",
       "    )\n",
       "    (1): MaxPool2d(kernel_size=2, stride=2, padding=0, dilation=1, ceil_mode=False)\n",
       "    (2): ConvBlock(\n",
       "      (block): Sequential(\n",
       "        (0): Conv2d(32, 64, kernel_size=(3, 3), stride=(1, 1), padding=(1, 1))\n",
       "        (1): BatchNorm2d(64, eps=1e-05, momentum=0.1, affine=True, track_running_stats=True)\n",
       "        (2): ReLU(inplace=True)\n",
       "        (3): Conv2d(64, 64, kernel_size=(3, 3), stride=(1, 1), padding=(1, 1))\n",
       "        (4): BatchNorm2d(64, eps=1e-05, momentum=0.1, affine=True, track_running_stats=True)\n",
       "        (5): ReLU(inplace=True)\n",
       "      )\n",
       "    )\n",
       "    (3): MaxPool2d(kernel_size=2, stride=2, padding=0, dilation=1, ceil_mode=False)\n",
       "    (4): ConvBlock(\n",
       "      (block): Sequential(\n",
       "        (0): Conv2d(64, 128, kernel_size=(3, 3), stride=(1, 1), padding=(1, 1))\n",
       "        (1): BatchNorm2d(128, eps=1e-05, momentum=0.1, affine=True, track_running_stats=True)\n",
       "        (2): ReLU(inplace=True)\n",
       "        (3): Conv2d(128, 128, kernel_size=(3, 3), stride=(1, 1), padding=(1, 1))\n",
       "        (4): BatchNorm2d(128, eps=1e-05, momentum=0.1, affine=True, track_running_stats=True)\n",
       "        (5): ReLU(inplace=True)\n",
       "      )\n",
       "    )\n",
       "    (5): MaxPool2d(kernel_size=2, stride=2, padding=0, dilation=1, ceil_mode=False)\n",
       "    (6): ConvBlock(\n",
       "      (block): Sequential(\n",
       "        (0): Conv2d(128, 256, kernel_size=(3, 3), stride=(1, 1), padding=(1, 1))\n",
       "        (1): BatchNorm2d(256, eps=1e-05, momentum=0.1, affine=True, track_running_stats=True)\n",
       "        (2): ReLU(inplace=True)\n",
       "        (3): Conv2d(256, 256, kernel_size=(3, 3), stride=(1, 1), padding=(1, 1))\n",
       "        (4): BatchNorm2d(256, eps=1e-05, momentum=0.1, affine=True, track_running_stats=True)\n",
       "        (5): ReLU(inplace=True)\n",
       "      )\n",
       "    )\n",
       "  )\n",
       "  (up_layers): Sequential(\n",
       "    (0): UpsampleBlock(\n",
       "      (upsample_block): ConvTranspose2d(256, 256, kernel_size=(2, 2), stride=(2, 2))\n",
       "      (conv_block): ConvBlock(\n",
       "        (block): Sequential(\n",
       "          (0): Conv2d(384, 128, kernel_size=(3, 3), stride=(1, 1), padding=(1, 1))\n",
       "          (1): BatchNorm2d(128, eps=1e-05, momentum=0.1, affine=True, track_running_stats=True)\n",
       "          (2): ReLU(inplace=True)\n",
       "          (3): Conv2d(128, 128, kernel_size=(3, 3), stride=(1, 1), padding=(1, 1))\n",
       "          (4): BatchNorm2d(128, eps=1e-05, momentum=0.1, affine=True, track_running_stats=True)\n",
       "          (5): ReLU(inplace=True)\n",
       "        )\n",
       "      )\n",
       "    )\n",
       "    (1): UpsampleBlock(\n",
       "      (upsample_block): ConvTranspose2d(128, 128, kernel_size=(2, 2), stride=(2, 2))\n",
       "      (conv_block): ConvBlock(\n",
       "        (block): Sequential(\n",
       "          (0): Conv2d(192, 64, kernel_size=(3, 3), stride=(1, 1), padding=(1, 1))\n",
       "          (1): BatchNorm2d(64, eps=1e-05, momentum=0.1, affine=True, track_running_stats=True)\n",
       "          (2): ReLU(inplace=True)\n",
       "          (3): Conv2d(64, 64, kernel_size=(3, 3), stride=(1, 1), padding=(1, 1))\n",
       "          (4): BatchNorm2d(64, eps=1e-05, momentum=0.1, affine=True, track_running_stats=True)\n",
       "          (5): ReLU(inplace=True)\n",
       "        )\n",
       "      )\n",
       "    )\n",
       "    (2): UpsampleBlock(\n",
       "      (upsample_block): ConvTranspose2d(64, 64, kernel_size=(2, 2), stride=(2, 2))\n",
       "      (conv_block): ConvBlock(\n",
       "        (block): Sequential(\n",
       "          (0): Conv2d(96, 32, kernel_size=(3, 3), stride=(1, 1), padding=(1, 1))\n",
       "          (1): BatchNorm2d(32, eps=1e-05, momentum=0.1, affine=True, track_running_stats=True)\n",
       "          (2): ReLU(inplace=True)\n",
       "          (3): Conv2d(32, 32, kernel_size=(3, 3), stride=(1, 1), padding=(1, 1))\n",
       "          (4): BatchNorm2d(32, eps=1e-05, momentum=0.1, affine=True, track_running_stats=True)\n",
       "          (5): ReLU(inplace=True)\n",
       "        )\n",
       "      )\n",
       "    )\n",
       "  )\n",
       "  (last_conv): Conv2d(32, 2, kernel_size=(1, 1), stride=(1, 1))\n",
       ")"
      ]
     },
     "execution_count": 8,
     "metadata": {},
     "output_type": "execute_result"
    }
   ],
   "source": [
    "model = seg_model_dict[segment_params.architecture]\n",
    "segment_model = model.parse(channels_by_scale=segment_params.model_params.channels_by_scale,\n",
    "                                 num_outputs=segment_params.model_params.num_outputs,\n",
    "                                 upsample_type=segment_params.model_params.upsample_type,\n",
    "                                 feature_fusion_type=segment_params.model_params.feature_fusion_type).to(device='cuda:0')\n",
    "segment_model_path = params.Segmentation.model_paths.both\n",
    "segment_model.load_state_dict(torch.load(segment_model_path, map_location='cuda:0'))\n",
    "segment_model.eval()"
   ]
  },
  {
   "cell_type": "code",
   "execution_count": 9,
   "id": "c7f5fc63-cc66-4bfa-b226-b2516578df36",
   "metadata": {},
   "outputs": [],
   "source": [
    "pre_segment_transforms = UnetTestTransforms()"
   ]
  },
  {
   "cell_type": "code",
   "execution_count": 10,
   "id": "19acede2-fe9a-4663-9d17-6b0a34c5eb56",
   "metadata": {},
   "outputs": [],
   "source": [
    "raw_shape = phase_img.shape"
   ]
  },
  {
   "cell_type": "code",
   "execution_count": 11,
   "id": "c43efb03-b824-4cdc-94cb-03425af71198",
   "metadata": {},
   "outputs": [],
   "source": [
    "seg_sample = pre_segment_transforms({'phase': phase_img.astype('float32'), 'raw_shape': raw_shape})"
   ]
  },
  {
   "cell_type": "code",
   "execution_count": 12,
   "id": "c55e89f7-c5ae-4fec-9671-35407e316dd4",
   "metadata": {},
   "outputs": [
    {
     "data": {
      "text/plain": [
       "{'phase': tensor([[[ 0.0775,  0.0847,  0.0867,  ..., -0.5000, -0.5000, -0.5000],\n",
       "          [ 0.0833,  0.0787,  0.0904,  ..., -0.5000, -0.5000, -0.5000],\n",
       "          [ 0.0816,  0.0884,  0.0862,  ..., -0.5000, -0.5000, -0.5000],\n",
       "          ...,\n",
       "          [-0.5000, -0.5000, -0.5000,  ..., -0.5000, -0.5000, -0.5000],\n",
       "          [-0.5000, -0.5000, -0.5000,  ..., -0.5000, -0.5000, -0.5000],\n",
       "          [-0.5000, -0.5000, -0.5000,  ..., -0.5000, -0.5000, -0.5000]]]),\n",
       " 'raw_shape': (1500, 3036)}"
      ]
     },
     "execution_count": 12,
     "metadata": {},
     "output_type": "execute_result"
    }
   ],
   "source": [
    "seg_sample"
   ]
  },
  {
   "cell_type": "code",
   "execution_count": 13,
   "id": "21581a99-99aa-4867-a106-35b26c241bd6",
   "metadata": {},
   "outputs": [],
   "source": [
    "with torch.inference_mode():\n",
    "    seg_pred = segment_model(seg_sample['phase'].unsqueeze(0).to('cuda:0')).sigmoid().cpu().numpy().squeeze(0)"
   ]
  },
  {
   "cell_type": "code",
   "execution_count": 14,
   "id": "2e482048-35bb-43b5-ac7e-8881d1d007f8",
   "metadata": {},
   "outputs": [
    {
     "data": {
      "text/plain": [
       "(2, 1504, 3040)"
      ]
     },
     "execution_count": 14,
     "metadata": {},
     "output_type": "execute_result"
    }
   ],
   "source": [
    "seg_pred.shape"
   ]
  },
  {
   "cell_type": "code",
   "execution_count": 22,
   "id": "848c599b-cbd0-4efe-ba03-3bb8d1d1c9b1",
   "metadata": {},
   "outputs": [],
   "source": [
    "cell_mask = seg_pred[0][:raw_shape[0], :raw_shape[1]] > 0.85"
   ]
  },
  {
   "cell_type": "code",
   "execution_count": 23,
   "id": "0784eaa8-e029-49eb-84c2-f1ffef582650",
   "metadata": {},
   "outputs": [],
   "source": [
    "channel_mask = seg_pred[1][:raw_shape[0], :raw_shape[1]] > 0.8"
   ]
  },
  {
   "cell_type": "code",
   "execution_count": 24,
   "id": "1b52508f-8111-4451-a29a-08676e5cdf36",
   "metadata": {},
   "outputs": [],
   "source": [
    "fig, ax = plt.subplots(nrows=1, ncols=2)\n",
    "ax[0].imshow(cell_mask)\n",
    "ax[1].imshow(channel_mask)\n",
    "plt.show()"
   ]
  },
  {
   "cell_type": "code",
   "execution_count": 25,
   "id": "efaacfe8-c922-4cdb-864f-6964e4892f04",
   "metadata": {},
   "outputs": [
    {
     "data": {
      "text/plain": [
       "((1500, 3036), (1500, 3036))"
      ]
     },
     "execution_count": 25,
     "metadata": {},
     "output_type": "execute_result"
    }
   ],
   "source": [
    "cell_mask.shape, fluor_img.shape"
   ]
  },
  {
   "cell_type": "code",
   "execution_count": null,
   "id": "361ac3d1-dbfc-4207-b979-14780a19514a",
   "metadata": {},
   "outputs": [],
   "source": []
  },
  {
   "cell_type": "markdown",
   "id": "f5ee0250-21d2-40a7-8ed8-a1fdb1c9be93",
   "metadata": {},
   "source": [
    "#### Detect dots"
   ]
  },
  {
   "cell_type": "code",
   "execution_count": 26,
   "id": "5f3de035-9f22-4100-ab39-2e07f6c9f318",
   "metadata": {},
   "outputs": [],
   "source": [
    "from rtseg.dotdetection.detect import compute_spot_binary_mask, compute_wavelet_planes\n",
    "from skimage.measure import label, regionprops"
   ]
  },
  {
   "cell_type": "code",
   "execution_count": 27,
   "id": "544e3604-6449-42dd-95d1-b791ebb5110a",
   "metadata": {},
   "outputs": [],
   "source": [
    "cell_mask_rot = np.rot90(cell_mask).copy()\n",
    "fluor_img_rot = np.rot90(fluor_img).copy()"
   ]
  },
  {
   "cell_type": "code",
   "execution_count": 105,
   "id": "b11204de-2573-4bc9-bb16-ffea53602756",
   "metadata": {},
   "outputs": [],
   "source": [
    "plt.figure()\n",
    "plt.imshow(label(cell_mask).T)\n",
    "plt.show()"
   ]
  },
  {
   "cell_type": "code",
   "execution_count": 106,
   "id": "d2404def-609c-4f90-aa65-26bc75242662",
   "metadata": {},
   "outputs": [],
   "source": [
    "plt.figure()\n",
    "plt.imshow(label(cell_mask))\n",
    "plt.show()"
   ]
  },
  {
   "cell_type": "code",
   "execution_count": 32,
   "id": "972c559a-db6a-49ac-9259-62527efc4460",
   "metadata": {},
   "outputs": [],
   "source": [
    "binary_spot_mask = compute_spot_binary_mask(fluor_img_rot, cell_mask_rot, noise_threshold=3.0, wavelet_plane_no=2, device='cuda:0')"
   ]
  },
  {
   "cell_type": "code",
   "execution_count": 33,
   "id": "dc81d781-8f32-4a19-b118-5ec840264468",
   "metadata": {},
   "outputs": [
    {
     "data": {
      "text/plain": [
       "(3036, 1500)"
      ]
     },
     "execution_count": 33,
     "metadata": {},
     "output_type": "execute_result"
    }
   ],
   "source": [
    "binary_spot_mask.shape"
   ]
  },
  {
   "cell_type": "code",
   "execution_count": 34,
   "id": "948ca69a-dc86-47ae-ba65-f3fe7a593bcd",
   "metadata": {},
   "outputs": [],
   "source": [
    "plt.figure()\n",
    "plt.imshow(binary_spot_mask)\n",
    "plt.show()"
   ]
  },
  {
   "cell_type": "code",
   "execution_count": null,
   "id": "09de64b7-9bc7-44b9-a5e2-9c11210a3690",
   "metadata": {},
   "outputs": [],
   "source": []
  },
  {
   "cell_type": "code",
   "execution_count": 35,
   "id": "ed69331f-4509-4787-ae06-6c26cb771eef",
   "metadata": {},
   "outputs": [],
   "source": [
    "spot_stats = regionprops(label(binary_spot_mask), fluor_img_rot)\n",
    "min_spot_area = 0.0 # 4 is default\n",
    "max_axes_ratio = 1.7"
   ]
  },
  {
   "cell_type": "code",
   "execution_count": 36,
   "id": "52260d1e-a61b-45f0-8d7d-2be5fe9eb2b2",
   "metadata": {},
   "outputs": [],
   "source": [
    "spot_filtered = [item for item in spot_stats if item.area > min_spot_area]\n",
    "\n",
    "spot_axes_ratio = np.array([spot.axis_major_length / spot.axis_minor_length for spot in spot_filtered])\n",
    "spot_areas = np.array([spot.area for spot in spot_filtered])\n",
    "# indices in spot filtered based on area\n",
    "dot_coords = [spot.centroid_weighted for spot in spot_filtered]"
   ]
  },
  {
   "cell_type": "code",
   "execution_count": 37,
   "id": "60289d3d-04b9-4fc0-b672-642a3d66c578",
   "metadata": {},
   "outputs": [],
   "source": [
    "len(dot_coords)\n",
    "dot_coords_np = np.array(dot_coords)"
   ]
  },
  {
   "cell_type": "code",
   "execution_count": 107,
   "id": "30e3dcb0-1545-43db-af71-912dfcbbeeea",
   "metadata": {},
   "outputs": [],
   "source": [
    "def plot_dots(fluor_image, dots):\n",
    "    plt.figure()\n",
    "    plt.imshow(fluor_image, cmap='gray')\n",
    "    plt.plot(dots[:, 1], dots[:, 0], 'ro')\n",
    "    plt.show()"
   ]
  },
  {
   "cell_type": "code",
   "execution_count": 108,
   "id": "53cf08e3-72eb-41d9-83c2-a2de1532ca7f",
   "metadata": {},
   "outputs": [],
   "source": [
    "plot_dots(fluor_img_rot, dot_coords_np)"
   ]
  },
  {
   "cell_type": "code",
   "execution_count": null,
   "id": "4fdc19c4-178f-4eb5-a84d-e6570fa5d71e",
   "metadata": {},
   "outputs": [],
   "source": []
  },
  {
   "cell_type": "code",
   "execution_count": 99,
   "id": "5d660df8-aafc-4b9b-af02-095b4ad0c886",
   "metadata": {},
   "outputs": [],
   "source": [
    "plt.figure()\n",
    "plt.matshow(fluor_img, cmap='gray')\n",
    "plt.show()"
   ]
  },
  {
   "cell_type": "code",
   "execution_count": 100,
   "id": "dd4e52fb-9883-4a79-bd98-ad657087917c",
   "metadata": {},
   "outputs": [
    {
     "data": {
      "text/plain": [
       "<matplotlib.image.AxesImage at 0x79d7ee06f810>"
      ]
     },
     "execution_count": 100,
     "metadata": {},
     "output_type": "execute_result"
    }
   ],
   "source": [
    "plt.matshow(phase_img, cmap='gray')"
   ]
  },
  {
   "cell_type": "code",
   "execution_count": 102,
   "id": "5b3b7f3c-275a-47a3-9a1a-25e21014cdda",
   "metadata": {},
   "outputs": [
    {
     "data": {
      "text/plain": [
       "<matplotlib.image.AxesImage at 0x79d7ecfe4650>"
      ]
     },
     "execution_count": 102,
     "metadata": {},
     "output_type": "execute_result"
    }
   ],
   "source": [
    "plt.matshow(fluor_img.T, cmap='gray')"
   ]
  },
  {
   "cell_type": "code",
   "execution_count": 98,
   "id": "3a8581d5-80c6-4985-bd96-ab88cfed7f2b",
   "metadata": {},
   "outputs": [],
   "source": [
    "plt.figure()\n",
    "plt.imshow(fluor_img.T, cmap='gray')\n",
    "plt.show()"
   ]
  },
  {
   "cell_type": "code",
   "execution_count": 85,
   "id": "79cfb8d7-84d4-4f50-b77e-7915ed92730f",
   "metadata": {},
   "outputs": [
    {
     "data": {
      "text/plain": [
       "3015.8693693693695"
      ]
     },
     "execution_count": 85,
     "metadata": {},
     "output_type": "execute_result"
    }
   ],
   "source": [
    "dot_coords_np[:, 0].max()"
   ]
  },
  {
   "cell_type": "code",
   "execution_count": 90,
   "id": "6b1648b3-1c5d-4196-b8d1-63954234649c",
   "metadata": {},
   "outputs": [],
   "source": [
    "dots_on_raw_img = np.zeros_like(dot_coords_np)"
   ]
  },
  {
   "cell_type": "code",
   "execution_count": 65,
   "id": "e9cef9e1-bbeb-4221-a6c4-3a5dbbd83176",
   "metadata": {},
   "outputs": [
    {
     "data": {
      "text/plain": [
       "(1500, 3036)"
      ]
     },
     "execution_count": 65,
     "metadata": {},
     "output_type": "execute_result"
    }
   ],
   "source": [
    "raw_shape"
   ]
  },
  {
   "cell_type": "code",
   "execution_count": 111,
   "id": "57055900-c154-4448-9715-bcea732024f0",
   "metadata": {},
   "outputs": [],
   "source": [
    "dots_on_raw_img[:, 0] = dot_coords_np[:, 1]\n",
    "dots_on_raw_img[:, 1] = -dot_coords_np[:, 0] + raw_shape[1] - 1"
   ]
  },
  {
   "cell_type": "code",
   "execution_count": null,
   "id": "15cde0fd-10fa-4f4f-b962-dff16a3fff79",
   "metadata": {},
   "outputs": [],
   "source": []
  },
  {
   "cell_type": "code",
   "execution_count": 112,
   "id": "83d79730-533c-4749-805f-aa52d3390d38",
   "metadata": {},
   "outputs": [],
   "source": [
    "plot_dots(fluor_img, dots_on_raw_img)"
   ]
  },
  {
   "cell_type": "code",
   "execution_count": null,
   "id": "5e958757-9c0e-4fd9-aae1-486c63d689f1",
   "metadata": {},
   "outputs": [],
   "source": []
  },
  {
   "cell_type": "markdown",
   "id": "19da38c1-4c9e-4be5-8cab-c30cd6c9f9b7",
   "metadata": {},
   "source": [
    "#### Calculate backbones"
   ]
  },
  {
   "cell_type": "code",
   "execution_count": 40,
   "id": "b4d0692c-f471-44d7-aa37-6e4e3a20997b",
   "metadata": {},
   "outputs": [],
   "source": [
    "cell_mask_label = label(cell_mask_rot)"
   ]
  },
  {
   "cell_type": "code",
   "execution_count": 41,
   "id": "0a7cf860-7a93-49e0-851d-dc603dc35324",
   "metadata": {},
   "outputs": [],
   "source": [
    "plt.figure()\n",
    "plt.imshow(cell_mask_label)\n",
    "plt.show()"
   ]
  },
  {
   "cell_type": "code",
   "execution_count": 42,
   "id": "c704dfc6-a1c0-4242-907d-92862a9013fe",
   "metadata": {},
   "outputs": [],
   "source": [
    "def plot_dots_on_mask(mask, dots):\n",
    "    plt.figure()\n",
    "    plt.imshow(mask)\n",
    "    plt.plot(dots[:, 1], dots[:, 0], 'ro')\n",
    "    plt.show()"
   ]
  },
  {
   "cell_type": "code",
   "execution_count": 43,
   "id": "267bc683-bbf2-4e44-ad80-564cef632a39",
   "metadata": {},
   "outputs": [],
   "source": [
    "plot_dots_on_mask(cell_mask_label, dot_coords_np)"
   ]
  },
  {
   "cell_type": "code",
   "execution_count": 44,
   "id": "5cdb5586-308a-4270-a8f6-9052a0053cea",
   "metadata": {},
   "outputs": [],
   "source": [
    "from rtseg.cells.utils import regionprops_custom"
   ]
  },
  {
   "cell_type": "code",
   "execution_count": 45,
   "id": "7db9a3c0-ed62-4510-b8ef-cd0ee44b2a40",
   "metadata": {},
   "outputs": [],
   "source": [
    "props = regionprops_custom(cell_mask_label)"
   ]
  },
  {
   "cell_type": "code",
   "execution_count": 46,
   "id": "06d1ba1a-73df-4081-913b-a4b321ae6d49",
   "metadata": {},
   "outputs": [
    {
     "data": {
      "text/plain": [
       "427"
      ]
     },
     "execution_count": 46,
     "metadata": {},
     "output_type": "execute_result"
    }
   ],
   "source": [
    "len(props)"
   ]
  },
  {
   "cell_type": "code",
   "execution_count": 47,
   "id": "eee57900-8747-4faa-80f6-5f08eee9a7bc",
   "metadata": {},
   "outputs": [
    {
     "data": {
      "text/plain": [
       "(730, 2)"
      ]
     },
     "execution_count": 47,
     "metadata": {},
     "output_type": "execute_result"
    }
   ],
   "source": [
    "dot_coords_np.shape"
   ]
  },
  {
   "cell_type": "code",
   "execution_count": null,
   "id": "d2a73b72-a081-490c-8ccd-116a7e9ea599",
   "metadata": {},
   "outputs": [],
   "source": []
  },
  {
   "cell_type": "code",
   "execution_count": 48,
   "id": "15cbc032-3de2-49e7-aba6-e578039d8d89",
   "metadata": {},
   "outputs": [
    {
     "data": {
      "text/plain": [
       "(array([46.02826353]),\n",
       " array([[-0.5       ,  7.24097261],\n",
       "        [45.5       ,  5.73080659]]),\n",
       " array([-4.63617945e-04, -1.19668886e-02,  7.23510507e+00]))"
      ]
     },
     "execution_count": 48,
     "metadata": {},
     "output_type": "execute_result"
    }
   ],
   "source": [
    "props[2].arc_length, props[2].poles, props[2].fit_coeff"
   ]
  },
  {
   "cell_type": "code",
   "execution_count": 49,
   "id": "c4000ef1-bb82-4198-a9a6-b4f618f48c18",
   "metadata": {},
   "outputs": [],
   "source": [
    "dot_coords_int = dot_coords_np.astype('int')"
   ]
  },
  {
   "cell_type": "code",
   "execution_count": 50,
   "id": "00d2fa52-59e3-4d1a-afd0-536999212d77",
   "metadata": {},
   "outputs": [],
   "source": [
    "x, y = dot_coords_int[:, 0], dot_coords_int[:, 1]"
   ]
  },
  {
   "cell_type": "code",
   "execution_count": 51,
   "id": "2f2d5d2f-17d4-404c-af71-7c14759a9fbc",
   "metadata": {},
   "outputs": [
    {
     "data": {
      "text/plain": [
       "array([  0,   0,   2,   1,   0,   1,   4,   0,   6,   0,   1,   1,   7,\n",
       "         2,   5,   7,   8,   8,   9,   0,   9,  10,  10,  11,   9,  11,\n",
       "        13,  11,  12,  13,   0,   0,  18,  17,   0,  21,  22,  20,  22,\n",
       "        25,  20,  21,  23,  26,   0,  23,  24,  24,  26,  29,  28,  30,\n",
       "        30,   0,  29,  30,   0,   0,  34,  33,  33,   0,  31,   0,  32,\n",
       "         0,  35,  37,  37,  38,   0,  41,  42,  42,  43,  42,  42,  42,\n",
       "         0,  45,   0,   0,  46,   0,  48,  47,  47,  49,  46,  50,  50,\n",
       "        48,  49,  51,  56,  55,  53,  55,  56,  58,  58,  53,  55,  58,\n",
       "         0,  58,  61,  60,  63,  64,  61,  62,  62,  65,  63,  67,  64,\n",
       "        67,  70,  68,  69,  70,  72,  71,  71,  75,  75,  76,  77,  78,\n",
       "        77,  82,  78,  82,  81,  78,  81,  82,  81,  83,  82,  83,   0,\n",
       "        87,  88,   0,   0,  86,  89,  88,  89,  87,  90,  95,  93,  96,\n",
       "        95,  93,  97,   0,  97,  96,  97,  97,  98,  97,  97,  98,  98,\n",
       "       102,   0, 103, 103, 104, 106, 105, 104, 108, 107, 107, 109, 105,\n",
       "       113, 110, 111, 109, 110, 112, 113, 111, 113, 112, 113, 113,   0,\n",
       "       118,   0,   0, 118,   0, 118, 120, 121, 122, 124, 123, 125, 123,\n",
       "       124, 123, 125, 127, 126, 127, 125, 125, 127, 127, 128, 127, 127,\n",
       "       127, 134, 133, 135, 137, 139, 140, 136, 138, 141, 140, 138, 139,\n",
       "       138, 144, 145, 146,   0, 144, 145, 148, 146, 149, 150, 152, 148,\n",
       "       150, 152,   0, 147,   0, 147, 148, 152, 153, 152, 155, 153, 153,\n",
       "       155, 153, 155, 155, 155,   0, 157, 157, 157, 159, 157, 159, 157,\n",
       "       157, 158,   0, 159, 158, 161, 162, 161, 163, 165, 166, 166, 168,\n",
       "       165, 169, 167, 166, 167, 168, 169,   0, 178, 176, 178, 177,   0,\n",
       "       180, 180, 180, 181, 184, 182, 182, 183, 183,   0, 188, 191, 190,\n",
       "       193,   0, 192, 191, 195, 194, 199, 197, 196, 196, 198, 198, 200,\n",
       "       199, 199, 199, 199, 200,   0,   0,   0, 205, 207, 206, 206, 208,\n",
       "         0, 211, 209, 211, 210,   0, 213, 209, 213, 213, 215, 211, 211,\n",
       "       215, 211, 218,   0, 216, 215, 218, 215, 217, 217, 220, 220,   0,\n",
       "         0,   0,   0,   0,   0, 221, 222, 224, 223, 225, 221,   0, 224,\n",
       "       223, 226, 227,   0, 225, 227, 231, 226, 229, 230, 229, 231, 230,\n",
       "       230,   0, 238, 231, 240, 231, 239,   0,   0, 242,   0, 243, 244,\n",
       "         0, 243, 244, 248, 245, 247, 247, 245,   0, 246, 248, 248, 248,\n",
       "       247,   0, 248, 248, 248, 248, 248, 248, 248, 248,   0,   0,   0,\n",
       "         0, 250, 251, 250, 255, 251, 253, 255, 256, 254, 253, 253, 255,\n",
       "       255, 256, 258, 256, 256, 256, 258, 259, 258, 260, 259, 256, 256,\n",
       "       260, 266, 266, 268, 268, 267, 271, 272, 273, 271, 270, 268, 273,\n",
       "       269, 270, 276, 275, 272, 275, 274, 277, 276, 278, 279, 277,   0,\n",
       "       285, 286, 285, 288, 286, 289, 288, 287, 294,   0, 290,   0,   0,\n",
       "       291,   0, 291, 296,   0, 296, 292,   0, 293, 297, 296, 297, 297,\n",
       "       294, 297, 297,   0, 297, 297,   0, 300, 300, 301, 301, 302, 302,\n",
       "       303, 303,   0, 304, 304, 301, 305, 306, 303, 306, 308, 312, 307,\n",
       "       310, 311, 307, 311, 314, 310, 314, 313,   0,   0,   0, 316, 317,\n",
       "         0, 319, 318, 318, 317, 318, 321,   0,   0,   0, 322, 320, 321,\n",
       "       320, 322, 323, 324, 325, 325, 325, 322, 323, 326,   0,   0,   0,\n",
       "       326, 325,   0, 331,   0, 332, 333, 334, 335, 334, 339, 333, 336,\n",
       "       337, 341, 336, 340, 339, 342, 346, 348, 346, 347,   0, 355, 355,\n",
       "       357, 356, 358, 356, 357,   0, 354, 359, 358, 358, 358, 360, 360,\n",
       "       360, 361, 362,   0, 360, 361, 360, 363, 360, 362, 363, 363, 363,\n",
       "       365,   0,   0,   0, 371, 371, 373, 371, 373, 376, 377, 377,   0,\n",
       "       376, 374, 375, 382, 377, 378,   0, 381, 383, 383, 380, 385, 384,\n",
       "       383, 382, 385, 388, 389, 390, 389, 390, 391, 392, 396, 392, 393,\n",
       "       391, 395, 393, 397, 397, 394, 395, 397, 404, 404, 405, 404, 405,\n",
       "         0, 406, 408,   0, 405, 409, 408, 408, 409, 409, 411,   0, 410,\n",
       "       412, 412, 412, 411,   0,   0,   0,   0, 413,   0, 414,   0, 417,\n",
       "       414, 419,   0, 415,   0,   0,   0, 417, 418, 418, 419, 420, 420,\n",
       "         0, 420, 421, 420, 421, 420, 423,   0, 422, 423,   0, 422, 423,\n",
       "       423,   0], dtype=int32)"
      ]
     },
     "execution_count": 51,
     "metadata": {},
     "output_type": "execute_result"
    }
   ],
   "source": [
    "cell_mask_label[x, y]"
   ]
  },
  {
   "cell_type": "code",
   "execution_count": 52,
   "id": "05cc1091-c527-4eb1-af40-52409f37776f",
   "metadata": {},
   "outputs": [],
   "source": [
    "dot_labels = cell_mask_label[x, y]"
   ]
  },
  {
   "cell_type": "code",
   "execution_count": 53,
   "id": "0a5146a2-16ff-42cb-b1f7-8c5ff6a221d3",
   "metadata": {},
   "outputs": [
    {
     "data": {
      "text/plain": [
       "(730, 730, 730)"
      ]
     },
     "execution_count": 53,
     "metadata": {},
     "output_type": "execute_result"
    }
   ],
   "source": [
    "len(x), len(y), len(dot_labels)"
   ]
  },
  {
   "cell_type": "code",
   "execution_count": 54,
   "id": "6218c73c-092e-4e4f-86d5-4f9e1a19209e",
   "metadata": {},
   "outputs": [],
   "source": [
    "# each index will give the dot coordinate of from the dot_coords_np array\n",
    "dots_inside_cells_idx = np.nonzero(dot_labels)[0]"
   ]
  },
  {
   "cell_type": "code",
   "execution_count": 55,
   "id": "208f79b9-aec7-48f8-9d19-14182f11a46c",
   "metadata": {},
   "outputs": [],
   "source": [
    "# each element is the label number of the cell in this array\n",
    "cell_labels_for_dots = dot_labels[dots_inside_cells_idx]"
   ]
  },
  {
   "cell_type": "code",
   "execution_count": 56,
   "id": "025b4006-5eb0-46a7-83b9-807b75bbb23d",
   "metadata": {},
   "outputs": [
    {
     "ename": "NameError",
     "evalue": "name 'i' is not defined",
     "output_type": "error",
     "traceback": [
      "\u001b[0;31m---------------------------------------------------------------------------\u001b[0m",
      "\u001b[0;31mNameError\u001b[0m                                 Traceback (most recent call last)",
      "Cell \u001b[0;32mIn[56], line 2\u001b[0m\n\u001b[1;32m      1\u001b[0m plt\u001b[38;5;241m.\u001b[39mfigure()\n\u001b[0;32m----> 2\u001b[0m plt\u001b[38;5;241m.\u001b[39mimshow(cell_mask_label \u001b[38;5;241m==\u001b[39m cell_labels_for_dots[\u001b[43mi\u001b[49m])\n\u001b[1;32m      3\u001b[0m plt\u001b[38;5;241m.\u001b[39mplot(dot_y, dot_x, \u001b[38;5;124m'\u001b[39m\u001b[38;5;124mro\u001b[39m\u001b[38;5;124m'\u001b[39m)\n\u001b[1;32m      4\u001b[0m plt\u001b[38;5;241m.\u001b[39mshow()\n",
      "\u001b[0;31mNameError\u001b[0m: name 'i' is not defined"
     ]
    }
   ],
   "source": [
    "plt.figure()\n",
    "plt.imshow(cell_mask_label == cell_labels_for_dots[i])\n",
    "plt.plot(dot_y, dot_x, 'ro')\n",
    "plt.show()"
   ]
  },
  {
   "cell_type": "code",
   "execution_count": 57,
   "id": "88e32744-57e8-487b-8eac-987876431efc",
   "metadata": {},
   "outputs": [
    {
     "data": {
      "text/plain": [
       "618"
      ]
     },
     "execution_count": 57,
     "metadata": {},
     "output_type": "execute_result"
    }
   ],
   "source": [
    "len(cell_labels_for_dots)"
   ]
  },
  {
   "cell_type": "code",
   "execution_count": 59,
   "id": "78f1959e-846c-4c81-b502-87639917a409",
   "metadata": {},
   "outputs": [],
   "source": [
    "\n",
    "for i in range(len(cell_labels_for_dots)):\n",
    "    cell_label = cell_labels_for_dots[i]\n",
    "    dot_x, dot_y = dot_coords_np[dots_inside_cells_idx[i]]\n",
    "    cell_prop = props[cell_label-1]\n",
    "    fit_coeff = cell_prop.fit_coeff\n",
    "    poles = cell_prop.poles\n",
    "    img = cell_prop.image\n",
    "    img_size = img.shape\n",
    "    x_data = np.arange(-0.5, img_size[1]+0.5)\n",
    "    y_data = fit_coeff[0] * x_data**2 + fit_coeff[1] * x_data + fit_coeff[2]\n",
    "    local_x, local_y = dot_x - cell_prop.bbox[0], dot_y - cell_prop.bbox[1]\n",
    "    \n",
    "    \n",
    "    projected_point, _ = compute_projected_points(fit_coeff, np.array([[local_y, local_x]]))\n",
    "    #distance_to_pole = np.sqrt((projected_point[0, 0] - poles[0, 1])**2 + (projected_point[0, 1] - poles[0, 0])**2)\n",
    "    distance_to_pole_along_arc = compute_arc_length(fit_coeff, poles[0, 0], projected_point[0,0])"
   ]
  },
  {
   "cell_type": "code",
   "execution_count": 60,
   "id": "ade952d1-bdb9-43be-88f5-112be9caf04f",
   "metadata": {},
   "outputs": [],
   "source": [
    "plt.figure()\n",
    "plt.imshow(img)\n",
    "plt.plot(x_data, y_data, 'r--')\n",
    "plt.plot(poles[:, 0], poles[:, 1], '*')\n",
    "plt.plot(local_y, local_x, 'go')\n",
    "plt.plot(projected_point[0, 0], projected_point[0, 1], 'b*')\n",
    "plt.title(f\"Distance to pole: {distance_to_pole_along_arc[0]}, arc_length: {cell_prop.arc_length[0]}\")\n",
    "plt.show()"
   ]
  },
  {
   "cell_type": "code",
   "execution_count": null,
   "id": "cf90ed1c-627e-4d97-b720-649de286f3fa",
   "metadata": {},
   "outputs": [],
   "source": []
  },
  {
   "cell_type": "code",
   "execution_count": 121,
   "id": "4e1b972c-df27-4827-8dc3-315c0c403800",
   "metadata": {},
   "outputs": [
    {
     "data": {
      "text/plain": [
       "array([[35.32503436,  4.16863798]])"
      ]
     },
     "execution_count": 121,
     "metadata": {},
     "output_type": "execute_result"
    }
   ],
   "source": [
    "projected_point"
   ]
  },
  {
   "cell_type": "code",
   "execution_count": null,
   "id": "cabbc205-e712-497d-b706-47b1fbcae61f",
   "metadata": {},
   "outputs": [],
   "source": []
  },
  {
   "cell_type": "code",
   "execution_count": 106,
   "id": "88f6e813-f505-457c-978d-9d37ad204dc6",
   "metadata": {},
   "outputs": [],
   "source": [
    "projected_point, _ = compute_projected_points(fit_coeff, np.array([[local_y, local_x]]))\n"
   ]
  },
  {
   "cell_type": "code",
   "execution_count": 107,
   "id": "10a0c3da-0be1-4c8f-afbe-b5692a021d45",
   "metadata": {},
   "outputs": [
    {
     "data": {
      "text/plain": [
       "array([[12.25525112,  4.09683844]])"
      ]
     },
     "execution_count": 107,
     "metadata": {},
     "output_type": "execute_result"
    }
   ],
   "source": [
    "projected_point"
   ]
  },
  {
   "cell_type": "code",
   "execution_count": 91,
   "id": "f632ae4d-5139-466c-992e-32cd02270564",
   "metadata": {},
   "outputs": [
    {
     "data": {
      "text/plain": [
       "3.1760833790455294"
      ]
     },
     "execution_count": 91,
     "metadata": {},
     "output_type": "execute_result"
    }
   ],
   "source": [
    "internal_x"
   ]
  },
  {
   "cell_type": "code",
   "execution_count": 89,
   "id": "db0978be-8db6-4af2-9d41-460356568055",
   "metadata": {},
   "outputs": [
    {
     "data": {
      "text/plain": [
       "array([-0.5      ,  2.5322699])"
      ]
     },
     "execution_count": 89,
     "metadata": {},
     "output_type": "execute_result"
    }
   ],
   "source": [
    "poles[0]"
   ]
  },
  {
   "cell_type": "code",
   "execution_count": 86,
   "id": "fc1021bb-c086-45fc-a6f8-37122afbb356",
   "metadata": {},
   "outputs": [
    {
     "data": {
      "text/plain": [
       "(3.1760833790455294, 8.991771804717473)"
      ]
     },
     "execution_count": 86,
     "metadata": {},
     "output_type": "execute_result"
    }
   ],
   "source": [
    "internal_x, internal_y"
   ]
  },
  {
   "cell_type": "code",
   "execution_count": 75,
   "id": "514ce5f5-d615-4885-b92c-e83b5f10e5b7",
   "metadata": {},
   "outputs": [
    {
     "data": {
      "text/plain": [
       "(45.17608337904553, 491.9917718047175)"
      ]
     },
     "execution_count": 75,
     "metadata": {},
     "output_type": "execute_result"
    }
   ],
   "source": [
    "dot_x, dot_y"
   ]
  },
  {
   "cell_type": "code",
   "execution_count": 80,
   "id": "896c1bd8-9358-45f7-b5e4-2c9a68187747",
   "metadata": {},
   "outputs": [],
   "source": [
    "plt.figure()\n",
    "plt.imshow(cell_mask_label == cell_label)\n",
    "plt.plot(dot_y, dot_x, 'ro')\n",
    "plt.show()"
   ]
  },
  {
   "cell_type": "code",
   "execution_count": 82,
   "id": "cef995ef-6f07-4cb1-86a9-0e8958c4cf4d",
   "metadata": {},
   "outputs": [
    {
     "data": {
      "text/plain": [
       "(42, 483, 51, 528)"
      ]
     },
     "execution_count": 82,
     "metadata": {},
     "output_type": "execute_result"
    }
   ],
   "source": [
    "cell_prop.bbox"
   ]
  },
  {
   "cell_type": "code",
   "execution_count": null,
   "id": "3ac634ac-274a-4455-92de-d1c412b0e525",
   "metadata": {},
   "outputs": [],
   "source": []
  },
  {
   "cell_type": "code",
   "execution_count": 59,
   "id": "4ab2f6c8-fce7-4ec1-bd20-a9c7bfaeaab9",
   "metadata": {},
   "outputs": [],
   "source": [
    "plt.figure()\n",
    "plt.imshow(cell_mask_label == 31)\n",
    "plt.plot(dot_coords_np[43][1], dot_coords_np[43][0], 'ro')\n",
    "plt.show()"
   ]
  },
  {
   "cell_type": "code",
   "execution_count": 60,
   "id": "1bcbe6e1-df7c-48d9-b517-33b9ac3c4234",
   "metadata": {},
   "outputs": [],
   "source": []
  },
  {
   "cell_type": "code",
   "execution_count": 61,
   "id": "d66d5667-edf3-4ef1-a81a-0349a94ecce6",
   "metadata": {},
   "outputs": [
    {
     "data": {
      "text/plain": [
       "array([25.06184152])"
      ]
     },
     "execution_count": 61,
     "metadata": {},
     "output_type": "execute_result"
    }
   ],
   "source": [
    "props[30].arc_length"
   ]
  },
  {
   "cell_type": "code",
   "execution_count": 62,
   "id": "9cf0c05e-a4dd-4399-87c8-ddce56ec7a67",
   "metadata": {},
   "outputs": [
    {
     "data": {
      "text/plain": [
       "array([[-0.5       ,  5.28563777],\n",
       "       [24.5       ,  3.6100112 ]])"
      ]
     },
     "execution_count": 62,
     "metadata": {},
     "output_type": "execute_result"
    }
   ],
   "source": [
    "props[30].poles"
   ]
  },
  {
   "cell_type": "code",
   "execution_count": 64,
   "id": "28b5f409-c471-4efc-b0f6-638c1a25267b",
   "metadata": {},
   "outputs": [
    {
     "data": {
      "text/plain": [
       "26.441570332452198"
      ]
     },
     "execution_count": 64,
     "metadata": {},
     "output_type": "execute_result"
    }
   ],
   "source": [
    "props[30].axis_major_length"
   ]
  },
  {
   "cell_type": "code",
   "execution_count": 65,
   "id": "a1a96a8c-dd71-4fae-acb3-0bef659158fc",
   "metadata": {},
   "outputs": [
    {
     "data": {
      "text/plain": [
       "array([[-0.5       ,  5.28563777],\n",
       "       [24.5       ,  3.6100112 ]])"
      ]
     },
     "execution_count": 65,
     "metadata": {},
     "output_type": "execute_result"
    }
   ],
   "source": [
    "props[30].poles"
   ]
  },
  {
   "cell_type": "code",
   "execution_count": null,
   "id": "2b0a283e-b6f7-4020-8202-ebff898a06f4",
   "metadata": {},
   "outputs": [],
   "source": []
  },
  {
   "cell_type": "code",
   "execution_count": null,
   "id": "fdabe676-22c7-408b-b670-e8760b2da0ab",
   "metadata": {},
   "outputs": [],
   "source": []
  },
  {
   "cell_type": "code",
   "execution_count": null,
   "id": "906dec96-4151-4871-967a-f23386d0cec4",
   "metadata": {},
   "outputs": [],
   "source": []
  },
  {
   "cell_type": "code",
   "execution_count": null,
   "id": "e1d9d061-b946-4a77-85f1-5d05c2c6b9f5",
   "metadata": {},
   "outputs": [],
   "source": []
  },
  {
   "cell_type": "code",
   "execution_count": null,
   "id": "7651b191-167d-4de0-abee-3017e95178ee",
   "metadata": {},
   "outputs": [],
   "source": []
  },
  {
   "cell_type": "code",
   "execution_count": null,
   "id": "2085b05e-9d4e-4d7f-9467-9c0078f818d3",
   "metadata": {},
   "outputs": [],
   "source": []
  },
  {
   "cell_type": "code",
   "execution_count": null,
   "id": "77b982ae-d6d5-4bf1-a80e-6e0297f32df3",
   "metadata": {},
   "outputs": [],
   "source": []
  },
  {
   "cell_type": "markdown",
   "id": "cc4a2c0e-dbc0-4a11-b7dc-99443a423070",
   "metadata": {},
   "source": [
    "#### Make forkplots"
   ]
  },
  {
   "cell_type": "code",
   "execution_count": null,
   "id": "daa6151f-86ea-4c3e-bd50-3449f8c2fb71",
   "metadata": {},
   "outputs": [],
   "source": []
  },
  {
   "cell_type": "code",
   "execution_count": null,
   "id": "239fdfb5-91ec-4603-92db-5a41ec879d33",
   "metadata": {},
   "outputs": [],
   "source": []
  },
  {
   "cell_type": "code",
   "execution_count": null,
   "id": "085a4236-12d1-48b6-8d8d-f75e95a9c855",
   "metadata": {},
   "outputs": [],
   "source": []
  },
  {
   "cell_type": "code",
   "execution_count": null,
   "id": "0560a51f-fc1d-498a-80db-8c8f63783f78",
   "metadata": {},
   "outputs": [],
   "source": []
  },
  {
   "cell_type": "code",
   "execution_count": null,
   "id": "1ce4e85a-3ed0-4cc4-80e6-b888ed876ec1",
   "metadata": {},
   "outputs": [],
   "source": []
  }
 ],
 "metadata": {
  "kernelspec": {
   "display_name": "Python 3 (ipykernel)",
   "language": "python",
   "name": "python3"
  },
  "language_info": {
   "codemirror_mode": {
    "name": "ipython",
    "version": 3
   },
   "file_extension": ".py",
   "mimetype": "text/x-python",
   "name": "python",
   "nbconvert_exporter": "python",
   "pygments_lexer": "ipython3",
   "version": "3.11.0rc1"
  }
 },
 "nbformat": 4,
 "nbformat_minor": 5
}
