{
 "cells": [
  {
   "cell_type": "code",
   "execution_count": 1,
   "id": "2bcef801-3f84-43ad-bdaa-9edddae462a2",
   "metadata": {},
   "outputs": [],
   "source": [
    "%reload_ext autoreload\n",
    "%autoreload 2"
   ]
  },
  {
   "cell_type": "code",
   "execution_count": 2,
   "id": "4adb52ad-14a4-4f11-97de-dd3bf60353f6",
   "metadata": {},
   "outputs": [],
   "source": [
    "import numpy as np\n",
    "import matplotlib.pyplot as plt\n",
    "from skimage.io import imread\n",
    "from rtseg.oldseg.transforms import UnetTestTransforms\n",
    "from rtseg.oldseg.networks import model_dict as seg_model_dict\n",
    "from rtseg.utils.param_io import load_params\n",
    "from rtseg.cells.utils import compute_projected_points, compute_arc_length\n",
    "from pathlib import Path\n",
    "import torch\n",
    "%matplotlib qt5"
   ]
  },
  {
   "cell_type": "code",
   "execution_count": 3,
   "id": "478f7120-4540-4c2c-8816-fc2ffd8bff4e",
   "metadata": {},
   "outputs": [],
   "source": [
    "phase_path = Path('/home/pk/Documents/rtclient/rtclient/resources/test_images/phase_dummy.tiff')\n",
    "fluor_path = Path('/home/pk/Documents/rtclient/rtclient/resources/test_images/fluor_dummy.tiff')"
   ]
  },
  {
   "cell_type": "code",
   "execution_count": 4,
   "id": "99d80eaf-cd59-4299-8f25-d24c4a417422",
   "metadata": {},
   "outputs": [],
   "source": [
    "phase_img = imread(phase_path)\n",
    "fluor_img = imread(fluor_path)"
   ]
  },
  {
   "cell_type": "code",
   "execution_count": 5,
   "id": "29bb480b-48a9-4a9e-9d48-bcecbe3e58d9",
   "metadata": {},
   "outputs": [],
   "source": [
    "fig, ax = plt.subplots(nrows=1, ncols=2)\n",
    "ax[0].imshow(phase_img, cmap='gray')\n",
    "ax[1].imshow(fluor_img, cmap='gray', vmin=0, vmax=500)\n",
    "plt.show()"
   ]
  },
  {
   "cell_type": "markdown",
   "id": "5fc3d0d1-24e1-4d75-962d-40e923c35f75",
   "metadata": {},
   "source": [
    "#### Segment phase"
   ]
  },
  {
   "cell_type": "code",
   "execution_count": 6,
   "id": "064347b8-2c04-4cf0-ba2e-daa8ac938640",
   "metadata": {},
   "outputs": [],
   "source": [
    "params_path = Path(\"/home/pk/Documents/rtseg/rtseg/resources/reference_params/reference_linux.yaml\")\n",
    "params = load_params(params_path, ref_type='expt')"
   ]
  },
  {
   "cell_type": "code",
   "execution_count": 7,
   "id": "e4e394ec-246b-4425-a2ea-6a4f314d9a68",
   "metadata": {},
   "outputs": [],
   "source": [
    "segment_params = params.Segmentation"
   ]
  },
  {
   "cell_type": "code",
   "execution_count": 8,
   "id": "4aac22db-8000-4a12-97fb-99db5ec8045a",
   "metadata": {},
   "outputs": [
    {
     "data": {
      "text/plain": [
       "Unet(\n",
       "  (down_layers): Sequential(\n",
       "    (0): ConvBlock(\n",
       "      (block): Sequential(\n",
       "        (0): Conv2d(1, 32, kernel_size=(3, 3), stride=(1, 1), padding=(1, 1))\n",
       "        (1): BatchNorm2d(32, eps=1e-05, momentum=0.1, affine=True, track_running_stats=True)\n",
       "        (2): ReLU(inplace=True)\n",
       "        (3): Conv2d(32, 32, kernel_size=(3, 3), stride=(1, 1), padding=(1, 1))\n",
       "        (4): BatchNorm2d(32, eps=1e-05, momentum=0.1, affine=True, track_running_stats=True)\n",
       "        (5): ReLU(inplace=True)\n",
       "      )\n",
       "    )\n",
       "    (1): MaxPool2d(kernel_size=2, stride=2, padding=0, dilation=1, ceil_mode=False)\n",
       "    (2): ConvBlock(\n",
       "      (block): Sequential(\n",
       "        (0): Conv2d(32, 64, kernel_size=(3, 3), stride=(1, 1), padding=(1, 1))\n",
       "        (1): BatchNorm2d(64, eps=1e-05, momentum=0.1, affine=True, track_running_stats=True)\n",
       "        (2): ReLU(inplace=True)\n",
       "        (3): Conv2d(64, 64, kernel_size=(3, 3), stride=(1, 1), padding=(1, 1))\n",
       "        (4): BatchNorm2d(64, eps=1e-05, momentum=0.1, affine=True, track_running_stats=True)\n",
       "        (5): ReLU(inplace=True)\n",
       "      )\n",
       "    )\n",
       "    (3): MaxPool2d(kernel_size=2, stride=2, padding=0, dilation=1, ceil_mode=False)\n",
       "    (4): ConvBlock(\n",
       "      (block): Sequential(\n",
       "        (0): Conv2d(64, 128, kernel_size=(3, 3), stride=(1, 1), padding=(1, 1))\n",
       "        (1): BatchNorm2d(128, eps=1e-05, momentum=0.1, affine=True, track_running_stats=True)\n",
       "        (2): ReLU(inplace=True)\n",
       "        (3): Conv2d(128, 128, kernel_size=(3, 3), stride=(1, 1), padding=(1, 1))\n",
       "        (4): BatchNorm2d(128, eps=1e-05, momentum=0.1, affine=True, track_running_stats=True)\n",
       "        (5): ReLU(inplace=True)\n",
       "      )\n",
       "    )\n",
       "    (5): MaxPool2d(kernel_size=2, stride=2, padding=0, dilation=1, ceil_mode=False)\n",
       "    (6): ConvBlock(\n",
       "      (block): Sequential(\n",
       "        (0): Conv2d(128, 256, kernel_size=(3, 3), stride=(1, 1), padding=(1, 1))\n",
       "        (1): BatchNorm2d(256, eps=1e-05, momentum=0.1, affine=True, track_running_stats=True)\n",
       "        (2): ReLU(inplace=True)\n",
       "        (3): Conv2d(256, 256, kernel_size=(3, 3), stride=(1, 1), padding=(1, 1))\n",
       "        (4): BatchNorm2d(256, eps=1e-05, momentum=0.1, affine=True, track_running_stats=True)\n",
       "        (5): ReLU(inplace=True)\n",
       "      )\n",
       "    )\n",
       "  )\n",
       "  (up_layers): Sequential(\n",
       "    (0): UpsampleBlock(\n",
       "      (upsample_block): ConvTranspose2d(256, 256, kernel_size=(2, 2), stride=(2, 2))\n",
       "      (conv_block): ConvBlock(\n",
       "        (block): Sequential(\n",
       "          (0): Conv2d(384, 128, kernel_size=(3, 3), stride=(1, 1), padding=(1, 1))\n",
       "          (1): BatchNorm2d(128, eps=1e-05, momentum=0.1, affine=True, track_running_stats=True)\n",
       "          (2): ReLU(inplace=True)\n",
       "          (3): Conv2d(128, 128, kernel_size=(3, 3), stride=(1, 1), padding=(1, 1))\n",
       "          (4): BatchNorm2d(128, eps=1e-05, momentum=0.1, affine=True, track_running_stats=True)\n",
       "          (5): ReLU(inplace=True)\n",
       "        )\n",
       "      )\n",
       "    )\n",
       "    (1): UpsampleBlock(\n",
       "      (upsample_block): ConvTranspose2d(128, 128, kernel_size=(2, 2), stride=(2, 2))\n",
       "      (conv_block): ConvBlock(\n",
       "        (block): Sequential(\n",
       "          (0): Conv2d(192, 64, kernel_size=(3, 3), stride=(1, 1), padding=(1, 1))\n",
       "          (1): BatchNorm2d(64, eps=1e-05, momentum=0.1, affine=True, track_running_stats=True)\n",
       "          (2): ReLU(inplace=True)\n",
       "          (3): Conv2d(64, 64, kernel_size=(3, 3), stride=(1, 1), padding=(1, 1))\n",
       "          (4): BatchNorm2d(64, eps=1e-05, momentum=0.1, affine=True, track_running_stats=True)\n",
       "          (5): ReLU(inplace=True)\n",
       "        )\n",
       "      )\n",
       "    )\n",
       "    (2): UpsampleBlock(\n",
       "      (upsample_block): ConvTranspose2d(64, 64, kernel_size=(2, 2), stride=(2, 2))\n",
       "      (conv_block): ConvBlock(\n",
       "        (block): Sequential(\n",
       "          (0): Conv2d(96, 32, kernel_size=(3, 3), stride=(1, 1), padding=(1, 1))\n",
       "          (1): BatchNorm2d(32, eps=1e-05, momentum=0.1, affine=True, track_running_stats=True)\n",
       "          (2): ReLU(inplace=True)\n",
       "          (3): Conv2d(32, 32, kernel_size=(3, 3), stride=(1, 1), padding=(1, 1))\n",
       "          (4): BatchNorm2d(32, eps=1e-05, momentum=0.1, affine=True, track_running_stats=True)\n",
       "          (5): ReLU(inplace=True)\n",
       "        )\n",
       "      )\n",
       "    )\n",
       "  )\n",
       "  (last_conv): Conv2d(32, 2, kernel_size=(1, 1), stride=(1, 1))\n",
       ")"
      ]
     },
     "execution_count": 8,
     "metadata": {},
     "output_type": "execute_result"
    }
   ],
   "source": [
    "model = seg_model_dict[segment_params.architecture]\n",
    "segment_model = model.parse(channels_by_scale=segment_params.model_params.channels_by_scale,\n",
    "                                 num_outputs=segment_params.model_params.num_outputs,\n",
    "                                 upsample_type=segment_params.model_params.upsample_type,\n",
    "                                 feature_fusion_type=segment_params.model_params.feature_fusion_type).to(device='cuda:0')\n",
    "segment_model_path = params.Segmentation.model_paths.both\n",
    "segment_model.load_state_dict(torch.load(segment_model_path, map_location='cuda:0'))\n",
    "segment_model.eval()"
   ]
  },
  {
   "cell_type": "code",
   "execution_count": 9,
   "id": "c7f5fc63-cc66-4bfa-b226-b2516578df36",
   "metadata": {},
   "outputs": [],
   "source": [
    "pre_segment_transforms = UnetTestTransforms()"
   ]
  },
  {
   "cell_type": "code",
   "execution_count": 10,
   "id": "19acede2-fe9a-4663-9d17-6b0a34c5eb56",
   "metadata": {},
   "outputs": [],
   "source": [
    "raw_shape = phase_img.shape"
   ]
  },
  {
   "cell_type": "code",
   "execution_count": 11,
   "id": "c43efb03-b824-4cdc-94cb-03425af71198",
   "metadata": {},
   "outputs": [],
   "source": [
    "seg_sample = pre_segment_transforms({'phase': phase_img.astype('float32'), 'raw_shape': raw_shape})"
   ]
  },
  {
   "cell_type": "code",
   "execution_count": 12,
   "id": "c55e89f7-c5ae-4fec-9671-35407e316dd4",
   "metadata": {},
   "outputs": [
    {
     "data": {
      "text/plain": [
       "{'phase': tensor([[[ 0.0775,  0.0847,  0.0867,  ..., -0.5000, -0.5000, -0.5000],\n",
       "          [ 0.0833,  0.0787,  0.0904,  ..., -0.5000, -0.5000, -0.5000],\n",
       "          [ 0.0816,  0.0884,  0.0862,  ..., -0.5000, -0.5000, -0.5000],\n",
       "          ...,\n",
       "          [-0.5000, -0.5000, -0.5000,  ..., -0.5000, -0.5000, -0.5000],\n",
       "          [-0.5000, -0.5000, -0.5000,  ..., -0.5000, -0.5000, -0.5000],\n",
       "          [-0.5000, -0.5000, -0.5000,  ..., -0.5000, -0.5000, -0.5000]]]),\n",
       " 'raw_shape': (1500, 3036)}"
      ]
     },
     "execution_count": 12,
     "metadata": {},
     "output_type": "execute_result"
    }
   ],
   "source": [
    "seg_sample"
   ]
  },
  {
   "cell_type": "code",
   "execution_count": 13,
   "id": "21581a99-99aa-4867-a106-35b26c241bd6",
   "metadata": {},
   "outputs": [],
   "source": [
    "with torch.inference_mode():\n",
    "    seg_pred = segment_model(seg_sample['phase'].unsqueeze(0).to('cuda:0')).sigmoid().cpu().numpy().squeeze(0)"
   ]
  },
  {
   "cell_type": "code",
   "execution_count": 14,
   "id": "2e482048-35bb-43b5-ac7e-8881d1d007f8",
   "metadata": {},
   "outputs": [
    {
     "data": {
      "text/plain": [
       "(2, 1504, 3040)"
      ]
     },
     "execution_count": 14,
     "metadata": {},
     "output_type": "execute_result"
    }
   ],
   "source": [
    "seg_pred.shape"
   ]
  },
  {
   "cell_type": "code",
   "execution_count": 15,
   "id": "848c599b-cbd0-4efe-ba03-3bb8d1d1c9b1",
   "metadata": {},
   "outputs": [],
   "source": [
    "cell_mask = seg_pred[0][:raw_shape[0], :raw_shape[1]] > 0.85"
   ]
  },
  {
   "cell_type": "code",
   "execution_count": 16,
   "id": "0784eaa8-e029-49eb-84c2-f1ffef582650",
   "metadata": {},
   "outputs": [],
   "source": [
    "channel_mask = seg_pred[1][:raw_shape[0], :raw_shape[1]] > 0.8"
   ]
  },
  {
   "cell_type": "code",
   "execution_count": 17,
   "id": "1b52508f-8111-4451-a29a-08676e5cdf36",
   "metadata": {},
   "outputs": [],
   "source": [
    "fig, ax = plt.subplots(nrows=1, ncols=2)\n",
    "ax[0].imshow(cell_mask)\n",
    "ax[1].imshow(channel_mask)\n",
    "plt.show()"
   ]
  },
  {
   "cell_type": "code",
   "execution_count": 18,
   "id": "efaacfe8-c922-4cdb-864f-6964e4892f04",
   "metadata": {},
   "outputs": [
    {
     "data": {
      "text/plain": [
       "((1500, 3036), (1500, 3036))"
      ]
     },
     "execution_count": 18,
     "metadata": {},
     "output_type": "execute_result"
    }
   ],
   "source": [
    "cell_mask.shape, fluor_img.shape"
   ]
  },
  {
   "cell_type": "code",
   "execution_count": null,
   "id": "361ac3d1-dbfc-4207-b979-14780a19514a",
   "metadata": {},
   "outputs": [],
   "source": []
  },
  {
   "cell_type": "markdown",
   "id": "f5ee0250-21d2-40a7-8ed8-a1fdb1c9be93",
   "metadata": {},
   "source": [
    "#### Detect dots"
   ]
  },
  {
   "cell_type": "code",
   "execution_count": 19,
   "id": "5f3de035-9f22-4100-ab39-2e07f6c9f318",
   "metadata": {},
   "outputs": [],
   "source": [
    "from rtseg.dotdetection.detect import compute_spot_binary_mask, compute_wavelet_planes\n",
    "from skimage.measure import label, regionprops"
   ]
  },
  {
   "cell_type": "code",
   "execution_count": 20,
   "id": "08233882-408e-48b6-9b6b-4c1de2a21909",
   "metadata": {},
   "outputs": [],
   "source": [
    "cell_mask_label = label(cell_mask)"
   ]
  },
  {
   "cell_type": "code",
   "execution_count": 21,
   "id": "544e3604-6449-42dd-95d1-b791ebb5110a",
   "metadata": {},
   "outputs": [],
   "source": [
    "cell_mask_rot = np.rot90(cell_mask_label).copy()\n",
    "fluor_img_rot = np.rot90(fluor_img).copy()"
   ]
  },
  {
   "cell_type": "code",
   "execution_count": 22,
   "id": "972c559a-db6a-49ac-9259-62527efc4460",
   "metadata": {},
   "outputs": [],
   "source": [
    "binary_spot_mask = compute_spot_binary_mask(fluor_img_rot, cell_mask_rot, noise_threshold=3.0, wavelet_plane_no=2, device='cuda:0')"
   ]
  },
  {
   "cell_type": "code",
   "execution_count": 23,
   "id": "dc81d781-8f32-4a19-b118-5ec840264468",
   "metadata": {},
   "outputs": [
    {
     "data": {
      "text/plain": [
       "(3036, 1500)"
      ]
     },
     "execution_count": 23,
     "metadata": {},
     "output_type": "execute_result"
    }
   ],
   "source": [
    "binary_spot_mask.shape"
   ]
  },
  {
   "cell_type": "code",
   "execution_count": 24,
   "id": "948ca69a-dc86-47ae-ba65-f3fe7a593bcd",
   "metadata": {},
   "outputs": [],
   "source": [
    "plt.figure()\n",
    "plt.imshow(binary_spot_mask)\n",
    "plt.show()"
   ]
  },
  {
   "cell_type": "code",
   "execution_count": null,
   "id": "09de64b7-9bc7-44b9-a5e2-9c11210a3690",
   "metadata": {},
   "outputs": [],
   "source": []
  },
  {
   "cell_type": "code",
   "execution_count": 25,
   "id": "ed69331f-4509-4787-ae06-6c26cb771eef",
   "metadata": {},
   "outputs": [],
   "source": [
    "spot_stats = regionprops(label(binary_spot_mask), fluor_img_rot)\n",
    "min_spot_area = 0.0 # 4 is default\n",
    "max_axes_ratio = 1.7"
   ]
  },
  {
   "cell_type": "code",
   "execution_count": 26,
   "id": "52260d1e-a61b-45f0-8d7d-2be5fe9eb2b2",
   "metadata": {},
   "outputs": [],
   "source": [
    "spot_filtered = [item for item in spot_stats if item.area > min_spot_area]\n",
    "\n",
    "spot_axes_ratio = np.array([spot.axis_major_length / spot.axis_minor_length for spot in spot_filtered])\n",
    "spot_areas = np.array([spot.area for spot in spot_filtered])\n",
    "# indices in spot filtered based on area\n",
    "dot_coords = [spot.centroid_weighted for spot in spot_filtered]"
   ]
  },
  {
   "cell_type": "code",
   "execution_count": 27,
   "id": "60289d3d-04b9-4fc0-b672-642a3d66c578",
   "metadata": {},
   "outputs": [],
   "source": [
    "len(dot_coords)\n",
    "dot_coords_np = np.array(dot_coords)"
   ]
  },
  {
   "cell_type": "code",
   "execution_count": 28,
   "id": "30e3dcb0-1545-43db-af71-912dfcbbeeea",
   "metadata": {},
   "outputs": [],
   "source": [
    "def plot_dots(fluor_image, dots):\n",
    "    plt.figure()\n",
    "    plt.imshow(fluor_image, cmap='gray')\n",
    "    plt.plot(dots[:, 1], dots[:, 0], 'ro')\n",
    "    plt.show()"
   ]
  },
  {
   "cell_type": "code",
   "execution_count": 29,
   "id": "53cf08e3-72eb-41d9-83c2-a2de1532ca7f",
   "metadata": {},
   "outputs": [],
   "source": [
    "plot_dots(fluor_img_rot, dot_coords_np)"
   ]
  },
  {
   "cell_type": "code",
   "execution_count": null,
   "id": "4fdc19c4-178f-4eb5-a84d-e6570fa5d71e",
   "metadata": {},
   "outputs": [],
   "source": []
  },
  {
   "cell_type": "code",
   "execution_count": 30,
   "id": "79cfb8d7-84d4-4f50-b77e-7915ed92730f",
   "metadata": {},
   "outputs": [
    {
     "data": {
      "text/plain": [
       "3015.8693693693695"
      ]
     },
     "execution_count": 30,
     "metadata": {},
     "output_type": "execute_result"
    }
   ],
   "source": [
    "dot_coords_np[:, 0].max()"
   ]
  },
  {
   "cell_type": "code",
   "execution_count": 31,
   "id": "6b1648b3-1c5d-4196-b8d1-63954234649c",
   "metadata": {},
   "outputs": [],
   "source": [
    "dots_on_raw_img = np.zeros_like(dot_coords_np)"
   ]
  },
  {
   "cell_type": "code",
   "execution_count": 32,
   "id": "e9cef9e1-bbeb-4221-a6c4-3a5dbbd83176",
   "metadata": {},
   "outputs": [
    {
     "data": {
      "text/plain": [
       "(1500, 3036)"
      ]
     },
     "execution_count": 32,
     "metadata": {},
     "output_type": "execute_result"
    }
   ],
   "source": [
    "raw_shape"
   ]
  },
  {
   "cell_type": "code",
   "execution_count": 33,
   "id": "57055900-c154-4448-9715-bcea732024f0",
   "metadata": {},
   "outputs": [],
   "source": [
    "dots_on_raw_img[:, 0] = dot_coords_np[:, 1]\n",
    "dots_on_raw_img[:, 1] = -dot_coords_np[:, 0] + raw_shape[1] - 1"
   ]
  },
  {
   "cell_type": "code",
   "execution_count": null,
   "id": "15cde0fd-10fa-4f4f-b962-dff16a3fff79",
   "metadata": {},
   "outputs": [],
   "source": []
  },
  {
   "cell_type": "code",
   "execution_count": 34,
   "id": "83d79730-533c-4749-805f-aa52d3390d38",
   "metadata": {},
   "outputs": [],
   "source": [
    "plot_dots(fluor_img, dots_on_raw_img)"
   ]
  },
  {
   "cell_type": "code",
   "execution_count": null,
   "id": "5e958757-9c0e-4fd9-aae1-486c63d689f1",
   "metadata": {},
   "outputs": [],
   "source": []
  },
  {
   "cell_type": "code",
   "execution_count": null,
   "id": "6218a8da-1317-40e0-899e-1ecdf47fe49f",
   "metadata": {},
   "outputs": [],
   "source": []
  },
  {
   "cell_type": "code",
   "execution_count": null,
   "id": "bb9f0e3d-b63e-478a-8cba-fc4710617a78",
   "metadata": {},
   "outputs": [],
   "source": []
  },
  {
   "cell_type": "markdown",
   "id": "19da38c1-4c9e-4be5-8cab-c30cd6c9f9b7",
   "metadata": {},
   "source": [
    "#### Calculate backbones"
   ]
  },
  {
   "cell_type": "code",
   "execution_count": 35,
   "id": "b4d0692c-f471-44d7-aa37-6e4e3a20997b",
   "metadata": {},
   "outputs": [],
   "source": [
    "#cell_mask_label = label(cell_mask_rot)\n",
    "cell_mask_label = np.rot90(cell_mask_label)"
   ]
  },
  {
   "cell_type": "code",
   "execution_count": 36,
   "id": "0a7cf860-7a93-49e0-851d-dc603dc35324",
   "metadata": {},
   "outputs": [],
   "source": [
    "plt.figure()\n",
    "plt.imshow(cell_mask_label)\n",
    "plt.show()"
   ]
  },
  {
   "cell_type": "code",
   "execution_count": 37,
   "id": "c704dfc6-a1c0-4242-907d-92862a9013fe",
   "metadata": {},
   "outputs": [],
   "source": [
    "def plot_dots_on_mask(mask, dots):\n",
    "    plt.figure()\n",
    "    plt.imshow(mask)\n",
    "    plt.plot(dots[:, 1], dots[:, 0], 'ro')\n",
    "    plt.show()"
   ]
  },
  {
   "cell_type": "code",
   "execution_count": 38,
   "id": "267bc683-bbf2-4e44-ad80-564cef632a39",
   "metadata": {},
   "outputs": [],
   "source": [
    "plot_dots_on_mask(cell_mask_label, dot_coords_np)"
   ]
  },
  {
   "cell_type": "code",
   "execution_count": 39,
   "id": "5cdb5586-308a-4270-a8f6-9052a0053cea",
   "metadata": {},
   "outputs": [],
   "source": [
    "from rtseg.cells.utils import regionprops_custom"
   ]
  },
  {
   "cell_type": "code",
   "execution_count": 40,
   "id": "7db9a3c0-ed62-4510-b8ef-cd0ee44b2a40",
   "metadata": {},
   "outputs": [],
   "source": [
    "props = regionprops_custom(cell_mask_label)"
   ]
  },
  {
   "cell_type": "code",
   "execution_count": 41,
   "id": "06d1ba1a-73df-4081-913b-a4b321ae6d49",
   "metadata": {},
   "outputs": [
    {
     "data": {
      "text/plain": [
       "427"
      ]
     },
     "execution_count": 41,
     "metadata": {},
     "output_type": "execute_result"
    }
   ],
   "source": [
    "len(props)"
   ]
  },
  {
   "cell_type": "code",
   "execution_count": 42,
   "id": "eee57900-8747-4faa-80f6-5f08eee9a7bc",
   "metadata": {},
   "outputs": [
    {
     "data": {
      "text/plain": [
       "(730, 2)"
      ]
     },
     "execution_count": 42,
     "metadata": {},
     "output_type": "execute_result"
    }
   ],
   "source": [
    "dot_coords_np.shape"
   ]
  },
  {
   "cell_type": "code",
   "execution_count": null,
   "id": "d2a73b72-a081-490c-8ccd-116a7e9ea599",
   "metadata": {},
   "outputs": [],
   "source": []
  },
  {
   "cell_type": "code",
   "execution_count": 44,
   "id": "c4000ef1-bb82-4198-a9a6-b4f618f48c18",
   "metadata": {},
   "outputs": [],
   "source": [
    "dot_coords_int = dot_coords_np.astype('int')"
   ]
  },
  {
   "cell_type": "code",
   "execution_count": 45,
   "id": "00d2fa52-59e3-4d1a-afd0-536999212d77",
   "metadata": {},
   "outputs": [],
   "source": [
    "x, y = dot_coords_int[:, 0], dot_coords_int[:, 1]"
   ]
  },
  {
   "cell_type": "code",
   "execution_count": 46,
   "id": "2f2d5d2f-17d4-404c-af71-7c14759a9fbc",
   "metadata": {},
   "outputs": [
    {
     "data": {
      "text/plain": [
       "array([  0,   0, 133, 102,   0, 102, 170,   0, 210,   0, 102, 102, 244,\n",
       "       133, 191, 244, 276, 276, 313,   0, 313, 345, 345, 369, 313, 369,\n",
       "       410, 369, 392, 410,   0,   0, 138, 121,   0, 203, 235, 179, 235,\n",
       "       317, 179, 203, 259, 342,   0, 259, 290, 290, 342, 387, 366, 404,\n",
       "       404,   0, 387, 404,   0,   0, 134, 158, 158,   0,  92,   0, 113,\n",
       "         0, 183, 231, 231, 262,   0, 310, 341, 341, 326, 341, 341, 341,\n",
       "         0, 417,   0,   0, 100,   0, 163, 131, 131, 195, 100, 224, 224,\n",
       "       163, 195, 249, 322, 299, 275, 299, 322, 365, 365, 275, 299, 365,\n",
       "         0, 365, 187, 169, 241, 271, 187, 212, 212, 308, 241, 343, 271,\n",
       "       343, 389, 361, 375, 389, 412, 402, 402, 117, 117, 161, 221, 265,\n",
       "       221, 349, 265, 349, 325, 265, 325, 349, 325, 376, 349, 376,   0,\n",
       "       111, 143,   0,   0,  83, 166, 143, 166, 111, 218, 285, 237, 304,\n",
       "       285, 237, 324,   0, 324, 304, 324, 324, 397, 324, 324, 397, 397,\n",
       "        88,   0, 106, 106, 142, 200, 171, 142, 247, 226, 226, 263, 171,\n",
       "       354, 289, 307, 263, 289, 327, 354, 307, 354, 327, 354, 354,   0,\n",
       "        95,   0,   0,  95,   0,  95, 162, 141, 184, 248, 214, 287, 214,\n",
       "       248, 214, 287, 335, 269, 335, 287, 287, 335, 335, 413, 335, 335,\n",
       "       335, 219, 193, 281, 320, 339, 374, 296, 355, 390, 374, 355, 339,\n",
       "       355, 105, 129, 152,   0, 105, 129, 204, 152, 238, 254, 270, 204,\n",
       "       254, 270,   0, 188,   0, 188, 204, 270, 316, 270, 353, 316, 316,\n",
       "       353, 316, 353, 353, 353,   0,  42,  42,  42, 181,  42, 181,  42,\n",
       "        42, 135,   0, 181, 135, 230, 256, 230, 279, 319, 338, 338, 385,\n",
       "       319, 396, 372, 338, 372, 385, 396,   0, 178, 109, 178, 128,   0,\n",
       "       267, 267, 267, 306, 401, 337, 337, 360, 360,   0,  98, 167, 116,\n",
       "       206,   0, 148, 167, 245, 189, 314, 227, 258, 258, 288, 288, 378,\n",
       "       314, 314, 314, 314, 378,   0,   0,   0, 104,  74, 123, 123, 153,\n",
       "         0, 232, 192, 232, 173,   0, 264, 192, 264, 264, 301, 232, 232,\n",
       "       301, 232, 381,   0, 357, 301, 381, 301, 370, 370, 398, 398,   0,\n",
       "         0,   0,   0,   0,   0,  54,  96, 140, 120, 159,  54,   0, 140,\n",
       "       120, 199, 236,   0, 159, 236, 344, 199, 272, 311, 272, 344, 311,\n",
       "       311,   0, 384, 344, 407, 344, 394,   0,   0,  64,   0,  97, 124,\n",
       "         0,  97, 124, 260, 190, 228, 228, 190,   0, 156, 260, 260, 260,\n",
       "       228,   0, 260, 260, 260, 260, 260, 260, 260, 260,   0,   0,   0,\n",
       "         0,  81, 112,  81, 196, 112, 144, 196, 246, 168, 144, 144, 196,\n",
       "       196, 246, 367, 246, 246, 246, 367, 400, 367, 391, 400, 246, 246,\n",
       "       391,  69,  69, 130, 130, 108, 201, 223, 243, 201, 177, 130, 243,\n",
       "       154, 177, 309, 284, 223, 284, 261, 336, 309, 350, 382, 336,   0,\n",
       "        41,  91,  41, 139,  91, 165, 139, 115, 274,   0, 186,   0,   0,\n",
       "       209,   0, 209, 312,   0, 312, 233,   0, 255, 359, 312, 359, 359,\n",
       "       274, 359, 359,   0, 359, 359,   0,  48,  48, 101, 101, 125, 125,\n",
       "       147, 147,   0, 176, 176, 101, 207, 234, 147, 234, 273, 351, 257,\n",
       "       303, 321, 257, 321, 383, 303, 383, 368,   0,   0,   0,  58,  94,\n",
       "         0, 175, 136, 136,  94, 136, 197,   0,   0,   0, 253, 220, 197,\n",
       "       220, 253, 280, 300, 331, 331, 331, 253, 280, 373,   0,   0,   0,\n",
       "       373, 331,   0, 114,   0, 149, 180, 215, 240, 215, 252, 180, 268,\n",
       "       286, 315, 268, 302, 252, 330, 386, 380, 386, 399,   0,  73,  73,\n",
       "       126, 107, 151, 107, 126,   0,  40, 205, 151, 151, 151, 225, 225,\n",
       "       225, 295, 334,   0, 225, 295, 225, 363, 225, 334, 363, 363, 363,\n",
       "       403,   0,   0,   0,  63,  63, 110,  63, 110, 208, 229, 229,   0,\n",
       "       208, 164, 185, 346, 229, 250,   0, 323, 377, 377, 298, 393, 364,\n",
       "       377, 346, 393,  75, 118, 145, 118, 145, 172, 217, 332, 217, 251,\n",
       "       172, 305, 251, 352, 352, 283, 305, 352,  90,  90, 122,  90, 122,\n",
       "         0, 146, 222,   0, 122, 198, 222, 222, 198, 198, 291,   0, 278,\n",
       "       329, 329, 329, 291,   0,   0,   0,   0, 395,   0,  45,   0, 155,\n",
       "        45, 216,   0, 103,   0,   0,   0, 155, 182, 182, 216, 242, 242,\n",
       "         0, 242, 318, 242, 318, 242, 379,   0, 348, 379,   0, 348, 379,\n",
       "       379,   0], dtype=int32)"
      ]
     },
     "execution_count": 46,
     "metadata": {},
     "output_type": "execute_result"
    }
   ],
   "source": [
    "cell_mask_label[x, y]"
   ]
  },
  {
   "cell_type": "code",
   "execution_count": null,
   "id": "9e6800e7-7967-4529-83e1-aa1183474ff9",
   "metadata": {},
   "outputs": [],
   "source": []
  },
  {
   "cell_type": "code",
   "execution_count": 47,
   "id": "05cc1091-c527-4eb1-af40-52409f37776f",
   "metadata": {},
   "outputs": [],
   "source": [
    "dot_labels = cell_mask_label[x, y]"
   ]
  },
  {
   "cell_type": "code",
   "execution_count": 48,
   "id": "f24756c0-d74a-42b8-af99-04f98773c553",
   "metadata": {},
   "outputs": [],
   "source": [
    "unique_cell_labels, dot_counts = np.unique(dot_labels, return_counts=True, return_index=False)"
   ]
  },
  {
   "cell_type": "code",
   "execution_count": 49,
   "id": "0a5146a2-16ff-42cb-b1f7-8c5ff6a221d3",
   "metadata": {},
   "outputs": [
    {
     "data": {
      "text/plain": [
       "(730, 730, 730)"
      ]
     },
     "execution_count": 49,
     "metadata": {},
     "output_type": "execute_result"
    }
   ],
   "source": [
    "len(x), len(y), len(dot_labels)"
   ]
  },
  {
   "cell_type": "code",
   "execution_count": 50,
   "id": "dc904aa9-7bea-4b2e-8e86-00c19d210a92",
   "metadata": {},
   "outputs": [],
   "source": [
    "dot_idx = np.where(dot_labels == 42)[0]"
   ]
  },
  {
   "cell_type": "code",
   "execution_count": 101,
   "id": "b51535f4-e392-4010-a341-39d1bf32974f",
   "metadata": {},
   "outputs": [],
   "source": [
    "\n",
    "data_to_save = []\n",
    "for i, single_cell_label in enumerate(unique_cell_labels, 0):\n",
    "    if single_cell_label != 0:\n",
    "        dot_idxs = np.where(dot_labels == single_cell_label)[0]\n",
    "        dots_per_cell = dot_counts[i]\n",
    "        # now each of the dot idx will give a set of dots associated with \n",
    "        # cell label\n",
    "        cell_prop = props[single_cell_label-1]\n",
    "        fit_coeff = cell_prop.fit_coeff\n",
    "        poles = cell_prop.poles\n",
    "        img = cell_prop.image\n",
    "        img_size = img.shape\n",
    "        bbox = cell_prop.bbox\n",
    "        arc_length = cell_prop.arc_length[0]\n",
    "        x_data = np.arange(-0.5, img_size[1]+0.5)\n",
    "        y_data = fit_coeff[0] * x_data**2 + fit_coeff[1] * x_data + fit_coeff[2]\n",
    "        # for all dots inside the cell, compute internal coordinates\n",
    "\n",
    "        #plt.figure()\n",
    "        #plt.imshow(img)\n",
    "        #plt.plot(x_data, y_data, 'r--')\n",
    "        #plt.plot(poles[:, 0], poles[:, 1], '*')\n",
    "        \n",
    "        \n",
    "        for dot_idx in dot_idxs:\n",
    "            dot_x, dot_y = dot_coords_np[dot_idx]\n",
    "            local_x, local_y = dot_x - bbox[0], dot_y - bbox[1]\n",
    "            projected_point, internal_y = compute_projected_points(fit_coeff, np.array([[local_y, local_x]]))\n",
    "            distance_to_pole_along_arc = compute_arc_length(fit_coeff, poles[0, 0], projected_point[0, 0])\n",
    "\n",
    "            #plt.plot([local_y, projected_point[0, 0]], [local_x, projected_point[0, 1]], 'b--')\n",
    "            #plt.plot(local_y, local_x, 'go')\n",
    "            #plt.plot(projected_point[0, 0], projected_point[0, 1], 'b*')\n",
    "            #print(distance_to_pole_along_arc[0], arc_length)\n",
    "            dot_datapoint = {'position': 0,\n",
    "                             'time': 0,\n",
    "                             'trap': None,\n",
    "                             'cell_label': single_cell_label,\n",
    "                             'area': cell_prop.area,\n",
    "                             'length': arc_length,\n",
    "                             'normalization_counts': dots_per_cell,\n",
    "                             'internal_coord': (distance_to_pole_along_arc[0], internal_y[0]),\n",
    "                             'normalized_internal_x': distance_to_pole_along_arc[0]/arc_length,\n",
    "                             'bbox': bbox,\n",
    "                             'global_coords': (dot_x, dot_y),\n",
    "                             'local_coords': (local_x, local_y),\n",
    "                            }\n",
    "            data_to_save.append(dot_datapoint)\n",
    "            #plt.title(f\"Distance to pole: {distance_to_pole_along_arc[0]}, arc_length: {cell_prop.arc_length[0]}\")\n",
    "        #plt.show()\n"
   ]
  },
  {
   "cell_type": "code",
   "execution_count": 102,
   "id": "454b890e-48f0-4f3e-a380-77e3f0b40daa",
   "metadata": {},
   "outputs": [
    {
     "data": {
      "text/plain": [
       "618"
      ]
     },
     "execution_count": 102,
     "metadata": {},
     "output_type": "execute_result"
    }
   ],
   "source": [
    "len(data_to_save)"
   ]
  },
  {
   "cell_type": "code",
   "execution_count": 103,
   "id": "a0b717b4-d050-49b1-ac02-18d4bf3efa8d",
   "metadata": {},
   "outputs": [
    {
     "data": {
      "text/plain": [
       "{'position': 0,\n",
       " 'time': 0,\n",
       " 'trap': None,\n",
       " 'cell_label': 41,\n",
       " 'area': 585.0,\n",
       " 'length': 55.741157281982076,\n",
       " 'normalization_counts': 2,\n",
       " 'internal_coord': (25.340510464455427, 1.4915226399727761),\n",
       " 'normalized_internal_x': 0.45461041176923256,\n",
       " 'bbox': (2082, 228, 2104, 286),\n",
       " 'global_coords': (2090.4628331419594, 254.0679579379948),\n",
       " 'local_coords': (8.462833141959436, 26.067957937994805)}"
      ]
     },
     "execution_count": 103,
     "metadata": {},
     "output_type": "execute_result"
    }
   ],
   "source": [
    "data_to_save[2]"
   ]
  },
  {
   "cell_type": "code",
   "execution_count": 104,
   "id": "d1deafad-15f9-4ba7-acec-16f2e79cad05",
   "metadata": {},
   "outputs": [],
   "source": [
    "import pandas as pd"
   ]
  },
  {
   "cell_type": "code",
   "execution_count": 105,
   "id": "8c47767d-188d-4a84-ad8a-4418930ec36c",
   "metadata": {},
   "outputs": [],
   "source": [
    "df = pd.DataFrame(data_to_save)"
   ]
  },
  {
   "cell_type": "code",
   "execution_count": 106,
   "id": "e98b5fe5-b929-4347-87da-627d4074d678",
   "metadata": {},
   "outputs": [
    {
     "data": {
      "text/html": [
       "<div>\n",
       "<style scoped>\n",
       "    .dataframe tbody tr th:only-of-type {\n",
       "        vertical-align: middle;\n",
       "    }\n",
       "\n",
       "    .dataframe tbody tr th {\n",
       "        vertical-align: top;\n",
       "    }\n",
       "\n",
       "    .dataframe thead th {\n",
       "        text-align: right;\n",
       "    }\n",
       "</style>\n",
       "<table border=\"1\" class=\"dataframe\">\n",
       "  <thead>\n",
       "    <tr style=\"text-align: right;\">\n",
       "      <th></th>\n",
       "      <th>position</th>\n",
       "      <th>time</th>\n",
       "      <th>trap</th>\n",
       "      <th>cell_label</th>\n",
       "      <th>area</th>\n",
       "      <th>length</th>\n",
       "      <th>normalization_counts</th>\n",
       "      <th>internal_coord</th>\n",
       "      <th>normalized_internal_x</th>\n",
       "      <th>bbox</th>\n",
       "      <th>global_coords</th>\n",
       "      <th>local_coords</th>\n",
       "    </tr>\n",
       "  </thead>\n",
       "  <tbody>\n",
       "    <tr>\n",
       "      <th>0</th>\n",
       "      <td>0</td>\n",
       "      <td>0</td>\n",
       "      <td>None</td>\n",
       "      <td>40</td>\n",
       "      <td>364.0</td>\n",
       "      <td>28.951477</td>\n",
       "      <td>1</td>\n",
       "      <td>(8.011039603279928, -3.454163227423582)</td>\n",
       "      <td>0.276706</td>\n",
       "      <td>(2490, 226, 2511, 258)</td>\n",
       "      <td>(2503.938373853415, 237.00935078813785)</td>\n",
       "      <td>(13.938373853415214, 11.009350788137851)</td>\n",
       "    </tr>\n",
       "    <tr>\n",
       "      <th>1</th>\n",
       "      <td>0</td>\n",
       "      <td>0</td>\n",
       "      <td>None</td>\n",
       "      <td>41</td>\n",
       "      <td>585.0</td>\n",
       "      <td>55.741157</td>\n",
       "      <td>2</td>\n",
       "      <td>(48.411024534828144, 4.679151480968298)</td>\n",
       "      <td>0.868497</td>\n",
       "      <td>(2082, 228, 2104, 286)</td>\n",
       "      <td>(2083.6719550757825, 277.44032820848327)</td>\n",
       "      <td>(1.6719550757825345, 49.440328208483265)</td>\n",
       "    </tr>\n",
       "    <tr>\n",
       "      <th>2</th>\n",
       "      <td>0</td>\n",
       "      <td>0</td>\n",
       "      <td>None</td>\n",
       "      <td>41</td>\n",
       "      <td>585.0</td>\n",
       "      <td>55.741157</td>\n",
       "      <td>2</td>\n",
       "      <td>(25.340510464455427, 1.4915226399727761)</td>\n",
       "      <td>0.454610</td>\n",
       "      <td>(2082, 228, 2104, 286)</td>\n",
       "      <td>(2090.4628331419594, 254.0679579379948)</td>\n",
       "      <td>(8.462833141959436, 26.067957937994805)</td>\n",
       "    </tr>\n",
       "    <tr>\n",
       "      <th>3</th>\n",
       "      <td>0</td>\n",
       "      <td>0</td>\n",
       "      <td>None</td>\n",
       "      <td>42</td>\n",
       "      <td>2081.0</td>\n",
       "      <td>149.029251</td>\n",
       "      <td>6</td>\n",
       "      <td>(32.70655568593311, 6.623083151824417)</td>\n",
       "      <td>0.219464</td>\n",
       "      <td>(1220, 228, 1259, 405)</td>\n",
       "      <td>(1227.7887299371946, 287.36479413817165)</td>\n",
       "      <td>(7.788729937194603, 59.364794138171646)</td>\n",
       "    </tr>\n",
       "    <tr>\n",
       "      <th>4</th>\n",
       "      <td>0</td>\n",
       "      <td>0</td>\n",
       "      <td>None</td>\n",
       "      <td>42</td>\n",
       "      <td>2081.0</td>\n",
       "      <td>149.029251</td>\n",
       "      <td>6</td>\n",
       "      <td>(129.43659064821478, 3.541787385039819)</td>\n",
       "      <td>0.868531</td>\n",
       "      <td>(1220, 228, 1259, 405)</td>\n",
       "      <td>(1232.4931852599698, 383.934628975265)</td>\n",
       "      <td>(12.493185259969778, 155.934628975265)</td>\n",
       "    </tr>\n",
       "    <tr>\n",
       "      <th>...</th>\n",
       "      <td>...</td>\n",
       "      <td>...</td>\n",
       "      <td>...</td>\n",
       "      <td>...</td>\n",
       "      <td>...</td>\n",
       "      <td>...</td>\n",
       "      <td>...</td>\n",
       "      <td>...</td>\n",
       "      <td>...</td>\n",
       "      <td>...</td>\n",
       "      <td>...</td>\n",
       "      <td>...</td>\n",
       "    </tr>\n",
       "    <tr>\n",
       "      <th>613</th>\n",
       "      <td>0</td>\n",
       "      <td>0</td>\n",
       "      <td>None</td>\n",
       "      <td>410</td>\n",
       "      <td>914.0</td>\n",
       "      <td>76.301727</td>\n",
       "      <td>2</td>\n",
       "      <td>(11.258338367911813, -0.5400395566602205)</td>\n",
       "      <td>0.147550</td>\n",
       "      <td>(125, 1184, 147, 1264)</td>\n",
       "      <td>(131.40410535427228, 1199.7460121182144)</td>\n",
       "      <td>(6.404105354272275, 15.746012118214367)</td>\n",
       "    </tr>\n",
       "    <tr>\n",
       "      <th>614</th>\n",
       "      <td>0</td>\n",
       "      <td>0</td>\n",
       "      <td>None</td>\n",
       "      <td>410</td>\n",
       "      <td>914.0</td>\n",
       "      <td>76.301727</td>\n",
       "      <td>2</td>\n",
       "      <td>(62.83648493084219, -0.8507057531632514)</td>\n",
       "      <td>0.823526</td>\n",
       "      <td>(125, 1184, 147, 1264)</td>\n",
       "      <td>(137.9744318181818, 1250.4667446524063)</td>\n",
       "      <td>(12.974431818181813, 66.4667446524063)</td>\n",
       "    </tr>\n",
       "    <tr>\n",
       "      <th>615</th>\n",
       "      <td>0</td>\n",
       "      <td>0</td>\n",
       "      <td>None</td>\n",
       "      <td>412</td>\n",
       "      <td>582.0</td>\n",
       "      <td>47.668006</td>\n",
       "      <td>1</td>\n",
       "      <td>(25.011671640703934, 0.1284026062246491)</td>\n",
       "      <td>0.524706</td>\n",
       "      <td>(535, 1198, 552, 1247)</td>\n",
       "      <td>(541.90560426992, 1222.9154657516838)</td>\n",
       "      <td>(6.905604269919991, 24.91546575168377)</td>\n",
       "    </tr>\n",
       "    <tr>\n",
       "      <th>616</th>\n",
       "      <td>0</td>\n",
       "      <td>0</td>\n",
       "      <td>None</td>\n",
       "      <td>413</td>\n",
       "      <td>369.0</td>\n",
       "      <td>37.364992</td>\n",
       "      <td>1</td>\n",
       "      <td>(20.873044352579818, 1.0844074711967786)</td>\n",
       "      <td>0.558626</td>\n",
       "      <td>(944, 1204, 963, 1241)</td>\n",
       "      <td>(953.1993706264751, 1224.1914206451079)</td>\n",
       "      <td>(9.199370626475115, 20.191420645107883)</td>\n",
       "    </tr>\n",
       "    <tr>\n",
       "      <th>617</th>\n",
       "      <td>0</td>\n",
       "      <td>0</td>\n",
       "      <td>None</td>\n",
       "      <td>417</td>\n",
       "      <td>455.0</td>\n",
       "      <td>44.946226</td>\n",
       "      <td>1</td>\n",
       "      <td>(23.26953853676351, -2.4285248300106446)</td>\n",
       "      <td>0.517720</td>\n",
       "      <td>(331, 1215, 350, 1259)</td>\n",
       "      <td>(342.3547120418848, 1236.7663612565445)</td>\n",
       "      <td>(11.354712041884795, 21.766361256544542)</td>\n",
       "    </tr>\n",
       "  </tbody>\n",
       "</table>\n",
       "<p>618 rows × 12 columns</p>\n",
       "</div>"
      ],
      "text/plain": [
       "     position  time  trap  cell_label    area      length  \\\n",
       "0           0     0  None          40   364.0   28.951477   \n",
       "1           0     0  None          41   585.0   55.741157   \n",
       "2           0     0  None          41   585.0   55.741157   \n",
       "3           0     0  None          42  2081.0  149.029251   \n",
       "4           0     0  None          42  2081.0  149.029251   \n",
       "..        ...   ...   ...         ...     ...         ...   \n",
       "613         0     0  None         410   914.0   76.301727   \n",
       "614         0     0  None         410   914.0   76.301727   \n",
       "615         0     0  None         412   582.0   47.668006   \n",
       "616         0     0  None         413   369.0   37.364992   \n",
       "617         0     0  None         417   455.0   44.946226   \n",
       "\n",
       "     normalization_counts                             internal_coord  \\\n",
       "0                       1    (8.011039603279928, -3.454163227423582)   \n",
       "1                       2    (48.411024534828144, 4.679151480968298)   \n",
       "2                       2   (25.340510464455427, 1.4915226399727761)   \n",
       "3                       6     (32.70655568593311, 6.623083151824417)   \n",
       "4                       6    (129.43659064821478, 3.541787385039819)   \n",
       "..                    ...                                        ...   \n",
       "613                     2  (11.258338367911813, -0.5400395566602205)   \n",
       "614                     2   (62.83648493084219, -0.8507057531632514)   \n",
       "615                     1   (25.011671640703934, 0.1284026062246491)   \n",
       "616                     1   (20.873044352579818, 1.0844074711967786)   \n",
       "617                     1   (23.26953853676351, -2.4285248300106446)   \n",
       "\n",
       "     normalized_internal_x                    bbox  \\\n",
       "0                 0.276706  (2490, 226, 2511, 258)   \n",
       "1                 0.868497  (2082, 228, 2104, 286)   \n",
       "2                 0.454610  (2082, 228, 2104, 286)   \n",
       "3                 0.219464  (1220, 228, 1259, 405)   \n",
       "4                 0.868531  (1220, 228, 1259, 405)   \n",
       "..                     ...                     ...   \n",
       "613               0.147550  (125, 1184, 147, 1264)   \n",
       "614               0.823526  (125, 1184, 147, 1264)   \n",
       "615               0.524706  (535, 1198, 552, 1247)   \n",
       "616               0.558626  (944, 1204, 963, 1241)   \n",
       "617               0.517720  (331, 1215, 350, 1259)   \n",
       "\n",
       "                                global_coords  \\\n",
       "0     (2503.938373853415, 237.00935078813785)   \n",
       "1    (2083.6719550757825, 277.44032820848327)   \n",
       "2     (2090.4628331419594, 254.0679579379948)   \n",
       "3    (1227.7887299371946, 287.36479413817165)   \n",
       "4      (1232.4931852599698, 383.934628975265)   \n",
       "..                                        ...   \n",
       "613  (131.40410535427228, 1199.7460121182144)   \n",
       "614   (137.9744318181818, 1250.4667446524063)   \n",
       "615     (541.90560426992, 1222.9154657516838)   \n",
       "616   (953.1993706264751, 1224.1914206451079)   \n",
       "617   (342.3547120418848, 1236.7663612565445)   \n",
       "\n",
       "                                 local_coords  \n",
       "0    (13.938373853415214, 11.009350788137851)  \n",
       "1    (1.6719550757825345, 49.440328208483265)  \n",
       "2     (8.462833141959436, 26.067957937994805)  \n",
       "3     (7.788729937194603, 59.364794138171646)  \n",
       "4      (12.493185259969778, 155.934628975265)  \n",
       "..                                        ...  \n",
       "613   (6.404105354272275, 15.746012118214367)  \n",
       "614    (12.974431818181813, 66.4667446524063)  \n",
       "615    (6.905604269919991, 24.91546575168377)  \n",
       "616   (9.199370626475115, 20.191420645107883)  \n",
       "617  (11.354712041884795, 21.766361256544542)  \n",
       "\n",
       "[618 rows x 12 columns]"
      ]
     },
     "execution_count": 106,
     "metadata": {},
     "output_type": "execute_result"
    }
   ],
   "source": [
    "df"
   ]
  },
  {
   "cell_type": "code",
   "execution_count": 83,
   "id": "43ba88e2-6b64-468f-947f-002b872332f2",
   "metadata": {},
   "outputs": [],
   "source": [
    "df2 = pd.DataFrame(data_to_save)\n",
    "df3 = pd.concat([df, df2])"
   ]
  },
  {
   "cell_type": "code",
   "execution_count": null,
   "id": "77ba30fe-e363-4e79-b466-d294c19b0624",
   "metadata": {},
   "outputs": [],
   "source": []
  },
  {
   "cell_type": "code",
   "execution_count": 92,
   "id": "6218c73c-092e-4e4f-86d5-4f9e1a19209e",
   "metadata": {},
   "outputs": [],
   "source": [
    "# each index will give the dot coordinate of from the dot_coords_np array\n",
    "dots_inside_cells_idx = np.nonzero(dot_labels)[0]"
   ]
  },
  {
   "cell_type": "code",
   "execution_count": 93,
   "id": "208f79b9-aec7-48f8-9d19-14182f11a46c",
   "metadata": {},
   "outputs": [],
   "source": [
    "# each element is the label number of the cell in this array\n",
    "cell_labels_for_dots = dot_labels[dots_inside_cells_idx]"
   ]
  },
  {
   "cell_type": "code",
   "execution_count": 94,
   "id": "025b4006-5eb0-46a7-83b9-807b75bbb23d",
   "metadata": {},
   "outputs": [],
   "source": [
    "i = 41\n",
    "dot_x, dot_y = dot_coords_np[dots_inside_cells_idx[i]]\n",
    "plt.figure()\n",
    "plt.imshow(cell_mask_label == cell_labels_for_dots[i])\n",
    "plt.plot(dot_y, dot_x, 'ro')\n",
    "plt.show()"
   ]
  },
  {
   "cell_type": "code",
   "execution_count": 57,
   "id": "88e32744-57e8-487b-8eac-987876431efc",
   "metadata": {},
   "outputs": [
    {
     "data": {
      "text/plain": [
       "618"
      ]
     },
     "execution_count": 57,
     "metadata": {},
     "output_type": "execute_result"
    }
   ],
   "source": [
    "len(cell_labels_for_dots)"
   ]
  },
  {
   "cell_type": "code",
   "execution_count": 59,
   "id": "78f1959e-846c-4c81-b502-87639917a409",
   "metadata": {},
   "outputs": [],
   "source": [
    "\n",
    "for i in range(len(cell_labels_for_dots)):\n",
    "    cell_label = cell_labels_for_dots[i]\n",
    "    dot_x, dot_y = dot_coords_np[dots_inside_cells_idx[i]]\n",
    "    cell_prop = props[cell_label-1]\n",
    "    fit_coeff = cell_prop.fit_coeff\n",
    "    poles = cell_prop.poles\n",
    "    img = cell_prop.image\n",
    "    img_size = img.shape\n",
    "    x_data = np.arange(-0.5, img_size[1]+0.5)\n",
    "    y_data = fit_coeff[0] * x_data**2 + fit_coeff[1] * x_data + fit_coeff[2]\n",
    "    local_x, local_y = dot_x - cell_prop.bbox[0], dot_y - cell_prop.bbox[1]\n",
    "    \n",
    "    \n",
    "    projected_point, _ = compute_projected_points(fit_coeff, np.array([[local_y, local_x]]))\n",
    "    #distance_to_pole = np.sqrt((projected_point[0, 0] - poles[0, 1])**2 + (projected_point[0, 1] - poles[0, 0])**2)\n",
    "    distance_to_pole_along_arc = compute_arc_length(fit_coeff, poles[0, 0], projected_point[0,0])"
   ]
  },
  {
   "cell_type": "code",
   "execution_count": 60,
   "id": "ade952d1-bdb9-43be-88f5-112be9caf04f",
   "metadata": {},
   "outputs": [],
   "source": [
    "plt.figure()\n",
    "plt.imshow(img)\n",
    "plt.plot(x_data, y_data, 'r--')\n",
    "plt.plot(poles[:, 0], poles[:, 1], '*')\n",
    "plt.plot(local_y, local_x, 'go')\n",
    "plt.plot(projected_point[0, 0], projected_point[0, 1], 'b*')\n",
    "plt.title(f\"Distance to pole: {distance_to_pole_along_arc[0]}, arc_length: {cell_prop.arc_length[0]}\")\n",
    "plt.show()"
   ]
  },
  {
   "cell_type": "code",
   "execution_count": null,
   "id": "cf90ed1c-627e-4d97-b720-649de286f3fa",
   "metadata": {},
   "outputs": [],
   "source": []
  },
  {
   "cell_type": "code",
   "execution_count": 121,
   "id": "4e1b972c-df27-4827-8dc3-315c0c403800",
   "metadata": {},
   "outputs": [
    {
     "data": {
      "text/plain": [
       "array([[35.32503436,  4.16863798]])"
      ]
     },
     "execution_count": 121,
     "metadata": {},
     "output_type": "execute_result"
    }
   ],
   "source": [
    "projected_point"
   ]
  },
  {
   "cell_type": "code",
   "execution_count": null,
   "id": "cabbc205-e712-497d-b706-47b1fbcae61f",
   "metadata": {},
   "outputs": [],
   "source": []
  },
  {
   "cell_type": "code",
   "execution_count": 106,
   "id": "88f6e813-f505-457c-978d-9d37ad204dc6",
   "metadata": {},
   "outputs": [],
   "source": [
    "projected_point, _ = compute_projected_points(fit_coeff, np.array([[local_y, local_x]]))\n"
   ]
  },
  {
   "cell_type": "code",
   "execution_count": 107,
   "id": "10a0c3da-0be1-4c8f-afbe-b5692a021d45",
   "metadata": {},
   "outputs": [
    {
     "data": {
      "text/plain": [
       "array([[12.25525112,  4.09683844]])"
      ]
     },
     "execution_count": 107,
     "metadata": {},
     "output_type": "execute_result"
    }
   ],
   "source": [
    "projected_point"
   ]
  },
  {
   "cell_type": "code",
   "execution_count": 91,
   "id": "f632ae4d-5139-466c-992e-32cd02270564",
   "metadata": {},
   "outputs": [
    {
     "data": {
      "text/plain": [
       "3.1760833790455294"
      ]
     },
     "execution_count": 91,
     "metadata": {},
     "output_type": "execute_result"
    }
   ],
   "source": [
    "internal_x"
   ]
  },
  {
   "cell_type": "code",
   "execution_count": 89,
   "id": "db0978be-8db6-4af2-9d41-460356568055",
   "metadata": {},
   "outputs": [
    {
     "data": {
      "text/plain": [
       "array([-0.5      ,  2.5322699])"
      ]
     },
     "execution_count": 89,
     "metadata": {},
     "output_type": "execute_result"
    }
   ],
   "source": [
    "poles[0]"
   ]
  },
  {
   "cell_type": "code",
   "execution_count": 86,
   "id": "fc1021bb-c086-45fc-a6f8-37122afbb356",
   "metadata": {},
   "outputs": [
    {
     "data": {
      "text/plain": [
       "(3.1760833790455294, 8.991771804717473)"
      ]
     },
     "execution_count": 86,
     "metadata": {},
     "output_type": "execute_result"
    }
   ],
   "source": [
    "internal_x, internal_y"
   ]
  },
  {
   "cell_type": "code",
   "execution_count": 75,
   "id": "514ce5f5-d615-4885-b92c-e83b5f10e5b7",
   "metadata": {},
   "outputs": [
    {
     "data": {
      "text/plain": [
       "(45.17608337904553, 491.9917718047175)"
      ]
     },
     "execution_count": 75,
     "metadata": {},
     "output_type": "execute_result"
    }
   ],
   "source": [
    "dot_x, dot_y"
   ]
  },
  {
   "cell_type": "code",
   "execution_count": 80,
   "id": "896c1bd8-9358-45f7-b5e4-2c9a68187747",
   "metadata": {},
   "outputs": [],
   "source": [
    "plt.figure()\n",
    "plt.imshow(cell_mask_label == cell_label)\n",
    "plt.plot(dot_y, dot_x, 'ro')\n",
    "plt.show()"
   ]
  },
  {
   "cell_type": "code",
   "execution_count": 82,
   "id": "cef995ef-6f07-4cb1-86a9-0e8958c4cf4d",
   "metadata": {},
   "outputs": [
    {
     "data": {
      "text/plain": [
       "(42, 483, 51, 528)"
      ]
     },
     "execution_count": 82,
     "metadata": {},
     "output_type": "execute_result"
    }
   ],
   "source": [
    "cell_prop.bbox"
   ]
  },
  {
   "cell_type": "code",
   "execution_count": null,
   "id": "3ac634ac-274a-4455-92de-d1c412b0e525",
   "metadata": {},
   "outputs": [],
   "source": []
  },
  {
   "cell_type": "code",
   "execution_count": 59,
   "id": "4ab2f6c8-fce7-4ec1-bd20-a9c7bfaeaab9",
   "metadata": {},
   "outputs": [],
   "source": [
    "plt.figure()\n",
    "plt.imshow(cell_mask_label == 31)\n",
    "plt.plot(dot_coords_np[43][1], dot_coords_np[43][0], 'ro')\n",
    "plt.show()"
   ]
  },
  {
   "cell_type": "code",
   "execution_count": 60,
   "id": "1bcbe6e1-df7c-48d9-b517-33b9ac3c4234",
   "metadata": {},
   "outputs": [],
   "source": []
  },
  {
   "cell_type": "code",
   "execution_count": 61,
   "id": "d66d5667-edf3-4ef1-a81a-0349a94ecce6",
   "metadata": {},
   "outputs": [
    {
     "data": {
      "text/plain": [
       "array([25.06184152])"
      ]
     },
     "execution_count": 61,
     "metadata": {},
     "output_type": "execute_result"
    }
   ],
   "source": [
    "props[30].arc_length"
   ]
  },
  {
   "cell_type": "code",
   "execution_count": 62,
   "id": "9cf0c05e-a4dd-4399-87c8-ddce56ec7a67",
   "metadata": {},
   "outputs": [
    {
     "data": {
      "text/plain": [
       "array([[-0.5       ,  5.28563777],\n",
       "       [24.5       ,  3.6100112 ]])"
      ]
     },
     "execution_count": 62,
     "metadata": {},
     "output_type": "execute_result"
    }
   ],
   "source": [
    "props[30].poles"
   ]
  },
  {
   "cell_type": "code",
   "execution_count": 64,
   "id": "28b5f409-c471-4efc-b0f6-638c1a25267b",
   "metadata": {},
   "outputs": [
    {
     "data": {
      "text/plain": [
       "26.441570332452198"
      ]
     },
     "execution_count": 64,
     "metadata": {},
     "output_type": "execute_result"
    }
   ],
   "source": [
    "props[30].axis_major_length"
   ]
  },
  {
   "cell_type": "code",
   "execution_count": 65,
   "id": "a1a96a8c-dd71-4fae-acb3-0bef659158fc",
   "metadata": {},
   "outputs": [
    {
     "data": {
      "text/plain": [
       "array([[-0.5       ,  5.28563777],\n",
       "       [24.5       ,  3.6100112 ]])"
      ]
     },
     "execution_count": 65,
     "metadata": {},
     "output_type": "execute_result"
    }
   ],
   "source": [
    "props[30].poles"
   ]
  },
  {
   "cell_type": "code",
   "execution_count": null,
   "id": "2b0a283e-b6f7-4020-8202-ebff898a06f4",
   "metadata": {},
   "outputs": [],
   "source": []
  },
  {
   "cell_type": "code",
   "execution_count": null,
   "id": "fdabe676-22c7-408b-b670-e8760b2da0ab",
   "metadata": {},
   "outputs": [],
   "source": []
  },
  {
   "cell_type": "code",
   "execution_count": null,
   "id": "906dec96-4151-4871-967a-f23386d0cec4",
   "metadata": {},
   "outputs": [],
   "source": []
  },
  {
   "cell_type": "code",
   "execution_count": null,
   "id": "e1d9d061-b946-4a77-85f1-5d05c2c6b9f5",
   "metadata": {},
   "outputs": [],
   "source": []
  },
  {
   "cell_type": "code",
   "execution_count": null,
   "id": "7651b191-167d-4de0-abee-3017e95178ee",
   "metadata": {},
   "outputs": [],
   "source": []
  },
  {
   "cell_type": "code",
   "execution_count": null,
   "id": "2085b05e-9d4e-4d7f-9467-9c0078f818d3",
   "metadata": {},
   "outputs": [],
   "source": []
  },
  {
   "cell_type": "code",
   "execution_count": null,
   "id": "77b982ae-d6d5-4bf1-a80e-6e0297f32df3",
   "metadata": {},
   "outputs": [],
   "source": []
  },
  {
   "cell_type": "markdown",
   "id": "cc4a2c0e-dbc0-4a11-b7dc-99443a423070",
   "metadata": {},
   "source": [
    "#### Make forkplots"
   ]
  },
  {
   "cell_type": "code",
   "execution_count": null,
   "id": "daa6151f-86ea-4c3e-bd50-3449f8c2fb71",
   "metadata": {},
   "outputs": [],
   "source": []
  },
  {
   "cell_type": "code",
   "execution_count": null,
   "id": "239fdfb5-91ec-4603-92db-5a41ec879d33",
   "metadata": {},
   "outputs": [],
   "source": []
  },
  {
   "cell_type": "code",
   "execution_count": 116,
   "id": "085a4236-12d1-48b6-8d8d-f75e95a9c855",
   "metadata": {},
   "outputs": [],
   "source": [
    "import pandas as pd\n",
    "import numpy as np\n",
    "\n",
    "# Create a sample DataFrame\n",
    "df = pd.DataFrame({\n",
    "    'A': np.random.randn(1000),\n",
    "    'B': np.random.randn(1000),\n",
    "    'C': pd.date_range('20250101', periods=1000)\n",
    "})\n"
   ]
  },
  {
   "cell_type": "code",
   "execution_count": 117,
   "id": "0560a51f-fc1d-498a-80db-8c8f63783f78",
   "metadata": {},
   "outputs": [
    {
     "data": {
      "text/html": [
       "<div>\n",
       "<style scoped>\n",
       "    .dataframe tbody tr th:only-of-type {\n",
       "        vertical-align: middle;\n",
       "    }\n",
       "\n",
       "    .dataframe tbody tr th {\n",
       "        vertical-align: top;\n",
       "    }\n",
       "\n",
       "    .dataframe thead th {\n",
       "        text-align: right;\n",
       "    }\n",
       "</style>\n",
       "<table border=\"1\" class=\"dataframe\">\n",
       "  <thead>\n",
       "    <tr style=\"text-align: right;\">\n",
       "      <th></th>\n",
       "      <th>A</th>\n",
       "      <th>B</th>\n",
       "      <th>C</th>\n",
       "    </tr>\n",
       "  </thead>\n",
       "  <tbody>\n",
       "    <tr>\n",
       "      <th>0</th>\n",
       "      <td>0.445403</td>\n",
       "      <td>-0.001812</td>\n",
       "      <td>2025-01-01</td>\n",
       "    </tr>\n",
       "    <tr>\n",
       "      <th>1</th>\n",
       "      <td>0.938464</td>\n",
       "      <td>1.193299</td>\n",
       "      <td>2025-01-02</td>\n",
       "    </tr>\n",
       "    <tr>\n",
       "      <th>2</th>\n",
       "      <td>-0.640070</td>\n",
       "      <td>1.164751</td>\n",
       "      <td>2025-01-03</td>\n",
       "    </tr>\n",
       "    <tr>\n",
       "      <th>3</th>\n",
       "      <td>-0.136731</td>\n",
       "      <td>1.272015</td>\n",
       "      <td>2025-01-04</td>\n",
       "    </tr>\n",
       "    <tr>\n",
       "      <th>4</th>\n",
       "      <td>-0.105946</td>\n",
       "      <td>-0.035150</td>\n",
       "      <td>2025-01-05</td>\n",
       "    </tr>\n",
       "    <tr>\n",
       "      <th>...</th>\n",
       "      <td>...</td>\n",
       "      <td>...</td>\n",
       "      <td>...</td>\n",
       "    </tr>\n",
       "    <tr>\n",
       "      <th>995</th>\n",
       "      <td>0.690558</td>\n",
       "      <td>-0.606212</td>\n",
       "      <td>2027-09-23</td>\n",
       "    </tr>\n",
       "    <tr>\n",
       "      <th>996</th>\n",
       "      <td>1.021049</td>\n",
       "      <td>1.539551</td>\n",
       "      <td>2027-09-24</td>\n",
       "    </tr>\n",
       "    <tr>\n",
       "      <th>997</th>\n",
       "      <td>-0.314263</td>\n",
       "      <td>-0.134031</td>\n",
       "      <td>2027-09-25</td>\n",
       "    </tr>\n",
       "    <tr>\n",
       "      <th>998</th>\n",
       "      <td>-0.330640</td>\n",
       "      <td>-1.569597</td>\n",
       "      <td>2027-09-26</td>\n",
       "    </tr>\n",
       "    <tr>\n",
       "      <th>999</th>\n",
       "      <td>-0.722551</td>\n",
       "      <td>0.950398</td>\n",
       "      <td>2027-09-27</td>\n",
       "    </tr>\n",
       "  </tbody>\n",
       "</table>\n",
       "<p>1000 rows × 3 columns</p>\n",
       "</div>"
      ],
      "text/plain": [
       "            A         B          C\n",
       "0    0.445403 -0.001812 2025-01-01\n",
       "1    0.938464  1.193299 2025-01-02\n",
       "2   -0.640070  1.164751 2025-01-03\n",
       "3   -0.136731  1.272015 2025-01-04\n",
       "4   -0.105946 -0.035150 2025-01-05\n",
       "..        ...       ...        ...\n",
       "995  0.690558 -0.606212 2027-09-23\n",
       "996  1.021049  1.539551 2027-09-24\n",
       "997 -0.314263 -0.134031 2027-09-25\n",
       "998 -0.330640 -1.569597 2027-09-26\n",
       "999 -0.722551  0.950398 2027-09-27\n",
       "\n",
       "[1000 rows x 3 columns]"
      ]
     },
     "execution_count": 117,
     "metadata": {},
     "output_type": "execute_result"
    }
   ],
   "source": [
    "df"
   ]
  },
  {
   "cell_type": "code",
   "execution_count": null,
   "id": "1ce4e85a-3ed0-4cc4-80e6-b888ed876ec1",
   "metadata": {},
   "outputs": [],
   "source": []
  }
 ],
 "metadata": {
  "kernelspec": {
   "display_name": "Python 3 (ipykernel)",
   "language": "python",
   "name": "python3"
  },
  "language_info": {
   "codemirror_mode": {
    "name": "ipython",
    "version": 3
   },
   "file_extension": ".py",
   "mimetype": "text/x-python",
   "name": "python",
   "nbconvert_exporter": "python",
   "pygments_lexer": "ipython3",
   "version": "3.11.0rc1"
  }
 },
 "nbformat": 4,
 "nbformat_minor": 5
}
