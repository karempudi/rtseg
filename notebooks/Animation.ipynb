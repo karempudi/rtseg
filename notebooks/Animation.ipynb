{
 "cells": [
  {
   "cell_type": "code",
   "execution_count": 1,
   "id": "25d678c4-3503-4f99-8966-860917ee7d68",
   "metadata": {},
   "outputs": [],
   "source": [
    "%reload_ext autoreload\n",
    "%autoreload 2"
   ]
  },
  {
   "cell_type": "code",
   "execution_count": 2,
   "id": "0e169b02-a6d4-46bc-ba63-039c0abe380b",
   "metadata": {},
   "outputs": [],
   "source": [
    "from skimage import io\n",
    "import numpy as np\n",
    "from pathlib import Path\n",
    "import pathlib\n",
    "import matplotlib.pyplot as plt\n",
    "%matplotlib qt5"
   ]
  },
  {
   "cell_type": "code",
   "execution_count": 3,
   "id": "88db3487-a9ed-4066-af3b-72a383413190",
   "metadata": {},
   "outputs": [],
   "source": [
    "DATA_DIR = Path('/mnt/sda1/heteroresistance/EXP-20-BP0356 hetero 24ugml 48k imaging/after loading')"
   ]
  },
  {
   "cell_type": "code",
   "execution_count": 7,
   "id": "f9eb0f3d-8976-4937-80c1-5e3d10a5fc78",
   "metadata": {},
   "outputs": [],
   "source": [
    "phase_dirs = [DATA_DIR/ Path('Pos' + str(i)) / Path('phaseFast') for i in range(102, 122)]"
   ]
  },
  {
   "cell_type": "code",
   "execution_count": 14,
   "id": "0b99d2bf-be10-4e86-9809-95c83458204e",
   "metadata": {},
   "outputs": [],
   "source": [
    "a = np.zeros((20, 20, 1024, 4096))"
   ]
  },
  {
   "cell_type": "code",
   "execution_count": 15,
   "id": "65c742cb-deaa-4867-bfc1-b17f53ff04e2",
   "metadata": {},
   "outputs": [
    {
     "name": "stdout",
     "output_type": "stream",
     "text": [
      "Done: /mnt/sda1/heteroresistance/EXP-20-BP0356 hetero 24ugml 48k imaging/after loading/Pos102/phaseFast\n",
      "Done: /mnt/sda1/heteroresistance/EXP-20-BP0356 hetero 24ugml 48k imaging/after loading/Pos103/phaseFast\n",
      "Done: /mnt/sda1/heteroresistance/EXP-20-BP0356 hetero 24ugml 48k imaging/after loading/Pos104/phaseFast\n",
      "Done: /mnt/sda1/heteroresistance/EXP-20-BP0356 hetero 24ugml 48k imaging/after loading/Pos105/phaseFast\n",
      "Done: /mnt/sda1/heteroresistance/EXP-20-BP0356 hetero 24ugml 48k imaging/after loading/Pos106/phaseFast\n",
      "Done: /mnt/sda1/heteroresistance/EXP-20-BP0356 hetero 24ugml 48k imaging/after loading/Pos107/phaseFast\n",
      "Done: /mnt/sda1/heteroresistance/EXP-20-BP0356 hetero 24ugml 48k imaging/after loading/Pos108/phaseFast\n",
      "Done: /mnt/sda1/heteroresistance/EXP-20-BP0356 hetero 24ugml 48k imaging/after loading/Pos109/phaseFast\n",
      "Done: /mnt/sda1/heteroresistance/EXP-20-BP0356 hetero 24ugml 48k imaging/after loading/Pos110/phaseFast\n",
      "Done: /mnt/sda1/heteroresistance/EXP-20-BP0356 hetero 24ugml 48k imaging/after loading/Pos111/phaseFast\n",
      "Done: /mnt/sda1/heteroresistance/EXP-20-BP0356 hetero 24ugml 48k imaging/after loading/Pos112/phaseFast\n",
      "Done: /mnt/sda1/heteroresistance/EXP-20-BP0356 hetero 24ugml 48k imaging/after loading/Pos113/phaseFast\n",
      "Done: /mnt/sda1/heteroresistance/EXP-20-BP0356 hetero 24ugml 48k imaging/after loading/Pos114/phaseFast\n",
      "Done: /mnt/sda1/heteroresistance/EXP-20-BP0356 hetero 24ugml 48k imaging/after loading/Pos115/phaseFast\n",
      "Done: /mnt/sda1/heteroresistance/EXP-20-BP0356 hetero 24ugml 48k imaging/after loading/Pos116/phaseFast\n",
      "Done: /mnt/sda1/heteroresistance/EXP-20-BP0356 hetero 24ugml 48k imaging/after loading/Pos117/phaseFast\n",
      "Done: /mnt/sda1/heteroresistance/EXP-20-BP0356 hetero 24ugml 48k imaging/after loading/Pos118/phaseFast\n",
      "Done: /mnt/sda1/heteroresistance/EXP-20-BP0356 hetero 24ugml 48k imaging/after loading/Pos119/phaseFast\n",
      "Done: /mnt/sda1/heteroresistance/EXP-20-BP0356 hetero 24ugml 48k imaging/after loading/Pos120/phaseFast\n",
      "Done: /mnt/sda1/heteroresistance/EXP-20-BP0356 hetero 24ugml 48k imaging/after loading/Pos121/phaseFast\n"
     ]
    }
   ],
   "source": [
    "for i, phase_dir in enumerate(phase_dirs, 0):\n",
    "    images = sorted(list(phase_dir.glob('*.tiff')))[:20]\n",
    "    for j, image in enumerate(images, 0):\n",
    "        read_image = io.imread(image)\n",
    "        a[j][i] = read_image\n",
    "    print(f\"Done: {phase_dir}\")"
   ]
  },
  {
   "cell_type": "code",
   "execution_count": 16,
   "id": "a32bd9b1-864f-4297-be02-fd6805b89c5f",
   "metadata": {},
   "outputs": [
    {
     "data": {
      "text/plain": [
       "(20, 20, 1024, 4096)"
      ]
     },
     "execution_count": 16,
     "metadata": {},
     "output_type": "execute_result"
    }
   ],
   "source": [
    "a.shape"
   ]
  },
  {
   "cell_type": "code",
   "execution_count": null,
   "id": "6d540db6-4b24-4769-9097-a25a8b265ac3",
   "metadata": {},
   "outputs": [],
   "source": []
  },
  {
   "cell_type": "code",
   "execution_count": 18,
   "id": "0fd65858-773f-4cd1-90bf-bf4fae8cc394",
   "metadata": {},
   "outputs": [],
   "source": [
    "first_image = a[0]"
   ]
  },
  {
   "cell_type": "code",
   "execution_count": 19,
   "id": "414959b8-b929-43db-9a00-89014d5be46d",
   "metadata": {},
   "outputs": [],
   "source": [
    "first_image_2d = first_image.reshape(-1, 40960)"
   ]
  },
  {
   "cell_type": "code",
   "execution_count": 21,
   "id": "61bcc09e-c8e2-4119-b3b7-17bfd7e06939",
   "metadata": {},
   "outputs": [],
   "source": [
    "plt.figure()\n",
    "plt.imshow(first_image_2d)\n",
    "plt.show()"
   ]
  },
  {
   "cell_type": "code",
   "execution_count": null,
   "id": "c140304a-9ae4-4a10-b808-4caccd82374c",
   "metadata": {},
   "outputs": [],
   "source": []
  }
 ],
 "metadata": {
  "kernelspec": {
   "display_name": "Python 3 (ipykernel)",
   "language": "python",
   "name": "python3"
  },
  "language_info": {
   "codemirror_mode": {
    "name": "ipython",
    "version": 3
   },
   "file_extension": ".py",
   "mimetype": "text/x-python",
   "name": "python",
   "nbconvert_exporter": "python",
   "pygments_lexer": "ipython3",
   "version": "3.11.0rc1"
  }
 },
 "nbformat": 4,
 "nbformat_minor": 5
}
