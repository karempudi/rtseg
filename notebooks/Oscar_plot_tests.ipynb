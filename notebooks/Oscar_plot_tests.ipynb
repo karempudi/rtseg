{
 "cells": [
  {
   "cell_type": "code",
   "execution_count": 1,
   "id": "16f3caa1-9a9c-4c75-a6b5-5e41a500cf93",
   "metadata": {},
   "outputs": [],
   "source": [
    "%reload_ext autoreload\n",
    "%autoreload 2"
   ]
  },
  {
   "cell_type": "code",
   "execution_count": 2,
   "id": "0ab27554-7040-4a38-a611-e98e62b56090",
   "metadata": {},
   "outputs": [],
   "source": [
    "import numpy as np\n",
    "import matplotlib.pyplot as plt\n",
    "from pathlib import Path\n",
    "from rtseg.cells.plotting import generate_fork_plot, generate_abins_lbins, get_bulk_init_area\n",
    "import numpy as np\n",
    "import sys\n",
    "from pathlib import Path\n",
    "from skimage.io import imsave, imread\n",
    "import zarr\n",
    "from numcodecs import Zlib\n",
    "from rtseg.utils.db_ops import read_from_db\n",
    "from tifffile import imwrite # used for finer compression things\n",
    "import h5py\n",
    "import pandas as pd\n",
    "from os.path import join\n",
    "%matplotlib qt5"
   ]
  },
  {
   "cell_type": "code",
   "execution_count": null,
   "id": "abac7eb6-7724-42e7-a07f-5ddd80430f4d",
   "metadata": {},
   "outputs": [],
   "source": []
  },
  {
   "cell_type": "code",
   "execution_count": 3,
   "id": "2c91675e-f90b-46f1-9e23-1dcd708fbfb3",
   "metadata": {},
   "outputs": [],
   "source": [
    "from rtseg.utils.param_io import load_params\n",
    "from rtseg.utils.disk_ops import read_files"
   ]
  },
  {
   "cell_type": "code",
   "execution_count": 4,
   "id": "effb073d-7c8f-4376-ac93-b64e3141fa79",
   "metadata": {},
   "outputs": [],
   "source": [
    "param = load_params(Path('C:/Users/oscbr226/Desktop/Initiation_Lib_Tweezer/Code/realtimeAnalysis/expt_params.yaml'), ref_type='expt')\n",
    "param.Save.directory = 'C:/Users/oscbr226/Desktop/Initiation_Lib_Tweezer/Code/realtimeAnalysis/'\n",
    "save_dir = Path(param.Save.directory)\n",
    "position = 1\n",
    "channel_no = 1"
   ]
  },
  {
   "cell_type": "code",
   "execution_count": 5,
   "id": "a6d6df12-be4a-4712-97bb-3b26d134e92b",
   "metadata": {},
   "outputs": [],
   "source": [
    "\n",
    "forks_filenames = [position_dir / Path('forks.csv') for position_dir in list(save_dir.glob('Pos*'))]\n",
    "dataframes = [pd.read_csv(filename) for filename in forks_filenames]\n",
    "data = pd.concat(dataframes, ignore_index=True)\n",
    "\n",
    "areas = data['area'].to_numpy()\n",
    "lengths = data['length'].to_numpy()\n",
    "longs = data['normalized_internal_x'].to_numpy()\n",
    "counts = data['normalization_counts'].to_numpy()\n",
    "\n",
    "bin_scale = 15\n",
    "heatmap_threshold = param.Forkplots.heatmap_threshold\n",
    "pixel_size = param.Forkplots.pixel_size\n",
    "\n",
    "heatmap, mean_cell_lengths, abins, lbins, (x, y) = generate_fork_plot(areas, lengths, longs, counts,\n",
    "                bin_scale=bin_scale,\n",
    "                pixel_size=pixel_size,\n",
    "                heatmap_threshold=heatmap_threshold)\n",
    "\n",
    "min_length = 0.44\n",
    "arb_div_area = 2.5\n",
    "init_area = get_bulk_init_area(areas, counts, longs, lengths, min_length=min_length, pixel_size=pixel_size, arb_div_area=arb_div_area)\n"
   ]
  },
  {
   "cell_type": "code",
   "execution_count": 6,
   "id": "679cb7c1-b933-4734-af61-3522ec5a7ed0",
   "metadata": {},
   "outputs": [
    {
     "data": {
      "text/plain": [
       "Text(0, 0.5, 'Cell size (µm$^2$)')"
      ]
     },
     "execution_count": 6,
     "metadata": {},
     "output_type": "execute_result"
    }
   ],
   "source": [
    "plt.matshow(heatmap, aspect='auto', interpolation='none', extent=[x[0], x[-1], y[-1], y[0]], origin='upper')\n",
    "plt.plot(-0.5 * mean_cell_lengths, y, 'w', linewidth=2)\n",
    "plt.plot(0.5 * mean_cell_lengths, y, 'w', linewidth=2)\n",
    "plt.axhline(init_area, color='red', linestyle='--', linewidth=2)\n",
    "plt.xlim(-3, 3) \n",
    "plt.ylim(3,y[0])\n",
    "plt.xlabel('Cell long axis (µm)')\n",
    "plt.ylabel('Cell size (µm$^2$)')"
   ]
  },
  {
   "cell_type": "code",
   "execution_count": 7,
   "id": "de2c5f6b-b56c-49c4-a014-19f75b88aa94",
   "metadata": {},
   "outputs": [
    {
     "name": "stdout",
     "output_type": "stream",
     "text": [
      "[-9.21508057 -9.1480618  -9.08104303 -9.01402426 -8.9470055  -8.87998673\n",
      " -8.81296796 -8.74594919 -8.67893043 -8.61191166 -8.54489289 -8.47787412\n",
      " -8.41085535 -8.34383659 -8.27681782 -8.20979905 -8.14278028 -8.07576152\n",
      " -8.00874275 -7.94172398 -7.87470521 -7.80768644 -7.74066768 -7.67364891\n",
      " -7.60663014 -7.53961137 -7.47259261 -7.40557384 -7.33855507 -7.2715363\n",
      " -7.20451753 -7.13749877 -7.07048    -7.00346123 -6.93644246 -6.8694237\n",
      " -6.80240493 -6.73538616 -6.66836739 -6.60134862 -6.53432986 -6.46731109\n",
      " -6.40029232 -6.33327355 -6.26625479 -6.19923602 -6.13221725 -6.06519848\n",
      " -5.99817971 -5.93116095 -5.86414218 -5.79712341 -5.73010464 -5.66308588\n",
      " -5.59606711 -5.52904834 -5.46202957 -5.3950108  -5.32799204 -5.26097327\n",
      " -5.1939545  -5.12693573 -5.05991697 -4.9928982  -4.92587943 -4.85886066\n",
      " -4.7918419  -4.72482313 -4.65780436 -4.59078559 -4.52376682 -4.45674806\n",
      " -4.38972929 -4.32271052 -4.25569175 -4.18867299 -4.12165422 -4.05463545\n",
      " -3.98761668 -3.92059791 -3.85357915 -3.78656038 -3.71954161 -3.65252284\n",
      " -3.58550408 -3.51848531 -3.45146654 -3.38444777 -3.317429   -3.25041024\n",
      " -3.18339147 -3.1163727  -3.04935393 -2.98233517 -2.9153164  -2.84829763\n",
      " -2.78127886 -2.71426009 -2.64724133 -2.58022256 -2.51320379 -2.44618502\n",
      " -2.37916626 -2.31214749 -2.24512872 -2.17810995 -2.11109118 -2.04407242\n",
      " -1.97705365 -1.91003488 -1.84301611 -1.77599735 -1.70897858 -1.64195981\n",
      " -1.57494104 -1.50792227 -1.44090351 -1.37388474 -1.30686597 -1.2398472\n",
      " -1.17282844 -1.10580967 -1.0387909  -0.97177213 -0.90475336 -0.8377346\n",
      " -0.77071583 -0.70369706 -0.63667829 -0.56965953 -0.50264076 -0.43562199\n",
      " -0.36860322 -0.30158445 -0.23456569 -0.16754692 -0.10052815 -0.03350938\n",
      "  0.03350938  0.10052815  0.16754692  0.23456569  0.30158445  0.36860322\n",
      "  0.43562199  0.50264076  0.56965953  0.63667829  0.70369706  0.77071583\n",
      "  0.8377346   0.90475336  0.97177213  1.0387909   1.10580967  1.17282844\n",
      "  1.2398472   1.30686597  1.37388474  1.44090351  1.50792227  1.57494104\n",
      "  1.64195981  1.70897858  1.77599735  1.84301611  1.91003488  1.97705365\n",
      "  2.04407242  2.11109118  2.17810995  2.24512872  2.31214749  2.37916626\n",
      "  2.44618502  2.51320379  2.58022256  2.64724133  2.71426009  2.78127886\n",
      "  2.84829763  2.9153164   2.98233517  3.04935393  3.1163727   3.18339147\n",
      "  3.25041024  3.317429    3.38444777  3.45146654  3.51848531  3.58550408\n",
      "  3.65252284  3.71954161  3.78656038  3.85357915  3.92059791  3.98761668\n",
      "  4.05463545  4.12165422  4.18867299  4.25569175  4.32271052  4.38972929\n",
      "  4.45674806  4.52376682  4.59078559  4.65780436  4.72482313  4.7918419\n",
      "  4.85886066  4.92587943  4.9928982   5.05991697  5.12693573  5.1939545\n",
      "  5.26097327  5.32799204  5.3950108   5.46202957  5.52904834  5.59606711\n",
      "  5.66308588  5.73010464  5.79712341  5.86414218  5.93116095  5.99817971\n",
      "  6.06519848  6.13221725  6.19923602  6.26625479  6.33327355  6.40029232\n",
      "  6.46731109  6.53432986  6.60134862  6.66836739  6.73538616  6.80240493\n",
      "  6.8694237   6.93644246  7.00346123  7.07048     7.13749877  7.20451753\n",
      "  7.2715363   7.33855507  7.40557384  7.47259261  7.53961137  7.60663014\n",
      "  7.67364891  7.74066768  7.80768644  7.87470521  7.94172398  8.00874275\n",
      "  8.07576152  8.14278028  8.20979905  8.27681782  8.34383659  8.41085535\n",
      "  8.47787412  8.54489289  8.61191166  8.67893043  8.74594919  8.81296796\n",
      "  8.87998673  8.9470055   9.01402426  9.08104303  9.1480618   9.21508057]\n"
     ]
    }
   ],
   "source": [
    "print(lbins)"
   ]
  },
  {
   "cell_type": "markdown",
   "id": "7a28337e-9f1e-43e1-8d83-020605230022",
   "metadata": {},
   "source": [
    "#### Slicing fork plot to around initiation"
   ]
  },
  {
   "cell_type": "code",
   "execution_count": 8,
   "id": "511d9b5e-131a-4060-b2d3-2cd5bb3cd91e",
   "metadata": {},
   "outputs": [
    {
     "data": {
      "text/plain": [
       "Text(0, 0.5, 'Cell size (µm$^2$)')"
      ]
     },
     "execution_count": 8,
     "metadata": {},
     "output_type": "execute_result"
    }
   ],
   "source": [
    "#plt.close('all')\n",
    "init_area_cv = 0.11\n",
    "init_area_low = init_area - init_area_cv*init_area\n",
    "init_area_high = init_area + init_area_cv*init_area\n",
    "\n",
    "abins_inds_around_init = np.where(np.logical_and(init_area_low <= abins, abins <= init_area_high))\n",
    "abins_inds_around_init = abins_inds_around_init[0]\n",
    "abins_inds_around_init = np.append(abins_inds_around_init, abins_inds_around_init[-1]+1)\n",
    "area_bins_around_init = abins[abins_inds_around_init]\n",
    "mean_cell_length_around_init = mean_cell_lengths[abins_inds_around_init[0:-1]]\n",
    "max_cell_length_around_init = np.max(mean_cell_length_around_init)\n",
    "lbins_inds_around_init = np.where(np.logical_and(-0.5*max_cell_length_around_init <= lbins , lbins <= 0.5*max_cell_length_around_init))\n",
    "lbins_inds_around_init = lbins_inds_around_init[0]\n",
    "lbins_inds_around_init = np.insert(lbins_inds_around_init, 0, [lbins_inds_around_init[0]-2, lbins_inds_around_init[0]-1])\n",
    "lbins_inds_around_init = np.append(lbins_inds_around_init, [lbins_inds_around_init[-1]+1, lbins_inds_around_init[-1]+2])\n",
    "lbins_around_init = lbins[lbins_inds_around_init]\n",
    "\n",
    "heatmap_around_init = heatmap[np.ix_(abins_inds_around_init, lbins_inds_around_init)]\n",
    "\n",
    "plot_abins_init = (area_bins_around_init[0:-1] + area_bins_around_init[1:])/2\n",
    "plt.matshow(heatmap_around_init, aspect='auto', interpolation='none', \n",
    "            extent=[lbins_around_init[0], lbins_around_init[-1], area_bins_around_init[-1], area_bins_around_init[0]], origin='upper')\n",
    "plt.plot(-0.5 * mean_cell_length_around_init, y[abins_inds_around_init[0:-1]], 'w', linewidth=2)\n",
    "plt.plot(0.5 * mean_cell_length_around_init, y[abins_inds_around_init[0:-1]], 'w', linewidth=2)\n",
    "plt.axhline(init_area, color='red', linestyle='--', linewidth=2)\n",
    "plt.xlabel('Cell long axis (µm)')\n",
    "plt.ylabel('Cell size (µm$^2$)')"
   ]
  },
  {
   "cell_type": "code",
   "execution_count": 12,
   "id": "f2afa546-7470-4e95-a7d0-78ec50bd102a",
   "metadata": {},
   "outputs": [
    {
     "name": "stdout",
     "output_type": "stream",
     "text": [
      "<class 'numpy.ndarray'>\n",
      "<class 'numpy.ndarray'>\n"
     ]
    }
   ],
   "source": [
    "print(type(lbins_inds_around_init))\n",
    "print(type(abins_inds_around_init))"
   ]
  },
  {
   "cell_type": "markdown",
   "id": "ba114655-6fd3-4e2b-9908-265aab2f1c9f",
   "metadata": {},
   "source": [
    "#### Getting a fork plot slice from the single trap fork plot"
   ]
  },
  {
   "cell_type": "code",
   "execution_count": 10,
   "id": "91e38398-8e7c-4294-a6bf-1b3dd11829c7",
   "metadata": {},
   "outputs": [],
   "source": [
    "forks_filename = save_dir / Path('Pos' + str(position)) / Path('forks.csv')\n",
    "data = pd.read_csv(forks_filename)\n",
    "\n",
    "\n",
    "# filter for trap no\n",
    "trap_data = data[data['trap'] == channel_no]\n",
    "\n",
    "areas = trap_data['area'].to_numpy()\n",
    "lengths = trap_data['length'].to_numpy()\n",
    "longs = trap_data['normalized_internal_x'].to_numpy()\n",
    "counts = trap_data['normalization_counts'].to_numpy()\n",
    "heatmap_trap, mean_cell_lengths_trap, _, _, _ = generate_fork_plot(areas, lengths, longs, counts, abins=abins, lbins=lbins,\n",
    "                bin_scale=bin_scale,\n",
    "                pixel_size=pixel_size,\n",
    "                heatmap_threshold=heatmap_threshold)\n",
    "\n"
   ]
  },
  {
   "cell_type": "code",
   "execution_count": 11,
   "id": "a8a8a11a-373c-4606-a00b-f9a1faef7eac",
   "metadata": {},
   "outputs": [
    {
     "data": {
      "text/plain": [
       "Text(0, 0.5, 'Cell size (µm$^2$)')"
      ]
     },
     "execution_count": 11,
     "metadata": {},
     "output_type": "execute_result"
    }
   ],
   "source": [
    "heatmap_trap_init = heatmap_trap[np.ix_(abins_inds_around_init, lbins_inds_around_init)]\n",
    "mean_cell_lengths_trap_init = mean_cell_lengths_trap[abins_inds_around_init[0:-1]]\n",
    "\n",
    "plt.matshow(heatmap_trap_init, aspect='auto', interpolation='none', \n",
    "            extent=[lbins_around_init[0], lbins_around_init[-1], area_bins_around_init[-1], area_bins_around_init[0]], origin='upper')\n",
    "plt.plot(-0.5 * mean_cell_lengths_trap_init, y[abins_inds_around_init[0:-1]], 'w', linewidth=2)\n",
    "plt.plot(0.5 * mean_cell_lengths_trap_init, y[abins_inds_around_init[0:-1]], 'w', linewidth=2)\n",
    "plt.axhline(init_area, color='red', linestyle='--', linewidth=2)\n",
    "plt.xlabel('Cell long axis (µm)')\n",
    "plt.ylabel('Cell size (µm$^2$)')\n"
   ]
  },
  {
   "cell_type": "markdown",
   "id": "3712ecbb-8865-4472-b880-71b8736201d1",
   "metadata": {},
   "source": [
    "#### Debuggin single trap forkplot"
   ]
  },
  {
   "cell_type": "code",
   "execution_count": null,
   "id": "5cc9f970-8954-4e7f-a42b-cf43735ec311",
   "metadata": {},
   "outputs": [],
   "source": []
  },
  {
   "cell_type": "code",
   "execution_count": 61,
   "id": "f392cf86-bec8-47e4-8d94-198b3404c7bb",
   "metadata": {},
   "outputs": [
    {
     "name": "stdout",
     "output_type": "stream",
     "text": [
      "(370,)\n",
      "(370,)\n"
     ]
    }
   ],
   "source": [
    "\n",
    "bin_scale = param.Forkplots.bin_scale\n",
    "heatmap_threshold = param.Forkplots.heatmap_threshold\n",
    "pixel_size = param.Forkplots.pixel_size\n",
    "\n",
    "\n",
    "all_forks_filenames = [position_dir / Path('forks.csv') for position_dir in list(save_dir.glob('Pos*'))]\n",
    "dataframes = [pd.read_csv(filename) for filename in all_forks_filenames]\n",
    "all_data = pd.concat(dataframes, ignore_index=True)\n",
    "\n",
    "abins, lbins = generate_abins_lbins(all_data['area'].to_numpy(),\n",
    "                        all_data['length'].to_numpy(),\n",
    "                        all_data['normalized_internal_x'].to_numpy(),\n",
    "                        pixel_size=pixel_size,\n",
    "                        bin_scale=bin_scale)\n",
    "\n",
    "print(abins.shape) \n",
    "print(lbins.shape) "
   ]
  },
  {
   "cell_type": "code",
   "execution_count": 34,
   "id": "1069360c-0918-4871-a0c6-5d5090fcdf6f",
   "metadata": {},
   "outputs": [
    {
     "name": "stderr",
     "output_type": "stream",
     "text": [
      "C:\\Users\\oscbr226\\Desktop\\Initiation_Lib_Tweezer\\Code\\realtimeAnalysis\\.venv\\Lib\\site-packages\\numpy\\core\\fromnumeric.py:3504: RuntimeWarning: Mean of empty slice.\n",
      "  return _methods._mean(a, axis=axis, dtype=dtype,\n"
     ]
    }
   ],
   "source": [
    "\n",
    "forks_filename = save_dir / Path('Pos' + str(position)) / Path('forks.csv')\n",
    "data = pd.read_csv(forks_filename)\n",
    "\n",
    "\n",
    "# filter for trap no\n",
    "trap_data = data[data['trap'] == channel_no]\n",
    "\n",
    "areas = trap_data['area'].to_numpy()\n",
    "lengths = trap_data['length'].to_numpy()\n",
    "longs = trap_data['normalized_internal_x'].to_numpy()\n",
    "counts = trap_data['normalization_counts'].to_numpy()\n",
    "heatmap, mean_cell_lengths, extent = generate_fork_plot(areas, lengths, longs, counts, abins=abins, lbins=lbins,\n",
    "                bin_scale=bin_scale,\n",
    "                pixel_size=pixel_size,\n",
    "                heatmap_threshold=heatmap_threshold)\n"
   ]
  },
  {
   "cell_type": "code",
   "execution_count": 35,
   "id": "02503f29-0c78-40a5-b4b2-f2bd3a39060b",
   "metadata": {},
   "outputs": [
    {
     "data": {
      "text/plain": [
       "array([1.23947163, 1.07760388, 1.01626538, 1.11041656, 1.2924282 ,\n",
       "       1.28687975, 1.4333637 , 1.46434401, 1.2179682 , 1.49853767,\n",
       "       1.55044694, 1.45165156, 1.53293816, 1.58808346, 1.55709633,\n",
       "       1.59829198, 1.76251148, 1.65741037, 1.73405509, 1.70148784,\n",
       "       1.75349614, 1.85064651, 1.80308845, 1.92399042, 1.92726053,\n",
       "       1.99268495, 1.95117048, 1.95416739, 2.07666608, 2.07678579,\n",
       "       2.13770196, 2.18045057, 2.22605986, 2.27963872, 2.2987699 ,\n",
       "       2.3375184 , 2.36987367, 2.42830591, 2.45106556, 2.5591727 ,\n",
       "       2.66995233, 2.60935588, 2.63037579, 2.76433842, 2.78237184,\n",
       "       2.82330265, 2.91427575, 2.92250729, 3.00263082, 3.00088817,\n",
       "       3.04044379, 3.07131727, 3.14181206, 3.272286  , 3.21861925,\n",
       "       3.27401881, 3.41680744, 3.28777772, 3.41565973, 3.40830752,\n",
       "       3.47606152, 3.52568145, 3.5703132 , 3.67766986, 3.66142326,\n",
       "       3.74163873, 3.74628934, 3.77530204, 3.85525881, 3.85653324,\n",
       "       3.86229918, 3.89844996, 3.80101465, 4.04134126, 4.17514203,\n",
       "       3.82166239, 4.01038708, 4.10032385, 4.46664106, 4.2635183 ,\n",
       "       4.22681888,        nan,        nan, 4.43723088,        nan,\n",
       "              nan, 4.70059691,        nan,        nan,        nan,\n",
       "       4.74349616,        nan,        nan, 4.88162274,        nan,\n",
       "       4.87965644,        nan, 5.14582943, 5.06239636,        nan,\n",
       "              nan, 5.29514737,        nan,        nan, 5.4786781 ,\n",
       "       5.74517114,        nan,        nan,        nan,        nan,\n",
       "              nan,        nan,        nan,        nan,        nan,\n",
       "       6.35221051,        nan, 6.12313358,        nan,        nan,\n",
       "              nan,        nan,        nan,        nan,        nan,\n",
       "              nan,        nan, 6.62945555,        nan,        nan,\n",
       "              nan,        nan, 6.81288169,        nan,        nan,\n",
       "              nan, 7.36440161,        nan,        nan,        nan,\n",
       "       7.08887244,        nan,        nan,        nan,        nan,\n",
       "              nan,        nan,        nan,        nan,        nan,\n",
       "              nan,        nan,        nan,        nan,        nan,\n",
       "              nan,        nan,        nan,        nan,        nan,\n",
       "              nan,        nan,        nan,        nan,        nan,\n",
       "              nan,        nan,        nan,        nan,        nan,\n",
       "              nan,        nan,        nan,        nan,        nan,\n",
       "              nan,        nan,        nan,        nan,        nan,\n",
       "              nan,        nan,        nan,        nan,        nan,\n",
       "              nan,        nan,        nan,        nan,        nan,\n",
       "              nan,        nan,        nan,        nan,        nan,\n",
       "              nan,        nan,        nan,        nan,        nan,\n",
       "              nan,        nan,        nan,        nan,        nan,\n",
       "              nan,        nan,        nan,        nan,        nan,\n",
       "              nan,        nan,        nan,        nan,        nan,\n",
       "              nan,        nan,        nan,        nan,        nan,\n",
       "              nan,        nan,        nan,        nan,        nan,\n",
       "              nan,        nan,        nan,        nan,        nan,\n",
       "              nan,        nan,        nan,        nan,        nan,\n",
       "              nan,        nan,        nan,        nan,        nan,\n",
       "              nan,        nan,        nan,        nan,        nan,\n",
       "              nan,        nan,        nan,        nan,        nan,\n",
       "              nan,        nan,        nan,        nan,        nan,\n",
       "              nan,        nan,        nan,        nan,        nan,\n",
       "              nan,        nan,        nan,        nan,        nan,\n",
       "              nan,        nan,        nan,        nan,        nan,\n",
       "              nan,        nan,        nan,        nan,        nan,\n",
       "              nan,        nan,        nan,        nan,        nan,\n",
       "              nan,        nan,        nan,        nan,        nan,\n",
       "              nan,        nan,        nan,        nan,        nan,\n",
       "              nan,        nan,        nan,        nan,        nan,\n",
       "              nan,        nan,        nan,        nan,        nan,\n",
       "              nan,        nan,        nan,        nan,        nan,\n",
       "              nan,        nan,        nan,        nan,        nan,\n",
       "              nan,        nan,        nan,        nan,        nan,\n",
       "              nan,        nan,        nan,        nan,        nan,\n",
       "              nan,        nan,        nan,        nan,        nan,\n",
       "              nan,        nan,        nan,        nan,        nan,\n",
       "              nan,        nan,        nan,        nan,        nan,\n",
       "              nan,        nan,        nan,        nan,        nan,\n",
       "              nan,        nan,        nan,        nan,        nan,\n",
       "              nan,        nan,        nan,        nan,        nan,\n",
       "              nan,        nan,        nan,        nan,        nan,\n",
       "              nan,        nan,        nan,        nan,        nan,\n",
       "              nan,        nan,        nan,        nan,        nan,\n",
       "              nan,        nan,        nan,        nan])"
      ]
     },
     "execution_count": 35,
     "metadata": {},
     "output_type": "execute_result"
    }
   ],
   "source": [
    "mean_cell_lengths"
   ]
  },
  {
   "cell_type": "code",
   "execution_count": 36,
   "id": "e64325ab-fe70-4b0d-9ffa-3b2f55c26d50",
   "metadata": {},
   "outputs": [
    {
     "ename": "ValueError",
     "evalue": "x and y must have same first dimension, but have shapes (369,) and (183,)",
     "output_type": "error",
     "traceback": [
      "\u001b[1;31m---------------------------------------------------------------------------\u001b[0m",
      "\u001b[1;31mValueError\u001b[0m                                Traceback (most recent call last)",
      "Cell \u001b[1;32mIn[36], line 2\u001b[0m\n\u001b[0;32m      1\u001b[0m plt\u001b[38;5;241m.\u001b[39mmatshow(heatmap, aspect\u001b[38;5;241m=\u001b[39m\u001b[38;5;124m'\u001b[39m\u001b[38;5;124mauto\u001b[39m\u001b[38;5;124m'\u001b[39m, interpolation\u001b[38;5;241m=\u001b[39m\u001b[38;5;124m'\u001b[39m\u001b[38;5;124mnone\u001b[39m\u001b[38;5;124m'\u001b[39m, extent\u001b[38;5;241m=\u001b[39m[x[\u001b[38;5;241m0\u001b[39m], x[\u001b[38;5;241m-\u001b[39m\u001b[38;5;241m1\u001b[39m], y[\u001b[38;5;241m-\u001b[39m\u001b[38;5;241m1\u001b[39m], y[\u001b[38;5;241m0\u001b[39m]], origin\u001b[38;5;241m=\u001b[39m\u001b[38;5;124m'\u001b[39m\u001b[38;5;124mupper\u001b[39m\u001b[38;5;124m'\u001b[39m)\n\u001b[1;32m----> 2\u001b[0m \u001b[43mplt\u001b[49m\u001b[38;5;241;43m.\u001b[39;49m\u001b[43mplot\u001b[49m\u001b[43m(\u001b[49m\u001b[38;5;241;43m-\u001b[39;49m\u001b[38;5;241;43m0.5\u001b[39;49m\u001b[43m \u001b[49m\u001b[38;5;241;43m*\u001b[39;49m\u001b[43m \u001b[49m\u001b[43mmean_cell_lengths\u001b[49m\u001b[43m,\u001b[49m\u001b[43m \u001b[49m\u001b[43my\u001b[49m\u001b[43m,\u001b[49m\u001b[43m \u001b[49m\u001b[38;5;124;43m'\u001b[39;49m\u001b[38;5;124;43mw\u001b[39;49m\u001b[38;5;124;43m'\u001b[39;49m\u001b[43m,\u001b[49m\u001b[43m \u001b[49m\u001b[43mlinewidth\u001b[49m\u001b[38;5;241;43m=\u001b[39;49m\u001b[38;5;241;43m2\u001b[39;49m\u001b[43m)\u001b[49m\n\u001b[0;32m      3\u001b[0m plt\u001b[38;5;241m.\u001b[39mplot(\u001b[38;5;241m0.5\u001b[39m \u001b[38;5;241m*\u001b[39m mean_cell_lengths, y, \u001b[38;5;124m'\u001b[39m\u001b[38;5;124mw\u001b[39m\u001b[38;5;124m'\u001b[39m, linewidth\u001b[38;5;241m=\u001b[39m\u001b[38;5;241m2\u001b[39m)\n\u001b[0;32m      4\u001b[0m plt\u001b[38;5;241m.\u001b[39mxlabel(\u001b[38;5;124m'\u001b[39m\u001b[38;5;124mCell long axis (µm)\u001b[39m\u001b[38;5;124m'\u001b[39m)\n",
      "File \u001b[1;32m~\\Desktop\\Initiation_Lib_Tweezer\\Code\\realtimeAnalysis\\.venv\\Lib\\site-packages\\matplotlib\\pyplot.py:3829\u001b[0m, in \u001b[0;36mplot\u001b[1;34m(scalex, scaley, data, *args, **kwargs)\u001b[0m\n\u001b[0;32m   3821\u001b[0m \u001b[38;5;129m@_copy_docstring_and_deprecators\u001b[39m(Axes\u001b[38;5;241m.\u001b[39mplot)\n\u001b[0;32m   3822\u001b[0m \u001b[38;5;28;01mdef\u001b[39;00m\u001b[38;5;250m \u001b[39m\u001b[38;5;21mplot\u001b[39m(\n\u001b[0;32m   3823\u001b[0m     \u001b[38;5;241m*\u001b[39margs: \u001b[38;5;28mfloat\u001b[39m \u001b[38;5;241m|\u001b[39m ArrayLike \u001b[38;5;241m|\u001b[39m \u001b[38;5;28mstr\u001b[39m,\n\u001b[1;32m   (...)\u001b[0m\n\u001b[0;32m   3827\u001b[0m     \u001b[38;5;241m*\u001b[39m\u001b[38;5;241m*\u001b[39mkwargs,\n\u001b[0;32m   3828\u001b[0m ) \u001b[38;5;241m-\u001b[39m\u001b[38;5;241m>\u001b[39m \u001b[38;5;28mlist\u001b[39m[Line2D]:\n\u001b[1;32m-> 3829\u001b[0m     \u001b[38;5;28;01mreturn\u001b[39;00m \u001b[43mgca\u001b[49m\u001b[43m(\u001b[49m\u001b[43m)\u001b[49m\u001b[38;5;241;43m.\u001b[39;49m\u001b[43mplot\u001b[49m\u001b[43m(\u001b[49m\n\u001b[0;32m   3830\u001b[0m \u001b[43m        \u001b[49m\u001b[38;5;241;43m*\u001b[39;49m\u001b[43margs\u001b[49m\u001b[43m,\u001b[49m\n\u001b[0;32m   3831\u001b[0m \u001b[43m        \u001b[49m\u001b[43mscalex\u001b[49m\u001b[38;5;241;43m=\u001b[39;49m\u001b[43mscalex\u001b[49m\u001b[43m,\u001b[49m\n\u001b[0;32m   3832\u001b[0m \u001b[43m        \u001b[49m\u001b[43mscaley\u001b[49m\u001b[38;5;241;43m=\u001b[39;49m\u001b[43mscaley\u001b[49m\u001b[43m,\u001b[49m\n\u001b[0;32m   3833\u001b[0m \u001b[43m        \u001b[49m\u001b[38;5;241;43m*\u001b[39;49m\u001b[38;5;241;43m*\u001b[39;49m\u001b[43m(\u001b[49m\u001b[43m{\u001b[49m\u001b[38;5;124;43m\"\u001b[39;49m\u001b[38;5;124;43mdata\u001b[39;49m\u001b[38;5;124;43m\"\u001b[39;49m\u001b[43m:\u001b[49m\u001b[43m \u001b[49m\u001b[43mdata\u001b[49m\u001b[43m}\u001b[49m\u001b[43m \u001b[49m\u001b[38;5;28;43;01mif\u001b[39;49;00m\u001b[43m \u001b[49m\u001b[43mdata\u001b[49m\u001b[43m \u001b[49m\u001b[38;5;129;43;01mis\u001b[39;49;00m\u001b[43m \u001b[49m\u001b[38;5;129;43;01mnot\u001b[39;49;00m\u001b[43m \u001b[49m\u001b[38;5;28;43;01mNone\u001b[39;49;00m\u001b[43m \u001b[49m\u001b[38;5;28;43;01melse\u001b[39;49;00m\u001b[43m \u001b[49m\u001b[43m{\u001b[49m\u001b[43m}\u001b[49m\u001b[43m)\u001b[49m\u001b[43m,\u001b[49m\n\u001b[0;32m   3834\u001b[0m \u001b[43m        \u001b[49m\u001b[38;5;241;43m*\u001b[39;49m\u001b[38;5;241;43m*\u001b[39;49m\u001b[43mkwargs\u001b[49m\u001b[43m,\u001b[49m\n\u001b[0;32m   3835\u001b[0m \u001b[43m    \u001b[49m\u001b[43m)\u001b[49m\n",
      "File \u001b[1;32m~\\Desktop\\Initiation_Lib_Tweezer\\Code\\realtimeAnalysis\\.venv\\Lib\\site-packages\\matplotlib\\axes\\_axes.py:1777\u001b[0m, in \u001b[0;36mAxes.plot\u001b[1;34m(self, scalex, scaley, data, *args, **kwargs)\u001b[0m\n\u001b[0;32m   1534\u001b[0m \u001b[38;5;250m\u001b[39m\u001b[38;5;124;03m\"\"\"\u001b[39;00m\n\u001b[0;32m   1535\u001b[0m \u001b[38;5;124;03mPlot y versus x as lines and/or markers.\u001b[39;00m\n\u001b[0;32m   1536\u001b[0m \n\u001b[1;32m   (...)\u001b[0m\n\u001b[0;32m   1774\u001b[0m \u001b[38;5;124;03m(``'green'``) or hex strings (``'#008000'``).\u001b[39;00m\n\u001b[0;32m   1775\u001b[0m \u001b[38;5;124;03m\"\"\"\u001b[39;00m\n\u001b[0;32m   1776\u001b[0m kwargs \u001b[38;5;241m=\u001b[39m cbook\u001b[38;5;241m.\u001b[39mnormalize_kwargs(kwargs, mlines\u001b[38;5;241m.\u001b[39mLine2D)\n\u001b[1;32m-> 1777\u001b[0m lines \u001b[38;5;241m=\u001b[39m [\u001b[38;5;241m*\u001b[39m\u001b[38;5;28mself\u001b[39m\u001b[38;5;241m.\u001b[39m_get_lines(\u001b[38;5;28mself\u001b[39m, \u001b[38;5;241m*\u001b[39margs, data\u001b[38;5;241m=\u001b[39mdata, \u001b[38;5;241m*\u001b[39m\u001b[38;5;241m*\u001b[39mkwargs)]\n\u001b[0;32m   1778\u001b[0m \u001b[38;5;28;01mfor\u001b[39;00m line \u001b[38;5;129;01min\u001b[39;00m lines:\n\u001b[0;32m   1779\u001b[0m     \u001b[38;5;28mself\u001b[39m\u001b[38;5;241m.\u001b[39madd_line(line)\n",
      "File \u001b[1;32m~\\Desktop\\Initiation_Lib_Tweezer\\Code\\realtimeAnalysis\\.venv\\Lib\\site-packages\\matplotlib\\axes\\_base.py:297\u001b[0m, in \u001b[0;36m_process_plot_var_args.__call__\u001b[1;34m(self, axes, data, return_kwargs, *args, **kwargs)\u001b[0m\n\u001b[0;32m    295\u001b[0m     this \u001b[38;5;241m+\u001b[39m\u001b[38;5;241m=\u001b[39m args[\u001b[38;5;241m0\u001b[39m],\n\u001b[0;32m    296\u001b[0m     args \u001b[38;5;241m=\u001b[39m args[\u001b[38;5;241m1\u001b[39m:]\n\u001b[1;32m--> 297\u001b[0m \u001b[38;5;28;01myield from\u001b[39;00m \u001b[38;5;28;43mself\u001b[39;49m\u001b[38;5;241;43m.\u001b[39;49m\u001b[43m_plot_args\u001b[49m\u001b[43m(\u001b[49m\n\u001b[0;32m    298\u001b[0m \u001b[43m    \u001b[49m\u001b[43maxes\u001b[49m\u001b[43m,\u001b[49m\u001b[43m \u001b[49m\u001b[43mthis\u001b[49m\u001b[43m,\u001b[49m\u001b[43m \u001b[49m\u001b[43mkwargs\u001b[49m\u001b[43m,\u001b[49m\u001b[43m \u001b[49m\u001b[43mambiguous_fmt_datakey\u001b[49m\u001b[38;5;241;43m=\u001b[39;49m\u001b[43mambiguous_fmt_datakey\u001b[49m\u001b[43m,\u001b[49m\n\u001b[0;32m    299\u001b[0m \u001b[43m    \u001b[49m\u001b[43mreturn_kwargs\u001b[49m\u001b[38;5;241;43m=\u001b[39;49m\u001b[43mreturn_kwargs\u001b[49m\n\u001b[0;32m    300\u001b[0m \u001b[43m\u001b[49m\u001b[43m)\u001b[49m\n",
      "File \u001b[1;32m~\\Desktop\\Initiation_Lib_Tweezer\\Code\\realtimeAnalysis\\.venv\\Lib\\site-packages\\matplotlib\\axes\\_base.py:494\u001b[0m, in \u001b[0;36m_process_plot_var_args._plot_args\u001b[1;34m(self, axes, tup, kwargs, return_kwargs, ambiguous_fmt_datakey)\u001b[0m\n\u001b[0;32m    491\u001b[0m     axes\u001b[38;5;241m.\u001b[39myaxis\u001b[38;5;241m.\u001b[39mupdate_units(y)\n\u001b[0;32m    493\u001b[0m \u001b[38;5;28;01mif\u001b[39;00m x\u001b[38;5;241m.\u001b[39mshape[\u001b[38;5;241m0\u001b[39m] \u001b[38;5;241m!=\u001b[39m y\u001b[38;5;241m.\u001b[39mshape[\u001b[38;5;241m0\u001b[39m]:\n\u001b[1;32m--> 494\u001b[0m     \u001b[38;5;28;01mraise\u001b[39;00m \u001b[38;5;167;01mValueError\u001b[39;00m(\u001b[38;5;124mf\u001b[39m\u001b[38;5;124m\"\u001b[39m\u001b[38;5;124mx and y must have same first dimension, but \u001b[39m\u001b[38;5;124m\"\u001b[39m\n\u001b[0;32m    495\u001b[0m                      \u001b[38;5;124mf\u001b[39m\u001b[38;5;124m\"\u001b[39m\u001b[38;5;124mhave shapes \u001b[39m\u001b[38;5;132;01m{\u001b[39;00mx\u001b[38;5;241m.\u001b[39mshape\u001b[38;5;132;01m}\u001b[39;00m\u001b[38;5;124m and \u001b[39m\u001b[38;5;132;01m{\u001b[39;00my\u001b[38;5;241m.\u001b[39mshape\u001b[38;5;132;01m}\u001b[39;00m\u001b[38;5;124m\"\u001b[39m)\n\u001b[0;32m    496\u001b[0m \u001b[38;5;28;01mif\u001b[39;00m x\u001b[38;5;241m.\u001b[39mndim \u001b[38;5;241m>\u001b[39m \u001b[38;5;241m2\u001b[39m \u001b[38;5;129;01mor\u001b[39;00m y\u001b[38;5;241m.\u001b[39mndim \u001b[38;5;241m>\u001b[39m \u001b[38;5;241m2\u001b[39m:\n\u001b[0;32m    497\u001b[0m     \u001b[38;5;28;01mraise\u001b[39;00m \u001b[38;5;167;01mValueError\u001b[39;00m(\u001b[38;5;124mf\u001b[39m\u001b[38;5;124m\"\u001b[39m\u001b[38;5;124mx and y can be no greater than 2D, but have \u001b[39m\u001b[38;5;124m\"\u001b[39m\n\u001b[0;32m    498\u001b[0m                      \u001b[38;5;124mf\u001b[39m\u001b[38;5;124m\"\u001b[39m\u001b[38;5;124mshapes \u001b[39m\u001b[38;5;132;01m{\u001b[39;00mx\u001b[38;5;241m.\u001b[39mshape\u001b[38;5;132;01m}\u001b[39;00m\u001b[38;5;124m and \u001b[39m\u001b[38;5;132;01m{\u001b[39;00my\u001b[38;5;241m.\u001b[39mshape\u001b[38;5;132;01m}\u001b[39;00m\u001b[38;5;124m\"\u001b[39m)\n",
      "\u001b[1;31mValueError\u001b[0m: x and y must have same first dimension, but have shapes (369,) and (183,)"
     ]
    }
   ],
   "source": [
    "\n",
    "plt.matshow(heatmap, aspect='auto', interpolation='none', extent=[x[0], x[-1], y[-1], y[0]], origin='upper')\n",
    "plt.plot(-0.5 * mean_cell_lengths, y, 'w', linewidth=2)\n",
    "plt.plot(0.5 * mean_cell_lengths, y, 'w', linewidth=2)\n",
    "plt.xlabel('Cell long axis (µm)')\n",
    "plt.ylabel('Cell size (µm^2)')"
   ]
  },
  {
   "cell_type": "code",
   "execution_count": null,
   "id": "9e189d76-a64c-4f56-ac57-f79eb46f2b82",
   "metadata": {},
   "outputs": [],
   "source": []
  },
  {
   "cell_type": "code",
   "execution_count": null,
   "id": "ab5865a3-afcf-4305-b6ec-25ff6946b49a",
   "metadata": {},
   "outputs": [],
   "source": []
  },
  {
   "cell_type": "code",
   "execution_count": 5,
   "id": "8af6eeb2-05c3-4575-82bf-b56aa8b2d4ac",
   "metadata": {},
   "outputs": [
    {
     "name": "stderr",
     "output_type": "stream",
     "text": [
      "/home/pk/Documents/rtclient/.venv/lib/python3.11/site-packages/numpy/core/fromnumeric.py:3504: RuntimeWarning: Mean of empty slice.\n",
      "  return _methods._mean(a, axis=axis, dtype=dtype,\n"
     ]
    }
   ],
   "source": [
    "d = read_files('single_trap_data_forks', param, 1, 1)"
   ]
  },
  {
   "cell_type": "code",
   "execution_count": 6,
   "id": "2f561cec-42e0-43d0-bd43-ea82c116586e",
   "metadata": {},
   "outputs": [
    {
     "name": "stdout",
     "output_type": "stream",
     "text": [
      "(46, 12)\n"
     ]
    }
   ],
   "source": [
    "save_dir = param.Save.directory\n",
    "position = 1\n",
    "channel_no = 1\n",
    "forks_filename = save_dir / Path('Pos' + str(position)) / Path('forks.csv')\n",
    "data = pd.read_csv(forks_filename)\n",
    "\n",
    "# filter for trap no\n",
    "trap_data = data[data['trap'] == channel_no]\n",
    "print(trap_data.shape)\n",
    "\n",
    "areas = trap_data['area']\n",
    "lengths = trap_data['length'] \n",
    "longs = trap_data['normalized_internal_x']\n",
    "counts = trap_data['normalization_counts']"
   ]
  },
  {
   "cell_type": "code",
   "execution_count": 12,
   "id": "5374a361-17c9-4e27-8978-22ff12e504ba",
   "metadata": {},
   "outputs": [
    {
     "data": {
      "text/plain": [
       "array([ 674.,  674.,  674.,  978.,  978.,  978.,  978.,  899.,  899.,\n",
       "        899.,  899.,  847.,  847.,  847.,  847.,  517.,  616.,  616.,\n",
       "        616., 1755., 1755., 1755., 1755., 1755.,  498.,  498., 1043.,\n",
       "       1043., 1043., 1043., 1043., 1043., 1043., 1043., 2638., 2638.,\n",
       "       2638., 2638., 2638., 2638., 2638., 2638., 2638.,  624.,  624.,\n",
       "        624.])"
      ]
     },
     "execution_count": 12,
     "metadata": {},
     "output_type": "execute_result"
    }
   ],
   "source": [
    "areas.to_numpy()"
   ]
  },
  {
   "cell_type": "code",
   "execution_count": 7,
   "id": "87f51452-311c-4f2b-bfd6-6e6138ae688a",
   "metadata": {},
   "outputs": [
    {
     "name": "stdout",
     "output_type": "stream",
     "text": [
      "[ 0  1  2  3  4  5  6  7  8  9 10 11 12 13 14 15 16 17 18 19 20 21 22 23\n",
      " 24 25 26 27 28 29 30 31 32 33 34 35 36 37 38 39 40 41 42 43 44 45]\n"
     ]
    },
    {
     "ename": "KeyError",
     "evalue": "'[0, 1, 2, 3, 4, 5, 6, 7, 8, 9, 10, 11, 15, 16, 17, 18, 19, 20, 21, 22, 23, 24, 25, 26, 27, 28, 29, 30, 31, 32, 33, 34, 35, 36, 37, 38, 39, 40, 41, 42, 43, 44, 45] not in index'",
     "output_type": "error",
     "traceback": [
      "\u001b[0;31m---------------------------------------------------------------------------\u001b[0m",
      "\u001b[0;31mKeyError\u001b[0m                                  Traceback (most recent call last)",
      "Cell \u001b[0;32mIn[7], line 5\u001b[0m\n\u001b[1;32m      2\u001b[0m heatmap_threshold \u001b[38;5;241m=\u001b[39m param\u001b[38;5;241m.\u001b[39mForkplots\u001b[38;5;241m.\u001b[39mheatmap_threshold\n\u001b[1;32m      3\u001b[0m pixel_size \u001b[38;5;241m=\u001b[39m param\u001b[38;5;241m.\u001b[39mForkplots\u001b[38;5;241m.\u001b[39mpixel_size\n\u001b[0;32m----> 5\u001b[0m heatmap, mean_cell_lengths, extent \u001b[38;5;241m=\u001b[39m \u001b[43mgenerate_fork_plot\u001b[49m\u001b[43m(\u001b[49m\u001b[43mareas\u001b[49m\u001b[43m,\u001b[49m\u001b[43m \u001b[49m\u001b[43mlengths\u001b[49m\u001b[43m,\u001b[49m\u001b[43m \u001b[49m\u001b[43mlongs\u001b[49m\u001b[43m,\u001b[49m\u001b[43m \u001b[49m\u001b[43mcounts\u001b[49m\u001b[43m,\u001b[49m\n\u001b[1;32m      6\u001b[0m \u001b[43m                \u001b[49m\u001b[43mbin_scale\u001b[49m\u001b[38;5;241;43m=\u001b[39;49m\u001b[43mbin_scale\u001b[49m\u001b[43m,\u001b[49m\n\u001b[1;32m      7\u001b[0m \u001b[43m                \u001b[49m\u001b[43mpixel_size\u001b[49m\u001b[38;5;241;43m=\u001b[39;49m\u001b[43mpixel_size\u001b[49m\u001b[43m,\u001b[49m\n\u001b[1;32m      8\u001b[0m \u001b[43m                \u001b[49m\u001b[43mheatmap_threshold\u001b[49m\u001b[38;5;241;43m=\u001b[39;49m\u001b[43mheatmap_threshold\u001b[49m\u001b[43m)\u001b[49m\n",
      "File \u001b[0;32m~/Documents/rtseg/rtseg/cells/plotting.py:19\u001b[0m, in \u001b[0;36mgenerate_fork_plot\u001b[0;34m(areas, lengths, longs, counts, bin_scale, pixel_size, heatmap_threshold)\u001b[0m\n\u001b[1;32m     17\u001b[0m longs \u001b[38;5;241m=\u001b[39m longs \u001b[38;5;241m-\u001b[39m \u001b[38;5;241m0.5\u001b[39m\n\u001b[1;32m     18\u001b[0m rescaled_lengths \u001b[38;5;241m=\u001b[39m lengths \u001b[38;5;241m*\u001b[39m longs\n\u001b[0;32m---> 19\u001b[0m rescaled_lengths_filtered \u001b[38;5;241m=\u001b[39m \u001b[43mrescaled_lengths\u001b[49m\u001b[43m[\u001b[49m\u001b[43mainds\u001b[49m\u001b[43m]\u001b[49m\n\u001b[1;32m     21\u001b[0m lmax \u001b[38;5;241m=\u001b[39m \u001b[38;5;28mmax\u001b[39m(rescaled_lengths_filtered)\n\u001b[1;32m     22\u001b[0m lmin \u001b[38;5;241m=\u001b[39m \u001b[38;5;28mmin\u001b[39m(rescaled_lengths_filtered)\n",
      "File \u001b[0;32m~/Documents/rtclient/.venv/lib/python3.11/site-packages/pandas/core/series.py:1153\u001b[0m, in \u001b[0;36mSeries.__getitem__\u001b[0;34m(self, key)\u001b[0m\n\u001b[1;32m   1150\u001b[0m     key \u001b[38;5;241m=\u001b[39m np\u001b[38;5;241m.\u001b[39masarray(key, dtype\u001b[38;5;241m=\u001b[39m\u001b[38;5;28mbool\u001b[39m)\n\u001b[1;32m   1151\u001b[0m     \u001b[38;5;28;01mreturn\u001b[39;00m \u001b[38;5;28mself\u001b[39m\u001b[38;5;241m.\u001b[39m_get_rows_with_mask(key)\n\u001b[0;32m-> 1153\u001b[0m \u001b[38;5;28;01mreturn\u001b[39;00m \u001b[38;5;28;43mself\u001b[39;49m\u001b[38;5;241;43m.\u001b[39;49m\u001b[43m_get_with\u001b[49m\u001b[43m(\u001b[49m\u001b[43mkey\u001b[49m\u001b[43m)\u001b[49m\n",
      "File \u001b[0;32m~/Documents/rtclient/.venv/lib/python3.11/site-packages/pandas/core/series.py:1180\u001b[0m, in \u001b[0;36mSeries._get_with\u001b[0;34m(self, key)\u001b[0m\n\u001b[1;32m   1176\u001b[0m \u001b[38;5;28;01mif\u001b[39;00m key_type \u001b[38;5;241m==\u001b[39m \u001b[38;5;124m\"\u001b[39m\u001b[38;5;124minteger\u001b[39m\u001b[38;5;124m\"\u001b[39m:\n\u001b[1;32m   1177\u001b[0m     \u001b[38;5;66;03m# We need to decide whether to treat this as a positional indexer\u001b[39;00m\n\u001b[1;32m   1178\u001b[0m     \u001b[38;5;66;03m#  (i.e. self.iloc) or label-based (i.e. self.loc)\u001b[39;00m\n\u001b[1;32m   1179\u001b[0m     \u001b[38;5;28;01mif\u001b[39;00m \u001b[38;5;129;01mnot\u001b[39;00m \u001b[38;5;28mself\u001b[39m\u001b[38;5;241m.\u001b[39mindex\u001b[38;5;241m.\u001b[39m_should_fallback_to_positional:\n\u001b[0;32m-> 1180\u001b[0m         \u001b[38;5;28;01mreturn\u001b[39;00m \u001b[38;5;28;43mself\u001b[39;49m\u001b[38;5;241;43m.\u001b[39;49m\u001b[43mloc\u001b[49m\u001b[43m[\u001b[49m\u001b[43mkey\u001b[49m\u001b[43m]\u001b[49m\n\u001b[1;32m   1181\u001b[0m     \u001b[38;5;28;01melse\u001b[39;00m:\n\u001b[1;32m   1182\u001b[0m         warnings\u001b[38;5;241m.\u001b[39mwarn(\n\u001b[1;32m   1183\u001b[0m             \u001b[38;5;66;03m# GH#50617\u001b[39;00m\n\u001b[1;32m   1184\u001b[0m             \u001b[38;5;124m\"\u001b[39m\u001b[38;5;124mSeries.__getitem__ treating keys as positions is deprecated. \u001b[39m\u001b[38;5;124m\"\u001b[39m\n\u001b[0;32m   (...)\u001b[0m\n\u001b[1;32m   1189\u001b[0m             stacklevel\u001b[38;5;241m=\u001b[39mfind_stack_level(),\n\u001b[1;32m   1190\u001b[0m         )\n",
      "File \u001b[0;32m~/Documents/rtclient/.venv/lib/python3.11/site-packages/pandas/core/indexing.py:1191\u001b[0m, in \u001b[0;36m_LocationIndexer.__getitem__\u001b[0;34m(self, key)\u001b[0m\n\u001b[1;32m   1189\u001b[0m maybe_callable \u001b[38;5;241m=\u001b[39m com\u001b[38;5;241m.\u001b[39mapply_if_callable(key, \u001b[38;5;28mself\u001b[39m\u001b[38;5;241m.\u001b[39mobj)\n\u001b[1;32m   1190\u001b[0m maybe_callable \u001b[38;5;241m=\u001b[39m \u001b[38;5;28mself\u001b[39m\u001b[38;5;241m.\u001b[39m_check_deprecated_callable_usage(key, maybe_callable)\n\u001b[0;32m-> 1191\u001b[0m \u001b[38;5;28;01mreturn\u001b[39;00m \u001b[38;5;28;43mself\u001b[39;49m\u001b[38;5;241;43m.\u001b[39;49m\u001b[43m_getitem_axis\u001b[49m\u001b[43m(\u001b[49m\u001b[43mmaybe_callable\u001b[49m\u001b[43m,\u001b[49m\u001b[43m \u001b[49m\u001b[43maxis\u001b[49m\u001b[38;5;241;43m=\u001b[39;49m\u001b[43maxis\u001b[49m\u001b[43m)\u001b[49m\n",
      "File \u001b[0;32m~/Documents/rtclient/.venv/lib/python3.11/site-packages/pandas/core/indexing.py:1420\u001b[0m, in \u001b[0;36m_LocIndexer._getitem_axis\u001b[0;34m(self, key, axis)\u001b[0m\n\u001b[1;32m   1417\u001b[0m     \u001b[38;5;28;01mif\u001b[39;00m \u001b[38;5;28mhasattr\u001b[39m(key, \u001b[38;5;124m\"\u001b[39m\u001b[38;5;124mndim\u001b[39m\u001b[38;5;124m\"\u001b[39m) \u001b[38;5;129;01mand\u001b[39;00m key\u001b[38;5;241m.\u001b[39mndim \u001b[38;5;241m>\u001b[39m \u001b[38;5;241m1\u001b[39m:\n\u001b[1;32m   1418\u001b[0m         \u001b[38;5;28;01mraise\u001b[39;00m \u001b[38;5;167;01mValueError\u001b[39;00m(\u001b[38;5;124m\"\u001b[39m\u001b[38;5;124mCannot index with multidimensional key\u001b[39m\u001b[38;5;124m\"\u001b[39m)\n\u001b[0;32m-> 1420\u001b[0m     \u001b[38;5;28;01mreturn\u001b[39;00m \u001b[38;5;28;43mself\u001b[39;49m\u001b[38;5;241;43m.\u001b[39;49m\u001b[43m_getitem_iterable\u001b[49m\u001b[43m(\u001b[49m\u001b[43mkey\u001b[49m\u001b[43m,\u001b[49m\u001b[43m \u001b[49m\u001b[43maxis\u001b[49m\u001b[38;5;241;43m=\u001b[39;49m\u001b[43maxis\u001b[49m\u001b[43m)\u001b[49m\n\u001b[1;32m   1422\u001b[0m \u001b[38;5;66;03m# nested tuple slicing\u001b[39;00m\n\u001b[1;32m   1423\u001b[0m \u001b[38;5;28;01mif\u001b[39;00m is_nested_tuple(key, labels):\n",
      "File \u001b[0;32m~/Documents/rtclient/.venv/lib/python3.11/site-packages/pandas/core/indexing.py:1360\u001b[0m, in \u001b[0;36m_LocIndexer._getitem_iterable\u001b[0;34m(self, key, axis)\u001b[0m\n\u001b[1;32m   1357\u001b[0m \u001b[38;5;28mself\u001b[39m\u001b[38;5;241m.\u001b[39m_validate_key(key, axis)\n\u001b[1;32m   1359\u001b[0m \u001b[38;5;66;03m# A collection of keys\u001b[39;00m\n\u001b[0;32m-> 1360\u001b[0m keyarr, indexer \u001b[38;5;241m=\u001b[39m \u001b[38;5;28;43mself\u001b[39;49m\u001b[38;5;241;43m.\u001b[39;49m\u001b[43m_get_listlike_indexer\u001b[49m\u001b[43m(\u001b[49m\u001b[43mkey\u001b[49m\u001b[43m,\u001b[49m\u001b[43m \u001b[49m\u001b[43maxis\u001b[49m\u001b[43m)\u001b[49m\n\u001b[1;32m   1361\u001b[0m \u001b[38;5;28;01mreturn\u001b[39;00m \u001b[38;5;28mself\u001b[39m\u001b[38;5;241m.\u001b[39mobj\u001b[38;5;241m.\u001b[39m_reindex_with_indexers(\n\u001b[1;32m   1362\u001b[0m     {axis: [keyarr, indexer]}, copy\u001b[38;5;241m=\u001b[39m\u001b[38;5;28;01mTrue\u001b[39;00m, allow_dups\u001b[38;5;241m=\u001b[39m\u001b[38;5;28;01mTrue\u001b[39;00m\n\u001b[1;32m   1363\u001b[0m )\n",
      "File \u001b[0;32m~/Documents/rtclient/.venv/lib/python3.11/site-packages/pandas/core/indexing.py:1558\u001b[0m, in \u001b[0;36m_LocIndexer._get_listlike_indexer\u001b[0;34m(self, key, axis)\u001b[0m\n\u001b[1;32m   1555\u001b[0m ax \u001b[38;5;241m=\u001b[39m \u001b[38;5;28mself\u001b[39m\u001b[38;5;241m.\u001b[39mobj\u001b[38;5;241m.\u001b[39m_get_axis(axis)\n\u001b[1;32m   1556\u001b[0m axis_name \u001b[38;5;241m=\u001b[39m \u001b[38;5;28mself\u001b[39m\u001b[38;5;241m.\u001b[39mobj\u001b[38;5;241m.\u001b[39m_get_axis_name(axis)\n\u001b[0;32m-> 1558\u001b[0m keyarr, indexer \u001b[38;5;241m=\u001b[39m \u001b[43max\u001b[49m\u001b[38;5;241;43m.\u001b[39;49m\u001b[43m_get_indexer_strict\u001b[49m\u001b[43m(\u001b[49m\u001b[43mkey\u001b[49m\u001b[43m,\u001b[49m\u001b[43m \u001b[49m\u001b[43maxis_name\u001b[49m\u001b[43m)\u001b[49m\n\u001b[1;32m   1560\u001b[0m \u001b[38;5;28;01mreturn\u001b[39;00m keyarr, indexer\n",
      "File \u001b[0;32m~/Documents/rtclient/.venv/lib/python3.11/site-packages/pandas/core/indexes/base.py:6200\u001b[0m, in \u001b[0;36mIndex._get_indexer_strict\u001b[0;34m(self, key, axis_name)\u001b[0m\n\u001b[1;32m   6197\u001b[0m \u001b[38;5;28;01melse\u001b[39;00m:\n\u001b[1;32m   6198\u001b[0m     keyarr, indexer, new_indexer \u001b[38;5;241m=\u001b[39m \u001b[38;5;28mself\u001b[39m\u001b[38;5;241m.\u001b[39m_reindex_non_unique(keyarr)\n\u001b[0;32m-> 6200\u001b[0m \u001b[38;5;28;43mself\u001b[39;49m\u001b[38;5;241;43m.\u001b[39;49m\u001b[43m_raise_if_missing\u001b[49m\u001b[43m(\u001b[49m\u001b[43mkeyarr\u001b[49m\u001b[43m,\u001b[49m\u001b[43m \u001b[49m\u001b[43mindexer\u001b[49m\u001b[43m,\u001b[49m\u001b[43m \u001b[49m\u001b[43maxis_name\u001b[49m\u001b[43m)\u001b[49m\n\u001b[1;32m   6202\u001b[0m keyarr \u001b[38;5;241m=\u001b[39m \u001b[38;5;28mself\u001b[39m\u001b[38;5;241m.\u001b[39mtake(indexer)\n\u001b[1;32m   6203\u001b[0m \u001b[38;5;28;01mif\u001b[39;00m \u001b[38;5;28misinstance\u001b[39m(key, Index):\n\u001b[1;32m   6204\u001b[0m     \u001b[38;5;66;03m# GH 42790 - Preserve name from an Index\u001b[39;00m\n",
      "File \u001b[0;32m~/Documents/rtclient/.venv/lib/python3.11/site-packages/pandas/core/indexes/base.py:6252\u001b[0m, in \u001b[0;36mIndex._raise_if_missing\u001b[0;34m(self, key, indexer, axis_name)\u001b[0m\n\u001b[1;32m   6249\u001b[0m     \u001b[38;5;28;01mraise\u001b[39;00m \u001b[38;5;167;01mKeyError\u001b[39;00m(\u001b[38;5;124mf\u001b[39m\u001b[38;5;124m\"\u001b[39m\u001b[38;5;124mNone of [\u001b[39m\u001b[38;5;132;01m{\u001b[39;00mkey\u001b[38;5;132;01m}\u001b[39;00m\u001b[38;5;124m] are in the [\u001b[39m\u001b[38;5;132;01m{\u001b[39;00maxis_name\u001b[38;5;132;01m}\u001b[39;00m\u001b[38;5;124m]\u001b[39m\u001b[38;5;124m\"\u001b[39m)\n\u001b[1;32m   6251\u001b[0m not_found \u001b[38;5;241m=\u001b[39m \u001b[38;5;28mlist\u001b[39m(ensure_index(key)[missing_mask\u001b[38;5;241m.\u001b[39mnonzero()[\u001b[38;5;241m0\u001b[39m]]\u001b[38;5;241m.\u001b[39munique())\n\u001b[0;32m-> 6252\u001b[0m \u001b[38;5;28;01mraise\u001b[39;00m \u001b[38;5;167;01mKeyError\u001b[39;00m(\u001b[38;5;124mf\u001b[39m\u001b[38;5;124m\"\u001b[39m\u001b[38;5;132;01m{\u001b[39;00mnot_found\u001b[38;5;132;01m}\u001b[39;00m\u001b[38;5;124m not in index\u001b[39m\u001b[38;5;124m\"\u001b[39m)\n",
      "\u001b[0;31mKeyError\u001b[0m: '[0, 1, 2, 3, 4, 5, 6, 7, 8, 9, 10, 11, 15, 16, 17, 18, 19, 20, 21, 22, 23, 24, 25, 26, 27, 28, 29, 30, 31, 32, 33, 34, 35, 36, 37, 38, 39, 40, 41, 42, 43, 44, 45] not in index'"
     ]
    }
   ],
   "source": [
    "\n",
    "bin_scale = param.Forkplots.bin_scale\n",
    "heatmap_threshold = param.Forkplots.heatmap_threshold\n",
    "pixel_size = param.Forkplots.pixel_size\n",
    "\n",
    "heatmap, mean_cell_lengths, extent = generate_fork_plot(areas, lengths, longs, counts,\n",
    "                bin_scale=bin_scale,\n",
    "                pixel_size=pixel_size,\n",
    "                heatmap_threshold=heatmap_threshold)\n"
   ]
  },
  {
   "cell_type": "code",
   "execution_count": null,
   "id": "f98c386a-39e5-41ae-a3d0-edab2bf5096d",
   "metadata": {},
   "outputs": [],
   "source": []
  },
  {
   "cell_type": "markdown",
   "id": "3cb7d161-dda5-41b6-b1db-f41fe2f9c6d4",
   "metadata": {
    "jp-MarkdownHeadingCollapsed": true
   },
   "source": [
    "#### Making forks"
   ]
  },
  {
   "cell_type": "code",
   "execution_count": 18,
   "id": "c1295b18-6094-4775-94db-0608f7626d58",
   "metadata": {},
   "outputs": [],
   "source": [
    "areas = data['area']\n",
    "lengths = data['length'] \n",
    "bin_scale=20\n",
    "longs = data['normalized_internal_x']\n",
    "counts = data['normalization_counts']"
   ]
  },
  {
   "cell_type": "code",
   "execution_count": 22,
   "id": "6897640d-f648-4a92-b652-0934806f9c24",
   "metadata": {},
   "outputs": [
    {
     "name": "stderr",
     "output_type": "stream",
     "text": [
      "/home/pk/Documents/rtseg/rtseg/cells/plotting.py:39: RuntimeWarning: invalid value encountered in divide\n",
      "  heatmap[i, :] = h1 / normFactor\n"
     ]
    },
    {
     "data": {
      "text/plain": [
       "Text(0, 0.5, 'Cell size (µm^2)')"
      ]
     },
     "execution_count": 22,
     "metadata": {},
     "output_type": "execute_result"
    }
   ],
   "source": [
    "heatmap, mean_cell_lengths, (x, y) = generate_fork_plot(areas, lengths, longs, counts)\n",
    "\n",
    "plt.matshow(heatmap, aspect='auto', interpolation='none', extent=[x[0], x[-1], y[-1], y[0]], origin='upper')\n",
    "plt.plot(-0.5 * mean_cell_lengths, y, 'w', linewidth=2)\n",
    "plt.plot(0.5 * mean_cell_lengths, y, 'w', linewidth=2)\n",
    "plt.xlabel('Cell long axis (µm)')\n",
    "plt.ylabel('Cell size (µm^2)')"
   ]
  },
  {
   "cell_type": "code",
   "execution_count": 26,
   "id": "7bf9e7a4-f848-44d2-abe7-9033b4d8c014",
   "metadata": {},
   "outputs": [
    {
     "name": "stderr",
     "output_type": "stream",
     "text": [
      "[autoreload of rtseg.utils.disk_ops failed: Traceback (most recent call last):\n",
      "  File \"/home/pk/Documents/rtclient/.venv/lib/python3.11/site-packages/IPython/extensions/autoreload.py\", line 276, in check\n",
      "    superreload(m, reload, self.old_objects)\n",
      "  File \"/home/pk/Documents/rtclient/.venv/lib/python3.11/site-packages/IPython/extensions/autoreload.py\", line 475, in superreload\n",
      "    module = reload(module)\n",
      "             ^^^^^^^^^^^^^^\n",
      "  File \"/usr/lib/python3.11/importlib/__init__.py\", line 169, in reload\n",
      "    _bootstrap._exec(spec, module)\n",
      "  File \"<frozen importlib._bootstrap>\", line 621, in _exec\n",
      "  File \"<frozen importlib._bootstrap_external>\", line 936, in exec_module\n",
      "  File \"<frozen importlib._bootstrap_external>\", line 1074, in get_code\n",
      "  File \"<frozen importlib._bootstrap_external>\", line 1004, in source_to_code\n",
      "  File \"<frozen importlib._bootstrap>\", line 241, in _call_with_frames_removed\n",
      "  File \"/home/pk/Documents/rtseg/rtseg/utils/disk_ops.py\", line 391\n",
      "    heatmap, mean_cell_lengths, extent = generate_fork_plot(areas, lengths, longs, counts\n",
      "                                                                                   \n",
      "SyntaxError: invalid syntax. Perhaps you forgot a comma?\n",
      "]\n"
     ]
    },
    {
     "data": {
      "text/html": [
       "<div>\n",
       "<style scoped>\n",
       "    .dataframe tbody tr th:only-of-type {\n",
       "        vertical-align: middle;\n",
       "    }\n",
       "\n",
       "    .dataframe tbody tr th {\n",
       "        vertical-align: top;\n",
       "    }\n",
       "\n",
       "    .dataframe thead th {\n",
       "        text-align: right;\n",
       "    }\n",
       "</style>\n",
       "<table border=\"1\" class=\"dataframe\">\n",
       "  <thead>\n",
       "    <tr style=\"text-align: right;\">\n",
       "      <th></th>\n",
       "      <th>position</th>\n",
       "      <th>timepoint</th>\n",
       "      <th>trap</th>\n",
       "      <th>cell_label</th>\n",
       "      <th>area</th>\n",
       "      <th>length</th>\n",
       "      <th>normalization_counts</th>\n",
       "      <th>internal_coord</th>\n",
       "      <th>normalized_internal_x</th>\n",
       "      <th>bbox</th>\n",
       "      <th>global_coords</th>\n",
       "      <th>local_coords</th>\n",
       "    </tr>\n",
       "  </thead>\n",
       "  <tbody>\n",
       "    <tr>\n",
       "      <th>15</th>\n",
       "      <td>7</td>\n",
       "      <td>0</td>\n",
       "      <td>0</td>\n",
       "      <td>20</td>\n",
       "      <td>969.0</td>\n",
       "      <td>77.473008</td>\n",
       "      <td>4</td>\n",
       "      <td>(5.500170787017906, 3.5189557537008094)</td>\n",
       "      <td>0.070995</td>\n",
       "      <td>(2898, 231, 2918, 309)</td>\n",
       "      <td>(2901.8526821457167, 236.8943154523619)</td>\n",
       "      <td>(3.852682145716699, 5.894315452361894)</td>\n",
       "    </tr>\n",
       "    <tr>\n",
       "      <th>16</th>\n",
       "      <td>7</td>\n",
       "      <td>0</td>\n",
       "      <td>0</td>\n",
       "      <td>20</td>\n",
       "      <td>969.0</td>\n",
       "      <td>77.473008</td>\n",
       "      <td>4</td>\n",
       "      <td>(14.108218968953976, 1.8457351293230309)</td>\n",
       "      <td>0.182105</td>\n",
       "      <td>(2898, 231, 2918, 309)</td>\n",
       "      <td>(2903.4001641458553, 245.603040606558)</td>\n",
       "      <td>(5.400164145855342, 14.603040606558011)</td>\n",
       "    </tr>\n",
       "    <tr>\n",
       "      <th>17</th>\n",
       "      <td>7</td>\n",
       "      <td>0</td>\n",
       "      <td>0</td>\n",
       "      <td>20</td>\n",
       "      <td>969.0</td>\n",
       "      <td>77.473008</td>\n",
       "      <td>4</td>\n",
       "      <td>(21.799212241954013, -0.951558413839998)</td>\n",
       "      <td>0.281378</td>\n",
       "      <td>(2898, 231, 2918, 309)</td>\n",
       "      <td>(2906.297166551486, 253.2683713430085)</td>\n",
       "      <td>(8.297166551486043, 22.26837134300851)</td>\n",
       "    </tr>\n",
       "    <tr>\n",
       "      <th>18</th>\n",
       "      <td>7</td>\n",
       "      <td>0</td>\n",
       "      <td>0</td>\n",
       "      <td>20</td>\n",
       "      <td>969.0</td>\n",
       "      <td>77.473008</td>\n",
       "      <td>4</td>\n",
       "      <td>(55.047599448915, -1.7986868457671277)</td>\n",
       "      <td>0.710539</td>\n",
       "      <td>(2898, 231, 2918, 309)</td>\n",
       "      <td>(2909.8350542584676, 286.1689575797435)</td>\n",
       "      <td>(11.835054258467608, 55.168957579743505)</td>\n",
       "    </tr>\n",
       "    <tr>\n",
       "      <th>89</th>\n",
       "      <td>7</td>\n",
       "      <td>0</td>\n",
       "      <td>0</td>\n",
       "      <td>55</td>\n",
       "      <td>808.0</td>\n",
       "      <td>72.518836</td>\n",
       "      <td>2</td>\n",
       "      <td>(16.15227764349672, -3.1853089097937395)</td>\n",
       "      <td>0.222732</td>\n",
       "      <td>(2901, 312, 2919, 385)</td>\n",
       "      <td>(2909.935291469728, 328.4231375196939)</td>\n",
       "      <td>(8.935291469727872, 16.42313751969391)</td>\n",
       "    </tr>\n",
       "    <tr>\n",
       "      <th>...</th>\n",
       "      <td>...</td>\n",
       "      <td>...</td>\n",
       "      <td>...</td>\n",
       "      <td>...</td>\n",
       "      <td>...</td>\n",
       "      <td>...</td>\n",
       "      <td>...</td>\n",
       "      <td>...</td>\n",
       "      <td>...</td>\n",
       "      <td>...</td>\n",
       "      <td>...</td>\n",
       "      <td>...</td>\n",
       "    </tr>\n",
       "    <tr>\n",
       "      <th>14158</th>\n",
       "      <td>10</td>\n",
       "      <td>0</td>\n",
       "      <td>0</td>\n",
       "      <td>296</td>\n",
       "      <td>1078.0</td>\n",
       "      <td>91.342440</td>\n",
       "      <td>3</td>\n",
       "      <td>(74.9227886635327, -4.5360555901594575)</td>\n",
       "      <td>0.820241</td>\n",
       "      <td>(2918, 981, 2938, 1073)</td>\n",
       "      <td>(2933.959194390387, 1054.9233002810984)</td>\n",
       "      <td>(15.959194390386983, 73.92330028109836)</td>\n",
       "    </tr>\n",
       "    <tr>\n",
       "      <th>14272</th>\n",
       "      <td>10</td>\n",
       "      <td>0</td>\n",
       "      <td>0</td>\n",
       "      <td>325</td>\n",
       "      <td>1456.0</td>\n",
       "      <td>109.090933</td>\n",
       "      <td>4</td>\n",
       "      <td>(16.983020534651136, 0.6693342098731568)</td>\n",
       "      <td>0.155678</td>\n",
       "      <td>(2921, 1070, 2941, 1188)</td>\n",
       "      <td>(2928.4945104098892, 1092.49365647365)</td>\n",
       "      <td>(7.494510409889244, 22.493656473649935)</td>\n",
       "    </tr>\n",
       "    <tr>\n",
       "      <th>14273</th>\n",
       "      <td>10</td>\n",
       "      <td>0</td>\n",
       "      <td>0</td>\n",
       "      <td>325</td>\n",
       "      <td>1456.0</td>\n",
       "      <td>109.090933</td>\n",
       "      <td>4</td>\n",
       "      <td>(51.203831270031024, 1.5263613945238688)</td>\n",
       "      <td>0.469368</td>\n",
       "      <td>(2921, 1070, 2941, 1188)</td>\n",
       "      <td>(2928.569807385597, 1126.7437430990062)</td>\n",
       "      <td>(7.56980738559696, 56.743743099006224)</td>\n",
       "    </tr>\n",
       "    <tr>\n",
       "      <th>14274</th>\n",
       "      <td>10</td>\n",
       "      <td>0</td>\n",
       "      <td>0</td>\n",
       "      <td>325</td>\n",
       "      <td>1456.0</td>\n",
       "      <td>109.090933</td>\n",
       "      <td>4</td>\n",
       "      <td>(93.70535803111275, 0.32005280560508786)</td>\n",
       "      <td>0.858966</td>\n",
       "      <td>(2921, 1070, 2941, 1188)</td>\n",
       "      <td>(2931.7585286265203, 1169.1617472560072)</td>\n",
       "      <td>(10.758528626520274, 99.16174725600717)</td>\n",
       "    </tr>\n",
       "    <tr>\n",
       "      <th>14275</th>\n",
       "      <td>10</td>\n",
       "      <td>0</td>\n",
       "      <td>0</td>\n",
       "      <td>325</td>\n",
       "      <td>1456.0</td>\n",
       "      <td>109.090933</td>\n",
       "      <td>4</td>\n",
       "      <td>(84.100212171414, -1.7284371169403796)</td>\n",
       "      <td>0.770918</td>\n",
       "      <td>(2921, 1070, 2941, 1188)</td>\n",
       "      <td>(2933.276091524632, 1159.4619425636236)</td>\n",
       "      <td>(12.276091524632193, 89.46194256362355)</td>\n",
       "    </tr>\n",
       "  </tbody>\n",
       "</table>\n",
       "<p>490 rows × 12 columns</p>\n",
       "</div>"
      ],
      "text/plain": [
       "       position  timepoint  trap  cell_label    area      length  \\\n",
       "15            7          0     0          20   969.0   77.473008   \n",
       "16            7          0     0          20   969.0   77.473008   \n",
       "17            7          0     0          20   969.0   77.473008   \n",
       "18            7          0     0          20   969.0   77.473008   \n",
       "89            7          0     0          55   808.0   72.518836   \n",
       "...         ...        ...   ...         ...     ...         ...   \n",
       "14158        10          0     0         296  1078.0   91.342440   \n",
       "14272        10          0     0         325  1456.0  109.090933   \n",
       "14273        10          0     0         325  1456.0  109.090933   \n",
       "14274        10          0     0         325  1456.0  109.090933   \n",
       "14275        10          0     0         325  1456.0  109.090933   \n",
       "\n",
       "       normalization_counts                            internal_coord  \\\n",
       "15                        4   (5.500170787017906, 3.5189557537008094)   \n",
       "16                        4  (14.108218968953976, 1.8457351293230309)   \n",
       "17                        4  (21.799212241954013, -0.951558413839998)   \n",
       "18                        4    (55.047599448915, -1.7986868457671277)   \n",
       "89                        2  (16.15227764349672, -3.1853089097937395)   \n",
       "...                     ...                                       ...   \n",
       "14158                     3   (74.9227886635327, -4.5360555901594575)   \n",
       "14272                     4  (16.983020534651136, 0.6693342098731568)   \n",
       "14273                     4  (51.203831270031024, 1.5263613945238688)   \n",
       "14274                     4  (93.70535803111275, 0.32005280560508786)   \n",
       "14275                     4    (84.100212171414, -1.7284371169403796)   \n",
       "\n",
       "       normalized_internal_x                      bbox  \\\n",
       "15                  0.070995    (2898, 231, 2918, 309)   \n",
       "16                  0.182105    (2898, 231, 2918, 309)   \n",
       "17                  0.281378    (2898, 231, 2918, 309)   \n",
       "18                  0.710539    (2898, 231, 2918, 309)   \n",
       "89                  0.222732    (2901, 312, 2919, 385)   \n",
       "...                      ...                       ...   \n",
       "14158               0.820241   (2918, 981, 2938, 1073)   \n",
       "14272               0.155678  (2921, 1070, 2941, 1188)   \n",
       "14273               0.469368  (2921, 1070, 2941, 1188)   \n",
       "14274               0.858966  (2921, 1070, 2941, 1188)   \n",
       "14275               0.770918  (2921, 1070, 2941, 1188)   \n",
       "\n",
       "                                  global_coords  \\\n",
       "15      (2901.8526821457167, 236.8943154523619)   \n",
       "16       (2903.4001641458553, 245.603040606558)   \n",
       "17       (2906.297166551486, 253.2683713430085)   \n",
       "18      (2909.8350542584676, 286.1689575797435)   \n",
       "89       (2909.935291469728, 328.4231375196939)   \n",
       "...                                         ...   \n",
       "14158   (2933.959194390387, 1054.9233002810984)   \n",
       "14272    (2928.4945104098892, 1092.49365647365)   \n",
       "14273   (2928.569807385597, 1126.7437430990062)   \n",
       "14274  (2931.7585286265203, 1169.1617472560072)   \n",
       "14275   (2933.276091524632, 1159.4619425636236)   \n",
       "\n",
       "                                   local_coords  \n",
       "15       (3.852682145716699, 5.894315452361894)  \n",
       "16      (5.400164145855342, 14.603040606558011)  \n",
       "17       (8.297166551486043, 22.26837134300851)  \n",
       "18     (11.835054258467608, 55.168957579743505)  \n",
       "89       (8.935291469727872, 16.42313751969391)  \n",
       "...                                         ...  \n",
       "14158   (15.959194390386983, 73.92330028109836)  \n",
       "14272   (7.494510409889244, 22.493656473649935)  \n",
       "14273    (7.56980738559696, 56.743743099006224)  \n",
       "14274   (10.758528626520274, 99.16174725600717)  \n",
       "14275   (12.276091524632193, 89.46194256362355)  \n",
       "\n",
       "[490 rows x 12 columns]"
      ]
     },
     "execution_count": 26,
     "metadata": {},
     "output_type": "execute_result"
    }
   ],
   "source": [
    "df"
   ]
  },
  {
   "cell_type": "code",
   "execution_count": null,
   "id": "ac5a6776-0811-464b-b4ad-79c4c551d19b",
   "metadata": {},
   "outputs": [],
   "source": []
  },
  {
   "cell_type": "code",
   "execution_count": null,
   "id": "5d09c645-cd02-40a0-bdf3-f954763b0248",
   "metadata": {},
   "outputs": [],
   "source": []
  },
  {
   "cell_type": "code",
   "execution_count": null,
   "id": "a6020feb-d373-4da1-a7e9-d3149f74b357",
   "metadata": {},
   "outputs": [],
   "source": []
  },
  {
   "cell_type": "code",
   "execution_count": null,
   "id": "ee97945a-ad25-4f83-a9bd-5a1b490bd366",
   "metadata": {},
   "outputs": [],
   "source": []
  },
  {
   "cell_type": "code",
   "execution_count": null,
   "id": "2f9244f6-daf0-4e44-92b2-95d8ea4d0f5f",
   "metadata": {},
   "outputs": [],
   "source": []
  },
  {
   "cell_type": "code",
   "execution_count": null,
   "id": "18da0c5a-cb82-45fe-81b9-71a3745dc765",
   "metadata": {},
   "outputs": [],
   "source": []
  },
  {
   "cell_type": "markdown",
   "id": "e9415383-c7fe-4e5d-b4a1-ebab64fe9d00",
   "metadata": {
    "jp-MarkdownHeadingCollapsed": true
   },
   "source": [
    "### Debugging dots on plots"
   ]
  },
  {
   "cell_type": "code",
   "execution_count": null,
   "id": "81825c9c-6af4-468b-bd5f-eb482b692d23",
   "metadata": {},
   "outputs": [],
   "source": []
  },
  {
   "cell_type": "code",
   "execution_count": 5,
   "id": "1827c9aa-9b7a-403e-a888-aad54a7f78ef",
   "metadata": {},
   "outputs": [],
   "source": [
    "ans = read_files('fluor', param, 1, 0, max_imgs=20)"
   ]
  },
  {
   "cell_type": "code",
   "execution_count": 6,
   "id": "e23d93b3-822a-4f6f-8858-f5031bf5cbf7",
   "metadata": {},
   "outputs": [
    {
     "data": {
      "text/plain": [
       "(46, 2)"
      ]
     },
     "execution_count": 6,
     "metadata": {},
     "output_type": "execute_result"
    }
   ],
   "source": [
    "ans['dots'].shape"
   ]
  },
  {
   "cell_type": "code",
   "execution_count": 7,
   "id": "1cb42987-37f1-4582-8a87-68f47f530fc3",
   "metadata": {},
   "outputs": [],
   "source": [
    "fig, ax = plt.subplots()\n",
    "ax.imshow(ans['image'], cmap='gray')\n",
    "ax.plot(ans['dots'][:, 1], ans['dots'][:, 0], 'ro')\n",
    "plt.show()"
   ]
  },
  {
   "cell_type": "code",
   "execution_count": 6,
   "id": "c90dacab-0ad1-4984-a775-573d918ac221",
   "metadata": {},
   "outputs": [],
   "source": [
    "position = 1\n",
    "channel_no = 0\n",
    "max_imgs=None"
   ]
  },
  {
   "cell_type": "code",
   "execution_count": 7,
   "id": "a7908d94-b24e-4815-943f-f317d7788d1f",
   "metadata": {},
   "outputs": [],
   "source": [
    "save_dir = Path(param.Save.directory)"
   ]
  },
  {
   "cell_type": "code",
   "execution_count": 8,
   "id": "f3dc0a0c-4cf8-411f-b410-84f7d219b787",
   "metadata": {},
   "outputs": [],
   "source": [
    "fluor_dir = save_dir / Path('Pos' + str(position)) / Path('fluor')\n",
    "\n",
    "# use phase image to update the barcodes\n",
    "phase_dir = save_dir / Path('Pos' + str(position)) / Path('phase')\n",
    "# read all files \n",
    "fluor_filenames = sorted(list(fluor_dir.glob('*.tiff')))\n",
    "\n",
    "last_key = int(fluor_filenames[-1].name.split('_')[-1].split('.')[0])\n",
    "\n",
    "last_fluor_img = imread(fluor_filenames[-1])\n",
    "height, _ = last_fluor_img.shape\n",
    "\n",
    "last_phase_img_filename = phase_dir / Path('phase_' + str(last_key).zfill(4) + '.tiff')\n",
    "last_phase_img = imread(last_phase_img_filename)\n",
    "\n",
    "barcode_data = read_from_db('barcode_locations', save_dir, position=position, timepoint=last_key)\n",
    "channel_location = barcode_data['trap_locations'][channel_no]\n",
    "\n",
    "for i, barcode in enumerate(barcode_data['barcode_locations'], 0):\n",
    "    if (((barcode[0] + barcode[2])/2) > channel_location):\n",
    "        break\n",
    "left_barcode =  barcode_data['barcode_locations'][i-1]\n",
    "right_barcode = barcode_data['barcode_locations'][i]\n",
    "left_barcode_img = last_phase_img[int(left_barcode[1]): int(left_barcode[3]), int(left_barcode[0]): int(left_barcode[2])]\n",
    "right_barcode_img = last_phase_img[int(right_barcode[1]): int(right_barcode[3]), int(right_barcode[0]): int(right_barcode[2])]\n",
    "\n",
    "if max_imgs is not None:\n",
    "    files_to_iter = fluor_filenames[-max_imgs:]\n",
    "else:\n",
    "    files_to_iter = fluor_filenames\n",
    "\n",
    "\n",
    "trap_width = param.Save.trap_width\n",
    "full_img = np.zeros((height, len(files_to_iter) * trap_width))\n",
    "for i, filename in enumerate(files_to_iter, 0):\n",
    "    fluor_slice = imread(filename)[:, channel_location - (trap_width//2) : channel_location + (trap_width//2)]\n",
    "    full_img[:, (i) * trap_width : (i+1) * trap_width] = fluor_slice\n",
    "\n",
    "\n",
    "dots_filename = save_dir / Path('Pos' + str(position)) / Path('dots.hdf5')"
   ]
  },
  {
   "cell_type": "code",
   "execution_count": 31,
   "id": "88fcd172-f454-40ce-998c-7081867a5eb6",
   "metadata": {},
   "outputs": [
    {
     "data": {
      "text/plain": [
       "[PosixPath('/home/pk/Documents/REALTIME/analysis/Pos1/fluor/fluor_0000.tiff')]"
      ]
     },
     "execution_count": 31,
     "metadata": {},
     "output_type": "execute_result"
    }
   ],
   "source": [
    "files_to_iter"
   ]
  },
  {
   "cell_type": "code",
   "execution_count": 35,
   "id": "79ed0680-904b-4c02-8bec-3222c6f1a4ab",
   "metadata": {},
   "outputs": [],
   "source": [
    "keys = []\n",
    "for filename in files_to_iter:\n",
    "    keys.append(str(int(filename.stem.split('_')[-1])) + '/raw_coords')"
   ]
  },
  {
   "cell_type": "code",
   "execution_count": 36,
   "id": "8cff581c-79a2-4910-a7dd-f4e17ce8c84c",
   "metadata": {},
   "outputs": [
    {
     "data": {
      "text/plain": [
       "['0/raw_coords']"
      ]
     },
     "execution_count": 36,
     "metadata": {},
     "output_type": "execute_result"
    }
   ],
   "source": [
    "keys"
   ]
  },
  {
   "cell_type": "code",
   "execution_count": 37,
   "id": "bac4c4d0-6d04-4839-842e-dd6d7c3e6e11",
   "metadata": {},
   "outputs": [],
   "source": [
    "dot_data = []\n",
    "with h5py.File(dots_filename, 'r') as f:\n",
    "    for key in keys:\n",
    "        dot_data.append(f[key][:])"
   ]
  },
  {
   "cell_type": "code",
   "execution_count": 38,
   "id": "f6815b54-21f7-4dfb-b229-b5216ea4ba3e",
   "metadata": {},
   "outputs": [
    {
     "data": {
      "text/plain": [
       "[array([[ 783.14738426, 1487.63868987],\n",
       "        [1265.01042238, 3027.50923386],\n",
       "        [ 277.35200941, 2939.82150615],\n",
       "        ...,\n",
       "        [1014.54571118,  100.4640608 ],\n",
       "        [ 168.5046111 ,   19.1091004 ],\n",
       "        [ 169.431315  ,    9.47310662]])]"
      ]
     },
     "execution_count": 38,
     "metadata": {},
     "output_type": "execute_result"
    }
   ],
   "source": [
    "dot_data"
   ]
  },
  {
   "cell_type": "markdown",
   "id": "08129b84-a276-402d-8253-f773718d3394",
   "metadata": {
    "jp-MarkdownHeadingCollapsed": true
   },
   "source": [
    "### filter dots by trap and recenter them"
   ]
  },
  {
   "cell_type": "code",
   "execution_count": 41,
   "id": "e9810262-152a-42dd-90cd-bf08b3605378",
   "metadata": {},
   "outputs": [
    {
     "data": {
      "text/plain": [
       "(0, 80, 116)"
      ]
     },
     "execution_count": 41,
     "metadata": {},
     "output_type": "execute_result"
    }
   ],
   "source": [
    "trap_no, trap_width, channel_location"
   ]
  },
  {
   "cell_type": "code",
   "execution_count": 54,
   "id": "9a5b9d83-3fbe-4b4d-b597-b70e708cb813",
   "metadata": {},
   "outputs": [],
   "source": [
    "dot_array = dot_data[0]"
   ]
  },
  {
   "cell_type": "code",
   "execution_count": 55,
   "id": "e054ecec-71a4-4dfb-96ea-47fb84cf76dd",
   "metadata": {},
   "outputs": [],
   "source": [
    "indices = np.where(np.logical_and(dot_array[:, 1] > channel_location - (trap_width//2), dot_array[:, 1] < channel_location + (trap_width//2)))[0]"
   ]
  },
  {
   "cell_type": "code",
   "execution_count": 58,
   "id": "4336bf98-57e8-4437-9ce6-5745ed8a5b96",
   "metadata": {},
   "outputs": [],
   "source": [
    "dot_array_filtered = dot_array[indices]\n",
    "dot_array_filtered[:, 1] = dot_array_filtered[:, 1] - channel_location + trap_width//2 + "
   ]
  },
  {
   "cell_type": "code",
   "execution_count": 59,
   "id": "e7d3eaf2-f69a-4b86-8729-e7e71400d831",
   "metadata": {},
   "outputs": [
    {
     "data": {
      "text/plain": [
       "array([[ 172.71778214,   77.59291434],\n",
       "       [ 207.55440261,   58.97895049],\n",
       "       [ 236.89431545,   57.14731785],\n",
       "       [ 143.15366082,   55.82867086],\n",
       "       [ 245.60304061,   55.59983585],\n",
       "       [ 208.37987988,   54.27460794],\n",
       "       [ 403.55878354,   53.03456172],\n",
       "       [ 253.26837134,   52.70283345],\n",
       "       [ 410.68552497,   52.3137105 ],\n",
       "       [ 479.97305046,   50.51863532],\n",
       "       [ 286.16895758,   49.16494574],\n",
       "       [ 328.42313752,   49.06470853],\n",
       "       [ 419.91564958,   47.59391104],\n",
       "       [ 141.03306924,   47.532897  ],\n",
       "       [ 369.98689098,   45.61137208],\n",
       "       [ 442.62116784,   45.42203885],\n",
       "       [ 498.96095508,   45.51922889],\n",
       "       [ 523.43689718,   43.70371778],\n",
       "       [ 536.47645951,   45.96445386],\n",
       "       [ 583.31733754,   45.3842334 ],\n",
       "       [ 150.1277081 ,   45.48802737],\n",
       "       [ 620.7453464 ,   44.87417775],\n",
       "       [ 549.64763835,   42.29848213],\n",
       "       [ 700.50311526,   43.03333333],\n",
       "       [ 769.33667655,   39.84192463],\n",
       "       [ 659.57351324,   41.24734179],\n",
       "       [ 179.65591575,   39.40957709],\n",
       "       [ 708.65297303,   39.60473896],\n",
       "       [ 812.04835536,   38.73563865],\n",
       "       [ 874.2202975 ,   37.40011297],\n",
       "       [ 913.86076038,   35.92473345],\n",
       "       [ 861.80558713,   32.94326754],\n",
       "       [1092.49365647,   30.50548959],\n",
       "       [ 599.14635488,   32.7221458 ],\n",
       "       [ 963.77710115,   31.98899016],\n",
       "       [1014.76821595,   33.63750761],\n",
       "       [ 901.60460402,   31.30635587],\n",
       "       [ 995.77439267,   31.05396256],\n",
       "       [1126.7437431 ,   30.43019261],\n",
       "       [ 152.17482116,   26.68497729],\n",
       "       [ 825.6886252 ,   30.55994272],\n",
       "       [ 120.85371617,   28.49792679],\n",
       "       [1054.92330028,   25.04080561],\n",
       "       [1169.16174726,   27.24147137],\n",
       "       [1159.46194256,   25.72390848],\n",
       "       [1014.54571118,   24.4640608 ]])"
      ]
     },
     "execution_count": 59,
     "metadata": {},
     "output_type": "execute_result"
    }
   ],
   "source": [
    "dot_array_filtered"
   ]
  },
  {
   "cell_type": "code",
   "execution_count": 60,
   "id": "7a712a36-a56f-4727-9df4-006a7974161b",
   "metadata": {},
   "outputs": [],
   "source": [
    "a = [dot_array_filtered, dot_array_filtered]"
   ]
  },
  {
   "cell_type": "code",
   "execution_count": 61,
   "id": "6156739a-99a6-4a18-8b5e-d5b4c1f620a4",
   "metadata": {},
   "outputs": [
    {
     "data": {
      "text/plain": [
       "(46, 2)"
      ]
     },
     "execution_count": 61,
     "metadata": {},
     "output_type": "execute_result"
    }
   ],
   "source": [
    "dot_array_filtered.shape"
   ]
  },
  {
   "cell_type": "code",
   "execution_count": 63,
   "id": "d9fd8097-5418-426a-940d-99ae177e9461",
   "metadata": {},
   "outputs": [
    {
     "data": {
      "text/plain": [
       "(92, 2)"
      ]
     },
     "execution_count": 63,
     "metadata": {},
     "output_type": "execute_result"
    }
   ],
   "source": [
    "np.vstack(a).shape"
   ]
  },
  {
   "cell_type": "code",
   "execution_count": null,
   "id": "81a9751b-8f98-434d-9d97-35d84478c3a4",
   "metadata": {},
   "outputs": [],
   "source": []
  },
  {
   "cell_type": "code",
   "execution_count": null,
   "id": "184ac232-c35a-40e3-9c92-812b8240a624",
   "metadata": {},
   "outputs": [],
   "source": []
  }
 ],
 "metadata": {
  "kernelspec": {
   "display_name": "Python 3 (ipykernel)",
   "language": "python",
   "name": "python3"
  },
  "language_info": {
   "codemirror_mode": {
    "name": "ipython",
    "version": 3
   },
   "file_extension": ".py",
   "mimetype": "text/x-python",
   "name": "python",
   "nbconvert_exporter": "python",
   "pygments_lexer": "ipython3",
   "version": "3.11.0rc1"
  }
 },
 "nbformat": 4,
 "nbformat_minor": 5
}
