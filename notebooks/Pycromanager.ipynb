{
 "cells": [
  {
   "cell_type": "code",
   "execution_count": 1,
   "id": "23d93349-42bd-4559-ba8b-c381196e8d9c",
   "metadata": {},
   "outputs": [],
   "source": [
    "import numpy as np\n",
    "import matplotlib.pyplot as plt\n",
    "%matplotlib inline\n",
    "from pycromanager import Core, Acquisition\n",
    "from dask.distributed import Client, LocalCluster, Event, fire_and_forget\n",
    "from dask.distributed import print as dprint"
   ]
  },
  {
   "cell_type": "code",
   "execution_count": 2,
   "id": "37490054-9331-49f9-ac89-5ec0d224da91",
   "metadata": {},
   "outputs": [],
   "source": [
    "events = []\n",
    "for i in range(5):\n",
    "    event1 = {'axes': {'position': 100, 'preset': 'phase_fast', 'time': 0 },\n",
    "             'exposure': 20,\n",
    "             'config_group': ['imaging', 'phase_fast'],\n",
    "              'tags': {'is_dummy': False, 'i': i},\n",
    "            }\n",
    "    event2 = {'axes': {'position': 100, 'preset': 'venus', 'time': 0 },\n",
    "             'exposure': 100,\n",
    "             'config_group': ['imaging', 'venus'],\n",
    "              'tags': {'is_dummy': False, 'i': i},\n",
    "            }\n",
    "    events.append(event1)\n",
    "    events.append(event2)"
   ]
  },
  {
   "cell_type": "code",
   "execution_count": 4,
   "id": "cbc93736-950c-4c92-8f73-e99502a361f0",
   "metadata": {},
   "outputs": [
    {
     "data": {
      "text/plain": [
       "[{'axes': {'position': 100, 'preset': 'phase_fast', 'time': 0},\n",
       "  'exposure': 20,\n",
       "  'config_group': ['imaging', 'phase_fast'],\n",
       "  'tags': {'is_dummy': False, 'i': 0}},\n",
       " {'axes': {'position': 100, 'preset': 'venus', 'time': 0},\n",
       "  'exposure': 100,\n",
       "  'config_group': ['imaging', 'venus'],\n",
       "  'tags': {'is_dummy': False, 'i': 0}},\n",
       " {'axes': {'position': 100, 'preset': 'phase_fast', 'time': 0},\n",
       "  'exposure': 20,\n",
       "  'config_group': ['imaging', 'phase_fast'],\n",
       "  'tags': {'is_dummy': False, 'i': 1}},\n",
       " {'axes': {'position': 100, 'preset': 'venus', 'time': 0},\n",
       "  'exposure': 100,\n",
       "  'config_group': ['imaging', 'venus'],\n",
       "  'tags': {'is_dummy': False, 'i': 1}},\n",
       " {'axes': {'position': 100, 'preset': 'phase_fast', 'time': 0},\n",
       "  'exposure': 20,\n",
       "  'config_group': ['imaging', 'phase_fast'],\n",
       "  'tags': {'is_dummy': False, 'i': 2}},\n",
       " {'axes': {'position': 100, 'preset': 'venus', 'time': 0},\n",
       "  'exposure': 100,\n",
       "  'config_group': ['imaging', 'venus'],\n",
       "  'tags': {'is_dummy': False, 'i': 2}},\n",
       " {'axes': {'position': 100, 'preset': 'phase_fast', 'time': 0},\n",
       "  'exposure': 20,\n",
       "  'config_group': ['imaging', 'phase_fast'],\n",
       "  'tags': {'is_dummy': False, 'i': 3}},\n",
       " {'axes': {'position': 100, 'preset': 'venus', 'time': 0},\n",
       "  'exposure': 100,\n",
       "  'config_group': ['imaging', 'venus'],\n",
       "  'tags': {'is_dummy': False, 'i': 3}},\n",
       " {'axes': {'position': 100, 'preset': 'phase_fast', 'time': 0},\n",
       "  'exposure': 20,\n",
       "  'config_group': ['imaging', 'phase_fast'],\n",
       "  'tags': {'is_dummy': False, 'i': 4}},\n",
       " {'axes': {'position': 100, 'preset': 'venus', 'time': 0},\n",
       "  'exposure': 100,\n",
       "  'config_group': ['imaging', 'venus'],\n",
       "  'tags': {'is_dummy': False, 'i': 4}}]"
      ]
     },
     "execution_count": 4,
     "metadata": {},
     "output_type": "execute_result"
    }
   ],
   "source": [
    "events"
   ]
  },
  {
   "cell_type": "code",
   "execution_count": 5,
   "id": "ade67054-ebf5-4a8f-a05b-90c64ed2631f",
   "metadata": {},
   "outputs": [],
   "source": [
    "class Events:\n",
    "    def __init__(self, events):\n",
    "        self.i = 0\n",
    "        self.events = events\n",
    "        self.max = len(self.events)\n",
    "\n",
    "    def __next__(self):\n",
    "        if self.i < self.max:\n",
    "            event = self.events[self.i]\n",
    "            self.i += 1\n",
    "            return event\n",
    "        else:\n",
    "            return None"
   ]
  },
  {
   "cell_type": "code",
   "execution_count": 6,
   "id": "d2468969-1b88-4cda-9b7c-93284dd2b9be",
   "metadata": {},
   "outputs": [],
   "source": [
    "\n",
    "def acquire_images(events):\n",
    "    e = Events(events)\n",
    "    def print_metadata(image, metadata, event_queue):\n",
    "        print(metadata['Axes'])\n",
    "        #print(metadata['tags'])\n",
    "        #print(metadata['PositionIndex'])\n",
    "        #print(metadata.keys())\n",
    "        dprint(image.shape, '---->', metadata['tags']['i'])\n",
    "        dprint('---------------')\n",
    "        next_event = next(e)\n",
    "        #print(f\"Next event: {next_event}\")\n",
    "        event_queue.put(next_event)\n",
    "        return \n",
    "    acq = Acquisition(name='test', image_process_fn=print_metadata, show_display=False)\n",
    "    acq.acquire(next(e))\n",
    "    acq.await_completion()"
   ]
  },
  {
   "cell_type": "code",
   "execution_count": 7,
   "id": "70bac4e4-b07b-44a8-97d0-6777df586ec2",
   "metadata": {},
   "outputs": [],
   "source": [
    "cluster = LocalCluster(n_workers=3, threads_per_worker=2)\n",
    "client = Client(cluster)"
   ]
  },
  {
   "cell_type": "code",
   "execution_count": null,
   "id": "be00f368-a596-43a3-9833-0c14f3ef51df",
   "metadata": {},
   "outputs": [],
   "source": []
  },
  {
   "cell_type": "code",
   "execution_count": 8,
   "id": "e6cd78ad-d8c9-444f-8a9c-fb7ea1477736",
   "metadata": {},
   "outputs": [],
   "source": [
    "future1 = client.submit(acquire_images, events)\n",
    "fire_and_forget(future1)"
   ]
  },
  {
   "cell_type": "code",
   "execution_count": 9,
   "id": "121c344f-848e-46dc-bb44-c07ab498ff0d",
   "metadata": {},
   "outputs": [
    {
     "name": "stdout",
     "output_type": "stream",
     "text": [
      "{'position': 100, 'preset': 'phase_fast', 'time': 0}\n",
      "{'is_dummy': 'false'}\n",
      "0\n",
      "(3000, 4096)\n",
      "Next event: {'axes': {'position': 100, 'preset': 'venus', 'time': 0}, 'exposure': 100, 'config_group': ['imaging', 'venus'], 'tags': {'is_dummy': False}}\n",
      "{'position': 100, 'preset': 'venus', 'time': 0}\n",
      "{'is_dummy': 'false'}\n",
      "0\n",
      "(3000, 4096)\n",
      "Next event: {'axes': {'position': 100, 'preset': 'phase_fast', 'time': 0}, 'exposure': 20, 'config_group': ['imaging', 'phase_fast'], 'tags': {'is_dummy': False}}\n",
      "{'position': 100, 'preset': 'phase_fast', 'time': 0}\n",
      "{'is_dummy': 'false'}\n",
      "0\n",
      "(3000, 4096)\n",
      "Next event: {'axes': {'position': 100, 'preset': 'venus', 'time': 0}, 'exposure': 100, 'config_group': ['imaging', 'venus'], 'tags': {'is_dummy': False}}\n",
      "{'position': 100, 'preset': 'venus', 'time': 0}\n",
      "{'is_dummy': 'false'}\n",
      "0\n",
      "(3000, 4096)\n",
      "Next event: {'axes': {'position': 100, 'preset': 'phase_fast', 'time': 0}, 'exposure': 20, 'config_group': ['imaging', 'phase_fast'], 'tags': {'is_dummy': False}}\n",
      "{'position': 100, 'preset': 'phase_fast', 'time': 0}\n",
      "{'is_dummy': 'false'}\n",
      "0\n",
      "(3000, 4096)\n",
      "Next event: {'axes': {'position': 100, 'preset': 'venus', 'time': 0}, 'exposure': 100, 'config_group': ['imaging', 'venus'], 'tags': {'is_dummy': False}}\n",
      "{'position': 100, 'preset': 'venus', 'time': 0}\n",
      "{'is_dummy': 'false'}\n",
      "0\n",
      "(3000, 4096)\n",
      "Next event: {'axes': {'position': 100, 'preset': 'phase_fast', 'time': 0}, 'exposure': 20, 'config_group': ['imaging', 'phase_fast'], 'tags': {'is_dummy': False}}\n",
      "{'position': 100, 'preset': 'phase_fast', 'time': 0}\n",
      "{'is_dummy': 'false'}\n",
      "0\n",
      "(3000, 4096)\n",
      "Next event: {'axes': {'position': 100, 'preset': 'venus', 'time': 0}, 'exposure': 100, 'config_group': ['imaging', 'venus'], 'tags': {'is_dummy': False}}\n",
      "{'position': 100, 'preset': 'venus', 'time': 0}\n",
      "{'is_dummy': 'false'}\n",
      "0\n",
      "(3000, 4096)\n",
      "Next event: {'axes': {'position': 100, 'preset': 'phase_fast', 'time': 0}, 'exposure': 20, 'config_group': ['imaging', 'phase_fast'], 'tags': {'is_dummy': False}}\n",
      "{'position': 100, 'preset': 'phase_fast', 'time': 0}\n",
      "{'is_dummy': 'false'}\n",
      "0\n",
      "(3000, 4096)\n",
      "Next event: {'axes': {'position': 100, 'preset': 'venus', 'time': 0}, 'exposure': 100, 'config_group': ['imaging', 'venus'], 'tags': {'is_dummy': False}}\n",
      "{'position': 100, 'preset': 'venus', 'time': 0}\n",
      "{'is_dummy': 'false'}\n",
      "0\n",
      "(3000, 4096)\n",
      "Next event: None\n"
     ]
    }
   ],
   "source": [
    "acquire_images(events)"
   ]
  },
  {
   "cell_type": "code",
   "execution_count": 13,
   "id": "57bad165-e0c6-437c-9f38-c633e9e7edd7",
   "metadata": {},
   "outputs": [
    {
     "data": {
      "text/plain": [
       "[{'axes': {'position': 100, 'preset': 'phase_fast', 'time': 10},\n",
       "  'exposure': 20,\n",
       "  'config_group': ['imaging', 'phase_fast'],\n",
       "  'tags': {'is_dummy': False}},\n",
       " {'axes': {'position': 100, 'preset': 'venus', 'time': 0},\n",
       "  'exposure': 100,\n",
       "  'config_group': ['imaging', 'venus'],\n",
       "  'tags': {'is_dummy': False}},\n",
       " {'axes': {'position': 100, 'preset': 'phase_fast', 'time': 10},\n",
       "  'exposure': 20,\n",
       "  'config_group': ['imaging', 'phase_fast'],\n",
       "  'tags': {'is_dummy': False}},\n",
       " {'axes': {'position': 100, 'preset': 'venus', 'time': 0},\n",
       "  'exposure': 100,\n",
       "  'config_group': ['imaging', 'venus'],\n",
       "  'tags': {'is_dummy': False}},\n",
       " {'axes': {'position': 100, 'preset': 'phase_fast', 'time': 10},\n",
       "  'exposure': 20,\n",
       "  'config_group': ['imaging', 'phase_fast'],\n",
       "  'tags': {'is_dummy': False}},\n",
       " {'axes': {'position': 100, 'preset': 'venus', 'time': 0},\n",
       "  'exposure': 100,\n",
       "  'config_group': ['imaging', 'venus'],\n",
       "  'tags': {'is_dummy': False}},\n",
       " {'axes': {'position': 100, 'preset': 'phase_fast', 'time': 10},\n",
       "  'exposure': 20,\n",
       "  'config_group': ['imaging', 'phase_fast'],\n",
       "  'tags': {'is_dummy': False}},\n",
       " {'axes': {'position': 100, 'preset': 'venus', 'time': 0},\n",
       "  'exposure': 100,\n",
       "  'config_group': ['imaging', 'venus'],\n",
       "  'tags': {'is_dummy': False}},\n",
       " {'axes': {'position': 100, 'preset': 'phase_fast', 'time': 10},\n",
       "  'exposure': 20,\n",
       "  'config_group': ['imaging', 'phase_fast'],\n",
       "  'tags': {'is_dummy': False}},\n",
       " {'axes': {'position': 100, 'preset': 'venus', 'time': 0},\n",
       "  'exposure': 100,\n",
       "  'config_group': ['imaging', 'venus'],\n",
       "  'tags': {'is_dummy': False}}]"
      ]
     },
     "execution_count": 13,
     "metadata": {},
     "output_type": "execute_result"
    }
   ],
   "source": [
    "n"
   ]
  },
  {
   "cell_type": "code",
   "execution_count": null,
   "id": "6ed93c49-c607-4e9f-881c-47ebfc7addec",
   "metadata": {},
   "outputs": [],
   "source": []
  },
  {
   "cell_type": "code",
   "execution_count": null,
   "id": "e2a9ff69-7e52-4f2d-9d75-6a36c0f291b1",
   "metadata": {},
   "outputs": [],
   "source": []
  },
  {
   "cell_type": "code",
   "execution_count": 9,
   "id": "d56891bc-d43d-4e89-8107-af3f0852b92a",
   "metadata": {},
   "outputs": [
    {
     "name": "stdout",
     "output_type": "stream",
     "text": [
      "{'position': 100, 'preset': 'phase_fast', 'time': 10}\n",
      "{'is_dummy': 'false'}\n",
      "0\n",
      "(2304, 4096)\n",
      "Next event: {'axes': {'position': 100, 'preset': 'venus', 'time': 0}, 'exposure': 100, 'config_group': ['imaging', 'venus'], 'tags': {'is_dummy': False}}\n",
      "{'position': 100, 'preset': 'venus', 'time': 0}\n",
      "{'is_dummy': 'false'}\n",
      "0\n",
      "(2304, 4096)\n",
      "Next event: {'axes': {'position': 100, 'preset': 'phase_fast', 'time': 10}, 'exposure': 20, 'config_group': ['imaging', 'phase_fast'], 'tags': {'is_dummy': False}}\n",
      "{'position': 100, 'preset': 'phase_fast', 'time': 10}\n",
      "{'is_dummy': 'false'}\n",
      "0\n",
      "(2304, 4096)\n",
      "Next event: {'axes': {'position': 100, 'preset': 'venus', 'time': 0}, 'exposure': 100, 'config_group': ['imaging', 'venus'], 'tags': {'is_dummy': False}}\n",
      "{'position': 100, 'preset': 'venus', 'time': 0}\n",
      "{'is_dummy': 'false'}\n",
      "0\n",
      "(2304, 4096)\n",
      "Next event: {'axes': {'position': 100, 'preset': 'phase_fast', 'time': 10}, 'exposure': 20, 'config_group': ['imaging', 'phase_fast'], 'tags': {'is_dummy': False}}\n",
      "{'position': 100, 'preset': 'phase_fast', 'time': 10}\n",
      "{'is_dummy': 'false'}\n",
      "0\n",
      "(2304, 4096)\n",
      "Next event: {'axes': {'position': 100, 'preset': 'venus', 'time': 0}, 'exposure': 100, 'config_group': ['imaging', 'venus'], 'tags': {'is_dummy': False}}\n",
      "{'position': 100, 'preset': 'venus', 'time': 0}\n",
      "{'is_dummy': 'false'}\n",
      "0\n",
      "(2304, 4096)\n",
      "Next event: {'axes': {'position': 100, 'preset': 'phase_fast', 'time': 10}, 'exposure': 20, 'config_group': ['imaging', 'phase_fast'], 'tags': {'is_dummy': False}}\n",
      "{'position': 100, 'preset': 'phase_fast', 'time': 10}\n",
      "{'is_dummy': 'false'}\n",
      "0\n",
      "(2304, 4096)\n",
      "Next event: {'axes': {'position': 100, 'preset': 'venus', 'time': 0}, 'exposure': 100, 'config_group': ['imaging', 'venus'], 'tags': {'is_dummy': False}}\n",
      "{'position': 100, 'preset': 'venus', 'time': 0}\n",
      "{'is_dummy': 'false'}\n",
      "0\n",
      "(2304, 4096)\n",
      "Next event: {'axes': {'position': 100, 'preset': 'phase_fast', 'time': 10}, 'exposure': 20, 'config_group': ['imaging', 'phase_fast'], 'tags': {'is_dummy': False}}\n",
      "{'position': 100, 'preset': 'phase_fast', 'time': 10}\n",
      "{'is_dummy': 'false'}\n",
      "0\n",
      "(2304, 4096)\n",
      "Next event: {'axes': {'position': 100, 'preset': 'venus', 'time': 0}, 'exposure': 100, 'config_group': ['imaging', 'venus'], 'tags': {'is_dummy': False}}\n",
      "{'position': 100, 'preset': 'venus', 'time': 0}\n",
      "{'is_dummy': 'false'}\n",
      "0\n",
      "(2304, 4096)\n",
      "Next event: None\n"
     ]
    }
   ],
   "source": [
    "e = Events(events)\n",
    "acq = Acquisition(name='test',image_process_fn=print_metadata, show_display=False)\n",
    "acq.acquire(next(e))\n",
    "acq.await_completion()"
   ]
  },
  {
   "cell_type": "code",
   "execution_count": null,
   "id": "80f7a65f-3cf2-44cd-ba35-100ed10ce5f0",
   "metadata": {},
   "outputs": [],
   "source": []
  }
 ],
 "metadata": {
  "kernelspec": {
   "display_name": "Python 3 (ipykernel)",
   "language": "python",
   "name": "python3"
  },
  "language_info": {
   "codemirror_mode": {
    "name": "ipython",
    "version": 3
   },
   "file_extension": ".py",
   "mimetype": "text/x-python",
   "name": "python",
   "nbconvert_exporter": "python",
   "pygments_lexer": "ipython3",
   "version": "3.11.0rc1"
  }
 },
 "nbformat": 4,
 "nbformat_minor": 5
}
