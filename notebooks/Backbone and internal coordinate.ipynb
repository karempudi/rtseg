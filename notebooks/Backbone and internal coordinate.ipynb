{
 "cells": [
  {
   "cell_type": "code",
   "execution_count": 1,
   "id": "e5fff8c8-1c78-48aa-8f98-b5da6c1ac7b9",
   "metadata": {},
   "outputs": [],
   "source": [
    "%reload_ext autoreload\n",
    "%autoreload 2"
   ]
  },
  {
   "cell_type": "code",
   "execution_count": 2,
   "id": "edcc4490-f7e2-4776-90a5-8532b8a87b51",
   "metadata": {},
   "outputs": [],
   "source": [
    "import numpy as np\n",
    "import matplotlib.pyplot as plt\n",
    "from skimage.io import imread\n",
    "import pathlib\n",
    "from skimage.measure import regionprops, label\n",
    "from pathlib import Path\n",
    "import torch\n",
    "import cv2\n",
    "import edt\n",
    "import math\n",
    "import matplotlib as mpl\n",
    "from math import floor\n",
    "%matplotlib qt"
   ]
  },
  {
   "cell_type": "code",
   "execution_count": 3,
   "id": "2dd87b89-a8d1-4f19-b6a6-e2521af591ab",
   "metadata": {},
   "outputs": [],
   "source": [
    "filepath = Path('/home/pk/Documents/rtseg/data/backbone/000_img_masks.tif')"
   ]
  },
  {
   "cell_type": "code",
   "execution_count": 4,
   "id": "83d713cc-856e-47b8-89d5-23a8df595437",
   "metadata": {},
   "outputs": [],
   "source": [
    "image = imread(filepath)"
   ]
  },
  {
   "cell_type": "code",
   "execution_count": 5,
   "id": "97732907-2ba9-4bba-a27a-904bc3b3eed0",
   "metadata": {},
   "outputs": [],
   "source": [
    "plt.figure()\n",
    "plt.imshow(image)\n",
    "plt.show()"
   ]
  },
  {
   "cell_type": "markdown",
   "id": "19fe72af-bc7b-4a04-ac4b-383eaf3ea459",
   "metadata": {},
   "source": [
    "#### __Compute the backbone of each region on the image__"
   ]
  },
  {
   "cell_type": "markdown",
   "id": "031395b6-6ab7-4bdf-98a8-9adaa70c9fe0",
   "metadata": {},
   "source": [
    "#### Fixed parameters"
   ]
  },
  {
   "cell_type": "code",
   "execution_count": 6,
   "id": "c8cd27c4-f5b1-414f-9ce4-e136eee74338",
   "metadata": {},
   "outputs": [],
   "source": [
    "props = regionprops(label(image))"
   ]
  },
  {
   "cell_type": "code",
   "execution_count": 7,
   "id": "59f4ee66-58b8-4f74-acf2-e501263d7bbe",
   "metadata": {},
   "outputs": [
    {
     "data": {
      "text/plain": [
       "((10, 16, 41, 36), 1)"
      ]
     },
     "execution_count": 7,
     "metadata": {},
     "output_type": "execute_result"
    }
   ],
   "source": [
    "props[0].bbox, props[0].label"
   ]
  },
  {
   "cell_type": "code",
   "execution_count": 8,
   "id": "bc7337dc-a129-4426-b208-bc3204a115ac",
   "metadata": {},
   "outputs": [],
   "source": [
    "plt.figure()\n",
    "plt.imshow(props[0].image)\n",
    "plt.show()"
   ]
  },
  {
   "cell_type": "code",
   "execution_count": 9,
   "id": "8e0750d2-c337-47ed-af80-9fb93d52814f",
   "metadata": {},
   "outputs": [],
   "source": [
    "dilation_threshold = 5\n",
    "dilation_radius = floor(dilation_threshold/2)"
   ]
  },
  {
   "cell_type": "code",
   "execution_count": 10,
   "id": "103d2f12-2fe5-45f1-9c5e-64090cd63e43",
   "metadata": {},
   "outputs": [
    {
     "data": {
      "text/plain": [
       "2"
      ]
     },
     "execution_count": 10,
     "metadata": {},
     "output_type": "execute_result"
    }
   ],
   "source": [
    "dilation_radius"
   ]
  },
  {
   "cell_type": "code",
   "execution_count": 11,
   "id": "94a06b3c-9ae5-41b2-b5f3-6cee5369940d",
   "metadata": {},
   "outputs": [],
   "source": [
    "img = props[0].image"
   ]
  },
  {
   "cell_type": "code",
   "execution_count": 12,
   "id": "42f27fa1-e69e-44ed-944b-3a4a00e02e8b",
   "metadata": {},
   "outputs": [
    {
     "data": {
      "text/plain": [
       "dtype('bool')"
      ]
     },
     "execution_count": 12,
     "metadata": {},
     "output_type": "execute_result"
    }
   ],
   "source": [
    "img.dtype"
   ]
  },
  {
   "cell_type": "code",
   "execution_count": 13,
   "id": "1f0f65fb-acb7-4cf2-b9d0-b506a9bd591d",
   "metadata": {},
   "outputs": [],
   "source": [
    "padded_img = np.pad(img, (dilation_radius+1, dilation_radius+1)).astype('uint8')"
   ]
  },
  {
   "cell_type": "code",
   "execution_count": 14,
   "id": "9c9fad0f-f8f2-4176-bf5c-cada383e454e",
   "metadata": {},
   "outputs": [
    {
     "data": {
      "text/plain": [
       "((31, 20), (37, 26))"
      ]
     },
     "execution_count": 14,
     "metadata": {},
     "output_type": "execute_result"
    }
   ],
   "source": [
    "img.shape, padded_img.shape"
   ]
  },
  {
   "cell_type": "code",
   "execution_count": null,
   "id": "ab4a804b-29ed-4ecf-ac04-473f632b14b4",
   "metadata": {},
   "outputs": [],
   "source": []
  },
  {
   "cell_type": "code",
   "execution_count": 15,
   "id": "ddec14c5-b8ae-4f86-bad5-9ad167dba483",
   "metadata": {},
   "outputs": [],
   "source": [
    "se = cv2.getStructuringElement(cv2.MORPH_ELLIPSE, (dilation_threshold, dilation_threshold))"
   ]
  },
  {
   "cell_type": "code",
   "execution_count": 16,
   "id": "b4d47785-01a6-4a97-956e-164cba43be7d",
   "metadata": {},
   "outputs": [
    {
     "data": {
      "text/plain": [
       "array([[0, 0, 1, 0, 0],\n",
       "       [1, 1, 1, 1, 1],\n",
       "       [1, 1, 1, 1, 1],\n",
       "       [1, 1, 1, 1, 1],\n",
       "       [0, 0, 1, 0, 0]], dtype=uint8)"
      ]
     },
     "execution_count": 16,
     "metadata": {},
     "output_type": "execute_result"
    }
   ],
   "source": [
    "se"
   ]
  },
  {
   "cell_type": "code",
   "execution_count": 17,
   "id": "5ed359b7-f8c7-4692-b214-22c516191bfb",
   "metadata": {},
   "outputs": [],
   "source": [
    "dilated_img = cv2.dilate(padded_img, se)"
   ]
  },
  {
   "cell_type": "code",
   "execution_count": 18,
   "id": "f582a493-28ca-4ce7-9d4e-b70c3b6b250d",
   "metadata": {},
   "outputs": [
    {
     "data": {
      "text/plain": [
       "(37, 26)"
      ]
     },
     "execution_count": 18,
     "metadata": {},
     "output_type": "execute_result"
    }
   ],
   "source": [
    "dilated_img.shape"
   ]
  },
  {
   "cell_type": "code",
   "execution_count": 19,
   "id": "b1ec979d-15ab-45ba-a8f8-e2c5f4c5ff0d",
   "metadata": {},
   "outputs": [],
   "source": [
    "xor = np.logical_xor(padded_img, dilated_img)"
   ]
  },
  {
   "cell_type": "code",
   "execution_count": 20,
   "id": "a4958aed-5c0a-4051-94bd-92748573a86a",
   "metadata": {},
   "outputs": [
    {
     "data": {
      "text/plain": [
       "<matplotlib.image.AxesImage at 0x73aabf8b1fd0>"
      ]
     },
     "execution_count": 20,
     "metadata": {},
     "output_type": "execute_result"
    }
   ],
   "source": [
    "plt.imshow(xor)"
   ]
  },
  {
   "cell_type": "code",
   "execution_count": 21,
   "id": "f92248b9-be4f-45ec-8710-e561369e256a",
   "metadata": {},
   "outputs": [
    {
     "data": {
      "text/plain": [
       "<matplotlib.image.AxesImage at 0x73aabf302a50>"
      ]
     },
     "execution_count": 21,
     "metadata": {},
     "output_type": "execute_result"
    }
   ],
   "source": [
    "plt.imshow(dilated_img)"
   ]
  },
  {
   "cell_type": "code",
   "execution_count": 22,
   "id": "cf0e734d-5180-44a4-8844-1fd30d4e5fd8",
   "metadata": {},
   "outputs": [],
   "source": [
    "region_edt = edt.edt(dilated_img)"
   ]
  },
  {
   "cell_type": "code",
   "execution_count": 23,
   "id": "e5d3b510-639b-49c3-979f-8bb412e9b2be",
   "metadata": {},
   "outputs": [
    {
     "data": {
      "text/plain": [
       "<matplotlib.image.AxesImage at 0x73aabf30b0d0>"
      ]
     },
     "execution_count": 23,
     "metadata": {},
     "output_type": "execute_result"
    }
   ],
   "source": [
    "plt.imshow(region_edt)"
   ]
  },
  {
   "cell_type": "code",
   "execution_count": 24,
   "id": "5da31ab7-0693-4a48-bea0-533799ba212a",
   "metadata": {},
   "outputs": [],
   "source": [
    "blob_boundary = (region_edt == 1)"
   ]
  },
  {
   "cell_type": "code",
   "execution_count": 25,
   "id": "81b97a43-47aa-482a-8a99-8cc40a4056f7",
   "metadata": {},
   "outputs": [
    {
     "data": {
      "text/plain": [
       "(37, 26)"
      ]
     },
     "execution_count": 25,
     "metadata": {},
     "output_type": "execute_result"
    }
   ],
   "source": [
    "blob_boundary.shape"
   ]
  },
  {
   "cell_type": "code",
   "execution_count": 26,
   "id": "8480fca6-a4d1-435e-8c64-1f7c1bb521f7",
   "metadata": {},
   "outputs": [],
   "source": [
    "blob_boundary = blob_boundary[dilation_radius+1: -dilation_radius-1, dilation_radius+1: -dilation_radius-1]"
   ]
  },
  {
   "cell_type": "code",
   "execution_count": 27,
   "id": "2c825ff5-313a-4ea8-826b-59eb0e91c1eb",
   "metadata": {},
   "outputs": [],
   "source": [
    "y, x = np.nonzero(blob_boundary)"
   ]
  },
  {
   "cell_type": "code",
   "execution_count": 28,
   "id": "0453ad12-ab29-4bb4-8265-374422649c10",
   "metadata": {},
   "outputs": [
    {
     "data": {
      "text/plain": [
       "(array([ 0,  0,  1,  2,  3,  4,  5,  6,  7,  8,  8,  9,  9, 10, 10, 11, 11,\n",
       "        12, 12, 13, 13, 14, 14, 15, 15, 16, 16, 17, 17, 18, 18, 19, 20, 21,\n",
       "        22, 23, 24, 25, 26, 27, 28, 29, 30, 30]),\n",
       " array([10, 11, 12, 12, 13, 14, 14, 14, 15,  0, 15,  1, 16,  1, 16,  2, 17,\n",
       "         2, 17,  3, 17,  3, 18,  4, 18,  4, 19,  4, 19,  5, 19,  5,  5,  6,\n",
       "         6,  6,  7,  7,  7,  8,  8,  9, 10, 19]))"
      ]
     },
     "execution_count": 28,
     "metadata": {},
     "output_type": "execute_result"
    }
   ],
   "source": [
    "y, x"
   ]
  },
  {
   "cell_type": "code",
   "execution_count": 29,
   "id": "164187ba-434c-47a0-a5e6-c1c53d41eb0a",
   "metadata": {},
   "outputs": [],
   "source": [
    "label_dist = region_edt * (region_edt >= dilation_threshold)"
   ]
  },
  {
   "cell_type": "code",
   "execution_count": null,
   "id": "aaf72f7e-0594-45b1-b961-e4f3b501143f",
   "metadata": {},
   "outputs": [],
   "source": []
  },
  {
   "cell_type": "code",
   "execution_count": 30,
   "id": "ad436bc9-75f6-4811-85e0-5d82fbc758ea",
   "metadata": {},
   "outputs": [],
   "source": [
    "final_labelled_image = label_dist[dilation_radius+1: -dilation_radius-1, dilation_radius+1: -dilation_radius-1]"
   ]
  },
  {
   "cell_type": "code",
   "execution_count": 31,
   "id": "fb64b183-52b4-4fda-a304-1ef8f24eace5",
   "metadata": {},
   "outputs": [
    {
     "data": {
      "text/plain": [
       "(31, 20)"
      ]
     },
     "execution_count": 31,
     "metadata": {},
     "output_type": "execute_result"
    }
   ],
   "source": [
    "final_labelled_image.shape"
   ]
  },
  {
   "cell_type": "code",
   "execution_count": 32,
   "id": "64d1e3fa-71d9-4c22-bcbc-826bcaefb60f",
   "metadata": {},
   "outputs": [],
   "source": [
    "fig, ax = plt.subplots(nrows=1, ncols=2)\n",
    "ax[0].imshow(props[0].image)\n",
    "ax[1].imshow(final_labelled_image)\n",
    "plt.show()"
   ]
  },
  {
   "cell_type": "code",
   "execution_count": 33,
   "id": "6fe8d615-a25e-49fc-a95f-f6e83f69cfd5",
   "metadata": {},
   "outputs": [],
   "source": [
    "y_coords, x_coords = np.nonzero(final_labelled_image)"
   ]
  },
  {
   "cell_type": "code",
   "execution_count": 34,
   "id": "28e003d4-0f5a-4104-bd38-f02c70c49759",
   "metadata": {},
   "outputs": [],
   "source": [
    "pixel_values = final_labelled_image[y_coords, x_coords]"
   ]
  },
  {
   "cell_type": "code",
   "execution_count": 35,
   "id": "85201bad-1172-48ca-9dc1-ca078caeb281",
   "metadata": {},
   "outputs": [
    {
     "data": {
      "text/plain": [
       "((152,), (152,), (152,))"
      ]
     },
     "execution_count": 35,
     "metadata": {},
     "output_type": "execute_result"
    }
   ],
   "source": [
    "y_coords.shape, x_coords.shape, pixel_values.shape"
   ]
  },
  {
   "cell_type": "markdown",
   "id": "43b3e92c-7c38-4bd7-8756-817e26a7742b",
   "metadata": {},
   "source": [
    "#### I am changing this cubing to a parameter, as I notice some of them are not great"
   ]
  },
  {
   "cell_type": "code",
   "execution_count": 36,
   "id": "bd15bf0b-a459-4c92-aae1-19969a3ba248",
   "metadata": {},
   "outputs": [],
   "source": [
    "weights = np.sqrt(pixel_values ** 3)"
   ]
  },
  {
   "cell_type": "code",
   "execution_count": 37,
   "id": "3fb6e45b-a4bf-4c4a-b620-c7a3299d8cf5",
   "metadata": {},
   "outputs": [
    {
     "data": {
      "text/plain": [
       "(152,)"
      ]
     },
     "execution_count": 37,
     "metadata": {},
     "output_type": "execute_result"
    }
   ],
   "source": [
    "weights.shape"
   ]
  },
  {
   "cell_type": "code",
   "execution_count": null,
   "id": "1f87c434-3a32-413b-a3b6-018716bc7548",
   "metadata": {},
   "outputs": [],
   "source": []
  },
  {
   "cell_type": "code",
   "execution_count": 38,
   "id": "621389c3-804f-49ea-b446-a0caa95c9ffa",
   "metadata": {},
   "outputs": [],
   "source": [
    "A = np.vstack((x_coords**2, x_coords, np.ones(x_coords.shape)))"
   ]
  },
  {
   "cell_type": "code",
   "execution_count": 39,
   "id": "84d28de8-8430-4df9-a32d-82a3d3ec787d",
   "metadata": {},
   "outputs": [
    {
     "data": {
      "text/plain": [
       "(3, 152)"
      ]
     },
     "execution_count": 39,
     "metadata": {},
     "output_type": "execute_result"
    }
   ],
   "source": [
    "A.shape"
   ]
  },
  {
   "cell_type": "code",
   "execution_count": 40,
   "id": "e865f73d-49ea-4efc-82b2-076aea66b880",
   "metadata": {},
   "outputs": [],
   "source": [
    "w_rep = np.tile(weights, [3, 1])"
   ]
  },
  {
   "cell_type": "code",
   "execution_count": null,
   "id": "4f20cc45-568d-4960-b1a7-6b2450b7e9f7",
   "metadata": {},
   "outputs": [],
   "source": []
  },
  {
   "cell_type": "code",
   "execution_count": 41,
   "id": "c0d1a0f0-47f2-4405-a31a-023a2686f350",
   "metadata": {},
   "outputs": [],
   "source": [
    "wA = (w_rep * A).T\n",
    "wB = weights * y_coords"
   ]
  },
  {
   "cell_type": "code",
   "execution_count": 42,
   "id": "6a3df681-3179-44e1-8158-f471a0ece3f5",
   "metadata": {},
   "outputs": [
    {
     "data": {
      "text/plain": [
       "((152, 3), (152,))"
      ]
     },
     "execution_count": 42,
     "metadata": {},
     "output_type": "execute_result"
    }
   ],
   "source": [
    "wA.shape, wB.shape"
   ]
  },
  {
   "cell_type": "code",
   "execution_count": 43,
   "id": "d3e0a055-0bc7-4c08-bfbf-3c6b8e38622f",
   "metadata": {},
   "outputs": [],
   "source": [
    "from numpy.linalg import lstsq"
   ]
  },
  {
   "cell_type": "code",
   "execution_count": 44,
   "id": "8285512a-9283-47be-ab11-8d8e09e5a1a4",
   "metadata": {},
   "outputs": [],
   "source": [
    "fit_coeff,_, _, _ = lstsq(wA, wB, rcond=-1)"
   ]
  },
  {
   "cell_type": "code",
   "execution_count": 45,
   "id": "bf4a9cb2-8d9e-4ab3-aae3-0921c7e7c01c",
   "metadata": {},
   "outputs": [
    {
     "data": {
      "text/plain": [
       "array([ 0.02613278,  1.41718813, -3.12621596])"
      ]
     },
     "execution_count": 45,
     "metadata": {},
     "output_type": "execute_result"
    }
   ],
   "source": [
    "fit_coeff"
   ]
  },
  {
   "cell_type": "code",
   "execution_count": 46,
   "id": "eddf7950-b3af-43dc-a6ea-06c99b5c9dd8",
   "metadata": {},
   "outputs": [],
   "source": [
    "plt.figure()\n",
    "plt.imshow(final_labelled_image)\n",
    "x = np.linspace(0.5, final_labelled_image.shape[1]-0.5, num=100)\n",
    "y = fit_coeff[0] * x**2 + fit_coeff[1] * x + fit_coeff[2]\n",
    "plt.plot(x, y, 'r-')\n",
    "plt.show()"
   ]
  },
  {
   "cell_type": "markdown",
   "id": "2fdac9f1-38f3-4d66-85a3-b31fb4372ba6",
   "metadata": {},
   "source": [
    "#### Compute backbone pixels"
   ]
  },
  {
   "cell_type": "code",
   "execution_count": 47,
   "id": "c9395763-fbfa-48e9-af6a-56e446e73a13",
   "metadata": {},
   "outputs": [
    {
     "data": {
      "text/plain": [
       "(31, 20)"
      ]
     },
     "execution_count": 47,
     "metadata": {},
     "output_type": "execute_result"
    }
   ],
   "source": [
    "img.shape"
   ]
  },
  {
   "cell_type": "code",
   "execution_count": 48,
   "id": "b75426f6-d1e8-47e9-a7b1-8fae34f277f8",
   "metadata": {},
   "outputs": [],
   "source": [
    "img_size = img.shape"
   ]
  },
  {
   "cell_type": "code",
   "execution_count": 49,
   "id": "6745b432-cbf7-4ab7-b218-0f5cea415c75",
   "metadata": {},
   "outputs": [],
   "source": [
    "x_data = np.arange(-0.5, img_size[1]+0.5)\n",
    "y_data = fit_coeff[0] * x_data**2 + fit_coeff[1] * x_data + fit_coeff[2]"
   ]
  },
  {
   "cell_type": "code",
   "execution_count": 50,
   "id": "021f842b-bac9-4042-8393-b8dc6da772f2",
   "metadata": {},
   "outputs": [],
   "source": [
    "plt.figure()\n",
    "plt.imshow(img)\n",
    "plt.plot(x_data, y_data, 'r--')\n",
    "plt.show()"
   ]
  },
  {
   "cell_type": "markdown",
   "id": "b2226f3b-08bf-4d31-afe6-f771a4dd1900",
   "metadata": {},
   "source": [
    "##### There are cases. one for a straight line and the other for a quadratic curve"
   ]
  },
  {
   "cell_type": "code",
   "execution_count": null,
   "id": "55500a46-4415-449e-a07e-532ad6c50aa7",
   "metadata": {},
   "outputs": [],
   "source": []
  },
  {
   "cell_type": "code",
   "execution_count": 51,
   "id": "b47b9c21-7250-4c43-b97f-181aeede2a23",
   "metadata": {},
   "outputs": [],
   "source": [
    "if abs(fit_coeff[0]) < 1e-4 and round(y_data[0]) == round(y_data[-1]):\n",
    "    fit_coord = np.vstack((np.arange(0, img_size[1]), round(y_data[0]) * np.ones((img_size[1],)))).T\n",
    "else:\n",
    "    y_data_round = np.round(y_data)\n",
    "    stat_pt = -fit_coeff[1] / (2 * fit_coeff[0]) #  ax^2 + bx + c = 0 --> -b/2a is the point where derivative==0\n",
    "    if stat_pt > -0.5 and stat_pt < img_size[1] - 1:\n",
    "        round_stat_pt_val = round(fit_coeff[0] * (stat_pt**2) + fit_coeff[1] * stat_pt + fit_coeff[2])\n",
    "        round_stat_pt = round(stat_pt)\n",
    "        upp_bound = np.zeros((img_size[1]),) # upper bound defined for each pixel on the x-axis\n",
    "        low_bound = np.zeros((img_size[1]),) # lower bound defined for each pixel on the x-axis\n",
    "    \n",
    "        if fit_coeff[0] > 0:\n",
    "            upp_bound[0:round_stat_pt] = y_data_round[0:round_stat_pt]\n",
    "            upp_bound[round_stat_pt] = max(y_data_round[round_stat_pt:round_stat_pt+2])\n",
    "            upp_bound[round_stat_pt+1:] = y_data_round[round_stat_pt+1:]\n",
    "    \n",
    "            low_bound[0:round_stat_pt] = y_data_round[1:round_stat_pt+1]\n",
    "            round_down_point = np.argwhere(y_data_round[1:] - y_data[1:] == 0.5)\n",
    "            low_bound[round_down_point] = lowBound[round_down_point]-1 \n",
    "            low_bound[round_stat_pt] = round_stat_pt_val \n",
    "            low_bound[round_stat_pt+1:] =  y_data_round[round_stat_pt+1:]\n",
    "                                           \n",
    "        else:\n",
    "            upp_bound[0:round_stat_pt] = y_data_round[1:round_stat_pt+1]\n",
    "            upp_bound[round_stat_pt] = round_stat_pt_val\n",
    "            upp_bound[round_stat_pt+1:] = y_data_round[round_stat_pt:-1];\n",
    "            low_bound[0:round_stat_pt] =  y_data_round[0:round_stat_pt]\n",
    "            low_bound[round_stat_pt] = max(y_data_round[round_stat_pt:round_stat_pt+2])\n",
    "            low_bound[round_stat_pt+1:] = y_data_round[round_stat_pt+1:]\n",
    "    else:\n",
    "        if (fit_coeff[0] > 0 and stat_pt > img_size[1]-1) or (fit_coeff[0] < 0 and stat_pt < -0.5):\n",
    "            upp_bound = y_data_round[:-1]\n",
    "            low_bound = y_data_round[1:]\n",
    "            round_down_point = np.argwhere(low_bound - y_data[1:] == 0.5)\n",
    "            low_bound[round_down_point] = low_bound[round_down_point]-1;\n",
    "        else:\n",
    "            upp_bound = y_data_round[1:]\n",
    "            low_bound = y_data_round[:-1]\n",
    "        \n",
    "    \n",
    "    # clip the upper bound and lower bounds\n",
    "    # and populate the pixels\n",
    "    low_bound = np.maximum(low_bound, 0).astype('int')\n",
    "    upp_bound = np.minimum(upp_bound, img_size[0]-1).astype('int')\n",
    "    n_pixels_per_col = upp_bound - low_bound + 1\n",
    "    n_pixels_per_col[n_pixels_per_col < 1] = 0\n",
    "    fit_coord = np.zeros((int(np.sum(n_pixels_per_col)), 2))\n",
    "    idx = 0;\n",
    "    for i in range(len(n_pixels_per_col)):\n",
    "        fit_coord[idx:idx+n_pixels_per_col[i], 0] = i;\n",
    "        fit_coord[idx:idx+n_pixels_per_col[i], 1] = np.arange(low_bound[i], upp_bound[i]+1)\n",
    "        idx += n_pixels_per_col[i]\n",
    "    \n",
    "    fit_coord = fit_coord.astype('int')"
   ]
  },
  {
   "cell_type": "markdown",
   "id": "dc217b54-1dce-40d3-8884-190caccb9c42",
   "metadata": {},
   "source": [
    "### Poles"
   ]
  },
  {
   "cell_type": "code",
   "execution_count": 52,
   "id": "6f000367-8414-4de0-89ac-92cec44a7fa6",
   "metadata": {},
   "outputs": [],
   "source": [
    "fit_im = np.zeros(img_size, dtype='bool')\n",
    "fit_im[fit_coord[:, 1], fit_coord[:, 0]] = True\n",
    "backbone_im = img * fit_im\n",
    "\n",
    "y_backbone, x_backbone = np.nonzero(backbone_im)"
   ]
  },
  {
   "cell_type": "code",
   "execution_count": 53,
   "id": "eb7ea15b-c9a2-45b7-b73e-f5bb452f0dde",
   "metadata": {},
   "outputs": [],
   "source": [
    "poles = np.zeros((2, 2))"
   ]
  },
  {
   "cell_type": "code",
   "execution_count": 54,
   "id": "0e47f793-4258-49a7-91f0-2386ff0b4814",
   "metadata": {},
   "outputs": [],
   "source": [
    "poles[:, 0] = [x_backbone[0] - 0.5, x_backbone[-1] + 0.5]\n",
    "poles[:, 1] = fit_coeff[0] * poles[:, 0]**2 + fit_coeff[1] * poles[:, 0] + fit_coeff[2]"
   ]
  },
  {
   "cell_type": "code",
   "execution_count": 55,
   "id": "4d2f1524-ead7-410b-b7bb-a92d5fa33765",
   "metadata": {},
   "outputs": [
    {
     "data": {
      "text/plain": [
       "array([[ 1.5       , -0.94163503],\n",
       "       [17.5       , 29.67773931]])"
      ]
     },
     "execution_count": 55,
     "metadata": {},
     "output_type": "execute_result"
    }
   ],
   "source": [
    "poles"
   ]
  },
  {
   "cell_type": "code",
   "execution_count": 56,
   "id": "bd7bdf3e-632a-4082-8e6d-252212dd85a4",
   "metadata": {},
   "outputs": [],
   "source": [
    "plt.figure()\n",
    "plt.imshow(img)\n",
    "plt.plot(poles[:, 0], poles[:, 1], '*')\n",
    "plt.show()"
   ]
  },
  {
   "cell_type": "markdown",
   "id": "6e559eb1-d339-475c-8d67-39accf269438",
   "metadata": {},
   "source": [
    "### Arc length"
   ]
  },
  {
   "cell_type": "code",
   "execution_count": 57,
   "id": "03aaa978-2cbc-4dd5-9011-493995a7996e",
   "metadata": {},
   "outputs": [],
   "source": [
    "x_0, x_end = x_backbone[0] - 0.5, x_backbone[-1] + 0.5\n",
    "\n",
    "if abs(fit_coeff[0]) > 1e-10:\n",
    "    transf_points = (fit_coeff[0] / abs(fit_coeff[0])) * np.array([2*fit_coeff[0]*x_0 + fit_coeff[1] , 2*fit_coeff[0]*x_end + fit_coeff[1]])\n",
    "    sqrt_exp = np.sqrt(1 + transf_points**2)\n",
    "    arc_length = np.diff(transf_points * sqrt_exp + np.log(transf_points + sqrt_exp)) / (4 * abs(fit_coeff[0]))\n",
    "else:\n",
    "    \n",
    "    fit_points = [fit_coeff[1] * x_0 + fit_coeff[2], fit_coeff[1] * x_end + fit_coeff[2]]\n",
    "    arc_length = math.sqrt((x_0 - x_end) ** 2 + (fit_points[0] - fit_points[1]) ** 2)\n",
    "    "
   ]
  },
  {
   "cell_type": "code",
   "execution_count": 58,
   "id": "706ec0a1-372d-4b9a-bf77-14b9ea355874",
   "metadata": {},
   "outputs": [
    {
     "name": "stdout",
     "output_type": "stream",
     "text": [
      "[34.59481994]\n"
     ]
    }
   ],
   "source": [
    "print(arc_length)"
   ]
  },
  {
   "cell_type": "markdown",
   "id": "9e304205-83a4-4ca0-9bf3-96ee86e4da22",
   "metadata": {},
   "source": [
    "\n",
    "### Just do a dilation and see if a dot lands on the cell and assign the dot coordinates. Just that simple.\n",
    "#### Be careful and loop over all the dots as each cell can have more than one dot."
   ]
  },
  {
   "cell_type": "code",
   "execution_count": null,
   "id": "843a2b44-d742-435c-a343-1af733dc6b01",
   "metadata": {},
   "outputs": [],
   "source": []
  },
  {
   "cell_type": "code",
   "execution_count": null,
   "id": "7ecc4a3f-b23d-4190-99c0-2419103ca81c",
   "metadata": {},
   "outputs": [],
   "source": []
  },
  {
   "cell_type": "markdown",
   "id": "a2adfe39-7273-408d-81ac-f62260beb6cc",
   "metadata": {},
   "source": [
    "### Compute internal coordinates"
   ]
  },
  {
   "cell_type": "code",
   "execution_count": 59,
   "id": "dbdaf74e-ec90-4c83-930a-e391e5d6581d",
   "metadata": {},
   "outputs": [
    {
     "data": {
      "text/plain": [
       "array([[ 1.5       , -0.94163503],\n",
       "       [17.5       , 29.67773931]])"
      ]
     },
     "execution_count": 59,
     "metadata": {},
     "output_type": "execute_result"
    }
   ],
   "source": [
    "poles"
   ]
  },
  {
   "cell_type": "code",
   "execution_count": 72,
   "id": "6e2eb434-1db8-41ed-aea1-9f4ca48cd374",
   "metadata": {},
   "outputs": [],
   "source": [
    "dot_coordinate = np.array([[1.0, 5.0]])"
   ]
  },
  {
   "cell_type": "code",
   "execution_count": 73,
   "id": "1fcfac7d-a349-4fe9-990d-871d31b86810",
   "metadata": {},
   "outputs": [],
   "source": [
    "plt.figure()\n",
    "plt.imshow(img)\n",
    "plt.plot(x_data, y_data, 'r--')\n",
    "plt.plot(poles[:, 0], poles[:, 1], '*')\n",
    "plt.plot(dot_coordinate[:, 0], dot_coordinate[:, 1], 'go')\n",
    "plt.show()"
   ]
  },
  {
   "cell_type": "code",
   "execution_count": 74,
   "id": "c78161c2-5ef9-4716-a411-2ad70b8dd76b",
   "metadata": {},
   "outputs": [
    {
     "data": {
      "text/plain": [
       "array([[1., 5.]])"
      ]
     },
     "execution_count": 74,
     "metadata": {},
     "output_type": "execute_result"
    }
   ],
   "source": [
    "dot_coordinate"
   ]
  },
  {
   "cell_type": "code",
   "execution_count": 75,
   "id": "de44600a-5d5d-4664-9dda-7ad6d9515b03",
   "metadata": {},
   "outputs": [
    {
     "data": {
      "text/plain": [
       "(1, 2)"
      ]
     },
     "execution_count": 75,
     "metadata": {},
     "output_type": "execute_result"
    }
   ],
   "source": [
    "dot_coordinate.shape"
   ]
  },
  {
   "cell_type": "code",
   "execution_count": 76,
   "id": "95bc01b2-b4e3-4a51-a911-6a8e5925a07b",
   "metadata": {},
   "outputs": [],
   "source": [
    "proj = np.zeros_like(dot_coordinate)"
   ]
  },
  {
   "cell_type": "code",
   "execution_count": 77,
   "id": "e28ad055-53ff-4d8c-bc41-67ae8b4c97db",
   "metadata": {},
   "outputs": [
    {
     "data": {
      "text/plain": [
       "array([[0., 0.]])"
      ]
     },
     "execution_count": 77,
     "metadata": {},
     "output_type": "execute_result"
    }
   ],
   "source": [
    "proj"
   ]
  },
  {
   "cell_type": "code",
   "execution_count": null,
   "id": "939a86ae-3e81-4d34-ada9-c4bf51e2f7f0",
   "metadata": {},
   "outputs": [],
   "source": []
  },
  {
   "cell_type": "markdown",
   "id": "7b4551df-917e-4469-a247-84f4f2f4147b",
   "metadata": {},
   "source": [
    "#### Project normal and solve a cubic equation"
   ]
  },
  {
   "cell_type": "code",
   "execution_count": null,
   "id": "738f6da2-8d4b-4e04-92cf-d374c34fc144",
   "metadata": {},
   "outputs": [],
   "source": []
  },
  {
   "cell_type": "code",
   "execution_count": 78,
   "id": "f294bb57-d42a-4f0d-a793-50638144c7b3",
   "metadata": {},
   "outputs": [],
   "source": [
    "dot_no = 0\n",
    "p0, p1, p2 = fit_coeff\n",
    "x0, y0 = dot_coordinate[dot_no]\n",
    "projected_point = np.zeros(dot_coordinate[dot_no].shape)\n",
    "if abs(p0) > 1e-10:\n",
    "    x_star = np.roots([2*p0**2, 3*p0*p1, 2*p0*(p2-y0) + (p1**2+1), p1*(p2-y0)-x0]) # 3rd degree polynomial\n",
    "    x_star[abs(np.imag(x_star)) < 1e-10] = np.real(x_star[abs(np.imag(x_star)) < 1e-10])\n",
    "    #print(x_star)\n",
    "    x_star = np.real(x_star[np.isreal(x_star)])\n",
    "    x_mid = -p1/(2*p0)\n",
    "    if x0 > x_mid:\n",
    "        projected_point[0] = np.max(x_star)\n",
    "    else:\n",
    "        projected_point[0] = min(x_star)\n",
    "else:\n",
    "    projected_point[0] = x0 - ((p1 * (p2 - p1)) / ((p1**2 + 1)))\n",
    "\n",
    "projected_point[1] = p0 * projected_point[0] ** 2 + p1 * projected_point[0] + p2\n",
    "# you should return projected point and distance to projected point.\n",
    "\n",
    "distance_to_proj = math.sqrt((projected_point[0] - x0)**2 + (projected_point[1] - y0)**2)"
   ]
  },
  {
   "cell_type": "code",
   "execution_count": 79,
   "id": "07c9b86e-141e-42aa-9aa2-a198fdf67dce",
   "metadata": {},
   "outputs": [],
   "source": [
    "plt.figure()\n",
    "plt.imshow(img)\n",
    "plt.plot(x_data, y_data, 'r--')\n",
    "plt.plot(poles[:, 0], poles[:, 1], '*')\n",
    "plt.plot(dot_coordinate[:, 0], dot_coordinate[:, 1], 'go')\n",
    "plt.plot(projected_point[0], projected_point[1], 'k*')\n",
    "plt.plot([dot_coordinate[0, 0], projected_point[0]], [dot_coordinate[0, 1], projected_point[1]], 'b--')\n",
    "plt.show()"
   ]
  },
  {
   "cell_type": "code",
   "execution_count": null,
   "id": "e522b817-b19f-45b6-908e-e624da0504d7",
   "metadata": {},
   "outputs": [],
   "source": []
  },
  {
   "cell_type": "code",
   "execution_count": 80,
   "id": "1a6d28f3-897d-4c4a-a248-38533e02ab12",
   "metadata": {},
   "outputs": [
    {
     "data": {
      "text/plain": [
       "array([4.08916113, 3.10586705])"
      ]
     },
     "execution_count": 80,
     "metadata": {},
     "output_type": "execute_result"
    }
   ],
   "source": [
    "projected_point"
   ]
  },
  {
   "cell_type": "code",
   "execution_count": 81,
   "id": "03fb93a5-6a28-4ac8-b643-061f6c75c48f",
   "metadata": {},
   "outputs": [
    {
     "data": {
      "text/plain": [
       "array([[1., 5.]])"
      ]
     },
     "execution_count": 81,
     "metadata": {},
     "output_type": "execute_result"
    }
   ],
   "source": [
    "dot_coordinate"
   ]
  },
  {
   "cell_type": "code",
   "execution_count": 82,
   "id": "d4553761-7acd-4d7f-a6d2-8b8ddc26e6a0",
   "metadata": {},
   "outputs": [
    {
     "data": {
      "text/plain": [
       "array([[ 3.08916113, -1.89413295]])"
      ]
     },
     "execution_count": 82,
     "metadata": {},
     "output_type": "execute_result"
    }
   ],
   "source": [
    "projected_point - dot_coordinate"
   ]
  },
  {
   "cell_type": "code",
   "execution_count": 83,
   "id": "fba8381a-0321-4b08-9836-dd9d31b0a43a",
   "metadata": {},
   "outputs": [
    {
     "data": {
      "text/plain": [
       "13.058499999999999"
      ]
     },
     "execution_count": 83,
     "metadata": {},
     "output_type": "execute_result"
    }
   ],
   "source": [
    "3.08 ** 2 + 1.89 ** 2"
   ]
  },
  {
   "cell_type": "code",
   "execution_count": 84,
   "id": "bc83f797-1aed-4903-8d04-d4349fd52569",
   "metadata": {},
   "outputs": [
    {
     "data": {
      "text/plain": [
       "3.613585477057378"
      ]
     },
     "execution_count": 84,
     "metadata": {},
     "output_type": "execute_result"
    }
   ],
   "source": [
    "np.sqrt(13.058)"
   ]
  },
  {
   "cell_type": "code",
   "execution_count": null,
   "id": "0c950860-d367-4d05-ae28-bf0ec70ca43c",
   "metadata": {},
   "outputs": [],
   "source": []
  },
  {
   "cell_type": "code",
   "execution_count": 85,
   "id": "0e127edb-6695-4da7-83df-d389d0455c21",
   "metadata": {},
   "outputs": [
    {
     "data": {
      "text/plain": [
       "3.623624725781455"
      ]
     },
     "execution_count": 85,
     "metadata": {},
     "output_type": "execute_result"
    }
   ],
   "source": [
    "distance_to_proj"
   ]
  },
  {
   "cell_type": "code",
   "execution_count": null,
   "id": "9cb9fd4b-be51-485a-87b1-1a6d0cd2f062",
   "metadata": {},
   "outputs": [],
   "source": []
  },
  {
   "cell_type": "markdown",
   "id": "b1ce7ba9-3120-4dee-83c7-e1d8da457d33",
   "metadata": {},
   "source": [
    "#### (Pole to projected_point) / arc_length"
   ]
  },
  {
   "cell_type": "code",
   "execution_count": 86,
   "id": "a6ac3b65-79e9-4c3c-96e0-8e14c6986159",
   "metadata": {},
   "outputs": [
    {
     "data": {
      "text/plain": [
       "array([[ 1.5       , -0.94163503],\n",
       "       [17.5       , 29.67773931]])"
      ]
     },
     "execution_count": 86,
     "metadata": {},
     "output_type": "execute_result"
    }
   ],
   "source": [
    "poles"
   ]
  },
  {
   "cell_type": "code",
   "execution_count": null,
   "id": "d17470cf-fd4c-46ac-93e3-607fd41da615",
   "metadata": {},
   "outputs": [],
   "source": []
  },
  {
   "cell_type": "code",
   "execution_count": null,
   "id": "d9782579-5bd8-4ab5-8cb2-54768cd0dbae",
   "metadata": {},
   "outputs": [],
   "source": []
  },
  {
   "cell_type": "markdown",
   "id": "9c1d4f8f-b880-4896-b63d-5fe9a40926d7",
   "metadata": {},
   "source": [
    "### Assigning internal coordinates"
   ]
  },
  {
   "cell_type": "code",
   "execution_count": null,
   "id": "7ec5b2cc-7381-47ad-becf-a370118d1f27",
   "metadata": {},
   "outputs": [],
   "source": []
  },
  {
   "cell_type": "code",
   "execution_count": null,
   "id": "2b2ab2ad-aa43-41d7-8e0b-e8f1ceb87ef3",
   "metadata": {},
   "outputs": [],
   "source": []
  },
  {
   "cell_type": "code",
   "execution_count": null,
   "id": "0a6dc672-e5b5-452e-902b-001acd71a8d7",
   "metadata": {},
   "outputs": [],
   "source": []
  },
  {
   "cell_type": "code",
   "execution_count": null,
   "id": "2692cc6b-c5f2-4c01-a300-f58d0d5b1b8a",
   "metadata": {},
   "outputs": [],
   "source": []
  },
  {
   "cell_type": "markdown",
   "id": "19e4b411-15ad-4d35-9b7b-3c32258c9905",
   "metadata": {},
   "source": [
    "### Final assemble"
   ]
  },
  {
   "cell_type": "code",
   "execution_count": 70,
   "id": "238eda32-e825-4ab6-a038-269de66374ee",
   "metadata": {},
   "outputs": [],
   "source": [
    "from rtseg.cells.utils import compute_fit_coeff_poles_arc_length, regionprops_custom\n",
    "from skimage.measure import regionprops, label\n",
    "from skimage.io import imread\n",
    "from pathlib import Path\n",
    "import matplotlib.pyplot as plt\n",
    "import matplotlib as mpl\n",
    "mpl.use('QtAgg')\n",
    "%matplotlib qt"
   ]
  },
  {
   "cell_type": "code",
   "execution_count": 71,
   "id": "2cc021d4-ca06-46a1-849d-f296bbaaeda0",
   "metadata": {},
   "outputs": [],
   "source": [
    "filepath = Path('/home/pk/Documents/rtseg/data/backbone/img40_20_13.tif')"
   ]
  },
  {
   "cell_type": "code",
   "execution_count": 72,
   "id": "3a303dc2-0327-48bc-b588-1e91646d1cc8",
   "metadata": {},
   "outputs": [],
   "source": [
    "image = imread(filepath)"
   ]
  },
  {
   "cell_type": "code",
   "execution_count": 73,
   "id": "7a41df73-7c25-4203-a30b-a3f73977e8b0",
   "metadata": {},
   "outputs": [],
   "source": [
    "plt.figure()\n",
    "plt.imshow(image)\n",
    "plt.show()"
   ]
  },
  {
   "cell_type": "code",
   "execution_count": 74,
   "id": "c064e4e3-b333-4f47-9246-cd33873fc4eb",
   "metadata": {},
   "outputs": [],
   "source": [
    "label_img = label(image)"
   ]
  },
  {
   "cell_type": "code",
   "execution_count": 75,
   "id": "17220c88-c7c6-410d-a288-aaa27b6f0a36",
   "metadata": {},
   "outputs": [],
   "source": [
    "props = regionprops(label_img, extra_properties=(compute_fit_coeff_poles_arc_length,))"
   ]
  },
  {
   "cell_type": "code",
   "execution_count": 76,
   "id": "41edd2ab-9ea2-40d0-9acb-cc99856f8967",
   "metadata": {},
   "outputs": [],
   "source": [
    "props_custom = regionprops_custom(label_img)"
   ]
  },
  {
   "cell_type": "code",
   "execution_count": 77,
   "id": "21e41a23-77ab-49ee-aa1b-0ab879faf7e9",
   "metadata": {},
   "outputs": [
    {
     "data": {
      "text/plain": [
       "1430"
      ]
     },
     "execution_count": 77,
     "metadata": {},
     "output_type": "execute_result"
    }
   ],
   "source": [
    "len(props_custom)"
   ]
  },
  {
   "cell_type": "code",
   "execution_count": 78,
   "id": "971d2f46-aaab-4e3b-adb7-0fd86adb3c72",
   "metadata": {},
   "outputs": [
    {
     "data": {
      "text/plain": [
       "array([24.00633763])"
      ]
     },
     "execution_count": 78,
     "metadata": {},
     "output_type": "execute_result"
    }
   ],
   "source": [
    "props_custom[123].arc_length"
   ]
  },
  {
   "cell_type": "code",
   "execution_count": 79,
   "id": "9b835aba-fd50-4f51-bb2a-a7d54e897e68",
   "metadata": {},
   "outputs": [],
   "source": [
    "cellprop = props_custom[0]"
   ]
  },
  {
   "cell_type": "code",
   "execution_count": 80,
   "id": "85a05ff5-4443-4f23-b680-106465e5965c",
   "metadata": {},
   "outputs": [
    {
     "data": {
      "text/plain": [
       "(array([ 0.01181161, -0.21374283,  3.90755213]), array([18.136178]))"
      ]
     },
     "execution_count": 80,
     "metadata": {},
     "output_type": "execute_result"
    }
   ],
   "source": [
    "cellprop.fit_coeff, cellprop.arc_length,"
   ]
  },
  {
   "cell_type": "code",
   "execution_count": null,
   "id": "0605c645-4d10-485c-877f-cbcc69c5827d",
   "metadata": {},
   "outputs": [],
   "source": []
  },
  {
   "cell_type": "code",
   "execution_count": null,
   "id": "e72d0c23-b6cc-4226-b8fe-aed24dc1a832",
   "metadata": {},
   "outputs": [],
   "source": []
  },
  {
   "cell_type": "code",
   "execution_count": null,
   "id": "123e63b8-3efb-4d3e-89ff-79d838a170ba",
   "metadata": {},
   "outputs": [],
   "source": []
  },
  {
   "cell_type": "code",
   "execution_count": 90,
   "id": "fe839814-6619-4158-9ba2-4b08dae1206d",
   "metadata": {},
   "outputs": [],
   "source": [
    "\n",
    "for cellprop in props:\n",
    "    cellprop.fit_coeff, cellprop.arc_length, cellprop.poles, cellprop.boundary_pixels = cellprop.compute_fit_coeff_poles_arc_length"
   ]
  },
  {
   "cell_type": "code",
   "execution_count": 91,
   "id": "a347df8c-d3f7-4a84-a4ff-730a3c70a2e1",
   "metadata": {},
   "outputs": [
    {
     "data": {
      "text/plain": [
       "1430"
      ]
     },
     "execution_count": 91,
     "metadata": {},
     "output_type": "execute_result"
    }
   ],
   "source": [
    "len(props)"
   ]
  },
  {
   "cell_type": "code",
   "execution_count": 92,
   "id": "b2bc8733-8966-4422-ac5e-a2a86ad464ce",
   "metadata": {},
   "outputs": [
    {
     "name": "stdout",
     "output_type": "stream",
     "text": [
      "[18.136178]\n"
     ]
    }
   ],
   "source": [
    "print(props[0].arc_length)"
   ]
  },
  {
   "cell_type": "code",
   "execution_count": 97,
   "id": "f82e8fd0-5635-40e4-8f53-f996feb3e6b7",
   "metadata": {},
   "outputs": [
    {
     "name": "stdout",
     "output_type": "stream",
     "text": [
      "1 ---> [18.136178] [ 0.01181161 -0.21374283  3.90755213]\n",
      "2 ---> [20.01346271] [-0.00317766  0.06124026  2.92672605]\n",
      "3 ---> [22.20256698] [ 0.00761075 -0.25603428  4.78237335]\n",
      "4 ---> [22.01918504] [-2.38107562e-03  7.88313385e-02  2.49219739e+00]\n",
      "5 ---> [32.02584983] [ 1.68132604e-03 -7.76589108e-02  4.87219057e+00]\n",
      "6 ---> [32.01265415] [ 4.37192821e-04 -4.04945292e-02  4.02127479e+00]\n",
      "7 ---> [35.04684483] [-2.01122048e-03  3.63009243e-02  3.70846919e+00]\n",
      "8 ---> [34.0338607] [-1.78898856e-03  3.14543028e-02  3.89488613e+00]\n",
      "9 ---> [32.03256575] [ 1.69484290e-03 -8.50538627e-02  4.11750049e+00]\n",
      "10 ---> [37.00577455] [ 5.06736035e-04 -3.22070827e-02  3.91246592e+00]\n",
      "11 ---> [36.04813347] [ 6.09671119e-04 -7.27146211e-02  4.72898402e+00]\n",
      "12 ---> [36.03277243] [ 2.00908044e-03 -7.91798674e-02  3.62473588e+00]\n",
      "13 ---> [19.06255175] [-0.0051114   0.03314849  3.02872203]\n",
      "14 ---> [21.13486183] [ 0.00406703 -0.18371241  3.43219385]\n",
      "15 ---> [22.19385083] [-0.00615607  0.02128071  3.87807245]\n",
      "16 ---> [21.02772449] [ 3.39572304e-03 -9.87251320e-02  3.74516659e+00]\n",
      "17 ---> [20.05816942] [0.00268291 0.01881356 1.97152096]\n",
      "18 ---> [22.0745871] [ 0.00534451 -0.06535111  3.21383785]\n",
      "19 ---> [21.11716904] [-0.00738225  0.20436227  1.49932201]\n",
      "20 ---> [18.03762853] [ 0.00465106 -0.1221309   3.80385035]\n",
      "21 ---> [18.04106512] [ 0.00514369 -0.12888031  3.20543385]\n",
      "22 ---> [19.13204492] [-0.00474681 -0.0207077   3.18147244]\n",
      "23 ---> [27.04291215] [ 3.41822669e-03 -1.07434680e-01  4.30274684e+00]\n",
      "24 ---> [29.00795641] [ 1.32839959e-03 -2.98344923e-02  3.39342218e+00]\n",
      "25 ---> [40.00062677] [-4.18896693e-07  5.61444856e-03  2.44952833e+00]\n",
      "26 ---> [36.0554727] [-2.67272145e-03  9.38953024e-02  2.98392002e+00]\n",
      "27 ---> [34.03802046] [-1.05279475e-03 -7.81904187e-03  3.55386103e+00]\n",
      "28 ---> [37.00038764] [-2.05520562e-04  8.69438725e-03  3.35650394e+00]\n",
      "29 ---> [31.0137165] [ 2.41060696e-04 -3.66687453e-02  3.82238295e+00]\n",
      "30 ---> [35.02317321] [-7.70206678e-04 -6.71683696e-03  2.99348069e+00]\n",
      "31 ---> [27.08674148] [ 0.0049514  -0.15082839  3.94560886]\n",
      "32 ---> [23.05207111] [-0.00457285  0.07142119  2.92450452]\n",
      "33 ---> [23.11919591] [-0.00467431  0.02179867  4.25588117]\n",
      "34 ---> [22.02748137] [ 0.00330416 -0.09659823  3.16930124]\n",
      "35 ---> [21.09869939] [-0.00568216  0.04506982  3.53031387]\n",
      "36 ---> [32.00348806] [ 2.57464660e-04 -2.19597470e-02  4.11083311e+00]\n",
      "37 ---> [36.15957186] [-0.00438025  0.1285146   2.50253362]\n",
      "38 ---> [35.15107953] [ 4.17043471e-03 -1.81427461e-01  5.79821059e+00]\n",
      "39 ---> [37.01698237] [ 3.74380789e-04 -4.27056366e-02  4.16232231e+00]\n",
      "40 ---> [46.17248822] [ 3.22071234e-03 -1.30466756e-01  4.38251539e+00]\n",
      "41 ---> [24.0482243] [-3.05477498e-03  2.29769275e-02  4.08536588e+00]\n",
      "42 ---> [19.31408095] [ 0.01534992 -0.20366194  3.36748265]\n",
      "43 ---> [21.31845694] [ 0.01289519 -0.33776301  4.59564194]\n",
      "44 ---> [24.03138386] [-0.00365115  0.09165483  3.46626824]\n",
      "45 ---> [24.0522742] [-0.00475046  0.10360709  2.97268459]\n",
      "46 ---> [24.01412901] [-2.36649648e-03  4.42880710e-02  2.83909810e+00]\n",
      "47 ---> [41.02014449] [-1.32432617e-03  5.23747969e-02  3.28795226e+00]\n",
      "48 ---> [23.00240708] [-1.37077961e-04  1.73687551e-02  2.95601243e+00]\n",
      "49 ---> [23.0248593] [1.49671773e-03 9.12644958e-03 2.72441808e+00]\n",
      "50 ---> [30.07610285] [-0.00406102  0.10602496  3.40562898]\n",
      "51 ---> [35.16292987] [-0.00461404  0.13120003  2.88022667]\n",
      "52 ---> [34.52878862] [ 0.00901236 -0.31305453  5.08222981]\n",
      "53 ---> [33.02602956] [ 1.01031996e-03 -6.70881783e-02  4.44049173e+00]\n",
      "54 ---> [44.03895026] [ 1.26812897e-03 -8.16299423e-02  4.94734411e+00]\n",
      "55 ---> [31.14768016] [ 0.00531733 -0.18219415  4.47911416]\n",
      "56 ---> [30.02654409] [-2.15825817e-03  4.32536253e-02  2.86373207e+00]\n",
      "57 ---> [28.79856546] [-2.26620769e-03 -4.18650904e-01  1.33421169e+01]\n",
      "58 ---> [28.01872539] [ 1.85563935e-03 -7.10463824e-02  4.01498523e+00]\n",
      "59 ---> [33.08004619] [-3.25608173e-03  7.23287538e-02  3.33247106e+00]\n",
      "60 ---> [32.04325294] [-1.30243630e-03 -5.74835826e-03  3.56644204e+00]\n",
      "61 ---> [28.02238134] [-2.45708459e-03  6.16403001e-02  3.28112287e+00]\n",
      "62 ---> [29.00115443] [ 5.11517312e-04 -1.18184997e-02  3.07583417e+00]\n",
      "63 ---> [28.0089325] [ 9.46716313e-04 -4.56615259e-02  3.52525539e+00]\n",
      "64 ---> [18.10363303] [-0.0078746   0.20381034  2.82909802]\n",
      "65 ---> [20.01293839] [ 2.23760265e-03 -6.75580646e-02  4.16911638e+00]\n",
      "66 ---> [19.0957474] [ 0.00816249 -0.19292533  4.31041779]\n",
      "67 ---> [20.02735548] [-0.00451945  0.08981233  2.60792488]\n",
      "68 ---> [29.12680885] [-0.00555991  0.14497367  1.91768679]\n",
      "69 ---> [24.01197125] [ 2.27099881e-03 -4.94349945e-02  4.04353651e+00]\n",
      "70 ---> [26.06370203] [-0.00446859  0.09140456  2.98507097]\n",
      "71 ---> [29.00312097] [-6.94238110e-05 -1.26814514e-02  4.20444638e+00]\n",
      "72 ---> [27.05856315] [ 3.40942363e-03 -1.27682196e-01  4.55330388e+00]\n",
      "73 ---> [28.07705637] [ 0.00429717 -0.14236441  4.13643084]\n",
      "74 ---> [30.0028275] [ 7.62552707e-04 -1.83628639e-02  4.07970395e+00]\n",
      "75 ---> [29.03904803] [ 3.06338976e-03 -9.38732756e-02  4.04027828e+00]\n",
      "76 ---> [37.3705453] [ 2.12015700e-03 -1.08943758e+00  2.72311100e+01]\n",
      "77 ---> [30.1901322] [ 0.00548369 -0.22021048  5.16866912]\n",
      "78 ---> [32.82615917] [-2.38862412e-03 -8.68337358e-01  2.32338680e+01]\n",
      "79 ---> [34.30777583] [-2.36122768e-03 -5.65102054e-01  1.88723769e+01]\n",
      "80 ---> [36.0585295] [-2.02815448e-03  3.65640003e-02  4.63443720e+00]\n",
      "81 ---> [20.14011756] [-0.01021738  0.20762275  2.91987637]\n",
      "82 ---> [22.03220768] [-1.89706977e-03 -8.64785192e-03  3.60675637e+00]\n",
      "83 ---> [42.01468186] [ 8.69987927e-04 -5.16183736e-02  4.74585295e+00]\n",
      "84 ---> [23.03880112] [ 7.96796552e-04 -7.46720849e-02  4.27081365e+00]\n",
      "85 ---> [21.02899543] [-2.53239084e-03  7.95644307e-03  3.13870031e+00]\n",
      "86 ---> [19.15282809] [ 0.01107633 -0.23748205  5.03609668]\n",
      "87 ---> [17.00905034] [1.39170815e-03 4.59072210e-03 3.63155848e+00]\n",
      "88 ---> [37.01347398] [-9.74942101e-04  1.79261078e-02  3.57155116e+00]\n",
      "89 ---> [27.04633947] [-3.18808632e-03  5.17571984e-02  3.82698704e+00]\n",
      "90 ---> [32.06225608] [ 3.11318453e-03 -1.20813711e-01  4.48512730e+00]\n",
      "91 ---> [32.02102185] [-8.22539635e-04  5.84171301e-02  2.45436999e+00]\n",
      "92 ---> [17.00622923] [-2.64718915e-03  4.99739953e-02  3.74016950e+00]\n",
      "93 ---> [20.30188968] [-0.01238117  0.1339646   3.26491181]\n",
      "94 ---> [30.13726528] [ 4.48831076e-03 -1.86325557e-01  4.92866614e+00]\n",
      "95 ---> [22.21279334] [ 0.01043921 -0.26338299  4.91440349]\n",
      "96 ---> [23.07038528] [ 0.00581897 -0.14094673  3.83581963]\n",
      "97 ---> [30.1924206] [ 0.00589364 -0.22086976  5.34475515]\n",
      "98 ---> [18.02333192] [-1.99344603e-03 -1.26507084e-02  3.60485743e+00]\n",
      "99 ---> [18.065042] [ 0.00780642 -0.10679884  3.09523433]\n",
      "100 ---> [22.00729005] [ 1.55603042e-03 -4.91797765e-02  3.87913611e+00]\n",
      "101 ---> [22.01008554] [ 8.01894045e-04 -4.53603078e-02  3.86232300e+00]\n",
      "102 ---> [23.05191197] [ 0.00490825 -0.12459161  3.73823976]\n",
      "103 ---> [26.18921898] [-0.00787026  0.17032516  2.44395598]\n",
      "104 ---> [28.03915462] [-1.09325069e-03 -2.03536997e-02  3.52899147e+00]\n",
      "105 ---> [29.01746307] [-1.21378371e-03  8.26983969e-03  3.05611260e+00]\n",
      "106 ---> [32.25921706] [ 0.00654541 -0.24425064  5.48136255]\n",
      "107 ---> [28.11665421] [-0.00550482  0.12750012  2.09538742]\n",
      "108 ---> [39.02075344] [-5.79484726e-04 -7.88724130e-03  4.41503064e+00]\n",
      "109 ---> [31.24790522] [-0.0067961   0.16748942  2.32875247]\n",
      "110 ---> [34.00113874] [6.03229437e-05 6.10773027e-03 2.18313118e+00]\n",
      "111 ---> [29.06195398] [ 3.90207604e-03 -1.12796292e-01  4.99088923e+00]\n",
      "112 ---> [33.00282106] [-6.06046504e-04  1.44686338e-02  3.59571349e+00]\n",
      "113 ---> [32.1542138] [ 0.00531364 -0.17127044  3.76963259]\n",
      "114 ---> [26.02212421] [ 1.38240270e-03 -7.29976847e-02  4.18966638e+00]\n",
      "115 ---> [34.00500424] [ 7.91497920e-04 -3.34005072e-02  4.11741159e+00]\n",
      "116 ---> [41.00645478] [ 7.29243494e-04 -3.32845427e-02  3.84916681e+00]\n",
      "117 ---> [25.026024] [-3.15930691e-03  7.37128941e-02  3.75764042e+00]\n",
      "118 ---> [27.06561737] [-0.00440314  0.10181577  3.31804209]\n",
      "119 ---> [24.06180389] [ 0.00515028 -0.12679826  4.50534926]\n",
      "120 ---> [36.00069961] [ 2.34802693e-04 -1.20976245e-02  4.05621105e+00]\n",
      "121 ---> [26.01385436] [-2.17297060e-03  5.58253332e-02  2.79323362e+00]\n",
      "122 ---> [25.00353296] [ 6.56222374e-04 -1.85828963e-03  3.56934703e+00]\n",
      "123 ---> [34.02400359] [-1.91003576e-03  6.56942047e-02  2.76271451e+00]\n",
      "124 ---> [24.00633763] [-1.65756600e-03  3.89822964e-02  3.77778666e+00]\n",
      "125 ---> [23.02838284] [ 3.09095123e-03 -3.99510406e-02  3.80256229e+00]\n",
      "126 ---> [26.00142635] [-5.12762494e-04  5.71413987e-03  3.08886284e+00]\n",
      "127 ---> [26.04270206] [ 2.13252462e-03 -1.00907774e-01  4.66090603e+00]\n",
      "128 ---> [25.00035981] [ 8.82481215e-05 -7.32971309e-03  3.42381348e+00]\n",
      "129 ---> [36.01203384] [ 1.19345944e-03 -3.44601393e-02  3.72340572e+00]\n",
      "130 ---> [33.01870326] [-1.29323711e-03  1.84240293e-02  3.93157831e+00]\n",
      "131 ---> [29.00691189] [-1.30330291e-03  3.72738652e-02  3.26113670e+00]\n",
      "132 ---> [30.12354339] [-0.00502408  0.11929174  3.67662276]\n",
      "133 ---> [32.06152275] [-3.13343967e-03  7.47444758e-02  3.19777770e+00]\n",
      "134 ---> [29.23037554] [-0.00754714  0.21715019  2.82986705]\n",
      "135 ---> [32.03498442] [ 2.37069600e-03 -5.70413139e-02  3.86594400e+00]\n",
      "136 ---> [27.02428558] [ 2.33310516e-03 -8.25234565e-02  4.40838283e+00]\n",
      "137 ---> [24.2907084] [ 0.01118867 -0.23591095  4.44621277]\n",
      "138 ---> [29.16253958] [-0.0063061   0.16566915  3.00459369]\n",
      "139 ---> [27.07186127] [ 3.94023156e-03 -1.42020531e-01  4.35346040e+00]\n",
      "140 ---> [26.13621742] [-0.00676156  0.15397303  3.65417752]\n",
      "141 ---> [26.21902886] [ 0.00867098 -0.22262096  5.2295318 ]\n",
      "142 ---> [27.00569709] [-1.00340726e-03  1.27676276e-02  3.65834581e+00]\n",
      "143 ---> [27.19648689] [ 0.00764339 -0.22010554  4.56450819]\n",
      "144 ---> [20.42386342] [-0.01095589  0.37336376  1.62188776]\n",
      "145 ---> [20.20802215] [ 0.01251038 -0.22630163  4.62586447]\n",
      "146 ---> [19.13973511] [ 0.00964114 -0.1131908   3.85200577]\n",
      "147 ---> [20.02111525] [-3.20641273e-03  3.36598066e-02  3.43066796e+00]\n",
      "148 ---> [27.03505115] [ 1.67726261e-03 -9.07338386e-02  4.76266836e+00]\n",
      "149 ---> [31.03658379] [ 2.31418899e-03 -4.39738541e-02  3.58267005e+00]\n",
      "150 ---> [32.25830409] [-0.00689358  0.20732346  2.79951874]\n",
      "151 ---> [33.07765] [-3.11458104e-03  6.50701001e-02  3.30181957e+00]\n",
      "152 ---> [30.08814166] [ 4.42850957e-03 -1.25571613e-01  4.70170764e+00]\n",
      "153 ---> [37.12005762] [ 3.59702262e-03 -1.54115482e-01  4.71779883e+00]\n",
      "154 ---> [25.04250987] [ 2.23025569e-03 -1.02209618e-01  4.83286720e+00]\n",
      "155 ---> [24.03334754] [ 3.42768852e-03 -1.01799247e-01  4.16732546e+00]\n",
      "156 ---> [28.03525502] [-3.05662466e-03  9.14483661e-02  3.18576783e+00]\n",
      "157 ---> [28.19353219] [-0.00559972  0.07545576  3.74378084]\n",
      "158 ---> [28.0506518] [ 3.51700545e-03 -1.14760136e-01  4.50859454e+00]\n",
      "159 ---> [26.0202228] [-1.59813335e-03  8.62720553e-03  3.45434401e+00]\n",
      "160 ---> [37.03317596] [-1.75786371e-03  4.36635030e-02  4.05756200e+00]\n",
      "161 ---> [36.0194337] [ 4.54707565e-04 -4.73903380e-02  4.24653936e+00]\n",
      "162 ---> [34.00128231] [ 1.12718778e-04 -1.21182878e-02  3.22542384e+00]\n",
      "163 ---> [32.27282332] [ 0.00681733 -0.2478059   5.7803016 ]\n",
      "164 ---> [36.0973977] [-3.03473519e-03  6.81552712e-02  3.89642684e+00]\n",
      "165 ---> [22.04124355] [ 0.00482324 -0.09969172  3.86233304]\n",
      "166 ---> [22.1263384] [ 0.00787995 -0.12629585  3.42440635]\n",
      "167 ---> [24.13911014] [ 4.07146518e-03 -1.60070399e-03  2.43923743e+00]\n",
      "168 ---> [18.04209571] [-0.0044658   0.02556759  4.11487731]\n",
      "169 ---> [17.00617152] [ 2.15505607e-03 -1.77788170e-02  3.02804360e+00]\n",
      "170 ---> [22.00980355] [-2.11721533e-03  5.74408729e-02  2.92915924e+00]\n",
      "171 ---> [24.16066764] [-0.00760779  0.12628553  3.22435849]\n",
      "172 ---> [25.00713791] [-5.86970584e-04 -8.25935757e-03  4.27745665e+00]\n",
      "173 ---> [22.00418409] [-1.43093408e-03  2.29711326e-02  3.42431239e+00]\n",
      "174 ---> [24.00315038] [ 1.15608111e-03 -2.41503116e-02  3.14981412e+00]\n",
      "175 ---> [27.06453011] [ 3.95702178e-03 -1.34305834e-01  4.73070775e+00]\n",
      "176 ---> [27.00860798] [-1.32730928e-03  2.00272574e-02  3.44763019e+00]\n",
      "177 ---> [45.00071498] [ 2.02747998e-04 -1.09285125e-02  4.56584036e+00]\n",
      "178 ---> [29.03572657] [-2.56822707e-03  4.70463559e-02  3.76923060e+00]\n",
      "179 ---> [30.01503028] [-1.70609526e-03  4.15176476e-02  3.26415877e+00]\n",
      "180 ---> [44.04456377] [ 1.62651714e-03 -9.10961054e-02  5.16104436e+00]\n",
      "181 ---> [25.08385501] [-0.00545832  0.10811835  3.56871906]\n",
      "182 ---> [21.06957032] [ 0.00637968 -0.15337728  4.21961129]\n",
      "183 ---> [21.10321355] [-0.00739342  0.10490435  3.14957029]\n",
      "184 ---> [24.01883521] [-1.72012868e-03  7.12292178e-02  3.42636406e+00]\n",
      "185 ---> [24.0505813] [ 0.00315695 -0.02453573  3.02513179]\n",
      "186 ---> [27.03349709] [-2.56967894e-03  9.64787164e-02  3.18966674e+00]\n",
      "187 ---> [22.07244186] [7.42625155e-04 6.50774771e-02 2.26162733e+00]\n",
      "188 ---> [22.13034841] [-0.00820842  0.1399882   3.45122728]\n",
      "189 ---> [21.03791714] [-2.38163235e-03  1.00387315e-01  2.95143380e+00]\n",
      "190 ---> [26.12534782] [ 4.39528386e-03 -1.82950052e-01  4.80351155e+00]\n",
      "191 ---> [36.02200465] [-1.04213832e-03  9.01437964e-03  4.63330779e+00]\n",
      "192 ---> [29.00076687] [8.67686549e-05 4.69632303e-03 3.90899324e+00]\n",
      "193 ---> [27.08877587] [ 0.00517855 -0.14353631  4.4064036 ]\n",
      "194 ---> [35.00497639] [-8.21153519e-04  2.65504079e-02  3.57329308e+00]\n",
      "195 ---> [43.04737618] [ 1.78782327e-03 -9.04508730e-02  5.00209175e+00]\n",
      "196 ---> [38.05210569] [ 2.20624755e-03 -1.01716368e-01  4.35826239e+00]\n",
      "197 ---> [33.30228734] [ 0.00658199 -0.26324103  6.25238555]\n",
      "198 ---> [32.06518693] [-1.17914151e-03 -2.34924287e-02  4.19270614e+00]\n",
      "199 ---> [32.00641632] [-7.85299811e-04  1.05381217e-02  4.32609948e+00]\n",
      "200 ---> [30.1374746] [-0.00553814  0.15941574  3.42764402]\n",
      "201 ---> [29.01483011] [ 1.58064007e-04 -3.63010277e-02  4.32500707e+00]\n",
      "202 ---> [25.03192864] [-1.86918811e-03  2.08825350e-03  4.70545048e+00]\n",
      "203 ---> [26.01196324] [ 6.06554458e-04 -4.41056996e-02  3.94198156e+00]\n",
      "204 ---> [32.04716446] [-2.92213751e-03  1.02525147e-01  3.34499206e+00]\n",
      "205 ---> [31.01215925] [ 1.52602197e-03 -5.20086233e-02  4.06999553e+00]\n",
      "206 ---> [36.04176674] [ 2.31877941e-03 -8.13708247e-02  4.35315719e+00]\n",
      "207 ---> [37.01379518] [-1.18434658e-03  3.23463887e-02  3.82794065e+00]\n",
      "208 ---> [36.05417914] [ 2.40506630e-03 -1.06890895e-01  4.18053426e+00]\n",
      "209 ---> [23.05186938] [ 0.00448177 -0.0673014   4.03932751]\n",
      "210 ---> [34.02837292] [-1.91145435e-03  7.92822942e-02  2.50225233e+00]\n",
      "211 ---> [23.00176233] [-8.50376908e-04  2.54829807e-02  3.36132060e+00]\n",
      "212 ---> [27.01097461] [-1.18757306e-03  9.18419183e-03  3.25601588e+00]\n",
      "213 ---> [36.04223893] [ 1.82194619e-03 -9.76722623e-02  5.14164061e+00]\n",
      "214 ---> [33.0174068] [-1.09281477e-03  1.00295043e-02  3.58646635e+00]\n",
      "215 ---> [27.08138716] [-0.00475166  0.14721286  1.95625366]\n",
      "216 ---> [24.0397575] [ 3.98029388e-03 -1.08182313e-01  4.19506455e+00]\n",
      "217 ---> [21.00225406] [-2.69100563e-04 -8.90229805e-03  4.36428561e+00]\n",
      "218 ---> [29.02287205] [ 2.30399622e-03 -7.40229482e-02  4.51223691e+00]\n",
      "219 ---> [28.04073246] [-0.00330907  0.08214951  2.75996153]\n",
      "220 ---> [25.03932126] [-0.00387684  0.09739819  3.67043304]\n",
      "221 ---> [20.00604408] [-1.25260337e-03  4.36838358e-02  3.23292088e+00]\n",
      "222 ---> [35.13110457] [ 4.26198201e-03 -1.54916544e-01  5.34316175e+00]\n",
      "223 ---> [25.103171] [-0.00626071  0.13935103  2.79208055]\n",
      "224 ---> [34.09499327] [-0.00378492  0.13395826  2.49609185]\n",
      "225 ---> [46.0163693] [-5.38636526e-04  1.71511198e-03  4.61777315e+00]\n",
      "226 ---> [36.04839012] [-1.02720682e-03 -9.27312507e-03  4.33171106e+00]\n",
      "227 ---> [37.03163944] [ 1.71681067e-03 -8.09574588e-02  4.05256536e+00]\n",
      "228 ---> [44.08823433] [ 2.02649269e-03 -1.24145965e-01  5.38288392e+00]\n",
      "229 ---> [29.00071722] [-1.79381101e-04 -1.33690460e-03  4.03811478e+00]\n",
      "230 ---> [28.00430255] [ 5.57017658e-04 -3.00822386e-02  3.86874975e+00]\n",
      "231 ---> [48.06997187] [ 1.76240007e-03 -1.05953617e-01  5.03397250e+00]\n",
      "232 ---> [34.02765394] [ 1.73719960e-03 -7.88981798e-02  4.53299609e+00]\n",
      "233 ---> [24.05132112] [-0.00450672  0.08400171  4.17497308]\n",
      "234 ---> [33.00246129] [ 6.30855549e-04 -2.23583151e-02  2.79281407e+00]\n",
      "235 ---> [34.06669795] [-3.11977078e-03  8.95252626e-02  4.07353594e+00]\n",
      "236 ---> [24.02151236] [-2.72770927e-03  4.90649472e-02  3.76571863e+00]\n",
      "237 ---> [36.02649078] [-1.37077860e-03  2.22639132e-02  4.48665782e+00]\n",
      "238 ---> [30.03701645] [-2.77045452e-03  6.73777551e-02  3.87440272e+00]\n",
      "239 ---> [32.17138841] [-0.00561521  0.17500982  2.49078728]\n",
      "240 ---> [28.05774178] [-0.00394224  0.09802751  3.50435628]\n",
      "241 ---> [30.02791258] [-1.87123916e-03  2.57648093e-02  3.51502906e+00]\n",
      "242 ---> [32.01496068] [ 1.03893842e-03 -5.60201964e-02  4.55651881e+00]\n",
      "243 ---> [30.07428143] [ 3.97809365e-03 -1.00662587e-01  4.01228662e+00]\n",
      "244 ---> [25.24486701] [ 0.00811547 -0.27275601  5.71569077]\n",
      "245 ---> [23.00645837] [ 1.56671184e-03 -4.58230329e-02  3.59967911e+00]\n",
      "246 ---> [17.00071067] [-9.31620749e-04  1.48625958e-02  4.83851082e+00]\n",
      "247 ---> [18.18554109] [ 0.0136299  -0.20430029  4.86355039]\n",
      "248 ---> [19.00495448] [ 1.26707175e-03 -4.09310852e-02  4.59842184e+00]\n",
      "249 ---> [20.00778583] [ 4.77885091e-04 -3.64350348e-02  4.32813227e+00]\n",
      "250 ---> [18.05340592] [-3.88538092e-03  3.25359179e-04  4.97901793e+00]\n",
      "251 ---> [20.07466998] [ 0.00745337 -0.15085474  4.71847221]\n",
      "252 ---> [18.1374966] [-0.0117896   0.21976132  2.97643406]\n",
      "253 ---> [34.01724056] [ 1.26042458e-03 -6.16579402e-02  4.84517213e+00]\n",
      "254 ---> [17.17440734] [-0.01465829  0.23158087  3.08712637]\n",
      "255 ---> [48.00361169] [ 1.72322816e-04 -1.93991608e-02  4.96847188e+00]\n",
      "256 ---> [30.08243263] [-0.00419744  0.10675134  3.72136858]\n",
      "257 ---> [35.02035688] [-1.67704844e-03  5.30908631e-02  3.40782964e+00]\n",
      "258 ---> [22.11285712] [-0.00799128  0.16576127  3.70838174]\n",
      "259 ---> [66.01534707] [ 3.43715541e-04 -3.94772395e-02  4.77959966e+00]\n",
      "260 ---> [29.00651121] [-9.91379137e-04  1.45812986e-02  4.01367905e+00]\n",
      "261 ---> [30.01244659] [ 2.74279462e-04 -3.63687938e-02  4.04489646e+00]\n",
      "262 ---> [25.42566788] [ 0.01099235 -0.361371    6.10823612]\n",
      "263 ---> [32.02032263] [ 1.21414099e-03 -6.53481373e-02  4.61711489e+00]\n",
      "264 ---> [36.01637917] [ 8.37989187e-04 -5.39670230e-02  4.84980691e+00]\n",
      "265 ---> [44.01334663] [-8.05130873e-04  2.08895420e-02  3.96114001e+00]\n",
      "266 ---> [41.05368764] [-1.98509051e-03  6.30153748e-02  4.20292919e+00]\n",
      "267 ---> [45.00882284] [ 7.30512386e-04 -3.77984766e-02  4.27021261e+00]\n",
      "268 ---> [40.01631846] [-1.13395834e-03  3.28015858e-02  4.14761517e+00]\n",
      "269 ---> [19.11902981] [ 0.00945519 -0.12714622  4.57449636]\n",
      "270 ---> [21.03577008] [-0.00420697  0.12103714  3.10251442]\n",
      "271 ---> [21.03971968] [ 0.00495864 -0.08593703  4.11471873]\n",
      "272 ---> [24.11776973] [ 0.0071651  -0.16543069  4.40159668]\n",
      "273 ---> [20.21910567] [ 5.71076297e-03 -2.41775254e-01  6.35436653e+00]\n",
      "274 ---> [21.24523579] [ 0.0124319  -0.2785133   5.33746308]\n",
      "275 ---> [23.06737369] [ 0.00530111 -0.14697686  4.66761524]\n",
      "276 ---> [24.04010037] [-0.00382803  0.06493568  2.82758256]\n",
      "277 ---> [20.04731722] [-0.00595414  0.10926471  3.96221041]\n",
      "278 ---> [23.00315637] [ 1.18830540e-03 -2.10919949e-02  5.03331605e+00]\n",
      "279 ---> [22.10943463] [-0.00785753  0.1707017   3.55217015]\n",
      "280 ---> [21.00371909] [-4.74697718e-04 -8.42577116e-03  4.07487336e+00]\n",
      "281 ---> [19.02296976] [-0.00446249  0.08524771  3.26172264]\n",
      "282 ---> [32.0020521] [-2.94370319e-04 -8.08571711e-04  4.95773943e+00]\n",
      "283 ---> [22.10716878] [-0.00771109  0.14802893  3.82742216]\n",
      "284 ---> [23.01205042] [ 2.39852510e-03 -4.69413184e-02  4.69448666e+00]\n",
      "285 ---> [30.00007197] [-1.10202813e-04  4.27029066e-03  3.86874236e+00]\n",
      "286 ---> [72.00752887] [-6.64708560e-05 -9.47608967e-03  5.49810936e+00]\n",
      "287 ---> [23.01488511] [-6.99131612e-04 -1.93853652e-02  4.31698813e+00]\n",
      "288 ---> [25.02185606] [ 1.85171536e-03 -7.66241641e-02  4.66140964e+00]\n",
      "289 ---> [198.02132037] [ 7.64884396e-06 -1.61868032e-02  6.37163588e+00]\n",
      "290 ---> [34.31454218] [-4.15955734e-03  2.76854561e-02  5.92177275e+00]\n",
      "291 ---> [35.09174729] [-0.00358379  0.11858803  3.52161814]\n",
      "292 ---> [39.01870879] [-2.17746933e-04 -2.23138337e-02  4.41290467e+00]\n",
      "293 ---> [31.01141716] [ 1.41707491e-03 -5.21873584e-02  4.43777581e+00]\n",
      "294 ---> [36.01354123] [-1.00650289e-03  1.74801661e-02  3.69871116e+00]\n",
      "295 ---> [27.37594521] [-0.01055479  0.30820735  1.58131304]\n",
      "296 ---> [27.01616124] [ 2.07682707e-03 -6.62348597e-02  4.01777279e+00]\n",
      "297 ---> [28.01695301] [ 9.38953234e-04 -5.66747616e-02  4.48043078e+00]\n",
      "298 ---> [28.17271936] [-0.00684315  0.17177558  2.47933945]\n",
      "299 ---> [22.04386873] [-0.00481168  0.11718682  3.78295676]\n",
      "300 ---> [23.0059894] [ 1.46070344e-03 -4.41660074e-02  3.89789601e+00]\n",
      "301 ---> [23.16258773] [-0.00896836  0.19056407  3.53366488]\n",
      "302 ---> [23.11698258] [ 0.00760585 -0.17160717  4.44387782]\n",
      "303 ---> [26.00872725] [-1.57908846e-03  2.90038680e-02  3.79003167e+00]\n",
      "304 ---> [25.33478722] [-0.0113944   0.28100226  2.83882588]\n",
      "305 ---> [26.00368978] [ 1.08053250e-03 -3.15719044e-02  3.71107067e+00]\n",
      "306 ---> [28.00319565] [ 6.56450352e-04 -2.84793136e-02  3.75425120e+00]\n",
      "307 ---> [37.03681025] [-1.81079468e-03  4.29262646e-02  3.79117241e+00]\n",
      "308 ---> [38.00048989] [-1.59011273e-04  2.19375193e-03  4.00195107e+00]\n",
      "309 ---> [42.0529727] [-2.05783912e-03  7.84200038e-02  2.84404623e+00]\n",
      "310 ---> [32.06898278] [ 3.18859373e-03 -1.28018562e-01  4.63120451e+00]\n",
      "311 ---> [39.08757835] [ 2.85050522e-03 -1.27853902e-01  5.48033894e+00]\n",
      "312 ---> [24.10579384] [ 0.00665668 -0.17167779  4.52896861]\n",
      "313 ---> [20.15644899] [-4.34993659e-03 -3.23170664e-02  4.39851174e+00]\n",
      "314 ---> [28.05484713] [-0.00379786  0.09007305  3.36785379]\n",
      "315 ---> [20.04557183] [-0.00580715  0.118721    2.47226421]\n",
      "316 ---> [20.22552797] [-0.01301267  0.26159928  3.18777176]\n",
      "317 ---> [21.04616773] [ 0.00544063 -0.10143009  4.01477013]\n",
      "318 ---> [27.01477243] [ 2.01599655e-03 -6.27717198e-02  3.65472702e+00]\n",
      "319 ---> [24.0209691] [-2.31789085e-03  2.65235097e-02  4.52639985e+00]\n",
      "320 ---> [24.00712985] [-1.67704506e-03  3.12008897e-02  4.07331050e+00]\n",
      "321 ---> [39.04465318] [-2.12415441e-03  7.85565345e-02  3.12419442e+00]\n",
      "322 ---> [31.03847075] [-2.43931853e-03  4.91114017e-02  4.22906112e+00]\n",
      "323 ---> [28.00811862] [-2.69938060e-04 -1.63961298e-02  4.21829672e+00]\n",
      "324 ---> [28.06956705] [ 4.24549644e-03 -1.31077845e-01  5.02002823e+00]\n",
      "325 ---> [36.01299769] [ 4.86874902e-04 -4.19381186e-02  4.27228543e+00]\n",
      "326 ---> [28.07396011] [ 3.85638725e-03 -1.49409153e-01  5.46726248e+00]\n",
      "327 ---> [30.00678466] [ 1.05896115e-03 -4.14803939e-02  3.98170349e+00]\n",
      "328 ---> [39.07074403] [-2.32920976e-03  5.87689785e-02  4.64899855e+00]\n",
      "329 ---> [29.01565605] [-1.72355838e-03  3.25246307e-02  4.27800172e+00]\n",
      "330 ---> [29.01196398] [-1.16405017e-03  1.38119051e-02  3.89256179e+00]\n",
      "331 ---> [28.13360032] [-0.00582614  0.18407814  2.28617674]\n",
      "332 ---> [21.05520766] [ 3.15034403e-03 -1.24746685e-01  4.88201682e+00]\n",
      "333 ---> [26.16216182] [-0.00746064  0.18776756  2.40277253]\n",
      "334 ---> [27.07233606] [ 2.83703234e-03 -1.32217524e-01  4.29292354e+00]\n",
      "335 ---> [27.02741272] [ 2.88092126e-03 -7.88557069e-02  3.48357840e+00]\n",
      "336 ---> [24.00025505] [-3.19216294e-04  6.04201650e-03  3.85088817e+00]\n",
      "337 ---> [22.03119252] [8.07501894e-04 3.53184937e-02 3.34064224e+00]\n",
      "338 ---> [18.05129221] [-0.00558827  0.14342207  2.66441524]\n",
      "339 ---> [23.0437685] [ 3.13359128e-03 -1.14570931e-01  4.59827386e+00]\n",
      "340 ---> [25.00372114] [ 9.04827756e-04 -3.29930976e-02  3.74345050e+00]\n",
      "341 ---> [25.18849375] [-0.00718841  0.10588592  4.01104027]\n",
      "342 ---> [24.0890527] [ 0.00605581 -0.1594402   4.49272136]\n",
      "343 ---> [24.01489507] [ 5.86934804e-04 -4.77861918e-02  3.75126157e+00]\n",
      "344 ---> [39.08970714] [ 2.49115957e-03 -1.32950099e-01  5.18951921e+00]\n",
      "345 ---> [20.0517977] [ 1.06187199e-03 -9.11466324e-02  4.13353006e+00]\n",
      "346 ---> [27.03251411] [ 3.14704280e-03 -7.97193701e-02  4.44226400e+00]\n",
      "347 ---> [33.00762785] [ 7.72603104e-04 -4.03990660e-02  4.43181143e+00]\n",
      "348 ---> [27.0273223] [ 2.73987086e-03 -8.54406305e-02  4.10736743e+00]\n",
      "349 ---> [25.00440242] [ 1.29831517e-03 -3.01210806e-02  4.17209406e+00]\n",
      "350 ---> [23.030821] [-0.003698    0.06485471  3.0747321 ]\n",
      "351 ---> [35.01093929] [-1.17288576e-03  3.19050204e-02  4.34087944e+00]\n",
      "352 ---> [22.01334969] [ 1.14299916e-03 -5.56798403e-02  4.45498568e+00]\n",
      "353 ---> [22.11072407] [ 0.00764472 -0.18673927  4.59170955]\n",
      "354 ---> [39.00568401] [-6.34678427e-04  1.47739579e-02  4.35317283e+00]\n",
      "355 ---> [25.04818968] [ 4.30505651e-03 -1.04164803e-01  4.37535180e+00]\n",
      "356 ---> [26.0207661] [-8.08709475e-04 -1.78726460e-02  4.15693730e+00]\n",
      "357 ---> [26.06207549] [-0.00447808  0.09560164  3.05243212]\n",
      "358 ---> 23.0 [ 1.73037697e-16 -4.16333634e-16  3.00000000e+00]\n",
      "359 ---> [27.01484535] [ 1.11154977e-03 -5.71841860e-02  4.27072364e+00]\n",
      "360 ---> [28.04156516] [ 3.25917163e-03 -1.02043564e-01  3.80568811e+00]\n",
      "361 ---> [31.15933448] [ 2.02994146e-03 -1.59816754e-01  5.83154659e+00]\n",
      "362 ---> [33.00511911] [-1.01451431e-04 -1.42617819e-02  3.37598721e+00]\n",
      "363 ---> [35.05595496] [-2.64450739e-03  7.12867972e-02  4.15653507e+00]\n",
      "364 ---> [36.13744437] [ 4.21019439e-03 -1.49478932e-01  5.14185378e+00]\n",
      "365 ---> [27.11535631] [ 4.73105557e-03 -1.79104180e-01  5.69533684e+00]\n",
      "366 ---> [37.01642535] [-2.73060031e-04 -1.93941114e-02  4.58312394e+00]\n",
      "367 ---> [34.17078261] [-0.00486418  0.12922314  3.86413718]\n",
      "368 ---> [27.00645154] [-1.25096822e-03  4.24114628e-02  3.66169380e+00]\n",
      "369 ---> [43.01114571] [-7.84441734e-04  2.11442815e-02  4.47153952e+00]\n",
      "370 ---> [35.00824841] [ 1.03119239e-03 -4.11631965e-02  4.29790820e+00]\n",
      "371 ---> [69.0061168] [-5.27215843e-05 -9.56392258e-03  5.11333452e+00]\n",
      "372 ---> [25.08446083] [ 0.00564895 -0.14696967  4.95045489]\n",
      "373 ---> [44.0171869] [ 2.12649621e-04 -3.65704775e-02  5.18988255e+00]\n",
      "374 ---> [34.00948207] [-2.40562861e-04 -1.52035836e-02  4.71011208e+00]\n",
      "375 ---> [28.03977316] [-3.22353049e-03  7.56677220e-02  3.60155813e+00]\n",
      "376 ---> [29.49524734] [ 0.00980301 -0.36305267  7.40610412]\n",
      "377 ---> [30.02634193] [-2.25261986e-03  4.99822416e-02  3.80606297e+00]\n",
      "378 ---> [37.30932468] [ 3.06420583e-03 -5.49590055e-01  1.67838119e+01]\n",
      "379 ---> [41.0279795] [-1.49460546e-03  4.91035577e-02  4.38651230e+00]\n",
      "380 ---> [24.04266289] [ 1.12275481e-03 -8.34183337e-02  5.35738375e+00]\n",
      "381 ---> [21.10047485] [-1.89399088e-03 -5.73535576e-02  4.83299389e+00]\n",
      "382 ---> [30.205084] [-0.00654125  0.159257    3.30354135]\n",
      "383 ---> [24.13937219] [-0.007795    0.1763368   3.56737897]\n",
      "384 ---> [25.07795669] [ 0.00390477 -0.04601335  3.76421493]\n",
      "385 ---> [34.0069191] [ 6.69303828e-04 -6.77438167e-03  3.56205548e+00]\n",
      "386 ---> [26.02601742] [-1.60195249e-03  2.30006648e-03  4.65808206e+00]\n",
      "387 ---> [26.0130143] [ 1.52718908e-03 -5.99996579e-02  4.04034453e+00]\n",
      "388 ---> [29.03526903] [-2.60186371e-03  4.96619067e-02  4.67613759e+00]\n",
      "389 ---> [31.09699748] [-0.00442566  0.13162952  3.23242541]\n",
      "390 ---> [32.11138976] [-0.00444306  0.12203632  3.00337152]\n",
      "391 ---> [21.04485216] [-0.00475897  0.06431988  4.7441795 ]\n",
      "392 ---> [21.03653844] [ 0.00486924 -0.09731881  4.54606594]\n",
      "393 ---> [31.00399023] [ 8.18201397e-04 -3.11050541e-02  4.27379790e+00]\n",
      "394 ---> [27.02579993] [-7.96231467e-04 -2.12293006e-02  4.82921406e+00]\n",
      "395 ---> [26.01682115] [-9.41372649e-04 -9.55484690e-03  3.78061959e+00]\n",
      "396 ---> [25.12420057] [-2.79049743e-03 -2.44193786e-02  5.03224805e+00]\n",
      "397 ---> [21.02538398] [-4.00954744e-03  7.26418019e-02  4.26251251e+00]\n",
      "398 ---> [24.20353362] [-0.00943423  0.23700654  3.07590149]\n",
      "399 ---> [22.08140528] [-0.00678314  0.14386072  3.77147959]\n",
      "400 ---> [21.02871209] [ 4.08207043e-03 -9.86340045e-02  4.54900409e+00]\n",
      "401 ---> [31.04569036] [-2.88838790e-03  6.99294571e-02  4.07978243e+00]\n",
      "402 ---> [21.001723] [ 6.13983870e-04 -2.27052790e-02  3.70178443e+00]\n",
      "403 ---> [33.0058474] [-9.82566792e-04  3.34399326e-02  4.14542928e+00]\n",
      "404 ---> [29.00280005] [-4.86696228e-04  2.37041051e-03  3.75720384e+00]\n",
      "405 ---> [36.0113663] [ 1.20803571e-03 -4.33774198e-02  4.64602977e+00]\n",
      "406 ---> [36.05587079] [-2.54833174e-03  7.17746855e-02  3.50005368e+00]\n",
      "407 ---> [33.00061805] [ 2.24069934e-04 -1.15557715e-02  4.10316968e+00]\n",
      "408 ---> [32.07767756] [-0.00366308  0.09663973  3.49269734]\n",
      "409 ---> [44.00196022] [ 3.47061151e-04 -1.82960877e-02  3.66752405e+00]\n",
      "410 ---> [46.06101084] [ 1.57977572e-03 -1.01028145e-01  5.70051440e+00]\n",
      "411 ---> [24.06184068] [-0.00518155  0.11594053  3.38706921]\n",
      "412 ---> [26.00150631] [-3.42638823e-04  1.80222448e-02  3.34019697e+00]\n",
      "413 ---> [36.00760443] [-9.39041657e-04  3.93178548e-02  3.46361309e+00]\n",
      "414 ---> [35.0653656] [-3.01880057e-03  9.81347236e-02  3.72128983e+00]\n",
      "415 ---> [34.00678808] [ 3.77641463e-04 -3.10203132e-02  3.76897375e+00]\n",
      "416 ---> [32.01715523] [-1.23185609e-03  6.17431504e-02  3.26128261e+00]\n",
      "417 ---> [32.01503893] [-5.99832104e-04 -9.99622138e-03  4.68173080e+00]\n",
      "418 ---> [32.04013945] [ 1.86280071e-03 -9.41844330e-02  4.80459322e+00]\n",
      "419 ---> 31.0 [8.17669840e-18 1.94289029e-16 3.50000000e+00]\n",
      "420 ---> [27.11300878] [-0.00587412  0.1485065   3.08565378]\n",
      "421 ---> [30.00714315] [-1.32891324e-04 -1.78480182e-02  4.35105725e+00]\n",
      "422 ---> [26.01013258] [ 1.57160208e-03 -5.73734217e-02  3.95880923e+00]\n",
      "423 ---> [27.00325689] [-2.95977715e-04  2.25272356e-02  3.25685678e+00]\n",
      "424 ---> [37.00529036] [ 2.16285295e-05 -1.76834313e-02  4.06769178e+00]\n",
      "425 ---> [31.06342789] [ 3.39868567e-03 -1.21968334e-01  4.31759024e+00]\n",
      "426 ---> [49.0735014] [ 1.78181912e-03 -1.07063412e-01  5.40154890e+00]\n",
      "427 ---> [36.00366665] [-6.49322665e-04  1.80804542e-02  3.40310825e+00]\n",
      "428 ---> [20.04784377] [-2.51680590e-03  1.10660245e-01  3.28587992e+00]\n",
      "429 ---> [20.14265984] [ 0.00905251 -0.11325539  3.80460789]\n",
      "430 ---> [25.04977202] [-0.00373828  0.13004535  2.2705644 ]\n",
      "431 ---> [36.10233634] [-3.35144190e-03  8.81475651e-02  3.85378894e+00]\n",
      "432 ---> [18.05683366] [-2.48546545e-03 -3.29899325e-02  4.19111718e+00]\n",
      "433 ---> [20.05484085] [ 0.00626933 -0.10306103  3.88134735]\n",
      "434 ---> [42.00826931] [-7.83633188e-04  2.64041162e-02  4.80136127e+00]\n",
      "435 ---> [33.06603358] [-3.31620052e-03  1.08591465e-01  3.59798793e+00]\n",
      "436 ---> [36.00398344] [ 6.67723362e-04 -2.87292516e-02  3.86857786e+00]\n",
      "437 ---> [41.00347584] [-1.01463234e-04 -8.73961899e-03  4.60307207e+00]\n",
      "438 ---> [25.01900844] [ 6.18537011e-04 -5.28141319e-02  5.26965956e+00]\n",
      "439 ---> [24.04394989] [-3.92106966e-03  6.33942369e-02  4.10142404e+00]\n",
      "440 ---> [23.12875459] [-0.00787799  0.15569189  3.12403749]\n",
      "441 ---> [29.04708555] [-2.72784232e-03  4.22151579e-02  4.34828021e+00]\n",
      "442 ---> [23.0179409] [ 2.15472411e-03 -7.46571915e-02  4.56940211e+00]\n",
      "443 ---> [29.0088861] [-1.41670604e-03  3.25701973e-02  3.95500289e+00]\n",
      "444 ---> [32.01328958] [-1.88296279e-04 -2.27753856e-02  4.29624709e+00]\n",
      "445 ---> [28.01788192] [ 2.06585087e-03 -6.85378458e-02  4.02137379e+00]\n",
      "446 ---> [27.08408616] [-0.0049465   0.1112486   3.85064015]\n",
      "447 ---> [27.00174614] [ 6.41615304e-04 -1.12675083e-02  4.03930192e+00]\n",
      "448 ---> [34.00518806] [ 8.89357692e-04 -2.86856860e-02  4.55413252e+00]\n",
      "449 ---> [35.00569359] [ 2.63037875e-04 -2.61807706e-02  4.16338079e+00]\n",
      "450 ---> [23.00334967] [ 7.72315569e-04 -3.34759479e-03  3.90801360e+00]\n",
      "451 ---> [23.21331859] [ 0.01002678 -0.25198605  5.10782467]\n",
      "452 ---> [27.00090939] [-4.49344318e-04  7.40505720e-03  4.26612998e+00]\n",
      "453 ---> [21.00181723] [-4.37415082e-04  2.07880544e-02  3.85325984e+00]\n",
      "454 ---> [26.06697289] [ 0.00477346 -0.12475388  4.24896918]\n",
      "455 ---> [28.00836389] [-1.46473082e-03  4.56238497e-02  3.39821066e+00]\n",
      "456 ---> [28.03841277] [ 2.97707517e-03 -1.07108323e-01  4.67486829e+00]\n",
      "457 ---> [37.00519867] [ 5.62339374e-04 -3.30628536e-02  3.90650485e+00]\n",
      "458 ---> [24.02946067] [ 2.86725119e-03 -9.56113345e-02  5.27379154e+00]\n",
      "459 ---> [34.01597515] [ 1.37861146e-03 -5.99109015e-02  4.63483952e+00]\n",
      "460 ---> [35.00483847] [ 4.20063761e-04 -2.85813715e-02  4.19680260e+00]\n",
      "461 ---> [29.03602154] [ 2.51521685e-03 -1.02180985e-01  5.42217811e+00]\n",
      "462 ---> [23.03366793] [ 3.86769978e-03 -1.02240450e-01  4.61757171e+00]\n",
      "463 ---> [35.19589399] [-0.0050529   0.14299429  3.57596465]\n",
      "464 ---> [22.05941357] [ 3.83511925e-03 -1.35709031e-01  4.55153843e+00]\n",
      "465 ---> [32.15753766] [-0.00523095  0.13864806  3.67667304]\n",
      "466 ---> [31.05040781] [ 2.84407757e-03 -1.11143056e-01  4.62551251e+00]\n",
      "467 ---> [15.08717699] [ 4.26793094e-03 -1.61267021e-01  4.41358130e+00]\n",
      "468 ---> [18.05864084] [-1.38686465e-03 -5.59207732e-02  4.50376819e+00]\n",
      "469 ---> [18.00548516] [ 1.93706772e-03 -4.72280555e-02  3.77949143e+00]\n",
      "470 ---> [41.00061277] [ 3.58219578e-05 -6.83403101e-03  3.79563923e+00]\n",
      "471 ---> [16.06866099] [ 0.00909603 -0.17595572  4.29943552]\n",
      "472 ---> [24.10209751] [-0.00420994  0.1685424   2.89639744]\n",
      "473 ---> [22.01030195] [-1.19276007e-03  5.16451069e-02  3.09793635e+00]\n",
      "474 ---> [21.18646579] [-0.0108341   0.24221675  2.16851279]\n",
      "475 ---> [28.00699077] [ 8.03100374e-04 -3.98746962e-02  4.63141059e+00]\n",
      "476 ---> [28.08264281] [ 0.00473586 -0.12027682  4.45361317]\n",
      "477 ---> [24.086353] [-1.34814533e-03  1.13847377e-01  2.41563473e+00]\n",
      "478 ---> [35.03136823] [-1.58344125e-03  2.60798309e-02  4.67522042e+00]\n",
      "479 ---> [35.00914505] [ 7.63725367e-04 -4.28352865e-02  4.70163533e+00]\n",
      "480 ---> [40.00859089] [-3.24093833e-04 -6.68888698e-03  3.84276883e+00]\n",
      "481 ---> [35.22469851] [ 5.02414325e-03 -2.22018967e-01  6.32867775e+00]\n",
      "482 ---> [32.03596897] [-5.47720508e-04 -2.93579742e-02  4.38169180e+00]\n",
      "483 ---> 1.0 [0. 0. 0.]\n",
      "484 ---> [10.99776674] [-0.07994329  0.65397036  2.80975547]\n",
      "485 ---> [33.03127033] [ 1.96400112e-03 -8.51405046e-02  4.95156492e+00]\n",
      "486 ---> [34.07946906] [-0.00336771  0.09338579  3.03366202]\n",
      "487 ---> [27.03364994] [-2.95523856e-03  5.75073757e-02  4.29052686e+00]\n",
      "488 ---> [27.02549716] [ 2.01265568e-03 -8.24340722e-02  4.58787033e+00]\n",
      "489 ---> [25.02928373] [ 3.35511605e-03 -8.05227852e-02  3.92549135e+00]\n",
      "490 ---> [30.03137168] [ 1.99740905e-03 -8.78748477e-02  4.82260576e+00]\n",
      "491 ---> [30.10414535] [-0.00462179  0.11040023  3.65929979]\n",
      "492 ---> [19.04678101] [ 4.31735217e-03 -1.29620152e-01  4.35354279e+00]\n",
      "493 ---> [19.02681551] [ 0.00405772 -0.10212207  3.77005326]\n",
      "494 ---> [30.17084666] [ 0.00609542 -0.19419621  5.02523378]\n",
      "495 ---> [31.11143888] [ 0.00473937 -0.13797468  4.19045493]\n",
      "496 ---> [30.01942659] [-7.57492675e-04 -1.15526489e-02  5.01415494e+00]\n",
      "497 ---> [30.01894134] [-2.01594203e-03  5.18066007e-02  3.71187795e+00]\n",
      "498 ---> [29.04233684] [-0.00321781  0.08551711  3.20377898]\n",
      "499 ---> [29.00363213] [-4.07521608e-04 -2.87089900e-03  3.44639120e+00]\n",
      "500 ---> [36.05959045] [ 1.38446771e-03 -9.83309298e-02  5.73044932e+00]\n",
      "501 ---> [42.00103858] [ 2.62661185e-04 -1.37508409e-02  4.12370677e+00]\n",
      "502 ---> [20.15255334] [ 0.01043619 -0.22735467  4.71153623]\n",
      "503 ---> [20.23693398] [-0.01123614  0.12880462  3.18642423]\n",
      "504 ---> [40.07661399] [-2.65822927e-03  9.53750989e-02  3.01905015e+00]\n",
      "505 ---> [47.02611107] [ 1.10855251e-03 -6.53773184e-02  4.87030248e+00]\n",
      "506 ---> [49.05959995] [-1.63780737e-03  6.16194005e-02  3.39600140e+00]\n",
      "507 ---> [16.0535435] [ 0.00741474 -0.15623674  5.39661109]\n",
      "508 ---> [41.00668747] [ 7.16659481e-04 -3.48699818e-02  4.80780915e+00]\n",
      "509 ---> [22.0138622] [ 5.71816956e-04 -4.67631476e-02  4.03533997e+00]\n",
      "510 ---> [22.14228371] [-0.00784754  0.10920518  3.16892248]\n",
      "511 ---> [19.05674255] [ 2.43215108e-03 -1.16399882e-01  5.33103756e+00]\n",
      "512 ---> [32.04528577] [ 2.53338014e-03 -1.03912743e-01  4.89649012e+00]\n",
      "513 ---> [35.03602556] [-1.33350637e-03  8.80676668e-03  3.72418782e+00]\n",
      "514 ---> [41.0553314] [ 1.92052503e-03 -1.02046610e-01  5.03587638e+00]\n",
      "515 ---> [19.01840677] [ 4.97885918e-04 -5.26508615e-02  4.20577501e+00]\n",
      "516 ---> [17.16677828] [-0.01357234  0.17167635  2.89907099]\n",
      "517 ---> [35.00047087] [-3.71759497e-05 -3.86850836e-03  4.55348487e+00]\n",
      "518 ---> [41.01486658] [ 5.51179257e-04 -4.56098968e-02  4.29374451e+00]\n",
      "519 ---> [40.07966035] [ 2.38067240e-03 -1.23974803e-01  6.06284253e+00]\n",
      "520 ---> [45.00047987] [-8.93237629e-05 -6.24954971e-05  4.04565416e+00]\n",
      "521 ---> [21.00360323] [-1.51200945e-03  3.29144992e-02  4.26218445e+00]\n",
      "522 ---> [23.01182831] [-2.41383592e-03  5.18391163e-02  3.24167225e+00]\n",
      "523 ---> [20.07459665] [ 0.00728245 -0.15874209  4.45274253]\n",
      "524 ---> [20.07293307] [ 0.00728424 -0.12279522  4.01172281]\n",
      "525 ---> [34.00879431] [ 1.09985493e-03 -4.56584594e-02  5.35608822e+00]\n",
      "526 ---> [20.06302155] [-0.00639241  0.15102421  2.5859143 ]\n",
      "527 ---> [22.00404567] [-1.34464278e-03  3.69644926e-02  2.98557935e+00]\n",
      "528 ---> [23.04095655] [ 4.27563688e-03 -1.12617127e-01  4.68886080e+00]\n",
      "529 ---> [21.01347155] [-3.57560265e-04 -2.84106625e-02  4.58805495e+00]\n",
      "530 ---> [21.05170816] [-0.00558917  0.13033873  3.66459536]\n",
      "531 ---> [22.02989373] [-2.60070232e-03  1.42382162e-02  3.94127085e+00]\n",
      "532 ---> [41.01083843] [-8.29290976e-04  2.11923085e-02  4.46776591e+00]\n",
      "533 ---> [23.49250812] [ 0.014689   -0.39874187  6.3451533 ]\n",
      "534 ---> [23.02308871] [-7.75371381e-04 -2.65642274e-02  3.85803171e+00]\n",
      "535 ---> [24.12837035] [ 0.00744    -0.18215665  5.4644445 ]\n",
      "536 ---> [25.01295478] [ 1.71684476e-03 -2.06394674e-02  3.69627250e+00]\n",
      "537 ---> [33.0688631] [-3.06953431e-03  7.06100818e-02  4.22737925e+00]\n",
      "538 ---> [33.07409013] [-0.00345735  0.09795698  3.4530923 ]\n",
      "539 ---> [31.10906891] [-0.00466493  0.14934851  3.77739827]\n",
      "540 ---> [31.00159393] [ 1.38101315e-04 -1.39780943e-02  4.16433868e+00]\n",
      "541 ---> [32.07817452] [-0.00362915  0.13255528  2.57422178]\n",
      "542 ---> [47.0028997] [ 8.30785554e-05 -1.46988308e-02  4.69433957e+00]\n",
      "543 ---> [24.01873233] [ 2.75919545e-03 -7.34856044e-02  4.02635895e+00]\n",
      "544 ---> [33.10949449] [-0.00408302  0.10603291  3.43155901]\n",
      "545 ---> [24.04065422] [1.15801553e-03 2.93483707e-02 2.68231164e+00]\n",
      "546 ---> [27.0524995] [-2.06571236e-03  2.40081069e-04  4.71608932e+00]\n",
      "547 ---> [24.0813273] [ 4.72083335e-03 -1.58819595e-01  4.93372309e+00]\n",
      "548 ---> [34.05344207] [ 2.70696490e-03 -1.07358455e-01  4.46719441e+00]\n",
      "549 ---> [45.02683112] [ 4.76501626e-04 -5.32112589e-02  5.65305510e+00]\n",
      "550 ---> [33.03998412] [-2.27950327e-03  4.97002944e-02  4.15392848e+00]\n",
      "551 ---> [30.00403041] [ 9.01880673e-04 -3.11258246e-02  3.76615296e+00]\n",
      "552 ---> [30.00634755] [-1.18568835e-03  3.56072817e-02  4.21901190e+00]\n",
      "553 ---> [38.02360661] [ 1.01646255e-03 -6.49211440e-02  4.63727669e+00]\n",
      "554 ---> [38.03451089] [ 1.71004948e-03 -8.35353516e-02  5.34888977e+00]\n",
      "555 ---> [20.04917768] [ 4.24148009e-03 -1.30910070e-01  4.97899075e+00]\n",
      "556 ---> [21.03862878] [-0.00435857  0.0572753   3.76449955]\n",
      "557 ---> [33.01587358] [ 1.57616777e-03 -6.13794882e-02  4.04633032e+00]\n",
      "558 ---> [22.03510598] [ 3.24732868e-03 -1.06869786e-01  5.20926009e+00]\n",
      "559 ---> [24.02751554] [-5.39305266e-04 -3.49093809e-02  4.48585995e+00]\n",
      "560 ---> [22.15465011] [ 4.71590219e-03 -2.01797014e-01  5.64315889e+00]\n",
      "561 ---> 19.040655226588306 [ 3.03224044e-15 -6.54528537e-02  4.08907568e+00]\n",
      "562 ---> [25.00615683] [ 9.52327958e-04 -4.02836628e-02  4.79027136e+00]\n",
      "563 ---> [37.01474298] [-1.01014806e-03  1.81545570e-02  4.01632730e+00]\n",
      "564 ---> [32.17531046] [-0.00526041  0.12340247  2.98606461]\n",
      "565 ---> [34.02245026] [ 1.70790266e-03 -7.04150471e-02  4.80988990e+00]\n",
      "566 ---> [24.05567028] [-0.00485142  0.1229955   2.77502639]\n",
      "567 ---> [24.17552651] [ 0.00644913 -0.23055181  6.17585072]\n",
      "568 ---> [29.02880402] [-2.33464927e-03  4.39072668e-02  4.01997144e+00]\n",
      "569 ---> [35.0615674] [-0.0029349   0.09724272  2.90700072]\n",
      "570 ---> [25.12499622] [-0.00672521  0.13639687  3.89449706]\n",
      "571 ---> [59.02550911] [ 8.62421293e-04 -4.85951279e-02  4.27917503e+00]\n",
      "572 ---> [37.02815554] [-1.39193326e-03  2.48294888e-02  4.31391688e+00]\n",
      "573 ---> [25.07635356] [ 0.00535016 -0.1411417   4.52758521]\n",
      "574 ---> [18.08521463] [0.00422005 0.01533669 3.36512741]\n",
      "575 ---> [19.0982105] [ 0.00920398 -0.17957374  4.33387131]\n",
      "576 ---> [25.03192918] [ 2.83058915e-03 -9.77465913e-02  5.23007899e+00]\n",
      "577 ---> [27.10537503] [-0.00550877  0.12176419  3.73475209]\n",
      "578 ---> [28.10307588] [-0.0051405   0.11681188  3.29096593]\n",
      "579 ---> [30.01923323] [ 2.01957583e-03 -6.62742899e-02  3.79538552e+00]\n",
      "580 ---> [21.05566514] [-0.005967    0.11037467  3.81640745]\n",
      "581 ---> [20.0270621] [-3.52576157e-03  3.45416675e-02  3.59510747e+00]\n",
      "582 ---> [28.00008445] [-5.74456491e-05 -7.22711525e-04  4.83667184e+00]\n",
      "583 ---> [29.01095256] [-1.15407621e-03  1.27619428e-02  4.02223013e+00]\n",
      "584 ---> [23.17305821] [ 0.00848009 -0.2364304   5.20045162]\n",
      "585 ---> [23.0184548] [-2.85970103e-03  5.01061860e-02  3.31569771e+00]\n",
      "586 ---> [30.00604439] [-1.14915684e-03  3.07052638e-02  4.13960573e+00]\n",
      "587 ---> [27.03953773] [ 3.37822518e-03 -1.00468057e-01  4.21587792e+00]\n",
      "588 ---> [20.21043079] [ 0.01099315 -0.13695824  4.94961579]\n",
      "589 ---> [21.01698072] [ 2.49100447e-03 -7.64006090e-02  4.49440813e+00]\n",
      "590 ---> [33.06164991] [-2.86090675e-03  6.37496007e-02  4.45693718e+00]\n",
      "591 ---> [23.00757187] [-9.76179527e-04 -6.73257628e-04  4.35303219e+00]\n",
      "592 ---> [24.01156097] [ 2.24029539e-03 -5.10811409e-02  3.77846907e+00]\n",
      "593 ---> [37.00954133] [-9.61596520e-05 -1.91567503e-02  4.88946970e+00]\n",
      "594 ---> [32.00212951] [ 4.48718817e-04 -2.19338317e-02  4.21843017e+00]\n",
      "595 ---> [33.01011475] [ 3.83904781e-04 -3.59416504e-02  4.74570293e+00]\n",
      "596 ---> [38.00906624] [ 1.35846351e-04 -2.69393847e-02  4.63813401e+00]\n",
      "597 ---> [16.01783359] [ 3.71930472e-03 -8.82167305e-02  4.00315307e+00]\n",
      "598 ---> [18.05169405] [-0.0070277   0.09883215  3.1219654 ]\n",
      "599 ---> [34.01819168] [-1.44777557e-03  3.15578507e-02  4.40504667e+00]\n",
      "600 ---> [37.10394592] [ 3.18886032e-03 -1.46343510e-01  5.11526536e+00]\n",
      "601 ---> [38.00821087] [-9.40117502e-04  3.73966696e-02  3.76467648e+00]\n",
      "602 ---> [26.0279598] [7.41009646e-04 2.65128975e-02 3.49054353e+00]\n",
      "603 ---> [36.00357074] [ 5.53481923e-04 -1.12443254e-02  3.50861651e+00]\n",
      "604 ---> [29.11712305] [ 0.00536588 -0.15619315  4.5275782 ]\n",
      "605 ---> [26.04762298] [ 3.64162617e-03 -1.17159961e-01  5.33040814e+00]\n",
      "606 ---> [27.00300004] [ 1.63783791e-04 -1.89458028e-02  4.20794565e+00]\n",
      "607 ---> [27.00876154] [ 1.44009569e-03 -4.94957250e-02  3.96011609e+00]\n",
      "608 ---> [23.08500489] [ 0.00625011 -0.16052676  5.91305576]\n",
      "609 ---> [33.00668586] [-7.03996031e-04  7.51504535e-03  4.63832449e+00]\n",
      "610 ---> [32.01499513] [ 8.82379898e-04 -5.50385563e-02  4.68469969e+00]\n",
      "611 ---> [167.01795454] [-3.24665458e-05 -8.93671680e-03  6.16492269e+00]\n",
      "612 ---> [39.02562762] [ 1.53457195e-03 -6.93209047e-02  4.70415160e+00]\n",
      "613 ---> [43.00249681] [ 4.24856818e-04 -2.00545757e-02  3.74740715e+00]\n",
      "614 ---> [30.02716256] [ 1.98627459e-03 -8.26836850e-02  4.83104098e+00]\n",
      "615 ---> [31.00733209] [-1.16325205e-03  2.85977081e-02  3.51884416e+00]\n",
      "616 ---> [26.34321036] [ 0.01018276 -0.3128046   5.98936435]\n",
      "617 ---> [27.01911894] [-2.39526769e-03  5.74838616e-02  3.19131850e+00]\n",
      "618 ---> [23.19202009] [-0.00718017  0.06986651  4.86215748]\n",
      "619 ---> [35.00407065] [ 7.35896174e-04 -2.84122256e-02  5.06845628e+00]\n",
      "620 ---> [17.35476826] [ 0.02070253 -0.36668195  5.76644865]\n",
      "621 ---> [19.00790143] [ 2.40896581e-03 -5.49279141e-02  4.29347311e+00]\n",
      "622 ---> [21.06662259] [ 0.00429009 -0.14630653  4.28879089]\n",
      "623 ---> [25.00635193] [-1.17831094e-03  1.34792729e-02  4.96584211e+00]\n",
      "624 ---> [37.00860846] [-2.01530518e-04 -1.38837430e-02  4.70280371e+00]\n",
      "625 ---> [17.05604665] [-3.45608302e-03 -1.85974267e-02  4.37038059e+00]\n",
      "626 ---> [17.01060059] [ 3.45623167e-03 -6.51556640e-02  3.78517234e+00]\n",
      "627 ---> [28.04274676] [-7.59710372e-04 -3.33884791e-02  5.25840894e+00]\n",
      "628 ---> [26.02136712] [-1.05824164e-03 -1.08577424e-02  4.47037179e+00]\n",
      "629 ---> [31.24218259] [-0.00699237  0.20123915  3.58001228]\n",
      "630 ---> [17.06208947] [ 8.96158529e-04 -9.94336289e-02  5.24106848e+00]\n",
      "631 ---> [14.16157509] [ 0.01041773 -0.26289128  5.33017823]\n",
      "632 ---> [25.01256036] [ 5.41678230e-04 -4.37250414e-02  4.42534786e+00]\n",
      "633 ---> [32.09915271] [-0.00423463  0.12158642  3.96720973]\n",
      "634 ---> [36.08659983] [ 3.33005242e-03 -1.10980347e-01  4.78595796e+00]\n",
      "635 ---> [21.04603632] [ 0.00540572 -0.09823002  4.70187697]\n",
      "636 ---> [21.19444251] [ 0.01119909 -0.20855501  4.98487834]\n",
      "637 ---> [24.13905785] [ 0.00624176 -0.20823804  5.62887346]\n",
      "638 ---> [24.0083778] [ 1.86558469e-03 -3.74181813e-02  3.70957726e+00]\n",
      "639 ---> [21.08441128] [-0.00664185  0.17269946  2.86399063]\n",
      "640 ---> [20.03252461] [-0.00485902  0.08186138  3.15689515]\n",
      "641 ---> [25.04494696] [ 3.71800030e-03 -1.16117069e-01  4.76540975e+00]\n",
      "642 ---> [21.14766332] [ 0.00945526 -0.22100283  4.70018586]\n",
      "643 ---> [23.02956849] [-0.00381651  0.08635627  3.13051439]\n",
      "644 ---> [28.24604192] [ 3.82409019e-03 -2.21084069e-01  6.31683990e+00]\n",
      "645 ---> [33.16975381] [-4.14331628e-03  6.84316258e-02  4.24124627e+00]\n",
      "646 ---> [25.06167834] [ 2.54653935e-03 -1.21071329e-01  4.46369371e+00]\n",
      "647 ---> [25.15433934] [-0.00552278  0.05459372  4.05989219]\n",
      "648 ---> [47.15553092] [ 2.95309130e-03 -1.50588868e-01  4.98740627e+00]\n",
      "649 ---> [26.18922194] [-0.00746952  0.23248646  1.77735507]\n",
      "650 ---> [42.04656566] [ 1.38196019e-03 -8.97836238e-02  5.55540852e+00]\n",
      "651 ---> [38.11188042] [ 3.50195666e-03 -1.30624476e-01  4.71930597e+00]\n",
      "652 ---> [48.11292587] [-2.33774364e-03  8.70861150e-02  2.75946546e+00]\n",
      "653 ---> [50.00769621] [-4.37853352e-04  9.28362711e-03  4.10781256e+00]\n",
      "654 ---> [45.01283204] [ 2.88036587e-04 -3.53544894e-02  4.29790725e+00]\n",
      "655 ---> [29.03114083] [-2.73725823e-03  6.96176362e-02  3.42836260e+00]\n",
      "656 ---> [17.11421344] [-0.01119517  0.14098985  3.91865571]\n",
      "657 ---> [17.17531843] [-0.01345721  0.15698226  3.85135331]\n",
      "658 ---> [24.03294046] [ 3.10090918e-03 -1.01371837e-01  4.08816889e+00]\n",
      "659 ---> [20.04177542] [-0.00535277  0.12083128  2.37006556]\n",
      "660 ---> [22.0175666] [ 2.66790216e-03 -7.72405034e-02  4.43488687e+00]\n",
      "661 ---> [23.04296978] [-2.26350277e-03 -3.48778093e-03  4.24932818e+00]\n",
      "662 ---> [21.03976226] [-0.00496718  0.11225748  2.8983599 ]\n",
      "663 ---> [33.00492065] [ 3.36905283e-04 -2.68138031e-02  4.36956427e+00]\n",
      "664 ---> [26.00927225] [-1.65861038e-03  3.17893923e-02  3.37529375e+00]\n",
      "665 ---> [28.03188346] [-2.95336146e-03  8.02741706e-02  3.45758943e+00]\n",
      "666 ---> [32.0044635] [ 7.36149710e-04 -3.39902624e-02  3.63027095e+00]\n",
      "667 ---> [27.16330222] [ 0.0066953  -0.20981306  4.53245489]\n",
      "668 ---> [28.02744436] [-1.20101648e-03 -7.38384006e-03  4.63084634e+00]\n",
      "669 ---> [35.01594597] [ 1.02508395e-03 -5.68204153e-02  3.98665921e+00]\n",
      "670 ---> [20.15583803] [ 0.00903373 -0.10208641  4.22912177]\n",
      "671 ---> [33.00392778] [ 7.46354856e-04 -2.98724556e-02  3.93476650e+00]\n",
      "672 ---> [23.00554193] [-1.43802081e-03  2.08016211e-02  4.40422580e+00]\n",
      "673 ---> [22.00237467] [ 8.45389268e-04 -7.72309365e-03  3.02528355e+00]\n",
      "674 ---> [23.04869611] [-0.00458518  0.07771334  4.17963752]\n",
      "675 ---> [23.05706109] [-0.00530551  0.11979095  3.28402376]\n",
      "676 ---> [38.04215079] [ 2.12358014e-03 -7.14926666e-02  4.89087894e+00]\n",
      "677 ---> [20.01827326] [ 3.45835692e-03 -8.10170382e-02  3.93495584e+00]\n",
      "678 ---> [39.0233722] [-1.32582825e-03  3.28272417e-02  3.75509209e+00]\n",
      "679 ---> [36.01183274] [ 1.09087144e-03 -5.01608458e-02  3.97942032e+00]\n",
      "680 ---> [38.06517263] [ 1.89407115e-03 -1.11430657e-01  4.63345216e+00]\n",
      "681 ---> [38.00731383] [ 6.66607748e-04 -3.77462792e-02  4.52308936e+00]\n",
      "682 ---> [24.07872492] [-0.00560038  0.10514963  3.49562261]\n",
      "683 ---> [25.02800249] [-3.02356644e-03  5.41741696e-02  4.30987813e+00]\n",
      "684 ---> [24.01055583] [-9.69024706e-04 -4.16406181e-03  4.17356395e+00]\n",
      "685 ---> [26.01056239] [ 1.52769611e-03 -5.51325123e-02  4.13082993e+00]\n",
      "686 ---> [27.05246403] [-0.00398919  0.10659207  3.83204215]\n",
      "687 ---> [24.01630468] [ 6.34153165e-04 -5.03915547e-02  4.32895204e+00]\n",
      "688 ---> [40.4733104] [-0.00669453  0.2572807   2.85836996]\n",
      "689 ---> [21.11351107] [ 3.27780937e-03 -1.61864964e-01  5.48828088e+00]\n",
      "690 ---> [21.09725382] [-2.86607642e-04 -9.05577855e-02  4.44501723e+00]\n",
      "691 ---> [26.09306688] [ 4.80835594e-03 -1.64678897e-01  4.85680177e+00]\n",
      "692 ---> [26.30088461] [ 0.01013119 -0.2371532   5.28481096]\n",
      "693 ---> [27.15475434] [-0.00668319  0.19970311  3.02068532]\n",
      "694 ---> [27.00784049] [-9.32920549e-04  4.34771551e-02  3.48555437e+00]\n",
      "695 ---> [28.00098724] [-4.99000515e-04  1.58069715e-02  3.39031464e+00]\n",
      "696 ---> [28.11326709] [-0.00556111  0.14397566  3.03156755]\n",
      "697 ---> [27.15165772] [ 0.00671674 -0.15647441  4.356417  ]\n",
      "698 ---> [26.77600346] [ 0.0150836  -0.47845992  7.33888018]\n",
      "699 ---> [25.20392068] [ 0.00885842 -0.20334803  4.22912712]\n",
      "700 ---> [28.00806578] [-5.59073613e-04 -7.14391032e-03  4.84686149e+00]\n",
      "701 ---> [26.03916186] [-0.00331554  0.10613126  3.24265958]\n",
      "702 ---> [26.04992749] [-0.00384647  0.1188398   2.36318158]\n",
      "703 ---> [36.03135806] [-1.79422606e-03  4.40087177e-02  4.51304873e+00]\n",
      "704 ---> [27.00232132] [-8.30186277e-04  2.37027482e-02  3.83992154e+00]\n",
      "705 ---> [26.18686897] [ 0.00746753 -0.23045011  4.94685205]\n",
      "706 ---> [34.01790379] [-1.61527302e-03  4.63530665e-02  3.77756932e+00]\n",
      "707 ---> [44.06558151] [ 2.10047870e-03 -1.02067383e-01  5.18456719e+00]\n",
      "708 ---> [23.13029614] [-0.00803492  0.17484126  2.84968292]\n",
      "709 ---> [26.0192827] [8.86675857e-04 1.39844064e-02 3.15194757e+00]\n",
      "710 ---> [23.17724895] [-0.00835369  0.12690029  3.92137261]\n",
      "711 ---> [44.01570507] [-2.72854501e-04 -1.40738834e-02  4.08724783e+00]\n",
      "712 ---> [31.0137808] [ 1.03468032e-03 -5.44189318e-02  5.06026605e+00]\n",
      "713 ---> [25.05998865] [ 4.54361375e-03 -1.31624951e-01  4.91790511e+00]\n",
      "714 ---> [27.04016818] [ 3.24991523e-03 -6.41643893e-02  4.25023599e+00]\n",
      "715 ---> [22.07801835] [-0.00397599  0.15107936  2.30492903]\n",
      "716 ---> [32.08792053] [ 1.98634753e-03 -1.26088408e-01  5.64884609e+00]\n",
      "717 ---> [25.1258391] [-0.00686547  0.14760729  4.20008736]\n",
      "718 ---> [30.01890857] [-1.92655266e-03  4.37086726e-02  4.81129500e+00]\n",
      "719 ---> [26.01476487] [ 1.57112903e-03 -6.33664400e-02  4.97867194e+00]\n",
      "720 ---> [27.04272798] [-3.49129025e-03  7.63531960e-02  3.63288064e+00]\n",
      "721 ---> [52.0184345] [-7.34887791e-04  2.25619661e-02  4.34463289e+00]\n",
      "722 ---> [23.01447679] [-1.86670658e-03  1.56654069e-02  4.83228178e+00]\n",
      "723 ---> [20.28020503] [-0.01436254  0.30257602  2.95937302]\n",
      "724 ---> [21.00832795] [-4.63062289e-04  3.68619514e-02  3.73383665e+00]\n",
      "725 ---> [64.01017545] [-4.45183992e-04  2.11587916e-02  4.29740427e+00]\n",
      "726 ---> [21.0054928] [ 1.76118819e-03 -2.70199481e-02  3.59143271e+00]\n",
      "727 ---> [144.01226321] [ 4.43846974e-05 -1.88656053e-02  5.83351546e+00]\n",
      "728 ---> [79.02366665] [ 4.14271242e-04 -4.87086270e-02  5.38111649e+00]\n",
      "729 ---> [19.01832229] [ 3.01214962e-03 -8.31833729e-02  4.55106899e+00]\n",
      "730 ---> [20.12632537] [-0.00834681  0.10001173  3.74311719]\n",
      "731 ---> [19.07015873] [ 0.00683643 -0.08073587  3.99543076]\n",
      "732 ---> [34.00463898] [ 4.29074762e-04 -2.83712038e-02  3.90244883e+00]\n",
      "733 ---> [20.08538628] [ 4.14361335e-03 -1.57993054e-01  4.80697840e+00]\n",
      "734 ---> [20.01223534] [-2.11358517e-03  1.50838086e-02  3.54287647e+00]\n",
      "735 ---> [17.01850871] [-0.00336378  0.08683696  2.92406544]\n",
      "736 ---> [29.04864174] [ 3.26447109e-03 -1.10714549e-01  4.85740681e+00]\n",
      "737 ---> [32.01047433] [-1.38111186e-03  4.47527426e-02  3.32098736e+00]\n",
      "738 ---> [33.12454621] [ 0.00447177 -0.1608841   4.36050922]\n",
      "739 ---> [57.03694595] [-8.94775254e-04  2.93657424e-02  4.20758013e+00]\n",
      "740 ---> [28.03344831] [ 9.10499446e-04 -7.12141993e-02  4.32222282e+00]\n",
      "741 ---> [28.04012417] [-2.53946956e-03  3.41374046e-02  3.86247107e+00]\n",
      "742 ---> [27.08146423] [-0.00451938  0.08448114  4.1637385 ]\n",
      "743 ---> [31.04175856] [ 2.26064889e-03 -3.52448740e-02  3.17778910e+00]\n",
      "744 ---> [26.04467177] [-0.00370599  0.11128868  2.2419143 ]\n",
      "745 ---> [24.01885199] [ 2.05352805e-03 -7.48482311e-02  4.15762788e+00]\n",
      "746 ---> [37.0411291] [ 2.11178260e-03 -8.98287563e-02  3.87476882e+00]\n",
      "747 ---> [26.10842032] [-0.00602067  0.13622436  3.61700864]\n",
      "748 ---> [25.10775553] [-0.00632237  0.13363018  3.22207971]\n",
      "749 ---> [31.0197216] [ 1.85671123e-03 -6.86969458e-02  4.08035426e+00]\n",
      "750 ---> [26.02308214] [-2.72929904e-03  6.37643334e-02  4.14196627e+00]\n",
      "751 ---> [24.05034595] [ 4.34062700e-03 -7.56037483e-02  4.36260931e+00]\n",
      "752 ---> [19.00748553] [-5.56162605e-04 -1.73918620e-02  4.89695392e+00]\n",
      "753 ---> [19.40860776] [ 0.01908672 -0.34318584  5.57674209]\n",
      "754 ---> [22.09492489] [-0.00583903  0.06630988  4.19674544]\n",
      "755 ---> [22.02005313] [-2.63371918e-03  2.87413049e-02  3.69202623e+00]\n",
      "756 ---> [21.41762308] [-0.01647361  0.3869369   2.12884356]\n",
      "757 ---> 20.0 [2.86590395e-15 1.11022302e-16 4.00000000e+00]\n",
      "758 ---> [29.08019976] [ 4.21706700e-03 -1.41763657e-01  4.95226127e+00]\n",
      "759 ---> [26.00630753] [7.58542894e-06 2.18385332e-02 3.24357172e+00]\n",
      "760 ---> [49.01546035] [-6.55897977e-04  1.45434622e-02  4.39341194e+00]\n",
      "761 ---> [29.06497815] [ 1.33264965e-03 -1.00484112e-01  5.00639918e+00]\n",
      "762 ---> [38.01206022] [-1.14599342e-03  4.40737292e-02  3.01304322e+00]\n",
      "763 ---> [25.10515026] [ 0.00482655 -0.05585087  3.77007451]\n",
      "764 ---> [26.02721077] [ 2.50507730e-03 -8.87330845e-02  4.20552194e+00]\n",
      "765 ---> [22.06769392] [-0.00547302  0.07830114  4.70292592]\n",
      "766 ---> [20.12688865] [ 0.00965451 -0.16511569  4.69417435]\n",
      "767 ---> [30.00925565] [ 1.31905510e-03 -2.84919209e-02  4.26440133e+00]\n",
      "768 ---> [27.0044772] [-7.17998170e-04  3.30356083e-02  3.69226806e+00]\n",
      "769 ---> [42.00237314] [-7.35299874e-05 -7.46531096e-03  4.94102347e+00]\n",
      "770 ---> [22.05006484] [-1.62930626e-03  9.84808388e-02  3.83653981e+00]\n",
      "771 ---> [24.13940047] [-2.34502546e-03  1.56920451e-01  2.71873305e+00]\n",
      "772 ---> [23.18014951] [0.00402468 0.02507061 3.34532744]\n",
      "773 ---> [19.28874325] [ 0.00765632 -0.29189806  6.47536872]\n",
      "774 ---> [32.08714067] [ 2.98059880e-03 -4.30990326e-02  4.01736543e+00]\n",
      "775 ---> [20.08970981] [-0.00765786  0.19535938  2.3191273 ]\n",
      "776 ---> [23.06633167] [ 3.43754188e-03 -1.36462781e-01  4.52640143e+00]\n",
      "777 ---> [32.02770131] [-1.52600509e-03  1.66778862e-02  4.29066657e+00]\n",
      "778 ---> [32.56505064] [ 0.0101771  -0.3385322   5.81146516]\n",
      "779 ---> [19.11115647] [ 0.00877606 -0.20803479  5.64281941]\n",
      "780 ---> [24.03068308] [ 5.50200216e-04 -6.26604176e-02  5.12051603e+00]\n",
      "781 ---> [24.00910056] [-8.83232707e-04 -4.36034073e-03  4.42861421e+00]\n",
      "782 ---> [29.03967662] [4.97867712e-04 3.77209992e-02 2.75672948e+00]\n",
      "783 ---> [21.21373596] [-0.01119979  0.27008576  2.09594083]\n",
      "784 ---> [33.01527241] [ 2.61200127e-04 -3.83762544e-02  4.79717281e+00]\n",
      "785 ---> [24.05731128] [ 4.84925613e-03 -1.28024585e-01  5.31218546e+00]\n",
      "786 ---> [23.01012066] [ 8.69655132e-04 -4.82028977e-02  4.44336628e+00]\n",
      "787 ---> [29.44650914] [-0.01052144  0.28087251  3.08154342]\n",
      "788 ---> [32.0019188] [-4.30655394e-04  5.82515815e-03  4.09204991e+00]\n",
      "789 ---> [16.16625705] [ 0.01539744 -0.28920639  5.83782614]\n",
      "790 ---> [18.22761214] [ 0.01504279 -0.28969447  5.35908756]\n",
      "791 ---> [41.01570597] [-3.41922943e-04 -1.27962583e-02  4.30130455e+00]\n",
      "792 ---> [30.01991822] [ 2.90702411e-04 -4.45275025e-02  4.94043451e+00]\n",
      "793 ---> [26.02958667] [-3.16185642e-03  7.39938433e-02  3.61744604e+00]\n",
      "794 ---> [26.02171344] [-2.26816027e-03  7.93443165e-02  3.44672117e+00]\n",
      "795 ---> [24.28855562] [-0.01072328  0.19914841  2.90750045]\n",
      "796 ---> [28.00580304] [-1.22254313e-03  3.79069974e-02  4.23823011e+00]\n",
      "797 ---> [29.07043382] [-0.00405735  0.0976706   3.6296351 ]\n",
      "798 ---> [21.04580147] [ 7.59598359e-04 -8.06316091e-02  4.57761896e+00]\n",
      "799 ---> [25.09977909] [-0.00619865  0.15124874  2.96269431]\n",
      "800 ---> [31.00392176] [ 1.41718082e-04 -1.99550789e-02  4.57772604e+00]\n",
      "801 ---> [30.01501995] [-1.58699097e-03  3.03281973e-02  3.88075227e+00]\n",
      "802 ---> [32.43789955] [ 0.00860347 -0.31643753  6.74968517]\n",
      "803 ---> [27.00870287] [ 1.33684699e-03 -4.92704224e-02  3.99007740e+00]\n",
      "804 ---> 1.0 [0. 0. 0.]\n",
      "805 ---> [33.13056613] [-3.86789567e-03  7.35992697e-02  4.41642667e+00]\n",
      "806 ---> [32.01021456] [ 1.13485766e-03 -4.92885272e-02  5.08152406e+00]\n",
      "807 ---> [30.01712121] [-1.93329540e-03  5.15131143e-02  4.19322588e+00]\n",
      "808 ---> [34.02890528] [ 1.88562145e-03 -8.04403897e-02  4.89955857e+00]\n",
      "809 ---> [50.02726466] [ 5.29016632e-04 -5.52113844e-02  5.37432280e+00]\n",
      "810 ---> [20.03828097] [-1.17118170e-03 -3.81589930e-02  4.62167116e+00]\n",
      "811 ---> [19.12963035] [-0.00700572  0.03757006  4.36107616]\n",
      "812 ---> [22.26879965] [ 0.01134607 -0.30134781  5.48336998]\n",
      "813 ---> [20.01520036] [-1.45044526e-05  3.92702713e-02  3.13394839e+00]\n",
      "814 ---> [21.04762039] [ 2.01994487e-03 -1.03192648e-01  4.02436264e+00]\n",
      "815 ---> [17.42649995] [ 0.02190345 -0.42262404  6.22805673]\n",
      "816 ---> [42.00639102] [-3.38752693e-04 -1.50267445e-03  4.50504034e+00]\n",
      "817 ---> [19.02864818] [-0.00484945  0.07350234  3.26828249]\n",
      "818 ---> [19.06159895] [-0.0049739   0.03011828  3.62142446]\n",
      "819 ---> [22.40285654] [-0.01504375  0.3428581   2.39385531]\n",
      "820 ---> [22.11941007] [ 0.00689425 -0.20181168  4.87291432]\n",
      "821 ---> [56.0182075] [-9.51737721e-05 -2.00816596e-02  4.61316581e+00]\n",
      "822 ---> [30.0007516] [-3.99453793e-04  1.00878774e-02  3.47769987e+00]\n",
      "823 ---> [23.11446462] [ 0.00733673 -0.19864568  4.72068119]\n",
      "824 ---> [36.01343417] [ 1.30651588e-03 -4.87580295e-02  5.29640202e+00]\n",
      "825 ---> [21.50269363] [-0.01415626  0.14280523  4.69473529]\n",
      "826 ---> [34.13079809] [ 4.46123395e-03 -1.54411288e-01  5.09522812e+00]\n",
      "827 ---> [18.00734794] [-2.49966107e-03  5.44095257e-02  3.21767817e+00]\n",
      "828 ---> [18.06230737] [-0.00691135  0.07517725  3.29541138]\n",
      "829 ---> [20.10490782] [-0.00509331  0.01259499  4.06424385]\n",
      "830 ---> [33.16787175] [ 4.87698005e-03 -1.95990827e-01  5.74677960e+00]\n",
      "831 ---> [31.06241789] [ 3.54833236e-03 -1.07473086e-01  4.28484768e+00]\n",
      "832 ---> [22.10078181] [-0.0070765   0.18215852  2.22031113]\n",
      "833 ---> [22.07337948] [ 0.00639109 -0.14428458  3.76614418]\n",
      "834 ---> [32.00939234] [-5.83150056e-04 -3.62694140e-03  4.71663895e+00]\n",
      "835 ---> [33.00247662] [ 4.78913985e-04 -2.35016582e-02  4.30545183e+00]\n",
      "836 ---> [34.09198155] [-3.31841226e-03  7.51083641e-02  3.47154169e+00]\n",
      "837 ---> [28.00132771] [-6.01670364e-04  1.57592785e-02  3.75783190e+00]\n",
      "838 ---> [32.03039916] [-2.34339942e-03  6.74336377e-02  3.41697684e+00]\n",
      "839 ---> [32.00114817] [ 4.41600038e-04 -1.59699118e-02  3.62783395e+00]\n",
      "840 ---> [33.00719831] [ 8.80097790e-04 -4.06210096e-02  4.18531568e+00]\n",
      "841 ---> [36.0000451] [ 7.39509177e-05 -2.96682813e-03  3.12778898e+00]\n",
      "842 ---> [31.09920621] [-0.00414582  0.09411228  3.98595705]\n",
      "843 ---> [30.02955154] [ 2.41039200e-03 -8.50367464e-02  5.03495233e+00]\n",
      "844 ---> [28.02426372] [-1.93607073e-03  7.97553413e-02  3.30464124e+00]\n",
      "845 ---> [30.0471583] [ 3.10882174e-03 -1.05945665e-01  4.32293413e+00]\n",
      "846 ---> [26.00731521] [ 1.56492145e-03 -4.24423914e-02  3.76638714e+00]\n",
      "847 ---> [26.15754024] [-0.00727653  0.19789026  2.72042019]\n",
      "848 ---> [20.11273161] [-3.07109879e-03 -4.19495852e-02  4.89660730e+00]\n",
      "849 ---> [22.06791167] [-1.48459913e-04 -7.54939394e-02  4.49824538e+00]\n",
      "850 ---> [22.00114146] [-1.00562166e-04 -7.99466173e-03  3.59129226e+00]\n",
      "851 ---> [21.0301297] [-2.57567848e-03  9.50838746e-02  2.73454229e+00]\n",
      "852 ---> [24.00807684] [-1.80942779e-03  4.83008817e-02  4.46450749e+00]\n",
      "853 ---> [21.03862878] [ 0.00435857 -0.0572753   4.23550045]\n",
      "854 ---> [34.0686905] [ 2.78017411e-03 -1.24475668e-01  4.95268169e+00]\n",
      "855 ---> [32.00311558] [ 7.23429414e-04 -2.64395290e-02  3.71549419e+00]\n",
      "856 ---> [21.31009878] [ 3.29340609e-03 -2.33799390e-01  6.85413223e+00]\n",
      "857 ---> [21.01503416] [ 2.80485054e-03 -7.27237046e-02  4.44702478e+00]\n",
      "858 ---> [29.17857876] [ 0.00664565 -0.18432382  4.58720408]\n",
      "859 ---> [28.0119529] [-1.65388579e-03  5.64586022e-02  3.54925731e+00]\n",
      "860 ---> [29.0378472] [-0.00298951  0.09409828  2.55823357]\n",
      "861 ---> [31.00813693] [-1.25997991e-03  3.37315340e-02  3.80319990e+00]\n",
      "862 ---> [28.22145245] [-0.00736829  0.1570394   3.08984523]\n",
      "863 ---> [29.00655838] [ 1.18926899e-03 -4.07770991e-02  4.81467561e+00]\n",
      "864 ---> [26.20568515] [-0.00840698  0.20727526  3.21302501]\n",
      "865 ---> [32.02073356] [-1.92045379e-03  6.56777755e-02  2.99409876e+00]\n",
      "866 ---> [32.00072325] [-3.01903297e-04  5.60492853e-03  4.47968684e+00]\n",
      "867 ---> [33.11985019] [ 4.35584083e-03 -1.59427773e-01  5.23374207e+00]\n",
      "868 ---> [39.26581246] [ 5.13080340e-03 -2.14227686e-01  5.58887038e+00]\n",
      "869 ---> [29.11575803] [ 4.61753506e-03 -1.74470374e-01  4.79447506e+00]\n",
      "870 ---> [25.06895908] [ 0.00504473 -0.10593512  3.5067733 ]\n",
      "871 ---> [45.02390113] [-1.25437042e-03  5.60320310e-02  3.98604104e+00]\n",
      "872 ---> [22.17732662] [-0.00970096  0.17110887  3.50141129]\n",
      "873 ---> [24.01107557] [-1.25726874e-03  4.01970813e-03  3.61630155e+00]\n",
      "874 ---> [29.00772228] [-1.31813909e-03  3.01525497e-02  4.75769388e+00]\n",
      "875 ---> [50.00481976] [ 4.75289140e-04 -2.11542455e-02  4.19334542e+00]\n",
      "876 ---> [28.03002871] [ 2.86353647e-03 -7.52929488e-02  4.74324404e+00]\n",
      "877 ---> [26.04812119] [-0.0039165   0.1137843   3.22230621]\n",
      "878 ---> [33.13843292] [-0.00481536  0.15618695  3.60454415]\n",
      "879 ---> [31.00028779] [-2.09911435e-04  4.18721170e-03  4.37098821e+00]\n",
      "880 ---> [26.00378193] [-1.00363479e-03  1.90988073e-02  3.51816443e+00]\n",
      "881 ---> [24.12316268] [ 0.00702216 -0.13239307  4.45378791]\n",
      "882 ---> [42.00272514] [ 2.93277952e-04 -2.09239514e-02  4.77424321e+00]\n",
      "883 ---> [25.0401544] [ 3.45342982e-03 -5.58018359e-02  3.62914664e+00]\n",
      "884 ---> [24.01201788] [ 2.21513277e-03 -4.32107250e-02  3.49385138e+00]\n",
      "885 ---> [25.33264569] [ 5.69298754e-03 -2.78677897e-01  7.26326704e+00]\n",
      "886 ---> [25.02583374] [ 2.22137308e-03 -8.55778644e-02  4.80481803e+00]\n",
      "887 ---> [26.00216892] [ 8.33170058e-04 -1.75991377e-02  3.08039875e+00]\n",
      "888 ---> [31.01778544] [ 1.48911902e-03 -6.55985942e-02  4.96123307e+00]\n",
      "889 ---> [45.05215489] [-1.81088512e-03  7.29556430e-02  3.38236795e+00]\n",
      "890 ---> [35.15017035] [ 4.54419248e-03 -1.68037620e-01  4.67572916e+00]\n",
      "891 ---> [23.02368762] [5.50929055e-04 3.26840273e-02 2.53385317e+00]\n",
      "892 ---> [22.06926073] [-4.08339595e-04 -7.06688474e-02  3.40550592e+00]\n",
      "893 ---> [23.0451661] [ 0.0046416  -0.09046506  4.43318413]\n",
      "894 ---> [26.02693234] [ 2.74043326e-03 -8.80494746e-02  4.42245728e+00]\n",
      "895 ---> [18.03551033] [7.54539269e-04 4.95285518e-02 2.99229614e+00]\n",
      "896 ---> [19.05961572] [0.00352751 0.00575358 2.86503111]\n",
      "897 ---> [19.01151425] [-8.69252088e-04 -1.78433645e-02  4.72759715e+00]\n",
      "898 ---> [21.16071426] [-0.00494938 -0.00967679  4.87049305]\n",
      "899 ---> [22.01606161] [-5.27817772e-04 -2.54872693e-02  4.31227703e+00]\n",
      "900 ---> [24.01488766] [-2.51069914e-03  5.71942971e-02  3.37451446e+00]\n",
      "901 ---> [21.02833705] [ 1.22635771e-03 -7.43273842e-02  4.58888163e+00]\n",
      "902 ---> [22.07452488] [-0.0060328   0.09624211  3.65774893]\n",
      "903 ---> [27.27736676] [-0.00919775  0.22573918  3.64626425]\n",
      "904 ---> [29.05206948] [-2.83064517e-03  4.24877018e-02  4.39487041e+00]\n",
      "905 ---> [31.03435202] [-1.71708899e-03  1.58139887e-02  4.05210328e+00]\n",
      "906 ---> [29.00367973] [ 3.93962876e-04 -2.55323542e-02  3.76969773e+00]\n",
      "907 ---> [32.05401573] [-2.64986514e-03  5.07522731e-02  4.25401555e+00]\n",
      "908 ---> [37.00624417] [ 8.07002787e-04 -3.54076031e-02  3.85105765e+00]\n",
      "909 ---> [19.08504055] [-2.90497750e-03 -3.69538931e-02  4.48374214e+00]\n",
      "910 ---> [22.04515146] [ 0.00500035 -0.0961454   3.92941535]\n",
      "911 ---> [20.02701064] [-8.87801291e-04 -3.41030412e-02  3.70177803e+00]\n",
      "912 ---> [19.39878798] [-0.0188513   0.33786008  2.91511096]\n",
      "913 ---> [42.0002713] [ 1.44700276e-04 -5.15340767e-03  3.53684204e+00]\n",
      "914 ---> [19.0051838] [-1.87317233e-03  2.25994159e-02  3.44837334e+00]\n",
      "915 ---> [27.06300302] [-0.0043864   0.11292898  3.807975  ]\n",
      "916 ---> [26.05668716] [ 3.75376426e-03 -1.28426788e-01  4.69177749e+00]\n",
      "917 ---> [21.04340704] [-9.89443621e-04  8.29944099e-02  2.52458974e+00]\n",
      "918 ---> [27.00898156] [-1.11862315e-03  1.00718591e-02  4.55065383e+00]\n",
      "919 ---> [21.00891814] [-2.11098450e-03  2.82672464e-02  3.86110356e+00]\n",
      "920 ---> [23.02060553] [ 2.97095490e-03 -4.99655738e-02  3.78649729e+00]\n",
      "921 ---> [45.05025675] [ 1.52485048e-03 -9.59680182e-02  5.36289830e+00]\n",
      "922 ---> [26.01312256] [ 1.39024469e-03 -5.87238142e-02  4.00208339e+00]\n",
      "923 ---> [25.0127345] [-4.34476345e-04 -2.08732263e-02  4.99956709e+00]\n",
      "924 ---> [29.1480286] [ 0.0060472  -0.1672453   5.11498231]\n",
      "925 ---> [28.03059731] [-2.58088119e-03  4.85327064e-02  4.29514621e+00]\n",
      "926 ---> [29.05494036] [-0.00366268  0.09665604  3.4575438 ]\n",
      "927 ---> [31.01016304] [ 5.74870251e-04 -4.06978806e-02  4.60056714e+00]\n",
      "928 ---> [25.08751185] [ 0.0057089  -0.12171684  4.07301784]\n",
      "929 ---> [31.0084499] [ 6.48306924e-04 -3.97137452e-02  5.04199413e+00]\n",
      "930 ---> [37.01543246] [ 1.16357683e-03 -5.66107238e-02  4.46139262e+00]\n",
      "931 ---> [27.05711534] [-3.96933639e-03  8.29271704e-02  4.15330018e+00]\n",
      "932 ---> [28.01921575] [ 2.19047535e-03 -7.00773285e-02  4.51134570e+00]\n",
      "933 ---> [35.09402617] [ 3.61596872e-03 -1.29798518e-01  3.92264519e+00]\n",
      "934 ---> [24.01567331] [-2.60841182e-03  6.07319382e-02  4.10144407e+00]\n",
      "935 ---> [27.04028363] [ 3.21123571e-03 -1.05465473e-01  4.86267686e+00]\n",
      "936 ---> [25.11183366] [ 0.00656628 -0.1579697   4.40578643]\n",
      "937 ---> [41.11219808] [ 2.92125325e-03 -1.49276867e-01  6.23755403e+00]\n",
      "938 ---> [29.03607707] [ 2.78025053e-03 -9.58564074e-02  4.77185305e+00]\n",
      "939 ---> [27.02445861] [ 2.61672363e-03 -8.02614189e-02  4.13216030e+00]\n",
      "940 ---> [22.72361121] [-1.95075248e-03 -1.24917846e+00  1.93847480e+01]\n",
      "941 ---> [39.77010711] [-1.32787031e-03 -1.28809680e+00  3.22258851e+01]\n",
      "942 ---> [32.00037028] [ 2.29124874e-04 -9.38838728e-03  4.21864326e+00]\n",
      "943 ---> [33.00580299] [ 9.51492682e-04 -3.52559298e-02  4.05245875e+00]\n",
      "944 ---> [22.04315994] [-0.00416297  0.1211304   3.24464912]\n",
      "945 ---> [22.11472149] [1.83361119e-03 6.10902205e-02 2.74558533e+00]\n",
      "946 ---> [19.20911479] [ 0.01061336 -0.2844655   5.84467994]\n",
      "947 ---> [19.05049744] [ 2.09183115e-03 -1.06924898e-01  4.76563956e+00]\n",
      "948 ---> [18.37459235] [ 0.01767685 -0.20670507  4.42124132]\n",
      "949 ---> [22.05880367] [ 0.00324916 -0.0077635   3.1235167 ]\n",
      "950 ---> [23.11081595] [-0.00584122  0.06791164  3.32933241]\n",
      "951 ---> [30.05095259] [ 3.34233783e-03 -8.98030144e-02  4.95433012e+00]\n",
      "952 ---> [24.00898768] [ 1.60460737e-03 -2.09393410e-02  4.06031156e+00]\n",
      "953 ---> [23.01025532] [-2.23638586e-03  4.60047939e-02  3.54479813e+00]\n",
      "954 ---> [16.18522015] [-1.80546332e-03  1.78787708e-01  2.17050727e+00]\n",
      "955 ---> [34.01221637] [-4.08490351e-04 -1.21026937e-02  4.62259293e+00]\n",
      "956 ---> [30.00620933] [-1.12990402e-03  2.71963709e-02  3.70476677e+00]\n",
      "957 ---> [32.10268872] [-4.01406984e-03  9.37828620e-02  5.08657068e+00]\n",
      "958 ---> [22.03069182] [ 3.82532198e-03 -1.01150875e-01  5.08142762e+00]\n",
      "959 ---> [24.06341499] [ 0.00524442 -0.11656847  4.5963582 ]\n",
      "960 ---> [32.06226647] [-0.00337861  0.10620275  3.13439356]\n",
      "961 ---> [24.71861686] [-7.81516230e-03 -9.13570073e-01  1.86052200e+01]\n",
      "962 ---> [7.18657272] [0.47619048 0.23809524 0.11904762]\n",
      "963 ---> [68.98160063] [-1.70174375e-03 -1.20765702e-01  1.79609788e+01]\n",
      "964 ---> [57.34635338] [-2.77292396e-03  9.27707273e-02  1.78093713e+01]\n",
      "965 ---> 2.0 [0. 0. 0.]\n",
      "966 ---> [32.09129529] [-1.99449072e-04 -6.93193551e-02  6.79587227e+00]\n",
      "967 ---> [32.81134627] [ 3.05710541e-03 -3.26793909e-01  1.49617329e+01]\n",
      "968 ---> [26.56346853] [-0.00476396  0.46758361  2.28194733]\n",
      "969 ---> [38.04966199] [-2.28407849e-03  7.42203541e-02  3.60978208e+00]\n",
      "970 ---> [22.00293781] [-1.23288541e-03  3.05682779e-02  4.81467818e+00]\n",
      "971 ---> [27.00763672] [-4.89239778e-04 -9.81041371e-03  4.78181528e+00]\n",
      "972 ---> [35.03449601] [-2.08145511e-03  5.64841701e-02  3.79986525e+00]\n",
      "973 ---> [36.20533627] [ 0.00512786 -0.18983503  5.03682776]\n",
      "974 ---> [20.08463636] [ 0.0073783  -0.17543341  5.12349758]\n",
      "975 ---> [18.0077853] [ 2.81785147e-03 -5.07003878e-02  4.26587255e+00]\n",
      "976 ---> [34.00484638] [ 8.48773974e-04 -2.52675691e-02  4.24764606e+00]\n",
      "977 ---> [36.05582077] [-2.67725339e-03  9.67131405e-02  2.99240005e+00]\n",
      "978 ---> [21.00779264] [ 1.66571306e-03 -5.16062731e-02  4.79395618e+00]\n",
      "979 ---> 20.003629325995696 [ 1.65305011e-15 -1.90516542e-02  4.18099072e+00]\n",
      "980 ---> [16.0133694] [ 3.97726057e-03 -7.76260282e-02  4.36315607e+00]\n",
      "981 ---> [34.00936592] [ 1.06364621e-03 -4.58314162e-02  4.14026382e+00]\n",
      "982 ---> [80.00945977] [-1.84430960e-04  1.76550393e-03  4.46254097e+00]\n",
      "983 ---> [37.1025961] [ 2.93065149e-03 -1.46043974e-01  5.74513442e+00]\n",
      "984 ---> [32.00474] [ 8.85594260e-04 -3.28007683e-02  4.27083392e+00]\n",
      "985 ---> [20.0341541] [ 4.29689924e-03 -1.12626608e-01  5.12394288e+00]\n",
      "986 ---> [20.01314005] [-2.27086422e-03  1.80987752e-02  3.90478655e+00]\n",
      "987 ---> [36.00545525] [-4.41569454e-04  6.60367921e-04  3.63350033e+00]\n",
      "988 ---> [25.12170735] [-0.00674773  0.15826595  3.39914389]\n",
      "989 ---> [26.02559863] [-2.75112738e-03  5.24795620e-02  3.51685354e+00]\n",
      "990 ---> [24.02125555] [-2.87329740e-03  5.23833825e-02  3.76159268e+00]\n",
      "991 ---> [25.05238321] [ 0.00430314 -0.0847928   3.87301974]\n",
      "992 ---> [37.01968571] [-1.37736170e-03  3.54791568e-02  4.10349054e+00]\n",
      "993 ---> [34.0066094] [ 9.39303146e-04 -3.79891330e-02  3.88596012e+00]\n",
      "994 ---> [26.01316437] [ 1.68662742e-03 -6.14584723e-02  4.67576655e+00]\n",
      "995 ---> [21.02755544] [-0.00419566  0.09021889  3.5215601 ]\n",
      "996 ---> [21.00957593] [-2.22102051e-03  3.07346089e-02  3.49402370e+00]\n",
      "997 ---> [24.00863959] [ 1.86035692e-03 -5.02529421e-02  4.77725735e+00]\n",
      "998 ---> [26.01123424] [-1.87949607e-03  5.52668333e-02  3.62554468e+00]\n",
      "999 ---> [25.0804197] [-0.00552972  0.12365213  3.04458948]\n",
      "1000 ---> [25.19953338] [ 0.00696414 -0.24460799  5.87736316]\n",
      "1001 ---> [27.07558985] [ 4.31377581e-03 -1.53863459e-01  4.85060998e+00]\n",
      "1002 ---> [23.01479894] [-2.24585060e-03  2.94489669e-02  4.46141185e+00]\n",
      "1003 ---> [27.05704745] [ 2.92130141e-03 -1.22448440e-01  4.86642231e+00]\n",
      "1004 ---> [17.00690227] [-2.39875774e-03  5.44454608e-02  4.08201666e+00]\n",
      "1005 ---> [20.02774012] [-0.00446212  0.07369266  3.6699508 ]\n",
      "1006 ---> [34.03968573] [ 2.45011119e-03 -7.59786996e-02  4.00693838e+00]\n",
      "1007 ---> [35.03347471] [-2.00644682e-03  5.17614323e-02  3.29055694e+00]\n",
      "1008 ---> [24.1270659] [-1.37300829e-03 -6.97055803e-02  5.02828687e+00]\n",
      "1009 ---> [24.38799668] [ 0.01284947 -0.32899918  5.77186798]\n",
      "1010 ---> [25.01057516] [ 1.62679079e-03 -2.18653309e-02  3.50107002e+00]\n",
      "1011 ---> [36.00852317] [-5.24694495e-04 -4.68612264e-04  3.48289803e+00]\n",
      "1012 ---> [52.00381709] [-4.03599771e-04  2.05981814e-02  4.04756643e+00]\n",
      "1013 ---> [43.0873182] [-2.56273893e-03  1.03060192e-01  2.84358867e+00]\n",
      "1014 ---> [23.04499462] [-3.13069070e-03  1.15699142e-01  3.19714929e+00]\n",
      "1015 ---> [22.00754566] [-1.23473118e-03  4.69113641e-02  3.63329227e+00]\n",
      "1016 ---> [30.00892912] [ 1.20095948e-03 -2.20692965e-02  3.85068759e+00]\n",
      "1017 ---> [28.07747448] [ 0.00410316 -0.07686444  3.65130713]\n",
      "1018 ---> [25.4076656] [ 0.01133135 -0.35212939  5.94950338]\n",
      "1019 ---> [25.00044865] [2.08458596e-04 1.77677143e-04 3.08782700e+00]\n",
      "1020 ---> [25.01408052] [-1.50200011e-03  1.04138400e-02  4.59512967e+00]\n",
      "1021 ---> [16.22308657] [ 0.01818976 -0.27319224  5.09043781]\n",
      "1022 ---> [16.00404325] [ 2.1347780e-03 -4.7092088e-02  4.1838834e+00]\n",
      "1023 ---> [35.0068451] [ 1.14254891e-04 -2.35279433e-02  3.96289705e+00]\n",
      "1024 ---> [30.14447351] [-0.00559506  0.14542252  3.44190463]\n",
      "1025 ---> [26.19692883] [ 0.00783553 -0.24934807  5.68682536]\n",
      "1026 ---> [34.01286443] [-9.80590997e-04  1.26992770e-02  4.38473098e+00]\n",
      "1027 ---> [29.04430097] [-4.14306838e-04 -4.32592186e-02  4.66772325e+00]\n",
      "1028 ---> [28.03230888] [ 2.38739225e-03 -9.31172764e-02  4.60744243e+00]\n",
      "1029 ---> [21.07159095] [-0.00678477  0.12718002  3.88937008]\n",
      "1030 ---> [21.00805664] [1.45770101e-05 2.74107169e-02 3.78194508e+00]\n",
      "1031 ---> [21.0543089] [ 0.00558295 -0.08708285  3.82734744]\n",
      "1032 ---> [22.03815755] [-3.52010192e-03  3.54968040e-02  3.85113698e+00]\n",
      "1033 ---> [21.00054628] [ 4.55597956e-04 -1.37504216e-02  4.55835907e+00]\n",
      "1034 ---> [21.11500187] [-0.00857482  0.157385    3.63143881]\n",
      "1035 ---> [38.00879512] [ 2.51182843e-04 -3.00927905e-02  4.14380571e+00]\n",
      "1036 ---> [19.13308705] [-0.01073673  0.17818214  2.72530518]\n",
      "1037 ---> [19.01454503] [ 0.00354943 -0.05987574  3.27589381]\n",
      "1038 ---> [44.07506196] [ 1.59819051e-03 -1.10792869e-01  5.45020987e+00]\n",
      "1039 ---> [24.04122501] [-0.00417704  0.09488881  3.9840666 ]\n",
      "1040 ---> [33.06202543] [-2.91714900e-03  6.73183064e-02  3.92288260e+00]\n",
      "1041 ---> [22.01524548] [ 2.75333838e-03 -7.06218120e-02  4.41209644e+00]\n",
      "1042 ---> [21.0615015] [ 0.00630343 -0.12040874  4.03845877]\n",
      "1043 ---> [43.03771013] [-1.60382865e-03  5.43175878e-02  3.30974216e+00]\n",
      "1044 ---> [24.17879239] [-0.00727694  0.0976839   4.05517627]\n",
      "1045 ---> [38.11115523] [-3.31705925e-03  9.88285569e-02  3.50889047e+00]\n",
      "1046 ---> [19.25850869] [ 0.01178689 -0.31659984  5.08645986]\n",
      "1047 ---> [19.21879862] [ 0.01389397 -0.24374183  4.02587385]\n",
      "1048 ---> [35.02538481] [-1.88234697e-03  6.61659109e-02  4.47493146e+00]\n",
      "1049 ---> [22.12408558] [-0.00817928  0.14836072  3.27757379]\n",
      "1050 ---> [23.2072224] [ 0.01012079 -0.23286451  4.84244121]\n",
      "1051 ---> [25.05144479] [ 4.12298160e-03 -1.23095016e-01  4.35352160e+00]\n",
      "1052 ---> [34.00089164] [-2.56509785e-05  8.07118573e-03  3.37731277e+00]\n",
      "1053 ---> [25.04559484] [ 3.84242854e-03 -1.16273990e-01  4.98513010e+00]\n",
      "1054 ---> [34.02543811] [ 1.77617063e-03 -7.54039010e-02  4.33711643e+00]\n",
      "1055 ---> [29.14372697] [ 0.0059213  -0.15447908  4.1938057 ]\n",
      "1056 ---> [20.03414724] [ 3.61941766e-03 -1.09689156e-01  4.21981589e+00]\n",
      "1057 ---> [33.10730495] [-0.00385222  0.08952267  3.2772011 ]\n",
      "1058 ---> [20.05781674] [-6.28551297e-04  8.76897859e-02  2.52745188e+00]\n",
      "1059 ---> [33.07818418] [-0.00358574  0.10571799  2.80704563]\n",
      "1060 ---> [22.06208739] [-0.00460391  0.04932613  3.29400793]\n",
      "1061 ---> [20.12959379] [ 0.0081465  -0.08994223  2.79226839]\n",
      "1062 ---> [21.02717378] [-2.46362351e-03  8.05215487e-03  2.95913622e+00]\n",
      "1063 ---> [31.00393273] [ 7.07569528e-04 -3.08906555e-02  4.28671396e+00]\n",
      "1064 ---> [35.15321611] [ 4.59631843e-03 -1.69079794e-01  4.66429755e+00]\n",
      "1065 ---> [35.03344293] [ 2.14804922e-03 -7.83817646e-02  3.64154838e+00]\n",
      "1066 ---> [28.03137183] [-2.92734199e-03  8.09504191e-02  3.19161303e+00]\n",
      "1067 ---> [31.02452024] [ 1.56606268e-03 -7.52252971e-02  3.96687839e+00]\n",
      "1068 ---> [45.01229238] [-8.70662915e-04  3.41525142e-02  3.54523047e+00]\n",
      "1069 ---> [43.01245771] [ 8.26082341e-04 -4.73058165e-02  3.78151491e+00]\n",
      "1070 ---> [40.11007702] [ 2.87324538e-03 -1.45480929e-01  5.51161683e+00]\n",
      "1071 ---> [41.01775217] [ 9.30144904e-04 -5.67402632e-02  3.89404302e+00]\n",
      "1072 ---> [21.02562273] [ 3.84199708e-03 -6.03045339e-02  4.51091214e+00]\n",
      "1073 ---> [21.14681696] [ 0.0097541  -0.2043067   5.02739831]\n",
      "1074 ---> [28.00107673] [-4.02664571e-04  4.99483118e-03  4.99426836e+00]\n",
      "1075 ---> [26.01049896] [ 1.89211274e-03 -4.83948004e-02  4.98988269e+00]\n",
      "1076 ---> [25.13414772] [ 0.00694831 -0.19377084  5.31404902]\n",
      "1077 ---> [27.03979586] [-2.63752643e-03  3.30473077e-02  3.86101297e+00]\n",
      "1078 ---> [33.003445] [ 7.57964402e-04 -2.62812329e-02  5.18867432e+00]\n",
      "1079 ---> [26.01628193] [ 2.08597482e-03 -6.86665155e-02  4.99247233e+00]\n",
      "1080 ---> [24.03473229] [ 3.47288089e-03 -5.57273513e-02  4.39162930e+00]\n",
      "1081 ---> [29.18591978] [-0.00633568  0.13673746  3.68373038]\n",
      "1082 ---> [30.02861202] [-7.24303138e-04 -2.08434262e-02  4.27128460e+00]\n",
      "1083 ---> [31.05984552] [-0.00267652  0.1199765   2.64084301]\n",
      "1084 ---> [35.05065723] [-9.71493535e-04 -1.70931017e-02  4.53458602e+00]\n",
      "1085 ---> [32.70764999] [ 0.01121536 -0.39477889  6.53135524]\n",
      "1086 ---> [27.39292006] [ 0.01069987 -0.31930717  6.54977524]\n",
      "1087 ---> [23.18335715] [ 0.00949419 -0.19602345  4.71974132]\n",
      "1088 ---> [33.28729758] [-0.00695243  0.22107685  2.28665344]\n",
      "1089 ---> [40.03575383] [ 1.76891212e-03 -5.80139795e-02  3.94491541e+00]\n",
      "1090 ---> [54.09817445] [-1.93472833e-03  1.00622383e-01  2.90395926e+00]\n",
      "1091 ---> [20.23067896] [ 0.01103603 -0.29408851  6.01993799]\n",
      "1092 ---> [20.06346719] [ 0.00687155 -0.13888556  4.67423372]\n",
      "1093 ---> [41.00786485] [-6.78669118e-04  1.59374422e-02  3.60132020e+00]\n",
      "1094 ---> [25.05897471] [-0.00473422  0.10595237  3.52135927]\n",
      "1095 ---> [27.0696512] [ 4.58010137e-03 -1.27687735e-01  4.63530603e+00]\n",
      "1096 ---> [42.01218665] [ 1.67550618e-04 -3.06162171e-02  5.06932566e+00]\n",
      "1097 ---> [27.02064308] [ 1.69881992e-03 -7.29631425e-02  4.64401473e+00]\n",
      "1098 ---> [30.11898748] [-0.00509805  0.16066936  2.65721896]\n",
      "1099 ---> [34.0190081] [-9.33831496e-04  2.83976190e-03  4.52885094e+00]\n",
      "1100 ---> [34.00155531] [9.90325534e-05 6.09740526e-03 3.70160636e+00]\n",
      "1101 ---> [38.03182447] [ 1.85575920e-03 -7.29777516e-02  4.79463212e+00]\n",
      "1102 ---> [31.08107916] [-0.00402781  0.12765444  2.89807325]\n",
      "1103 ---> [33.01575682] [ 1.24621906e-03 -5.96706489e-02  4.72382081e+00]\n",
      "1104 ---> [18.08727316] [3.18298931e-04 9.31266705e-02 2.75239596e+00]\n",
      "1105 ---> [18.01227273] [-3.23470950e-03  4.61434912e-02  3.37086598e+00]\n",
      "1106 ---> [23.14741084] [-0.00815514  0.14517005  3.63516113]\n",
      "1107 ---> [31.00969967] [ 1.39680649e-03 -4.28888509e-02  3.78695709e+00]\n",
      "1108 ---> [41.09895486] [ 2.50155476e-03 -1.41582824e-01  5.41090754e+00]\n",
      "1109 ---> [23.01944009] [ 2.89537998e-03 -7.83156848e-02  3.97526507e+00]\n",
      "1110 ---> [41.00966193] [-3.78975141e-04 -4.61283780e-03  4.65323660e+00]\n",
      "1111 ---> [19.12925962] [-3.42401189e-03 -4.90891210e-02  5.01880822e+00]\n",
      "1112 ---> [24.26755582] [ 0.00898602 -0.29075576  5.94909433]\n",
      "1113 ---> [20.00559579] [ 1.89311397e-03 -2.69197639e-02  3.58005287e+00]\n",
      "1114 ---> [33.11336279] [-0.00412364  0.10509392  3.16791674]\n",
      "1115 ---> [17.10066312] [ 0.01001922 -0.20771055  4.52776725]\n",
      "1116 ---> [27.07183574] [-0.00441161  0.09008115  4.40045669]\n",
      "1117 ---> [28.16252929] [-0.00660444  0.19482923  3.03488279]\n",
      "1118 ---> [35.07283731] [ 3.18057898e-03 -1.08233137e-01  4.35479729e+00]\n",
      "1119 ---> [35.09727412] [ 3.57794731e-03 -1.40253873e-01  4.47853016e+00]\n",
      "1120 ---> [27.01933056] [ 2.42711251e-03 -6.42600541e-02  4.39009482e+00]\n",
      "1121 ---> [34.00151342] [-2.96156675e-04  2.34136177e-03  5.03145026e+00]\n",
      "1122 ---> [17.13485602] [-0.01279455  0.2192209   3.55839222]\n",
      "1123 ---> [18.00876092] [-2.71401283e-04 -2.64622856e-02  4.27356463e+00]\n",
      "1124 ---> [21.10018028] [ 0.00770709 -0.18337253  4.60163196]\n",
      "1125 ---> [22.0054241] [ 1.63903817e-03 -4.21535273e-02  3.75150472e+00]\n",
      "1126 ---> [38.08982809] [ 2.67918692e-03 -1.34978572e-01  5.86776100e+00]\n",
      "1127 ---> [23.02980104] [ 3.81644897e-03 -7.88520641e-02  4.67755090e+00]\n",
      "1128 ---> [26.02225431] [-1.65939668e-03  8.42620733e-03  4.28464659e+00]\n",
      "1129 ---> [24.01043428] [ 2.03347874e-03 -5.54861998e-02  3.84405034e+00]\n",
      "1130 ---> [19.11737973] [-0.00977822  0.14559656  4.43398984]\n",
      "1131 ---> [18.57426372] [ 0.0230395  -0.3453537   5.26122296]\n",
      "1132 ---> [22.0464032] [-2.34295811e-03  1.06998214e-01  3.09875681e+00]\n",
      "1133 ---> [24.02542001] [ 2.89637458e-03 -4.40310717e-02  4.08965468e+00]\n",
      "1134 ---> [20.02123983] [ 0.0038674  -0.06199481  3.7106586 ]\n",
      "1135 ---> [66.00880963] [-9.53985766e-05 -9.72910650e-03  4.99260585e+00]\n",
      "1136 ---> [37.00106791] [-9.40894918e-06 -7.25637854e-03  4.12580375e+00]\n",
      "1137 ---> [125.00956249] [-7.34586097e-05 -2.06719478e-03  5.11684110e+00]\n",
      "1138 ---> [36.00516166] [ 2.57348322e-04 -2.50750529e-02  5.20876481e+00]\n",
      "1139 ---> [46.02285916] [ 1.06989696e-03 -6.18210238e-02  4.90360363e+00]\n",
      "1140 ---> [46.06176273] [ 1.69646447e-03 -1.05411610e-01  5.32273219e+00]\n",
      "1141 ---> [36.02185385] [ 1.61591679e-03 -6.58732283e-02  4.37755225e+00]\n",
      "1142 ---> [19.37190025] [-0.01819299  0.32950909  2.56234786]\n",
      "1143 ---> [18.10160878] [ 0.00767255 -0.20116652  4.11846944]\n",
      "1144 ---> [31.00353831] [ 8.32587364e-04 -2.24782438e-02  4.43927322e+00]\n",
      "1145 ---> [24.05102587] [-0.00459123  0.09098489  3.58792575]\n",
      "1146 ---> [22.18777229] [-0.00742708  0.0646926   3.92407722]\n",
      "1147 ---> [26.091356] [ 0.00503798 -0.16248038  4.24531272]\n",
      "1148 ---> [25.02182036] [-1.87086513e-03  1.29939901e-02  3.08280191e+00]\n",
      "1149 ---> [28.07556928] [ 0.00449898 -0.1325033   4.23955259]\n",
      "1150 ---> [29.03674592] [-2.95875614e-03  7.37289430e-02  3.84138965e+00]\n",
      "1151 ---> [31.03844266] [ 2.61616001e-03 -9.55390373e-02  4.41380679e+00]\n",
      "1152 ---> [31.01402271] [-1.31043556e-03  2.30908621e-02  3.25035103e+00]\n",
      "1153 ---> [30.00009534] [ 1.35170699e-04 -4.85531813e-03  3.04004283e+00]\n",
      "1154 ---> [26.01410099] [ 2.11484351e-03 -6.16715856e-02  4.69914588e+00]\n",
      "1155 ---> [26.01117607] [-1.79347764e-03  3.32056541e-02  3.88726822e+00]\n",
      "1156 ---> [29.13971979] [ 0.00576035 -0.18072369  4.63416204]\n",
      "1157 ---> [26.08288362] [ 0.01970437 -0.57008149  7.18686562]\n",
      "1158 ---> [26.001239] [-2.79341165e-04  1.57998999e-02  3.88359096e+00]\n",
      "1159 ---> [26.19893237] [ 4.20159615e-03 -2.11954912e-01  6.28104686e+00]\n",
      "1160 ---> [23.0848503] [ 9.60107291e-04 -1.06154844e-01  5.11866114e+00]\n",
      "1161 ---> [51.01911959] [-4.64534418e-04 -4.99821711e-04  3.98694417e+00]\n",
      "1162 ---> [17.06659302] [-0.00897274  0.15389527  3.74352676]\n",
      "1163 ---> [34.10729512] [-0.00390662  0.10770328  3.17579532]\n",
      "1164 ---> [21.05991926] [ 0.00614433 -0.13600659  5.13973891]\n",
      "1165 ---> [26.07618269] [-0.00495153  0.10502294  3.58280738]\n",
      "1166 ---> [24.24691727] [ 0.01036373 -0.22628706  4.69859942]\n",
      "1167 ---> [19.12678471] [-0.01036546  0.20895005  2.4809135 ]\n",
      "1168 ---> [22.05596302] [-0.00512369  0.07817195  4.16104365]\n",
      "1169 ---> [20.10209427] [ 3.79135329e-03 -1.63334174e-01  5.10536134e+00]\n",
      "1170 ---> [19.00637948] [-1.23922132e-03  4.43727305e-02  3.23303292e+00]\n",
      "1171 ---> [24.20876535] [-0.00933722  0.18644976  3.40435208]\n",
      "1172 ---> [22.18389344] [ 0.00999208 -0.23707364  5.03929603]\n",
      "1173 ---> [22.00719532] [-4.73131405e-04  3.47980758e-02  3.18116959e+00]\n",
      "1174 ---> [30.30579686] [-0.00814746  0.26208388  2.38508699]\n",
      "1175 ---> [26.04670171] [-0.00382904  0.07854845  3.59861287]\n",
      "1176 ---> [26.01162099] [-1.90997537e-03  5.62522788e-02  3.12430745e+00]\n",
      "1177 ---> [21.09388493] [-0.0077434   0.14206057  4.3748979 ]\n",
      "1178 ---> [21.17357178] [-0.00942184  0.12819684  4.40532421]\n",
      "1179 ---> [21.01679082] [ 1.97119734e-03 -7.15055707e-02  5.05582760e+00]\n",
      "1180 ---> [22.0435028] [ 1.62415022e-03 -9.35602333e-02  4.76075588e+00]\n",
      "1181 ---> [24.1257541] [ 0.00717532 -0.1904754   5.31817518]\n",
      "1182 ---> [24.00549259] [ 1.42007625e-03 -4.10662415e-02  3.93069703e+00]\n",
      "1183 ---> [24.03136419] [ 3.40789247e-03 -5.86989262e-02  3.69663363e+00]\n",
      "1184 ---> [23.00563089] [-1.20829668e-03  4.18249829e-02  3.20397675e+00]\n",
      "1185 ---> [32.00798018] [-1.13475897e-03  2.74729447e-02  4.36920998e+00]\n",
      "1186 ---> [34.00063971] [ 2.83017550e-04 -6.73841477e-03  4.10099705e+00]\n",
      "1187 ---> [33.00110945] [-4.13001474e-04  1.55235962e-02  3.37502698e+00]\n",
      "1188 ---> [32.00669465] [ 7.31673668e-04 -7.32682801e-03  2.94828705e+00]\n",
      "1189 ---> [27.01347015] [ 1.61719172e-03 -6.10950344e-02  4.55741235e+00]\n",
      "1190 ---> [29.00984188] [ 1.34044164e-03 -5.07726713e-02  4.42344538e+00]\n",
      "1191 ---> [53.01293452] [ 5.37039628e-04 -4.37710155e-02  4.55921909e+00]\n",
      "1192 ---> [33.05032458] [-2.68035103e-03  6.46307631e-02  3.67672040e+00]\n",
      "1193 ---> [29.12719448] [ 0.00516861 -0.18109591  4.71512855]\n",
      "1194 ---> [35.00217456] [ 3.53403349e-05 -1.23260831e-02  2.93510582e+00]\n",
      "1195 ---> [23.00390681] [ 1.32135277e-03 -3.47183929e-02  4.18131549e+00]\n",
      "1196 ---> [23.01033166] [ 1.91923290e-03 -5.80135464e-02  3.92472172e+00]\n",
      "1197 ---> [28.13867418] [ 0.00556876 -0.19340655  4.65146749]\n",
      "1198 ---> [29.05434688] [ 0.0036413  -0.09583145  3.44530109]\n",
      "1199 ---> [22.05243354] [ 4.28071949e-03 -1.32592731e-01  4.49749273e+00]\n",
      "1200 ---> [22.01852136] [-2.92069231e-03  4.37554169e-02  3.10281708e+00]\n",
      "1201 ---> [30.04230048] [ 2.99139527e-03 -9.85527518e-02  4.71054141e+00]\n",
      "1202 ---> [30.03486619] [ 2.43590254e-03 -9.40351630e-02  4.50171062e+00]\n",
      "1203 ---> [29.03886269] [ 3.0826189e-03 -8.8054881e-02  3.5808832e+00]\n",
      "1204 ---> [28.01645873] [ 6.91274687e-04 -5.10869788e-02  3.24901669e+00]\n",
      "1205 ---> [27.02620344] [-2.79573254e-03  6.60995014e-02  3.95293420e+00]\n",
      "1206 ---> [27.07387602] [ 0.00473042 -0.12994341  4.38811123]\n",
      "1207 ---> [25.01335832] [ 2.26511878e-03 -5.48830489e-02  3.80407313e+00]\n",
      "1208 ---> [22.05505275] [ 0.0051554  -0.13527952  4.29483646]\n",
      "1209 ---> [29.00823441] [ 1.24025657e-03 -4.64253901e-02  4.49226554e+00]\n",
      "1210 ---> [26.03685355] [ 3.15948948e-03 -1.03274348e-01  4.72605276e+00]\n",
      "1211 ---> [25.18276556] [ 0.00840091 -0.19786104  4.68488005]\n",
      "1212 ---> [34.17377866] [-0.00515471  0.16456488  2.97695993]\n",
      "1213 ---> [30.19764953] [ 0.0063145  -0.21919641  5.23178084]\n",
      "1214 ---> [29.156756] [-0.00617575  0.15978966  3.4543632 ]\n",
      "1215 ---> [33.09692216] [-0.00382156  0.10564351  3.38720575]\n",
      "1216 ---> [31.02515933] [-7.45666963e-04 -1.56562040e-02  3.98467867e+00]\n",
      "1217 ---> [21.03572811] [-3.40809526e-03  2.69112023e-02  4.54376561e+00]\n",
      "1218 ---> [20.02751612] [-2.11486276e-03 -6.27733509e-03  4.24487363e+00]\n",
      "1219 ---> [21.22784856] [ 0.01101675 -0.28443372  5.33655863]\n",
      "1220 ---> [19.12525677] [ 0.00999471 -0.14453765  3.93399045]\n",
      "1221 ---> [31.06922607] [-0.00368821  0.09978248  3.40899169]\n",
      "1222 ---> [32.03030111] [-2.33843790e-03  7.78725043e-02  3.66151260e+00]\n",
      "1223 ---> [33.02021609] [-1.53469480e-03  2.98466466e-02  3.62279270e+00]\n",
      "1224 ---> [33.00199657] [ 5.38076827e-04 -2.12076114e-02  3.24032288e+00]\n",
      "1225 ---> [25.12020779] [ 0.00672136 -0.19049421  4.90248492]\n",
      "1226 ---> [27.25119786] [ 0.00819182 -0.16320834  4.2153758 ]\n",
      "1227 ---> [31.03957591] [ 2.79628183e-03 -9.10679784e-02  4.52734312e+00]\n",
      "1228 ---> [31.01742539] [ 1.66275912e-03 -3.44148833e-02  3.60085158e+00]\n",
      "1229 ---> [29.04519601] [ 2.85490927e-03 -5.09982331e-02  3.14860666e+00]\n",
      "1230 ---> [36.03074441] [-1.91993854e-03  5.63802196e-02  3.94277836e+00]\n",
      "1231 ---> [34.11557698] [-0.00386615  0.09497589  3.48068915]\n",
      "1232 ---> [30.01672453] [ 2.65854738e-04 -4.07869557e-02  4.16238372e+00]\n",
      "1233 ---> [34.04027787] [ 1.52557563e-03 -8.87543000e-02  5.02159536e+00]\n",
      "1234 ---> [36.0110417] [ 1.17121964e-03 -4.55759417e-02  4.39221806e+00]\n",
      "1235 ---> [23.0011933] [ 1.35040393e-04 -1.29984884e-02  4.39105768e+00]\n",
      "1236 ---> [23.11602874] [ 0.00742111 -0.18391378  4.55336417]\n",
      "1237 ---> [23.11190231] [ 0.00742444 -0.1560171   4.25313849]\n",
      "1238 ---> [43.00843877] [ 7.28544047e-04 -2.25089148e-02  4.26246807e+00]\n",
      "1239 ---> [26.04647857] [ 3.92142836e-03 -1.08814125e-01  4.19261801e+00]\n",
      "1240 ---> [26.5235692] [ 0.01192135 -0.39354448  7.02924387]\n",
      "1241 ---> [24.00674943] [ 1.63088156e-03 -4.47167552e-02  3.77913566e+00]\n",
      "1242 ---> [24.06877845] [-3.76038566e-03  3.14034516e-02  4.01917849e+00]\n",
      "1243 ---> [28.02615677] [-2.61858362e-03  7.95355381e-02  3.62312040e+00]\n",
      "1244 ---> [35.2394296] [ 0.00578769 -0.20617969  4.90922982]\n",
      "1245 ---> [23.0016065] [ 2.83022417e-04 -1.79986673e-02  4.30416650e+00]\n",
      "1246 ---> [25.06871918] [-0.00504773  0.10688029  3.49682819]\n",
      "1247 ---> [32.04079571] [-0.00259789  0.09632425  2.16351791]\n",
      "1248 ---> [25.10096182] [ 5.01860264e-03 -1.73985009e-01  5.48227339e+00]\n",
      "1249 ---> [26.07918001] [ 0.00516159 -0.11881849  4.12516579]\n",
      "1250 ---> [24.06665561] [ 3.35124689e-03 -1.35510265e-01  5.96248588e+00]\n",
      "1251 ---> [29.00767247] [ 1.36979461e-03 -4.01606603e-02  4.10661327e+00]\n",
      "1252 ---> [30.00333443] [-1.86655089e-05 -1.43651772e-02  3.58872068e+00]\n",
      "1253 ---> [25.20962994] [ 0.00850648 -0.24701498  4.83910508]\n",
      "1254 ---> [29.00825889] [-1.42352573e-03  4.11434857e-02  3.55965031e+00]\n",
      "1255 ---> [31.00103731] [-3.05177922e-05 -7.24692403e-03  3.13947205e+00]\n",
      "1256 ---> [30.04012199] [-2.14756494e-03  2.62912801e-02  4.00695044e+00]\n",
      "1257 ---> [31.05466154] [ 2.90763576e-03 -5.85039710e-02  3.26553200e+00]\n",
      "1258 ---> [28.09410693] [ 0.00454642 -0.15941986  4.33803783]\n",
      "1259 ---> [26.07302562] [-0.00499829  0.12639819  3.28197197]\n",
      "1260 ---> [30.02440433] [-2.82761068e-04 -3.18457717e-02  4.13434134e+00]\n",
      "1261 ---> [33.00400033] [ 4.56090814e-04 -2.75162785e-02  4.58811809e+00]\n",
      "1262 ---> [29.02034056] [-1.46515837e-03  1.27038640e-02  4.02005355e+00]\n",
      "1263 ---> [29.06037897] [-0.00378049  0.09298089  3.19346513]\n",
      "1264 ---> [21.74039462] [ 0.02077957 -0.51332861  7.08492967]\n",
      "1265 ---> [24.01853672] [ 2.83496447e-03 -6.68454590e-02  4.36422197e+00]\n",
      "1266 ---> [39.02436106] [-1.06160430e-03  1.42883836e-02  3.83222168e+00]\n",
      "1267 ---> [42.00334551] [ 4.90408932e-04 -2.43386154e-02  3.18740121e+00]\n",
      "1268 ---> [31.02343194] [ 3.31923840e-04 -4.83903803e-02  4.84752211e+00]\n",
      "1269 ---> [29.11818077] [ 0.00540172 -0.15051811  4.50317288]\n",
      "1270 ---> [25.03201298] [-3.30979912e-03  6.26389491e-02  3.57275834e+00]\n",
      "1271 ---> [25.00862683] [ 1.47556999e-03 -5.08022535e-02  3.78390414e+00]\n",
      "1272 ---> [29.03153947] [-5.90786830e-04 -2.90504992e-02  4.10993789e+00]\n",
      "1273 ---> [28.02233414] [-1.90479326e-03  7.68959746e-02  2.59608374e+00]\n",
      "1274 ---> [32.22905233] [ 0.00649103 -0.19608176  4.9379272 ]\n",
      "1275 ---> [31.03503835] [-4.70769265e-04  6.09309708e-02  2.15953490e+00]\n",
      "1276 ---> [31.03117918] [ 1.17023449e-03 -7.47885010e-02  3.61530441e+00]\n",
      "1277 ---> [22.0621388] [ 0.00509989 -0.1454443   4.49414787]\n",
      "1278 ---> [22.12340559] [ 0.00815597 -0.14789309  4.11337858]\n",
      "1279 ---> [34.1349692] [ 4.46013666e-03 -1.73531182e-01  4.61840735e+00]\n",
      "1280 ---> [29.00151324] [ 4.97185083e-04 -1.98432483e-02  4.49661849e+00]\n",
      "1281 ---> [21.03537109] [ 3.86279033e-03 -1.11630763e-01  4.70659552e+00]\n",
      "1282 ---> [20.02080109] [-0.00394985  0.07641749  3.61559714]\n",
      "1283 ---> [21.13686571] [ 0.00938845 -0.20022944  4.03600106]\n",
      "1284 ---> [23.07216398] [-0.00565484  0.09878815  2.64667921]\n",
      "1285 ---> [38.11562174] [ 3.38775189e-03 -1.49422428e-01  5.48270813e+00]\n",
      "1286 ---> [36.03645372] [1.08842085e-03 8.31927000e-04 4.39654815e+00]\n",
      "1287 ---> [23.04909936] [ 0.00451659 -0.07325103  4.00411691]\n",
      "1288 ---> [20.22119264] [ 0.01170483 -0.15827171  4.15545636]\n",
      "1289 ---> [37.0160276] [ 1.32664550e-03 -5.57331444e-02  4.62199281e+00]\n",
      "1290 ---> [19.05973812] [-0.00379364  0.13592249  3.04388819]\n",
      "1291 ---> [17.03011401] [-0.00548518  0.11327972  3.22224441]\n",
      "1292 ---> [18.02836799] [ 0.00539306 -0.08777006  3.84602892]\n",
      "1293 ---> [21.01683865] [-1.86423809e-03  4.20830082e-03  3.48610095e+00]\n",
      "1294 ---> [28.00520768] [-5.92843384e-04  3.27456535e-02  3.94442963e+00]\n",
      "1295 ---> [20.13002875] [ 0.00972041 -0.20669047  4.57487121]\n",
      "1296 ---> [18.07945245] [ 0.00905505 -0.15115098  4.08975051]\n",
      "1297 ---> [24.08195648] [-0.00595162  0.12982419  3.77484728]\n",
      "1298 ---> [36.0339369] [ 2.06866458e-03 -7.85947982e-02  4.44704277e+00]\n",
      "1299 ---> [27.00478864] [-1.17726594e-03  3.48500011e-02  3.31184061e+00]\n",
      "1300 ---> [30.04813105] [-3.20918012e-03  8.19333201e-02  4.53122669e+00]\n",
      "1301 ---> [32.00298587] [-3.63297823e-04 -6.36558414e-04  4.30464402e+00]\n",
      "1302 ---> [21.00750991] [-6.60638580e-04 -1.23066885e-02  4.16990609e+00]\n",
      "1303 ---> [24.02905092] [-0.00354253  0.07772827  3.29893075]\n",
      "1304 ---> [40.11007462] [ 2.86683946e-03 -1.45521829e-01  6.17207283e+00]\n",
      "1305 ---> [30.00371068] [ 8.64985728e-04 -2.98751080e-02  4.22715151e+00]\n",
      "1306 ---> [20.02625913] [2.18220272e-03 3.19287060e-03 3.68119976e+00]\n",
      "1307 ---> [27.00490993] [-5.62378665e-04 -2.31631897e-03  4.49501134e+00]\n",
      "1308 ---> [31.03933864] [-2.31369747e-03  4.06571825e-02  3.75907271e+00]\n",
      "1309 ---> [37.00044507] [ 1.40259326e-04 -1.16595605e-03  3.49448834e+00]\n",
      "1310 ---> [20.03107205] [ 0.00439239 -0.1066913   3.59915941]\n",
      "1311 ---> [17.06400306] [-0.00786346  0.08576897  4.19683094]\n",
      "1312 ---> [18.13013025] [ 0.01049213 -0.12658996  4.04538472]\n",
      "1313 ---> [22.0082627] [-2.14691138e-04  3.17824067e-02  3.09649422e+00]\n",
      "1314 ---> [22.09479653] [ 0.00732028 -0.15616929  4.06782304]\n",
      "1315 ---> [25.02672443] [ 1.91224566e-03 -8.30213881e-02  3.72630377e+00]\n",
      "1316 ---> [23.09385008] [ 0.00608603 -0.09308429  2.99137525]\n",
      "1317 ---> [19.05163891] [-2.34697653e-04 -6.95078551e-02  5.09849205e+00]\n",
      "1318 ---> [19.16851883] [ 0.01196748 -0.18987637  4.86429974]\n",
      "1319 ---> [32.00600599] [-8.3496778e-04  1.4158564e-02  3.9027472e+00]\n",
      "1320 ---> [36.00626152] [ 4.98331938e-04 -1.92903666e-03  3.29339505e+00]\n",
      "1321 ---> [36.01628222] [ 2.09581100e-04 -3.70979681e-02  4.37664796e+00]\n",
      "1322 ---> [18.771769] [ 0.02312306 -0.57212714  6.81223191]\n",
      "1323 ---> [19.00327484] [-8.56386615e-05  2.00851672e-02  3.33622032e+00]\n",
      "1324 ---> [21.2700382] [-0.01218108  0.30882885  2.00178867]\n",
      "1325 ---> [36.09154828] [-0.00342482  0.1254047   2.92418045]\n",
      "1326 ---> [28.02957107] [ 2.58118061e-03 -5.03668788e-02  3.61161909e+00]\n",
      "1327 ---> [29.00416449] [-9.87546639e-04  3.13729832e-02  2.78223427e+00]\n",
      "1328 ---> [19.02692066] [-0.0042929   0.05236257  3.10989049]\n",
      "1329 ---> [35.10204283] [-3.61830973e-03  1.00619941e-01  3.62311619e+00]\n",
      "1330 ---> [34.01493904] [ 1.11909311e-03 -5.68453386e-02  4.30911095e+00]\n",
      "1331 ---> [32.0316632] [ 2.38031136e-03 -6.69477858e-02  3.86100305e+00]\n",
      "1332 ---> [24.04100441] [2.24291726e-04 5.27907099e-02 3.34501461e+00]\n",
      "1333 ---> [17.25890455] [-0.01556733  0.33636339  2.1089319 ]\n",
      "1334 ---> [18.06386847] [ 0.0071823  -0.16150148  4.29552358]\n",
      "1335 ---> [25.29125902] [-0.00878331  0.12402045  3.64644864]\n",
      "1336 ---> [24.08749079] [ 0.00574531 -0.16345706  4.57984328]\n",
      "1337 ---> [25.13539218] [-0.00659056  0.2011169   2.27618757]\n",
      "1338 ---> [24.12807312] [2.84641550e-04 9.68256067e-02 2.26627802e+00]\n",
      "1339 ---> [25.09205679] [-0.00453326  0.16459753  1.52137281]\n",
      "1340 ---> [22.65192822] [ 0.01655721 -0.47791471  6.24377456]\n",
      "1341 ---> [21.01009338] [ 2.40616859e-03 -4.24159161e-02  3.15631436e+00]\n",
      "1342 ---> [29.03023195] [-2.60086827e-03  5.90110140e-02  3.64603815e+00]\n",
      "1343 ---> [37.00806308] [ 9.69895354e-04 -3.74965190e-02  3.82033637e+00]\n",
      "1344 ---> [29.00089684] [-3.27887538e-04  3.54931435e-03  3.99630694e+00]\n",
      "1345 ---> [35.0189695] [-7.82582693e-04 -2.27831172e-03  3.93799244e+00]\n",
      "1346 ---> [33.03972174] [ 2.36585527e-03 -9.51651716e-02  3.95458356e+00]\n",
      "1347 ---> [30.00912324] [-1.38881973e-04 -2.05188224e-02  4.09378083e+00]\n",
      "1348 ---> [28.00881107] [ 1.58584374e-04 -2.92396000e-02  3.85859024e+00]\n",
      "1349 ---> [23.02830336] [ 3.28095880e-03 -9.59779635e-02  4.46459795e+00]\n",
      "1350 ---> [21.10137455] [ 0.00705098 -0.0920555   3.84391133]\n",
      "1351 ---> [33.03707748] [ 2.39695969e-03 -8.95091334e-02  4.01162832e+00]\n",
      "1352 ---> [39.01233582] [-1.09409970e-03  3.64876619e-02  3.74449715e+00]\n",
      "1353 ---> [42.00021367] [ 9.79159045e-05 -6.14461218e-03  3.64780695e+00]\n",
      "1354 ---> [39.07722052] [ 2.67623711e-03 -1.20041624e-01  4.55386365e+00]\n",
      "1355 ---> [34.03864654] [ 2.23917289e-03 -9.69183661e-02  4.01946084e+00]\n",
      "1356 ---> [45.24427489] [ 4.00191723e-03 -1.86078307e-01  5.95567961e+00]\n",
      "1357 ---> [20.22819086] [ 0.01185836 -0.15938332  4.64863313]\n",
      "1358 ---> [25.04648141] [-4.19670344e-03  9.32630856e-02  4.43610157e+00]\n",
      "1359 ---> [25.06138204] [ 4.83852359e-03 -1.22771089e-01  5.00605683e+00]\n",
      "1360 ---> [18.14090512] [-0.00955038  0.08526697  4.34239864]\n",
      "1361 ---> [18.04303703] [ 0.00650105 -0.12562765  4.17966339]\n",
      "1362 ---> [33.08185174] [-0.00359082  0.09781654  3.14423396]\n",
      "1363 ---> [21.12768295] [ 0.00508994 -0.19357709  4.75942487]\n",
      "1364 ---> [32.00862473] [-1.17401721e-03  2.81041979e-02  4.33504704e+00]\n",
      "1365 ---> [32.00843732] [ 1.09561256e-03 -2.31123429e-02  4.21167776e+00]\n",
      "1366 ---> [32.10606262] [-0.00441148  0.1343187   2.9829909 ]\n",
      "1367 ---> [16.00319573] [ 2.03801462e-03 -3.72869670e-02  3.32656345e+00]\n",
      "1368 ---> [15.01205269] [-0.00313565  0.07341174  2.67228593]\n",
      "1369 ---> [17.00008299] [ 1.56305206e-04 -5.22312323e-03  4.51270430e+00]\n",
      "1370 ---> [16.00317011] [ 1.38572819e-03 -5.53841925e-03  3.93912144e+00]\n",
      "1371 ---> [23.15814916] [ 0.00883778 -0.20247982  4.55981317]\n",
      "1372 ---> [20.03335418] [ 0.00407929 -0.05215513  3.60717377]\n",
      "1373 ---> [30.00132769] [ 3.93422165e-04 -1.78963517e-02  4.59477076e+00]\n",
      "1374 ---> [31.04753096] [-2.70538449e-03  5.96074928e-02  3.98021789e+00]\n",
      "1375 ---> [17.06908094] [ 0.00833995 -0.17167226  4.52450621]\n",
      "1376 ---> [16.04436149] [ 0.00759914 -0.13914743  4.0871111 ]\n",
      "1377 ---> [32.39996998] [ 7.04200982e-03 -3.10060966e-01  7.48648629e+00]\n",
      "1378 ---> [27.01018986] [ 1.11151581e-04 -3.03115932e-02  4.28984217e+00]\n",
      "1379 ---> [25.05120163] [-0.00442254  0.10075702  3.74622713]\n",
      "1380 ---> [25.08041392] [ 0.005518   -0.14285892  4.9539104 ]\n",
      "1381 ---> [27.00755352] [ 1.48999934e-03 -3.42473518e-02  3.91534679e+00]\n",
      "1382 ---> [35.01969854] [-1.56669960e-03  4.21323071e-02  3.30376957e+00]\n",
      "1383 ---> [22.01521143] [-2.73669550e-03  7.07194403e-02  3.92205504e+00]\n",
      "1384 ---> [25.16787343] [ 0.00787277 -0.21349644  5.0441626 ]\n",
      "1385 ---> [24.03977485] [ 3.96973371e-03 -1.16399634e-01  4.37622597e+00]\n",
      "1386 ---> [35.08113244] [-3.31216438e-03  9.97043626e-02  3.53982474e+00]\n",
      "1387 ---> [23.11595475] [ 0.00652667 -0.19484694  5.12126165]\n",
      "1388 ---> [23.01195024] [1.03178007e-03 6.48763047e-03 3.04670233e+00]\n",
      "1389 ---> [32.06273172] [ 3.34329404e-03 -9.30305302e-02  4.45719934e+00]\n",
      "1390 ---> [32.01609193] [-1.71657187e-03  5.25641593e-02  3.22106328e+00]\n",
      "1391 ---> [35.04854775] [-2.59868730e-03  9.28391968e-02  3.22595441e+00]\n",
      "1392 ---> [17.1373626] [ 0.00617754 -0.21107859  4.91271036]\n",
      "1393 ---> [15.30186126] [ 0.02171092 -0.37962182  4.72963312]\n",
      "1394 ---> [30.18125933] [ 0.00615865 -0.20645533  5.59662707]\n",
      "1395 ---> [32.00799639] [ 1.18952197e-03 -3.27621014e-02  3.92514293e+00]\n",
      "1396 ---> [31.01256547] [-1.19062624e-03  1.68259044e-02  3.32981747e+00]\n",
      "1397 ---> [30.01761515] [-9.47812522e-04  5.75771216e-02  3.31343854e+00]\n",
      "1398 ---> [24.00949402] [ 1.93502944e-03 -5.30243216e-02  3.83039770e+00]\n",
      "1399 ---> [26.47304409] [-0.01266474  0.28738198  2.17699769]\n",
      "1400 ---> [32.00793438] [-1.20082865e-03  3.52734142e-02  3.82350060e+00]\n",
      "1401 ---> [34.01151588] [-1.32607904e-03  4.38490668e-02  3.32413362e+00]\n",
      "1402 ---> [25.01794815] [ 2.59684125e-03 -6.79715511e-02  4.00478859e+00]\n",
      "1403 ---> [30.06384169] [ 3.32356241e-03 -1.27240007e-01  4.87481946e+00]\n",
      "1404 ---> [40.0514235] [ 2.16999648e-03 -9.25568357e-02  4.32352028e+00]\n",
      "1405 ---> [24.02813657] [-2.18253582e-03  1.23436490e-02  4.51942284e+00]\n",
      "1406 ---> [25.34842532] [ 0.01160037 -0.29219     5.24623541]\n",
      "1407 ---> [26.20422476] [-0.00828172  0.18784078  2.49744173]\n",
      "1408 ---> [28.0636054] [ 2.80988729e-03 -1.25776932e-01  4.16991734e+00]\n",
      "1409 ---> [33.06757452] [ 2.84230202e-03 -1.25190790e-01  5.16328975e+00]\n",
      "1410 ---> [32.11198309] [-0.00449635  0.12840275  2.70683893]\n",
      "1411 ---> [50.1038191] [ 2.12858487e-03 -1.23938054e-01  5.45117141e+00]\n",
      "1412 ---> [39.00121987] [-5.34563200e-05 -5.78593033e-03  3.57512302e+00]\n",
      "1413 ---> [38.02011597] [ 1.36774342e-03 -6.32112343e-02  5.14259124e+00]\n",
      "1414 ---> [35.00443758] [ 3.29792294e-04 -2.56763521e-02  4.49677407e+00]\n",
      "1415 ---> [27.12482157] [-0.00582815  0.11935739  4.45970993]\n",
      "1416 ---> [17.10526761] [-0.01099895  0.14761886  3.91703748]\n",
      "1417 ---> [18.42147548] [-0.02050851  0.29920405  3.19980538]\n",
      "1418 ---> [20.17194143] [ 0.01091106 -0.16901743  4.13658143]\n",
      "1419 ---> [21.02129173] [-3.53224439e-03  8.46362351e-02  4.29256185e+00]\n",
      "1420 ---> [21.02822606] [ 4.14246491e-03 -6.98426410e-02  4.71435502e+00]\n",
      "1421 ---> [25.06000645] [-0.00478455  0.10836066  3.4251537 ]\n",
      "1422 ---> [21.00584179] [ 1.82458233e-03 -4.46855975e-02  3.74875679e+00]\n",
      "1423 ---> [20.08574811] [ 0.00787639 -0.16803086  4.86776574]\n",
      "1424 ---> [21.00914906] [ 2.34513904e-03 -3.89493187e-02  4.13397315e+00]\n",
      "1425 ---> [32.02914057] [-1.78879809e-03  2.84166387e-02  4.84825588e+00]\n",
      "1426 ---> [20.0342512] [ 2.25587008e-03 -9.53160566e-02  4.88811661e+00]\n",
      "1427 ---> [21.03410614] [ 3.30459879e-03 -1.06696083e-01  4.63364279e+00]\n",
      "1428 ---> [18.07079729] [ 0.00850599 -0.13562741  4.02737399]\n",
      "1429 ---> [18.04658908] [-0.00689631  0.12447555  2.97637517]\n",
      "1430 ---> [31.15604465] [ 5.18023013e-03 -1.94446554e-01  5.67769250e+00]\n"
     ]
    }
   ],
   "source": [
    "for cellprop in props:\n",
    "    print(cellprop.label, '--->', cellprop.arc_length, cellprop.fit_coeff)"
   ]
  },
  {
   "cell_type": "code",
   "execution_count": null,
   "id": "a07cfa7d-4eea-424c-a9fc-d7c853cf7c49",
   "metadata": {},
   "outputs": [],
   "source": []
  },
  {
   "cell_type": "code",
   "execution_count": null,
   "id": "01869128-18d7-4256-a45c-e15e46b81b1f",
   "metadata": {},
   "outputs": [],
   "source": []
  },
  {
   "cell_type": "code",
   "execution_count": null,
   "id": "250012fa-303a-4780-bd76-94da7b607c15",
   "metadata": {},
   "outputs": [],
   "source": []
  },
  {
   "cell_type": "code",
   "execution_count": null,
   "id": "4b4bcf4f-eea8-4946-b2f7-3bf19171a63a",
   "metadata": {},
   "outputs": [],
   "source": []
  },
  {
   "cell_type": "code",
   "execution_count": null,
   "id": "9f1cf7b5-61d5-4c56-8adc-a11e5d889045",
   "metadata": {},
   "outputs": [],
   "source": []
  },
  {
   "cell_type": "code",
   "execution_count": 98,
   "id": "df482b94-2b13-48fb-897a-e9bcc7c5559b",
   "metadata": {},
   "outputs": [
    {
     "name": "stderr",
     "output_type": "stream",
     "text": [
      "/home/pk/Documents/rtseg/rtseg/cells/utils.py:194: RuntimeWarning: More than 20 figures have been opened. Figures created through the pyplot interface (`matplotlib.pyplot.figure`) are retained until explicitly closed and may consume too much memory. (To control this warning, see the rcParam `figure.max_open_warning`). Consider using `matplotlib.pyplot.close()`.\n",
      "  plt.figure()\n",
      "Exception ignored in: <bound method IPythonKernel._clean_thread_parent_frames of <ipykernel.ipkernel.IPythonKernel object at 0x746f51d70590>>\n",
      "Traceback (most recent call last):\n",
      "  File \"/home/pk/Documents/rtclient/.venv/lib/python3.11/site-packages/ipykernel/ipkernel.py\", line 775, in _clean_thread_parent_frames\n",
      "    def _clean_thread_parent_frames(\n",
      "\n",
      "KeyboardInterrupt: \n"
     ]
    }
   ],
   "source": [
    "for i in range(len(props)):\n",
    "    fit_coeff, arc_length, poles, backbone_coordinates = compute_fit_coeff_poles_arc_length(props[i].image, distance_threshold=3, plot=True)\n",
    "    #print(f\"{props[i].label} ---> {arc_length}\")\n",
    "#print(f\"Fit_coeff: {fit_coeff}\")\n",
    "#print(f\"Arc length: {arc_length}\")\n",
    "#print(f\"Poles: {poles}\")\n",
    "#print(f\"Backbone coordinates: {backbone_coordinates}\")\n",
    "#print(props[i].label)\n"
   ]
  },
  {
   "cell_type": "code",
   "execution_count": 220,
   "id": "b6a179d0-17f1-4916-931c-4133a81c3c48",
   "metadata": {},
   "outputs": [
    {
     "name": "stdout",
     "output_type": "stream",
     "text": [
      "579\n"
     ]
    }
   ],
   "source": [
    "print(props[i].label)"
   ]
  },
  {
   "cell_type": "code",
   "execution_count": null,
   "id": "31512048-b61d-4cbf-9896-8195a46fa1d2",
   "metadata": {},
   "outputs": [],
   "source": []
  },
  {
   "cell_type": "code",
   "execution_count": null,
   "id": "000e8dc5-73ac-43a0-a071-67aa0dbd4717",
   "metadata": {},
   "outputs": [],
   "source": []
  }
 ],
 "metadata": {
  "kernelspec": {
   "display_name": "Python 3 (ipykernel)",
   "language": "python",
   "name": "python3"
  },
  "language_info": {
   "codemirror_mode": {
    "name": "ipython",
    "version": 3
   },
   "file_extension": ".py",
   "mimetype": "text/x-python",
   "name": "python",
   "nbconvert_exporter": "python",
   "pygments_lexer": "ipython3",
   "version": "3.11.0rc1"
  }
 },
 "nbformat": 4,
 "nbformat_minor": 5
}
