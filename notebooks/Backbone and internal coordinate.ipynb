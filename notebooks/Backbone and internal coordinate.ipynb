{
 "cells": [
  {
   "cell_type": "code",
   "execution_count": 1,
   "id": "edcc4490-f7e2-4776-90a5-8532b8a87b51",
   "metadata": {},
   "outputs": [],
   "source": [
    "import numpy as np\n",
    "import matplotlib.pyplot as plt\n",
    "from skimage.io import imread\n",
    "import pathlib\n",
    "from skimage.measure import regionprops, label\n",
    "from pathlib import Path\n",
    "import torch\n",
    "import cv2\n",
    "import edt\n",
    "import math\n",
    "import matplotlib as mpl\n",
    "from math import floor\n",
    "%matplotlib qt"
   ]
  },
  {
   "cell_type": "code",
   "execution_count": 2,
   "id": "2dd87b89-a8d1-4f19-b6a6-e2521af591ab",
   "metadata": {},
   "outputs": [],
   "source": [
    "filepath = Path('/home/pk/Documents/rtseg/data/backbone/000_img_masks.tif')"
   ]
  },
  {
   "cell_type": "code",
   "execution_count": 3,
   "id": "83d713cc-856e-47b8-89d5-23a8df595437",
   "metadata": {},
   "outputs": [],
   "source": [
    "image = imread(filepath)"
   ]
  },
  {
   "cell_type": "code",
   "execution_count": 4,
   "id": "97732907-2ba9-4bba-a27a-904bc3b3eed0",
   "metadata": {},
   "outputs": [],
   "source": [
    "plt.figure()\n",
    "plt.imshow(image)\n",
    "plt.show()"
   ]
  },
  {
   "cell_type": "code",
   "execution_count": 5,
   "id": "04710e74-a1af-41ab-a3b9-207363581d62",
   "metadata": {},
   "outputs": [
    {
     "data": {
      "text/plain": [
       "array([  0, 448, 462, 489, 503, 510, 513, 528, 548, 554, 557, 570, 579,\n",
       "       590, 603, 619, 631], dtype=uint16)"
      ]
     },
     "execution_count": 5,
     "metadata": {},
     "output_type": "execute_result"
    }
   ],
   "source": [
    "np.unique(image)"
   ]
  },
  {
   "cell_type": "markdown",
   "id": "19fe72af-bc7b-4a04-ac4b-383eaf3ea459",
   "metadata": {},
   "source": [
    "#### __Compute the backbone of each region on the image__"
   ]
  },
  {
   "cell_type": "markdown",
   "id": "031395b6-6ab7-4bdf-98a8-9adaa70c9fe0",
   "metadata": {},
   "source": [
    "#### Fixed parameters"
   ]
  },
  {
   "cell_type": "code",
   "execution_count": 6,
   "id": "c8cd27c4-f5b1-414f-9ce4-e136eee74338",
   "metadata": {},
   "outputs": [],
   "source": [
    "props = regionprops(image)"
   ]
  },
  {
   "cell_type": "code",
   "execution_count": 7,
   "id": "59f4ee66-58b8-4f74-acf2-e501263d7bbe",
   "metadata": {},
   "outputs": [
    {
     "data": {
      "text/plain": [
       "((10, 16, 41, 36), 448)"
      ]
     },
     "execution_count": 7,
     "metadata": {},
     "output_type": "execute_result"
    }
   ],
   "source": [
    "props[0].bbox, props[0].label"
   ]
  },
  {
   "cell_type": "code",
   "execution_count": 8,
   "id": "bc7337dc-a129-4426-b208-bc3204a115ac",
   "metadata": {},
   "outputs": [],
   "source": [
    "plt.figure()\n",
    "plt.imshow(props[0].image)\n",
    "plt.show()"
   ]
  },
  {
   "cell_type": "code",
   "execution_count": 9,
   "id": "8e0750d2-c337-47ed-af80-9fb93d52814f",
   "metadata": {},
   "outputs": [],
   "source": [
    "dilation_threshold = 3\n",
    "dilation_radius = floor(dilation_threshold/2)"
   ]
  },
  {
   "cell_type": "code",
   "execution_count": 10,
   "id": "103d2f12-2fe5-45f1-9c5e-64090cd63e43",
   "metadata": {},
   "outputs": [
    {
     "data": {
      "text/plain": [
       "1"
      ]
     },
     "execution_count": 10,
     "metadata": {},
     "output_type": "execute_result"
    }
   ],
   "source": [
    "dilation_radius"
   ]
  },
  {
   "cell_type": "code",
   "execution_count": 11,
   "id": "94a06b3c-9ae5-41b2-b5f3-6cee5369940d",
   "metadata": {},
   "outputs": [],
   "source": [
    "img = props[0].image"
   ]
  },
  {
   "cell_type": "code",
   "execution_count": 12,
   "id": "1f0f65fb-acb7-4cf2-b9d0-b506a9bd591d",
   "metadata": {},
   "outputs": [],
   "source": [
    "padded_img = np.pad(img, (dilation_radius+1, dilation_radius+1)).astype('uint8')"
   ]
  },
  {
   "cell_type": "code",
   "execution_count": 13,
   "id": "9c9fad0f-f8f2-4176-bf5c-cada383e454e",
   "metadata": {},
   "outputs": [
    {
     "data": {
      "text/plain": [
       "((31, 20), (35, 24))"
      ]
     },
     "execution_count": 13,
     "metadata": {},
     "output_type": "execute_result"
    }
   ],
   "source": [
    "img.shape, padded_img.shape"
   ]
  },
  {
   "cell_type": "code",
   "execution_count": 14,
   "id": "ddec14c5-b8ae-4f86-bad5-9ad167dba483",
   "metadata": {},
   "outputs": [],
   "source": [
    "se = cv2.getStructuringElement(cv2.MORPH_ELLIPSE, (dilation_radius+2, dilation_radius+2))"
   ]
  },
  {
   "cell_type": "code",
   "execution_count": 15,
   "id": "b4d47785-01a6-4a97-956e-164cba43be7d",
   "metadata": {},
   "outputs": [
    {
     "data": {
      "text/plain": [
       "array([[0, 1, 0],\n",
       "       [1, 1, 1],\n",
       "       [0, 1, 0]], dtype=uint8)"
      ]
     },
     "execution_count": 15,
     "metadata": {},
     "output_type": "execute_result"
    }
   ],
   "source": [
    "se"
   ]
  },
  {
   "cell_type": "code",
   "execution_count": 16,
   "id": "5ed359b7-f8c7-4692-b214-22c516191bfb",
   "metadata": {},
   "outputs": [],
   "source": [
    "dilated_img = cv2.dilate(padded_img, se)"
   ]
  },
  {
   "cell_type": "code",
   "execution_count": 17,
   "id": "f582a493-28ca-4ce7-9d4e-b70c3b6b250d",
   "metadata": {},
   "outputs": [
    {
     "data": {
      "text/plain": [
       "(35, 24)"
      ]
     },
     "execution_count": 17,
     "metadata": {},
     "output_type": "execute_result"
    }
   ],
   "source": [
    "dilated_img.shape"
   ]
  },
  {
   "cell_type": "code",
   "execution_count": 18,
   "id": "b1ec979d-15ab-45ba-a8f8-e2c5f4c5ff0d",
   "metadata": {},
   "outputs": [],
   "source": [
    "xor = np.logical_xor(padded_img, dilated_img)"
   ]
  },
  {
   "cell_type": "code",
   "execution_count": 19,
   "id": "a4958aed-5c0a-4051-94bd-92748573a86a",
   "metadata": {},
   "outputs": [
    {
     "data": {
      "text/plain": [
       "<matplotlib.image.AxesImage at 0x77bbbc6b9850>"
      ]
     },
     "execution_count": 19,
     "metadata": {},
     "output_type": "execute_result"
    }
   ],
   "source": [
    "plt.imshow(xor)"
   ]
  },
  {
   "cell_type": "code",
   "execution_count": 20,
   "id": "f92248b9-be4f-45ec-8710-e561369e256a",
   "metadata": {},
   "outputs": [
    {
     "data": {
      "text/plain": [
       "<matplotlib.image.AxesImage at 0x77bbbc672490>"
      ]
     },
     "execution_count": 20,
     "metadata": {},
     "output_type": "execute_result"
    }
   ],
   "source": [
    "plt.imshow(dilated_img)"
   ]
  },
  {
   "cell_type": "code",
   "execution_count": 21,
   "id": "cf0e734d-5180-44a4-8844-1fd30d4e5fd8",
   "metadata": {},
   "outputs": [],
   "source": [
    "region_edt = edt.edt(dilated_img)"
   ]
  },
  {
   "cell_type": "code",
   "execution_count": 22,
   "id": "e5d3b510-639b-49c3-979f-8bb412e9b2be",
   "metadata": {},
   "outputs": [
    {
     "data": {
      "text/plain": [
       "<matplotlib.image.AxesImage at 0x77bbbc709b50>"
      ]
     },
     "execution_count": 22,
     "metadata": {},
     "output_type": "execute_result"
    }
   ],
   "source": [
    "plt.imshow(region_edt)"
   ]
  },
  {
   "cell_type": "code",
   "execution_count": 23,
   "id": "5da31ab7-0693-4a48-bea0-533799ba212a",
   "metadata": {},
   "outputs": [],
   "source": [
    "blob_boundary = (region_edt == 1)"
   ]
  },
  {
   "cell_type": "code",
   "execution_count": 24,
   "id": "164187ba-434c-47a0-a5e6-c1c53d41eb0a",
   "metadata": {},
   "outputs": [],
   "source": [
    "label_dist = region_edt * (region_edt >= dilation_threshold)"
   ]
  },
  {
   "cell_type": "code",
   "execution_count": null,
   "id": "aaf72f7e-0594-45b1-b961-e4f3b501143f",
   "metadata": {},
   "outputs": [],
   "source": []
  },
  {
   "cell_type": "code",
   "execution_count": 25,
   "id": "ad436bc9-75f6-4811-85e0-5d82fbc758ea",
   "metadata": {},
   "outputs": [],
   "source": [
    "final_labelled_image = label_dist[dilation_radius+1: -dilation_radius-1, dilation_radius+1: -dilation_radius-1]"
   ]
  },
  {
   "cell_type": "code",
   "execution_count": 26,
   "id": "fb64b183-52b4-4fda-a304-1ef8f24eace5",
   "metadata": {},
   "outputs": [
    {
     "data": {
      "text/plain": [
       "(31, 20)"
      ]
     },
     "execution_count": 26,
     "metadata": {},
     "output_type": "execute_result"
    }
   ],
   "source": [
    "final_labelled_image.shape"
   ]
  },
  {
   "cell_type": "code",
   "execution_count": 27,
   "id": "64d1e3fa-71d9-4c22-bcbc-826bcaefb60f",
   "metadata": {},
   "outputs": [],
   "source": [
    "fig, ax = plt.subplots(nrows=1, ncols=2)\n",
    "ax[0].imshow(props[0].image)\n",
    "ax[1].imshow(final_labelled_image)\n",
    "plt.show()"
   ]
  },
  {
   "cell_type": "code",
   "execution_count": 28,
   "id": "6fe8d615-a25e-49fc-a95f-f6e83f69cfd5",
   "metadata": {},
   "outputs": [],
   "source": [
    "y_coords, x_coords = np.nonzero(final_labelled_image)"
   ]
  },
  {
   "cell_type": "code",
   "execution_count": 29,
   "id": "28e003d4-0f5a-4104-bd38-f02c70c49759",
   "metadata": {},
   "outputs": [],
   "source": [
    "pixel_values = final_labelled_image[y_coords, x_coords]"
   ]
  },
  {
   "cell_type": "code",
   "execution_count": 30,
   "id": "85201bad-1172-48ca-9dc1-ca078caeb281",
   "metadata": {},
   "outputs": [
    {
     "data": {
      "text/plain": [
       "((190,), (190,), (190,))"
      ]
     },
     "execution_count": 30,
     "metadata": {},
     "output_type": "execute_result"
    }
   ],
   "source": [
    "y_coords.shape, x_coords.shape, pixel_values.shape"
   ]
  },
  {
   "cell_type": "markdown",
   "id": "43b3e92c-7c38-4bd7-8756-817e26a7742b",
   "metadata": {},
   "source": [
    "#### I am changing this cubing to a parameter, as I notice some of them are not great"
   ]
  },
  {
   "cell_type": "code",
   "execution_count": 31,
   "id": "bd15bf0b-a459-4c92-aae1-19969a3ba248",
   "metadata": {},
   "outputs": [],
   "source": [
    "weights = np.sqrt(pixel_values ** 3)"
   ]
  },
  {
   "cell_type": "code",
   "execution_count": 32,
   "id": "3fb6e45b-a4bf-4c4a-b620-c7a3299d8cf5",
   "metadata": {},
   "outputs": [
    {
     "data": {
      "text/plain": [
       "(190,)"
      ]
     },
     "execution_count": 32,
     "metadata": {},
     "output_type": "execute_result"
    }
   ],
   "source": [
    "weights.shape"
   ]
  },
  {
   "cell_type": "code",
   "execution_count": null,
   "id": "1f87c434-3a32-413b-a3b6-018716bc7548",
   "metadata": {},
   "outputs": [],
   "source": []
  },
  {
   "cell_type": "code",
   "execution_count": 33,
   "id": "621389c3-804f-49ea-b446-a0caa95c9ffa",
   "metadata": {},
   "outputs": [],
   "source": [
    "A = np.vstack((x_coords**2, x_coords, np.ones(x_coords.shape)))"
   ]
  },
  {
   "cell_type": "code",
   "execution_count": 34,
   "id": "84d28de8-8430-4df9-a32d-82a3d3ec787d",
   "metadata": {},
   "outputs": [
    {
     "data": {
      "text/plain": [
       "(3, 190)"
      ]
     },
     "execution_count": 34,
     "metadata": {},
     "output_type": "execute_result"
    }
   ],
   "source": [
    "A.shape"
   ]
  },
  {
   "cell_type": "code",
   "execution_count": 35,
   "id": "e865f73d-49ea-4efc-82b2-076aea66b880",
   "metadata": {},
   "outputs": [],
   "source": [
    "w_rep = np.tile(weights, [3, 1])"
   ]
  },
  {
   "cell_type": "code",
   "execution_count": null,
   "id": "4f20cc45-568d-4960-b1a7-6b2450b7e9f7",
   "metadata": {},
   "outputs": [],
   "source": []
  },
  {
   "cell_type": "code",
   "execution_count": 36,
   "id": "c0d1a0f0-47f2-4405-a31a-023a2686f350",
   "metadata": {},
   "outputs": [],
   "source": [
    "wA = (w_rep * A).T\n",
    "wB = weights * y_coords"
   ]
  },
  {
   "cell_type": "code",
   "execution_count": 37,
   "id": "6a3df681-3179-44e1-8158-f471a0ece3f5",
   "metadata": {},
   "outputs": [
    {
     "data": {
      "text/plain": [
       "((190, 3), (190,))"
      ]
     },
     "execution_count": 37,
     "metadata": {},
     "output_type": "execute_result"
    }
   ],
   "source": [
    "wA.shape, wB.shape"
   ]
  },
  {
   "cell_type": "code",
   "execution_count": 38,
   "id": "d3e0a055-0bc7-4c08-bfbf-3c6b8e38622f",
   "metadata": {},
   "outputs": [],
   "source": [
    "from numpy.linalg import lstsq"
   ]
  },
  {
   "cell_type": "code",
   "execution_count": 39,
   "id": "8285512a-9283-47be-ab11-8d8e09e5a1a4",
   "metadata": {},
   "outputs": [],
   "source": [
    "fit_coeff,_, _, _ = lstsq(wA, wB, rcond=-1)"
   ]
  },
  {
   "cell_type": "code",
   "execution_count": 40,
   "id": "bf4a9cb2-8d9e-4ab3-aae3-0921c7e7c01c",
   "metadata": {},
   "outputs": [
    {
     "data": {
      "text/plain": [
       "array([ 0.01549774,  1.60419873, -3.85620333])"
      ]
     },
     "execution_count": 40,
     "metadata": {},
     "output_type": "execute_result"
    }
   ],
   "source": [
    "fit_coeff"
   ]
  },
  {
   "cell_type": "code",
   "execution_count": 41,
   "id": "eddf7950-b3af-43dc-a6ea-06c99b5c9dd8",
   "metadata": {},
   "outputs": [],
   "source": [
    "plt.figure()\n",
    "plt.imshow(final_labelled_image)\n",
    "x = np.linspace(0.5, final_labelled_image.shape[1]-0.5, num=100)\n",
    "y = fit_coeff[0] * x**2 + fit_coeff[1] * x + fit_coeff[2]\n",
    "plt.plot(x, y, 'r-')\n",
    "plt.show()"
   ]
  },
  {
   "cell_type": "markdown",
   "id": "2fdac9f1-38f3-4d66-85a3-b31fb4372ba6",
   "metadata": {},
   "source": [
    "#### Compute backbone pixels"
   ]
  },
  {
   "cell_type": "code",
   "execution_count": 42,
   "id": "c9395763-fbfa-48e9-af6a-56e446e73a13",
   "metadata": {},
   "outputs": [
    {
     "data": {
      "text/plain": [
       "(31, 20)"
      ]
     },
     "execution_count": 42,
     "metadata": {},
     "output_type": "execute_result"
    }
   ],
   "source": [
    "img.shape"
   ]
  },
  {
   "cell_type": "code",
   "execution_count": 43,
   "id": "b75426f6-d1e8-47e9-a7b1-8fae34f277f8",
   "metadata": {},
   "outputs": [],
   "source": [
    "img_size = img.shape"
   ]
  },
  {
   "cell_type": "code",
   "execution_count": 44,
   "id": "6745b432-cbf7-4ab7-b218-0f5cea415c75",
   "metadata": {},
   "outputs": [],
   "source": [
    "x_data = np.arange(-0.5, img_size[1]+0.5)\n",
    "y_data = fit_coeff[0] * x_data**2 + fit_coeff[1] * x_data + fit_coeff[2]"
   ]
  },
  {
   "cell_type": "code",
   "execution_count": 45,
   "id": "021f842b-bac9-4042-8393-b8dc6da772f2",
   "metadata": {},
   "outputs": [],
   "source": [
    "plt.figure()\n",
    "plt.imshow(img)\n",
    "plt.plot(x_data, y_data, 'r--')\n",
    "plt.show()"
   ]
  },
  {
   "cell_type": "markdown",
   "id": "b2226f3b-08bf-4d31-afe6-f771a4dd1900",
   "metadata": {},
   "source": [
    "##### There are cases. one for a straight line and the other for a quadratic curve"
   ]
  },
  {
   "cell_type": "code",
   "execution_count": null,
   "id": "55500a46-4415-449e-a07e-532ad6c50aa7",
   "metadata": {},
   "outputs": [],
   "source": []
  },
  {
   "cell_type": "code",
   "execution_count": 48,
   "id": "b47b9c21-7250-4c43-b97f-181aeede2a23",
   "metadata": {},
   "outputs": [],
   "source": [
    "if abs(fit_coeff[0]) < 1e-4 and round(y_data[0]) == round(y_data[-1]):\n",
    "    fit_coord = np.vstack((np.arange(0, img_size[1]), round(y_data[0]) * np.ones((img_size[1],)))).T\n",
    "else:\n",
    "    y_data_round = np.round(y_data)\n",
    "    stat_pt = -fit_coeff[1] / (2 * fit_coeff[0]) #  ax^2 + bx + c = 0 --> -b/2a is the point where derivative==0\n",
    "    if stat_pt > -0.5 and stat_pt < img_size[1] - 1:\n",
    "        round_stat_pt_val = round(fit_coeff[0] * (stat_pt**2) + fit_coeff[1] * stat_pt + fit_coeff[2])\n",
    "        round_stat_pt = round(stat_pt)\n",
    "        upp_bound = np.zeros((img_size[1]),) # upper bound defined for each pixel on the x-axis\n",
    "        low_bound = np.zeros((img_size[1]),) # lower bound defined for each pixel on the x-axis\n",
    "    \n",
    "        if fit_coeff[0] > 0:\n",
    "            upp_bound[0:round_stat_pt] = y_data_round[0:round_stat_pt]\n",
    "            upp_bound[round_stat_pt] = max(y_data_round[round_stat_pt:round_stat_pt+2])\n",
    "            upp_bound[round_stat_pt+1:] = y_data_round[round_stat_pt+1:]\n",
    "    \n",
    "            low_bound[0:round_stat_pt] = y_data_round[1:round_stat_pt+1]\n",
    "            round_down_point = np.argwhere(y_data_round[1:] - y_data[1:] == 0.5)\n",
    "            low_bound[round_down_point] = lowBound[round_down_point]-1 \n",
    "            low_bound[round_stat_pt] = round_stat_pt_val \n",
    "            low_bound[round_stat_pt+1:] =  y_data_round[round_stat_pt+1:]\n",
    "                                           \n",
    "        else:\n",
    "            upp_bound[0:round_stat_pt] = y_data_round[1:round_stat_pt+1]\n",
    "            upp_bound[round_stat_pt] = round_stat_pt_val\n",
    "            upp_bound[round_stat_pt+1:] = y_data_round[round_stat_pt:-1];\n",
    "            low_bound[0:round_stat_pt] =  y_data_round[0:round_stat_pt]\n",
    "            low_bound[round_stat_pt] = max(y_data_round[round_stat_pt:round_stat_pt+2])\n",
    "            low_bound[round_stat_pt+1:] = y_data_round[round_stat_pt+1:]\n",
    "    else:\n",
    "        if (fit_coeff[0] > 0 and stat_pt > img_size[1]-1) or (fit_coeff[0] < 0 and stat_pt < -0.5):\n",
    "            upp_bound = y_data_round[:-1]\n",
    "            low_bound = y_data_round[1:]\n",
    "            round_down_point = np.argwhere(low_bound - y_data[1:] == 0.5)\n",
    "            low_bound[round_down_point] = low_bound[round_down_point]-1;\n",
    "        else:\n",
    "            upp_bound = y_data_round[1:]\n",
    "            low_bound = y_data_round[:-1]\n",
    "        \n",
    "    \n",
    "    # clip the upper bound and lower bounds\n",
    "    # and populate the pixels\n",
    "    low_bound = np.maximum(low_bound, 0).astype('int')\n",
    "    upp_bound = np.minimum(upp_bound, img_size[0]-1).astype('int')\n",
    "    n_pixels_per_col = upp_bound - low_bound + 1\n",
    "    n_pixels_per_col[n_pixels_per_col < 1] = 0\n",
    "    fit_coord = np.zeros((int(np.sum(n_pixels_per_col)), 2))\n",
    "    idx = 0;\n",
    "    for i in range(len(n_pixels_per_col)):\n",
    "        fit_coord[idx:idx+n_pixels_per_col[i], 0] = i;\n",
    "        fit_coord[idx:idx+n_pixels_per_col[i], 1] = np.arange(low_bound[i], upp_bound[i]+1)\n",
    "        idx += n_pixels_per_col[i]\n",
    "    \n",
    "    fit_coord = fit_coord.astype('int')"
   ]
  },
  {
   "cell_type": "markdown",
   "id": "dc217b54-1dce-40d3-8884-190caccb9c42",
   "metadata": {},
   "source": [
    "### Poles"
   ]
  },
  {
   "cell_type": "code",
   "execution_count": 49,
   "id": "6f000367-8414-4de0-89ac-92cec44a7fa6",
   "metadata": {},
   "outputs": [],
   "source": [
    "fit_im = np.zeros(img_size, dtype='bool')\n",
    "fit_im[fit_coord[:, 1], fit_coord[:, 0]] = True\n",
    "backbone_im = img * fit_im\n",
    "\n",
    "y_backbone, x_backbone = np.nonzero(backbone_im)"
   ]
  },
  {
   "cell_type": "code",
   "execution_count": 50,
   "id": "eb7ea15b-c9a2-45b7-b73e-f5bb452f0dde",
   "metadata": {},
   "outputs": [],
   "source": [
    "poles = np.zeros((2, 2))"
   ]
  },
  {
   "cell_type": "code",
   "execution_count": 51,
   "id": "0e47f793-4258-49a7-91f0-2386ff0b4814",
   "metadata": {},
   "outputs": [],
   "source": [
    "poles[:, 0] = [x_backbone[0] - 0.5, x_backbone[-1] + 0.5]\n",
    "poles[:, 1] = fit_coeff[0] * poles[:, 0]**2 + fit_coeff[1] * poles[:, 0] + fit_coeff[2]"
   ]
  },
  {
   "cell_type": "code",
   "execution_count": 52,
   "id": "4d2f1524-ead7-410b-b7bb-a92d5fa33765",
   "metadata": {},
   "outputs": [
    {
     "data": {
      "text/plain": [
       "array([[ 1.5       , -1.41503532],\n",
       "       [17.5       , 28.96345827]])"
      ]
     },
     "execution_count": 52,
     "metadata": {},
     "output_type": "execute_result"
    }
   ],
   "source": [
    "poles"
   ]
  },
  {
   "cell_type": "code",
   "execution_count": 54,
   "id": "bd7bdf3e-632a-4082-8e6d-252212dd85a4",
   "metadata": {},
   "outputs": [],
   "source": [
    "plt.figure()\n",
    "plt.imshow(img)\n",
    "plt.plot(poles[:, 0], poles[:, 1], '*')\n",
    "plt.show()"
   ]
  },
  {
   "cell_type": "markdown",
   "id": "6e559eb1-d339-475c-8d67-39accf269438",
   "metadata": {},
   "source": [
    "### Arc length"
   ]
  },
  {
   "cell_type": "code",
   "execution_count": 55,
   "id": "03aaa978-2cbc-4dd5-9011-493995a7996e",
   "metadata": {},
   "outputs": [],
   "source": [
    "x_0, x_end = x_backbone[0] - 0.5, x_backbone[-1] + 0.5\n",
    "\n",
    "if abs(fit_coeff[0]) > 1e-10:\n",
    "    transf_points = (fit_coeff[0] / abs(fit_coeff[0])) * np.array([2*fit_coeff[0]*x_0 + fit_coeff[1] , 2*fit_coeff[0]*x_end + fit_coeff[1]])\n",
    "    sqrt_exp = np.sqrt(1 + transf_points**2)\n",
    "    arc_length = np.diff(transf_points * sqrt_exp + np.log(transf_points + sqrt_exp)) / (4 * abs(fit_coeff[0]))\n",
    "else:\n",
    "    \n",
    "    fit_points = [fit_coeff[1] * x_0 + fit_coeff[2], fit_coeff[1] * x_end + fit_coeff[2]]\n",
    "    arc_length = math.sqrt((x_0 - x_end) ** 2 + (fit_points[0] - fit_points[1]) ** 2)\n",
    "    "
   ]
  },
  {
   "cell_type": "code",
   "execution_count": 56,
   "id": "706ec0a1-372d-4b9a-bf77-14b9ea355874",
   "metadata": {},
   "outputs": [
    {
     "name": "stdout",
     "output_type": "stream",
     "text": [
      "[34.35111691]\n"
     ]
    }
   ],
   "source": [
    "print(arc_length)"
   ]
  },
  {
   "cell_type": "markdown",
   "id": "9e304205-83a4-4ca0-9bf3-96ee86e4da22",
   "metadata": {},
   "source": [
    "\n",
    "### Just do a dilation and see if a dot lands on the cell and assign the dot coordinates. Just that simple.\n",
    "#### Be careful and loop over all the dots as each cell can have more than one dot."
   ]
  },
  {
   "cell_type": "code",
   "execution_count": null,
   "id": "843a2b44-d742-435c-a343-1af733dc6b01",
   "metadata": {},
   "outputs": [],
   "source": []
  },
  {
   "cell_type": "code",
   "execution_count": null,
   "id": "7ecc4a3f-b23d-4190-99c0-2419103ca81c",
   "metadata": {},
   "outputs": [],
   "source": []
  },
  {
   "cell_type": "markdown",
   "id": "a2adfe39-7273-408d-81ac-f62260beb6cc",
   "metadata": {},
   "source": [
    "### Compute internal coordinates"
   ]
  },
  {
   "cell_type": "code",
   "execution_count": 57,
   "id": "dbdaf74e-ec90-4c83-930a-e391e5d6581d",
   "metadata": {},
   "outputs": [
    {
     "data": {
      "text/plain": [
       "array([[ 1.5       , -1.41503532],\n",
       "       [17.5       , 28.96345827]])"
      ]
     },
     "execution_count": 57,
     "metadata": {},
     "output_type": "execute_result"
    }
   ],
   "source": [
    "poles"
   ]
  },
  {
   "cell_type": "code",
   "execution_count": 58,
   "id": "6e2eb434-1db8-41ed-aea1-9f4ca48cd374",
   "metadata": {},
   "outputs": [],
   "source": [
    "dot_coordinate = np.array([[8.0, 15.0]])"
   ]
  },
  {
   "cell_type": "code",
   "execution_count": 60,
   "id": "1fcfac7d-a349-4fe9-990d-871d31b86810",
   "metadata": {},
   "outputs": [],
   "source": [
    "plt.figure()\n",
    "plt.imshow(img)\n",
    "plt.plot(x_data, y_data, 'r--')\n",
    "plt.plot(poles[:, 0], poles[:, 1], '*')\n",
    "plt.plot(dot_coordinate[:, 0], dot_coordinate[:, 1], 'go')\n",
    "plt.show()"
   ]
  },
  {
   "cell_type": "markdown",
   "id": "7b4551df-917e-4469-a247-84f4f2f4147b",
   "metadata": {},
   "source": [
    "#### Project normal and solve a cubic equation"
   ]
  },
  {
   "cell_type": "code",
   "execution_count": 68,
   "id": "f294bb57-d42a-4f0d-a793-50638144c7b3",
   "metadata": {},
   "outputs": [],
   "source": [
    "dot_no = 0\n",
    "p0, p1, p2 = fit_coeff\n",
    "x0, y0 = dot_coordinate[dot_no]\n",
    "projected_point = np.zeros(dot_coordinate[dot_no].shape)\n",
    "if abs(p0) > 1e-10:\n",
    "    x_star = np.roots([2*p0**2, 3*p0*p1, 2*p0*(p2-y0) + (p1**2+1), p1*(p2-y0)-x0]) # 3rd degree polynomial\n",
    "    x_star[abs(np.imag(x_star)) < 1e-10] = np.real(x_star[abs(np.imag(x_star)) < 1e-10])\n",
    "    #print(x_star)\n",
    "    x_star = np.real(x_star[np.isreal(x_star)])\n",
    "    x_mid = -p1/(2*p0)\n",
    "    if x0 > x_mid:\n",
    "        projected_point[0] = np.max(x_star)\n",
    "    else:\n",
    "        projected_point[0] = min(x_star)\n",
    "else:\n",
    "    projected_point[0] = x0 - ((p1 * (p2 - p1)) / ((p1**2 + 1)))\n",
    "\n",
    "projected_point[1] = p0 * projected_point[0] ** 2 + p1 * projected_point[0] + p2\n",
    "# you should return projected point and distance to projected point.\n",
    "\n",
    "distance_to_proj = math.sqrt((projected_point[0] - x0)**2 + (projected_point[1] - y0)**2)"
   ]
  },
  {
   "cell_type": "code",
   "execution_count": 70,
   "id": "07c9b86e-141e-42aa-9aa2-a198fdf67dce",
   "metadata": {},
   "outputs": [],
   "source": [
    "plt.figure()\n",
    "plt.imshow(img)\n",
    "plt.plot(x_data, y_data, 'r--')\n",
    "plt.plot(poles[:, 0], poles[:, 1], '*')\n",
    "plt.plot(dot_coordinate[:, 0], dot_coordinate[:, 1], 'go')\n",
    "plt.plot(projected_point[0], projected_point[1], 'k*')\n",
    "plt.plot([dot_coordinate[0, 0], projected_point[0]], [dot_coordinate[0, 1], projected_point[1]], 'b--')\n",
    "plt.show()"
   ]
  },
  {
   "cell_type": "code",
   "execution_count": 71,
   "id": "0e127edb-6695-4da7-83df-d389d0455c21",
   "metadata": {},
   "outputs": [
    {
     "data": {
      "text/plain": [
       "2.3581039112649806"
      ]
     },
     "execution_count": 71,
     "metadata": {},
     "output_type": "execute_result"
    }
   ],
   "source": [
    "distance_to_proj"
   ]
  },
  {
   "cell_type": "code",
   "execution_count": null,
   "id": "5a43ea4d-37a3-436f-9ce9-bcabe4660413",
   "metadata": {},
   "outputs": [],
   "source": []
  },
  {
   "cell_type": "code",
   "execution_count": null,
   "id": "81c4e5d9-9f9f-4c99-94c2-60acf919218e",
   "metadata": {},
   "outputs": [],
   "source": []
  },
  {
   "cell_type": "code",
   "execution_count": null,
   "id": "238eda32-e825-4ab6-a038-269de66374ee",
   "metadata": {},
   "outputs": [],
   "source": []
  },
  {
   "cell_type": "code",
   "execution_count": null,
   "id": "8e083a86-57d9-4012-88f1-0e259fac719d",
   "metadata": {},
   "outputs": [],
   "source": []
  },
  {
   "cell_type": "code",
   "execution_count": null,
   "id": "2cc021d4-ca06-46a1-849d-f296bbaaeda0",
   "metadata": {},
   "outputs": [],
   "source": []
  },
  {
   "cell_type": "code",
   "execution_count": null,
   "id": "2883d9a7-20e2-45f8-8ae8-466d1cc0b164",
   "metadata": {},
   "outputs": [],
   "source": [
    "def compute_backbone_poles():\n",
    "    \"\"\"\n",
    "    For each cell in the image, when you call regionprops, you also want to \n",
    "    calculate the backbones and poles of each cell in the image.\n",
    "    This function is meant to be in the extra_properties arguement in \n",
    "    skimage.measure.regionprops fuction.\n",
    "\n",
    "    This function will add extra properties to each region in the \n",
    "    regionprops list.\n",
    "\n",
    "    The extra properties are \n",
    "        1. fit_coeff: [a, b, c] \n",
    "        2. poles: \n",
    "        3. arc_length: \n",
    "        4. backbone_coordinates:\n",
    "\n",
    "    Backbone is fit using a quadratic equation.\n",
    "\n",
    "    \n",
    "    Args:\n",
    "\n",
    "    Returns:\n",
    "    \n",
    "    \"\"\"\n",
    "    pass\n",
    "def compute_arc_length():\n",
    "    \"\"\"\n",
    "    Computes the arc length\n",
    "    \"\"\"\n",
    "    pass"
   ]
  },
  {
   "cell_type": "markdown",
   "id": "54f5a10c-2abb-4484-a7c8-1e538d649b3c",
   "metadata": {},
   "source": [
    "#### __Computing internal coordinate of the dot__"
   ]
  },
  {
   "cell_type": "code",
   "execution_count": null,
   "id": "391f183d-2d7d-48ff-8d0a-1a0e1ae97ed7",
   "metadata": {},
   "outputs": [],
   "source": [
    "def get_projected_point():\n",
    "    \"\"\"\n",
    "    \n",
    "    \"\"\"\n",
    "    pass"
   ]
  },
  {
   "cell_type": "code",
   "execution_count": 16,
   "id": "c590ed0c-f1c1-4e71-a821-acd6bf2e3c37",
   "metadata": {},
   "outputs": [],
   "source": [
    "def compute_internal_coordinate():\n",
    "    \"\"\"\n",
    "    \"\"\"\n",
    "    pass"
   ]
  },
  {
   "cell_type": "code",
   "execution_count": null,
   "id": "3a303dc2-0327-48bc-b588-1e91646d1cc8",
   "metadata": {},
   "outputs": [],
   "source": []
  },
  {
   "cell_type": "code",
   "execution_count": null,
   "id": "75670905-1c66-4afd-bb50-8b95552892e2",
   "metadata": {},
   "outputs": [],
   "source": []
  }
 ],
 "metadata": {
  "kernelspec": {
   "display_name": "Python 3 (ipykernel)",
   "language": "python",
   "name": "python3"
  },
  "language_info": {
   "codemirror_mode": {
    "name": "ipython",
    "version": 3
   },
   "file_extension": ".py",
   "mimetype": "text/x-python",
   "name": "python",
   "nbconvert_exporter": "python",
   "pygments_lexer": "ipython3",
   "version": "3.11.0rc1"
  }
 },
 "nbformat": 4,
 "nbformat_minor": 5
}
