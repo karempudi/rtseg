{
 "cells": [
  {
   "cell_type": "code",
   "execution_count": 1,
   "id": "e5fff8c8-1c78-48aa-8f98-b5da6c1ac7b9",
   "metadata": {},
   "outputs": [],
   "source": [
    "%reload_ext autoreload\n",
    "%autoreload 2"
   ]
  },
  {
   "cell_type": "code",
   "execution_count": 2,
   "id": "edcc4490-f7e2-4776-90a5-8532b8a87b51",
   "metadata": {},
   "outputs": [],
   "source": [
    "import numpy as np\n",
    "import matplotlib.pyplot as plt\n",
    "from skimage.io import imread\n",
    "import pathlib\n",
    "from skimage.measure import regionprops, label\n",
    "from pathlib import Path\n",
    "import torch\n",
    "import cv2\n",
    "import edt\n",
    "import math\n",
    "import matplotlib as mpl\n",
    "from math import floor\n",
    "%matplotlib qt"
   ]
  },
  {
   "cell_type": "code",
   "execution_count": 3,
   "id": "2dd87b89-a8d1-4f19-b6a6-e2521af591ab",
   "metadata": {},
   "outputs": [],
   "source": [
    "filepath = Path('/home/pk/Documents/rtseg/data/backbone/000_img_masks.tif')"
   ]
  },
  {
   "cell_type": "code",
   "execution_count": 4,
   "id": "83d713cc-856e-47b8-89d5-23a8df595437",
   "metadata": {},
   "outputs": [],
   "source": [
    "image = imread(filepath)"
   ]
  },
  {
   "cell_type": "code",
   "execution_count": 5,
   "id": "97732907-2ba9-4bba-a27a-904bc3b3eed0",
   "metadata": {},
   "outputs": [],
   "source": [
    "plt.figure()\n",
    "plt.imshow(image)\n",
    "plt.show()"
   ]
  },
  {
   "cell_type": "markdown",
   "id": "19fe72af-bc7b-4a04-ac4b-383eaf3ea459",
   "metadata": {},
   "source": [
    "#### __Compute the backbone of each region on the image__"
   ]
  },
  {
   "cell_type": "markdown",
   "id": "031395b6-6ab7-4bdf-98a8-9adaa70c9fe0",
   "metadata": {},
   "source": [
    "#### Fixed parameters"
   ]
  },
  {
   "cell_type": "code",
   "execution_count": 6,
   "id": "c8cd27c4-f5b1-414f-9ce4-e136eee74338",
   "metadata": {},
   "outputs": [],
   "source": [
    "props = regionprops(label(image))"
   ]
  },
  {
   "cell_type": "code",
   "execution_count": 7,
   "id": "59f4ee66-58b8-4f74-acf2-e501263d7bbe",
   "metadata": {},
   "outputs": [
    {
     "data": {
      "text/plain": [
       "((10, 16, 41, 36), 1)"
      ]
     },
     "execution_count": 7,
     "metadata": {},
     "output_type": "execute_result"
    }
   ],
   "source": [
    "props[0].bbox, props[0].label"
   ]
  },
  {
   "cell_type": "code",
   "execution_count": 8,
   "id": "bc7337dc-a129-4426-b208-bc3204a115ac",
   "metadata": {},
   "outputs": [],
   "source": [
    "plt.figure()\n",
    "plt.imshow(props[0].image)\n",
    "plt.show()"
   ]
  },
  {
   "cell_type": "code",
   "execution_count": 9,
   "id": "8e0750d2-c337-47ed-af80-9fb93d52814f",
   "metadata": {},
   "outputs": [],
   "source": [
    "dilation_threshold = 5\n",
    "dilation_radius = floor(dilation_threshold/2)"
   ]
  },
  {
   "cell_type": "code",
   "execution_count": 10,
   "id": "103d2f12-2fe5-45f1-9c5e-64090cd63e43",
   "metadata": {},
   "outputs": [
    {
     "data": {
      "text/plain": [
       "2"
      ]
     },
     "execution_count": 10,
     "metadata": {},
     "output_type": "execute_result"
    }
   ],
   "source": [
    "dilation_radius"
   ]
  },
  {
   "cell_type": "code",
   "execution_count": 11,
   "id": "94a06b3c-9ae5-41b2-b5f3-6cee5369940d",
   "metadata": {},
   "outputs": [],
   "source": [
    "img = props[0].image"
   ]
  },
  {
   "cell_type": "code",
   "execution_count": 12,
   "id": "42f27fa1-e69e-44ed-944b-3a4a00e02e8b",
   "metadata": {},
   "outputs": [
    {
     "data": {
      "text/plain": [
       "dtype('bool')"
      ]
     },
     "execution_count": 12,
     "metadata": {},
     "output_type": "execute_result"
    }
   ],
   "source": [
    "img.dtype"
   ]
  },
  {
   "cell_type": "code",
   "execution_count": 13,
   "id": "1f0f65fb-acb7-4cf2-b9d0-b506a9bd591d",
   "metadata": {},
   "outputs": [],
   "source": [
    "padded_img = np.pad(img, (dilation_radius+1, dilation_radius+1)).astype('uint8')"
   ]
  },
  {
   "cell_type": "code",
   "execution_count": 14,
   "id": "9c9fad0f-f8f2-4176-bf5c-cada383e454e",
   "metadata": {},
   "outputs": [
    {
     "data": {
      "text/plain": [
       "((31, 20), (37, 26))"
      ]
     },
     "execution_count": 14,
     "metadata": {},
     "output_type": "execute_result"
    }
   ],
   "source": [
    "img.shape, padded_img.shape"
   ]
  },
  {
   "cell_type": "code",
   "execution_count": null,
   "id": "ab4a804b-29ed-4ecf-ac04-473f632b14b4",
   "metadata": {},
   "outputs": [],
   "source": []
  },
  {
   "cell_type": "code",
   "execution_count": 15,
   "id": "ddec14c5-b8ae-4f86-bad5-9ad167dba483",
   "metadata": {},
   "outputs": [],
   "source": [
    "se = cv2.getStructuringElement(cv2.MORPH_ELLIPSE, (dilation_threshold, dilation_threshold))"
   ]
  },
  {
   "cell_type": "code",
   "execution_count": 16,
   "id": "b4d47785-01a6-4a97-956e-164cba43be7d",
   "metadata": {},
   "outputs": [
    {
     "data": {
      "text/plain": [
       "array([[0, 0, 1, 0, 0],\n",
       "       [1, 1, 1, 1, 1],\n",
       "       [1, 1, 1, 1, 1],\n",
       "       [1, 1, 1, 1, 1],\n",
       "       [0, 0, 1, 0, 0]], dtype=uint8)"
      ]
     },
     "execution_count": 16,
     "metadata": {},
     "output_type": "execute_result"
    }
   ],
   "source": [
    "se"
   ]
  },
  {
   "cell_type": "code",
   "execution_count": 17,
   "id": "5ed359b7-f8c7-4692-b214-22c516191bfb",
   "metadata": {},
   "outputs": [],
   "source": [
    "dilated_img = cv2.dilate(padded_img, se)"
   ]
  },
  {
   "cell_type": "code",
   "execution_count": 18,
   "id": "f582a493-28ca-4ce7-9d4e-b70c3b6b250d",
   "metadata": {},
   "outputs": [
    {
     "data": {
      "text/plain": [
       "(37, 26)"
      ]
     },
     "execution_count": 18,
     "metadata": {},
     "output_type": "execute_result"
    }
   ],
   "source": [
    "dilated_img.shape"
   ]
  },
  {
   "cell_type": "code",
   "execution_count": 19,
   "id": "b1ec979d-15ab-45ba-a8f8-e2c5f4c5ff0d",
   "metadata": {},
   "outputs": [],
   "source": [
    "xor = np.logical_xor(padded_img, dilated_img)"
   ]
  },
  {
   "cell_type": "code",
   "execution_count": 20,
   "id": "a4958aed-5c0a-4051-94bd-92748573a86a",
   "metadata": {},
   "outputs": [
    {
     "data": {
      "text/plain": [
       "<matplotlib.image.AxesImage at 0x7d54b217a0d0>"
      ]
     },
     "execution_count": 20,
     "metadata": {},
     "output_type": "execute_result"
    }
   ],
   "source": [
    "plt.imshow(xor)"
   ]
  },
  {
   "cell_type": "code",
   "execution_count": 21,
   "id": "f92248b9-be4f-45ec-8710-e561369e256a",
   "metadata": {},
   "outputs": [
    {
     "data": {
      "text/plain": [
       "<matplotlib.image.AxesImage at 0x7d54b2151750>"
      ]
     },
     "execution_count": 21,
     "metadata": {},
     "output_type": "execute_result"
    }
   ],
   "source": [
    "plt.imshow(dilated_img)"
   ]
  },
  {
   "cell_type": "code",
   "execution_count": 22,
   "id": "cf0e734d-5180-44a4-8844-1fd30d4e5fd8",
   "metadata": {},
   "outputs": [],
   "source": [
    "region_edt = edt.edt(dilated_img)"
   ]
  },
  {
   "cell_type": "code",
   "execution_count": 23,
   "id": "e5d3b510-639b-49c3-979f-8bb412e9b2be",
   "metadata": {},
   "outputs": [
    {
     "data": {
      "text/plain": [
       "<matplotlib.image.AxesImage at 0x7d54b0577090>"
      ]
     },
     "execution_count": 23,
     "metadata": {},
     "output_type": "execute_result"
    }
   ],
   "source": [
    "plt.imshow(region_edt)"
   ]
  },
  {
   "cell_type": "code",
   "execution_count": 24,
   "id": "5da31ab7-0693-4a48-bea0-533799ba212a",
   "metadata": {},
   "outputs": [],
   "source": [
    "blob_boundary = (region_edt == 1)"
   ]
  },
  {
   "cell_type": "code",
   "execution_count": 25,
   "id": "81b97a43-47aa-482a-8a99-8cc40a4056f7",
   "metadata": {},
   "outputs": [
    {
     "data": {
      "text/plain": [
       "(37, 26)"
      ]
     },
     "execution_count": 25,
     "metadata": {},
     "output_type": "execute_result"
    }
   ],
   "source": [
    "blob_boundary.shape"
   ]
  },
  {
   "cell_type": "code",
   "execution_count": 26,
   "id": "8480fca6-a4d1-435e-8c64-1f7c1bb521f7",
   "metadata": {},
   "outputs": [],
   "source": [
    "blob_boundary = blob_boundary[dilation_radius+1: -dilation_radius-1, dilation_radius+1: -dilation_radius-1]"
   ]
  },
  {
   "cell_type": "code",
   "execution_count": 27,
   "id": "2c825ff5-313a-4ea8-826b-59eb0e91c1eb",
   "metadata": {},
   "outputs": [],
   "source": [
    "y, x = np.nonzero(blob_boundary)"
   ]
  },
  {
   "cell_type": "code",
   "execution_count": 28,
   "id": "0453ad12-ab29-4bb4-8265-374422649c10",
   "metadata": {},
   "outputs": [
    {
     "data": {
      "text/plain": [
       "(array([ 0,  0,  1,  2,  3,  4,  5,  6,  7,  8,  8,  9,  9, 10, 10, 11, 11,\n",
       "        12, 12, 13, 13, 14, 14, 15, 15, 16, 16, 17, 17, 18, 18, 19, 20, 21,\n",
       "        22, 23, 24, 25, 26, 27, 28, 29, 30, 30]),\n",
       " array([10, 11, 12, 12, 13, 14, 14, 14, 15,  0, 15,  1, 16,  1, 16,  2, 17,\n",
       "         2, 17,  3, 17,  3, 18,  4, 18,  4, 19,  4, 19,  5, 19,  5,  5,  6,\n",
       "         6,  6,  7,  7,  7,  8,  8,  9, 10, 19]))"
      ]
     },
     "execution_count": 28,
     "metadata": {},
     "output_type": "execute_result"
    }
   ],
   "source": [
    "y, x"
   ]
  },
  {
   "cell_type": "code",
   "execution_count": 29,
   "id": "164187ba-434c-47a0-a5e6-c1c53d41eb0a",
   "metadata": {},
   "outputs": [],
   "source": [
    "label_dist = region_edt * (region_edt >= dilation_threshold)"
   ]
  },
  {
   "cell_type": "code",
   "execution_count": null,
   "id": "aaf72f7e-0594-45b1-b961-e4f3b501143f",
   "metadata": {},
   "outputs": [],
   "source": []
  },
  {
   "cell_type": "code",
   "execution_count": 30,
   "id": "ad436bc9-75f6-4811-85e0-5d82fbc758ea",
   "metadata": {},
   "outputs": [],
   "source": [
    "final_labelled_image = label_dist[dilation_radius+1: -dilation_radius-1, dilation_radius+1: -dilation_radius-1]"
   ]
  },
  {
   "cell_type": "code",
   "execution_count": 31,
   "id": "fb64b183-52b4-4fda-a304-1ef8f24eace5",
   "metadata": {},
   "outputs": [
    {
     "data": {
      "text/plain": [
       "(31, 20)"
      ]
     },
     "execution_count": 31,
     "metadata": {},
     "output_type": "execute_result"
    }
   ],
   "source": [
    "final_labelled_image.shape"
   ]
  },
  {
   "cell_type": "code",
   "execution_count": 32,
   "id": "64d1e3fa-71d9-4c22-bcbc-826bcaefb60f",
   "metadata": {},
   "outputs": [],
   "source": [
    "fig, ax = plt.subplots(nrows=1, ncols=2)\n",
    "ax[0].imshow(props[0].image)\n",
    "ax[1].imshow(final_labelled_image)\n",
    "plt.show()"
   ]
  },
  {
   "cell_type": "code",
   "execution_count": 33,
   "id": "6fe8d615-a25e-49fc-a95f-f6e83f69cfd5",
   "metadata": {},
   "outputs": [],
   "source": [
    "y_coords, x_coords = np.nonzero(final_labelled_image)"
   ]
  },
  {
   "cell_type": "code",
   "execution_count": 34,
   "id": "28e003d4-0f5a-4104-bd38-f02c70c49759",
   "metadata": {},
   "outputs": [],
   "source": [
    "pixel_values = final_labelled_image[y_coords, x_coords]"
   ]
  },
  {
   "cell_type": "code",
   "execution_count": 35,
   "id": "85201bad-1172-48ca-9dc1-ca078caeb281",
   "metadata": {},
   "outputs": [
    {
     "data": {
      "text/plain": [
       "((152,), (152,), (152,))"
      ]
     },
     "execution_count": 35,
     "metadata": {},
     "output_type": "execute_result"
    }
   ],
   "source": [
    "y_coords.shape, x_coords.shape, pixel_values.shape"
   ]
  },
  {
   "cell_type": "markdown",
   "id": "43b3e92c-7c38-4bd7-8756-817e26a7742b",
   "metadata": {},
   "source": [
    "#### I am changing this cubing to a parameter, as I notice some of them are not great"
   ]
  },
  {
   "cell_type": "code",
   "execution_count": 36,
   "id": "bd15bf0b-a459-4c92-aae1-19969a3ba248",
   "metadata": {},
   "outputs": [],
   "source": [
    "weights = np.sqrt(pixel_values ** 3)"
   ]
  },
  {
   "cell_type": "code",
   "execution_count": 37,
   "id": "3fb6e45b-a4bf-4c4a-b620-c7a3299d8cf5",
   "metadata": {},
   "outputs": [
    {
     "data": {
      "text/plain": [
       "(152,)"
      ]
     },
     "execution_count": 37,
     "metadata": {},
     "output_type": "execute_result"
    }
   ],
   "source": [
    "weights.shape"
   ]
  },
  {
   "cell_type": "code",
   "execution_count": null,
   "id": "1f87c434-3a32-413b-a3b6-018716bc7548",
   "metadata": {},
   "outputs": [],
   "source": []
  },
  {
   "cell_type": "code",
   "execution_count": 38,
   "id": "621389c3-804f-49ea-b446-a0caa95c9ffa",
   "metadata": {},
   "outputs": [],
   "source": [
    "A = np.vstack((x_coords**2, x_coords, np.ones(x_coords.shape)))"
   ]
  },
  {
   "cell_type": "code",
   "execution_count": 39,
   "id": "84d28de8-8430-4df9-a32d-82a3d3ec787d",
   "metadata": {},
   "outputs": [
    {
     "data": {
      "text/plain": [
       "(3, 152)"
      ]
     },
     "execution_count": 39,
     "metadata": {},
     "output_type": "execute_result"
    }
   ],
   "source": [
    "A.shape"
   ]
  },
  {
   "cell_type": "code",
   "execution_count": 40,
   "id": "e865f73d-49ea-4efc-82b2-076aea66b880",
   "metadata": {},
   "outputs": [],
   "source": [
    "w_rep = np.tile(weights, [3, 1])"
   ]
  },
  {
   "cell_type": "code",
   "execution_count": null,
   "id": "4f20cc45-568d-4960-b1a7-6b2450b7e9f7",
   "metadata": {},
   "outputs": [],
   "source": []
  },
  {
   "cell_type": "code",
   "execution_count": 41,
   "id": "c0d1a0f0-47f2-4405-a31a-023a2686f350",
   "metadata": {},
   "outputs": [],
   "source": [
    "wA = (w_rep * A).T\n",
    "wB = weights * y_coords"
   ]
  },
  {
   "cell_type": "code",
   "execution_count": 42,
   "id": "6a3df681-3179-44e1-8158-f471a0ece3f5",
   "metadata": {},
   "outputs": [
    {
     "data": {
      "text/plain": [
       "((152, 3), (152,))"
      ]
     },
     "execution_count": 42,
     "metadata": {},
     "output_type": "execute_result"
    }
   ],
   "source": [
    "wA.shape, wB.shape"
   ]
  },
  {
   "cell_type": "code",
   "execution_count": 43,
   "id": "d3e0a055-0bc7-4c08-bfbf-3c6b8e38622f",
   "metadata": {},
   "outputs": [],
   "source": [
    "from numpy.linalg import lstsq"
   ]
  },
  {
   "cell_type": "code",
   "execution_count": 44,
   "id": "8285512a-9283-47be-ab11-8d8e09e5a1a4",
   "metadata": {},
   "outputs": [],
   "source": [
    "fit_coeff,_, _, _ = lstsq(wA, wB, rcond=-1)"
   ]
  },
  {
   "cell_type": "code",
   "execution_count": 45,
   "id": "bf4a9cb2-8d9e-4ab3-aae3-0921c7e7c01c",
   "metadata": {},
   "outputs": [
    {
     "data": {
      "text/plain": [
       "array([ 0.02613278,  1.41718813, -3.12621596])"
      ]
     },
     "execution_count": 45,
     "metadata": {},
     "output_type": "execute_result"
    }
   ],
   "source": [
    "fit_coeff"
   ]
  },
  {
   "cell_type": "code",
   "execution_count": 46,
   "id": "eddf7950-b3af-43dc-a6ea-06c99b5c9dd8",
   "metadata": {},
   "outputs": [],
   "source": [
    "plt.figure()\n",
    "plt.imshow(final_labelled_image)\n",
    "x = np.linspace(0.5, final_labelled_image.shape[1]-0.5, num=100)\n",
    "y = fit_coeff[0] * x**2 + fit_coeff[1] * x + fit_coeff[2]\n",
    "plt.plot(x, y, 'r-')\n",
    "plt.show()"
   ]
  },
  {
   "cell_type": "markdown",
   "id": "2fdac9f1-38f3-4d66-85a3-b31fb4372ba6",
   "metadata": {},
   "source": [
    "#### Compute backbone pixels"
   ]
  },
  {
   "cell_type": "code",
   "execution_count": 47,
   "id": "c9395763-fbfa-48e9-af6a-56e446e73a13",
   "metadata": {},
   "outputs": [
    {
     "data": {
      "text/plain": [
       "(31, 20)"
      ]
     },
     "execution_count": 47,
     "metadata": {},
     "output_type": "execute_result"
    }
   ],
   "source": [
    "img.shape"
   ]
  },
  {
   "cell_type": "code",
   "execution_count": 48,
   "id": "b75426f6-d1e8-47e9-a7b1-8fae34f277f8",
   "metadata": {},
   "outputs": [],
   "source": [
    "img_size = img.shape"
   ]
  },
  {
   "cell_type": "code",
   "execution_count": 49,
   "id": "6745b432-cbf7-4ab7-b218-0f5cea415c75",
   "metadata": {},
   "outputs": [],
   "source": [
    "x_data = np.arange(-0.5, img_size[1]+0.5)\n",
    "y_data = fit_coeff[0] * x_data**2 + fit_coeff[1] * x_data + fit_coeff[2]"
   ]
  },
  {
   "cell_type": "code",
   "execution_count": 50,
   "id": "021f842b-bac9-4042-8393-b8dc6da772f2",
   "metadata": {},
   "outputs": [],
   "source": [
    "plt.figure()\n",
    "plt.imshow(img)\n",
    "plt.plot(x_data, y_data, 'r--')\n",
    "plt.show()"
   ]
  },
  {
   "cell_type": "markdown",
   "id": "b2226f3b-08bf-4d31-afe6-f771a4dd1900",
   "metadata": {},
   "source": [
    "##### There are cases. one for a straight line and the other for a quadratic curve"
   ]
  },
  {
   "cell_type": "code",
   "execution_count": null,
   "id": "55500a46-4415-449e-a07e-532ad6c50aa7",
   "metadata": {},
   "outputs": [],
   "source": []
  },
  {
   "cell_type": "code",
   "execution_count": 51,
   "id": "b47b9c21-7250-4c43-b97f-181aeede2a23",
   "metadata": {},
   "outputs": [],
   "source": [
    "if abs(fit_coeff[0]) < 1e-4 and round(y_data[0]) == round(y_data[-1]):\n",
    "    fit_coord = np.vstack((np.arange(0, img_size[1]), round(y_data[0]) * np.ones((img_size[1],)))).T\n",
    "else:\n",
    "    y_data_round = np.round(y_data)\n",
    "    stat_pt = -fit_coeff[1] / (2 * fit_coeff[0]) #  ax^2 + bx + c = 0 --> -b/2a is the point where derivative==0\n",
    "    if stat_pt > -0.5 and stat_pt < img_size[1] - 1:\n",
    "        round_stat_pt_val = round(fit_coeff[0] * (stat_pt**2) + fit_coeff[1] * stat_pt + fit_coeff[2])\n",
    "        round_stat_pt = round(stat_pt)\n",
    "        upp_bound = np.zeros((img_size[1]),) # upper bound defined for each pixel on the x-axis\n",
    "        low_bound = np.zeros((img_size[1]),) # lower bound defined for each pixel on the x-axis\n",
    "    \n",
    "        if fit_coeff[0] > 0:\n",
    "            upp_bound[0:round_stat_pt] = y_data_round[0:round_stat_pt]\n",
    "            upp_bound[round_stat_pt] = max(y_data_round[round_stat_pt:round_stat_pt+2])\n",
    "            upp_bound[round_stat_pt+1:] = y_data_round[round_stat_pt+1:]\n",
    "    \n",
    "            low_bound[0:round_stat_pt] = y_data_round[1:round_stat_pt+1]\n",
    "            round_down_point = np.argwhere(y_data_round[1:] - y_data[1:] == 0.5)\n",
    "            low_bound[round_down_point] = lowBound[round_down_point]-1 \n",
    "            low_bound[round_stat_pt] = round_stat_pt_val \n",
    "            low_bound[round_stat_pt+1:] =  y_data_round[round_stat_pt+1:]\n",
    "                                           \n",
    "        else:\n",
    "            upp_bound[0:round_stat_pt] = y_data_round[1:round_stat_pt+1]\n",
    "            upp_bound[round_stat_pt] = round_stat_pt_val\n",
    "            upp_bound[round_stat_pt+1:] = y_data_round[round_stat_pt:-1];\n",
    "            low_bound[0:round_stat_pt] =  y_data_round[0:round_stat_pt]\n",
    "            low_bound[round_stat_pt] = max(y_data_round[round_stat_pt:round_stat_pt+2])\n",
    "            low_bound[round_stat_pt+1:] = y_data_round[round_stat_pt+1:]\n",
    "    else:\n",
    "        if (fit_coeff[0] > 0 and stat_pt > img_size[1]-1) or (fit_coeff[0] < 0 and stat_pt < -0.5):\n",
    "            upp_bound = y_data_round[:-1]\n",
    "            low_bound = y_data_round[1:]\n",
    "            round_down_point = np.argwhere(low_bound - y_data[1:] == 0.5)\n",
    "            low_bound[round_down_point] = low_bound[round_down_point]-1;\n",
    "        else:\n",
    "            upp_bound = y_data_round[1:]\n",
    "            low_bound = y_data_round[:-1]\n",
    "        \n",
    "    \n",
    "    # clip the upper bound and lower bounds\n",
    "    # and populate the pixels\n",
    "    low_bound = np.maximum(low_bound, 0).astype('int')\n",
    "    upp_bound = np.minimum(upp_bound, img_size[0]-1).astype('int')\n",
    "    n_pixels_per_col = upp_bound - low_bound + 1\n",
    "    n_pixels_per_col[n_pixels_per_col < 1] = 0\n",
    "    fit_coord = np.zeros((int(np.sum(n_pixels_per_col)), 2))\n",
    "    idx = 0;\n",
    "    for i in range(len(n_pixels_per_col)):\n",
    "        fit_coord[idx:idx+n_pixels_per_col[i], 0] = i;\n",
    "        fit_coord[idx:idx+n_pixels_per_col[i], 1] = np.arange(low_bound[i], upp_bound[i]+1)\n",
    "        idx += n_pixels_per_col[i]\n",
    "    \n",
    "    fit_coord = fit_coord.astype('int')"
   ]
  },
  {
   "cell_type": "markdown",
   "id": "dc217b54-1dce-40d3-8884-190caccb9c42",
   "metadata": {},
   "source": [
    "### Poles"
   ]
  },
  {
   "cell_type": "code",
   "execution_count": 52,
   "id": "6f000367-8414-4de0-89ac-92cec44a7fa6",
   "metadata": {},
   "outputs": [],
   "source": [
    "fit_im = np.zeros(img_size, dtype='bool')\n",
    "fit_im[fit_coord[:, 1], fit_coord[:, 0]] = True\n",
    "backbone_im = img * fit_im\n",
    "\n",
    "y_backbone, x_backbone = np.nonzero(backbone_im)"
   ]
  },
  {
   "cell_type": "code",
   "execution_count": 53,
   "id": "eb7ea15b-c9a2-45b7-b73e-f5bb452f0dde",
   "metadata": {},
   "outputs": [],
   "source": [
    "poles = np.zeros((2, 2))"
   ]
  },
  {
   "cell_type": "code",
   "execution_count": 54,
   "id": "0e47f793-4258-49a7-91f0-2386ff0b4814",
   "metadata": {},
   "outputs": [],
   "source": [
    "poles[:, 0] = [x_backbone[0] - 0.5, x_backbone[-1] + 0.5]\n",
    "poles[:, 1] = fit_coeff[0] * poles[:, 0]**2 + fit_coeff[1] * poles[:, 0] + fit_coeff[2]"
   ]
  },
  {
   "cell_type": "code",
   "execution_count": 55,
   "id": "4d2f1524-ead7-410b-b7bb-a92d5fa33765",
   "metadata": {},
   "outputs": [
    {
     "data": {
      "text/plain": [
       "array([[ 1.5       , -0.94163503],\n",
       "       [17.5       , 29.67773931]])"
      ]
     },
     "execution_count": 55,
     "metadata": {},
     "output_type": "execute_result"
    }
   ],
   "source": [
    "poles"
   ]
  },
  {
   "cell_type": "code",
   "execution_count": 56,
   "id": "bd7bdf3e-632a-4082-8e6d-252212dd85a4",
   "metadata": {},
   "outputs": [],
   "source": [
    "plt.figure()\n",
    "plt.imshow(img)\n",
    "plt.plot(poles[:, 0], poles[:, 1], '*')\n",
    "plt.show()"
   ]
  },
  {
   "cell_type": "markdown",
   "id": "6e559eb1-d339-475c-8d67-39accf269438",
   "metadata": {},
   "source": [
    "### Arc length"
   ]
  },
  {
   "cell_type": "code",
   "execution_count": 57,
   "id": "03aaa978-2cbc-4dd5-9011-493995a7996e",
   "metadata": {},
   "outputs": [],
   "source": [
    "x_0, x_end = x_backbone[0] - 0.5, x_backbone[-1] + 0.5\n",
    "\n",
    "if abs(fit_coeff[0]) > 1e-10:\n",
    "    transf_points = (fit_coeff[0] / abs(fit_coeff[0])) * np.array([2*fit_coeff[0]*x_0 + fit_coeff[1] , 2*fit_coeff[0]*x_end + fit_coeff[1]])\n",
    "    sqrt_exp = np.sqrt(1 + transf_points**2)\n",
    "    arc_length = np.diff(transf_points * sqrt_exp + np.log(transf_points + sqrt_exp)) / (4 * abs(fit_coeff[0]))\n",
    "else:\n",
    "    \n",
    "    fit_points = [fit_coeff[1] * x_0 + fit_coeff[2], fit_coeff[1] * x_end + fit_coeff[2]]\n",
    "    arc_length = math.sqrt((x_0 - x_end) ** 2 + (fit_points[0] - fit_points[1]) ** 2)\n",
    "    "
   ]
  },
  {
   "cell_type": "code",
   "execution_count": 63,
   "id": "706ec0a1-372d-4b9a-bf77-14b9ea355874",
   "metadata": {},
   "outputs": [
    {
     "name": "stdout",
     "output_type": "stream",
     "text": [
      "[34.59481994]\n"
     ]
    }
   ],
   "source": [
    "print(arc_length)"
   ]
  },
  {
   "cell_type": "markdown",
   "id": "9e304205-83a4-4ca0-9bf3-96ee86e4da22",
   "metadata": {},
   "source": [
    "\n",
    "### Just do a dilation and see if a dot lands on the cell and assign the dot coordinates. Just that simple.\n",
    "#### Be careful and loop over all the dots as each cell can have more than one dot."
   ]
  },
  {
   "cell_type": "code",
   "execution_count": null,
   "id": "843a2b44-d742-435c-a343-1af733dc6b01",
   "metadata": {},
   "outputs": [],
   "source": []
  },
  {
   "cell_type": "code",
   "execution_count": null,
   "id": "7ecc4a3f-b23d-4190-99c0-2419103ca81c",
   "metadata": {},
   "outputs": [],
   "source": []
  },
  {
   "cell_type": "markdown",
   "id": "a2adfe39-7273-408d-81ac-f62260beb6cc",
   "metadata": {},
   "source": [
    "### Compute internal coordinates"
   ]
  },
  {
   "cell_type": "code",
   "execution_count": 64,
   "id": "dbdaf74e-ec90-4c83-930a-e391e5d6581d",
   "metadata": {},
   "outputs": [
    {
     "data": {
      "text/plain": [
       "array([[ 1.5       , -0.94163503],\n",
       "       [17.5       , 29.67773931]])"
      ]
     },
     "execution_count": 64,
     "metadata": {},
     "output_type": "execute_result"
    }
   ],
   "source": [
    "poles"
   ]
  },
  {
   "cell_type": "code",
   "execution_count": 65,
   "id": "6e2eb434-1db8-41ed-aea1-9f4ca48cd374",
   "metadata": {},
   "outputs": [],
   "source": [
    "dot_coordinate = np.array([[8.0, 15.0]])"
   ]
  },
  {
   "cell_type": "code",
   "execution_count": 66,
   "id": "1fcfac7d-a349-4fe9-990d-871d31b86810",
   "metadata": {},
   "outputs": [],
   "source": [
    "plt.figure()\n",
    "plt.imshow(img)\n",
    "plt.plot(x_data, y_data, 'r--')\n",
    "plt.plot(poles[:, 0], poles[:, 1], '*')\n",
    "plt.plot(dot_coordinate[:, 0], dot_coordinate[:, 1], 'go')\n",
    "plt.show()"
   ]
  },
  {
   "cell_type": "code",
   "execution_count": 71,
   "id": "c78161c2-5ef9-4716-a411-2ad70b8dd76b",
   "metadata": {},
   "outputs": [
    {
     "data": {
      "text/plain": [
       "array([[ 8., 15.]])"
      ]
     },
     "execution_count": 71,
     "metadata": {},
     "output_type": "execute_result"
    }
   ],
   "source": [
    "dot_coordinate"
   ]
  },
  {
   "cell_type": "code",
   "execution_count": 72,
   "id": "de44600a-5d5d-4664-9dda-7ad6d9515b03",
   "metadata": {},
   "outputs": [
    {
     "data": {
      "text/plain": [
       "(1, 2)"
      ]
     },
     "execution_count": 72,
     "metadata": {},
     "output_type": "execute_result"
    }
   ],
   "source": [
    "dot_coordinate.shape"
   ]
  },
  {
   "cell_type": "code",
   "execution_count": 73,
   "id": "95bc01b2-b4e3-4a51-a911-6a8e5925a07b",
   "metadata": {},
   "outputs": [],
   "source": [
    "proj = np.zeros_like(dot_coordinate)"
   ]
  },
  {
   "cell_type": "code",
   "execution_count": 74,
   "id": "e28ad055-53ff-4d8c-bc41-67ae8b4c97db",
   "metadata": {},
   "outputs": [
    {
     "data": {
      "text/plain": [
       "array([[0., 0.]])"
      ]
     },
     "execution_count": 74,
     "metadata": {},
     "output_type": "execute_result"
    }
   ],
   "source": [
    "proj"
   ]
  },
  {
   "cell_type": "code",
   "execution_count": null,
   "id": "939a86ae-3e81-4d34-ada9-c4bf51e2f7f0",
   "metadata": {},
   "outputs": [],
   "source": []
  },
  {
   "cell_type": "markdown",
   "id": "7b4551df-917e-4469-a247-84f4f2f4147b",
   "metadata": {},
   "source": [
    "#### Project normal and solve a cubic equation"
   ]
  },
  {
   "cell_type": "code",
   "execution_count": null,
   "id": "738f6da2-8d4b-4e04-92cf-d374c34fc144",
   "metadata": {},
   "outputs": [],
   "source": []
  },
  {
   "cell_type": "code",
   "execution_count": 68,
   "id": "f294bb57-d42a-4f0d-a793-50638144c7b3",
   "metadata": {},
   "outputs": [],
   "source": [
    "dot_no = 0\n",
    "p0, p1, p2 = fit_coeff\n",
    "x0, y0 = dot_coordinate[dot_no]\n",
    "projected_point = np.zeros(dot_coordinate[dot_no].shape)\n",
    "if abs(p0) > 1e-10:\n",
    "    x_star = np.roots([2*p0**2, 3*p0*p1, 2*p0*(p2-y0) + (p1**2+1), p1*(p2-y0)-x0]) # 3rd degree polynomial\n",
    "    x_star[abs(np.imag(x_star)) < 1e-10] = np.real(x_star[abs(np.imag(x_star)) < 1e-10])\n",
    "    #print(x_star)\n",
    "    x_star = np.real(x_star[np.isreal(x_star)])\n",
    "    x_mid = -p1/(2*p0)\n",
    "    if x0 > x_mid:\n",
    "        projected_point[0] = np.max(x_star)\n",
    "    else:\n",
    "        projected_point[0] = min(x_star)\n",
    "else:\n",
    "    projected_point[0] = x0 - ((p1 * (p2 - p1)) / ((p1**2 + 1)))\n",
    "\n",
    "projected_point[1] = p0 * projected_point[0] ** 2 + p1 * projected_point[0] + p2\n",
    "# you should return projected point and distance to projected point.\n",
    "\n",
    "distance_to_proj = math.sqrt((projected_point[0] - x0)**2 + (projected_point[1] - y0)**2)"
   ]
  },
  {
   "cell_type": "code",
   "execution_count": 69,
   "id": "07c9b86e-141e-42aa-9aa2-a198fdf67dce",
   "metadata": {},
   "outputs": [],
   "source": [
    "plt.figure()\n",
    "plt.imshow(img)\n",
    "plt.plot(x_data, y_data, 'r--')\n",
    "plt.plot(poles[:, 0], poles[:, 1], '*')\n",
    "plt.plot(dot_coordinate[:, 0], dot_coordinate[:, 1], 'go')\n",
    "plt.plot(projected_point[0], projected_point[1], 'k*')\n",
    "plt.plot([dot_coordinate[0, 0], projected_point[0]], [dot_coordinate[0, 1], projected_point[1]], 'b--')\n",
    "plt.show()"
   ]
  },
  {
   "cell_type": "code",
   "execution_count": 70,
   "id": "0e127edb-6695-4da7-83df-d389d0455c21",
   "metadata": {},
   "outputs": [
    {
     "data": {
      "text/plain": [
       "2.391979433342466"
      ]
     },
     "execution_count": 70,
     "metadata": {},
     "output_type": "execute_result"
    }
   ],
   "source": [
    "distance_to_proj"
   ]
  },
  {
   "cell_type": "code",
   "execution_count": null,
   "id": "9cb9fd4b-be51-485a-87b1-1a6d0cd2f062",
   "metadata": {},
   "outputs": [],
   "source": []
  },
  {
   "cell_type": "markdown",
   "id": "9c1d4f8f-b880-4896-b63d-5fe9a40926d7",
   "metadata": {},
   "source": [
    "### Assigning internal coordinates"
   ]
  },
  {
   "cell_type": "code",
   "execution_count": null,
   "id": "7ec5b2cc-7381-47ad-becf-a370118d1f27",
   "metadata": {},
   "outputs": [],
   "source": []
  },
  {
   "cell_type": "code",
   "execution_count": null,
   "id": "2b2ab2ad-aa43-41d7-8e0b-e8f1ceb87ef3",
   "metadata": {},
   "outputs": [],
   "source": []
  },
  {
   "cell_type": "code",
   "execution_count": null,
   "id": "0a6dc672-e5b5-452e-902b-001acd71a8d7",
   "metadata": {},
   "outputs": [],
   "source": []
  },
  {
   "cell_type": "code",
   "execution_count": null,
   "id": "2692cc6b-c5f2-4c01-a300-f58d0d5b1b8a",
   "metadata": {},
   "outputs": [],
   "source": []
  },
  {
   "cell_type": "markdown",
   "id": "19e4b411-15ad-4d35-9b7b-3c32258c9905",
   "metadata": {},
   "source": [
    "### Final assemble"
   ]
  },
  {
   "cell_type": "code",
   "execution_count": 85,
   "id": "238eda32-e825-4ab6-a038-269de66374ee",
   "metadata": {},
   "outputs": [],
   "source": [
    "from rtseg.cells.regionprops_custom import compute_fit_coeff_poles_arc_length, regionprops_custom\n",
    "from skimage.measure import regionprops, label\n",
    "from skimage.io import imread\n",
    "from pathlib import Path\n",
    "import matplotlib.pyplot as plt\n",
    "import matplotlib as mpl\n",
    "mpl.use('QtAgg')\n",
    "%matplotlib qt"
   ]
  },
  {
   "cell_type": "code",
   "execution_count": 86,
   "id": "2cc021d4-ca06-46a1-849d-f296bbaaeda0",
   "metadata": {},
   "outputs": [],
   "source": [
    "filepath = Path('/home/pk/Documents/rtseg/data/backbone/img40_20_13.tif')"
   ]
  },
  {
   "cell_type": "code",
   "execution_count": 87,
   "id": "3a303dc2-0327-48bc-b588-1e91646d1cc8",
   "metadata": {},
   "outputs": [],
   "source": [
    "image = imread(filepath)"
   ]
  },
  {
   "cell_type": "code",
   "execution_count": 88,
   "id": "7a41df73-7c25-4203-a30b-a3f73977e8b0",
   "metadata": {},
   "outputs": [],
   "source": [
    "plt.figure()\n",
    "plt.imshow(image)\n",
    "plt.show()"
   ]
  },
  {
   "cell_type": "code",
   "execution_count": 89,
   "id": "c064e4e3-b333-4f47-9246-cd33873fc4eb",
   "metadata": {},
   "outputs": [],
   "source": [
    "label_img = label(image)"
   ]
  },
  {
   "cell_type": "code",
   "execution_count": 90,
   "id": "17220c88-c7c6-410d-a288-aaa27b6f0a36",
   "metadata": {},
   "outputs": [],
   "source": [
    "props = regionprops(label_img, extra_properties=(compute_fit_coeff_poles_arc_length,))"
   ]
  },
  {
   "cell_type": "code",
   "execution_count": 93,
   "id": "41edd2ab-9ea2-40d0-9acb-cc99856f8967",
   "metadata": {},
   "outputs": [],
   "source": [
    "props_custom = regionprops_custom(label_img)"
   ]
  },
  {
   "cell_type": "code",
   "execution_count": 94,
   "id": "21e41a23-77ab-49ee-aa1b-0ab879faf7e9",
   "metadata": {},
   "outputs": [
    {
     "data": {
      "text/plain": [
       "1430"
      ]
     },
     "execution_count": 94,
     "metadata": {},
     "output_type": "execute_result"
    }
   ],
   "source": [
    "len(props_custom)"
   ]
  },
  {
   "cell_type": "code",
   "execution_count": 95,
   "id": "971d2f46-aaab-4e3b-adb7-0fd86adb3c72",
   "metadata": {},
   "outputs": [
    {
     "data": {
      "text/plain": [
       "array([24.00633763])"
      ]
     },
     "execution_count": 95,
     "metadata": {},
     "output_type": "execute_result"
    }
   ],
   "source": [
    "props_custom[123].arc_length"
   ]
  },
  {
   "cell_type": "code",
   "execution_count": 99,
   "id": "9b835aba-fd50-4f51-bb2a-a7d54e897e68",
   "metadata": {},
   "outputs": [],
   "source": [
    "cellprop = props_custom[0]"
   ]
  },
  {
   "cell_type": "code",
   "execution_count": 100,
   "id": "85a05ff5-4443-4f23-b680-106465e5965c",
   "metadata": {},
   "outputs": [
    {
     "data": {
      "text/plain": [
       "array([ 0.01181161, -0.21374283,  3.90755213])"
      ]
     },
     "execution_count": 100,
     "metadata": {},
     "output_type": "execute_result"
    }
   ],
   "source": [
    "cellprop.fit_coeff, cellprop.arc_length,"
   ]
  },
  {
   "cell_type": "code",
   "execution_count": null,
   "id": "0605c645-4d10-485c-877f-cbcc69c5827d",
   "metadata": {},
   "outputs": [],
   "source": []
  },
  {
   "cell_type": "code",
   "execution_count": null,
   "id": "e72d0c23-b6cc-4226-b8fe-aed24dc1a832",
   "metadata": {},
   "outputs": [],
   "source": []
  },
  {
   "cell_type": "code",
   "execution_count": null,
   "id": "123e63b8-3efb-4d3e-89ff-79d838a170ba",
   "metadata": {},
   "outputs": [],
   "source": []
  },
  {
   "cell_type": "code",
   "execution_count": 87,
   "id": "fe839814-6619-4158-9ba2-4b08dae1206d",
   "metadata": {},
   "outputs": [
    {
     "name": "stdout",
     "output_type": "stream",
     "text": [
      "448 µs ± 7.85 µs per loop (mean ± std. dev. of 7 runs, 1,000 loops each)\n"
     ]
    }
   ],
   "source": [
    "%%timeit \n",
    "for cellprop in props:\n",
    "    cellprop.fit_coeff, cellprop.arc_length, cellprop.poles, cellprop.boundary_pixels = cellprop.compute_fit_coeff_poles_arc_length\n",
    "    break"
   ]
  },
  {
   "cell_type": "code",
   "execution_count": 88,
   "id": "f82e8fd0-5635-40e4-8f53-f996feb3e6b7",
   "metadata": {},
   "outputs": [
    {
     "name": "stdout",
     "output_type": "stream",
     "text": [
      "1 ---> [18.136178]\n"
     ]
    },
    {
     "ename": "AttributeError",
     "evalue": "'<class 'skimage.measure._regionprops.RegionProperties'>' object has no attribute 'arc_length'",
     "output_type": "error",
     "traceback": [
      "\u001b[0;31m---------------------------------------------------------------------------\u001b[0m",
      "\u001b[0;31mAttributeError\u001b[0m                            Traceback (most recent call last)",
      "Cell \u001b[0;32mIn[88], line 2\u001b[0m\n\u001b[1;32m      1\u001b[0m \u001b[38;5;28;01mfor\u001b[39;00m cellprop \u001b[38;5;129;01min\u001b[39;00m props:\n\u001b[0;32m----> 2\u001b[0m     \u001b[38;5;28mprint\u001b[39m(cellprop\u001b[38;5;241m.\u001b[39mlabel, \u001b[38;5;124m'\u001b[39m\u001b[38;5;124m--->\u001b[39m\u001b[38;5;124m'\u001b[39m, \u001b[43mcellprop\u001b[49m\u001b[38;5;241;43m.\u001b[39;49m\u001b[43marc_length\u001b[49m)\n",
      "File \u001b[0;32m~/Documents/rtseg/.venv/lib/python3.11/site-packages/skimage/measure/_regionprops.py:410\u001b[0m, in \u001b[0;36mRegionProperties.__getattr__\u001b[0;34m(self, attr)\u001b[0m\n\u001b[1;32m    408\u001b[0m     \u001b[38;5;28;01mreturn\u001b[39;00m \u001b[38;5;28mgetattr\u001b[39m(\u001b[38;5;28mself\u001b[39m, PROPS[attr])\n\u001b[1;32m    409\u001b[0m \u001b[38;5;28;01melse\u001b[39;00m:\n\u001b[0;32m--> 410\u001b[0m     \u001b[38;5;28;01mraise\u001b[39;00m \u001b[38;5;167;01mAttributeError\u001b[39;00m(\u001b[38;5;124mf\u001b[39m\u001b[38;5;124m\"\u001b[39m\u001b[38;5;124m'\u001b[39m\u001b[38;5;132;01m{\u001b[39;00m\u001b[38;5;28mtype\u001b[39m(\u001b[38;5;28mself\u001b[39m)\u001b[38;5;132;01m}\u001b[39;00m\u001b[38;5;124m'\u001b[39m\u001b[38;5;124m object has no attribute \u001b[39m\u001b[38;5;124m'\u001b[39m\u001b[38;5;132;01m{\u001b[39;00mattr\u001b[38;5;132;01m}\u001b[39;00m\u001b[38;5;124m'\u001b[39m\u001b[38;5;124m\"\u001b[39m)\n",
      "\u001b[0;31mAttributeError\u001b[0m: '<class 'skimage.measure._regionprops.RegionProperties'>' object has no attribute 'arc_length'"
     ]
    }
   ],
   "source": [
    "for cellprop in props:\n",
    "    print(cellprop.label, '--->', cellprop.arc_length)"
   ]
  },
  {
   "cell_type": "code",
   "execution_count": null,
   "id": "a07cfa7d-4eea-424c-a9fc-d7c853cf7c49",
   "metadata": {},
   "outputs": [],
   "source": []
  },
  {
   "cell_type": "code",
   "execution_count": null,
   "id": "01869128-18d7-4256-a45c-e15e46b81b1f",
   "metadata": {},
   "outputs": [],
   "source": []
  },
  {
   "cell_type": "code",
   "execution_count": null,
   "id": "250012fa-303a-4780-bd76-94da7b607c15",
   "metadata": {},
   "outputs": [],
   "source": []
  },
  {
   "cell_type": "code",
   "execution_count": null,
   "id": "4b4bcf4f-eea8-4946-b2f7-3bf19171a63a",
   "metadata": {},
   "outputs": [],
   "source": []
  },
  {
   "cell_type": "code",
   "execution_count": null,
   "id": "9f1cf7b5-61d5-4c56-8adc-a11e5d889045",
   "metadata": {},
   "outputs": [],
   "source": []
  },
  {
   "cell_type": "code",
   "execution_count": 225,
   "id": "df482b94-2b13-48fb-897a-e9bcc7c5559b",
   "metadata": {},
   "outputs": [
    {
     "name": "stdout",
     "output_type": "stream",
     "text": [
      "448 ---> [34.35111691]\n",
      "462 ---> [40.06215628]\n",
      "489 ---> [30.25122497]\n",
      "503 ---> [31.16483879]\n",
      "510 ---> [32.74700458]\n",
      "513 ---> [31.60069338]\n",
      "528 ---> [33.3132707]\n",
      "548 ---> [26.446337]\n",
      "554 ---> [33.03286623]\n",
      "557 ---> [30.45956885]\n",
      "570 ---> [17.89333099]\n",
      "579 ---> [12.40110883]\n",
      "590 ---> [32.33814598]\n",
      "603 ---> [25.11792718]\n",
      "619 ---> [27.88268215]\n",
      "631 ---> [36.59609807]\n"
     ]
    }
   ],
   "source": [
    "for i in range(len(props)):\n",
    "    fit_coeff, arc_length, poles, backbone_coordinates = compute_fit_coeff_poles_arc_length(props[i].image, distance_threshold=3, plot=True)\n",
    "    #print(f\"{props[i].label} ---> {arc_length}\")\n",
    "#print(f\"Fit_coeff: {fit_coeff}\")\n",
    "#print(f\"Arc length: {arc_length}\")\n",
    "#print(f\"Poles: {poles}\")\n",
    "#print(f\"Backbone coordinates: {backbone_coordinates}\")\n",
    "#print(props[i].label)\n"
   ]
  },
  {
   "cell_type": "code",
   "execution_count": 220,
   "id": "b6a179d0-17f1-4916-931c-4133a81c3c48",
   "metadata": {},
   "outputs": [
    {
     "name": "stdout",
     "output_type": "stream",
     "text": [
      "579\n"
     ]
    }
   ],
   "source": [
    "print(props[i].label)"
   ]
  },
  {
   "cell_type": "code",
   "execution_count": null,
   "id": "31512048-b61d-4cbf-9896-8195a46fa1d2",
   "metadata": {},
   "outputs": [],
   "source": []
  },
  {
   "cell_type": "code",
   "execution_count": null,
   "id": "000e8dc5-73ac-43a0-a071-67aa0dbd4717",
   "metadata": {},
   "outputs": [],
   "source": []
  }
 ],
 "metadata": {
  "kernelspec": {
   "display_name": "Python 3 (ipykernel)",
   "language": "python",
   "name": "python3"
  },
  "language_info": {
   "codemirror_mode": {
    "name": "ipython",
    "version": 3
   },
   "file_extension": ".py",
   "mimetype": "text/x-python",
   "name": "python",
   "nbconvert_exporter": "python",
   "pygments_lexer": "ipython3",
   "version": "3.11.0rc1"
  }
 },
 "nbformat": 4,
 "nbformat_minor": 5
}
