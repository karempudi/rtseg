{
 "cells": [
  {
   "cell_type": "code",
   "execution_count": 1,
   "id": "edcc4490-f7e2-4776-90a5-8532b8a87b51",
   "metadata": {},
   "outputs": [],
   "source": [
    "import numpy as np\n",
    "import matplotlib.pyplot as plt\n",
    "from skimage.io import imread\n",
    "import pathlib\n",
    "from skimage.measure import regionprops, label\n",
    "from pathlib import Path\n",
    "import torch\n",
    "import cv2\n",
    "import edt\n",
    "import matplotlib as mpl\n",
    "from math import floor\n",
    "mpl.use('QtAgg')\n",
    "%matplotlib qt5"
   ]
  },
  {
   "cell_type": "code",
   "execution_count": 2,
   "id": "2dd87b89-a8d1-4f19-b6a6-e2521af591ab",
   "metadata": {},
   "outputs": [],
   "source": [
    "filepath = Path('/home/pk/Documents/rtseg/data/backbone/000_img_masks.tif')"
   ]
  },
  {
   "cell_type": "code",
   "execution_count": 3,
   "id": "83d713cc-856e-47b8-89d5-23a8df595437",
   "metadata": {},
   "outputs": [],
   "source": [
    "image = imread(filepath)"
   ]
  },
  {
   "cell_type": "code",
   "execution_count": 4,
   "id": "97732907-2ba9-4bba-a27a-904bc3b3eed0",
   "metadata": {},
   "outputs": [],
   "source": [
    "plt.figure()\n",
    "plt.imshow(image)\n",
    "plt.show()"
   ]
  },
  {
   "cell_type": "code",
   "execution_count": 5,
   "id": "04710e74-a1af-41ab-a3b9-207363581d62",
   "metadata": {},
   "outputs": [
    {
     "data": {
      "text/plain": [
       "array([  0, 448, 462, 489, 503, 510, 513, 528, 548, 554, 557, 570, 579,\n",
       "       590, 603, 619, 631], dtype=uint16)"
      ]
     },
     "execution_count": 5,
     "metadata": {},
     "output_type": "execute_result"
    }
   ],
   "source": [
    "np.unique(image)"
   ]
  },
  {
   "cell_type": "markdown",
   "id": "19fe72af-bc7b-4a04-ac4b-383eaf3ea459",
   "metadata": {},
   "source": [
    "#### __Compute the backbone of each region on the image__"
   ]
  },
  {
   "cell_type": "markdown",
   "id": "031395b6-6ab7-4bdf-98a8-9adaa70c9fe0",
   "metadata": {},
   "source": [
    "#### Fixed parameters"
   ]
  },
  {
   "cell_type": "code",
   "execution_count": 6,
   "id": "c8cd27c4-f5b1-414f-9ce4-e136eee74338",
   "metadata": {},
   "outputs": [],
   "source": [
    "props = regionprops(image)"
   ]
  },
  {
   "cell_type": "code",
   "execution_count": 7,
   "id": "59f4ee66-58b8-4f74-acf2-e501263d7bbe",
   "metadata": {},
   "outputs": [
    {
     "data": {
      "text/plain": [
       "((10, 16, 41, 36), 448)"
      ]
     },
     "execution_count": 7,
     "metadata": {},
     "output_type": "execute_result"
    }
   ],
   "source": [
    "props[0].bbox, props[0].label"
   ]
  },
  {
   "cell_type": "code",
   "execution_count": 8,
   "id": "bc7337dc-a129-4426-b208-bc3204a115ac",
   "metadata": {},
   "outputs": [],
   "source": [
    "plt.figure()\n",
    "plt.imshow(props[0].image)\n",
    "plt.show()"
   ]
  },
  {
   "cell_type": "code",
   "execution_count": 9,
   "id": "8e0750d2-c337-47ed-af80-9fb93d52814f",
   "metadata": {},
   "outputs": [],
   "source": [
    "dilation_threshold = 3\n",
    "dilation_radius = floor(dilation_threshold/2)"
   ]
  },
  {
   "cell_type": "code",
   "execution_count": 10,
   "id": "103d2f12-2fe5-45f1-9c5e-64090cd63e43",
   "metadata": {},
   "outputs": [
    {
     "data": {
      "text/plain": [
       "1"
      ]
     },
     "execution_count": 10,
     "metadata": {},
     "output_type": "execute_result"
    }
   ],
   "source": [
    "dilation_radius"
   ]
  },
  {
   "cell_type": "code",
   "execution_count": 11,
   "id": "94a06b3c-9ae5-41b2-b5f3-6cee5369940d",
   "metadata": {},
   "outputs": [],
   "source": [
    "img = props[0].image"
   ]
  },
  {
   "cell_type": "code",
   "execution_count": 12,
   "id": "1f0f65fb-acb7-4cf2-b9d0-b506a9bd591d",
   "metadata": {},
   "outputs": [],
   "source": [
    "padded_img = np.pad(img, (dilation_radius+1, dilation_radius+1)).astype('uint8')"
   ]
  },
  {
   "cell_type": "code",
   "execution_count": 13,
   "id": "9c9fad0f-f8f2-4176-bf5c-cada383e454e",
   "metadata": {},
   "outputs": [
    {
     "data": {
      "text/plain": [
       "((31, 20), (35, 24))"
      ]
     },
     "execution_count": 13,
     "metadata": {},
     "output_type": "execute_result"
    }
   ],
   "source": [
    "img.shape, padded_img.shape"
   ]
  },
  {
   "cell_type": "code",
   "execution_count": 14,
   "id": "ddec14c5-b8ae-4f86-bad5-9ad167dba483",
   "metadata": {},
   "outputs": [],
   "source": [
    "se = cv2.getStructuringElement(cv2.MORPH_ELLIPSE, (dilation_radius+2, dilation_radius+2))"
   ]
  },
  {
   "cell_type": "code",
   "execution_count": 15,
   "id": "b4d47785-01a6-4a97-956e-164cba43be7d",
   "metadata": {},
   "outputs": [
    {
     "data": {
      "text/plain": [
       "array([[0, 1, 0],\n",
       "       [1, 1, 1],\n",
       "       [0, 1, 0]], dtype=uint8)"
      ]
     },
     "execution_count": 15,
     "metadata": {},
     "output_type": "execute_result"
    }
   ],
   "source": [
    "se"
   ]
  },
  {
   "cell_type": "code",
   "execution_count": 16,
   "id": "5ed359b7-f8c7-4692-b214-22c516191bfb",
   "metadata": {},
   "outputs": [],
   "source": [
    "dilated_img = cv2.dilate(padded_img, se)"
   ]
  },
  {
   "cell_type": "code",
   "execution_count": 17,
   "id": "f582a493-28ca-4ce7-9d4e-b70c3b6b250d",
   "metadata": {},
   "outputs": [
    {
     "data": {
      "text/plain": [
       "(35, 24)"
      ]
     },
     "execution_count": 17,
     "metadata": {},
     "output_type": "execute_result"
    }
   ],
   "source": [
    "dilated_img.shape"
   ]
  },
  {
   "cell_type": "code",
   "execution_count": 18,
   "id": "b1ec979d-15ab-45ba-a8f8-e2c5f4c5ff0d",
   "metadata": {},
   "outputs": [],
   "source": [
    "xor = np.logical_xor(padded_img, dilated_img)"
   ]
  },
  {
   "cell_type": "code",
   "execution_count": 19,
   "id": "a4958aed-5c0a-4051-94bd-92748573a86a",
   "metadata": {},
   "outputs": [
    {
     "data": {
      "text/plain": [
       "<matplotlib.image.AxesImage at 0x74b54f005550>"
      ]
     },
     "execution_count": 19,
     "metadata": {},
     "output_type": "execute_result"
    }
   ],
   "source": [
    "plt.imshow(xor)"
   ]
  },
  {
   "cell_type": "code",
   "execution_count": 20,
   "id": "f92248b9-be4f-45ec-8710-e561369e256a",
   "metadata": {},
   "outputs": [
    {
     "data": {
      "text/plain": [
       "<matplotlib.image.AxesImage at 0x7c718b1d7850>"
      ]
     },
     "execution_count": 20,
     "metadata": {},
     "output_type": "execute_result"
    }
   ],
   "source": [
    "plt.imshow(dilated_img)"
   ]
  },
  {
   "cell_type": "code",
   "execution_count": 20,
   "id": "cf0e734d-5180-44a4-8844-1fd30d4e5fd8",
   "metadata": {},
   "outputs": [],
   "source": [
    "region_edt = edt.edt(dilated_img)"
   ]
  },
  {
   "cell_type": "code",
   "execution_count": 21,
   "id": "e5d3b510-639b-49c3-979f-8bb412e9b2be",
   "metadata": {},
   "outputs": [
    {
     "data": {
      "text/plain": [
       "<matplotlib.image.AxesImage at 0x74b54cbcf190>"
      ]
     },
     "execution_count": 21,
     "metadata": {},
     "output_type": "execute_result"
    }
   ],
   "source": [
    "plt.imshow(region_edt)"
   ]
  },
  {
   "cell_type": "code",
   "execution_count": 22,
   "id": "5da31ab7-0693-4a48-bea0-533799ba212a",
   "metadata": {},
   "outputs": [],
   "source": [
    "blob_boundary = (region_edt == 1)\n"
   ]
  },
  {
   "cell_type": "code",
   "execution_count": 128,
   "id": "164187ba-434c-47a0-a5e6-c1c53d41eb0a",
   "metadata": {},
   "outputs": [],
   "source": [
    "label_dist = region_edt * (region_edt >= dilation_threshold)"
   ]
  },
  {
   "cell_type": "code",
   "execution_count": null,
   "id": "aaf72f7e-0594-45b1-b961-e4f3b501143f",
   "metadata": {},
   "outputs": [],
   "source": []
  },
  {
   "cell_type": "code",
   "execution_count": 129,
   "id": "ad436bc9-75f6-4811-85e0-5d82fbc758ea",
   "metadata": {},
   "outputs": [],
   "source": [
    "final_labelled_image = label_dist[dilation_radius+1: -dilation_radius-1, dilation_radius+1: -dilation_radius-1]"
   ]
  },
  {
   "cell_type": "code",
   "execution_count": 130,
   "id": "fb64b183-52b4-4fda-a304-1ef8f24eace5",
   "metadata": {},
   "outputs": [
    {
     "data": {
      "text/plain": [
       "(31, 20)"
      ]
     },
     "execution_count": 130,
     "metadata": {},
     "output_type": "execute_result"
    }
   ],
   "source": [
    "final_labelled_image.shape"
   ]
  },
  {
   "cell_type": "code",
   "execution_count": 131,
   "id": "64d1e3fa-71d9-4c22-bcbc-826bcaefb60f",
   "metadata": {},
   "outputs": [],
   "source": [
    "fig, ax = plt.subplots(nrows=1, ncols=2)\n",
    "ax[0].imshow(props[0].image)\n",
    "ax[1].imshow(final_labelled_image)\n",
    "plt.show()"
   ]
  },
  {
   "cell_type": "code",
   "execution_count": 132,
   "id": "6fe8d615-a25e-49fc-a95f-f6e83f69cfd5",
   "metadata": {},
   "outputs": [],
   "source": [
    "y_coords, x_coords = np.nonzero(final_labelled_image)"
   ]
  },
  {
   "cell_type": "code",
   "execution_count": 133,
   "id": "28e003d4-0f5a-4104-bd38-f02c70c49759",
   "metadata": {},
   "outputs": [],
   "source": [
    "pixel_values = final_labelled_image[y_coords, x_coords]"
   ]
  },
  {
   "cell_type": "code",
   "execution_count": 134,
   "id": "85201bad-1172-48ca-9dc1-ca078caeb281",
   "metadata": {},
   "outputs": [
    {
     "data": {
      "text/plain": [
       "((190,), (190,), (190,))"
      ]
     },
     "execution_count": 134,
     "metadata": {},
     "output_type": "execute_result"
    }
   ],
   "source": [
    "y_coords.shape, x_coords.shape, pixel_values.shape"
   ]
  },
  {
   "cell_type": "markdown",
   "id": "43b3e92c-7c38-4bd7-8756-817e26a7742b",
   "metadata": {},
   "source": [
    "#### I am changing this cubing to a parameter, as I notice some of them are not great"
   ]
  },
  {
   "cell_type": "code",
   "execution_count": 135,
   "id": "bd15bf0b-a459-4c92-aae1-19969a3ba248",
   "metadata": {},
   "outputs": [],
   "source": [
    "weights = np.sqrt(pixel_values ** 3)"
   ]
  },
  {
   "cell_type": "code",
   "execution_count": 136,
   "id": "3fb6e45b-a4bf-4c4a-b620-c7a3299d8cf5",
   "metadata": {},
   "outputs": [
    {
     "data": {
      "text/plain": [
       "(190,)"
      ]
     },
     "execution_count": 136,
     "metadata": {},
     "output_type": "execute_result"
    }
   ],
   "source": [
    "weights.shape"
   ]
  },
  {
   "cell_type": "code",
   "execution_count": null,
   "id": "1f87c434-3a32-413b-a3b6-018716bc7548",
   "metadata": {},
   "outputs": [],
   "source": []
  },
  {
   "cell_type": "code",
   "execution_count": 137,
   "id": "621389c3-804f-49ea-b446-a0caa95c9ffa",
   "metadata": {},
   "outputs": [],
   "source": [
    "A = np.vstack((x_coords**2, x_coords, np.ones(x_coords.shape)))"
   ]
  },
  {
   "cell_type": "code",
   "execution_count": 138,
   "id": "84d28de8-8430-4df9-a32d-82a3d3ec787d",
   "metadata": {},
   "outputs": [
    {
     "data": {
      "text/plain": [
       "(3, 190)"
      ]
     },
     "execution_count": 138,
     "metadata": {},
     "output_type": "execute_result"
    }
   ],
   "source": [
    "A.shape"
   ]
  },
  {
   "cell_type": "code",
   "execution_count": 139,
   "id": "e865f73d-49ea-4efc-82b2-076aea66b880",
   "metadata": {},
   "outputs": [],
   "source": [
    "w_rep = np.tile(weights, [3, 1])"
   ]
  },
  {
   "cell_type": "code",
   "execution_count": null,
   "id": "4f20cc45-568d-4960-b1a7-6b2450b7e9f7",
   "metadata": {},
   "outputs": [],
   "source": []
  },
  {
   "cell_type": "code",
   "execution_count": 140,
   "id": "c0d1a0f0-47f2-4405-a31a-023a2686f350",
   "metadata": {},
   "outputs": [],
   "source": [
    "wA = (w_rep * A).T\n",
    "wB = weights * y_coords"
   ]
  },
  {
   "cell_type": "code",
   "execution_count": 141,
   "id": "6a3df681-3179-44e1-8158-f471a0ece3f5",
   "metadata": {},
   "outputs": [
    {
     "data": {
      "text/plain": [
       "((190, 3), (190,))"
      ]
     },
     "execution_count": 141,
     "metadata": {},
     "output_type": "execute_result"
    }
   ],
   "source": [
    "wA.shape, wB.shape"
   ]
  },
  {
   "cell_type": "code",
   "execution_count": 142,
   "id": "d3e0a055-0bc7-4c08-bfbf-3c6b8e38622f",
   "metadata": {},
   "outputs": [],
   "source": [
    "from numpy.linalg import lstsq"
   ]
  },
  {
   "cell_type": "code",
   "execution_count": 143,
   "id": "8285512a-9283-47be-ab11-8d8e09e5a1a4",
   "metadata": {},
   "outputs": [],
   "source": [
    "fit_coeff,_, _, _ = lstsq(wA, wB, rcond=-1)"
   ]
  },
  {
   "cell_type": "code",
   "execution_count": 144,
   "id": "bf4a9cb2-8d9e-4ab3-aae3-0921c7e7c01c",
   "metadata": {},
   "outputs": [
    {
     "data": {
      "text/plain": [
       "array([ 0.01549774,  1.60419873, -3.85620333])"
      ]
     },
     "execution_count": 144,
     "metadata": {},
     "output_type": "execute_result"
    }
   ],
   "source": [
    "fit_coeff"
   ]
  },
  {
   "cell_type": "code",
   "execution_count": 145,
   "id": "eddf7950-b3af-43dc-a6ea-06c99b5c9dd8",
   "metadata": {},
   "outputs": [],
   "source": [
    "plt.figure()\n",
    "plt.imshow(final_labelled_image)\n",
    "x = np.linspace(0.5, final_labelled_image.shape[1]-0.5, num=100)\n",
    "y = fit_coeff[0] * x**2 + fit_coeff[1] * x + fit_coeff[2]\n",
    "plt.plot(x, y, 'r-')\n",
    "plt.show()"
   ]
  },
  {
   "cell_type": "markdown",
   "id": "2fdac9f1-38f3-4d66-85a3-b31fb4372ba6",
   "metadata": {},
   "source": [
    "#### Compute backbone pixels"
   ]
  },
  {
   "cell_type": "code",
   "execution_count": 146,
   "id": "c9395763-fbfa-48e9-af6a-56e446e73a13",
   "metadata": {},
   "outputs": [
    {
     "data": {
      "text/plain": [
       "(31, 20)"
      ]
     },
     "execution_count": 146,
     "metadata": {},
     "output_type": "execute_result"
    }
   ],
   "source": [
    "img.shape"
   ]
  },
  {
   "cell_type": "code",
   "execution_count": 147,
   "id": "b75426f6-d1e8-47e9-a7b1-8fae34f277f8",
   "metadata": {},
   "outputs": [],
   "source": [
    "img_size = img.shape"
   ]
  },
  {
   "cell_type": "code",
   "execution_count": 148,
   "id": "6745b432-cbf7-4ab7-b218-0f5cea415c75",
   "metadata": {},
   "outputs": [],
   "source": [
    "x_data = np.arange(-0.5, img_size[1]+0.5)\n",
    "y_data = fit_coeff[0] * x_data**2 + fit_coeff[1] * x_data + fit_coeff[2]"
   ]
  },
  {
   "cell_type": "code",
   "execution_count": 149,
   "id": "021f842b-bac9-4042-8393-b8dc6da772f2",
   "metadata": {},
   "outputs": [],
   "source": [
    "plt.figure()\n",
    "plt.imshow(img)\n",
    "plt.plot(x_data, y_data, 'r--')\n",
    "plt.show()"
   ]
  },
  {
   "cell_type": "markdown",
   "id": "b2226f3b-08bf-4d31-afe6-f771a4dd1900",
   "metadata": {},
   "source": [
    "##### There are cases. one for a straight line and the other for a quadratic curve"
   ]
  },
  {
   "cell_type": "code",
   "execution_count": 153,
   "id": "d252b208-15d2-4815-b955-aea308fb49be",
   "metadata": {},
   "outputs": [
    {
     "data": {
      "text/plain": [
       "-5"
      ]
     },
     "execution_count": 153,
     "metadata": {},
     "output_type": "execute_result"
    }
   ],
   "source": [
    "round(y_data[0])"
   ]
  },
  {
   "cell_type": "code",
   "execution_count": 154,
   "id": "d4f5afe8-1f24-4f62-a8a2-88207c72d8b3",
   "metadata": {},
   "outputs": [
    {
     "data": {
      "text/plain": [
       "33.31868872517943"
      ]
     },
     "execution_count": 154,
     "metadata": {},
     "output_type": "execute_result"
    }
   ],
   "source": [
    "y_data[-1]"
   ]
  },
  {
   "cell_type": "code",
   "execution_count": null,
   "id": "55500a46-4415-449e-a07e-532ad6c50aa7",
   "metadata": {},
   "outputs": [],
   "source": []
  },
  {
   "cell_type": "code",
   "execution_count": 164,
   "id": "b47b9c21-7250-4c43-b97f-181aeede2a23",
   "metadata": {},
   "outputs": [],
   "source": [
    "if abs(fit_coeff[0]) < 1e-4 and round(y_data[0]) == round(y_data[-1]):\n",
    "    fit_coord = np.vstack((np.arange(0, img_size[1]), round(y_data[0]) * np.ones((img_size[1],)))).T\n",
    "else:\n",
    "    "
   ]
  },
  {
   "cell_type": "code",
   "execution_count": null,
   "id": "3e548c66-6ab5-4475-bee3-366a1ae179f4",
   "metadata": {},
   "outputs": [],
   "source": []
  },
  {
   "cell_type": "code",
   "execution_count": 175,
   "id": "8e385897-d5a1-452b-8129-3d7db59ab85d",
   "metadata": {},
   "outputs": [
    {
     "ename": "SyntaxError",
     "evalue": "invalid syntax (3647062420.py, line 3)",
     "output_type": "error",
     "traceback": [
      "\u001b[0;36m  Cell \u001b[0;32mIn[175], line 3\u001b[0;36m\u001b[0m\n\u001b[0;31m    if stat_pt > 0.5 && stat_pt < img_size[1] - 1:\u001b[0m\n\u001b[0m                      ^\u001b[0m\n\u001b[0;31mSyntaxError\u001b[0m\u001b[0;31m:\u001b[0m invalid syntax\n"
     ]
    }
   ],
   "source": [
    "y_data_round = np.round(y_data)\n",
    "stat_pt = -fit_coeff[1] / (2 * fit_coeff[0]) #  ax^2 + bx + c = 0 --> -b/2a is the point where derivative==0\n",
    "if stat_pt > -0.5 && stat_pt < img_size[1] - 1:\n",
    "    round_stat_pt_val = round(fit_coeff[0] * (stat_pt**2) + fit_coeff[1] * stat_pt + fit_coeff[2])\n",
    "    round_stat_pt = round(stat_pt)\n",
    "    upp_bound = np.zeros((img_size[1]),) # upper bound defined for each pixel on the x-axis\n",
    "    low_bound = np.zeros((img_size[1]),) # lower bound defined for each pixel on the x-axis\n",
    "\n",
    "    if fit_coeff[0] > 0:\n",
    "        upp_bound[0:round_stat_pt] = y_data_round[0:round_stat_pt]\n",
    "        upp_bound[round_stat_pt] = max(y_data_round[round_stat_pt:round_stat_pt+2])\n",
    "        upp_bound[round_stat_pt+1:] = y_data_round[round_stat_pt+1:];\n",
    "\n",
    "        low_bound[0:round_stat_pt] = y_data_round[1:round_stat_pt+1]\n",
    "        round_down_point = 2\n",
    "        low_bound[] = \n",
    "        low_bound[] = \n",
    "        low_bound[] = \n",
    "                                       \n",
    "    else:\n",
    "        upp_bound[] = 0\n",
    "        upp_bound[] = 0\n",
    "        upp_bound[] = 0\n",
    "        low_bound[] = 0\n",
    "        low_bound[] = 0\n",
    "        low_bound[] = 0\n",
    "else:\n",
    "    if (fit_coeff[0] > 0 and stat_pt > img_size[1]-1) or (fit_coeff[0] < 0 and stat_pt < -0.5):\n",
    "        upp_bound = \n",
    "        low_bound = \n",
    "        round_down_point\n",
    "        low_bound\n",
    "    else:\n",
    "        upp_bound = y_data_round[1:]\n",
    "        low_bound = y_data_round[:-1]\n",
    "    \n",
    "\n",
    "# clip the upper bound and lower bounds\n",
    "# and populate the pixels"
   ]
  },
  {
   "cell_type": "code",
   "execution_count": 176,
   "id": "c9324649-45be-417c-bd38-7d2ae0df221a",
   "metadata": {},
   "outputs": [],
   "source": [
    "a = np.arange(10)"
   ]
  },
  {
   "cell_type": "code",
   "execution_count": 177,
   "id": "02f9e0d9-9e88-4825-bb58-de2c1c746778",
   "metadata": {},
   "outputs": [
    {
     "data": {
      "text/plain": [
       "array([0, 1, 2, 3, 4, 5, 6, 7, 8, 9])"
      ]
     },
     "execution_count": 177,
     "metadata": {},
     "output_type": "execute_result"
    }
   ],
   "source": [
    "a"
   ]
  },
  {
   "cell_type": "code",
   "execution_count": 179,
   "id": "22e6697d-7c1b-4b17-b104-cb4c2d147f0d",
   "metadata": {},
   "outputs": [
    {
     "data": {
      "text/plain": [
       "array([0, 1, 2, 3, 4, 5, 6, 7, 8])"
      ]
     },
     "execution_count": 179,
     "metadata": {},
     "output_type": "execute_result"
    }
   ],
   "source": [
    "a[:-1]"
   ]
  },
  {
   "cell_type": "code",
   "execution_count": 172,
   "id": "25aa56eb-4797-4b01-927f-324288bd8edd",
   "metadata": {},
   "outputs": [
    {
     "data": {
      "text/plain": [
       "-51.75588214590985"
      ]
     },
     "execution_count": 172,
     "metadata": {},
     "output_type": "execute_result"
    }
   ],
   "source": [
    "stat_pt"
   ]
  },
  {
   "cell_type": "code",
   "execution_count": 174,
   "id": "07f9db92-d338-4841-80bb-5806343ea657",
   "metadata": {},
   "outputs": [
    {
     "data": {
      "text/plain": [
       "(20,)"
      ]
     },
     "execution_count": 174,
     "metadata": {},
     "output_type": "execute_result"
    }
   ],
   "source": []
  },
  {
   "cell_type": "code",
   "execution_count": null,
   "id": "fe7149bc-6bd7-4ca5-b289-6dccaa5f6250",
   "metadata": {},
   "outputs": [],
   "source": []
  },
  {
   "cell_type": "code",
   "execution_count": null,
   "id": "797c18cb-1d50-44e5-8068-032c36e678c3",
   "metadata": {},
   "outputs": [],
   "source": []
  },
  {
   "cell_type": "code",
   "execution_count": null,
   "id": "6f000367-8414-4de0-89ac-92cec44a7fa6",
   "metadata": {},
   "outputs": [],
   "source": []
  },
  {
   "cell_type": "code",
   "execution_count": null,
   "id": "ff70590a-32e3-4444-8f9c-cb90354f1a31",
   "metadata": {},
   "outputs": [],
   "source": []
  },
  {
   "cell_type": "code",
   "execution_count": null,
   "id": "e9a23922-b1dd-43e2-95e9-769cf3f95791",
   "metadata": {},
   "outputs": [],
   "source": []
  },
  {
   "cell_type": "code",
   "execution_count": null,
   "id": "2883d9a7-20e2-45f8-8ae8-466d1cc0b164",
   "metadata": {},
   "outputs": [],
   "source": [
    "def compute_backbone_poles():\n",
    "    \"\"\"\n",
    "    For each cell in the image, when you call regionprops, you also want to \n",
    "    calculate the backbones and poles of each cell in the image.\n",
    "    This function is meant to be in the extra_properties arguement in \n",
    "    skimage.measure.regionprops fuction.\n",
    "\n",
    "    This function will add extra properties to each region in the \n",
    "    regionprops list.\n",
    "\n",
    "    The extra properties are \n",
    "        1. fit_coeff: [a, b, c] \n",
    "        2. poles: \n",
    "        3. arc_length: \n",
    "        4. backbone_coordinates:\n",
    "\n",
    "    Backbone is fit using a quadratic equation.\n",
    "\n",
    "    \n",
    "    Args:\n",
    "\n",
    "    Returns:\n",
    "    \n",
    "    \"\"\"\n",
    "    pass\n",
    "def compute_arc_length():\n",
    "    \"\"\"\n",
    "    Computes the arc length\n",
    "    \"\"\"\n",
    "    pass"
   ]
  },
  {
   "cell_type": "markdown",
   "id": "54f5a10c-2abb-4484-a7c8-1e538d649b3c",
   "metadata": {},
   "source": [
    "#### __Computing internal coordinate of the dot__"
   ]
  },
  {
   "cell_type": "code",
   "execution_count": null,
   "id": "391f183d-2d7d-48ff-8d0a-1a0e1ae97ed7",
   "metadata": {},
   "outputs": [],
   "source": [
    "def get_projected_point():\n",
    "    \"\"\"\n",
    "    \n",
    "    \"\"\"\n",
    "    pass"
   ]
  },
  {
   "cell_type": "code",
   "execution_count": 16,
   "id": "c590ed0c-f1c1-4e71-a821-acd6bf2e3c37",
   "metadata": {},
   "outputs": [],
   "source": [
    "def compute_internal_coordinate():\n",
    "    \"\"\"\n",
    "    \"\"\"\n",
    "    pass"
   ]
  },
  {
   "cell_type": "code",
   "execution_count": null,
   "id": "3a303dc2-0327-48bc-b588-1e91646d1cc8",
   "metadata": {},
   "outputs": [],
   "source": []
  },
  {
   "cell_type": "code",
   "execution_count": null,
   "id": "75670905-1c66-4afd-bb50-8b95552892e2",
   "metadata": {},
   "outputs": [],
   "source": []
  }
 ],
 "metadata": {
  "kernelspec": {
   "display_name": "Python 3 (ipykernel)",
   "language": "python",
   "name": "python3"
  },
  "language_info": {
   "codemirror_mode": {
    "name": "ipython",
    "version": 3
   },
   "file_extension": ".py",
   "mimetype": "text/x-python",
   "name": "python",
   "nbconvert_exporter": "python",
   "pygments_lexer": "ipython3",
   "version": "3.11.0rc1"
  }
 },
 "nbformat": 4,
 "nbformat_minor": 5
}
