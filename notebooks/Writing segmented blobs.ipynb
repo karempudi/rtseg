{
 "cells": [
  {
   "cell_type": "code",
   "execution_count": 1,
   "id": "806e8124-609b-4e3f-a19b-46c31cd85b90",
   "metadata": {},
   "outputs": [],
   "source": [
    "%reload_ext autoreload\n",
    "%autoreload 2"
   ]
  },
  {
   "cell_type": "code",
   "execution_count": 18,
   "id": "8d76e085-3cd4-40ce-a987-5cc11e384286",
   "metadata": {},
   "outputs": [],
   "source": [
    "import numpy as np\n",
    "import matplotlib.pyplot as plt\n",
    "import zarr\n",
    "from pathlib import Path\n",
    "from numcodecs import Zlib\n",
    "%matplotlib qt5"
   ]
  },
  {
   "cell_type": "code",
   "execution_count": 3,
   "id": "1517a90d-4e18-479a-962f-6d86dab07b73",
   "metadata": {},
   "outputs": [],
   "source": [
    "cells_filename = Path(\"/mnt/sda1/REALTIME/analysis/testing/cells.zarr\")"
   ]
  },
  {
   "cell_type": "code",
   "execution_count": 4,
   "id": "1103a1eb-2b50-46d7-b269-b5dcb3b734ec",
   "metadata": {},
   "outputs": [],
   "source": [
    "height = 800\n",
    "width = 40\n",
    "n_ch = 20"
   ]
  },
  {
   "cell_type": "code",
   "execution_count": 5,
   "id": "c4cee10c-905b-4434-bc2b-6cdfb209a652",
   "metadata": {},
   "outputs": [],
   "source": [
    "compressor = Zlib(level=6)"
   ]
  },
  {
   "cell_type": "code",
   "execution_count": 6,
   "id": "a755aacf-29a8-4d5b-b4ec-d74e004a3c51",
   "metadata": {},
   "outputs": [],
   "source": [
    "cells_array = zarr.convenience.open(cells_filename, mode='a', shape=(1, height, n_ch * width),\n",
    "            chunks=(1, height, 40), order='C', \n",
    "            dtype='uint8', compressor=compressor)"
   ]
  },
  {
   "cell_type": "code",
   "execution_count": 7,
   "id": "1da2e8ab-bdbb-4b22-95ab-95e08daaed75",
   "metadata": {},
   "outputs": [
    {
     "data": {
      "text/plain": [
       "(1, 800, 800)"
      ]
     },
     "execution_count": 7,
     "metadata": {},
     "output_type": "execute_result"
    }
   ],
   "source": [
    "cells_array.shape"
   ]
  },
  {
   "cell_type": "code",
   "execution_count": 11,
   "id": "a1c0a184-fc9d-448a-ba20-8654561a48f3",
   "metadata": {},
   "outputs": [],
   "source": [
    "cells_array[0] = np.random.randint(low=1, high=128, size=(800,800))"
   ]
  },
  {
   "cell_type": "code",
   "execution_count": 13,
   "id": "79894b3b-9fa4-4ef9-b182-cffa18c8258b",
   "metadata": {},
   "outputs": [
    {
     "data": {
      "text/plain": [
       "array([[ 94,  75,  68, ...,  79, 108,  60],\n",
       "       [ 55, 100,  45, ...,   1,  43,  60],\n",
       "       [101,  63, 113, ...,  38,  57,  34],\n",
       "       ...,\n",
       "       [116,  98,  51, ...,  44, 116,  46],\n",
       "       [ 44,  98, 127, ...,  69, 114, 115],\n",
       "       [ 46,  39,  87, ...,  89,  34,  51]], dtype=uint8)"
      ]
     },
     "execution_count": 13,
     "metadata": {},
     "output_type": "execute_result"
    }
   ],
   "source": [
    "cells_array[0]"
   ]
  },
  {
   "cell_type": "code",
   "execution_count": 15,
   "id": "a0dfe251-93a7-40ff-8c7d-0101a9c00100",
   "metadata": {},
   "outputs": [
    {
     "data": {
      "text/plain": [
       "(3, 800, 800)"
      ]
     },
     "execution_count": 15,
     "metadata": {},
     "output_type": "execute_result"
    }
   ],
   "source": [
    "\n",
    "cells_array.append(np.random.randint(low=1, high=128, size=(800,800))[np.newaxis,:])"
   ]
  },
  {
   "cell_type": "code",
   "execution_count": 20,
   "id": "65bef29c-45b4-48f2-bfea-d75821b59134",
   "metadata": {},
   "outputs": [],
   "source": [
    "plt.figure()\n",
    "plt.imshow(cells_array[2])\n",
    "plt.show()"
   ]
  },
  {
   "cell_type": "code",
   "execution_count": null,
   "id": "72997833-5ee6-47e2-8ab2-fe568db5a5cb",
   "metadata": {},
   "outputs": [],
   "source": []
  }
 ],
 "metadata": {
  "kernelspec": {
   "display_name": "Python 3 (ipykernel)",
   "language": "python",
   "name": "python3"
  },
  "language_info": {
   "codemirror_mode": {
    "name": "ipython",
    "version": 3
   },
   "file_extension": ".py",
   "mimetype": "text/x-python",
   "name": "python",
   "nbconvert_exporter": "python",
   "pygments_lexer": "ipython3",
   "version": "3.11.0rc1"
  }
 },
 "nbformat": 4,
 "nbformat_minor": 5
}
