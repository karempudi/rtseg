{
 "cells": [
  {
   "cell_type": "code",
   "execution_count": 35,
   "id": "ee028ce4-0874-4827-995a-ce26fae5d28c",
   "metadata": {},
   "outputs": [],
   "source": [
    "import numpy as np\n",
    "import torch\n",
    "import matplotlib.pyplot as plt\n",
    "import pathlib\n",
    "from pathlib import Path\n",
    "from skimage.io import imread\n",
    "import torch.nn.functional as F\n",
    "import matplotlib as mpl\n",
    "mpl.use('QtAgg')\n",
    "%matplotlib qt5"
   ]
  },
  {
   "cell_type": "code",
   "execution_count": 36,
   "id": "101226ce-bb77-4e2e-8ce0-0e5a70a87806",
   "metadata": {},
   "outputs": [],
   "source": [
    "def get_dots_wavelet(image, noise_threshold, segmentation_mask,\n",
    "                    min_spot_area, max_axes_ratio):\n",
    "    \"\"\"\n",
    "    A function that outputs (x, y) coordinates of the dots in an image\n",
    "    Args:\n",
    "        image (np.ndarray): an image \n",
    "        noise_threshold:\n",
    "        segmentation_mask:\n",
    "        min_spot_area:\n",
    "        max_axes_ratio:\n",
    "        \n",
    "\n",
    "    Returns:\n",
    "        dot_coords(np.ndarray): a numpy array of shape (N x 2) where n is the number\n",
    "                    of dots in the image, and each row is (x_coordinate, y_coordinate)\n",
    "    \"\"\"\n",
    "    # detect spots\n",
    "\n",
    "    # find weighted centroid of the spots\n",
    "    \n",
    "    pass"
   ]
  },
  {
   "cell_type": "code",
   "execution_count": 37,
   "id": "323711a6-7b8f-4ee1-a0c4-0e01a4aac67b",
   "metadata": {},
   "outputs": [],
   "source": [
    "def wavelet_spot_dectect(image):\n",
    "    \"\"\"\n",
    "    \n",
    "\n",
    "    Returns:\n",
    "        binary_mask (np.ndarray or torch.Tensor): \n",
    "    \"\"\"\n",
    "    pass"
   ]
  },
  {
   "cell_type": "code",
   "execution_count": 38,
   "id": "1999636f-cd69-43f4-9ec0-e4f2329bf2e5",
   "metadata": {},
   "outputs": [],
   "source": [
    "def ATrousTransform(image, levels):\n",
    "    pass"
   ]
  },
  {
   "cell_type": "markdown",
   "id": "85dd4ea5-633a-4612-98de-77b8c6fa2333",
   "metadata": {},
   "source": [
    "#### Hard coded constants"
   ]
  },
  {
   "cell_type": "code",
   "execution_count": 39,
   "id": "4c255ce8-6b54-4609-8c8a-eb7fed8ea215",
   "metadata": {},
   "outputs": [],
   "source": [
    "waveletPlanes = 2\n",
    "levels = 3"
   ]
  },
  {
   "cell_type": "code",
   "execution_count": 40,
   "id": "e0982193-ff58-4785-b4ae-9c45a547eb0f",
   "metadata": {},
   "outputs": [],
   "source": [
    "fluor_image_path = Path('/home/pk/Documents/waveletCode/data/img_000000000.tiff')\n",
    "seg_image_path = Path('/home/pk/Documents/waveletCode/data/img_000000000_mask.tiff')"
   ]
  },
  {
   "cell_type": "code",
   "execution_count": 41,
   "id": "547dbf1b-2187-46c4-82b6-4597430a95b7",
   "metadata": {},
   "outputs": [],
   "source": [
    "fluor_img = imread(fluor_image_path).astype('float32')\n",
    "seg_image = imread(seg_image_path)"
   ]
  },
  {
   "cell_type": "code",
   "execution_count": 64,
   "id": "81501070-bc87-42d3-b2e6-523bcca6c301",
   "metadata": {},
   "outputs": [],
   "source": [
    "plt.figure()\n",
    "plt.imshow(fluor_img, cmap='gray')\n",
    "plt.show()"
   ]
  },
  {
   "cell_type": "code",
   "execution_count": 43,
   "id": "e39f11df-6285-4302-8dd4-f92443683eec",
   "metadata": {},
   "outputs": [
    {
     "data": {
      "text/plain": [
       "array([[148., 137., 119., ..., 123., 117., 125.],\n",
       "       [139., 140., 147., ..., 130., 141., 125.],\n",
       "       [123., 152., 152., ..., 151., 137., 120.],\n",
       "       ...,\n",
       "       [158., 167., 186., ..., 132., 134., 115.],\n",
       "       [160., 156., 150., ..., 130., 123., 114.],\n",
       "       [154., 144., 151., ..., 112., 132., 130.]], dtype=float32)"
      ]
     },
     "execution_count": 43,
     "metadata": {},
     "output_type": "execute_result"
    }
   ],
   "source": [
    "fluor_img"
   ]
  },
  {
   "cell_type": "code",
   "execution_count": 44,
   "id": "4c881196-4b64-4839-89f1-b9842e4873a3",
   "metadata": {},
   "outputs": [
    {
     "name": "stdout",
     "output_type": "stream",
     "text": [
      "1.32 ms ± 27.1 µs per loop (mean ± std. dev. of 7 runs, 1,000 loops each)\n"
     ]
    }
   ],
   "source": [
    "%timeit list_image = fluor_img.tobytes()"
   ]
  },
  {
   "cell_type": "code",
   "execution_count": null,
   "id": "1d495b04-43d1-497f-bec8-d80eda7f9798",
   "metadata": {},
   "outputs": [],
   "source": []
  },
  {
   "cell_type": "code",
   "execution_count": null,
   "id": "037fafc2-2a81-4236-8e99-72ff946bcb3a",
   "metadata": {},
   "outputs": [],
   "source": []
  },
  {
   "cell_type": "code",
   "execution_count": 45,
   "id": "2fb09e23-7f7c-45c4-8fe6-2dc1c1e50582",
   "metadata": {},
   "outputs": [
    {
     "data": {
      "text/plain": [
       "((1404, 3200), dtype('float32'))"
      ]
     },
     "execution_count": 45,
     "metadata": {},
     "output_type": "execute_result"
    }
   ],
   "source": [
    "fluor_img.shape, fluor_img.dtype"
   ]
  },
  {
   "cell_type": "code",
   "execution_count": 46,
   "id": "27faebcc-8b6b-4265-9a0c-2e9ead8cbb9a",
   "metadata": {},
   "outputs": [],
   "source": [
    "plt.figure()\n",
    "plt.imshow(2*np.sqrt(fluor_img+3/8))\n",
    "plt.show()"
   ]
  },
  {
   "cell_type": "code",
   "execution_count": 47,
   "id": "514d0da9-fb3a-4352-955a-3236bbd355a3",
   "metadata": {},
   "outputs": [],
   "source": [
    "fluor_img_tensor = torch.from_numpy(fluor_img)\n",
    "anscombe_trans_tensor = 2 * torch.sqrt(fluor_img_tensor + 3/8)"
   ]
  },
  {
   "cell_type": "code",
   "execution_count": 48,
   "id": "4e9fa3a2-fef6-4dfa-b2de-5757127468c3",
   "metadata": {},
   "outputs": [],
   "source": [
    "anscombe_trans_tensor = 2 * torch.sqrt(fluor_img_tensor + 3/8)"
   ]
  },
  {
   "cell_type": "code",
   "execution_count": 49,
   "id": "3022f604-e690-4bd9-b1dc-ebad35f5f0fb",
   "metadata": {},
   "outputs": [],
   "source": [
    "anscombe_trans_image = 2 * np.sqrt(fluor_img+3/8)"
   ]
  },
  {
   "cell_type": "code",
   "execution_count": 50,
   "id": "c119cb98-0bf8-416c-8350-311e2cb36022",
   "metadata": {},
   "outputs": [
    {
     "data": {
      "text/plain": [
       "device(type='cpu')"
      ]
     },
     "execution_count": 50,
     "metadata": {},
     "output_type": "execute_result"
    }
   ],
   "source": [
    "anscombe_trans_tensor.device"
   ]
  },
  {
   "cell_type": "markdown",
   "id": "4440d23f-4a09-4382-b581-03f521fccf09",
   "metadata": {},
   "source": [
    "### A trous transform"
   ]
  },
  {
   "cell_type": "code",
   "execution_count": 51,
   "id": "6b4b5c5d-ffb3-46d5-b185-70e6f21432de",
   "metadata": {},
   "outputs": [],
   "source": [
    "def atrous_transform(anscombe_image, levels: int = 3, device='cpu'):\n",
    "    \"\"\"\n",
    "    \n",
    "    Args:\n",
    "\n",
    "    Returns:\n",
    "        \n",
    "    \"\"\"\n",
    "    H, W = anscombe_image.shape\n",
    "    \n",
    "    #print(f\"Anscombe image shape: {H}x{W}\")\n",
    "    wavelet_planes = torch.zeros((levels+1, H, W), device=device)\n",
    "    base_kernel1 = (1/16) * torch.tensor([1, 4, 6, 4, 1], device=device)\n",
    "    base_kernel2 = (1/16) * torch.tensor([1, 0, 4, 0, 6, 0, 4, 0, 1], device=device)\n",
    "    base_kernel3 = (1/16) * torch.tensor([1, 0, 0, 0, 4, 0, 0, 0, 6, 0, 0, 0, 4, 0, 0, 0, 1],\n",
    "                                        device=device)\n",
    "    \n",
    "    kernel1 = (base_kernel1[:, None] * base_kernel1[None, :])[None, None, :]\n",
    "    kernel2 = (base_kernel2[:, None] * base_kernel2[None, :])[None, None, :]\n",
    "    kernel3 = (base_kernel3[:, None] * base_kernel3[None, :])[None, None, :]\n",
    "    #kernel1.to(device)\n",
    "    #kernel2.to(device)\n",
    "    #kernel3.to(device)\n",
    "\n",
    "    input_tensor = anscombe_image[None, None,:].to(device)\n",
    "    last_tensor = torch.Tensor(input_tensor)\n",
    "    \n",
    "    out_tensor1 = F.conv2d(last_tensor, kernel1, padding='same')\n",
    "    wavelet_planes[0] = (input_tensor - out_tensor1)[:, :]\n",
    "    last_tensor = out_tensor1\n",
    "    out_tensor2 = F.conv2d(last_tensor, kernel2, padding='same')\n",
    "    wavelet_planes[1] = (last_tensor - out_tensor2)[:, :]\n",
    "    last_tensor = out_tensor2\n",
    "    out_tensor3 = F.conv2d(last_tensor, kernel3, padding='same')\n",
    "    wavelet_planes[2] = (last_tensor - out_tensor3)[:, :]\n",
    "    last_tensor = out_tensor3\n",
    "    wavelet_planes[3] = last_tensor\n",
    "\n",
    "    return wavelet_planes"
   ]
  },
  {
   "cell_type": "code",
   "execution_count": 52,
   "id": "29269f32-4c1c-48a1-abe3-f3ed13a26b36",
   "metadata": {},
   "outputs": [],
   "source": [
    "w = atrous_transform(anscombe_trans_tensor, device='cpu')"
   ]
  },
  {
   "cell_type": "code",
   "execution_count": 53,
   "id": "60049e37-5135-48c2-800d-83b250228360",
   "metadata": {},
   "outputs": [
    {
     "name": "stdout",
     "output_type": "stream",
     "text": [
      "1.74 s ± 48.9 ms per loop (mean ± std. dev. of 7 runs, 1 loop each)\n"
     ]
    }
   ],
   "source": [
    "%timeit w = atrous_transform(anscombe_trans_tensor, device='cpu')"
   ]
  },
  {
   "cell_type": "code",
   "execution_count": 54,
   "id": "ecdc14cd-1c4e-4d9b-a309-f91f4620ee4b",
   "metadata": {},
   "outputs": [],
   "source": [
    "w_gpu = atrous_transform(anscombe_trans_tensor, device='cuda:0')"
   ]
  },
  {
   "cell_type": "code",
   "execution_count": 55,
   "id": "66c91cff-2b11-40f4-a70c-42542b7c773b",
   "metadata": {},
   "outputs": [
    {
     "name": "stdout",
     "output_type": "stream",
     "text": [
      "3.11 ms ± 30.2 µs per loop (mean ± std. dev. of 7 runs, 100 loops each)\n"
     ]
    }
   ],
   "source": [
    "%timeit w_gpu = atrous_transform(anscombe_trans_tensor, device='cuda:0')"
   ]
  },
  {
   "cell_type": "code",
   "execution_count": 56,
   "id": "b5f89119-3087-42d8-bb8c-8364ec395be9",
   "metadata": {},
   "outputs": [
    {
     "data": {
      "text/plain": [
       "(device(type='cpu'), device(type='cuda', index=0))"
      ]
     },
     "execution_count": 56,
     "metadata": {},
     "output_type": "execute_result"
    }
   ],
   "source": [
    "w.device, w_gpu.device"
   ]
  },
  {
   "cell_type": "code",
   "execution_count": 57,
   "id": "e1a737f5-e103-4cd7-8e1e-8aecbc9ef55b",
   "metadata": {},
   "outputs": [
    {
     "data": {
      "text/plain": [
       "tensor(1.9073e-05)"
      ]
     },
     "execution_count": 57,
     "metadata": {},
     "output_type": "execute_result"
    }
   ],
   "source": [
    "torch.max(torch.abs((w - w_gpu.cpu()))) "
   ]
  },
  {
   "cell_type": "code",
   "execution_count": 61,
   "id": "08e8347c-8672-4a0a-a805-68d12f61d8ec",
   "metadata": {},
   "outputs": [],
   "source": [
    "def plot_wavelets(wavelet_planes):\n",
    "    fig, ax = plt.subplots(nrows=2, ncols=2)\n",
    "    for i in range(4):\n",
    "        ax[i//2, i % 2].imshow(wavelet_planes[i].numpy(), cmap='gray')\n",
    "        ax[i//2, i % 2].set_title(f\"i = {i}th plane\")\n",
    "    plt.show()"
   ]
  },
  {
   "cell_type": "code",
   "execution_count": 77,
   "id": "fa6a36b0-d00c-4115-bc2f-98094318a7fc",
   "metadata": {},
   "outputs": [],
   "source": [
    "plt.figure()\n",
    "plt.imshow(anscombe_trans_tensor.cpu().numpy()[700:1000, 2400:2800])\n",
    "plt.show()"
   ]
  },
  {
   "cell_type": "code",
   "execution_count": 76,
   "id": "b03aaf0b-1c24-4305-aec5-fb0526624666",
   "metadata": {},
   "outputs": [],
   "source": [
    "plt.figure()\n",
    "plt.imshow(w_gpu.cpu()[1].numpy()[700:1000, 2400:2800])\n",
    "plt.show()"
   ]
  },
  {
   "cell_type": "code",
   "execution_count": 78,
   "id": "c7651230-ddf7-4816-95cc-3ec40943311f",
   "metadata": {},
   "outputs": [],
   "source": [
    "plt.figure()\n",
    "plt.imshow(w_gpu.cpu()[2].numpy()[700:1000, 2400:2800])\n",
    "plt.show()"
   ]
  },
  {
   "cell_type": "code",
   "execution_count": 72,
   "id": "427721a5-0d43-43e0-93b1-aef027be83e6",
   "metadata": {},
   "outputs": [],
   "source": [
    "plt.figure()\n",
    "plt.imshow(filtered_image.cpu()[700:1000, 2400:2800], cmap='gray')\n",
    "plt.show()"
   ]
  },
  {
   "cell_type": "code",
   "execution_count": 79,
   "id": "52a84285-79f5-4469-bdb7-72ecf4ae2831",
   "metadata": {},
   "outputs": [],
   "source": [
    "plt.figure()\n",
    "plt.imshow(bin_mask.cpu()[700:1000, 2400:2800])\n",
    "plt.show()"
   ]
  },
  {
   "cell_type": "code",
   "execution_count": 70,
   "id": "4fd4e65c-b994-4723-9494-4f3f72ae0950",
   "metadata": {},
   "outputs": [],
   "source": [
    "plot_wavelets(w_gpu.cpu())"
   ]
  },
  {
   "cell_type": "code",
   "execution_count": 63,
   "id": "562c797b-58a5-44b9-bb16-8cc4bdb6bb41",
   "metadata": {},
   "outputs": [],
   "source": [
    "plot_wavelets(w)"
   ]
  },
  {
   "cell_type": "code",
   "execution_count": 27,
   "id": "86017592-c927-42af-bd4a-b11a2e89a975",
   "metadata": {},
   "outputs": [],
   "source": [
    "seg_image = torch.from_numpy(seg_image)"
   ]
  },
  {
   "cell_type": "markdown",
   "id": "5fa50652-e6b9-45dd-954e-14d5d15a7c1a",
   "metadata": {},
   "source": [
    "#### Construction binary mask of the spots using the wavelet planes\n",
    "\n",
    "There four levels and you need to filter all levels and pick the workplane level as\n",
    "filtered image. After his clean the filetered image using binaray morphological \n",
    "operations"
   ]
  },
  {
   "cell_type": "code",
   "execution_count": 28,
   "id": "566e86c0-8cc8-4102-a99d-3b4e87246fdf",
   "metadata": {},
   "outputs": [],
   "source": [
    "def filter_wavelet_planes(w, seg_mask, wavelet_plane_no=2, device='cpu', noise_threshold=3.0,\n",
    "                          noise_level_division=0.7):\n",
    "    w = w.to(device)\n",
    "    seg_mask = seg_mask.to(device)\n",
    "    ind = seg_mask > 0\n",
    "\n",
    "    w_masked = w[:, ind]\n",
    "    w_mean = torch.mean(w_masked, dim=1)[:, None]\n",
    "    noise_level = torch.median(torch.abs(w_masked - w_mean), dim=1).values / noise_level_division\n",
    "    threshold = noise_threshold * noise_level\n",
    "    \n",
    "    filtered_image = torch.zeros_like(w[wavelet_plane_no], device=device)\n",
    "\n",
    "    filtered_image[torch.abs(w[wavelet_plane_no]) >= threshold[wavelet_plane_no]] = 1;\n",
    "\n",
    "    return filtered_image * w[wavelet_plane_no]"
   ]
  },
  {
   "cell_type": "code",
   "execution_count": null,
   "id": "673ca9d1-6dd9-40f6-9171-f177b31d6f99",
   "metadata": {},
   "outputs": [],
   "source": []
  },
  {
   "cell_type": "code",
   "execution_count": 29,
   "id": "910dd074-6ea2-40e2-b8f6-80bb7a2d2e43",
   "metadata": {},
   "outputs": [],
   "source": [
    "filtered_image = filter_wavelet_planes(w, seg_image, wavelet_plane_no=1, device='cuda:0')"
   ]
  },
  {
   "cell_type": "code",
   "execution_count": 30,
   "id": "c1ebf4bc-86c2-483c-8b3e-c6e4fbecf4f8",
   "metadata": {},
   "outputs": [
    {
     "data": {
      "text/plain": [
       "(torch.Size([1404, 3200]), torch.float32, device(type='cuda', index=0))"
      ]
     },
     "execution_count": 30,
     "metadata": {},
     "output_type": "execute_result"
    }
   ],
   "source": [
    "filtered_image.shape, filtered_image.dtype, filtered_image.device"
   ]
  },
  {
   "cell_type": "code",
   "execution_count": 31,
   "id": "96433a76-2a06-4e57-8225-4ea95ae2b665",
   "metadata": {},
   "outputs": [],
   "source": [
    "plt.figure()\n",
    "plt.imshow(filtered_image.cpu(), cmap='gray')\n",
    "plt.show()"
   ]
  },
  {
   "cell_type": "code",
   "execution_count": 32,
   "id": "b0b8b5ec-6f9e-4618-a7e6-1f1f9846ede6",
   "metadata": {},
   "outputs": [],
   "source": [
    "def construct_binary_spot_mask(filtered_spots_image):\n",
    "    bin_mask = torch.zeros_like(filtered_spots_image)\n",
    "    bin_mask[filtered_image > 0] = 1\n",
    "\n",
    "    # clean up of the binary mask\n",
    "    \n",
    "    return bin_mask"
   ]
  },
  {
   "cell_type": "code",
   "execution_count": 68,
   "id": "ba7d50ed-27ed-463b-a79a-aff5a5fa7a1d",
   "metadata": {},
   "outputs": [
    {
     "name": "stdout",
     "output_type": "stream",
     "text": [
      "24.5 µs ± 134 ns per loop (mean ± std. dev. of 7 runs, 10,000 loops each)\n"
     ]
    }
   ],
   "source": [
    "%timeit bin_mask = construct_binary_spot_mask(filtered_image)"
   ]
  },
  {
   "cell_type": "code",
   "execution_count": 69,
   "id": "b645ff23-39b1-4a42-8173-20e88d57c291",
   "metadata": {},
   "outputs": [],
   "source": [
    "plt.figure()\n",
    "plt.imshow(bin_mask.cpu())\n",
    "plt.show()"
   ]
  },
  {
   "cell_type": "code",
   "execution_count": 108,
   "id": "6b2b17a1-ae8c-48ac-a232-11f4e75a693d",
   "metadata": {},
   "outputs": [],
   "source": [
    "bin_mask_cpu  = bin_mask.cpu().numpy()"
   ]
  },
  {
   "cell_type": "code",
   "execution_count": 109,
   "id": "aa08c2b2-f5d2-425c-a7bb-1f29c0373038",
   "metadata": {},
   "outputs": [
    {
     "data": {
      "text/plain": [
       "array([[1., 1., 1., ..., 1., 1., 1.],\n",
       "       [1., 1., 1., ..., 1., 1., 1.],\n",
       "       [1., 1., 1., ..., 1., 1., 1.],\n",
       "       ...,\n",
       "       [1., 1., 1., ..., 1., 1., 1.],\n",
       "       [1., 1., 1., ..., 1., 1., 1.],\n",
       "       [1., 1., 1., ..., 1., 1., 1.]], dtype=float32)"
      ]
     },
     "execution_count": 109,
     "metadata": {},
     "output_type": "execute_result"
    }
   ],
   "source": [
    "bin_mask_cpu"
   ]
  },
  {
   "cell_type": "code",
   "execution_count": null,
   "id": "6898f1c6-7e76-474e-9531-095d8b5df808",
   "metadata": {},
   "outputs": [],
   "source": [
    "p"
   ]
  },
  {
   "cell_type": "code",
   "execution_count": null,
   "id": "700bbd3e-7a18-45c4-81df-3ae913bee9da",
   "metadata": {},
   "outputs": [],
   "source": []
  },
  {
   "cell_type": "markdown",
   "id": "278e0b4a-0c9a-42e0-abef-c362877564ca",
   "metadata": {},
   "source": [
    "### Finding spot centroids"
   ]
  },
  {
   "cell_type": "code",
   "execution_count": 123,
   "id": "c25df025-4b22-44d0-bab2-bdc9585d9c52",
   "metadata": {},
   "outputs": [],
   "source": [
    "from skimage.measure import regionprops, label, regionprops_table"
   ]
  },
  {
   "cell_type": "code",
   "execution_count": 124,
   "id": "84778fc5-cc1d-4dda-ab1c-d04570d02124",
   "metadata": {},
   "outputs": [],
   "source": [
    "def find_spot_centroids(spot_bin_mask, fluor_image, min_spot_area=0, max_axes_ratio=1.7):\n",
    "    pass"
   ]
  },
  {
   "cell_type": "code",
   "execution_count": 133,
   "id": "734c0d26-81c8-4344-a0cb-2f8e99d3d8c5",
   "metadata": {},
   "outputs": [
    {
     "name": "stdout",
     "output_type": "stream",
     "text": [
      "356 ms ± 2.1 ms per loop (mean ± std. dev. of 7 runs, 1 loop each)\n"
     ]
    }
   ],
   "source": [
    "%timeit spot_stats = regionprops_table(label(bin_mask_cpu), fluor_img, properties=['centroid_weighted', 'axis_major_length', 'axis_minor_length', 'area', 'orientation', 'coords'])"
   ]
  },
  {
   "cell_type": "code",
   "execution_count": 164,
   "id": "bf0d7998-e995-4216-a1bb-8ca1a11065c1",
   "metadata": {},
   "outputs": [],
   "source": [
    "spot_stats = regionprops(label(bin_mask_cpu), fluor_img)"
   ]
  },
  {
   "cell_type": "code",
   "execution_count": 165,
   "id": "903b67b9-3640-4e27-b5a7-4f87836b93ee",
   "metadata": {},
   "outputs": [
    {
     "data": {
      "text/plain": [
       "1576"
      ]
     },
     "execution_count": 165,
     "metadata": {},
     "output_type": "execute_result"
    }
   ],
   "source": [
    "len(spot_stats)"
   ]
  },
  {
   "cell_type": "code",
   "execution_count": 173,
   "id": "1c5c5614-eb7e-44b7-930b-070a52a792b5",
   "metadata": {},
   "outputs": [],
   "source": [
    "min_spot_area = 5\n",
    "max_spot_area = 100\n",
    "max_axes_ratio = 1.7"
   ]
  },
  {
   "cell_type": "code",
   "execution_count": 174,
   "id": "25f4f3ec-9439-4247-a388-a42db914e6a6",
   "metadata": {},
   "outputs": [],
   "source": [
    "area = [(i, spot['area']) \n",
    "            for i, spot in enumerate(spot_stats) if spot['area'] >=  min_spot_area and spot['area'] <= max_spot_area ]"
   ]
  },
  {
   "cell_type": "code",
   "execution_count": 175,
   "id": "9d9061e3-646e-4b70-9928-0192cb410eed",
   "metadata": {},
   "outputs": [],
   "source": [
    "spots_filtered = [spot_stats[spot_idx] for spot_idx, spot_area in area]"
   ]
  },
  {
   "cell_type": "code",
   "execution_count": 176,
   "id": "2207a944-c0e9-463a-86c9-d32306aac333",
   "metadata": {},
   "outputs": [
    {
     "data": {
      "text/plain": [
       "1420"
      ]
     },
     "execution_count": 176,
     "metadata": {},
     "output_type": "execute_result"
    }
   ],
   "source": [
    "len(spots_filtered)"
   ]
  },
  {
   "cell_type": "code",
   "execution_count": 177,
   "id": "85b4e382-3e0e-4f38-845a-0fae4bf5ff7d",
   "metadata": {},
   "outputs": [],
   "source": [
    "axes_ratio = [spot['axis_major_length'] / spot['axis_minor_length'] for spot in spots_filtered]"
   ]
  },
  {
   "cell_type": "code",
   "execution_count": 183,
   "id": "7472426a-e44d-45d3-9b13-323bba6ab73c",
   "metadata": {},
   "outputs": [
    {
     "data": {
      "text/plain": [
       "(218.58425921621495, 489.79624378225094)"
      ]
     },
     "execution_count": 183,
     "metadata": {},
     "output_type": "execute_result"
    }
   ],
   "source": [
    "spots_filtered[3]['centroid_weighted']"
   ]
  },
  {
   "cell_type": "code",
   "execution_count": 185,
   "id": "7592e5e4-d781-4f07-b097-d1e663ffb33e",
   "metadata": {},
   "outputs": [],
   "source": [
    "overlap_indices = [idx for (idx, axes_ratio) in enumerate(axes_ratio) if axes_ratio > max_axes_ratio]"
   ]
  },
  {
   "cell_type": "code",
   "execution_count": 187,
   "id": "a2a05ad8-a2d4-4676-b79f-a337d070ab51",
   "metadata": {},
   "outputs": [
    {
     "data": {
      "text/plain": [
       "357"
      ]
     },
     "execution_count": 187,
     "metadata": {},
     "output_type": "execute_result"
    }
   ],
   "source": [
    "len(overlap_indices)"
   ]
  },
  {
   "cell_type": "code",
   "execution_count": 188,
   "id": "90d47d99-8440-4858-9cc9-0a5820170106",
   "metadata": {},
   "outputs": [
    {
     "data": {
      "text/plain": [
       "[0,\n",
       " 6,\n",
       " 7,\n",
       " 13,\n",
       " 18,\n",
       " 21,\n",
       " 22,\n",
       " 23,\n",
       " 25,\n",
       " 26,\n",
       " 29,\n",
       " 30,\n",
       " 36,\n",
       " 38,\n",
       " 42,\n",
       " 46,\n",
       " 57,\n",
       " 67,\n",
       " 70,\n",
       " 71,\n",
       " 76,\n",
       " 80,\n",
       " 88,\n",
       " 91,\n",
       " 101,\n",
       " 103,\n",
       " 110,\n",
       " 119,\n",
       " 121,\n",
       " 129,\n",
       " 132,\n",
       " 134,\n",
       " 137,\n",
       " 139,\n",
       " 142,\n",
       " 144,\n",
       " 148,\n",
       " 149,\n",
       " 150,\n",
       " 151,\n",
       " 159,\n",
       " 164,\n",
       " 168,\n",
       " 169,\n",
       " 178,\n",
       " 184,\n",
       " 186,\n",
       " 189,\n",
       " 193,\n",
       " 194,\n",
       " 198,\n",
       " 199,\n",
       " 200,\n",
       " 205,\n",
       " 210,\n",
       " 213,\n",
       " 215,\n",
       " 217,\n",
       " 220,\n",
       " 222,\n",
       " 224,\n",
       " 225,\n",
       " 226,\n",
       " 231,\n",
       " 232,\n",
       " 236,\n",
       " 238,\n",
       " 240,\n",
       " 241,\n",
       " 245,\n",
       " 248,\n",
       " 249,\n",
       " 250,\n",
       " 254,\n",
       " 255,\n",
       " 258,\n",
       " 259,\n",
       " 266,\n",
       " 267,\n",
       " 276,\n",
       " 277,\n",
       " 286,\n",
       " 291,\n",
       " 294,\n",
       " 298,\n",
       " 301,\n",
       " 304,\n",
       " 310,\n",
       " 318,\n",
       " 319,\n",
       " 322,\n",
       " 325,\n",
       " 326,\n",
       " 328,\n",
       " 329,\n",
       " 331,\n",
       " 333,\n",
       " 334,\n",
       " 353,\n",
       " 362,\n",
       " 367,\n",
       " 369,\n",
       " 370,\n",
       " 372,\n",
       " 374,\n",
       " 377,\n",
       " 380,\n",
       " 385,\n",
       " 394,\n",
       " 395,\n",
       " 400,\n",
       " 406,\n",
       " 413,\n",
       " 417,\n",
       " 422,\n",
       " 426,\n",
       " 431,\n",
       " 434,\n",
       " 440,\n",
       " 441,\n",
       " 443,\n",
       " 445,\n",
       " 448,\n",
       " 449,\n",
       " 452,\n",
       " 460,\n",
       " 469,\n",
       " 470,\n",
       " 472,\n",
       " 481,\n",
       " 483,\n",
       " 499,\n",
       " 505,\n",
       " 510,\n",
       " 527,\n",
       " 530,\n",
       " 532,\n",
       " 541,\n",
       " 548,\n",
       " 552,\n",
       " 554,\n",
       " 555,\n",
       " 559,\n",
       " 564,\n",
       " 567,\n",
       " 573,\n",
       " 576,\n",
       " 577,\n",
       " 579,\n",
       " 582,\n",
       " 585,\n",
       " 587,\n",
       " 590,\n",
       " 591,\n",
       " 594,\n",
       " 596,\n",
       " 608,\n",
       " 610,\n",
       " 618,\n",
       " 621,\n",
       " 622,\n",
       " 625,\n",
       " 631,\n",
       " 633,\n",
       " 639,\n",
       " 640,\n",
       " 648,\n",
       " 653,\n",
       " 655,\n",
       " 656,\n",
       " 659,\n",
       " 663,\n",
       " 666,\n",
       " 669,\n",
       " 673,\n",
       " 680,\n",
       " 690,\n",
       " 693,\n",
       " 695,\n",
       " 696,\n",
       " 699,\n",
       " 705,\n",
       " 707,\n",
       " 713,\n",
       " 725,\n",
       " 728,\n",
       " 729,\n",
       " 731,\n",
       " 736,\n",
       " 738,\n",
       " 750,\n",
       " 751,\n",
       " 753,\n",
       " 756,\n",
       " 771,\n",
       " 776,\n",
       " 777,\n",
       " 781,\n",
       " 783,\n",
       " 787,\n",
       " 790,\n",
       " 795,\n",
       " 796,\n",
       " 798,\n",
       " 801,\n",
       " 802,\n",
       " 809,\n",
       " 811,\n",
       " 813,\n",
       " 814,\n",
       " 815,\n",
       " 823,\n",
       " 826,\n",
       " 828,\n",
       " 830,\n",
       " 834,\n",
       " 838,\n",
       " 839,\n",
       " 842,\n",
       " 846,\n",
       " 849,\n",
       " 853,\n",
       " 855,\n",
       " 857,\n",
       " 869,\n",
       " 870,\n",
       " 871,\n",
       " 874,\n",
       " 879,\n",
       " 886,\n",
       " 887,\n",
       " 891,\n",
       " 893,\n",
       " 898,\n",
       " 899,\n",
       " 903,\n",
       " 904,\n",
       " 912,\n",
       " 917,\n",
       " 921,\n",
       " 924,\n",
       " 927,\n",
       " 930,\n",
       " 933,\n",
       " 935,\n",
       " 942,\n",
       " 951,\n",
       " 953,\n",
       " 956,\n",
       " 962,\n",
       " 963,\n",
       " 966,\n",
       " 967,\n",
       " 971,\n",
       " 973,\n",
       " 974,\n",
       " 978,\n",
       " 979,\n",
       " 984,\n",
       " 991,\n",
       " 992,\n",
       " 1000,\n",
       " 1002,\n",
       " 1003,\n",
       " 1004,\n",
       " 1006,\n",
       " 1010,\n",
       " 1027,\n",
       " 1032,\n",
       " 1040,\n",
       " 1044,\n",
       " 1056,\n",
       " 1059,\n",
       " 1062,\n",
       " 1071,\n",
       " 1073,\n",
       " 1080,\n",
       " 1081,\n",
       " 1082,\n",
       " 1092,\n",
       " 1093,\n",
       " 1097,\n",
       " 1100,\n",
       " 1103,\n",
       " 1104,\n",
       " 1110,\n",
       " 1114,\n",
       " 1119,\n",
       " 1125,\n",
       " 1137,\n",
       " 1138,\n",
       " 1140,\n",
       " 1142,\n",
       " 1146,\n",
       " 1147,\n",
       " 1150,\n",
       " 1152,\n",
       " 1154,\n",
       " 1161,\n",
       " 1163,\n",
       " 1169,\n",
       " 1179,\n",
       " 1182,\n",
       " 1185,\n",
       " 1187,\n",
       " 1191,\n",
       " 1199,\n",
       " 1202,\n",
       " 1204,\n",
       " 1205,\n",
       " 1206,\n",
       " 1208,\n",
       " 1212,\n",
       " 1216,\n",
       " 1217,\n",
       " 1227,\n",
       " 1228,\n",
       " 1232,\n",
       " 1238,\n",
       " 1241,\n",
       " 1242,\n",
       " 1249,\n",
       " 1251,\n",
       " 1253,\n",
       " 1256,\n",
       " 1260,\n",
       " 1263,\n",
       " 1266,\n",
       " 1268,\n",
       " 1274,\n",
       " 1281,\n",
       " 1282,\n",
       " 1286,\n",
       " 1294,\n",
       " 1307,\n",
       " 1316,\n",
       " 1318,\n",
       " 1327,\n",
       " 1329,\n",
       " 1343,\n",
       " 1344,\n",
       " 1345,\n",
       " 1361,\n",
       " 1363,\n",
       " 1364,\n",
       " 1365,\n",
       " 1366,\n",
       " 1369,\n",
       " 1373,\n",
       " 1374,\n",
       " 1392,\n",
       " 1397,\n",
       " 1402,\n",
       " 1411,\n",
       " 1412,\n",
       " 1413,\n",
       " 1419]"
      ]
     },
     "execution_count": 188,
     "metadata": {},
     "output_type": "execute_result"
    }
   ],
   "source": [
    "overlap_indices"
   ]
  },
  {
   "cell_type": "code",
   "execution_count": null,
   "id": "45fe23a2-d737-46df-91a4-38dbf7a8b4ab",
   "metadata": {},
   "outputs": [],
   "source": []
  },
  {
   "cell_type": "code",
   "execution_count": null,
   "id": "49982b6e-a4c4-4ddf-9c00-7d5378a9f729",
   "metadata": {},
   "outputs": [],
   "source": []
  },
  {
   "cell_type": "code",
   "execution_count": null,
   "id": "8ce5f226-90ea-49ce-b5be-1761c3ee0eaf",
   "metadata": {},
   "outputs": [],
   "source": []
  },
  {
   "cell_type": "code",
   "execution_count": null,
   "id": "0366fa01-6939-43dc-b93f-548fa0acd14a",
   "metadata": {},
   "outputs": [],
   "source": []
  },
  {
   "cell_type": "markdown",
   "id": "67d91279-4447-432f-99bb-a385fb0b7cd5",
   "metadata": {},
   "source": [
    "#### Working with examples"
   ]
  },
  {
   "cell_type": "code",
   "execution_count": 253,
   "id": "20d6be67-a115-4b1a-b00a-24aaeec16323",
   "metadata": {},
   "outputs": [],
   "source": [
    "def sd_intensity(regionmask):\n",
    "    print(f\"Region mask shape: {regionmask.shape}\")\n",
    "    return np.mean(regionmask)"
   ]
  },
  {
   "cell_type": "code",
   "execution_count": 260,
   "id": "68ca8ca0-4b55-48aa-bf8d-b97069000356",
   "metadata": {},
   "outputs": [],
   "source": [
    "import math\n",
    "import matplotlib.pyplot as plt\n",
    "import numpy as np\n",
    "import pandas as pd\n",
    "\n",
    "from skimage.draw import ellipse\n",
    "from skimage.measure import label, regionprops, regionprops_table\n",
    "from skimage.transform import rotate\n",
    "\n",
    "\n",
    "image = np.zeros((600, 600))\n",
    "\n",
    "rr, cc = ellipse(300, 350, 100, 220)\n",
    "image[rr, cc] = 1\n",
    "\n",
    "image = rotate(image, angle=-15, order=0)\n",
    "\n",
    "rr, cc = ellipse(100, 100, 60, 50)\n",
    "image[rr, cc] = 1\n",
    "\n",
    "label_img = label(image)\n",
    "regions = regionprops(label_img, extra_properties=(sd_intensity,))"
   ]
  },
  {
   "cell_type": "code",
   "execution_count": 255,
   "id": "f75cfd1d-0820-4d06-a2d7-c6984ff352ea",
   "metadata": {},
   "outputs": [],
   "source": [
    "regions = regionprops(label_img, extra_properties=(sd_intensity,))"
   ]
  },
  {
   "cell_type": "code",
   "execution_count": 257,
   "id": "53fb464c-24a7-40ac-a8c4-b9e1a6857f34",
   "metadata": {},
   "outputs": [
    {
     "name": "stdout",
     "output_type": "stream",
     "text": [
      "Region mask shape: (119, 99)\n"
     ]
    },
    {
     "data": {
      "text/plain": [
       "0.7973007384772091"
      ]
     },
     "execution_count": 257,
     "metadata": {},
     "output_type": "execute_result"
    }
   ],
   "source": [
    "regions[0].sd_intensity"
   ]
  },
  {
   "cell_type": "code",
   "execution_count": 258,
   "id": "73b1879f-9b68-4a32-b4da-15ac566375ad",
   "metadata": {},
   "outputs": [
    {
     "name": "stdout",
     "output_type": "stream",
     "text": [
      "Region mask shape: (225, 429)\n"
     ]
    },
    {
     "data": {
      "text/plain": [
       "0.7155969955969956"
      ]
     },
     "execution_count": 258,
     "metadata": {},
     "output_type": "execute_result"
    }
   ],
   "source": [
    "regions[1].sd_intensity"
   ]
  },
  {
   "cell_type": "code",
   "execution_count": 251,
   "id": "772bf181-9f78-4325-9491-c66750592df1",
   "metadata": {},
   "outputs": [
    {
     "data": {
      "text/plain": [
       "<function __main__.sd_intensity(regionmask)>"
      ]
     },
     "execution_count": 251,
     "metadata": {},
     "output_type": "execute_result"
    }
   ],
   "source": [
    "sd_intensity"
   ]
  },
  {
   "cell_type": "code",
   "execution_count": 252,
   "id": "3c825e61-c169-4c07-a1c3-dd66c3f797ed",
   "metadata": {},
   "outputs": [
    {
     "data": {
      "text/plain": [
       "['area',\n",
       " 'area_bbox',\n",
       " 'area_convex',\n",
       " 'area_filled',\n",
       " 'axis_major_length',\n",
       " 'axis_minor_length',\n",
       " 'bbox',\n",
       " 'centroid',\n",
       " 'centroid_local',\n",
       " 'coords',\n",
       " 'eccentricity',\n",
       " 'equivalent_diameter_area',\n",
       " 'euler_number',\n",
       " 'extent',\n",
       " 'feret_diameter_max',\n",
       " 'image',\n",
       " 'image_convex',\n",
       " 'image_filled',\n",
       " 'inertia_tensor',\n",
       " 'inertia_tensor_eigvals',\n",
       " 'label',\n",
       " 'moments',\n",
       " 'moments_central',\n",
       " 'moments_hu',\n",
       " 'moments_normalized',\n",
       " 'orientation',\n",
       " 'perimeter',\n",
       " 'perimeter_crofton',\n",
       " 'slice',\n",
       " 'solidity']"
      ]
     },
     "execution_count": 252,
     "metadata": {},
     "output_type": "execute_result"
    }
   ],
   "source": [
    "list(regions[0])"
   ]
  },
  {
   "cell_type": "code",
   "execution_count": 244,
   "id": "7d64e7a7-67cb-4a31-aa2f-bc51794b9a84",
   "metadata": {},
   "outputs": [],
   "source": [
    "plt.figure()\n",
    "plt.imshow(label_img)\n",
    "plt.show()"
   ]
  },
  {
   "cell_type": "code",
   "execution_count": 245,
   "id": "4965812b-6475-4375-a14d-444262422a44",
   "metadata": {},
   "outputs": [
    {
     "data": {
      "text/plain": [
       "1"
      ]
     },
     "execution_count": 245,
     "metadata": {},
     "output_type": "execute_result"
    }
   ],
   "source": [
    "regions[0].label"
   ]
  },
  {
   "cell_type": "code",
   "execution_count": 246,
   "id": "08d3d96c-6166-4f7c-8099-4c204ced98fb",
   "metadata": {},
   "outputs": [
    {
     "data": {
      "text/plain": [
       "2"
      ]
     },
     "execution_count": 246,
     "metadata": {},
     "output_type": "execute_result"
    }
   ],
   "source": [
    "regions[1].label"
   ]
  },
  {
   "cell_type": "code",
   "execution_count": null,
   "id": "1df3a096-16ca-47f6-8273-d175bea8257e",
   "metadata": {},
   "outputs": [],
   "source": []
  },
  {
   "cell_type": "code",
   "execution_count": null,
   "id": "fce33573-3040-4626-85c0-c1ea97e2ab4e",
   "metadata": {},
   "outputs": [],
   "source": [
    "def sd_intensity(region"
   ]
  },
  {
   "cell_type": "code",
   "execution_count": null,
   "id": "7bdc0321-82d3-4d69-bc83-2ea6eff3dafb",
   "metadata": {},
   "outputs": [],
   "source": []
  },
  {
   "cell_type": "code",
   "execution_count": 211,
   "id": "b1cb23c3-f69f-4e5c-ab8e-ed0e67260dc6",
   "metadata": {},
   "outputs": [
    {
     "data": {
      "text/plain": [
       "array([[0, 0, 0, ..., 0, 0, 0],\n",
       "       [0, 0, 0, ..., 0, 0, 0],\n",
       "       [0, 0, 0, ..., 0, 0, 0],\n",
       "       ...,\n",
       "       [0, 0, 0, ..., 0, 0, 0],\n",
       "       [0, 0, 0, ..., 0, 0, 0],\n",
       "       [0, 0, 0, ..., 0, 0, 0]])"
      ]
     },
     "execution_count": 211,
     "metadata": {},
     "output_type": "execute_result"
    }
   ],
   "source": [
    "label_img"
   ]
  },
  {
   "cell_type": "code",
   "execution_count": 212,
   "id": "3e889a43-4a1c-4b6d-aed4-b93188678d3a",
   "metadata": {},
   "outputs": [],
   "source": [
    "plt.figure()\n",
    "plt.imshow(label_img)\n",
    "plt.show()"
   ]
  },
  {
   "cell_type": "code",
   "execution_count": 201,
   "id": "7c105ff5-2962-4198-b1a9-eaa9e240793b",
   "metadata": {},
   "outputs": [],
   "source": [
    "from skimage.io import imsave"
   ]
  },
  {
   "cell_type": "code",
   "execution_count": 208,
   "id": "5956b09d-bc08-4881-a6c0-e15eeec5f603",
   "metadata": {},
   "outputs": [],
   "source": [
    "imsave(Path('/home/pk/Documents/waveletCode/data/test.tiff'), label_img.astype('uint16'),\n",
    "           plugin='tifffile', check_contrast=False)"
   ]
  },
  {
   "cell_type": "code",
   "execution_count": 220,
   "id": "b93748e9-22a6-4d0b-9c93-fe2879b6c713",
   "metadata": {},
   "outputs": [
    {
     "name": "stdout",
     "output_type": "stream",
     "text": [
      "(y0, x0): (100.0, 100.0)\n",
      "Orientation: 0.0\n",
      "(y0, x0): (313.0515975851635, 348.1505219116008)\n",
      "Orientation: 1.3089215222380706\n"
     ]
    }
   ],
   "source": [
    "fig, ax = plt.subplots()\n",
    "ax.imshow(image, cmap=plt.cm.gray)\n",
    "\n",
    "for props in regions:\n",
    "    y0, x0 = props.centroid\n",
    "    print(f\"(y0, x0): ({y0}, {x0})\")\n",
    "    orientation = props.orientation\n",
    "    print(f\"Orientation: {orientation}\")\n",
    "    x1 = x0 + math.cos(orientation) * 0.5 * props.axis_minor_length\n",
    "    y1 = y0 - math.sin(orientation) * 0.5 * props.axis_minor_length\n",
    "    x2 = x0 - math.sin(orientation) * 0.5 * props.axis_major_length\n",
    "    y2 = y0 - math.cos(orientation) * 0.5 * props.axis_major_length\n",
    "\n",
    "    ax.plot((x0, x1), (y0, y1), '-k', linewidth=2.5)\n",
    "    ax.plot((x0, x2), (y0, y2), '-r', linewidth=2.5)\n",
    "    ax.plot(x0, y0, '.g', markersize=15)\n",
    "\n",
    "    minr, minc, maxr, maxc = props.bbox\n",
    "    bx = (minc, maxc, maxc, minc, minc)\n",
    "    by = (minr, minr, maxr, maxr, minr)\n",
    "    ax.plot(bx, by, '-b', linewidth=2.5)\n",
    "\n",
    "ax.axis((0, 600, 600, 0))\n",
    "plt.show()"
   ]
  },
  {
   "cell_type": "code",
   "execution_count": 197,
   "id": "d5733ebc-b296-452d-bcf5-ba3f455473c1",
   "metadata": {},
   "outputs": [
    {
     "data": {
      "text/plain": [
       "-74.94287960311168"
      ]
     },
     "execution_count": 197,
     "metadata": {},
     "output_type": "execute_result"
    }
   ],
   "source": [
    "-1.308 * 180 / math.pi"
   ]
  },
  {
   "cell_type": "code",
   "execution_count": 219,
   "id": "6ca7dfdb-4bb8-4d0b-8168-f2dc1e49ecdf",
   "metadata": {},
   "outputs": [
    {
     "data": {
      "text/plain": [
       "['area',\n",
       " 'area_bbox',\n",
       " 'area_convex',\n",
       " 'area_filled',\n",
       " 'axis_major_length',\n",
       " 'axis_minor_length',\n",
       " 'bbox',\n",
       " 'centroid',\n",
       " 'centroid_local',\n",
       " 'coords',\n",
       " 'eccentricity',\n",
       " 'equivalent_diameter_area',\n",
       " 'euler_number',\n",
       " 'extent',\n",
       " 'feret_diameter_max',\n",
       " 'image',\n",
       " 'image_convex',\n",
       " 'image_filled',\n",
       " 'inertia_tensor',\n",
       " 'inertia_tensor_eigvals',\n",
       " 'label',\n",
       " 'moments',\n",
       " 'moments_central',\n",
       " 'moments_hu',\n",
       " 'moments_normalized',\n",
       " 'orientation',\n",
       " 'perimeter',\n",
       " 'perimeter_crofton',\n",
       " 'slice',\n",
       " 'solidity']"
      ]
     },
     "execution_count": 219,
     "metadata": {},
     "output_type": "execute_result"
    }
   ],
   "source": [
    "list(regions[0])"
   ]
  },
  {
   "cell_type": "code",
   "execution_count": 261,
   "id": "341a41cf-4b99-4c6d-8986-1a26b6c19d7f",
   "metadata": {},
   "outputs": [],
   "source": [
    "import cv2"
   ]
  },
  {
   "cell_type": "code",
   "execution_count": 262,
   "id": "97d1d16a-14c7-44a4-8e84-2eb508332dec",
   "metadata": {},
   "outputs": [
    {
     "data": {
      "text/plain": [
       "array([[0, 0, 1, 0, 0],\n",
       "       [1, 1, 1, 1, 1],\n",
       "       [1, 1, 1, 1, 1],\n",
       "       [1, 1, 1, 1, 1],\n",
       "       [0, 0, 1, 0, 0]], dtype=uint8)"
      ]
     },
     "execution_count": 262,
     "metadata": {},
     "output_type": "execute_result"
    }
   ],
   "source": [
    "cv2.getStructuringElement(cv2.MORPH_ELLIPSE,(5,5))"
   ]
  },
  {
   "cell_type": "code",
   "execution_count": null,
   "id": "416c83d0-9681-4a7a-8785-e62bd8dd7024",
   "metadata": {},
   "outputs": [],
   "source": []
  },
  {
   "cell_type": "code",
   "execution_count": null,
   "id": "6ddebb8c-78fb-4cbd-a3e5-ba4a485af359",
   "metadata": {},
   "outputs": [],
   "source": []
  }
 ],
 "metadata": {
  "kernelspec": {
   "display_name": "Python 3 (ipykernel)",
   "language": "python",
   "name": "python3"
  },
  "language_info": {
   "codemirror_mode": {
    "name": "ipython",
    "version": 3
   },
   "file_extension": ".py",
   "mimetype": "text/x-python",
   "name": "python",
   "nbconvert_exporter": "python",
   "pygments_lexer": "ipython3",
   "version": "3.11.0rc1"
  }
 },
 "nbformat": 4,
 "nbformat_minor": 5
}
