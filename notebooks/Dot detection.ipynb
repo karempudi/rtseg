{
 "cells": [
  {
   "cell_type": "code",
   "execution_count": 1,
   "id": "ee028ce4-0874-4827-995a-ce26fae5d28c",
   "metadata": {},
   "outputs": [],
   "source": [
    "import numpy as np\n",
    "import torch\n",
    "import matplotlib.pyplot as plt\n",
    "import pathlib\n",
    "from pathlib import Path\n",
    "from skimage.io import imread\n",
    "import torch.nn.functional as F\n",
    "import matplotlib as mpl\n",
    "mpl.use('QtAgg')\n",
    "%matplotlib qt"
   ]
  },
  {
   "cell_type": "markdown",
   "id": "85dd4ea5-633a-4612-98de-77b8c6fa2333",
   "metadata": {},
   "source": [
    "#### Hard coded constants"
   ]
  },
  {
   "cell_type": "code",
   "execution_count": 2,
   "id": "4c255ce8-6b54-4609-8c8a-eb7fed8ea215",
   "metadata": {},
   "outputs": [],
   "source": [
    "waveletPlanes = 2\n",
    "levels = 3\n",
    "fluor_image_path = Path('/home/pk/Documents/waveletCode/data/img_000000000.tiff')\n",
    "seg_image_path = Path('/home/pk/Documents/waveletCode/data/img_000000000_mask.tiff')\n",
    "fluor_img = imread(fluor_image_path).astype('float32')\n",
    "seg_image = imread(seg_image_path)"
   ]
  },
  {
   "cell_type": "code",
   "execution_count": 3,
   "id": "514d0da9-fb3a-4352-955a-3236bbd355a3",
   "metadata": {},
   "outputs": [],
   "source": [
    "fluor_img_tensor = torch.from_numpy(fluor_img)\n",
    "anscombe_trans_tensor = 2 * torch.sqrt(fluor_img_tensor + 3/8)"
   ]
  },
  {
   "cell_type": "code",
   "execution_count": 4,
   "id": "4e9fa3a2-fef6-4dfa-b2de-5757127468c3",
   "metadata": {},
   "outputs": [],
   "source": [
    "anscombe_trans_tensor = 2 * torch.sqrt(fluor_img_tensor + 3/8)"
   ]
  },
  {
   "cell_type": "code",
   "execution_count": 5,
   "id": "3022f604-e690-4bd9-b1dc-ebad35f5f0fb",
   "metadata": {},
   "outputs": [],
   "source": [
    "anscombe_trans_image = 2 * np.sqrt(fluor_img+3/8)"
   ]
  },
  {
   "cell_type": "code",
   "execution_count": 6,
   "id": "c119cb98-0bf8-416c-8350-311e2cb36022",
   "metadata": {},
   "outputs": [
    {
     "data": {
      "text/plain": [
       "device(type='cpu')"
      ]
     },
     "execution_count": 6,
     "metadata": {},
     "output_type": "execute_result"
    }
   ],
   "source": [
    "anscombe_trans_tensor.device"
   ]
  },
  {
   "cell_type": "code",
   "execution_count": 7,
   "id": "50d3206a-a405-4615-9722-d6d32db6d9c4",
   "metadata": {},
   "outputs": [],
   "source": [
    "from rtseg.dotdetection.detect import compute_wavelet_planes"
   ]
  },
  {
   "cell_type": "code",
   "execution_count": 8,
   "id": "29269f32-4c1c-48a1-abe3-f3ed13a26b36",
   "metadata": {},
   "outputs": [],
   "source": [
    "w = compute_wavelet_planes(anscombe_trans_tensor, device='cpu')"
   ]
  },
  {
   "cell_type": "code",
   "execution_count": 9,
   "id": "0c7002ff-259d-468d-869c-989bd0f0c9d1",
   "metadata": {},
   "outputs": [
    {
     "data": {
      "text/plain": [
       "torch.Size([4, 1404, 3200])"
      ]
     },
     "execution_count": 9,
     "metadata": {},
     "output_type": "execute_result"
    }
   ],
   "source": [
    "w.shape"
   ]
  },
  {
   "cell_type": "code",
   "execution_count": 10,
   "id": "60049e37-5135-48c2-800d-83b250228360",
   "metadata": {},
   "outputs": [
    {
     "name": "stdout",
     "output_type": "stream",
     "text": [
      "1.67 s ± 20.7 ms per loop (mean ± std. dev. of 7 runs, 1 loop each)\n"
     ]
    }
   ],
   "source": [
    "%timeit w = compute_wavelet_planes(anscombe_trans_tensor, device='cpu')"
   ]
  },
  {
   "cell_type": "code",
   "execution_count": 10,
   "id": "ecdc14cd-1c4e-4d9b-a309-f91f4620ee4b",
   "metadata": {},
   "outputs": [],
   "source": [
    "w_gpu = compute_wavelet_planes(anscombe_trans_tensor, device='cuda:0')"
   ]
  },
  {
   "cell_type": "code",
   "execution_count": 12,
   "id": "66c91cff-2b11-40f4-a70c-42542b7c773b",
   "metadata": {},
   "outputs": [
    {
     "name": "stdout",
     "output_type": "stream",
     "text": [
      "3.05 ms ± 66.3 µs per loop (mean ± std. dev. of 7 runs, 100 loops each)\n"
     ]
    }
   ],
   "source": [
    "%timeit w_gpu = compute_wavelet_planes(anscombe_trans_tensor, device='cuda:0')"
   ]
  },
  {
   "cell_type": "code",
   "execution_count": 11,
   "id": "b5f89119-3087-42d8-bb8c-8364ec395be9",
   "metadata": {},
   "outputs": [
    {
     "data": {
      "text/plain": [
       "(device(type='cpu'), device(type='cuda', index=0))"
      ]
     },
     "execution_count": 11,
     "metadata": {},
     "output_type": "execute_result"
    }
   ],
   "source": [
    "w.device, w_gpu.device"
   ]
  },
  {
   "cell_type": "code",
   "execution_count": 12,
   "id": "e1a737f5-e103-4cd7-8e1e-8aecbc9ef55b",
   "metadata": {},
   "outputs": [
    {
     "data": {
      "text/plain": [
       "tensor(1.9073e-05)"
      ]
     },
     "execution_count": 12,
     "metadata": {},
     "output_type": "execute_result"
    }
   ],
   "source": [
    "torch.max(torch.abs((w - w_gpu.cpu()))) "
   ]
  },
  {
   "cell_type": "code",
   "execution_count": 13,
   "id": "08e8347c-8672-4a0a-a805-68d12f61d8ec",
   "metadata": {},
   "outputs": [],
   "source": [
    "def plot_wavelets(wavelet_planes):\n",
    "    fig, ax = plt.subplots(nrows=2, ncols=2)\n",
    "    for i in range(4):\n",
    "        ax[i//2, i % 2].imshow(wavelet_planes[i].numpy(), cmap='gray')\n",
    "        ax[i//2, i % 2].set_title(f\"i = {i}th plane\")\n",
    "    plt.show()"
   ]
  },
  {
   "cell_type": "code",
   "execution_count": 14,
   "id": "4fd4e65c-b994-4723-9494-4f3f72ae0950",
   "metadata": {},
   "outputs": [],
   "source": [
    "plot_wavelets(w_gpu.cpu())"
   ]
  },
  {
   "cell_type": "code",
   "execution_count": 15,
   "id": "562c797b-58a5-44b9-bb16-8cc4bdb6bb41",
   "metadata": {},
   "outputs": [],
   "source": [
    "plot_wavelets(w)"
   ]
  },
  {
   "cell_type": "code",
   "execution_count": 16,
   "id": "86017592-c927-42af-bd4a-b11a2e89a975",
   "metadata": {},
   "outputs": [],
   "source": [
    "seg_image = torch.from_numpy(seg_image)"
   ]
  },
  {
   "cell_type": "markdown",
   "id": "5fa50652-e6b9-45dd-954e-14d5d15a7c1a",
   "metadata": {},
   "source": [
    "#### Construction binary mask of the spots using the wavelet planes\n",
    "\n",
    "There four levels and you need to filter all levels and pick the workplane level as\n",
    "filtered image. After his clean the filetered image using binaray morphological \n",
    "operations"
   ]
  },
  {
   "cell_type": "code",
   "execution_count": 17,
   "id": "566e86c0-8cc8-4102-a99d-3b4e87246fdf",
   "metadata": {},
   "outputs": [],
   "source": [
    "def binary_spot_mask(w, seg_mask, wavelet_plane_no=2, device='cpu', noise_threshold=3.0,\n",
    "                          noise_level_division=0.7):\n",
    "    w = w.to(device)\n",
    "    seg_mask = seg_mask.to(device)\n",
    "    ind = seg_mask > 0\n",
    "\n",
    "    w_masked = w[:, ind]\n",
    "    w_mean = torch.mean(w_masked, dim=1)[:, None]\n",
    "    noise_level = torch.median(torch.abs(w_masked - w_mean), dim=1).values / noise_level_division\n",
    "    threshold = noise_threshold * noise_level\n",
    "    \n",
    "    filtered_image = torch.zeros_like(w[wavelet_plane_no], device=device)\n",
    "\n",
    "    filtered_image[torch.abs(w[wavelet_plane_no]) >= threshold[wavelet_plane_no]] = 1;\n",
    "\n",
    "    filtered_image *= w[wavelet_plane_no]\n",
    "\n",
    "    binary_mask = torch.zeros_like(filtered_image, device=device)\n",
    "    binary_mask[filtered_image > 0] = 1\n",
    "\n",
    "    # clean up the binary mask\n",
    "    \n",
    "    \n",
    "    return binary_mask"
   ]
  },
  {
   "cell_type": "code",
   "execution_count": 29,
   "id": "673ca9d1-6dd9-40f6-9171-f177b31d6f99",
   "metadata": {},
   "outputs": [],
   "source": [
    "spot_mask = binary_spot_mask(w, seg_image, wavelet_plane_no=1, device='cuda:0', noise_threshold=3.0)"
   ]
  },
  {
   "cell_type": "code",
   "execution_count": 30,
   "id": "de174c9b-fe0c-4a00-9ec6-b3ac549616fc",
   "metadata": {},
   "outputs": [
    {
     "data": {
      "text/plain": [
       "device(type='cuda', index=0)"
      ]
     },
     "execution_count": 30,
     "metadata": {},
     "output_type": "execute_result"
    }
   ],
   "source": [
    "spot_mask.device"
   ]
  },
  {
   "cell_type": "code",
   "execution_count": 31,
   "id": "b645ff23-39b1-4a42-8173-20e88d57c291",
   "metadata": {},
   "outputs": [],
   "source": [
    "plt.figure()\n",
    "plt.imshow(spot_mask.cpu())\n",
    "plt.show()"
   ]
  },
  {
   "cell_type": "markdown",
   "id": "97b7bbbb-6e8b-4016-9202-31ce0e6f6e26",
   "metadata": {},
   "source": [
    "#### Clean up kernels\n",
    "\n",
    "We clean using convolutions on the GPU to do the binary morphological equivalents found in matlab\n",
    "\n",
    "1. clean --> remove isolated pixels\n",
    "\n",
    "2. hbreak -> remove two horizontal lines connected by one pixel\n",
    "\n",
    "3. spur -> remove spurious hanging pixels # we skip the spur for now\n",
    "4. clean -> clean again\n",
    "5. thicken -> probably a bit more complicated, dilate the spot later"
   ]
  },
  {
   "cell_type": "code",
   "execution_count": 32,
   "id": "1d856427-b667-4475-8422-fd8c926254d5",
   "metadata": {},
   "outputs": [
    {
     "data": {
      "text/plain": [
       "device(type='cuda', index=0)"
      ]
     },
     "execution_count": 32,
     "metadata": {},
     "output_type": "execute_result"
    }
   ],
   "source": [
    "spot_mask.device"
   ]
  },
  {
   "cell_type": "code",
   "execution_count": 33,
   "id": "77e01fc9-6bcc-47c2-902b-0e38aacc7eb8",
   "metadata": {},
   "outputs": [
    {
     "data": {
      "text/plain": [
       "torch.Size([1404, 3200])"
      ]
     },
     "execution_count": 33,
     "metadata": {},
     "output_type": "execute_result"
    }
   ],
   "source": [
    "spot_mask.shape"
   ]
  },
  {
   "cell_type": "code",
   "execution_count": 37,
   "id": "bbc0d105-fcdd-41bd-9fe2-9d6cfe6814a8",
   "metadata": {},
   "outputs": [],
   "source": [
    "def clean_spots(image):\n",
    "    clean_kernel = torch.ones((1, 1, 3, 3)).to(image.device)\n",
    "    conved = F.conv2d(image, clean_kernel, padding='same')\n",
    "    image[conved == 1] = 0\n",
    "    return image\n",
    "\n",
    "def clean_hbreak(image):\n",
    "    kernel1 = torch.tensor([[1.0, 1.0, 1.0], [0.0, 1.0, 0.0], [1.0, 1.0, 1.0]])[None, None, :].to(image.device)\n",
    "    kernel2 = torch.tensor([[0.0, 0.0, 0.0], [1.0, 0.0, 1.0], [0.0, 0.0, 0.0]])[None, None, :].to(image.device)\n",
    "    conved1 = F.conv2d(image, kernel1, padding='same')\n",
    "    conved2 = F.conv2d(image, kernel2, padding='same')\n",
    "    result = torch.logical_and(conved1 == 7, conved2 == 2)\n",
    "    image[result] = 0\n",
    "    return image\n",
    "\n",
    "def clean_vbreak(image):\n",
    "    kernel1 = torch.tensor([[1.0, 0.0, 1.0], [1.0, 1.0, 1.0], [1.0, 0.0, 1.0]])[None, None, :].to(image.device)\n",
    "    kernel2 = torch.tensor([[0.0, 1.0, 0.0], [0.0, 0.0, 0.0], [0.0, 1.0, 0.0]])[None, None, :].to(image.device)\n",
    "    conved1 = F.conv2d(image, kernel1, padding='same')\n",
    "    conved2 = F.conv2d(image, kernel2, padding='same')\n",
    "    result = torch.logical_and(conved1 == 7, conved2 == 2)\n",
    "    image[result] = 0\n",
    "    return image"
   ]
  },
  {
   "cell_type": "code",
   "execution_count": 38,
   "id": "ef622d96-c2dd-4605-a423-5af0b0ca06c3",
   "metadata": {},
   "outputs": [
    {
     "data": {
      "text/plain": [
       "tensor([[[[1., 1., 1.,  ..., 1., 1., 1.],\n",
       "          [1., 1., 1.,  ..., 1., 1., 1.],\n",
       "          [1., 1., 1.,  ..., 1., 1., 1.],\n",
       "          ...,\n",
       "          [1., 1., 1.,  ..., 1., 1., 1.],\n",
       "          [1., 1., 1.,  ..., 1., 1., 1.],\n",
       "          [1., 1., 1.,  ..., 1., 1., 1.]]]], device='cuda:0')"
      ]
     },
     "execution_count": 38,
     "metadata": {},
     "output_type": "execute_result"
    }
   ],
   "source": [
    "clean_spots(spot_mask[None,None,:])"
   ]
  },
  {
   "cell_type": "code",
   "execution_count": 36,
   "id": "87f12afd-94b2-4832-9f4d-8824de98777d",
   "metadata": {},
   "outputs": [],
   "source": [
    "plt.figure()\n",
    "plt.imshow(clean_spots(spot_mask[None,None,:]).cpu().numpy()[0][0], cmap='gray')\n",
    "plt.show()"
   ]
  },
  {
   "cell_type": "code",
   "execution_count": null,
   "id": "b98a3b61-f765-4992-afcf-e22cf1d93017",
   "metadata": {},
   "outputs": [],
   "source": []
  },
  {
   "cell_type": "code",
   "execution_count": null,
   "id": "4a00e7de-6074-4c77-9a5b-f2922151254b",
   "metadata": {},
   "outputs": [],
   "source": []
  },
  {
   "cell_type": "code",
   "execution_count": null,
   "id": "9404b47c-e2b3-4f5c-841d-dd0ec6ea7868",
   "metadata": {},
   "outputs": [],
   "source": [
    "def gen_image(shape=(100, 100)):\n",
    "    prob_dist = torch.ones(shape) * 0.5\n",
    "    dist = torch.distributions.bernoulli.Bernoulli(probs=prob_dist)\n",
    "    return dist.sample()[None, None, :]"
   ]
  },
  {
   "cell_type": "code",
   "execution_count": 80,
   "id": "f87a4e9d-6dee-4b63-8940-cdf646518d91",
   "metadata": {},
   "outputs": [],
   "source": [
    "image = gen_image()\n",
    "plt.figure()\n",
    "plt.imshow(image[0][0].numpy(), cmap='gray')\n",
    "plt.show()"
   ]
  },
  {
   "cell_type": "code",
   "execution_count": 81,
   "id": "cf72ff38-4041-4689-a53c-f36cbb329f08",
   "metadata": {},
   "outputs": [],
   "source": [
    "def clean_spots(image):\n",
    "    clean_kernel = torch.ones((1, 1, 3, 3)).to(image.device)\n",
    "    conved = F.conv2d(image, clean_kernel, padding='same')\n",
    "    image[conved == 1] = 0\n",
    "    return image"
   ]
  },
  {
   "cell_type": "code",
   "execution_count": null,
   "id": "afe05e98-1204-4819-94fb-52586e2b8e5b",
   "metadata": {},
   "outputs": [],
   "source": []
  },
  {
   "cell_type": "code",
   "execution_count": 82,
   "id": "75677b9e-d58e-4c0c-8d5f-aff405c8cbb8",
   "metadata": {},
   "outputs": [],
   "source": [
    "plt.figure()\n",
    "plt.imshow(clean_spots(image)[0][0].numpy(), cmap='gray')\n",
    "plt.show()"
   ]
  },
  {
   "cell_type": "code",
   "execution_count": 92,
   "id": "ceb8f1b4-295e-4662-a71d-f5d7ea9edbb5",
   "metadata": {},
   "outputs": [],
   "source": [
    "plt.figure()\n",
    "plt.imshow(image[0][0].numpy(), cmap='gray')\n",
    "plt.show()"
   ]
  },
  {
   "cell_type": "markdown",
   "id": "80b65e8c-8b68-417e-8965-0be23863f7b2",
   "metadata": {},
   "source": [
    "#### We do hbreak and vbreak at the same time, why not?"
   ]
  },
  {
   "cell_type": "code",
   "execution_count": 94,
   "id": "7742b7e5-6112-463d-b19c-16746dc1f34f",
   "metadata": {},
   "outputs": [],
   "source": [
    "def clean_hbreak(image):\n",
    "    kernel1 = torch.tensor([[1.0, 1.0, 1.0], [0.0, 1.0, 0.0], [1.0, 1.0, 1.0]])[None, None, :]\n",
    "    kernel2 = torch.tensor([[0.0, 0.0, 0.0], [1.0, 0.0, 1.0], [0.0, 0.0, 0.0]])[None, None, :]\n",
    "    conved1 = F.conv2d(image, kernel1, padding='same')\n",
    "    conved2 = F.conv2d(image, kernel2, padding='same')\n",
    "    result = torch.logical_and(conved1 == 7, conved2 == 2)\n",
    "    image[result] = 0\n",
    "    return image"
   ]
  },
  {
   "cell_type": "code",
   "execution_count": 95,
   "id": "222d5813-ae8d-4adc-aff6-e60b27cd8a9f",
   "metadata": {},
   "outputs": [],
   "source": [
    "def clean_vbreak(image):\n",
    "    kernel1 = torch.tensor([[1.0, 0.0, 1.0], [1.0, 1.0, 1.0], [1.0, 0.0, 1.0]])[None, None, :]\n",
    "    kernel2 = torch.tensor([[0.0, 1.0, 0.0], [0.0, 0.0, 0.0], [0.0, 1.0, 0.0]])[None, None, :]\n",
    "    conved1 = F.conv2d(image, kernel1, padding='same')\n",
    "    conved2 = F.conv2d(image, kernel2, padding='same')\n",
    "    result = torch.logical_and(conved1 == 7, conved2 == 2)\n",
    "    image[result] = 0\n",
    "    return image"
   ]
  },
  {
   "cell_type": "code",
   "execution_count": 39,
   "id": "816bc30d-4466-4135-894a-9b9e34f9e04f",
   "metadata": {},
   "outputs": [
    {
     "ename": "NameError",
     "evalue": "name 'image' is not defined",
     "output_type": "error",
     "traceback": [
      "\u001b[0;31m---------------------------------------------------------------------------\u001b[0m",
      "\u001b[0;31mNameError\u001b[0m                                 Traceback (most recent call last)",
      "Cell \u001b[0;32mIn[39], line 2\u001b[0m\n\u001b[1;32m      1\u001b[0m plt\u001b[38;5;241m.\u001b[39mfigure()\n\u001b[0;32m----> 2\u001b[0m plt\u001b[38;5;241m.\u001b[39mimshow(clean_hbreak(\u001b[43mimage\u001b[49m)[\u001b[38;5;241m0\u001b[39m][\u001b[38;5;241m0\u001b[39m]\u001b[38;5;241m.\u001b[39mnumpy(), cmap\u001b[38;5;241m=\u001b[39m\u001b[38;5;124m'\u001b[39m\u001b[38;5;124mgray\u001b[39m\u001b[38;5;124m'\u001b[39m)\n\u001b[1;32m      3\u001b[0m plt\u001b[38;5;241m.\u001b[39mshow()\n",
      "\u001b[0;31mNameError\u001b[0m: name 'image' is not defined"
     ]
    }
   ],
   "source": [
    "plt.figure()\n",
    "plt.imshow(clean_hbreak(image)[0][0].numpy(), cmap='gray')\n",
    "plt.show()"
   ]
  },
  {
   "cell_type": "code",
   "execution_count": 97,
   "id": "cc5e7c8c-536e-492b-a527-8c0a6f47bcce",
   "metadata": {},
   "outputs": [],
   "source": [
    "plt.figure()\n",
    "plt.imshow(clean_vbreak(image)[0][0].numpy(), cmap='gray')\n",
    "plt.show()"
   ]
  },
  {
   "cell_type": "code",
   "execution_count": null,
   "id": "93cc21e3-4024-47fd-a68d-2bc4b1dce32d",
   "metadata": {},
   "outputs": [],
   "source": []
  },
  {
   "cell_type": "code",
   "execution_count": null,
   "id": "4d0ea7f0-e41c-4081-a8fd-1626684165b3",
   "metadata": {},
   "outputs": [],
   "source": []
  },
  {
   "cell_type": "code",
   "execution_count": null,
   "id": "aa16735b-71b8-4464-a8d3-8f19169c1e87",
   "metadata": {},
   "outputs": [],
   "source": []
  },
  {
   "cell_type": "markdown",
   "id": "278e0b4a-0c9a-42e0-abef-c362877564ca",
   "metadata": {},
   "source": [
    "### Finding spot centroids"
   ]
  },
  {
   "cell_type": "code",
   "execution_count": 123,
   "id": "c25df025-4b22-44d0-bab2-bdc9585d9c52",
   "metadata": {},
   "outputs": [],
   "source": [
    "from skimage.measure import regionprops, label, regionprops_table"
   ]
  },
  {
   "cell_type": "code",
   "execution_count": 124,
   "id": "84778fc5-cc1d-4dda-ab1c-d04570d02124",
   "metadata": {},
   "outputs": [],
   "source": [
    "def find_spot_centroids(spot_bin_mask, fluor_image, min_spot_area=0, max_axes_ratio=1.7):\n",
    "    pass"
   ]
  },
  {
   "cell_type": "code",
   "execution_count": 133,
   "id": "734c0d26-81c8-4344-a0cb-2f8e99d3d8c5",
   "metadata": {},
   "outputs": [
    {
     "name": "stdout",
     "output_type": "stream",
     "text": [
      "356 ms ± 2.1 ms per loop (mean ± std. dev. of 7 runs, 1 loop each)\n"
     ]
    }
   ],
   "source": [
    "%timeit spot_stats = regionprops_table(label(bin_mask_cpu), fluor_img, properties=['centroid_weighted', 'axis_major_length', 'axis_minor_length', 'area', 'orientation', 'coords'])"
   ]
  },
  {
   "cell_type": "code",
   "execution_count": 164,
   "id": "bf0d7998-e995-4216-a1bb-8ca1a11065c1",
   "metadata": {},
   "outputs": [],
   "source": [
    "spot_stats = regionprops(label(bin_mask_cpu), fluor_img)"
   ]
  },
  {
   "cell_type": "code",
   "execution_count": 165,
   "id": "903b67b9-3640-4e27-b5a7-4f87836b93ee",
   "metadata": {},
   "outputs": [
    {
     "data": {
      "text/plain": [
       "1576"
      ]
     },
     "execution_count": 165,
     "metadata": {},
     "output_type": "execute_result"
    }
   ],
   "source": [
    "len(spot_stats)"
   ]
  },
  {
   "cell_type": "code",
   "execution_count": 173,
   "id": "1c5c5614-eb7e-44b7-930b-070a52a792b5",
   "metadata": {},
   "outputs": [],
   "source": [
    "min_spot_area = 5\n",
    "max_spot_area = 100\n",
    "max_axes_ratio = 1.7"
   ]
  },
  {
   "cell_type": "code",
   "execution_count": 174,
   "id": "25f4f3ec-9439-4247-a388-a42db914e6a6",
   "metadata": {},
   "outputs": [],
   "source": [
    "area = [(i, spot['area']) \n",
    "            for i, spot in enumerate(spot_stats) if spot['area'] >=  min_spot_area and spot['area'] <= max_spot_area ]"
   ]
  },
  {
   "cell_type": "code",
   "execution_count": 175,
   "id": "9d9061e3-646e-4b70-9928-0192cb410eed",
   "metadata": {},
   "outputs": [],
   "source": [
    "spots_filtered = [spot_stats[spot_idx] for spot_idx, spot_area in area]"
   ]
  },
  {
   "cell_type": "code",
   "execution_count": 176,
   "id": "2207a944-c0e9-463a-86c9-d32306aac333",
   "metadata": {},
   "outputs": [
    {
     "data": {
      "text/plain": [
       "1420"
      ]
     },
     "execution_count": 176,
     "metadata": {},
     "output_type": "execute_result"
    }
   ],
   "source": [
    "len(spots_filtered)"
   ]
  },
  {
   "cell_type": "code",
   "execution_count": 177,
   "id": "85b4e382-3e0e-4f38-845a-0fae4bf5ff7d",
   "metadata": {},
   "outputs": [],
   "source": [
    "axes_ratio = [spot['axis_major_length'] / spot['axis_minor_length'] for spot in spots_filtered]"
   ]
  },
  {
   "cell_type": "code",
   "execution_count": 183,
   "id": "7472426a-e44d-45d3-9b13-323bba6ab73c",
   "metadata": {},
   "outputs": [
    {
     "data": {
      "text/plain": [
       "(218.58425921621495, 489.79624378225094)"
      ]
     },
     "execution_count": 183,
     "metadata": {},
     "output_type": "execute_result"
    }
   ],
   "source": [
    "spots_filtered[3]['centroid_weighted']"
   ]
  },
  {
   "cell_type": "code",
   "execution_count": 185,
   "id": "7592e5e4-d781-4f07-b097-d1e663ffb33e",
   "metadata": {},
   "outputs": [],
   "source": [
    "overlap_indices = [idx for (idx, axes_ratio) in enumerate(axes_ratio) if axes_ratio > max_axes_ratio]"
   ]
  },
  {
   "cell_type": "code",
   "execution_count": 187,
   "id": "a2a05ad8-a2d4-4676-b79f-a337d070ab51",
   "metadata": {},
   "outputs": [
    {
     "data": {
      "text/plain": [
       "357"
      ]
     },
     "execution_count": 187,
     "metadata": {},
     "output_type": "execute_result"
    }
   ],
   "source": [
    "len(overlap_indices)"
   ]
  },
  {
   "cell_type": "code",
   "execution_count": 188,
   "id": "90d47d99-8440-4858-9cc9-0a5820170106",
   "metadata": {},
   "outputs": [
    {
     "data": {
      "text/plain": [
       "[0,\n",
       " 6,\n",
       " 7,\n",
       " 13,\n",
       " 18,\n",
       " 21,\n",
       " 22,\n",
       " 23,\n",
       " 25,\n",
       " 26,\n",
       " 29,\n",
       " 30,\n",
       " 36,\n",
       " 38,\n",
       " 42,\n",
       " 46,\n",
       " 57,\n",
       " 67,\n",
       " 70,\n",
       " 71,\n",
       " 76,\n",
       " 80,\n",
       " 88,\n",
       " 91,\n",
       " 101,\n",
       " 103,\n",
       " 110,\n",
       " 119,\n",
       " 121,\n",
       " 129,\n",
       " 132,\n",
       " 134,\n",
       " 137,\n",
       " 139,\n",
       " 142,\n",
       " 144,\n",
       " 148,\n",
       " 149,\n",
       " 150,\n",
       " 151,\n",
       " 159,\n",
       " 164,\n",
       " 168,\n",
       " 169,\n",
       " 178,\n",
       " 184,\n",
       " 186,\n",
       " 189,\n",
       " 193,\n",
       " 194,\n",
       " 198,\n",
       " 199,\n",
       " 200,\n",
       " 205,\n",
       " 210,\n",
       " 213,\n",
       " 215,\n",
       " 217,\n",
       " 220,\n",
       " 222,\n",
       " 224,\n",
       " 225,\n",
       " 226,\n",
       " 231,\n",
       " 232,\n",
       " 236,\n",
       " 238,\n",
       " 240,\n",
       " 241,\n",
       " 245,\n",
       " 248,\n",
       " 249,\n",
       " 250,\n",
       " 254,\n",
       " 255,\n",
       " 258,\n",
       " 259,\n",
       " 266,\n",
       " 267,\n",
       " 276,\n",
       " 277,\n",
       " 286,\n",
       " 291,\n",
       " 294,\n",
       " 298,\n",
       " 301,\n",
       " 304,\n",
       " 310,\n",
       " 318,\n",
       " 319,\n",
       " 322,\n",
       " 325,\n",
       " 326,\n",
       " 328,\n",
       " 329,\n",
       " 331,\n",
       " 333,\n",
       " 334,\n",
       " 353,\n",
       " 362,\n",
       " 367,\n",
       " 369,\n",
       " 370,\n",
       " 372,\n",
       " 374,\n",
       " 377,\n",
       " 380,\n",
       " 385,\n",
       " 394,\n",
       " 395,\n",
       " 400,\n",
       " 406,\n",
       " 413,\n",
       " 417,\n",
       " 422,\n",
       " 426,\n",
       " 431,\n",
       " 434,\n",
       " 440,\n",
       " 441,\n",
       " 443,\n",
       " 445,\n",
       " 448,\n",
       " 449,\n",
       " 452,\n",
       " 460,\n",
       " 469,\n",
       " 470,\n",
       " 472,\n",
       " 481,\n",
       " 483,\n",
       " 499,\n",
       " 505,\n",
       " 510,\n",
       " 527,\n",
       " 530,\n",
       " 532,\n",
       " 541,\n",
       " 548,\n",
       " 552,\n",
       " 554,\n",
       " 555,\n",
       " 559,\n",
       " 564,\n",
       " 567,\n",
       " 573,\n",
       " 576,\n",
       " 577,\n",
       " 579,\n",
       " 582,\n",
       " 585,\n",
       " 587,\n",
       " 590,\n",
       " 591,\n",
       " 594,\n",
       " 596,\n",
       " 608,\n",
       " 610,\n",
       " 618,\n",
       " 621,\n",
       " 622,\n",
       " 625,\n",
       " 631,\n",
       " 633,\n",
       " 639,\n",
       " 640,\n",
       " 648,\n",
       " 653,\n",
       " 655,\n",
       " 656,\n",
       " 659,\n",
       " 663,\n",
       " 666,\n",
       " 669,\n",
       " 673,\n",
       " 680,\n",
       " 690,\n",
       " 693,\n",
       " 695,\n",
       " 696,\n",
       " 699,\n",
       " 705,\n",
       " 707,\n",
       " 713,\n",
       " 725,\n",
       " 728,\n",
       " 729,\n",
       " 731,\n",
       " 736,\n",
       " 738,\n",
       " 750,\n",
       " 751,\n",
       " 753,\n",
       " 756,\n",
       " 771,\n",
       " 776,\n",
       " 777,\n",
       " 781,\n",
       " 783,\n",
       " 787,\n",
       " 790,\n",
       " 795,\n",
       " 796,\n",
       " 798,\n",
       " 801,\n",
       " 802,\n",
       " 809,\n",
       " 811,\n",
       " 813,\n",
       " 814,\n",
       " 815,\n",
       " 823,\n",
       " 826,\n",
       " 828,\n",
       " 830,\n",
       " 834,\n",
       " 838,\n",
       " 839,\n",
       " 842,\n",
       " 846,\n",
       " 849,\n",
       " 853,\n",
       " 855,\n",
       " 857,\n",
       " 869,\n",
       " 870,\n",
       " 871,\n",
       " 874,\n",
       " 879,\n",
       " 886,\n",
       " 887,\n",
       " 891,\n",
       " 893,\n",
       " 898,\n",
       " 899,\n",
       " 903,\n",
       " 904,\n",
       " 912,\n",
       " 917,\n",
       " 921,\n",
       " 924,\n",
       " 927,\n",
       " 930,\n",
       " 933,\n",
       " 935,\n",
       " 942,\n",
       " 951,\n",
       " 953,\n",
       " 956,\n",
       " 962,\n",
       " 963,\n",
       " 966,\n",
       " 967,\n",
       " 971,\n",
       " 973,\n",
       " 974,\n",
       " 978,\n",
       " 979,\n",
       " 984,\n",
       " 991,\n",
       " 992,\n",
       " 1000,\n",
       " 1002,\n",
       " 1003,\n",
       " 1004,\n",
       " 1006,\n",
       " 1010,\n",
       " 1027,\n",
       " 1032,\n",
       " 1040,\n",
       " 1044,\n",
       " 1056,\n",
       " 1059,\n",
       " 1062,\n",
       " 1071,\n",
       " 1073,\n",
       " 1080,\n",
       " 1081,\n",
       " 1082,\n",
       " 1092,\n",
       " 1093,\n",
       " 1097,\n",
       " 1100,\n",
       " 1103,\n",
       " 1104,\n",
       " 1110,\n",
       " 1114,\n",
       " 1119,\n",
       " 1125,\n",
       " 1137,\n",
       " 1138,\n",
       " 1140,\n",
       " 1142,\n",
       " 1146,\n",
       " 1147,\n",
       " 1150,\n",
       " 1152,\n",
       " 1154,\n",
       " 1161,\n",
       " 1163,\n",
       " 1169,\n",
       " 1179,\n",
       " 1182,\n",
       " 1185,\n",
       " 1187,\n",
       " 1191,\n",
       " 1199,\n",
       " 1202,\n",
       " 1204,\n",
       " 1205,\n",
       " 1206,\n",
       " 1208,\n",
       " 1212,\n",
       " 1216,\n",
       " 1217,\n",
       " 1227,\n",
       " 1228,\n",
       " 1232,\n",
       " 1238,\n",
       " 1241,\n",
       " 1242,\n",
       " 1249,\n",
       " 1251,\n",
       " 1253,\n",
       " 1256,\n",
       " 1260,\n",
       " 1263,\n",
       " 1266,\n",
       " 1268,\n",
       " 1274,\n",
       " 1281,\n",
       " 1282,\n",
       " 1286,\n",
       " 1294,\n",
       " 1307,\n",
       " 1316,\n",
       " 1318,\n",
       " 1327,\n",
       " 1329,\n",
       " 1343,\n",
       " 1344,\n",
       " 1345,\n",
       " 1361,\n",
       " 1363,\n",
       " 1364,\n",
       " 1365,\n",
       " 1366,\n",
       " 1369,\n",
       " 1373,\n",
       " 1374,\n",
       " 1392,\n",
       " 1397,\n",
       " 1402,\n",
       " 1411,\n",
       " 1412,\n",
       " 1413,\n",
       " 1419]"
      ]
     },
     "execution_count": 188,
     "metadata": {},
     "output_type": "execute_result"
    }
   ],
   "source": [
    "overlap_indices"
   ]
  },
  {
   "cell_type": "code",
   "execution_count": null,
   "id": "45fe23a2-d737-46df-91a4-38dbf7a8b4ab",
   "metadata": {},
   "outputs": [],
   "source": []
  },
  {
   "cell_type": "code",
   "execution_count": null,
   "id": "49982b6e-a4c4-4ddf-9c00-7d5378a9f729",
   "metadata": {},
   "outputs": [],
   "source": []
  },
  {
   "cell_type": "code",
   "execution_count": null,
   "id": "8ce5f226-90ea-49ce-b5be-1761c3ee0eaf",
   "metadata": {},
   "outputs": [],
   "source": []
  },
  {
   "cell_type": "code",
   "execution_count": null,
   "id": "0366fa01-6939-43dc-b93f-548fa0acd14a",
   "metadata": {},
   "outputs": [],
   "source": []
  },
  {
   "cell_type": "markdown",
   "id": "67d91279-4447-432f-99bb-a385fb0b7cd5",
   "metadata": {},
   "source": [
    "#### Working with examples"
   ]
  },
  {
   "cell_type": "code",
   "execution_count": 253,
   "id": "20d6be67-a115-4b1a-b00a-24aaeec16323",
   "metadata": {},
   "outputs": [],
   "source": [
    "def sd_intensity(regionmask):\n",
    "    print(f\"Region mask shape: {regionmask.shape}\")\n",
    "    return np.mean(regionmask)"
   ]
  },
  {
   "cell_type": "code",
   "execution_count": 260,
   "id": "68ca8ca0-4b55-48aa-bf8d-b97069000356",
   "metadata": {},
   "outputs": [],
   "source": [
    "import math\n",
    "import matplotlib.pyplot as plt\n",
    "import numpy as np\n",
    "import pandas as pd\n",
    "\n",
    "from skimage.draw import ellipse\n",
    "from skimage.measure import label, regionprops, regionprops_table\n",
    "from skimage.transform import rotate\n",
    "\n",
    "\n",
    "image = np.zeros((600, 600))\n",
    "\n",
    "rr, cc = ellipse(300, 350, 100, 220)\n",
    "image[rr, cc] = 1\n",
    "\n",
    "image = rotate(image, angle=-15, order=0)\n",
    "\n",
    "rr, cc = ellipse(100, 100, 60, 50)\n",
    "image[rr, cc] = 1\n",
    "\n",
    "label_img = label(image)\n",
    "regions = regionprops(label_img, extra_properties=(sd_intensity,))"
   ]
  },
  {
   "cell_type": "code",
   "execution_count": 255,
   "id": "f75cfd1d-0820-4d06-a2d7-c6984ff352ea",
   "metadata": {},
   "outputs": [],
   "source": [
    "regions = regionprops(label_img, extra_properties=(sd_intensity,))"
   ]
  },
  {
   "cell_type": "code",
   "execution_count": 257,
   "id": "53fb464c-24a7-40ac-a8c4-b9e1a6857f34",
   "metadata": {},
   "outputs": [
    {
     "name": "stdout",
     "output_type": "stream",
     "text": [
      "Region mask shape: (119, 99)\n"
     ]
    },
    {
     "data": {
      "text/plain": [
       "0.7973007384772091"
      ]
     },
     "execution_count": 257,
     "metadata": {},
     "output_type": "execute_result"
    }
   ],
   "source": [
    "regions[0].sd_intensity"
   ]
  },
  {
   "cell_type": "code",
   "execution_count": 258,
   "id": "73b1879f-9b68-4a32-b4da-15ac566375ad",
   "metadata": {},
   "outputs": [
    {
     "name": "stdout",
     "output_type": "stream",
     "text": [
      "Region mask shape: (225, 429)\n"
     ]
    },
    {
     "data": {
      "text/plain": [
       "0.7155969955969956"
      ]
     },
     "execution_count": 258,
     "metadata": {},
     "output_type": "execute_result"
    }
   ],
   "source": [
    "regions[1].sd_intensity"
   ]
  },
  {
   "cell_type": "code",
   "execution_count": 251,
   "id": "772bf181-9f78-4325-9491-c66750592df1",
   "metadata": {},
   "outputs": [
    {
     "data": {
      "text/plain": [
       "<function __main__.sd_intensity(regionmask)>"
      ]
     },
     "execution_count": 251,
     "metadata": {},
     "output_type": "execute_result"
    }
   ],
   "source": [
    "sd_intensity"
   ]
  },
  {
   "cell_type": "code",
   "execution_count": 252,
   "id": "3c825e61-c169-4c07-a1c3-dd66c3f797ed",
   "metadata": {},
   "outputs": [
    {
     "data": {
      "text/plain": [
       "['area',\n",
       " 'area_bbox',\n",
       " 'area_convex',\n",
       " 'area_filled',\n",
       " 'axis_major_length',\n",
       " 'axis_minor_length',\n",
       " 'bbox',\n",
       " 'centroid',\n",
       " 'centroid_local',\n",
       " 'coords',\n",
       " 'eccentricity',\n",
       " 'equivalent_diameter_area',\n",
       " 'euler_number',\n",
       " 'extent',\n",
       " 'feret_diameter_max',\n",
       " 'image',\n",
       " 'image_convex',\n",
       " 'image_filled',\n",
       " 'inertia_tensor',\n",
       " 'inertia_tensor_eigvals',\n",
       " 'label',\n",
       " 'moments',\n",
       " 'moments_central',\n",
       " 'moments_hu',\n",
       " 'moments_normalized',\n",
       " 'orientation',\n",
       " 'perimeter',\n",
       " 'perimeter_crofton',\n",
       " 'slice',\n",
       " 'solidity']"
      ]
     },
     "execution_count": 252,
     "metadata": {},
     "output_type": "execute_result"
    }
   ],
   "source": [
    "list(regions[0])"
   ]
  },
  {
   "cell_type": "code",
   "execution_count": 244,
   "id": "7d64e7a7-67cb-4a31-aa2f-bc51794b9a84",
   "metadata": {},
   "outputs": [],
   "source": [
    "plt.figure()\n",
    "plt.imshow(label_img)\n",
    "plt.show()"
   ]
  },
  {
   "cell_type": "code",
   "execution_count": 245,
   "id": "4965812b-6475-4375-a14d-444262422a44",
   "metadata": {},
   "outputs": [
    {
     "data": {
      "text/plain": [
       "1"
      ]
     },
     "execution_count": 245,
     "metadata": {},
     "output_type": "execute_result"
    }
   ],
   "source": [
    "regions[0].label"
   ]
  },
  {
   "cell_type": "code",
   "execution_count": 246,
   "id": "08d3d96c-6166-4f7c-8099-4c204ced98fb",
   "metadata": {},
   "outputs": [
    {
     "data": {
      "text/plain": [
       "2"
      ]
     },
     "execution_count": 246,
     "metadata": {},
     "output_type": "execute_result"
    }
   ],
   "source": [
    "regions[1].label"
   ]
  },
  {
   "cell_type": "code",
   "execution_count": null,
   "id": "1df3a096-16ca-47f6-8273-d175bea8257e",
   "metadata": {},
   "outputs": [],
   "source": []
  },
  {
   "cell_type": "code",
   "execution_count": null,
   "id": "fce33573-3040-4626-85c0-c1ea97e2ab4e",
   "metadata": {},
   "outputs": [],
   "source": [
    "def sd_intensity(region"
   ]
  },
  {
   "cell_type": "code",
   "execution_count": null,
   "id": "7bdc0321-82d3-4d69-bc83-2ea6eff3dafb",
   "metadata": {},
   "outputs": [],
   "source": []
  },
  {
   "cell_type": "code",
   "execution_count": 211,
   "id": "b1cb23c3-f69f-4e5c-ab8e-ed0e67260dc6",
   "metadata": {},
   "outputs": [
    {
     "data": {
      "text/plain": [
       "array([[0, 0, 0, ..., 0, 0, 0],\n",
       "       [0, 0, 0, ..., 0, 0, 0],\n",
       "       [0, 0, 0, ..., 0, 0, 0],\n",
       "       ...,\n",
       "       [0, 0, 0, ..., 0, 0, 0],\n",
       "       [0, 0, 0, ..., 0, 0, 0],\n",
       "       [0, 0, 0, ..., 0, 0, 0]])"
      ]
     },
     "execution_count": 211,
     "metadata": {},
     "output_type": "execute_result"
    }
   ],
   "source": [
    "label_img"
   ]
  },
  {
   "cell_type": "code",
   "execution_count": 212,
   "id": "3e889a43-4a1c-4b6d-aed4-b93188678d3a",
   "metadata": {},
   "outputs": [],
   "source": [
    "plt.figure()\n",
    "plt.imshow(label_img)\n",
    "plt.show()"
   ]
  },
  {
   "cell_type": "code",
   "execution_count": 201,
   "id": "7c105ff5-2962-4198-b1a9-eaa9e240793b",
   "metadata": {},
   "outputs": [],
   "source": [
    "from skimage.io import imsave"
   ]
  },
  {
   "cell_type": "code",
   "execution_count": 208,
   "id": "5956b09d-bc08-4881-a6c0-e15eeec5f603",
   "metadata": {},
   "outputs": [],
   "source": [
    "imsave(Path('/home/pk/Documents/waveletCode/data/test.tiff'), label_img.astype('uint16'),\n",
    "           plugin='tifffile', check_contrast=False)"
   ]
  },
  {
   "cell_type": "code",
   "execution_count": 220,
   "id": "b93748e9-22a6-4d0b-9c93-fe2879b6c713",
   "metadata": {},
   "outputs": [
    {
     "name": "stdout",
     "output_type": "stream",
     "text": [
      "(y0, x0): (100.0, 100.0)\n",
      "Orientation: 0.0\n",
      "(y0, x0): (313.0515975851635, 348.1505219116008)\n",
      "Orientation: 1.3089215222380706\n"
     ]
    }
   ],
   "source": [
    "fig, ax = plt.subplots()\n",
    "ax.imshow(image, cmap=plt.cm.gray)\n",
    "\n",
    "for props in regions:\n",
    "    y0, x0 = props.centroid\n",
    "    print(f\"(y0, x0): ({y0}, {x0})\")\n",
    "    orientation = props.orientation\n",
    "    print(f\"Orientation: {orientation}\")\n",
    "    x1 = x0 + math.cos(orientation) * 0.5 * props.axis_minor_length\n",
    "    y1 = y0 - math.sin(orientation) * 0.5 * props.axis_minor_length\n",
    "    x2 = x0 - math.sin(orientation) * 0.5 * props.axis_major_length\n",
    "    y2 = y0 - math.cos(orientation) * 0.5 * props.axis_major_length\n",
    "\n",
    "    ax.plot((x0, x1), (y0, y1), '-k', linewidth=2.5)\n",
    "    ax.plot((x0, x2), (y0, y2), '-r', linewidth=2.5)\n",
    "    ax.plot(x0, y0, '.g', markersize=15)\n",
    "\n",
    "    minr, minc, maxr, maxc = props.bbox\n",
    "    bx = (minc, maxc, maxc, minc, minc)\n",
    "    by = (minr, minr, maxr, maxr, minr)\n",
    "    ax.plot(bx, by, '-b', linewidth=2.5)\n",
    "\n",
    "ax.axis((0, 600, 600, 0))\n",
    "plt.show()"
   ]
  },
  {
   "cell_type": "code",
   "execution_count": 197,
   "id": "d5733ebc-b296-452d-bcf5-ba3f455473c1",
   "metadata": {},
   "outputs": [
    {
     "data": {
      "text/plain": [
       "-74.94287960311168"
      ]
     },
     "execution_count": 197,
     "metadata": {},
     "output_type": "execute_result"
    }
   ],
   "source": [
    "-1.308 * 180 / math.pi"
   ]
  },
  {
   "cell_type": "code",
   "execution_count": 219,
   "id": "6ca7dfdb-4bb8-4d0b-8168-f2dc1e49ecdf",
   "metadata": {},
   "outputs": [
    {
     "data": {
      "text/plain": [
       "['area',\n",
       " 'area_bbox',\n",
       " 'area_convex',\n",
       " 'area_filled',\n",
       " 'axis_major_length',\n",
       " 'axis_minor_length',\n",
       " 'bbox',\n",
       " 'centroid',\n",
       " 'centroid_local',\n",
       " 'coords',\n",
       " 'eccentricity',\n",
       " 'equivalent_diameter_area',\n",
       " 'euler_number',\n",
       " 'extent',\n",
       " 'feret_diameter_max',\n",
       " 'image',\n",
       " 'image_convex',\n",
       " 'image_filled',\n",
       " 'inertia_tensor',\n",
       " 'inertia_tensor_eigvals',\n",
       " 'label',\n",
       " 'moments',\n",
       " 'moments_central',\n",
       " 'moments_hu',\n",
       " 'moments_normalized',\n",
       " 'orientation',\n",
       " 'perimeter',\n",
       " 'perimeter_crofton',\n",
       " 'slice',\n",
       " 'solidity']"
      ]
     },
     "execution_count": 219,
     "metadata": {},
     "output_type": "execute_result"
    }
   ],
   "source": [
    "list(regions[0])"
   ]
  },
  {
   "cell_type": "code",
   "execution_count": 261,
   "id": "341a41cf-4b99-4c6d-8986-1a26b6c19d7f",
   "metadata": {},
   "outputs": [],
   "source": [
    "import cv2"
   ]
  },
  {
   "cell_type": "code",
   "execution_count": 262,
   "id": "97d1d16a-14c7-44a4-8e84-2eb508332dec",
   "metadata": {},
   "outputs": [
    {
     "data": {
      "text/plain": [
       "array([[0, 0, 1, 0, 0],\n",
       "       [1, 1, 1, 1, 1],\n",
       "       [1, 1, 1, 1, 1],\n",
       "       [1, 1, 1, 1, 1],\n",
       "       [0, 0, 1, 0, 0]], dtype=uint8)"
      ]
     },
     "execution_count": 262,
     "metadata": {},
     "output_type": "execute_result"
    }
   ],
   "source": [
    "cv2.getStructuringElement(cv2.MORPH_ELLIPSE,(5,5))"
   ]
  },
  {
   "cell_type": "code",
   "execution_count": null,
   "id": "416c83d0-9681-4a7a-8785-e62bd8dd7024",
   "metadata": {},
   "outputs": [],
   "source": []
  },
  {
   "cell_type": "code",
   "execution_count": null,
   "id": "6ddebb8c-78fb-4cbd-a3e5-ba4a485af359",
   "metadata": {},
   "outputs": [],
   "source": []
  }
 ],
 "metadata": {
  "kernelspec": {
   "display_name": "Python 3 (ipykernel)",
   "language": "python",
   "name": "python3"
  },
  "language_info": {
   "codemirror_mode": {
    "name": "ipython",
    "version": 3
   },
   "file_extension": ".py",
   "mimetype": "text/x-python",
   "name": "python",
   "nbconvert_exporter": "python",
   "pygments_lexer": "ipython3",
   "version": "3.11.0rc1"
  }
 },
 "nbformat": 4,
 "nbformat_minor": 5
}
