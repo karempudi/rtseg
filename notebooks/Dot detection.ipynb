{
 "cells": [
  {
   "cell_type": "code",
   "execution_count": 1,
   "id": "ee028ce4-0874-4827-995a-ce26fae5d28c",
   "metadata": {},
   "outputs": [],
   "source": [
    "import numpy as np\n",
    "import torch\n",
    "import matplotlib.pyplot as plt\n",
    "import pathlib\n",
    "from pathlib import Path\n",
    "from skimage.io import imread\n",
    "import torch.nn.functional as F\n",
    "%matplotlib qt5"
   ]
  },
  {
   "cell_type": "code",
   "execution_count": 2,
   "id": "101226ce-bb77-4e2e-8ce0-0e5a70a87806",
   "metadata": {},
   "outputs": [],
   "source": [
    "def get_dots_wavelet(image, noise_threshold, segmentation_mask,\n",
    "                    min_spot_area, max_axes_ratio):\n",
    "    \"\"\"\n",
    "    A function that outputs (x, y) coordinates of the dots in an image\n",
    "    Args:\n",
    "        image (np.ndarray): an image \n",
    "        noise_threshold:\n",
    "        segmentation_mask:\n",
    "        min_spot_area:\n",
    "        max_axes_ratio:\n",
    "        \n",
    "\n",
    "    Returns:\n",
    "        dot_coords(np.ndarray): a numpy array of shape (N x 2) where n is the number\n",
    "                    of dots in the image, and each row is (x_coordinate, y_coordinate)\n",
    "    \"\"\"\n",
    "    # detect spots\n",
    "\n",
    "    # find weighted centroid of the spots\n",
    "    \n",
    "    pass"
   ]
  },
  {
   "cell_type": "code",
   "execution_count": 3,
   "id": "323711a6-7b8f-4ee1-a0c4-0e01a4aac67b",
   "metadata": {},
   "outputs": [],
   "source": [
    "def wavelet_spot_dectect(image):\n",
    "    \"\"\"\n",
    "    \n",
    "\n",
    "    Returns:\n",
    "        binary_mask (np.ndarray or torch.Tensor): \n",
    "    \"\"\"\n",
    "    pass"
   ]
  },
  {
   "cell_type": "code",
   "execution_count": null,
   "id": "1999636f-cd69-43f4-9ec0-e4f2329bf2e5",
   "metadata": {},
   "outputs": [],
   "source": [
    "def ATrousTransform(image, levels):\n",
    "    pass"
   ]
  },
  {
   "cell_type": "markdown",
   "id": "85dd4ea5-633a-4612-98de-77b8c6fa2333",
   "metadata": {},
   "source": [
    "#### Hard coded constants"
   ]
  },
  {
   "cell_type": "code",
   "execution_count": 5,
   "id": "4c255ce8-6b54-4609-8c8a-eb7fed8ea215",
   "metadata": {},
   "outputs": [],
   "source": [
    "waveletPlanes = 2\n",
    "levels = 3"
   ]
  },
  {
   "cell_type": "code",
   "execution_count": 6,
   "id": "e0982193-ff58-4785-b4ae-9c45a547eb0f",
   "metadata": {},
   "outputs": [],
   "source": [
    "fluor_image_path = Path('/home/pk/Documents/waveletCode/data/img_000000000.tiff')"
   ]
  },
  {
   "cell_type": "code",
   "execution_count": 7,
   "id": "547dbf1b-2187-46c4-82b6-4597430a95b7",
   "metadata": {},
   "outputs": [],
   "source": [
    "fluor_img = imread(fluor_image_path).astype('float32')"
   ]
  },
  {
   "cell_type": "code",
   "execution_count": 8,
   "id": "81501070-bc87-42d3-b2e6-523bcca6c301",
   "metadata": {},
   "outputs": [],
   "source": [
    "plt.figure()\n",
    "plt.imshow(fluor_img, cmap='gray')\n",
    "plt.show()"
   ]
  },
  {
   "cell_type": "code",
   "execution_count": 9,
   "id": "2fb09e23-7f7c-45c4-8fe6-2dc1c1e50582",
   "metadata": {},
   "outputs": [
    {
     "data": {
      "text/plain": [
       "((1404, 3200), dtype('float32'))"
      ]
     },
     "execution_count": 9,
     "metadata": {},
     "output_type": "execute_result"
    }
   ],
   "source": [
    "fluor_img.shape, fluor_img.dtype"
   ]
  },
  {
   "cell_type": "code",
   "execution_count": 10,
   "id": "27faebcc-8b6b-4265-9a0c-2e9ead8cbb9a",
   "metadata": {},
   "outputs": [],
   "source": [
    "plt.figure()\n",
    "plt.imshow(2*np.sqrt(fluor_img+3/8))\n",
    "plt.show()"
   ]
  },
  {
   "cell_type": "code",
   "execution_count": 11,
   "id": "514d0da9-fb3a-4352-955a-3236bbd355a3",
   "metadata": {},
   "outputs": [],
   "source": [
    "fluor_img_tensor = torch.from_numpy(fluor_img)\n",
    "anscombe_trans_tensor = 2 * torch.sqrt(fluor_img_tensor + 3/8)"
   ]
  },
  {
   "cell_type": "code",
   "execution_count": 12,
   "id": "4e9fa3a2-fef6-4dfa-b2de-5757127468c3",
   "metadata": {},
   "outputs": [],
   "source": [
    "anscombe_trans_tensor = 2 * torch.sqrt(fluor_img_tensor + 3/8)"
   ]
  },
  {
   "cell_type": "code",
   "execution_count": 13,
   "id": "3022f604-e690-4bd9-b1dc-ebad35f5f0fb",
   "metadata": {},
   "outputs": [],
   "source": [
    "anscombe_trans_image = 2 * np.sqrt(fluor_img+3/8)"
   ]
  },
  {
   "cell_type": "code",
   "execution_count": 14,
   "id": "c119cb98-0bf8-416c-8350-311e2cb36022",
   "metadata": {},
   "outputs": [
    {
     "data": {
      "text/plain": [
       "device(type='cpu')"
      ]
     },
     "execution_count": 14,
     "metadata": {},
     "output_type": "execute_result"
    }
   ],
   "source": [
    "anscombe_trans_tensor.device"
   ]
  },
  {
   "cell_type": "markdown",
   "id": "4440d23f-4a09-4382-b581-03f521fccf09",
   "metadata": {},
   "source": [
    "### A trous transform"
   ]
  },
  {
   "cell_type": "code",
   "execution_count": 15,
   "id": "6b4b5c5d-ffb3-46d5-b185-70e6f21432de",
   "metadata": {},
   "outputs": [],
   "source": [
    "def atrous_transform(anscombe_image, levels: int = 3, device='cpu'):\n",
    "    \"\"\"\n",
    "    \n",
    "    Args:\n",
    "\n",
    "    Returns:\n",
    "        \n",
    "    \"\"\"\n",
    "    H, W = anscombe_image.shape\n",
    "    \n",
    "    #print(f\"Anscombe image shape: {H}x{W}\")\n",
    "    wavelet_planes = torch.zeros((levels+1, H, W), device=device)\n",
    "    base_kernel1 = (1/16) * torch.tensor([1, 4, 6, 4, 1], device=device)\n",
    "    base_kernel2 = (1/16) * torch.tensor([1, 0, 4, 0, 6, 0, 4, 0, 1], device=device)\n",
    "    base_kernel3 = (1/16) * torch.tensor([1, 0, 0, 0, 4, 0, 0, 0, 6, 0, 0, 0, 4, 0, 0, 0, 1],\n",
    "                                        device=device)\n",
    "    \n",
    "    kernel1 = (base_kernel1[:, None] * base_kernel1[None, :])[None, None, :]\n",
    "    kernel2 = (base_kernel2[:, None] * base_kernel2[None, :])[None, None, :]\n",
    "    kernel3 = (base_kernel3[:, None] * base_kernel3[None, :])[None, None, :]\n",
    "    #kernel1.to(device)\n",
    "    #kernel2.to(device)\n",
    "    #kernel3.to(device)\n",
    "\n",
    "    input_tensor = anscombe_image[None, None,:].to(device)\n",
    "    last_tensor = torch.Tensor(input_tensor)\n",
    "    \n",
    "    out_tensor1 = F.conv2d(last_tensor, kernel1, padding='same')\n",
    "    wavelet_planes[0] = (input_tensor - out_tensor1)[:, :]\n",
    "    last_tensor = out_tensor1\n",
    "    out_tensor2 = F.conv2d(last_tensor, kernel2, padding='same')\n",
    "    wavelet_planes[1] = (last_tensor - out_tensor2)[:, :]\n",
    "    last_tensor = out_tensor2\n",
    "    out_tensor3 = F.conv2d(last_tensor, kernel3, padding='same')\n",
    "    wavelet_planes[2] = (last_tensor - out_tensor3)[:, :]\n",
    "    last_tensor = out_tensor3\n",
    "    wavelet_planes[3] = last_tensor\n",
    "\n",
    "    return wavelet_planes"
   ]
  },
  {
   "cell_type": "code",
   "execution_count": 16,
   "id": "29269f32-4c1c-48a1-abe3-f3ed13a26b36",
   "metadata": {},
   "outputs": [],
   "source": [
    "w = atrous_transform(anscombe_trans_tensor, device='cpu')"
   ]
  },
  {
   "cell_type": "code",
   "execution_count": 17,
   "id": "60049e37-5135-48c2-800d-83b250228360",
   "metadata": {},
   "outputs": [
    {
     "name": "stdout",
     "output_type": "stream",
     "text": [
      "2.02 s ± 228 ms per loop (mean ± std. dev. of 7 runs, 1 loop each)\n"
     ]
    }
   ],
   "source": [
    "%timeit w = atrous_transform(anscombe_trans_tensor, device='cpu')"
   ]
  },
  {
   "cell_type": "code",
   "execution_count": 18,
   "id": "ecdc14cd-1c4e-4d9b-a309-f91f4620ee4b",
   "metadata": {},
   "outputs": [],
   "source": [
    "w_gpu = atrous_transform(anscombe_trans_tensor, device='cuda:0')"
   ]
  },
  {
   "cell_type": "code",
   "execution_count": 19,
   "id": "66c91cff-2b11-40f4-a70c-42542b7c773b",
   "metadata": {},
   "outputs": [
    {
     "name": "stdout",
     "output_type": "stream",
     "text": [
      "3.15 ms ± 96.3 µs per loop (mean ± std. dev. of 7 runs, 100 loops each)\n"
     ]
    }
   ],
   "source": [
    "%timeit w_gpu = atrous_transform(anscombe_trans_tensor, device='cuda:0')"
   ]
  },
  {
   "cell_type": "code",
   "execution_count": 20,
   "id": "b5f89119-3087-42d8-bb8c-8364ec395be9",
   "metadata": {},
   "outputs": [
    {
     "data": {
      "text/plain": [
       "(device(type='cpu'), device(type='cuda', index=0))"
      ]
     },
     "execution_count": 20,
     "metadata": {},
     "output_type": "execute_result"
    }
   ],
   "source": [
    "w.device, w_gpu.device"
   ]
  },
  {
   "cell_type": "code",
   "execution_count": 21,
   "id": "e1a737f5-e103-4cd7-8e1e-8aecbc9ef55b",
   "metadata": {},
   "outputs": [
    {
     "data": {
      "text/plain": [
       "tensor(1.9073e-05)"
      ]
     },
     "execution_count": 21,
     "metadata": {},
     "output_type": "execute_result"
    }
   ],
   "source": [
    "torch.max(torch.abs((w - w_gpu.cpu()))) "
   ]
  },
  {
   "cell_type": "code",
   "execution_count": 22,
   "id": "08e8347c-8672-4a0a-a805-68d12f61d8ec",
   "metadata": {},
   "outputs": [],
   "source": [
    "def plot_wavelets(wavelet_planes):\n",
    "    fig, ax = plt.subplots(nrows=2, ncols=2)\n",
    "    for i in range(4):\n",
    "        ax[i//2, i % 2].imshow(wavelet_planes[i].numpy())\n",
    "        ax[i//2, i % 2].set_title(f\"i = {i}th plane\")\n",
    "    plt.show()"
   ]
  },
  {
   "cell_type": "code",
   "execution_count": 23,
   "id": "4fd4e65c-b994-4723-9494-4f3f72ae0950",
   "metadata": {},
   "outputs": [],
   "source": [
    "plot_wavelets(w_gpu.cpu())"
   ]
  },
  {
   "cell_type": "code",
   "execution_count": 24,
   "id": "562c797b-58a5-44b9-bb16-8cc4bdb6bb41",
   "metadata": {},
   "outputs": [],
   "source": [
    "plot_wavelets(w)"
   ]
  },
  {
   "cell_type": "code",
   "execution_count": null,
   "id": "871b4c5c-ed77-44cb-98f5-aa5bada5927b",
   "metadata": {},
   "outputs": [],
   "source": []
  },
  {
   "cell_type": "markdown",
   "id": "21255200-73e4-48cb-be8e-47a1dae7c9e0",
   "metadata": {},
   "source": [
    "#### Construction binary mask of the spots using the wavelet planes"
   ]
  },
  {
   "cell_type": "code",
   "execution_count": 25,
   "id": "673ca9d1-6dd9-40f6-9171-f177b31d6f99",
   "metadata": {},
   "outputs": [],
   "source": [
    "def filter_image():\n",
    "    pass"
   ]
  },
  {
   "cell_type": "code",
   "execution_count": null,
   "id": "69d89892-8033-4ab2-b4c9-189467c8e290",
   "metadata": {},
   "outputs": [],
   "source": [
    "def construct_binary_spot_mask():\n",
    "    pass"
   ]
  },
  {
   "cell_type": "code",
   "execution_count": null,
   "id": "910dd074-6ea2-40e2-b8f6-80bb7a2d2e43",
   "metadata": {},
   "outputs": [],
   "source": []
  },
  {
   "cell_type": "code",
   "execution_count": null,
   "id": "c1ebf4bc-86c2-483c-8b3e-c6e4fbecf4f8",
   "metadata": {},
   "outputs": [],
   "source": []
  },
  {
   "cell_type": "code",
   "execution_count": null,
   "id": "96433a76-2a06-4e57-8225-4ea95ae2b665",
   "metadata": {},
   "outputs": [],
   "source": []
  }
 ],
 "metadata": {
  "kernelspec": {
   "display_name": "Python 3 (ipykernel)",
   "language": "python",
   "name": "python3"
  },
  "language_info": {
   "codemirror_mode": {
    "name": "ipython",
    "version": 3
   },
   "file_extension": ".py",
   "mimetype": "text/x-python",
   "name": "python",
   "nbconvert_exporter": "python",
   "pygments_lexer": "ipython3",
   "version": "3.11.0rc1"
  }
 },
 "nbformat": 4,
 "nbformat_minor": 5
}
