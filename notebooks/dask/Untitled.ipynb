{
 "cells": [
  {
   "cell_type": "code",
   "execution_count": 1,
   "id": "30efb40e-9371-49c7-b6e1-72f8c5dd1f70",
   "metadata": {},
   "outputs": [],
   "source": [
    "from typing import List"
   ]
  },
  {
   "cell_type": "code",
   "execution_count": 12,
   "id": "ee24c273-2374-4b10-9684-291c8bddf9cf",
   "metadata": {},
   "outputs": [],
   "source": [
    "class Solution:\n",
    "    def lengthOfLongestSubstring(self, s: str) -> int:\n",
    "        \n",
    "        substr = []\n",
    "        max_len = 0\n",
    "        for i, c in enumerate(s):\n",
    "            # if c in current set \n",
    "            # move left window to the end until you find the current \n",
    "            # character, then add it to the\n",
    "            #print(substr)\n",
    "            if c not in substr:\n",
    "                substr.append(c)\n",
    "                max_len = max(max_len, len(substr))\n",
    "            elif c in substr:\n",
    "                # remove all elements until you find the dubplicate\n",
    "                for i, subc in enumerate(substr):\n",
    "                    if subc == c:\n",
    "                        substr = substr[i:]\n",
    "                        break\n",
    "                # adding c to substr\n",
    "                substr.pop(0)\n",
    "                substr.append(c)\n",
    "                max_len = max(max_len, len(substr))\n",
    "            print(substr)\n",
    "        return max_len\n",
    "                    "
   ]
  },
  {
   "cell_type": "code",
   "execution_count": 13,
   "id": "a5123c66-9dc4-492f-985a-caf3b28635e6",
   "metadata": {},
   "outputs": [],
   "source": [
    "s = Solution()"
   ]
  },
  {
   "cell_type": "code",
   "execution_count": 14,
   "id": "87b09545-7ed4-4476-add7-d38e6b9924c5",
   "metadata": {},
   "outputs": [
    {
     "name": "stdout",
     "output_type": "stream",
     "text": [
      "['z']\n",
      "['z', 'x']\n",
      "['z', 'x', 'y']\n",
      "['x', 'y', 'z']\n",
      "['y', 'z', 'x']\n",
      "['z', 'x', 'y']\n",
      "['x', 'y', 'z']\n"
     ]
    },
    {
     "data": {
      "text/plain": [
       "3"
      ]
     },
     "execution_count": 14,
     "metadata": {},
     "output_type": "execute_result"
    }
   ],
   "source": [
    "s.lengthOfLongestSubstring(\"zxyzxyz\")"
   ]
  },
  {
   "cell_type": "code",
   "execution_count": null,
   "id": "0450f1cb-ff13-4964-be3a-f5cba1be040f",
   "metadata": {},
   "outputs": [],
   "source": []
  }
 ],
 "metadata": {
  "kernelspec": {
   "display_name": "Python 3 (ipykernel)",
   "language": "python",
   "name": "python3"
  },
  "language_info": {
   "codemirror_mode": {
    "name": "ipython",
    "version": 3
   },
   "file_extension": ".py",
   "mimetype": "text/x-python",
   "name": "python",
   "nbconvert_exporter": "python",
   "pygments_lexer": "ipython3",
   "version": "3.11.0rc1"
  }
 },
 "nbformat": 4,
 "nbformat_minor": 5
}
