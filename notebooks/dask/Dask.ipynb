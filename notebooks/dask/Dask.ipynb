{
 "cells": [
  {
   "cell_type": "code",
   "execution_count": 1,
   "id": "3d0b3f4a-17b5-40aa-aafa-2a3af56079f7",
   "metadata": {
    "editable": true,
    "slideshow": {
     "slide_type": ""
    },
    "tags": []
   },
   "outputs": [
    {
     "data": {
      "text/html": [
       "<div>\n",
       "    <div style=\"width: 24px; height: 24px; background-color: #e1e1e1; border: 3px solid #9D9D9D; border-radius: 5px; position: absolute;\"> </div>\n",
       "    <div style=\"margin-left: 48px;\">\n",
       "        <h3 style=\"margin-bottom: 0px;\">Client</h3>\n",
       "        <p style=\"color: #9D9D9D; margin-bottom: 0px;\">Client-046ce022-5583-11ef-906d-c3c9c6d3ff32</p>\n",
       "        <table style=\"width: 100%; text-align: left;\">\n",
       "\n",
       "        <tr>\n",
       "        \n",
       "            <td style=\"text-align: left;\"><strong>Connection method:</strong> Cluster object</td>\n",
       "            <td style=\"text-align: left;\"><strong>Cluster type:</strong> distributed.LocalCluster</td>\n",
       "        \n",
       "        </tr>\n",
       "\n",
       "        \n",
       "            <tr>\n",
       "                <td style=\"text-align: left;\">\n",
       "                    <strong>Dashboard: </strong> <a href=\"http://127.0.0.1:8787/status\" target=\"_blank\">http://127.0.0.1:8787/status</a>\n",
       "                </td>\n",
       "                <td style=\"text-align: left;\"></td>\n",
       "            </tr>\n",
       "        \n",
       "\n",
       "        </table>\n",
       "\n",
       "        \n",
       "            <button style=\"margin-bottom: 12px;\" data-commandlinker-command=\"dask:populate-and-launch-layout\" data-commandlinker-args='{\"url\": \"http://127.0.0.1:8787/status\" }'>\n",
       "                Launch dashboard in JupyterLab\n",
       "            </button>\n",
       "        \n",
       "\n",
       "        \n",
       "            <details>\n",
       "            <summary style=\"margin-bottom: 20px;\"><h3 style=\"display: inline;\">Cluster Info</h3></summary>\n",
       "            <div class=\"jp-RenderedHTMLCommon jp-RenderedHTML jp-mod-trusted jp-OutputArea-output\">\n",
       "    <div style=\"width: 24px; height: 24px; background-color: #e1e1e1; border: 3px solid #9D9D9D; border-radius: 5px; position: absolute;\">\n",
       "    </div>\n",
       "    <div style=\"margin-left: 48px;\">\n",
       "        <h3 style=\"margin-bottom: 0px; margin-top: 0px;\">LocalCluster</h3>\n",
       "        <p style=\"color: #9D9D9D; margin-bottom: 0px;\">f39b5947</p>\n",
       "        <table style=\"width: 100%; text-align: left;\">\n",
       "            <tr>\n",
       "                <td style=\"text-align: left;\">\n",
       "                    <strong>Dashboard:</strong> <a href=\"http://127.0.0.1:8787/status\" target=\"_blank\">http://127.0.0.1:8787/status</a>\n",
       "                </td>\n",
       "                <td style=\"text-align: left;\">\n",
       "                    <strong>Workers:</strong> 3\n",
       "                </td>\n",
       "            </tr>\n",
       "            <tr>\n",
       "                <td style=\"text-align: left;\">\n",
       "                    <strong>Total threads:</strong> 6\n",
       "                </td>\n",
       "                <td style=\"text-align: left;\">\n",
       "                    <strong>Total memory:</strong> 94.21 GiB\n",
       "                </td>\n",
       "            </tr>\n",
       "            \n",
       "            <tr>\n",
       "    <td style=\"text-align: left;\"><strong>Status:</strong> running</td>\n",
       "    <td style=\"text-align: left;\"><strong>Using processes:</strong> True</td>\n",
       "</tr>\n",
       "\n",
       "            \n",
       "        </table>\n",
       "\n",
       "        <details>\n",
       "            <summary style=\"margin-bottom: 20px;\">\n",
       "                <h3 style=\"display: inline;\">Scheduler Info</h3>\n",
       "            </summary>\n",
       "\n",
       "            <div style=\"\">\n",
       "    <div>\n",
       "        <div style=\"width: 24px; height: 24px; background-color: #FFF7E5; border: 3px solid #FF6132; border-radius: 5px; position: absolute;\"> </div>\n",
       "        <div style=\"margin-left: 48px;\">\n",
       "            <h3 style=\"margin-bottom: 0px;\">Scheduler</h3>\n",
       "            <p style=\"color: #9D9D9D; margin-bottom: 0px;\">Scheduler-8305525d-23c3-43d7-bbc5-ba2235d48863</p>\n",
       "            <table style=\"width: 100%; text-align: left;\">\n",
       "                <tr>\n",
       "                    <td style=\"text-align: left;\">\n",
       "                        <strong>Comm:</strong> tcp://127.0.0.1:38657\n",
       "                    </td>\n",
       "                    <td style=\"text-align: left;\">\n",
       "                        <strong>Workers:</strong> 3\n",
       "                    </td>\n",
       "                </tr>\n",
       "                <tr>\n",
       "                    <td style=\"text-align: left;\">\n",
       "                        <strong>Dashboard:</strong> <a href=\"http://127.0.0.1:8787/status\" target=\"_blank\">http://127.0.0.1:8787/status</a>\n",
       "                    </td>\n",
       "                    <td style=\"text-align: left;\">\n",
       "                        <strong>Total threads:</strong> 6\n",
       "                    </td>\n",
       "                </tr>\n",
       "                <tr>\n",
       "                    <td style=\"text-align: left;\">\n",
       "                        <strong>Started:</strong> Just now\n",
       "                    </td>\n",
       "                    <td style=\"text-align: left;\">\n",
       "                        <strong>Total memory:</strong> 94.21 GiB\n",
       "                    </td>\n",
       "                </tr>\n",
       "            </table>\n",
       "        </div>\n",
       "    </div>\n",
       "\n",
       "    <details style=\"margin-left: 48px;\">\n",
       "        <summary style=\"margin-bottom: 20px;\">\n",
       "            <h3 style=\"display: inline;\">Workers</h3>\n",
       "        </summary>\n",
       "\n",
       "        \n",
       "        <div style=\"margin-bottom: 20px;\">\n",
       "            <div style=\"width: 24px; height: 24px; background-color: #DBF5FF; border: 3px solid #4CC9FF; border-radius: 5px; position: absolute;\"> </div>\n",
       "            <div style=\"margin-left: 48px;\">\n",
       "            <details>\n",
       "                <summary>\n",
       "                    <h4 style=\"margin-bottom: 0px; display: inline;\">Worker: 0</h4>\n",
       "                </summary>\n",
       "                <table style=\"width: 100%; text-align: left;\">\n",
       "                    <tr>\n",
       "                        <td style=\"text-align: left;\">\n",
       "                            <strong>Comm: </strong> tcp://127.0.0.1:41475\n",
       "                        </td>\n",
       "                        <td style=\"text-align: left;\">\n",
       "                            <strong>Total threads: </strong> 2\n",
       "                        </td>\n",
       "                    </tr>\n",
       "                    <tr>\n",
       "                        <td style=\"text-align: left;\">\n",
       "                            <strong>Dashboard: </strong> <a href=\"http://127.0.0.1:35723/status\" target=\"_blank\">http://127.0.0.1:35723/status</a>\n",
       "                        </td>\n",
       "                        <td style=\"text-align: left;\">\n",
       "                            <strong>Memory: </strong> 31.40 GiB\n",
       "                        </td>\n",
       "                    </tr>\n",
       "                    <tr>\n",
       "                        <td style=\"text-align: left;\">\n",
       "                            <strong>Nanny: </strong> tcp://127.0.0.1:42561\n",
       "                        </td>\n",
       "                        <td style=\"text-align: left;\"></td>\n",
       "                    </tr>\n",
       "                    <tr>\n",
       "                        <td colspan=\"2\" style=\"text-align: left;\">\n",
       "                            <strong>Local directory: </strong> /tmp/dask-scratch-space/worker-ty5nk7xq\n",
       "                        </td>\n",
       "                    </tr>\n",
       "\n",
       "                    \n",
       "\n",
       "                    \n",
       "\n",
       "                </table>\n",
       "            </details>\n",
       "            </div>\n",
       "        </div>\n",
       "        \n",
       "        <div style=\"margin-bottom: 20px;\">\n",
       "            <div style=\"width: 24px; height: 24px; background-color: #DBF5FF; border: 3px solid #4CC9FF; border-radius: 5px; position: absolute;\"> </div>\n",
       "            <div style=\"margin-left: 48px;\">\n",
       "            <details>\n",
       "                <summary>\n",
       "                    <h4 style=\"margin-bottom: 0px; display: inline;\">Worker: 1</h4>\n",
       "                </summary>\n",
       "                <table style=\"width: 100%; text-align: left;\">\n",
       "                    <tr>\n",
       "                        <td style=\"text-align: left;\">\n",
       "                            <strong>Comm: </strong> tcp://127.0.0.1:40707\n",
       "                        </td>\n",
       "                        <td style=\"text-align: left;\">\n",
       "                            <strong>Total threads: </strong> 2\n",
       "                        </td>\n",
       "                    </tr>\n",
       "                    <tr>\n",
       "                        <td style=\"text-align: left;\">\n",
       "                            <strong>Dashboard: </strong> <a href=\"http://127.0.0.1:43263/status\" target=\"_blank\">http://127.0.0.1:43263/status</a>\n",
       "                        </td>\n",
       "                        <td style=\"text-align: left;\">\n",
       "                            <strong>Memory: </strong> 31.40 GiB\n",
       "                        </td>\n",
       "                    </tr>\n",
       "                    <tr>\n",
       "                        <td style=\"text-align: left;\">\n",
       "                            <strong>Nanny: </strong> tcp://127.0.0.1:35435\n",
       "                        </td>\n",
       "                        <td style=\"text-align: left;\"></td>\n",
       "                    </tr>\n",
       "                    <tr>\n",
       "                        <td colspan=\"2\" style=\"text-align: left;\">\n",
       "                            <strong>Local directory: </strong> /tmp/dask-scratch-space/worker-mbkw5bgh\n",
       "                        </td>\n",
       "                    </tr>\n",
       "\n",
       "                    \n",
       "\n",
       "                    \n",
       "\n",
       "                </table>\n",
       "            </details>\n",
       "            </div>\n",
       "        </div>\n",
       "        \n",
       "        <div style=\"margin-bottom: 20px;\">\n",
       "            <div style=\"width: 24px; height: 24px; background-color: #DBF5FF; border: 3px solid #4CC9FF; border-radius: 5px; position: absolute;\"> </div>\n",
       "            <div style=\"margin-left: 48px;\">\n",
       "            <details>\n",
       "                <summary>\n",
       "                    <h4 style=\"margin-bottom: 0px; display: inline;\">Worker: 2</h4>\n",
       "                </summary>\n",
       "                <table style=\"width: 100%; text-align: left;\">\n",
       "                    <tr>\n",
       "                        <td style=\"text-align: left;\">\n",
       "                            <strong>Comm: </strong> tcp://127.0.0.1:33995\n",
       "                        </td>\n",
       "                        <td style=\"text-align: left;\">\n",
       "                            <strong>Total threads: </strong> 2\n",
       "                        </td>\n",
       "                    </tr>\n",
       "                    <tr>\n",
       "                        <td style=\"text-align: left;\">\n",
       "                            <strong>Dashboard: </strong> <a href=\"http://127.0.0.1:40501/status\" target=\"_blank\">http://127.0.0.1:40501/status</a>\n",
       "                        </td>\n",
       "                        <td style=\"text-align: left;\">\n",
       "                            <strong>Memory: </strong> 31.40 GiB\n",
       "                        </td>\n",
       "                    </tr>\n",
       "                    <tr>\n",
       "                        <td style=\"text-align: left;\">\n",
       "                            <strong>Nanny: </strong> tcp://127.0.0.1:38663\n",
       "                        </td>\n",
       "                        <td style=\"text-align: left;\"></td>\n",
       "                    </tr>\n",
       "                    <tr>\n",
       "                        <td colspan=\"2\" style=\"text-align: left;\">\n",
       "                            <strong>Local directory: </strong> /tmp/dask-scratch-space/worker-kf9fpthm\n",
       "                        </td>\n",
       "                    </tr>\n",
       "\n",
       "                    \n",
       "\n",
       "                    \n",
       "\n",
       "                </table>\n",
       "            </details>\n",
       "            </div>\n",
       "        </div>\n",
       "        \n",
       "\n",
       "    </details>\n",
       "</div>\n",
       "\n",
       "        </details>\n",
       "    </div>\n",
       "</div>\n",
       "            </details>\n",
       "        \n",
       "\n",
       "    </div>\n",
       "</div>"
      ],
      "text/plain": [
       "<Client: 'tcp://127.0.0.1:38657' processes=3 threads=6, memory=94.21 GiB>"
      ]
     },
     "execution_count": 1,
     "metadata": {},
     "output_type": "execute_result"
    },
    {
     "name": "stderr",
     "output_type": "stream",
     "text": [
      "2024-08-09 10:05:41,709 - distributed.scheduler - WARNING - Removing worker 'tcp://127.0.0.1:33995' caused the cluster to lose already computed task(s), which will be recomputed elsewhere: {'add-77fe86c5-1734-4a74-a9e9-9b0a939cb821', 'add-3fab8978-7a14-42ce-9340-70b556421b71', 'add-91d3cee3-1d16-431e-807d-8e9898d366ff', 'add-e44f8b0a-2078-48d8-82ef-d61b6e7b688c', 'add-b02c952b-eebe-4278-9b99-3086c315f382', 'add-3507e236-e260-41c1-a1a2-cf2b86d406c4', 'add-799db7c7-1062-4fef-88b3-d6da96347a46', 'add-2d064832-55d6-4728-b76e-f49883320084', 'add-93ee0e98-6b5f-46c3-8410-736f2b29a0b7', 'add-89a670df-88b4-416c-8118-e571ef2d918c', 'add-cadff22c-81fd-4549-925e-c963e260af9c', 'add-1e2d242c-602c-4860-aa62-18da6bd06e1a', 'add-c5e81c91-37a1-42d0-8f91-45e4e271413d', 'add-e70c78ae-db90-4134-9111-5804562b9fc4', 'add-c6611204-697e-4ca8-9aca-4361f0ca2674', 'add-db4bdf1e-c153-48db-8bd1-54f8ff6739d9', 'add-1acc9280-d208-4df1-8032-5d0bc73e304d', 'add-e704e253-e14d-4daa-a7e4-182db053fb0f', 'add-f6f31d2a-fe45-4d49-895c-3662de6c2beb', 'add-6c0ce993-dde6-4821-9a76-fb6960874846', 'add-27338cbe-22ab-4538-8d39-1bdf3a19582c', 'add-7cf5dfed-f022-4f70-a5c5-d620a0132855', 'add-6232e4d9-773c-4e05-810f-ee8835c46180', 'add-997b5832-1b8f-4605-b64b-218f1faec45f', 'add-19dfd070-318b-4ee1-bd59-bd1193d62c0f', 'add-d5a7469e-3f14-4b13-a3f2-cf9faaa74977', 'add-06f491ab-424c-4221-981b-9bd1c158289b', 'add-b790c18c-e3b4-43a0-a246-7eb08aad9cfb', 'add-7a44b188-450b-4037-9e38-4ba05f558a6f', 'add-3ee44af6-ab8e-45b9-abf8-8bddacff9f77', 'add-bf9c667b-0b7f-4d42-a395-00b67bc273aa', 'add-315ea8c4-170f-4ded-bb74-aa134a7bf307', 'add-a6a4e893-5cd4-4970-a410-092a29388640', 'add-e2702888-119e-4aea-99a9-d08895faa969', 'add-fde92ec0-7aee-4870-bb75-aa2cfbf0b2af', 'add-fe23c5c9-2e9b-45a4-9979-8bf94ca94479', 'add-9acafa26-b8b5-4604-826e-04f30c0a6f4b', 'add-4ee7d982-7fbd-4c92-a4bf-02409f48bf36', 'add-4ee1e411-34cc-42ad-8e78-2b109db096df', 'add-4227f33c-3463-4677-947d-dfb0eb943b51', 'add-163ea120-3215-4c87-8a2e-ab4a9c25e105', 'add-a88bf272-c4a9-4b68-9c4d-2069daec50a7', 'add-4f082a6e-c2f1-4c11-be39-502e23127bdd', 'add-b0768951-6a1d-4d87-a348-8a1b163978e2', 'add-e284fe0e-d2b0-4deb-b20f-902a5066b77f'} (stimulus_id='handle-worker-cleanup-1723190741.7089121')\n",
      "2024-08-09 10:05:41,735 - distributed.scheduler - WARNING - Removing worker 'tcp://127.0.0.1:40707' caused the cluster to lose already computed task(s), which will be recomputed elsewhere: {'add-36c4c91f-989d-4bb2-89c1-62971d3551f0', 'add-2c7197e0-43e1-46ac-ba60-24b49e1fbcc0', 'add-53b38857-8642-48d6-950e-2045c4b242b7', 'add-e17af3fb-c120-4671-9700-7d85813db767', 'add-0563c777-8bc6-4eb0-8873-7ac4a0812730', 'add-cc635ed1-7039-4829-9581-b1b2a4f0de81', 'add-a2743bfa-e2f5-4cde-b960-88c345c7a157', 'add-9c353806-8cf8-45af-9eaf-f00408130cd4', 'add-1697fa57-4340-4a0e-96a6-6e65a954d985', 'add-9639315a-5aef-4d08-a827-f2b24b63fe15', 'add-69d67035-b873-47dd-814e-fa09fd992b19', 'add-914e9aa7-4bf8-4a4d-bb17-c13cf974093f', 'add-c1f8f10a-6b10-4675-8916-f465c5ba046a', 'add-2728dd17-82d3-4a1f-b12b-5dc20e0c6026', 'add-923d8c7f-225e-4d2b-9872-57cbd3b1ab79', 'add-13ed3bb4-154f-43df-bdc9-6c5f2d97a9d0', 'add-43b04005-d60b-41ba-8f84-bd180649a37e', 'add-8be5c922-b9f5-4a59-8574-e170e1f5ad21', 'add-3dc098cd-bdcb-4624-a342-22e6d627f011', 'add-d23e1033-536a-4545-90af-f180a9b673e2', 'add-8696a7c6-ac9b-4901-b9ba-7117b5105b8a', 'add-405b4a07-199e-4980-979c-28d9b15b1c52', 'add-10c54d76-26b4-458e-924a-9dfc1454cd72', 'add-d6fc436c-1ab5-45a0-9b68-b7cce5c3721e', 'add-b886a4f0-88f7-4eee-a516-6905bec36fda', 'add-3a1e8c17-3e45-4e42-aa48-121593495e3e', 'add-a7e3b1a4-38b5-45df-8689-6d8a2a9092cf', 'add-e16a7057-ad8b-412d-b98c-541ed7869b21', 'add-bdac2420-cbe4-4780-bdc6-3974b68c93ec', 'add-adb40630-980f-4a53-84c8-54438d15a268', 'add-fea5e3c2-ea32-4d6e-85bd-70a3f70963e1', 'add-a8146edd-e447-4853-86dc-96ba7c5a052a', 'add-c37b3994-cff0-4e11-bdca-ac02a8e2238a', 'add-ccb291de-3da5-48a2-92f2-a053f3b7d952', 'add-10df9098-7829-415f-b8de-78ffdddee5c9', 'add-63d00ab7-f6e6-49cb-8a44-c2b95880056c', 'add-4a574a96-a520-4dd5-ae9f-e9796995ea18', 'add-c7cef171-b6bf-4837-b27c-8630f8f8bfff', 'add-3a1b81c1-6e63-40c5-9638-a1adffeed5da', 'add-51fcc0b5-3e81-43ec-95c4-8375d7b1223b', 'add-943e64c3-2d53-4d76-8017-870e6deeb413', 'add-65e93245-96f6-497e-9ae3-7f234d104394', 'add-fcbb65c1-110c-4ade-a298-8ae2b91e494d', 'add-b7c55666-d3eb-4d83-9681-a7c34a979ac6', 'add-56770b00-de12-4bb9-ad02-06b819dce131', 'add-af728fed-09e9-468c-add5-ae2f5180da12', 'add-4d4b75b9-aa5a-4607-9320-4a2cee0a651f', 'add-aac8aaf5-4257-4874-a473-daeaf4f82ba3', 'add-8bb8f1f9-f563-42d1-8f29-49671a27b34a', 'add-422ca118-8dcc-4a37-935d-1a2fbf7e0702', 'add-338a2de3-7cdf-4075-8843-7da9e6f28a80', 'add-78aaff3e-56b0-4251-b637-aa1980d71fdf', 'add-aa079ae3-0b7c-4a79-adb7-f80601415e33', 'add-c9c2e3e7-82d6-4da0-aea8-10a71bd09383'} (stimulus_id='handle-worker-cleanup-1723190741.734395')\n",
      "2024-08-09 10:05:41,758 - distributed.scheduler - WARNING - Removing worker 'tcp://127.0.0.1:41475' caused the cluster to lose already computed task(s), which will be recomputed elsewhere: {'add-0fc77716-6242-478d-9267-9c7160aaf9ce', 'add-d1c4fa9b-4ada-4eb4-9a39-3bd9af451595', 'add-f7a931f8-8749-48c4-8936-f3749444e92f', 'add-3498bedb-a204-43f0-afd3-6b7c25e299ba', 'add-4fd8f66a-7ce7-4a59-a3fa-ff1d2090c799', 'add-a52dfa29-4178-4bce-a299-19b28003c465', 'add-7ea6a177-babf-4a2f-9c85-2fc954f6f986', 'add-53f0148a-e531-49f6-8d53-2988fbbcbae4', 'add-134d1113-56a8-4847-930a-5fbe73a08e15', 'add-e6630646-0926-4470-b000-d4e88ae89cc1', 'add-4a18e72c-5b10-446b-a93c-726fa3d008b1', 'add-64b4e3df-6f99-461c-ae46-b27a1a07e0c6', 'add-8c03430c-097b-4784-bddc-829362afce74', 'add-640157d5-f90b-4674-8582-4a0470d8c093', 'add-38e684f3-e71e-4b27-9d6c-90be6b8598b7', 'add-92c2d1ac-8054-404c-9fc7-dcb32916e84d', 'add-b176e325-7a84-4122-8bd1-6e086c5edd83', 'add-1ba65eb1-6553-40d5-9a51-b62c601d0707', 'add-58528956-8e2e-48b8-b240-5ca8ed3535a8', 'add-93790d2d-e506-442b-a1b0-67ce4c2734c1', 'add-1b4f595c-ba21-4a4c-a340-43f3c73646d6', 'add-94bf77ab-4f4b-469f-afa0-197861a4fa92', 'add-4a8be9b2-24c4-4279-9253-ec059c50bbcd', 'add-88d341f0-b7a8-4189-9ace-f7f01acecdc3', 'add-8a880ff3-4028-439d-ab5a-5564a0007a5e', 'add-e7dcb6e4-6a01-4f29-9f7a-a19adad39f4a', 'add-712976c1-0a6d-491a-a8b8-2b6ed908c6e6', 'add-1d199cfd-c010-4671-96ba-625cfe0c8043', 'add-99d994a3-cfde-4806-8a1d-7cb826ff5c1a'} (stimulus_id='handle-worker-cleanup-1723190741.7581768')\n"
     ]
    }
   ],
   "source": [
    "from dask.distributed import Client\n",
    "import dask\n",
    "client = Client()\n",
    "client"
   ]
  },
  {
   "cell_type": "code",
   "execution_count": 23,
   "id": "73fdcf0c-0486-4bf4-a7b8-e4a94da9bcfe",
   "metadata": {},
   "outputs": [],
   "source": [
    "import time\n",
    "import random\n",
    "import dask\n",
    "\n",
    "@dask.delayed\n",
    "def inc(x):\n",
    "    time.sleep(random.random())\n",
    "    return x + 1\n",
    "\n",
    "@dask.delayed\n",
    "def dec(x):\n",
    "    time.sleep(random.random())\n",
    "    return x - 1\n",
    "\n",
    "@dask.delayed\n",
    "def add(x, y):\n",
    "    time.sleep(random.random())\n",
    "    return x + y"
   ]
  },
  {
   "cell_type": "code",
   "execution_count": 27,
   "id": "9b3d7953-c33f-4b7a-a426-91d2412a0dfe",
   "metadata": {},
   "outputs": [
    {
     "data": {
      "text/plain": [
       "Delayed('add-c6ea94b0-5703-45c4-b816-0eab76cda15f')"
      ]
     },
     "execution_count": 27,
     "metadata": {},
     "output_type": "execute_result"
    }
   ],
   "source": [
    "\n",
    "x = inc(1)\n",
    "y = dec(2)\n",
    "z = add(x, y)\n",
    "z"
   ]
  },
  {
   "cell_type": "code",
   "execution_count": 28,
   "id": "ee5ea7be-b424-4f29-a48d-5acd9135e3af",
   "metadata": {},
   "outputs": [
    {
     "data": {
      "image/png": "[encoded data removed]",
      "text/plain": [
       "<IPython.core.display.Image object>"
      ]
     },
     "execution_count": 28,
     "metadata": {},
     "output_type": "execute_result"
    }
   ],
   "source": [
    "z.visualize()"
   ]
  },
  {
   "cell_type": "code",
   "execution_count": 51,
   "id": "c69f04a6-537d-4211-8593-86b3e9ca6592",
   "metadata": {},
   "outputs": [
    {
     "data": {
      "text/plain": [
       "255"
      ]
     },
     "execution_count": 51,
     "metadata": {},
     "output_type": "execute_result"
    }
   ],
   "source": [
    "z.compute()"
   ]
  },
  {
   "cell_type": "code",
   "execution_count": 61,
   "id": "4376413d-d49e-4e01-a71f-33f8518f30a2",
   "metadata": {},
   "outputs": [],
   "source": [
    "zs = []\n",
    "for i in range(128):\n",
    "    x = inc(i)\n",
    "    y = dec(x)\n",
    "    z = add(x, y)\n",
    "    zs.append(z)\n",
    "\n",
    "zs = dask.persist(*zs)"
   ]
  },
  {
   "cell_type": "code",
   "execution_count": 62,
   "id": "c4417f18-1864-4b11-a4f6-f9491ed42cf5",
   "metadata": {},
   "outputs": [
    {
     "data": {
      "text/plain": [
       "([16384],)"
      ]
     },
     "execution_count": 62,
     "metadata": {},
     "output_type": "execute_result"
    }
   ],
   "source": [
    "L = zs\n",
    "\n",
    "while len(L) > 1:\n",
    "    new_L = []\n",
    "    for i in range(0, len(L), 2):\n",
    "        lazy = add(L[i], L[i+1])\n",
    "        new_L.append(lazy)\n",
    "    L = new_L\n",
    "\n",
    "dask.compute(L)"
   ]
  },
  {
   "cell_type": "code",
   "execution_count": 55,
   "id": "7b71e405-f60d-418d-a91a-315522ef0328",
   "metadata": {},
   "outputs": [],
   "source": [
    "from dask.graph_manipulation import bind"
   ]
  },
  {
   "cell_type": "code",
   "execution_count": null,
   "id": "e52ff425-96da-4ab5-a18f-7d9ed357d895",
   "metadata": {},
   "outputs": [],
   "source": []
  },
  {
   "cell_type": "code",
   "execution_count": 56,
   "id": "ea80a6ea-26db-4601-ab9c-9e99566c2c28",
   "metadata": {},
   "outputs": [],
   "source": [
    "DATA = []"
   ]
  },
  {
   "cell_type": "code",
   "execution_count": 57,
   "id": "1fe05188-8a54-4ee8-ac2e-dd17acc22db7",
   "metadata": {},
   "outputs": [],
   "source": [
    "@dask.delayed\n",
    "def inc(x):\n",
    "    return x + 1\n",
    "\n",
    "@dask.delayed\n",
    "def add_data(x):\n",
    "    DATA.append(x)\n",
    "\n",
    "@dask.delayed\n",
    "def sum_data(x):\n",
    "    return sum(DATA) + x"
   ]
  },
  {
   "cell_type": "code",
   "execution_count": 58,
   "id": "108423e8-ac55-468e-8cdc-50947d5e4f2b",
   "metadata": {},
   "outputs": [],
   "source": [
    "a = inc(1)\n",
    "b = add_data(a)\n",
    "c = inc(3)\n",
    "d = add_data(c)\n",
    "e = inc(5)\n",
    "f = bind(sum_data, [b, d])(e)\n"
   ]
  },
  {
   "cell_type": "code",
   "execution_count": null,
   "id": "e1631858-3bea-45f9-b4dd-1d408ad01d88",
   "metadata": {},
   "outputs": [],
   "source": []
  },
  {
   "cell_type": "code",
   "execution_count": 60,
   "id": "9fe6c910-1c9a-438c-901c-55562db13793",
   "metadata": {},
   "outputs": [
    {
     "data": {
      "text/plain": [
       "6"
      ]
     },
     "execution_count": 60,
     "metadata": {},
     "output_type": "execute_result"
    }
   ],
   "source": [
    "f.compute()"
   ]
  },
  {
   "cell_type": "code",
   "execution_count": null,
   "id": "844cb651-fa57-44f4-be47-4dac91ee30d6",
   "metadata": {},
   "outputs": [],
   "source": []
  }
 ],
 "metadata": {
  "kernelspec": {
   "display_name": "Python 3 (ipykernel)",
   "language": "python",
   "name": "python3"
  },
  "language_info": {
   "codemirror_mode": {
    "name": "ipython",
    "version": 3
   },
   "file_extension": ".py",
   "mimetype": "text/x-python",
   "name": "python",
   "nbconvert_exporter": "python",
   "pygments_lexer": "ipython3",
   "version": "3.11.0rc1"
  }
 },
 "nbformat": 4,
 "nbformat_minor": 5
}
