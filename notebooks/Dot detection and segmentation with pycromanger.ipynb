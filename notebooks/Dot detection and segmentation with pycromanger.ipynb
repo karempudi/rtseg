{
 "cells": [
  {
   "cell_type": "code",
   "execution_count": 1,
   "id": "4c6cd23f-971c-4e2e-b6af-234c1eea2b26",
   "metadata": {},
   "outputs": [],
   "source": [
    "%reload_ext autoreload\n",
    "%autoreload 2"
   ]
  },
  {
   "cell_type": "code",
   "execution_count": 2,
   "id": "ee028ce4-0874-4827-995a-ce26fae5d28c",
   "metadata": {},
   "outputs": [],
   "source": [
    "import numpy as np\n",
    "import torch\n",
    "import matplotlib.pyplot as plt\n",
    "import pathlib\n",
    "from pathlib import Path\n",
    "from skimage.measure import label, regionprops, regionprops_table\n",
    "from rtseg.dotdetection.detect import compute_wavelet_planes\n",
    "from skimage.io import imread\n",
    "import torch.nn.functional as F\n",
    "import matplotlib as mpl\n",
    "from rtseg.dotdetection.detect import compute_spot_binary_mask\n",
    "mpl.use('QtAgg')\n",
    "%matplotlib qt5"
   ]
  },
  {
   "cell_type": "markdown",
   "id": "79a5791b-a9e8-42b8-a84c-887a4081c8bf",
   "metadata": {},
   "source": [
    "### Acquire using pycromanager"
   ]
  },
  {
   "cell_type": "code",
   "execution_count": 3,
   "id": "d122bb88-f378-4898-b724-30f7e2646e84",
   "metadata": {},
   "outputs": [],
   "source": [
    "from pycromanager import Core, Acquisition"
   ]
  },
  {
   "cell_type": "markdown",
   "id": "07d884a3-838d-4950-9ce2-37c680421e11",
   "metadata": {},
   "source": [
    "#### Acquire phase image"
   ]
  },
  {
   "cell_type": "code",
   "execution_count": 4,
   "id": "71ce31e1-bece-44c7-b90a-eeea94e0ab83",
   "metadata": {},
   "outputs": [],
   "source": [
    "core = Core()\n",
    "\n",
    "exposure = core.get_exposure()\n",
    "core.snap_image()\n",
    "tagged_image = core.get_tagged_image()\n",
    "\n",
    "phase_img = np.reshape(tagged_image.pix,\n",
    "                        newshape=[tagged_image.tags['Height'], tagged_image.tags['Width']])"
   ]
  },
  {
   "cell_type": "code",
   "execution_count": 5,
   "id": "515bf7a2-f4f1-42ff-baf4-111f6a214c85",
   "metadata": {},
   "outputs": [],
   "source": [
    "plt.figure()\n",
    "plt.imshow(phase_img, cmap='gray')\n",
    "plt.title(f\"{phase_img.shape}\")\n",
    "plt.show()"
   ]
  },
  {
   "cell_type": "markdown",
   "id": "0ef8d4d6-4ae3-4772-9d6c-c7df1e423ad2",
   "metadata": {},
   "source": [
    "#### Acquire fluor image after switching in micromanager"
   ]
  },
  {
   "cell_type": "code",
   "execution_count": 6,
   "id": "c65062e9-5d83-4887-86f8-dc81e9de751c",
   "metadata": {},
   "outputs": [],
   "source": [
    "core = Core()\n",
    "\n",
    "exposure = core.get_exposure()\n",
    "core.snap_image()\n",
    "tagged_image = core.get_tagged_image()\n",
    "\n",
    "fluor_img = np.reshape(tagged_image.pix,\n",
    "                        newshape=[tagged_image.tags['Height'], tagged_image.tags['Width']])"
   ]
  },
  {
   "cell_type": "code",
   "execution_count": 7,
   "id": "ea6e01a3-22ce-4e95-95d9-3d1e3a59396c",
   "metadata": {},
   "outputs": [],
   "source": [
    "plt.figure()\n",
    "plt.imshow(fluor_img, cmap='gray')\n",
    "plt.title(f\"{fluor_img.shape}\")\n",
    "plt.show()"
   ]
  },
  {
   "cell_type": "markdown",
   "id": "11402247-b6f7-4094-b4a8-eafe411ea8d0",
   "metadata": {},
   "source": [
    "#### Do segmentation"
   ]
  },
  {
   "cell_type": "code",
   "execution_count": 1,
   "id": "b186728c-62d1-4811-b75e-a73d2c978e20",
   "metadata": {},
   "outputs": [],
   "source": [
    "from rtseg.cellseg.dataloaders import PhaseContrast\n",
    "from rtseg.cellseg.utils.transforms import transforms\n",
    "from rtseg.cellseg.networks import model_dict\n",
    "from torch.utils.data import DataLoader\n",
    "from rtseg.cellseg.utils.tiling import get_tiler\n",
    "from rtseg.cellseg.numerics.vf_to_masks import construct_mask, construct_masks_batch"
   ]
  },
  {
   "cell_type": "code",
   "execution_count": 2,
   "id": "d97b42b7-007f-440c-a7d1-65516890aa79",
   "metadata": {},
   "outputs": [],
   "source": [
    "device='cuda:0'"
   ]
  },
  {
   "cell_type": "code",
   "execution_count": 3,
   "id": "1e9756f0-eac5-4dca-8e0d-6bd37b348c5a",
   "metadata": {},
   "outputs": [
    {
     "ename": "NameError",
     "evalue": "name 'Path' is not defined",
     "output_type": "error",
     "traceback": [
      "\u001b[0;31m---------------------------------------------------------------------------\u001b[0m",
      "\u001b[0;31mNameError\u001b[0m                                 Traceback (most recent call last)",
      "Cell \u001b[0;32mIn[3], line 1\u001b[0m\n\u001b[0;32m----> 1\u001b[0m model_path \u001b[38;5;241m=\u001b[39m \u001b[43mPath\u001b[49m(\u001b[38;5;124m'\u001b[39m\u001b[38;5;124mC:\u001b[39m\u001b[38;5;130;01m\\\\\u001b[39;00m\u001b[38;5;124mUsers\u001b[39m\u001b[38;5;130;01m\\\\\u001b[39;00m\u001b[38;5;124melflab\u001b[39m\u001b[38;5;130;01m\\\\\u001b[39;00m\u001b[38;5;124mDocuments\u001b[39m\u001b[38;5;130;01m\\\\\u001b[39;00m\u001b[38;5;124mPraneeth\u001b[39m\u001b[38;5;130;01m\\\\\u001b[39;00m\u001b[38;5;124mrtseg\u001b[39m\u001b[38;5;130;01m\\\\\u001b[39;00m\u001b[38;5;124mmodels\u001b[39m\u001b[38;5;130;01m\\\\\u001b[39;00m\u001b[38;5;124mcellseg\u001b[39m\u001b[38;5;130;01m\\\\\u001b[39;00m\u001b[38;5;124mcheckpoints\u001b[39m\u001b[38;5;130;01m\\\\\u001b[39;00m\u001b[38;5;124m2024-07-18_15-16-53\u001b[39m\u001b[38;5;130;01m\\\\\u001b[39;00m\u001b[38;5;124mmodel_val.pt\u001b[39m\u001b[38;5;124m'\u001b[39m)\n",
      "\u001b[0;31mNameError\u001b[0m: name 'Path' is not defined"
     ]
    }
   ],
   "source": [
    "model_path = Path('C:\\\\Users\\\\elflab\\\\Documents\\\\Praneeth\\\\rtseg\\\\models\\\\cellseg\\\\checkpoints\\\\2024-07-18_15-16-53\\\\model_val.pt')"
   ]
  },
  {
   "cell_type": "code",
   "execution_count": null,
   "id": "8806f261-3ddc-4d97-aed4-fe9fe6ba6f1b",
   "metadata": {},
   "outputs": [],
   "source": [
    "model = model_dict['ResUnet']\n",
    "model = model.parse(channels_by_scale=[1, 32, 64, 128, 256], num_outputs=[1, 2, 1],\n",
    "                    upsample_type='transpose_conv', feature_fusion_type='concat',\n",
    "                    skip_channel_seg=True)\n",
    "model.load_state_dict(torch.load(model_path))\n",
    "\n",
    "tiler = get_tiler(\"dynamic_overlap\")\n",
    "wrapped_model = tiler(model, device=device)\n",
    "wrapped_model = wrapped_model.to(device)\n",
    "\n",
    "def run_segnet(image):\n",
    "    with torch.inference_mode():\n",
    "        pred_semantic, pred_vf = wrapped_model(image)\n",
    "    return pred_semantic, pred_vf\n",
    "\n",
    "# plot the outputs of one image\n",
    "def plot_inference(pred_semantic, pred_vf, device='cpu'):\n",
    "    fig, ax = plt.subplots(nrows=1, ncols=3)\n",
    "    ax[0].imshow(pred_semantic[0][0].cpu().numpy())\n",
    "    ax[0].set_title(\"Semantic\")\n",
    "    ax[1].imshow(pred_vf[0][0].cpu().numpy())\n",
    "    ax[1].set_title(\"vf_x\")\n",
    "    ax[2].imshow(pred_vf[0][1].cpu().numpy())\n",
    "    ax[2].set_title(\"vf_y\")\n",
    "    plt.show()\n",
    "\n",
    "def tensorize_image(image, device='cuda:0'):\n",
    "    image_tensor = torch.from_numpy(image).float() / 65535.0\n",
    "    image_tensor = image_tensor[None, None, :].to(device) # add dimension to play well with (N, C, H, W)\n",
    "    return image_tensor\n",
    "    \n",
    "def segment(image, device='cuda:0'):\n",
    "    pred_semantic, pred_vf = run_segnet(tensorize_image(image, device=device))\n",
    "    segmentation_mask = construct_masks_batch(pred_vf, pred_semantic, device=device, store_solutions=False, fast=True)\n",
    "    return segmentation_mask[0][0].cpu().numpy()"
   ]
  },
  {
   "cell_type": "code",
   "execution_count": 37,
   "id": "c583ccf2-6ac8-4f76-92f1-dcb011450502",
   "metadata": {},
   "outputs": [],
   "source": [
    "plt.figure()\n",
    "plt.imshow(phase_img, cmap='gray')\n",
    "plt.title(f\"{phase_img.shape}\")\n",
    "plt.show()"
   ]
  },
  {
   "cell_type": "code",
   "execution_count": 35,
   "id": "a9272318-cc47-4534-bbe5-b644b14f086b",
   "metadata": {},
   "outputs": [],
   "source": [
    "phase_img = np.flipud(phase_img).copy()"
   ]
  },
  {
   "cell_type": "code",
   "execution_count": 38,
   "id": "835b227f-3092-4e21-b642-a00f58818229",
   "metadata": {},
   "outputs": [],
   "source": [
    "phase_img = phase_img.copy()"
   ]
  },
  {
   "cell_type": "code",
   "execution_count": 43,
   "id": "134bd38d-2115-43c7-9e4f-aecebefc3c49",
   "metadata": {},
   "outputs": [],
   "source": [
    "mask = segment(phase_img)"
   ]
  },
  {
   "cell_type": "code",
   "execution_count": 44,
   "id": "3667c468-4b93-459d-8729-26c6f4d76d77",
   "metadata": {},
   "outputs": [
    {
     "data": {
      "text/plain": [
       "(736, 2324)"
      ]
     },
     "execution_count": 44,
     "metadata": {},
     "output_type": "execute_result"
    }
   ],
   "source": [
    "mask.shape"
   ]
  },
  {
   "cell_type": "code",
   "execution_count": 45,
   "id": "5c1755d9-ab36-4139-8acd-55694aea0b0f",
   "metadata": {},
   "outputs": [],
   "source": [
    "plt.figure()\n",
    "plt.imshow(mask)\n",
    "plt.show()"
   ]
  },
  {
   "cell_type": "code",
   "execution_count": null,
   "id": "988d0ba0-4aa6-4e65-a0eb-2839f26c1a10",
   "metadata": {},
   "outputs": [],
   "source": []
  },
  {
   "cell_type": "markdown",
   "id": "52f2326d-362b-43bc-9338-5a6b98f5fd85",
   "metadata": {},
   "source": [
    "#### Do dot detection"
   ]
  },
  {
   "cell_type": "markdown",
   "id": "965ebb2a-5ed9-4810-80b0-2b91c096c40c",
   "metadata": {},
   "source": [
    "#### Do regionprops and internal coordinates"
   ]
  },
  {
   "cell_type": "code",
   "execution_count": null,
   "id": "18b1a382-a32b-4133-b007-c4411eba2ca7",
   "metadata": {},
   "outputs": [],
   "source": []
  },
  {
   "cell_type": "code",
   "execution_count": 42,
   "id": "eb527ea4-7070-4fd8-abf5-2e65e4f8756d",
   "metadata": {},
   "outputs": [],
   "source": [
    "image = pixels.astype('float32')\n",
    "image_tensor = torch.from_numpy(image).to(device)\n",
    "# some transformation\n",
    "anscombe_image = 2 * torch.sqrt(image_tensor + 3.0/8.0)"
   ]
  },
  {
   "cell_type": "code",
   "execution_count": 43,
   "id": "cf408062-c2cd-4739-8c58-1f28fd68078d",
   "metadata": {},
   "outputs": [],
   "source": [
    "w = compute_wavelet_planes(anscombe_image, device=device)"
   ]
  },
  {
   "cell_type": "code",
   "execution_count": 44,
   "id": "dee43733-7691-4254-b089-2e65a91ddd8c",
   "metadata": {},
   "outputs": [],
   "source": [
    "def plot_wavelets(wavelet_planes):\n",
    "    fig, ax = plt.subplots(nrows=2, ncols=2)\n",
    "    for i in range(4):\n",
    "        ax[i//2, i % 2].imshow(wavelet_planes[i].numpy(), cmap='gray')\n",
    "        ax[i//2, i % 2].set_title(f\"i = {i}th plane\")\n",
    "    plt.show()"
   ]
  },
  {
   "cell_type": "code",
   "execution_count": 45,
   "id": "e554b090-be90-4982-9575-08de82e32fcc",
   "metadata": {},
   "outputs": [],
   "source": [
    "plot_wavelets(w.cpu())"
   ]
  },
  {
   "cell_type": "code",
   "execution_count": 47,
   "id": "9ece31bd-7649-4931-b704-a990373fd316",
   "metadata": {},
   "outputs": [],
   "source": [
    "mask = compute_spot_binary_mask(image,\n",
    "                                threshold=torch.tensor([ 5.2425,  2.6362,  1.3, 14.9576], device='cuda:0'),\n",
    "                                wavelet_plane_no=2, device='cuda:0')\n",
    "plt.figure()\n",
    "plt.imshow(mask)\n",
    "plt.show()"
   ]
  },
  {
   "cell_type": "code",
   "execution_count": 48,
   "id": "cafe5719-6fdd-4770-ac7d-1a93cd8bf657",
   "metadata": {},
   "outputs": [],
   "source": [
    "spot_stats = regionprops(label(mask), image)\n",
    "min_spot_area = 0.0 # 4 is default\n",
    "max_axes_ratio = 1.5\n",
    "spot_filtered = [item for item in spot_stats if item.area > min_spot_area]\n",
    "\n",
    "spot_axes_ratio = np.array([spot.axis_major_length / spot.axis_minor_length for spot in spot_filtered])\n",
    "spot_areas = np.array([spot.area for spot in spot_filtered])\n",
    "# indices in spot filtered based on area\n",
    "dot_coords = [spot.centroid_weighted for spot in spot_filtered]\n",
    "dot_coords_np = np.array(dot_coords)\n",
    "def plot_dots(fluor_image, dots):\n",
    "    plt.figure()\n",
    "    plt.imshow(fluor_image, cmap='gray', vmin=417, vmax=1404)\n",
    "    plt.scatter(dots[:, 1], dots[:, 0], facecolors='none', edgecolors='b')\n",
    "    plt.show()\n",
    "plot_dots(image, dot_coords_np)"
   ]
  },
  {
   "cell_type": "code",
   "execution_count": null,
   "id": "4a65e244-1cf9-487c-bb1d-c6b9f3968959",
   "metadata": {},
   "outputs": [],
   "source": []
  },
  {
   "cell_type": "markdown",
   "id": "85dd4ea5-633a-4612-98de-77b8c6fa2333",
   "metadata": {},
   "source": [
    "#### Hard coded constants"
   ]
  },
  {
   "cell_type": "code",
   "execution_count": 41,
   "id": "4c255ce8-6b54-4609-8c8a-eb7fed8ea215",
   "metadata": {},
   "outputs": [],
   "source": [
    "waveletPlanes = 2\n",
    "levels = 3\n",
    "fluor_image_path = Path('C:\\\\Users\\\\elflab\\\\Documents\\\\Praneeth\\\\waveletCode\\\\data\\\\img_000000000.tiff')\n",
    "seg_image_path = Path('C:\\\\Users\\\\elflab\\\\Documents\\\\Praneeth\\\\waveletCode\\\\data\\\\img_000000000_mask.tiff')\n",
    "fluor_img = imread(fluor_image_path).astype('float32')\n",
    "seg_image = imread(seg_image_path)"
   ]
  },
  {
   "cell_type": "code",
   "execution_count": 42,
   "id": "e67786d9-3ee1-4755-a67d-4871f0d4cd4e",
   "metadata": {},
   "outputs": [],
   "source": [
    "from rtseg.dotdetection.detect import compute_spot_binary_mask"
   ]
  },
  {
   "cell_type": "code",
   "execution_count": 43,
   "id": "5d89759a-58b0-4a26-9540-efb31af2fb20",
   "metadata": {},
   "outputs": [],
   "source": [
    "image_tensor = torch.from_numpy(fluor_img).to(device)\n",
    "# some transformation\n",
    "anscombe_image = 2 * torch.sqrt(image_tensor + 3.0/8.0)\n",
    "w = compute_wavelet_planes(anscombe_image, device=device)\n",
    "plot_wavelets(w.cpu())"
   ]
  },
  {
   "cell_type": "code",
   "execution_count": 44,
   "id": "966fb3a2-169b-444d-b795-9123af812bba",
   "metadata": {},
   "outputs": [
    {
     "name": "stdout",
     "output_type": "stream",
     "text": [
      "tensor([ 5.2425,  2.6362,  5.2767, 14.9576], device='cuda:0')\n"
     ]
    }
   ],
   "source": [
    "mask = compute_spot_binary_mask(fluor_img, seg_image, wavelet_plane_no=2, device='cuda:0')"
   ]
  },
  {
   "cell_type": "code",
   "execution_count": 25,
   "id": "0c96eb90-b38b-481b-b3b3-3d5201ee7b13",
   "metadata": {},
   "outputs": [],
   "source": [
    "plt.figure()\n",
    "plt.imshow(mask)\n",
    "plt.show()"
   ]
  },
  {
   "cell_type": "code",
   "execution_count": 26,
   "id": "9a51d9b3-4f15-45b5-a994-fd5a7b37555a",
   "metadata": {},
   "outputs": [],
   "source": [
    "spot_stats = regionprops(label(mask), fluor_img)\n",
    "min_spot_area = 4.0 # 4 is default\n",
    "max_axes_ratio = 1.5"
   ]
  },
  {
   "cell_type": "code",
   "execution_count": 27,
   "id": "f5bad789-2fc1-4a79-a9f5-f7ba4a47c539",
   "metadata": {},
   "outputs": [],
   "source": [
    "spot_filtered = [item for item in spot_stats if item.area > min_spot_area]\n",
    "\n",
    "spot_axes_ratio = np.array([spot.axis_major_length / spot.axis_minor_length for spot in spot_filtered])\n",
    "spot_areas = np.array([spot.area for spot in spot_filtered])\n",
    "# indices in spot filtered based on area\n",
    "dot_coords = [spot.centroid_weighted for spot in spot_filtered]\n",
    "\n"
   ]
  },
  {
   "cell_type": "code",
   "execution_count": 28,
   "id": "220a8788-74b6-40b7-81ea-4ac94c578cf6",
   "metadata": {},
   "outputs": [
    {
     "data": {
      "text/plain": [
       "1079"
      ]
     },
     "execution_count": 28,
     "metadata": {},
     "output_type": "execute_result"
    }
   ],
   "source": [
    "len(dot_coords)"
   ]
  },
  {
   "cell_type": "code",
   "execution_count": 29,
   "id": "b8b12ae7-24b2-49b5-b5d9-fb493396bca6",
   "metadata": {},
   "outputs": [],
   "source": [
    "dot_coords_np = np.array(dot_coords)"
   ]
  },
  {
   "cell_type": "code",
   "execution_count": 30,
   "id": "4d62aee0-864c-4335-8e91-a4dcd5698bbd",
   "metadata": {},
   "outputs": [
    {
     "data": {
      "text/plain": [
       "(1079, 2)"
      ]
     },
     "execution_count": 30,
     "metadata": {},
     "output_type": "execute_result"
    }
   ],
   "source": [
    "dot_coords_np.shape"
   ]
  },
  {
   "cell_type": "code",
   "execution_count": 31,
   "id": "b9760462-680f-4893-af1d-084b441891cf",
   "metadata": {},
   "outputs": [
    {
     "data": {
      "text/plain": [
       "array([[ 733.03863318, 1617.92499002],\n",
       "       [ 214.58543031, 1442.99747214],\n",
       "       [ 217.75081216, 2527.63563058],\n",
       "       ...,\n",
       "       [1359.49490529, 3083.00901372],\n",
       "       [1368.33591223,  922.41221828],\n",
       "       [1371.37845871, 2544.50097317]])"
      ]
     },
     "execution_count": 31,
     "metadata": {},
     "output_type": "execute_result"
    }
   ],
   "source": [
    "dot_coords_np"
   ]
  },
  {
   "cell_type": "code",
   "execution_count": 32,
   "id": "815097a3-7c73-426c-8278-23fe6f18c081",
   "metadata": {},
   "outputs": [
    {
     "data": {
      "text/plain": [
       "(1079, 1079)"
      ]
     },
     "execution_count": 32,
     "metadata": {},
     "output_type": "execute_result"
    }
   ],
   "source": [
    "len(spot_stats), len(spot_filtered)"
   ]
  },
  {
   "cell_type": "code",
   "execution_count": 33,
   "id": "188a1bc8-b53b-4a00-9b24-2fde04e990b7",
   "metadata": {},
   "outputs": [],
   "source": [
    "overlap_indices = np.where(np.logical_and(spot_axes_ratio > max_axes_ratio, spot_areas >= 2 * min_spot_area))[0]"
   ]
  },
  {
   "cell_type": "code",
   "execution_count": 34,
   "id": "a0942615-e586-4313-ae8b-6adee99d06ef",
   "metadata": {},
   "outputs": [
    {
     "data": {
      "text/plain": [
       "array([   0,    2,    4,    9,   13,   17,   18,   20,   22,   24,   25,\n",
       "         26,   27,   28,   31,   32,   34,   35,   42,   43,   50,   51,\n",
       "         67,   68,   73,   78,   80,   90,   93,   95,   99,  102,  104,\n",
       "        106,  109,  114,  117,  119,  122,  123,  125,  127,  128,  132,\n",
       "        133,  137,  138,  139,  141,  145,  148,  149,  150,  152,  157,\n",
       "        159,  161,  164,  165,  166,  167,  172,  173,  175,  176,  178,\n",
       "        181,  182,  191,  195,  201,  204,  206,  207,  208,  209,  212,\n",
       "        213,  220,  222,  224,  227,  231,  233,  234,  235,  242,  246,\n",
       "        247,  248,  252,  256,  257,  260,  271,  274,  279,  281,  283,\n",
       "        284,  286,  287,  289,  290,  294,  301,  303,  304,  305,  316,\n",
       "        319,  321,  322,  326,  331,  332,  333,  336,  337,  338,  343,\n",
       "        345,  348,  353,  354,  361,  366,  368,  374,  376,  380,  381,\n",
       "        382,  384,  390,  398,  401,  411,  414,  421,  424,  426,  427,\n",
       "        433,  439,  443,  447,  448,  451,  453,  454,  455,  456,  459,\n",
       "        460,  461,  463,  464,  467,  468,  469,  475,  478,  480,  486,\n",
       "        487,  489,  490,  491,  492,  493,  495,  500,  506,  512,  514,\n",
       "        515,  516,  518,  519,  525,  528,  529,  530,  534,  537,  540,\n",
       "        543,  544,  549,  551,  552,  562,  564,  567,  570,  576,  580,\n",
       "        581,  591,  597,  599,  600,  607,  609,  614,  622,  626,  627,\n",
       "        628,  629,  632,  634,  635,  637,  638,  639,  645,  649,  651,\n",
       "        653,  658,  660,  661,  662,  669,  671,  675,  676,  678,  680,\n",
       "        683,  684,  692,  694,  699,  700,  706,  707,  713,  714,  716,\n",
       "        718,  719,  721,  722,  733,  735,  738,  742,  743,  750,  751,\n",
       "        754,  756,  764,  765,  768,  770,  776,  779,  780,  782,  783,\n",
       "        785,  789,  791,  793,  794,  796,  800,  801,  804,  807,  814,\n",
       "        817,  819,  820,  826,  828,  830,  832,  833,  838,  839,  840,\n",
       "        845,  847,  848,  851,  856,  861,  864,  866,  867,  869,  871,\n",
       "        872,  874,  879,  882,  884,  886,  893,  900,  902,  904,  908,\n",
       "        909,  910,  911,  913,  919,  921,  923,  926,  928,  931,  932,\n",
       "        933,  934,  936,  939,  943,  944,  951,  952,  954,  957,  960,\n",
       "        964,  968,  974,  977,  987,  989,  992,  994,  999, 1000, 1002,\n",
       "       1004, 1005, 1006, 1009, 1013, 1014, 1018, 1022, 1023, 1024, 1025,\n",
       "       1029, 1031, 1032, 1033, 1036, 1041, 1042, 1046, 1049, 1052, 1057,\n",
       "       1058, 1065, 1068, 1078], dtype=int64)"
      ]
     },
     "execution_count": 34,
     "metadata": {},
     "output_type": "execute_result"
    }
   ],
   "source": [
    "overlap_indices"
   ]
  },
  {
   "cell_type": "code",
   "execution_count": 35,
   "id": "5629fc65-9d28-4348-b26a-ff6a15fa15d3",
   "metadata": {},
   "outputs": [],
   "source": [
    "orientation = np.array([spot.orientation for spot in spot_filtered])"
   ]
  },
  {
   "cell_type": "markdown",
   "id": "e769c9c1-09d3-4aa2-8b22-9a3376440d87",
   "metadata": {},
   "source": [
    "\n",
    "index = overlap_indices[19]\n",
    "fig, ax = plt.subplots(nrows=1, ncols=2)\n",
    "ax[0].imshow(spot_filtered[index].image, cmap='gray')\n",
    "ax[1].imshow(spot_filtered[index].image_intensity, cmap='gray')\n",
    "plt.suptitle(spot_axes_ratio[index])\n",
    "plt.show()"
   ]
  },
  {
   "cell_type": "markdown",
   "id": "1e4b3b7e-0238-42d0-a25b-eb05157326d6",
   "metadata": {},
   "source": [
    "#### Splitting dots if they meet the overlap criteria"
   ]
  },
  {
   "cell_type": "code",
   "execution_count": 37,
   "id": "c7437bd8-5db4-43b9-8254-e2b60d09fe39",
   "metadata": {},
   "outputs": [],
   "source": [
    "x0, y0 = spot_filtered[index].centroid_weighted"
   ]
  },
  {
   "cell_type": "code",
   "execution_count": 38,
   "id": "b022bdc8-828a-4694-927a-21409710384f",
   "metadata": {},
   "outputs": [
    {
     "data": {
      "text/plain": [
       "(237.2070909360629, 3134.1268357810413)"
      ]
     },
     "execution_count": 38,
     "metadata": {},
     "output_type": "execute_result"
    }
   ],
   "source": [
    "x0, y0"
   ]
  },
  {
   "cell_type": "markdown",
   "id": "5fe6a3fe-25cd-4011-a3c8-779b7164e6b8",
   "metadata": {},
   "source": [
    "#### Plotting dot coordinates"
   ]
  },
  {
   "cell_type": "code",
   "execution_count": 39,
   "id": "1ef8cf7e-4c33-44b1-af64-7c6fcbb9eb6c",
   "metadata": {},
   "outputs": [],
   "source": [
    "def plot_dots(fluor_image, dots):\n",
    "    plt.figure()\n",
    "    plt.imshow(fluor_image, cmap='gray')\n",
    "    plt.plot(dots[:, 1], dots[:, 0], 'ro')\n",
    "    plt.show()"
   ]
  },
  {
   "cell_type": "code",
   "execution_count": 40,
   "id": "238e342e-593f-46be-a1f1-5263adf022b6",
   "metadata": {},
   "outputs": [],
   "source": [
    "plot_dots(fluor_img, dot_coords_np)"
   ]
  },
  {
   "cell_type": "code",
   "execution_count": null,
   "id": "d4654748-290d-449c-b24e-53d36a20d957",
   "metadata": {},
   "outputs": [],
   "source": []
  },
  {
   "cell_type": "code",
   "execution_count": null,
   "id": "13d368d6-51e7-48e7-b031-0a985d74b136",
   "metadata": {},
   "outputs": [],
   "source": []
  },
  {
   "cell_type": "code",
   "execution_count": 3,
   "id": "514d0da9-fb3a-4352-955a-3236bbd355a3",
   "metadata": {},
   "outputs": [],
   "source": [
    "fluor_img_tensor = torch.from_numpy(fluor_img)\n",
    "anscombe_trans_tensor = 2 * torch.sqrt(fluor_img_tensor + 3/8)"
   ]
  },
  {
   "cell_type": "code",
   "execution_count": 4,
   "id": "4e9fa3a2-fef6-4dfa-b2de-5757127468c3",
   "metadata": {},
   "outputs": [],
   "source": [
    "anscombe_trans_tensor = 2 * torch.sqrt(fluor_img_tensor + 3/8)"
   ]
  },
  {
   "cell_type": "code",
   "execution_count": 5,
   "id": "3022f604-e690-4bd9-b1dc-ebad35f5f0fb",
   "metadata": {},
   "outputs": [],
   "source": [
    "anscombe_trans_image = 2 * np.sqrt(fluor_img+3/8)"
   ]
  },
  {
   "cell_type": "code",
   "execution_count": 6,
   "id": "c119cb98-0bf8-416c-8350-311e2cb36022",
   "metadata": {},
   "outputs": [
    {
     "data": {
      "text/plain": [
       "device(type='cpu')"
      ]
     },
     "execution_count": 6,
     "metadata": {},
     "output_type": "execute_result"
    }
   ],
   "source": [
    "anscombe_trans_tensor.device"
   ]
  },
  {
   "cell_type": "code",
   "execution_count": 7,
   "id": "50d3206a-a405-4615-9722-d6d32db6d9c4",
   "metadata": {},
   "outputs": [],
   "source": [
    "from rtseg.dotdetection.detect import compute_wavelet_planes"
   ]
  },
  {
   "cell_type": "code",
   "execution_count": 8,
   "id": "29269f32-4c1c-48a1-abe3-f3ed13a26b36",
   "metadata": {},
   "outputs": [],
   "source": [
    "w = compute_wavelet_planes(anscombe_trans_tensor, device='cpu')"
   ]
  },
  {
   "cell_type": "code",
   "execution_count": 9,
   "id": "0c7002ff-259d-468d-869c-989bd0f0c9d1",
   "metadata": {},
   "outputs": [
    {
     "data": {
      "text/plain": [
       "torch.Size([4, 1404, 3200])"
      ]
     },
     "execution_count": 9,
     "metadata": {},
     "output_type": "execute_result"
    }
   ],
   "source": [
    "w.shape"
   ]
  },
  {
   "cell_type": "code",
   "execution_count": 10,
   "id": "60049e37-5135-48c2-800d-83b250228360",
   "metadata": {},
   "outputs": [],
   "source": [
    "#%timeit w = compute_wavelet_planes(anscombe_trans_tensor, device='cpu')"
   ]
  },
  {
   "cell_type": "code",
   "execution_count": 11,
   "id": "ecdc14cd-1c4e-4d9b-a309-f91f4620ee4b",
   "metadata": {},
   "outputs": [],
   "source": [
    "w_gpu = compute_wavelet_planes(anscombe_trans_tensor, device='cuda:0')"
   ]
  },
  {
   "cell_type": "code",
   "execution_count": 12,
   "id": "66c91cff-2b11-40f4-a70c-42542b7c773b",
   "metadata": {},
   "outputs": [],
   "source": [
    "#%timeit w_gpu = compute_wavelet_planes(anscombe_trans_tensor, device='cuda:0')"
   ]
  },
  {
   "cell_type": "code",
   "execution_count": 13,
   "id": "b5f89119-3087-42d8-bb8c-8364ec395be9",
   "metadata": {},
   "outputs": [
    {
     "data": {
      "text/plain": [
       "(device(type='cpu'), device(type='cuda', index=0))"
      ]
     },
     "execution_count": 13,
     "metadata": {},
     "output_type": "execute_result"
    }
   ],
   "source": [
    "w.device, w_gpu.device"
   ]
  },
  {
   "cell_type": "code",
   "execution_count": 14,
   "id": "e1a737f5-e103-4cd7-8e1e-8aecbc9ef55b",
   "metadata": {},
   "outputs": [
    {
     "data": {
      "text/plain": [
       "tensor(1.9073e-05)"
      ]
     },
     "execution_count": 14,
     "metadata": {},
     "output_type": "execute_result"
    }
   ],
   "source": [
    "torch.max(torch.abs((w - w_gpu.cpu()))) "
   ]
  },
  {
   "cell_type": "code",
   "execution_count": 15,
   "id": "08e8347c-8672-4a0a-a805-68d12f61d8ec",
   "metadata": {},
   "outputs": [],
   "source": [
    "def plot_wavelets(wavelet_planes):\n",
    "    fig, ax = plt.subplots(nrows=2, ncols=2)\n",
    "    for i in range(4):\n",
    "        ax[i//2, i % 2].imshow(wavelet_planes[i].numpy(), cmap='gray')\n",
    "        ax[i//2, i % 2].set_title(f\"i = {i}th plane\")\n",
    "    plt.show()"
   ]
  },
  {
   "cell_type": "code",
   "execution_count": 16,
   "id": "4fd4e65c-b994-4723-9494-4f3f72ae0950",
   "metadata": {},
   "outputs": [],
   "source": [
    "plot_wavelets(w_gpu.cpu())"
   ]
  },
  {
   "cell_type": "code",
   "execution_count": 17,
   "id": "562c797b-58a5-44b9-bb16-8cc4bdb6bb41",
   "metadata": {},
   "outputs": [],
   "source": [
    "plot_wavelets(w)"
   ]
  },
  {
   "cell_type": "code",
   "execution_count": 18,
   "id": "86017592-c927-42af-bd4a-b11a2e89a975",
   "metadata": {},
   "outputs": [],
   "source": [
    "seg_image = torch.from_numpy(seg_image)"
   ]
  },
  {
   "cell_type": "markdown",
   "id": "5fa50652-e6b9-45dd-954e-14d5d15a7c1a",
   "metadata": {},
   "source": [
    "#### Construction binary mask of the spots using the wavelet planes\n",
    "\n",
    "There four levels and you need to filter all levels and pick the workplane level as\n",
    "filtered image. After his clean the filetered image using binaray morphological \n",
    "operations"
   ]
  },
  {
   "cell_type": "code",
   "execution_count": 116,
   "id": "566e86c0-8cc8-4102-a99d-3b4e87246fdf",
   "metadata": {},
   "outputs": [],
   "source": [
    "def binary_spot_mask(w, seg_mask, wavelet_plane_no=2, device='cpu', noise_threshold=3.0,\n",
    "                          noise_level_division=0.7):\n",
    "    w = w.to(device)\n",
    "    seg_mask = seg_mask.to(device)\n",
    "    ind = seg_mask > 0\n",
    "\n",
    "    w_masked = w[:, ind]\n",
    "    w_mean = torch.mean(w_masked, dim=1)[:, None]\n",
    "    noise_level = torch.median(torch.abs(w_masked - w_mean), dim=1).values / noise_level_division\n",
    "    threshold = noise_threshold * noise_level\n",
    "    \n",
    "    filtered_image = torch.zeros_like(w[wavelet_plane_no], device=device)\n",
    "\n",
    "    filtered_image[torch.abs(w[wavelet_plane_no]) >= threshold[wavelet_plane_no]] = 1;\n",
    "\n",
    "    filtered_image *= w[wavelet_plane_no]\n",
    "\n",
    "    binary_mask = torch.zeros_like(filtered_image, device=device)\n",
    "    binary_mask[filtered_image > 0] = 1\n",
    "\n",
    "    # clean up the binary mask\n",
    "    \n",
    "    \n",
    "    return binary_mask"
   ]
  },
  {
   "cell_type": "code",
   "execution_count": 117,
   "id": "673ca9d1-6dd9-40f6-9171-f177b31d6f99",
   "metadata": {},
   "outputs": [],
   "source": [
    "spot_mask = binary_spot_mask(w, seg_image, wavelet_plane_no=2, device='cuda:0', noise_threshold=3.0)"
   ]
  },
  {
   "cell_type": "code",
   "execution_count": 118,
   "id": "de174c9b-fe0c-4a00-9ec6-b3ac549616fc",
   "metadata": {},
   "outputs": [
    {
     "data": {
      "text/plain": [
       "device(type='cuda', index=0)"
      ]
     },
     "execution_count": 118,
     "metadata": {},
     "output_type": "execute_result"
    }
   ],
   "source": [
    "spot_mask.device"
   ]
  },
  {
   "cell_type": "code",
   "execution_count": 119,
   "id": "bcb9ee0f-8fd8-4505-beb6-183983647670",
   "metadata": {},
   "outputs": [
    {
     "data": {
      "text/plain": [
       "torch.Size([1404, 3200])"
      ]
     },
     "execution_count": 119,
     "metadata": {},
     "output_type": "execute_result"
    }
   ],
   "source": [
    "spot_mask.shape"
   ]
  },
  {
   "cell_type": "code",
   "execution_count": 100,
   "id": "b645ff23-39b1-4a42-8173-20e88d57c291",
   "metadata": {},
   "outputs": [],
   "source": [
    "plt.figure()\n",
    "plt.imshow(spot_mask.cpu())\n",
    "plt.show()"
   ]
  },
  {
   "cell_type": "markdown",
   "id": "97b7bbbb-6e8b-4016-9202-31ce0e6f6e26",
   "metadata": {},
   "source": [
    "#### Clean up kernels\n",
    "\n",
    "We clean using convolutions on the GPU to do the binary morphological equivalents found in matlab\n",
    "\n",
    "1. clean --> remove isolated pixels\n",
    "\n",
    "2. hbreak -> remove two horizontal lines connected by one pixel\n",
    "\n",
    "3. spur -> remove spurious hanging pixels # we skip the spur for now\n",
    "4. clean -> clean again\n",
    "5. thicken -> probably a bit more complicated, dilate the spot later"
   ]
  },
  {
   "cell_type": "code",
   "execution_count": 120,
   "id": "1d856427-b667-4475-8422-fd8c926254d5",
   "metadata": {},
   "outputs": [
    {
     "data": {
      "text/plain": [
       "device(type='cuda', index=0)"
      ]
     },
     "execution_count": 120,
     "metadata": {},
     "output_type": "execute_result"
    }
   ],
   "source": [
    "spot_mask.device"
   ]
  },
  {
   "cell_type": "code",
   "execution_count": 121,
   "id": "77e01fc9-6bcc-47c2-902b-0e38aacc7eb8",
   "metadata": {},
   "outputs": [
    {
     "data": {
      "text/plain": [
       "torch.Size([1404, 3200])"
      ]
     },
     "execution_count": 121,
     "metadata": {},
     "output_type": "execute_result"
    }
   ],
   "source": [
    "spot_mask.shape"
   ]
  },
  {
   "cell_type": "code",
   "execution_count": null,
   "id": "6874e3ee-f28f-450b-aff1-59e9b7994594",
   "metadata": {},
   "outputs": [],
   "source": []
  },
  {
   "cell_type": "code",
   "execution_count": 122,
   "id": "bbc0d105-fcdd-41bd-9fe2-9d6cfe6814a8",
   "metadata": {},
   "outputs": [],
   "source": [
    "def clean_spots(image):\n",
    "    clean_kernel = torch.ones((1, 1, 3, 3)).to(image.device)\n",
    "    conved = F.conv2d(image, clean_kernel, padding='same')\n",
    "    image[conved == 1] = 0\n",
    "    return image\n",
    "\n",
    "def clean_hbreak(image):\n",
    "    kernel1 = torch.tensor([[1.0, 1.0, 1.0], [0.0, 1.0, 0.0], [1.0, 1.0, 1.0]])[None, None, :].to(image.device)\n",
    "    kernel2 = torch.tensor([[0.0, 0.0, 0.0], [1.0, 0.0, 1.0], [0.0, 0.0, 0.0]])[None, None, :].to(image.device)\n",
    "    conved1 = F.conv2d(image, kernel1, padding='same')\n",
    "    conved2 = F.conv2d(image, kernel2, padding='same')\n",
    "    result = torch.logical_and(conved1 == 7, conved2 == 2).float()\n",
    "\n",
    "    find_ones = torch.ones((1, 1, 3, 3)).to(image.device)\n",
    "    conved = F.conv2d(result, find_ones, padding = 'same')\n",
    "    image[conved == 1] = 0\n",
    "    return image\n",
    "\n",
    "def clean_vbreak(image):\n",
    "    kernel1 = torch.tensor([[1.0, 0.0, 1.0], [1.0, 1.0, 1.0], [1.0, 0.0, 1.0]])[None, None, :].to(image.device)\n",
    "    kernel2 = torch.tensor([[0.0, 1.0, 0.0], [0.0, 0.0, 0.0], [0.0, 1.0, 0.0]])[None, None, :].to(image.device)\n",
    "    conved1 = F.conv2d(image, kernel1, padding='same')\n",
    "    conved2 = F.conv2d(image, kernel2, padding='same')\n",
    "    result = torch.logical_and(conved1 == 7, conved2 == 2).float()\n",
    "\n",
    "    find_ones = torch.ones((1, 1, 3, 3)).to(image.device)\n",
    "    conved = F.conv2d(result, find_ones, padding = 'same')\n",
    "\n",
    "    image[conved == 1] = 0\n",
    "    return image"
   ]
  },
  {
   "cell_type": "code",
   "execution_count": 123,
   "id": "ef622d96-c2dd-4605-a423-5af0b0ca06c3",
   "metadata": {},
   "outputs": [],
   "source": [
    "cleaned = clean_spots(spot_mask[None,None,:])"
   ]
  },
  {
   "cell_type": "code",
   "execution_count": 105,
   "id": "95722972-00d0-46fa-90fd-855183cd24d2",
   "metadata": {},
   "outputs": [
    {
     "data": {
      "text/plain": [
       "torch.Size([1, 1, 1404, 3200])"
      ]
     },
     "execution_count": 105,
     "metadata": {},
     "output_type": "execute_result"
    }
   ],
   "source": [
    "cleaned.shape"
   ]
  },
  {
   "cell_type": "code",
   "execution_count": null,
   "id": "16610a04-17a4-4910-9b29-2937a3ec1c15",
   "metadata": {},
   "outputs": [],
   "source": []
  },
  {
   "cell_type": "code",
   "execution_count": null,
   "id": "6e50d558-928d-4b40-8d8f-96345b86ee81",
   "metadata": {},
   "outputs": [],
   "source": []
  },
  {
   "cell_type": "code",
   "execution_count": 106,
   "id": "87f12afd-94b2-4832-9f4d-8824de98777d",
   "metadata": {},
   "outputs": [],
   "source": [
    "plt.figure()\n",
    "plt.imshow(cleaned.cpu().numpy()[0][0], cmap='gray')\n",
    "plt.show()"
   ]
  },
  {
   "cell_type": "code",
   "execution_count": 107,
   "id": "1dc3b34b-8c99-4335-add0-9d86391251ed",
   "metadata": {},
   "outputs": [],
   "source": [
    "cleaned_breaks = clean_hbreak(cleaned)"
   ]
  },
  {
   "cell_type": "code",
   "execution_count": 108,
   "id": "39eb90df-882e-43ed-bb94-c9cfa33e6292",
   "metadata": {},
   "outputs": [],
   "source": [
    "plt.figure()\n",
    "plt.imshow(cleaned_breaks.cpu().numpy()[0][0], cmap='gray')\n",
    "plt.show()"
   ]
  },
  {
   "cell_type": "code",
   "execution_count": 109,
   "id": "29990fd3-59c4-4c2e-94aa-7005402cab2f",
   "metadata": {},
   "outputs": [],
   "source": [
    "cleaned_breaks = clean_vbreak(cleaned_breaks)"
   ]
  },
  {
   "cell_type": "code",
   "execution_count": 110,
   "id": "c308c66c-5913-4950-a1c3-cbc8848ddba5",
   "metadata": {},
   "outputs": [],
   "source": [
    "plt.figure()\n",
    "plt.imshow(cleaned_breaks.cpu().numpy()[0][0], cmap='gray')\n",
    "plt.show()"
   ]
  },
  {
   "cell_type": "code",
   "execution_count": 111,
   "id": "aa6f6094-626f-4fe1-96df-a1caf79328a0",
   "metadata": {},
   "outputs": [],
   "source": [
    "from skimage.segmentation import expand_labels\n",
    "from skimage.measure import label"
   ]
  },
  {
   "cell_type": "code",
   "execution_count": 112,
   "id": "a87e8b94-65fd-4ca1-980d-310963e45f61",
   "metadata": {},
   "outputs": [],
   "source": [
    "cleaned_mask = cleaned_breaks[0][0].cpu().numpy()"
   ]
  },
  {
   "cell_type": "code",
   "execution_count": 113,
   "id": "c841f2a4-28ee-430f-a20c-d4c7ca766c79",
   "metadata": {},
   "outputs": [],
   "source": [
    "final_image = expand_labels(label(cleaned_mask))"
   ]
  },
  {
   "cell_type": "code",
   "execution_count": 115,
   "id": "327878b4-e448-46db-a41a-88fff1c9afe9",
   "metadata": {},
   "outputs": [],
   "source": [
    "plt.figure()\n",
    "plt.imshow(final_image > 0)\n",
    "plt.show()"
   ]
  },
  {
   "cell_type": "code",
   "execution_count": null,
   "id": "dadb49c1-f7ca-4abb-ade8-1a48227bdc71",
   "metadata": {},
   "outputs": [],
   "source": []
  },
  {
   "cell_type": "code",
   "execution_count": 39,
   "id": "b4dff5bb-5557-4bcb-a409-538f6fc585ba",
   "metadata": {},
   "outputs": [],
   "source": [
    "kernel1 = torch.tensor([[1.0, 1.0, 1.0], [0.0, 1.0, 0.0], [1.0, 1.0, 1.0]])[None, None, :].to(spot_mask.device)\n",
    "conved1 = F.conv2d(cleaned, kernel1, padding='same')"
   ]
  },
  {
   "cell_type": "code",
   "execution_count": 47,
   "id": "7d7b42d3-78e8-4981-9feb-ff053ec5ade7",
   "metadata": {},
   "outputs": [],
   "source": [
    "plt.figure()\n",
    "plt.imshow(conved1.cpu().numpy()[0][0], cmap='gray')\n",
    "plt.show()"
   ]
  },
  {
   "cell_type": "code",
   "execution_count": 41,
   "id": "4cfe2d33-9b1e-42b9-87d2-acf4cc171d23",
   "metadata": {},
   "outputs": [],
   "source": [
    "kernel2 = torch.tensor([[0.0, 0.0, 0.0], [1.0, 0.0, 1.0], [0.0, 0.0, 0.0]])[None, None, :].to(spot_mask.device)"
   ]
  },
  {
   "cell_type": "code",
   "execution_count": 42,
   "id": "a20b0da1-c19c-49b7-8a9d-95946cd38c16",
   "metadata": {},
   "outputs": [],
   "source": [
    "conved2 = F.conv2d(cleaned, kernel2, padding='same')"
   ]
  },
  {
   "cell_type": "code",
   "execution_count": 48,
   "id": "ff710d2a-e80b-4fc7-9f53-15f738b59116",
   "metadata": {},
   "outputs": [],
   "source": [
    "plt.figure()\n",
    "plt.imshow(conved2.cpu().numpy()[0][0], cmap='gray')\n",
    "plt.show()"
   ]
  },
  {
   "cell_type": "code",
   "execution_count": 49,
   "id": "6b886c0d-7e87-4da3-a2ec-bc230bf16af8",
   "metadata": {},
   "outputs": [],
   "source": [
    "result = torch.logical_and(conved1 == 7, conved2 == 2).float()"
   ]
  },
  {
   "cell_type": "code",
   "execution_count": 50,
   "id": "2eab84eb-4911-47df-9f86-3d0a30789530",
   "metadata": {},
   "outputs": [],
   "source": [
    "find_ones = torch.ones((1, 1, 3, 3)).to(spot_mask.device)\n",
    "conved = F.conv2d(result, find_ones, padding = 'same')\n"
   ]
  },
  {
   "cell_type": "code",
   "execution_count": 51,
   "id": "a35cbd2c-7fda-4df4-937a-337be2595ab7",
   "metadata": {},
   "outputs": [],
   "source": [
    "plt.figure()\n",
    "plt.imshow(conved.cpu().numpy()[0][0], cmap='gray')\n",
    "plt.show()"
   ]
  },
  {
   "cell_type": "code",
   "execution_count": 53,
   "id": "2efd2229-08f7-4486-82a4-eee75bb21272",
   "metadata": {},
   "outputs": [
    {
     "data": {
      "text/plain": [
       "torch.Size([1, 1, 1404, 3200])"
      ]
     },
     "execution_count": 53,
     "metadata": {},
     "output_type": "execute_result"
    }
   ],
   "source": [
    "conved.shape"
   ]
  },
  {
   "cell_type": "code",
   "execution_count": 54,
   "id": "282ad886-e86f-47ba-8ebb-a6cc85079042",
   "metadata": {},
   "outputs": [
    {
     "data": {
      "text/plain": [
       "torch.Size([1404, 3200])"
      ]
     },
     "execution_count": 54,
     "metadata": {},
     "output_type": "execute_result"
    }
   ],
   "source": [
    "spot_mask.shape"
   ]
  },
  {
   "cell_type": "code",
   "execution_count": 62,
   "id": "4f6c1495-ab58-4225-a18f-c258277e433d",
   "metadata": {},
   "outputs": [],
   "source": [
    "spot_mask[(conved == 1)[0][0]] = 0.0"
   ]
  },
  {
   "cell_type": "code",
   "execution_count": 63,
   "id": "1c900e5b-4e16-49d7-afa3-0ed59fe445d6",
   "metadata": {},
   "outputs": [],
   "source": [
    "plt.figure()\n",
    "plt.imshow(spot_mask.cpu().numpy())\n",
    "plt.show()"
   ]
  },
  {
   "cell_type": "code",
   "execution_count": null,
   "id": "3a6f6818-812c-4376-b072-6ca3c3ea2d82",
   "metadata": {},
   "outputs": [],
   "source": []
  },
  {
   "cell_type": "code",
   "execution_count": null,
   "id": "18dee633-0829-4700-9926-0d98f3c69df7",
   "metadata": {},
   "outputs": [],
   "source": []
  },
  {
   "cell_type": "code",
   "execution_count": 76,
   "id": "3c43f249-f0a5-49de-9d78-a5ff9aeaec2c",
   "metadata": {},
   "outputs": [],
   "source": [
    "cleaned2 = clean_hbreak(cleaned)\n",
    "#cleaned3 = clean_vbreak(cleaned2)"
   ]
  },
  {
   "cell_type": "code",
   "execution_count": 77,
   "id": "1a42f6ba-bef8-459a-b003-8138b617098a",
   "metadata": {},
   "outputs": [],
   "source": [
    "plt.figure()\n",
    "plt.imshow(cleaned2.cpu().numpy()[0][0], cmap='gray')\n",
    "plt.show()"
   ]
  },
  {
   "cell_type": "code",
   "execution_count": 115,
   "id": "8fbf52ba-47c7-47e4-b3a7-b1d6f9398e70",
   "metadata": {},
   "outputs": [
    {
     "data": {
      "text/plain": [
       "tensor([[[[1., 1., 1.],\n",
       "          [1., 1., 1.],\n",
       "          [1., 1., 1.]]]])"
      ]
     },
     "execution_count": 115,
     "metadata": {},
     "output_type": "execute_result"
    }
   ],
   "source": [
    "torch.ones((1, 1, 3, 3))"
   ]
  },
  {
   "cell_type": "code",
   "execution_count": null,
   "id": "b98a3b61-f765-4992-afcf-e22cf1d93017",
   "metadata": {},
   "outputs": [],
   "source": []
  },
  {
   "cell_type": "code",
   "execution_count": null,
   "id": "4a00e7de-6074-4c77-9a5b-f2922151254b",
   "metadata": {},
   "outputs": [],
   "source": []
  },
  {
   "cell_type": "code",
   "execution_count": null,
   "id": "9404b47c-e2b3-4f5c-841d-dd0ec6ea7868",
   "metadata": {},
   "outputs": [],
   "source": [
    "def gen_image(shape=(100, 100)):\n",
    "    prob_dist = torch.ones(shape) * 0.5\n",
    "    dist = torch.distributions.bernoulli.Bernoulli(probs=prob_dist)\n",
    "    return dist.sample()[None, None, :]"
   ]
  },
  {
   "cell_type": "code",
   "execution_count": 80,
   "id": "f87a4e9d-6dee-4b63-8940-cdf646518d91",
   "metadata": {},
   "outputs": [],
   "source": [
    "image = gen_image()\n",
    "plt.figure()\n",
    "plt.imshow(image[0][0].numpy(), cmap='gray')\n",
    "plt.show()"
   ]
  },
  {
   "cell_type": "code",
   "execution_count": 81,
   "id": "cf72ff38-4041-4689-a53c-f36cbb329f08",
   "metadata": {},
   "outputs": [],
   "source": [
    "def clean_spots(image):\n",
    "    clean_kernel = torch.ones((1, 1, 3, 3)).to(image.device)\n",
    "    conved = F.conv2d(image, clean_kernel, padding='same')\n",
    "    image[conved == 1] = 0\n",
    "    return image"
   ]
  },
  {
   "cell_type": "code",
   "execution_count": null,
   "id": "afe05e98-1204-4819-94fb-52586e2b8e5b",
   "metadata": {},
   "outputs": [],
   "source": []
  },
  {
   "cell_type": "code",
   "execution_count": 82,
   "id": "75677b9e-d58e-4c0c-8d5f-aff405c8cbb8",
   "metadata": {},
   "outputs": [],
   "source": [
    "plt.figure()\n",
    "plt.imshow(clean_spots(image)[0][0].numpy(), cmap='gray')\n",
    "plt.show()"
   ]
  },
  {
   "cell_type": "code",
   "execution_count": 92,
   "id": "ceb8f1b4-295e-4662-a71d-f5d7ea9edbb5",
   "metadata": {},
   "outputs": [],
   "source": [
    "plt.figure()\n",
    "plt.imshow(image[0][0].numpy(), cmap='gray')\n",
    "plt.show()"
   ]
  },
  {
   "cell_type": "markdown",
   "id": "80b65e8c-8b68-417e-8965-0be23863f7b2",
   "metadata": {},
   "source": [
    "#### We do hbreak and vbreak at the same time, why not?"
   ]
  },
  {
   "cell_type": "code",
   "execution_count": 94,
   "id": "7742b7e5-6112-463d-b19c-16746dc1f34f",
   "metadata": {},
   "outputs": [],
   "source": [
    "def clean_hbreak(image):\n",
    "    kernel1 = torch.tensor([[1.0, 1.0, 1.0], [0.0, 1.0, 0.0], [1.0, 1.0, 1.0]])[None, None, :]\n",
    "    kernel2 = torch.tensor([[0.0, 0.0, 0.0], [1.0, 0.0, 1.0], [0.0, 0.0, 0.0]])[None, None, :]\n",
    "    conved1 = F.conv2d(image, kernel1, padding='same')\n",
    "    conved2 = F.conv2d(image, kernel2, padding='same')\n",
    "    result = torch.logical_and(conved1 == 7, conved2 == 2)\n",
    "    image[result] = 0\n",
    "    return image"
   ]
  },
  {
   "cell_type": "code",
   "execution_count": 95,
   "id": "222d5813-ae8d-4adc-aff6-e60b27cd8a9f",
   "metadata": {},
   "outputs": [],
   "source": [
    "def clean_vbreak(image):\n",
    "    kernel1 = torch.tensor([[1.0, 0.0, 1.0], [1.0, 1.0, 1.0], [1.0, 0.0, 1.0]])[None, None, :]\n",
    "    kernel2 = torch.tensor([[0.0, 1.0, 0.0], [0.0, 0.0, 0.0], [0.0, 1.0, 0.0]])[None, None, :]\n",
    "    conved1 = F.conv2d(image, kernel1, padding='same')\n",
    "    conved2 = F.conv2d(image, kernel2, padding='same')\n",
    "    result = torch.logical_and(conved1 == 7, conved2 == 2)\n",
    "    image[result] = 0\n",
    "    return image"
   ]
  },
  {
   "cell_type": "code",
   "execution_count": 39,
   "id": "816bc30d-4466-4135-894a-9b9e34f9e04f",
   "metadata": {},
   "outputs": [
    {
     "ename": "NameError",
     "evalue": "name 'image' is not defined",
     "output_type": "error",
     "traceback": [
      "\u001b[0;31m---------------------------------------------------------------------------\u001b[0m",
      "\u001b[0;31mNameError\u001b[0m                                 Traceback (most recent call last)",
      "Cell \u001b[0;32mIn[39], line 2\u001b[0m\n\u001b[1;32m      1\u001b[0m plt\u001b[38;5;241m.\u001b[39mfigure()\n\u001b[0;32m----> 2\u001b[0m plt\u001b[38;5;241m.\u001b[39mimshow(clean_hbreak(\u001b[43mimage\u001b[49m)[\u001b[38;5;241m0\u001b[39m][\u001b[38;5;241m0\u001b[39m]\u001b[38;5;241m.\u001b[39mnumpy(), cmap\u001b[38;5;241m=\u001b[39m\u001b[38;5;124m'\u001b[39m\u001b[38;5;124mgray\u001b[39m\u001b[38;5;124m'\u001b[39m)\n\u001b[1;32m      3\u001b[0m plt\u001b[38;5;241m.\u001b[39mshow()\n",
      "\u001b[0;31mNameError\u001b[0m: name 'image' is not defined"
     ]
    }
   ],
   "source": [
    "plt.figure()\n",
    "plt.imshow(clean_hbreak(image)[0][0].numpy(), cmap='gray')\n",
    "plt.show()"
   ]
  },
  {
   "cell_type": "code",
   "execution_count": 97,
   "id": "cc5e7c8c-536e-492b-a527-8c0a6f47bcce",
   "metadata": {},
   "outputs": [],
   "source": [
    "plt.figure()\n",
    "plt.imshow(clean_vbreak(image)[0][0].numpy(), cmap='gray')\n",
    "plt.show()"
   ]
  },
  {
   "cell_type": "code",
   "execution_count": null,
   "id": "93cc21e3-4024-47fd-a68d-2bc4b1dce32d",
   "metadata": {},
   "outputs": [],
   "source": []
  },
  {
   "cell_type": "code",
   "execution_count": null,
   "id": "4d0ea7f0-e41c-4081-a8fd-1626684165b3",
   "metadata": {},
   "outputs": [],
   "source": []
  },
  {
   "cell_type": "code",
   "execution_count": null,
   "id": "aa16735b-71b8-4464-a8d3-8f19169c1e87",
   "metadata": {},
   "outputs": [],
   "source": []
  },
  {
   "cell_type": "markdown",
   "id": "278e0b4a-0c9a-42e0-abef-c362877564ca",
   "metadata": {},
   "source": [
    "### Finding spot centroids"
   ]
  },
  {
   "cell_type": "code",
   "execution_count": 123,
   "id": "c25df025-4b22-44d0-bab2-bdc9585d9c52",
   "metadata": {},
   "outputs": [],
   "source": [
    "from skimage.measure import regionprops, label, regionprops_table"
   ]
  },
  {
   "cell_type": "code",
   "execution_count": 124,
   "id": "84778fc5-cc1d-4dda-ab1c-d04570d02124",
   "metadata": {},
   "outputs": [],
   "source": [
    "def find_spot_centroids(spot_bin_mask, fluor_image, min_spot_area=0, max_axes_ratio=1.7):\n",
    "    pass"
   ]
  },
  {
   "cell_type": "code",
   "execution_count": 133,
   "id": "734c0d26-81c8-4344-a0cb-2f8e99d3d8c5",
   "metadata": {},
   "outputs": [
    {
     "name": "stdout",
     "output_type": "stream",
     "text": [
      "356 ms ± 2.1 ms per loop (mean ± std. dev. of 7 runs, 1 loop each)\n"
     ]
    }
   ],
   "source": [
    "%timeit spot_stats = regionprops_table(label(bin_mask_cpu), fluor_img, properties=['centroid_weighted', 'axis_major_length', 'axis_minor_length', 'area', 'orientation', 'coords'])"
   ]
  },
  {
   "cell_type": "code",
   "execution_count": 164,
   "id": "bf0d7998-e995-4216-a1bb-8ca1a11065c1",
   "metadata": {},
   "outputs": [],
   "source": [
    "spot_stats = regionprops(label(bin_mask_cpu), fluor_img)"
   ]
  },
  {
   "cell_type": "code",
   "execution_count": 165,
   "id": "903b67b9-3640-4e27-b5a7-4f87836b93ee",
   "metadata": {},
   "outputs": [
    {
     "data": {
      "text/plain": [
       "1576"
      ]
     },
     "execution_count": 165,
     "metadata": {},
     "output_type": "execute_result"
    }
   ],
   "source": [
    "len(spot_stats)"
   ]
  },
  {
   "cell_type": "code",
   "execution_count": 173,
   "id": "1c5c5614-eb7e-44b7-930b-070a52a792b5",
   "metadata": {},
   "outputs": [],
   "source": [
    "min_spot_area = 5\n",
    "max_spot_area = 100\n",
    "max_axes_ratio = 1.7"
   ]
  },
  {
   "cell_type": "code",
   "execution_count": 174,
   "id": "25f4f3ec-9439-4247-a388-a42db914e6a6",
   "metadata": {},
   "outputs": [],
   "source": [
    "area = [(i, spot['area']) \n",
    "            for i, spot in enumerate(spot_stats) if spot['area'] >=  min_spot_area and spot['area'] <= max_spot_area ]"
   ]
  },
  {
   "cell_type": "code",
   "execution_count": 175,
   "id": "9d9061e3-646e-4b70-9928-0192cb410eed",
   "metadata": {},
   "outputs": [],
   "source": [
    "spots_filtered = [spot_stats[spot_idx] for spot_idx, spot_area in area]"
   ]
  },
  {
   "cell_type": "code",
   "execution_count": 176,
   "id": "2207a944-c0e9-463a-86c9-d32306aac333",
   "metadata": {},
   "outputs": [
    {
     "data": {
      "text/plain": [
       "1420"
      ]
     },
     "execution_count": 176,
     "metadata": {},
     "output_type": "execute_result"
    }
   ],
   "source": [
    "len(spots_filtered)"
   ]
  },
  {
   "cell_type": "code",
   "execution_count": 177,
   "id": "85b4e382-3e0e-4f38-845a-0fae4bf5ff7d",
   "metadata": {},
   "outputs": [],
   "source": [
    "axes_ratio = [spot['axis_major_length'] / spot['axis_minor_length'] for spot in spots_filtered]"
   ]
  },
  {
   "cell_type": "code",
   "execution_count": 183,
   "id": "7472426a-e44d-45d3-9b13-323bba6ab73c",
   "metadata": {},
   "outputs": [
    {
     "data": {
      "text/plain": [
       "(218.58425921621495, 489.79624378225094)"
      ]
     },
     "execution_count": 183,
     "metadata": {},
     "output_type": "execute_result"
    }
   ],
   "source": [
    "spots_filtered[3]['centroid_weighted']"
   ]
  },
  {
   "cell_type": "code",
   "execution_count": 185,
   "id": "7592e5e4-d781-4f07-b097-d1e663ffb33e",
   "metadata": {},
   "outputs": [],
   "source": [
    "overlap_indices = [idx for (idx, axes_ratio) in enumerate(axes_ratio) if axes_ratio > max_axes_ratio]"
   ]
  },
  {
   "cell_type": "code",
   "execution_count": 187,
   "id": "a2a05ad8-a2d4-4676-b79f-a337d070ab51",
   "metadata": {},
   "outputs": [
    {
     "data": {
      "text/plain": [
       "357"
      ]
     },
     "execution_count": 187,
     "metadata": {},
     "output_type": "execute_result"
    }
   ],
   "source": [
    "len(overlap_indices)"
   ]
  },
  {
   "cell_type": "code",
   "execution_count": 188,
   "id": "90d47d99-8440-4858-9cc9-0a5820170106",
   "metadata": {},
   "outputs": [
    {
     "data": {
      "text/plain": [
       "[0,\n",
       " 6,\n",
       " 7,\n",
       " 13,\n",
       " 18,\n",
       " 21,\n",
       " 22,\n",
       " 23,\n",
       " 25,\n",
       " 26,\n",
       " 29,\n",
       " 30,\n",
       " 36,\n",
       " 38,\n",
       " 42,\n",
       " 46,\n",
       " 57,\n",
       " 67,\n",
       " 70,\n",
       " 71,\n",
       " 76,\n",
       " 80,\n",
       " 88,\n",
       " 91,\n",
       " 101,\n",
       " 103,\n",
       " 110,\n",
       " 119,\n",
       " 121,\n",
       " 129,\n",
       " 132,\n",
       " 134,\n",
       " 137,\n",
       " 139,\n",
       " 142,\n",
       " 144,\n",
       " 148,\n",
       " 149,\n",
       " 150,\n",
       " 151,\n",
       " 159,\n",
       " 164,\n",
       " 168,\n",
       " 169,\n",
       " 178,\n",
       " 184,\n",
       " 186,\n",
       " 189,\n",
       " 193,\n",
       " 194,\n",
       " 198,\n",
       " 199,\n",
       " 200,\n",
       " 205,\n",
       " 210,\n",
       " 213,\n",
       " 215,\n",
       " 217,\n",
       " 220,\n",
       " 222,\n",
       " 224,\n",
       " 225,\n",
       " 226,\n",
       " 231,\n",
       " 232,\n",
       " 236,\n",
       " 238,\n",
       " 240,\n",
       " 241,\n",
       " 245,\n",
       " 248,\n",
       " 249,\n",
       " 250,\n",
       " 254,\n",
       " 255,\n",
       " 258,\n",
       " 259,\n",
       " 266,\n",
       " 267,\n",
       " 276,\n",
       " 277,\n",
       " 286,\n",
       " 291,\n",
       " 294,\n",
       " 298,\n",
       " 301,\n",
       " 304,\n",
       " 310,\n",
       " 318,\n",
       " 319,\n",
       " 322,\n",
       " 325,\n",
       " 326,\n",
       " 328,\n",
       " 329,\n",
       " 331,\n",
       " 333,\n",
       " 334,\n",
       " 353,\n",
       " 362,\n",
       " 367,\n",
       " 369,\n",
       " 370,\n",
       " 372,\n",
       " 374,\n",
       " 377,\n",
       " 380,\n",
       " 385,\n",
       " 394,\n",
       " 395,\n",
       " 400,\n",
       " 406,\n",
       " 413,\n",
       " 417,\n",
       " 422,\n",
       " 426,\n",
       " 431,\n",
       " 434,\n",
       " 440,\n",
       " 441,\n",
       " 443,\n",
       " 445,\n",
       " 448,\n",
       " 449,\n",
       " 452,\n",
       " 460,\n",
       " 469,\n",
       " 470,\n",
       " 472,\n",
       " 481,\n",
       " 483,\n",
       " 499,\n",
       " 505,\n",
       " 510,\n",
       " 527,\n",
       " 530,\n",
       " 532,\n",
       " 541,\n",
       " 548,\n",
       " 552,\n",
       " 554,\n",
       " 555,\n",
       " 559,\n",
       " 564,\n",
       " 567,\n",
       " 573,\n",
       " 576,\n",
       " 577,\n",
       " 579,\n",
       " 582,\n",
       " 585,\n",
       " 587,\n",
       " 590,\n",
       " 591,\n",
       " 594,\n",
       " 596,\n",
       " 608,\n",
       " 610,\n",
       " 618,\n",
       " 621,\n",
       " 622,\n",
       " 625,\n",
       " 631,\n",
       " 633,\n",
       " 639,\n",
       " 640,\n",
       " 648,\n",
       " 653,\n",
       " 655,\n",
       " 656,\n",
       " 659,\n",
       " 663,\n",
       " 666,\n",
       " 669,\n",
       " 673,\n",
       " 680,\n",
       " 690,\n",
       " 693,\n",
       " 695,\n",
       " 696,\n",
       " 699,\n",
       " 705,\n",
       " 707,\n",
       " 713,\n",
       " 725,\n",
       " 728,\n",
       " 729,\n",
       " 731,\n",
       " 736,\n",
       " 738,\n",
       " 750,\n",
       " 751,\n",
       " 753,\n",
       " 756,\n",
       " 771,\n",
       " 776,\n",
       " 777,\n",
       " 781,\n",
       " 783,\n",
       " 787,\n",
       " 790,\n",
       " 795,\n",
       " 796,\n",
       " 798,\n",
       " 801,\n",
       " 802,\n",
       " 809,\n",
       " 811,\n",
       " 813,\n",
       " 814,\n",
       " 815,\n",
       " 823,\n",
       " 826,\n",
       " 828,\n",
       " 830,\n",
       " 834,\n",
       " 838,\n",
       " 839,\n",
       " 842,\n",
       " 846,\n",
       " 849,\n",
       " 853,\n",
       " 855,\n",
       " 857,\n",
       " 869,\n",
       " 870,\n",
       " 871,\n",
       " 874,\n",
       " 879,\n",
       " 886,\n",
       " 887,\n",
       " 891,\n",
       " 893,\n",
       " 898,\n",
       " 899,\n",
       " 903,\n",
       " 904,\n",
       " 912,\n",
       " 917,\n",
       " 921,\n",
       " 924,\n",
       " 927,\n",
       " 930,\n",
       " 933,\n",
       " 935,\n",
       " 942,\n",
       " 951,\n",
       " 953,\n",
       " 956,\n",
       " 962,\n",
       " 963,\n",
       " 966,\n",
       " 967,\n",
       " 971,\n",
       " 973,\n",
       " 974,\n",
       " 978,\n",
       " 979,\n",
       " 984,\n",
       " 991,\n",
       " 992,\n",
       " 1000,\n",
       " 1002,\n",
       " 1003,\n",
       " 1004,\n",
       " 1006,\n",
       " 1010,\n",
       " 1027,\n",
       " 1032,\n",
       " 1040,\n",
       " 1044,\n",
       " 1056,\n",
       " 1059,\n",
       " 1062,\n",
       " 1071,\n",
       " 1073,\n",
       " 1080,\n",
       " 1081,\n",
       " 1082,\n",
       " 1092,\n",
       " 1093,\n",
       " 1097,\n",
       " 1100,\n",
       " 1103,\n",
       " 1104,\n",
       " 1110,\n",
       " 1114,\n",
       " 1119,\n",
       " 1125,\n",
       " 1137,\n",
       " 1138,\n",
       " 1140,\n",
       " 1142,\n",
       " 1146,\n",
       " 1147,\n",
       " 1150,\n",
       " 1152,\n",
       " 1154,\n",
       " 1161,\n",
       " 1163,\n",
       " 1169,\n",
       " 1179,\n",
       " 1182,\n",
       " 1185,\n",
       " 1187,\n",
       " 1191,\n",
       " 1199,\n",
       " 1202,\n",
       " 1204,\n",
       " 1205,\n",
       " 1206,\n",
       " 1208,\n",
       " 1212,\n",
       " 1216,\n",
       " 1217,\n",
       " 1227,\n",
       " 1228,\n",
       " 1232,\n",
       " 1238,\n",
       " 1241,\n",
       " 1242,\n",
       " 1249,\n",
       " 1251,\n",
       " 1253,\n",
       " 1256,\n",
       " 1260,\n",
       " 1263,\n",
       " 1266,\n",
       " 1268,\n",
       " 1274,\n",
       " 1281,\n",
       " 1282,\n",
       " 1286,\n",
       " 1294,\n",
       " 1307,\n",
       " 1316,\n",
       " 1318,\n",
       " 1327,\n",
       " 1329,\n",
       " 1343,\n",
       " 1344,\n",
       " 1345,\n",
       " 1361,\n",
       " 1363,\n",
       " 1364,\n",
       " 1365,\n",
       " 1366,\n",
       " 1369,\n",
       " 1373,\n",
       " 1374,\n",
       " 1392,\n",
       " 1397,\n",
       " 1402,\n",
       " 1411,\n",
       " 1412,\n",
       " 1413,\n",
       " 1419]"
      ]
     },
     "execution_count": 188,
     "metadata": {},
     "output_type": "execute_result"
    }
   ],
   "source": [
    "overlap_indices"
   ]
  },
  {
   "cell_type": "code",
   "execution_count": null,
   "id": "45fe23a2-d737-46df-91a4-38dbf7a8b4ab",
   "metadata": {},
   "outputs": [],
   "source": []
  },
  {
   "cell_type": "code",
   "execution_count": null,
   "id": "49982b6e-a4c4-4ddf-9c00-7d5378a9f729",
   "metadata": {},
   "outputs": [],
   "source": []
  },
  {
   "cell_type": "code",
   "execution_count": null,
   "id": "8ce5f226-90ea-49ce-b5be-1761c3ee0eaf",
   "metadata": {},
   "outputs": [],
   "source": []
  },
  {
   "cell_type": "code",
   "execution_count": null,
   "id": "0366fa01-6939-43dc-b93f-548fa0acd14a",
   "metadata": {},
   "outputs": [],
   "source": []
  },
  {
   "cell_type": "markdown",
   "id": "67d91279-4447-432f-99bb-a385fb0b7cd5",
   "metadata": {},
   "source": [
    "#### Working with examples"
   ]
  },
  {
   "cell_type": "code",
   "execution_count": 253,
   "id": "20d6be67-a115-4b1a-b00a-24aaeec16323",
   "metadata": {},
   "outputs": [],
   "source": [
    "def sd_intensity(regionmask):\n",
    "    print(f\"Region mask shape: {regionmask.shape}\")\n",
    "    return np.mean(regionmask)"
   ]
  },
  {
   "cell_type": "code",
   "execution_count": 260,
   "id": "68ca8ca0-4b55-48aa-bf8d-b97069000356",
   "metadata": {},
   "outputs": [],
   "source": [
    "import math\n",
    "import matplotlib.pyplot as plt\n",
    "import numpy as np\n",
    "import pandas as pd\n",
    "\n",
    "from skimage.draw import ellipse\n",
    "from skimage.measure import label, regionprops, regionprops_table\n",
    "from skimage.transform import rotate\n",
    "\n",
    "\n",
    "image = np.zeros((600, 600))\n",
    "\n",
    "rr, cc = ellipse(300, 350, 100, 220)\n",
    "image[rr, cc] = 1\n",
    "\n",
    "image = rotate(image, angle=-15, order=0)\n",
    "\n",
    "rr, cc = ellipse(100, 100, 60, 50)\n",
    "image[rr, cc] = 1\n",
    "\n",
    "label_img = label(image)\n",
    "regions = regionprops(label_img, extra_properties=(sd_intensity,))"
   ]
  },
  {
   "cell_type": "code",
   "execution_count": 255,
   "id": "f75cfd1d-0820-4d06-a2d7-c6984ff352ea",
   "metadata": {},
   "outputs": [],
   "source": [
    "regions = regionprops(label_img, extra_properties=(sd_intensity,))"
   ]
  },
  {
   "cell_type": "code",
   "execution_count": 257,
   "id": "53fb464c-24a7-40ac-a8c4-b9e1a6857f34",
   "metadata": {},
   "outputs": [
    {
     "name": "stdout",
     "output_type": "stream",
     "text": [
      "Region mask shape: (119, 99)\n"
     ]
    },
    {
     "data": {
      "text/plain": [
       "0.7973007384772091"
      ]
     },
     "execution_count": 257,
     "metadata": {},
     "output_type": "execute_result"
    }
   ],
   "source": [
    "regions[0].sd_intensity"
   ]
  },
  {
   "cell_type": "code",
   "execution_count": 258,
   "id": "73b1879f-9b68-4a32-b4da-15ac566375ad",
   "metadata": {},
   "outputs": [
    {
     "name": "stdout",
     "output_type": "stream",
     "text": [
      "Region mask shape: (225, 429)\n"
     ]
    },
    {
     "data": {
      "text/plain": [
       "0.7155969955969956"
      ]
     },
     "execution_count": 258,
     "metadata": {},
     "output_type": "execute_result"
    }
   ],
   "source": [
    "regions[1].sd_intensity"
   ]
  },
  {
   "cell_type": "code",
   "execution_count": 251,
   "id": "772bf181-9f78-4325-9491-c66750592df1",
   "metadata": {},
   "outputs": [
    {
     "data": {
      "text/plain": [
       "<function __main__.sd_intensity(regionmask)>"
      ]
     },
     "execution_count": 251,
     "metadata": {},
     "output_type": "execute_result"
    }
   ],
   "source": [
    "sd_intensity"
   ]
  },
  {
   "cell_type": "code",
   "execution_count": 252,
   "id": "3c825e61-c169-4c07-a1c3-dd66c3f797ed",
   "metadata": {},
   "outputs": [
    {
     "data": {
      "text/plain": [
       "['area',\n",
       " 'area_bbox',\n",
       " 'area_convex',\n",
       " 'area_filled',\n",
       " 'axis_major_length',\n",
       " 'axis_minor_length',\n",
       " 'bbox',\n",
       " 'centroid',\n",
       " 'centroid_local',\n",
       " 'coords',\n",
       " 'eccentricity',\n",
       " 'equivalent_diameter_area',\n",
       " 'euler_number',\n",
       " 'extent',\n",
       " 'feret_diameter_max',\n",
       " 'image',\n",
       " 'image_convex',\n",
       " 'image_filled',\n",
       " 'inertia_tensor',\n",
       " 'inertia_tensor_eigvals',\n",
       " 'label',\n",
       " 'moments',\n",
       " 'moments_central',\n",
       " 'moments_hu',\n",
       " 'moments_normalized',\n",
       " 'orientation',\n",
       " 'perimeter',\n",
       " 'perimeter_crofton',\n",
       " 'slice',\n",
       " 'solidity']"
      ]
     },
     "execution_count": 252,
     "metadata": {},
     "output_type": "execute_result"
    }
   ],
   "source": [
    "list(regions[0])"
   ]
  },
  {
   "cell_type": "code",
   "execution_count": 244,
   "id": "7d64e7a7-67cb-4a31-aa2f-bc51794b9a84",
   "metadata": {},
   "outputs": [],
   "source": [
    "plt.figure()\n",
    "plt.imshow(label_img)\n",
    "plt.show()"
   ]
  },
  {
   "cell_type": "code",
   "execution_count": 245,
   "id": "4965812b-6475-4375-a14d-444262422a44",
   "metadata": {},
   "outputs": [
    {
     "data": {
      "text/plain": [
       "1"
      ]
     },
     "execution_count": 245,
     "metadata": {},
     "output_type": "execute_result"
    }
   ],
   "source": [
    "regions[0].label"
   ]
  },
  {
   "cell_type": "code",
   "execution_count": 246,
   "id": "08d3d96c-6166-4f7c-8099-4c204ced98fb",
   "metadata": {},
   "outputs": [
    {
     "data": {
      "text/plain": [
       "2"
      ]
     },
     "execution_count": 246,
     "metadata": {},
     "output_type": "execute_result"
    }
   ],
   "source": [
    "regions[1].label"
   ]
  },
  {
   "cell_type": "code",
   "execution_count": null,
   "id": "1df3a096-16ca-47f6-8273-d175bea8257e",
   "metadata": {},
   "outputs": [],
   "source": []
  },
  {
   "cell_type": "code",
   "execution_count": null,
   "id": "fce33573-3040-4626-85c0-c1ea97e2ab4e",
   "metadata": {},
   "outputs": [],
   "source": [
    "def sd_intensity(region"
   ]
  },
  {
   "cell_type": "code",
   "execution_count": null,
   "id": "7bdc0321-82d3-4d69-bc83-2ea6eff3dafb",
   "metadata": {},
   "outputs": [],
   "source": []
  },
  {
   "cell_type": "code",
   "execution_count": 211,
   "id": "b1cb23c3-f69f-4e5c-ab8e-ed0e67260dc6",
   "metadata": {},
   "outputs": [
    {
     "data": {
      "text/plain": [
       "array([[0, 0, 0, ..., 0, 0, 0],\n",
       "       [0, 0, 0, ..., 0, 0, 0],\n",
       "       [0, 0, 0, ..., 0, 0, 0],\n",
       "       ...,\n",
       "       [0, 0, 0, ..., 0, 0, 0],\n",
       "       [0, 0, 0, ..., 0, 0, 0],\n",
       "       [0, 0, 0, ..., 0, 0, 0]])"
      ]
     },
     "execution_count": 211,
     "metadata": {},
     "output_type": "execute_result"
    }
   ],
   "source": [
    "label_img"
   ]
  },
  {
   "cell_type": "code",
   "execution_count": 212,
   "id": "3e889a43-4a1c-4b6d-aed4-b93188678d3a",
   "metadata": {},
   "outputs": [],
   "source": [
    "plt.figure()\n",
    "plt.imshow(label_img)\n",
    "plt.show()"
   ]
  },
  {
   "cell_type": "code",
   "execution_count": 201,
   "id": "7c105ff5-2962-4198-b1a9-eaa9e240793b",
   "metadata": {},
   "outputs": [],
   "source": [
    "from skimage.io import imsave"
   ]
  },
  {
   "cell_type": "code",
   "execution_count": 208,
   "id": "5956b09d-bc08-4881-a6c0-e15eeec5f603",
   "metadata": {},
   "outputs": [],
   "source": [
    "imsave(Path('/home/pk/Documents/waveletCode/data/test.tiff'), label_img.astype('uint16'),\n",
    "           plugin='tifffile', check_contrast=False)"
   ]
  },
  {
   "cell_type": "code",
   "execution_count": 220,
   "id": "b93748e9-22a6-4d0b-9c93-fe2879b6c713",
   "metadata": {},
   "outputs": [
    {
     "name": "stdout",
     "output_type": "stream",
     "text": [
      "(y0, x0): (100.0, 100.0)\n",
      "Orientation: 0.0\n",
      "(y0, x0): (313.0515975851635, 348.1505219116008)\n",
      "Orientation: 1.3089215222380706\n"
     ]
    }
   ],
   "source": [
    "fig, ax = plt.subplots()\n",
    "ax.imshow(image, cmap=plt.cm.gray)\n",
    "\n",
    "for props in regions:\n",
    "    y0, x0 = props.centroid\n",
    "    print(f\"(y0, x0): ({y0}, {x0})\")\n",
    "    orientation = props.orientation\n",
    "    print(f\"Orientation: {orientation}\")\n",
    "    x1 = x0 + math.cos(orientation) * 0.5 * props.axis_minor_length\n",
    "    y1 = y0 - math.sin(orientation) * 0.5 * props.axis_minor_length\n",
    "    x2 = x0 - math.sin(orientation) * 0.5 * props.axis_major_length\n",
    "    y2 = y0 - math.cos(orientation) * 0.5 * props.axis_major_length\n",
    "\n",
    "    ax.plot((x0, x1), (y0, y1), '-k', linewidth=2.5)\n",
    "    ax.plot((x0, x2), (y0, y2), '-r', linewidth=2.5)\n",
    "    ax.plot(x0, y0, '.g', markersize=15)\n",
    "\n",
    "    minr, minc, maxr, maxc = props.bbox\n",
    "    bx = (minc, maxc, maxc, minc, minc)\n",
    "    by = (minr, minr, maxr, maxr, minr)\n",
    "    ax.plot(bx, by, '-b', linewidth=2.5)\n",
    "\n",
    "ax.axis((0, 600, 600, 0))\n",
    "plt.show()"
   ]
  },
  {
   "cell_type": "code",
   "execution_count": 197,
   "id": "d5733ebc-b296-452d-bcf5-ba3f455473c1",
   "metadata": {},
   "outputs": [
    {
     "data": {
      "text/plain": [
       "-74.94287960311168"
      ]
     },
     "execution_count": 197,
     "metadata": {},
     "output_type": "execute_result"
    }
   ],
   "source": [
    "-1.308 * 180 / math.pi"
   ]
  },
  {
   "cell_type": "code",
   "execution_count": 219,
   "id": "6ca7dfdb-4bb8-4d0b-8168-f2dc1e49ecdf",
   "metadata": {},
   "outputs": [
    {
     "data": {
      "text/plain": [
       "['area',\n",
       " 'area_bbox',\n",
       " 'area_convex',\n",
       " 'area_filled',\n",
       " 'axis_major_length',\n",
       " 'axis_minor_length',\n",
       " 'bbox',\n",
       " 'centroid',\n",
       " 'centroid_local',\n",
       " 'coords',\n",
       " 'eccentricity',\n",
       " 'equivalent_diameter_area',\n",
       " 'euler_number',\n",
       " 'extent',\n",
       " 'feret_diameter_max',\n",
       " 'image',\n",
       " 'image_convex',\n",
       " 'image_filled',\n",
       " 'inertia_tensor',\n",
       " 'inertia_tensor_eigvals',\n",
       " 'label',\n",
       " 'moments',\n",
       " 'moments_central',\n",
       " 'moments_hu',\n",
       " 'moments_normalized',\n",
       " 'orientation',\n",
       " 'perimeter',\n",
       " 'perimeter_crofton',\n",
       " 'slice',\n",
       " 'solidity']"
      ]
     },
     "execution_count": 219,
     "metadata": {},
     "output_type": "execute_result"
    }
   ],
   "source": [
    "list(regions[0])"
   ]
  },
  {
   "cell_type": "code",
   "execution_count": 261,
   "id": "341a41cf-4b99-4c6d-8986-1a26b6c19d7f",
   "metadata": {},
   "outputs": [],
   "source": [
    "import cv2"
   ]
  },
  {
   "cell_type": "code",
   "execution_count": 262,
   "id": "97d1d16a-14c7-44a4-8e84-2eb508332dec",
   "metadata": {},
   "outputs": [
    {
     "data": {
      "text/plain": [
       "array([[0, 0, 1, 0, 0],\n",
       "       [1, 1, 1, 1, 1],\n",
       "       [1, 1, 1, 1, 1],\n",
       "       [1, 1, 1, 1, 1],\n",
       "       [0, 0, 1, 0, 0]], dtype=uint8)"
      ]
     },
     "execution_count": 262,
     "metadata": {},
     "output_type": "execute_result"
    }
   ],
   "source": [
    "cv2.getStructuringElement(cv2.MORPH_ELLIPSE,(5,5))"
   ]
  },
  {
   "cell_type": "code",
   "execution_count": null,
   "id": "416c83d0-9681-4a7a-8785-e62bd8dd7024",
   "metadata": {},
   "outputs": [],
   "source": []
  },
  {
   "cell_type": "code",
   "execution_count": null,
   "id": "6ddebb8c-78fb-4cbd-a3e5-ba4a485af359",
   "metadata": {},
   "outputs": [],
   "source": []
  }
 ],
 "metadata": {
  "kernelspec": {
   "display_name": "Python 3 (ipykernel)",
   "language": "python",
   "name": "python3"
  },
  "language_info": {
   "codemirror_mode": {
    "name": "ipython",
    "version": 3
   },
   "file_extension": ".py",
   "mimetype": "text/x-python",
   "name": "python",
   "nbconvert_exporter": "python",
   "pygments_lexer": "ipython3",
   "version": "3.11.0rc1"
  }
 },
 "nbformat": 4,
 "nbformat_minor": 5
}
