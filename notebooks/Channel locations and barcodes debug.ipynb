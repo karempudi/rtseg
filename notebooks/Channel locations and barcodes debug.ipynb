{
 "cells": [
  {
   "cell_type": "code",
   "execution_count": 1,
   "id": "4ab527af-ad5b-45e7-9d56-fd9839b3cade",
   "metadata": {},
   "outputs": [],
   "source": [
    "%reload_ext autoreload\n",
    "%autoreload 2"
   ]
  },
  {
   "cell_type": "code",
   "execution_count": 2,
   "id": "18c81363-16a7-4d70-af9e-522c116a2726",
   "metadata": {},
   "outputs": [
    {
     "name": "stderr",
     "output_type": "stream",
     "text": [
      "/home/pk/Documents/rtclient/.venv/lib/python3.11/site-packages/albumentations/__init__.py:24: UserWarning: A new version of Albumentations is available: '2.0.2' (you have '2.0.0'). Upgrade using: pip install -U albumentations. To disable automatic update checks, set the environment variable NO_ALBUMENTATIONS_UPDATE to 1.\n",
      "  check_for_updates()\n"
     ]
    }
   ],
   "source": [
    "import numpy as np\n",
    "from rtseg.utils.param_io import load_params\n",
    "from pathlib import Path\n",
    "import matplotlib.pyplot as plt\n",
    "from skimage.transform import resize\n",
    "from skimage.io import imread\n",
    "from rtseg.forkplot import compute_forkplot_stats\n",
    "import matplotlib.patches as patches\n",
    "from rtseg.dotdetect import compute_dot_coordinates\n",
    "from rtseg.segmentation import LiveNet, get_live_model, live_segment\n",
    "from rtseg.identify_channels import get_channel_locations\n",
    "from scipy.signal import find_peaks\n",
    "%matplotlib qt5"
   ]
  },
  {
   "cell_type": "code",
   "execution_count": 3,
   "id": "a5f4348d-467f-47a2-84b0-b9ba31ceb8b2",
   "metadata": {},
   "outputs": [],
   "source": [
    "params_path = Path('/home/pk/Documents/REALTIME/live_analysis_test/expt_params.yaml')\n",
    "params = load_params(params_path, ref_type='expt')"
   ]
  },
  {
   "cell_type": "code",
   "execution_count": 4,
   "id": "55933b1b-b8de-4dff-b0b9-11459ae9d88c",
   "metadata": {},
   "outputs": [],
   "source": [
    "data_dir = Path(params.Save.directory)"
   ]
  },
  {
   "cell_type": "code",
   "execution_count": 5,
   "id": "b50a41ec-12fa-415f-aa89-22e5da2c39da",
   "metadata": {},
   "outputs": [],
   "source": [
    "def get_dataponits(data_dir):\n",
    "    all_images = []\n",
    "    positions_dir = sorted(list(data_dir.glob('Pos*')), key=lambda x: int(x.name[3:]))\n",
    "    for pos_dir in positions_dir:\n",
    "        pos = int(pos_dir.name[3:])\n",
    "        #print(pos)\n",
    "        phase_img_filename = pos_dir / Path('phase/phase_0000.tiff')\n",
    "        fluor_img_filename = pos_dir / Path('fluor/fluor_0000.tiff')\n",
    "        datapoint = {}\n",
    "        datapoint['phase'] = imread(phase_img_filename)\n",
    "        datapoint['fluor'] = imread(fluor_img_filename)\n",
    "        datapoint['position'] = pos\n",
    "        datapoint['timepoint'] = 0\n",
    "        all_images.append(datapoint)\n",
    "    return all_images"
   ]
  },
  {
   "cell_type": "code",
   "execution_count": 6,
   "id": "5c0bae33-7a56-443f-80eb-ffae7ecab8af",
   "metadata": {},
   "outputs": [],
   "source": [
    "all_data = get_dataponits(data_dir)\n",
    "live_net = get_live_model(params)"
   ]
  },
  {
   "cell_type": "code",
   "execution_count": 12,
   "id": "9c4693b5-2e55-43f4-b307-03e8868e69d2",
   "metadata": {},
   "outputs": [],
   "source": [
    "params.BarcodeAndChannels.thresholds.conf=0.35"
   ]
  },
  {
   "cell_type": "code",
   "execution_count": null,
   "id": "09d2d60c-9234-45bb-bfaa-b442932fd52a",
   "metadata": {},
   "outputs": [],
   "source": []
  },
  {
   "cell_type": "code",
   "execution_count": null,
   "id": "e98641b0-ae7f-4b68-adfe-39a38be389bd",
   "metadata": {},
   "outputs": [],
   "source": []
  },
  {
   "cell_type": "code",
   "execution_count": 13,
   "id": "35a20c0f-fc74-4519-a2c3-d4f09664ba0f",
   "metadata": {},
   "outputs": [],
   "source": [
    "i = 0\n",
    "datapoint = all_data[i]\n",
    "seg_result = live_segment(datapoint, live_net, params)"
   ]
  },
  {
   "cell_type": "code",
   "execution_count": 14,
   "id": "a76f8ec2-960f-4a63-ba57-5c4f2409e153",
   "metadata": {},
   "outputs": [
    {
     "data": {
      "text/plain": [
       "dict_keys(['phase', 'fluor', 'channel_mask', 'position', 'timepoint', 'barcode_locations', 'seg_mask', 'trap_locations_list', 'num_traps', 'error'])"
      ]
     },
     "execution_count": 14,
     "metadata": {},
     "output_type": "execute_result"
    }
   ],
   "source": [
    "seg_result.keys()"
   ]
  },
  {
   "cell_type": "code",
   "execution_count": 16,
   "id": "3cb5e09b-2f95-488c-8d2b-bdc9c101eff9",
   "metadata": {},
   "outputs": [
    {
     "name": "stdout",
     "output_type": "stream",
     "text": [
      "16 ---> 3\n",
      "17 ---> 3\n",
      "18 ---> 3\n",
      "19 ---> 3\n",
      "20 ---> 3\n",
      "21 ---> 3\n",
      "22 ---> 3\n",
      "23 ---> 4\n",
      "24 ---> 3\n",
      "25 ---> 3\n",
      "26 ---> 3\n",
      "27 ---> 3\n",
      "28 ---> 3\n",
      "29 ---> 3\n",
      "30 ---> 2\n"
     ]
    }
   ],
   "source": [
    "for i in range(15, 30):\n",
    "    datapoint = all_data[i]\n",
    "    seg_result = live_segment(datapoint, live_net, params)\n",
    "    fig, ax = plt.subplots(nrows=3, ncols=1)\n",
    "    ax[0].imshow(seg_result['seg_mask'], cmap='viridis')\n",
    "    ax[1].imshow(seg_result['phase'], cmap='gray')\n",
    "    for row in seg_result['barcode_locations']:\n",
    "        rect = patches.Rectangle((row[0], row[1]), row[2] - row[0], row[3] - row[1], linewidth=1, edgecolor='r', facecolor='none')\n",
    "        ax[1].add_patch(rect)\n",
    "    ax[2].imshow(seg_result['channel_mask'])\n",
    "    plt.suptitle(f\"Num traps: {seg_result['num_traps']}\")\n",
    "    print(i+1, '--->', len(seg_result['barcode_locations']))\n",
    "    #image = seg_result['channel_mask']\n",
    "    #hist = np.sum(image[400:800, :], axis = 0)\n",
    "    #peaks, _ = find_peaks(hist, distance=65, prominence=200)\n",
    "    #ax[3].plot(hist)\n",
    "    #ax[3].plot(peaks, hist[peaks],'r*')\n",
    "    plt.show()"
   ]
  },
  {
   "cell_type": "code",
   "execution_count": 13,
   "id": "74754c7d-75bd-47c2-a635-9b8fd07073a1",
   "metadata": {},
   "outputs": [],
   "source": [
    "image = seg_result['channel_mask']\n",
    "hist = np.sum(image, axis = 0)\n",
    "peaks, _ = find_peaks(hist, distance=65)\n",
    "plt.figure()\n",
    "plt.plot(hist)\n",
    "plt.plot(peaks, hist[peaks],'r*')\n",
    "plt.show()"
   ]
  },
  {
   "cell_type": "code",
   "execution_count": 17,
   "id": "5c656d39-77a6-4318-8a8a-0a8143a8deb2",
   "metadata": {},
   "outputs": [
    {
     "data": {
      "text/plain": [
       "[1.0, 2.0, 3.4]"
      ]
     },
     "execution_count": 17,
     "metadata": {},
     "output_type": "execute_result"
    }
   ],
   "source": [
    "a = np.array([1.0, 2.0, 1.0, 3.4, 2.0, 3.4, 1.0])\n",
    "np.unique(a).tolist()"
   ]
  },
  {
   "cell_type": "code",
   "execution_count": 18,
   "id": "a0dfb032-059d-4124-96b4-3acf1b25cf9d",
   "metadata": {},
   "outputs": [
    {
     "data": {
      "text/plain": [
       "[1.0, 2.0, 3.4]"
      ]
     },
     "execution_count": 18,
     "metadata": {},
     "output_type": "execute_result"
    }
   ],
   "source": [
    "sorted(np.unique(a).tolist())"
   ]
  },
  {
   "cell_type": "code",
   "execution_count": null,
   "id": "8e24e985-ce42-4e62-b340-c5defbd502fc",
   "metadata": {},
   "outputs": [],
   "source": []
  }
 ],
 "metadata": {
  "kernelspec": {
   "display_name": "Python 3 (ipykernel)",
   "language": "python",
   "name": "python3"
  },
  "language_info": {
   "codemirror_mode": {
    "name": "ipython",
    "version": 3
   },
   "file_extension": ".py",
   "mimetype": "text/x-python",
   "name": "python",
   "nbconvert_exporter": "python",
   "pygments_lexer": "ipython3",
   "version": "3.11.0rc1"
  }
 },
 "nbformat": 4,
 "nbformat_minor": 5
}
