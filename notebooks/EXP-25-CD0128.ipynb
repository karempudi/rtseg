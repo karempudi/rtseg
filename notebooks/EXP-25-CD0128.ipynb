{
 "cells": [
  {
   "cell_type": "code",
   "execution_count": 2,
   "id": "2d7d9440-f6c4-4d0c-b8a0-29216286ca51",
   "metadata": {},
   "outputs": [],
   "source": [
    "%reload_ext autoreload\n",
    "%autoreload 2"
   ]
  },
  {
   "cell_type": "code",
   "execution_count": 3,
   "id": "be2694c8-a908-4fca-b8c7-4e88c1783ca0",
   "metadata": {},
   "outputs": [],
   "source": [
    "import numpy as np \n",
    "from pathlib import Path\n",
    "from rtseg.utils.param_io import load_params\n",
    "import glob\n",
    "import polars as pl\n",
    "from rtseg.cells.plotting import fast_generate_fork_plot, get_bulk_init_area, slice_fork_plot_around_init\n",
    "import matplotlib.pyplot as plt\n",
    "%matplotlib qt5\n",
    "from rtseg.utils.get_fork_init import read_all_fork_data_around_init\n",
    "import rtseg.cells.scoring as sco \n",
    "import pysal.lib\n",
    "from rtseg.cells.scoring import energy_dists\n",
    "from cycler import cycler\n",
    "from sklearn.decomposition import PCA\n",
    "from sklearn.preprocessing import StandardScaler\n",
    "import scipy.io \n",
    "from mpl_toolkits.mplot3d import Axes3D\n",
    "from scipy.spatial import ConvexHull, Delaunay\n",
    "from mpl_toolkits.mplot3d.art3d import Poly3DCollection\n",
    "import h5py"
   ]
  },
  {
   "cell_type": "code",
   "execution_count": 4,
   "id": "bcf26d8e-d2b3-4614-9026-8872786a8b18",
   "metadata": {},
   "outputs": [],
   "source": [
    "param = load_params(Path('C:/Users/oscbr226/Desktop/Initiation_Lib_Tweezer/Experiments/EXP-25-CD0125/expt_params.yaml'), ref_type='expt')\n",
    "param.Save.directory = 'C:/Users/oscbr226/Desktop/Initiation_Lib_Tweezer/Experiments/EXP-25-CD0125/'\n",
    "save_dir = Path(param.Save.directory)"
   ]
  },
  {
   "cell_type": "markdown",
   "id": "d655ff90-9e28-4b23-9e07-0460820b5111",
   "metadata": {},
   "source": [
    "#### Fork plots for all traps"
   ]
  },
  {
   "cell_type": "code",
   "execution_count": 5,
   "id": "3f1ebd6b-a0ff-41bd-ba0a-cbabfa68cd16",
   "metadata": {},
   "outputs": [],
   "source": [
    "nr_pos = 32\n",
    "pos_inds = np.vstack((np.arange(0,nr_pos//4), np.arange(nr_pos//4, nr_pos//2), np.arange(nr_pos//2,3*nr_pos//4), np.arange(3*nr_pos//4,nr_pos)))\n",
    "nr_strains = pos_inds.shape[0]\n",
    "nr_pos_per_strain = nr_pos//nr_strains\n",
    "titles = ['Reference', 'ΔDARS1', 'ΔDARS2', 'ΔdatA']"
   ]
  },
  {
   "cell_type": "code",
   "execution_count": 6,
   "id": "c177d092-b513-44f6-934f-4bd0e636a17b",
   "metadata": {},
   "outputs": [],
   "source": [
    "use_pyarrow = False\n",
    "\n",
    "fork_filenames = glob.glob(str(save_dir / Path('Pos[0-9]*/forks.parquet')))\n",
    "columns_to_extract = ['area', 'length', 'normalized_internal_x', 'normalization_counts', 'position', 'trap']\n",
    "data = pl.read_parquet(fork_filenames, use_pyarrow=use_pyarrow, columns=columns_to_extract)\n",
    "\n",
    "areas = data['area'].to_numpy()\n",
    "lengths = data['length'].to_numpy()\n",
    "longs = data['normalized_internal_x'].to_numpy()\n",
    "counts = data['normalization_counts'].to_numpy()\n",
    "position = data['position'].to_numpy()\n",
    "all_traps = data['trap'].to_numpy()\n",
    "bin_scale = param.Forkplots.bin_scale\n",
    "heatmap_threshold = param.Forkplots.heatmap_threshold\n",
    "pixel_size = param.Forkplots.pixel_size\n",
    "min_length = param.Forkplots.min_length\n",
    "arb_div_area = param.Forkplots.arb_div_area\n",
    "init_area_cv = param.Forkplots.init_area_cv\n",
    "uni_pos = np.unique(position)\n",
    "all_traps = data['trap'].to_numpy()\n",
    "nr_traps = param.BarcodeAndChannels.num_blocks_per_image*param.BarcodeAndChannels.num_traps_per_block\n",
    "trap_nrs = np.arange(nr_traps)"
   ]
  },
  {
   "cell_type": "code",
   "execution_count": 7,
   "id": "8a6f2588-2812-4b12-b07c-e2b755df3c18",
   "metadata": {},
   "outputs": [
    {
     "name": "stdout",
     "output_type": "stream",
     "text": [
      "Reference, number of dots: 1869127\n"
     ]
    },
    {
     "name": "stderr",
     "output_type": "stream",
     "text": [
      "C:\\Users\\oscbr226\\Desktop\\Initiation_Lib_Tweezer\\Code\\realtimeAnalysis\\rtseg\\rtseg\\cells\\plotting.py:202: RuntimeWarning: invalid value encountered in divide\n",
      "  heatmap = heatmap/normFactor[:, np.newaxis]\n"
     ]
    },
    {
     "name": "stdout",
     "output_type": "stream",
     "text": [
      "ΔDARS1, number of dots: 1654842\n",
      "ΔDARS2, number of dots: 1804144\n"
     ]
    },
    {
     "name": "stderr",
     "output_type": "stream",
     "text": [
      "C:\\Users\\oscbr226\\Desktop\\Initiation_Lib_Tweezer\\Code\\realtimeAnalysis\\rtseg\\rtseg\\cells\\plotting.py:202: RuntimeWarning: invalid value encountered in divide\n",
      "  heatmap = heatmap/normFactor[:, np.newaxis]\n"
     ]
    },
    {
     "name": "stdout",
     "output_type": "stream",
     "text": [
      "ΔdatA, number of dots: 2133063\n"
     ]
    }
   ],
   "source": [
    "plt.close('all')\n",
    "\n",
    "init_area_ref = None\n",
    "heatmap_init_ref = None\n",
    "moran_weight = None\n",
    "e_dists = None\n",
    "fork_plot_save_dir = Path('C:/Users/oscbr226/Desktop/Initiation_Lib_Tweezer/Experiments/EXP-25-CD0128/ForkPlots')\n",
    "for i in range(0, nr_strains):\n",
    "    strain_pos_inds = np.where(np.isin(position, pos_inds[i,:]+1))[0]\n",
    "    strain_areas = areas[strain_pos_inds]\n",
    "    strain_lengths = lengths[strain_pos_inds]\n",
    "    strain_longs = longs[strain_pos_inds]\n",
    "    strain_counts = counts[strain_pos_inds]\n",
    "    strain_traps = all_traps[strain_pos_inds]\n",
    "    strain_pos = position[strain_pos_inds]\n",
    "\n",
    "    if i == 0:    \n",
    "        heatmap, mean_cell_lengths, abins, lbins, (x, y) = fast_generate_fork_plot(strain_areas, strain_lengths, strain_longs, \n",
    "                                                                                   strain_counts, bin_scale=bin_scale, pixel_size=pixel_size, \n",
    "                                                                                   heatmap_threshold=heatmap_threshold)\n",
    "    else:\n",
    "        heatmap, mean_cell_lengths, _, _, _ = fast_generate_fork_plot(strain_areas, strain_lengths, strain_longs, strain_counts, \n",
    "                                                                      bin_scale=bin_scale, pixel_size=pixel_size,\n",
    "                                                                      heatmap_threshold=heatmap_threshold, abins=abins, lbins=lbins)\n",
    "\n",
    "    init_area = get_bulk_init_area(strain_areas, strain_counts, strain_longs, strain_lengths, min_length=min_length, \n",
    "                                   pixel_size=pixel_size, arb_div_area=arb_div_area)\n",
    "    if i == 0:\n",
    "        init_area_ref = init_area\n",
    "        area_bins_init, length_bins_init, heatmap_init, mean_cell_lengths_init, abins_inds_init, lbins_inds_init = slice_fork_plot_around_init(abins, lbins, heatmap, mean_cell_lengths, init_area, init_area_cv)\n",
    "        heatmap_init_ref = heatmap_init\n",
    "        moran_weights = pysal.lib.weights.lat2W(heatmap_init.shape[0], heatmap_init.shape[-1], rook=True)\n",
    "        e_dists = energy_dists(length_bins_init, area_bins_init)\n",
    "    else:\n",
    "        _, _, heatmap_init, mean_cell_lengths_init, _, _ = slice_fork_plot_around_init(abins, lbins, heatmap, mean_cell_lengths, \n",
    "                                                                                       init_area_ref, init_area_cv)\n",
    "    \n",
    "    if i == 0:\n",
    "        plot_heatmap = plt.matshow(heatmap, aspect='auto', interpolation='none', extent=[x[0], x[-1], y[-1], y[0]], origin='upper', cmap='jet')\n",
    "        color_lims = (plot_heatmap.norm.vmin, plot_heatmap.norm.vmax)\n",
    "    else:\n",
    "        plt.matshow(heatmap, aspect='auto', interpolation='none', extent=[x[0], x[-1], y[-1], y[0]], origin='upper', cmap='jet', \n",
    "                    vmin=color_lims[0], vmax=color_lims[-1])\n",
    "        \n",
    "    plt.plot(-0.5 * mean_cell_lengths, y, 'w', linewidth=2)\n",
    "    plt.plot(0.5 * mean_cell_lengths, y, 'w', linewidth=2)\n",
    "    plt.axhline(init_area, color='red', linestyle='--', linewidth=2)\n",
    "    plt.xlim(-3, 3) \n",
    "    plt.ylim(3,y[0])\n",
    "    plt.xlabel('Cell long axis (µm)')\n",
    "    plt.ylabel('Cell size (µm$^2$)')\n",
    "    plt.title(titles[i])\n",
    "\n",
    "    fork_plot_filename_pdf = f'ForkPlot_{titles[i]}.pdf'\n",
    "    fork_plot_filename_svg = f'ForkPlot_{titles[i]}.svg' \n",
    "    fork_plot_pdf_path = fork_plot_save_dir / fork_plot_filename_pdf \n",
    "    fork_plot_svg_path = fork_plot_save_dir / fork_plot_filename_svg\n",
    "    plt.savefig(fork_plot_pdf_path, transparent=True)\n",
    "    plt.savefig(fork_plot_svg_path, transparent=True)\n",
    "    \n",
    "    plt.matshow(heatmap_init, aspect='auto', interpolation='none', \n",
    "            extent=[length_bins_init[0], length_bins_init[-1], area_bins_init[-1], area_bins_init[0]], origin='upper', cmap='jet', \n",
    "               vmin=color_lims[0], vmax=color_lims[-1])\n",
    "    plt.plot(-0.5 * mean_cell_lengths_init, y[abins_inds_init[0:-1]], 'w', linewidth=2)\n",
    "    plt.plot(0.5 * mean_cell_lengths_init, y[abins_inds_init[0:-1]], 'w', linewidth=2)\n",
    "    plt.axhline(init_area, color='red', linestyle='--', linewidth=2)\n",
    "    plt.xlabel('Cell long axis (µm)')\n",
    "    plt.ylabel('Cell size (µm$^2$)')\n",
    "    plt.title(titles[i])\n",
    "\n",
    "    fork_plot_init_filename_pdf = f'ForkPlotInit_{titles[i]}.pdf'\n",
    "    fork_plot_init_filename_svg = f'ForkPlotInit_{titles[i]}.svg' \n",
    "    fork_plot_init_pdf_path = fork_plot_save_dir / fork_plot_init_filename_pdf \n",
    "    fork_plot_init_svg_path = fork_plot_save_dir / fork_plot_init_filename_svg \n",
    "    plt.savefig(Path(fork_plot_save_dir / fork_plot_init_filename_pdf), transparent=True)\n",
    "    plt.savefig(Path(fork_plot_save_dir / fork_plot_init_filename_svg), transparent=True)\n",
    "    print(f\"{titles[i]}, number of dots: {len(strain_areas)}\")"
   ]
  },
  {
   "cell_type": "code",
   "execution_count": 8,
   "id": "1cbad426-f441-4212-8fb1-6d3b979039c3",
   "metadata": {},
   "outputs": [
    {
     "name": "stderr",
     "output_type": "stream",
     "text": [
      "C:\\Users\\oscbr226\\Desktop\\Initiation_Lib_Tweezer\\Code\\realtimeAnalysis\\rtseg\\rtseg\\cells\\plotting.py:202: RuntimeWarning: invalid value encountered in divide\n",
      "  heatmap = heatmap/normFactor[:, np.newaxis]\n"
     ]
    }
   ],
   "source": [
    "plt.close('all')\n",
    "amin_init = np.min(area_bins_init)\n",
    "amax_init = np.max(area_bins_init)\n",
    "lmin_init = np.min(length_bins_init)\n",
    "lmax_init = np.max(length_bins_init)\n",
    "\n",
    "heatmap_init_dims = heatmap_init_ref.shape\n",
    "heatmap_init_pos_traps = np.zeros(shape=(heatmap_init_dims[0], heatmap_init_dims[1], nr_pos, nr_traps))\n",
    "flat_heatmap_init_pos_traps = np.zeros(shape=(heatmap_init_dims[0]*heatmap_init_dims[1], nr_pos, nr_traps))\n",
    "all_traps_nr_dots = np.zeros(shape=(nr_pos, nr_traps))\n",
    "for i, j, in (np.ndindex(nr_pos, nr_traps)):\n",
    "    pos = uni_pos[i]\n",
    "    trap = trap_nrs[j]\n",
    "\n",
    "    filename = save_dir / Path('Pos' + str(pos)) / Path('forks.parquet/trap=' + str(trap))\n",
    "    if not filename.exists():\n",
    "        continue\n",
    "\n",
    "    trap_inds = np.where((position == pos) & (all_traps == trap))\n",
    "    areas_trap = areas[trap_inds]\n",
    "    longs_trap = longs[trap_inds]\n",
    "    lengths_trap = lengths[trap_inds]\n",
    "    counts_trap = counts[trap_inds] \n",
    "    \n",
    "    heatmap_trap, mean_cell_lengths_trap, _, _, _ = fast_generate_fork_plot(areas_trap, lengths_trap, longs_trap, \n",
    "                                                               counts_trap, abins=abins, lbins=lbins,\n",
    "                                                               bin_scale=bin_scale, pixel_size=pixel_size,\n",
    "                                                               heatmap_threshold=heatmap_threshold)\n",
    "            \n",
    "    heatmap_trap_init = heatmap_trap[np.ix_(abins_inds_init, lbins_inds_init)]\n",
    "    mean_cell_lengths_trap_init = mean_cell_lengths_trap[abins_inds_init[0:-1]]\n",
    "    flat_heatmap_trap_init = heatmap_trap_init.flatten()\n",
    "    heatmap_init_pos_traps[:,:,i,j] = heatmap_trap_init\n",
    "    flat_heatmap_init_pos_traps[:,i,j] = flat_heatmap_trap_init\n",
    "\n",
    "\n",
    "    \n",
    "    #plt.matshow(heatmap_trap_init, aspect='auto', interpolation='none', \n",
    "    #        extent=[length_bins_init[0], length_bins_init[-1], area_bins_init[-1], area_bins_init[0]], origin='upper', cmap='jet', \n",
    "    #           vmin=color_lims[0], vmax=color_lims[-1])\n",
    "    #plt.plot(-0.5 * mean_cell_lengths_trap_init, y[abins_inds_init[0:-1]], 'w', linewidth=2)\n",
    "    #plt.plot(0.5 * mean_cell_lengths_trap_init, y[abins_inds_init[0:-1]], 'w', linewidth=2)\n",
    "    #plt.axhline(init_area, color='red', linestyle='--', linewidth=2)\n",
    "    #plt.xlabel('Cell long axis (µm)')\n",
    "    #plt.ylabel('Cell size (µm$^2$)')\n",
    "    #plt.title(titles[i])\n",
    "\n",
    "    #if j == 2:\n",
    "    #    break\n",
    "    #Getting the number of dots around initiation\n",
    "\n",
    "    ar_pix_trap = areas_trap * pixel_size**2\n",
    "    le_pix_trap = lengths_trap * pixel_size\n",
    "    lo_cent_trap = longs_trap - 0.5\n",
    "    len_long_rescaled_trap = le_pix_trap * lo_cent_trap\n",
    "    inds_around_init_trap = np.where((ar_pix_trap >= amin_init) & (ar_pix_trap <= amax_init) & \n",
    "                                        (len_long_rescaled_trap >= lmin_init) & \n",
    "                                        (len_long_rescaled_trap <= lmax_init))[0]\n",
    "    lo_init_trap = lo_cent_trap[inds_around_init_trap]\n",
    "    nr_dots_init_trap = lo_init_trap.size\n",
    "    all_traps_nr_dots[i,j] = nr_dots_init_trap"
   ]
  },
  {
   "cell_type": "markdown",
   "id": "39801ab0-5d48-4de7-b5a7-b0bab42a357c",
   "metadata": {},
   "source": [
    "#### Doing scoring on a per trap basis"
   ]
  },
  {
   "cell_type": "code",
   "execution_count": 9,
   "id": "e3de1311-ec5b-41e2-a616-9cdeaa31d1cc",
   "metadata": {},
   "outputs": [],
   "source": [
    "corrcoeffs = np.full((nr_pos, nr_traps), np.nan)\n",
    "ssims = np.full((nr_pos, nr_traps), np.nan)\n",
    "morans = np.full((nr_pos, nr_traps, 3), np.nan)\n",
    "ks_results = np.full((nr_pos, nr_traps, 2), np.nan)\n",
    "sobolevs = np.full((nr_pos, nr_traps), np.nan)\n",
    "energies = np.full((nr_pos, nr_traps), np.nan)\n",
    "\n",
    "flat_heatmap_init_ref = heatmap_init_ref.flatten()"
   ]
  },
  {
   "cell_type": "code",
   "execution_count": 10,
   "id": "8cd4f570-107a-4aa2-81bb-4b323a0cd415",
   "metadata": {},
   "outputs": [],
   "source": [
    "for (i, j) in (np.ndindex(nr_pos, nr_traps)):\n",
    "        flat_trap_heatmap = flat_heatmap_init_pos_traps[:,i,j]\n",
    "        trap_heatmap = heatmap_init_pos_traps[:,:,i,j]\n",
    "        \n",
    "        if not np.any(flat_trap_heatmap):\n",
    "            #Skips trap if there are no data points within the scoring window\n",
    "            continue\n",
    "        \n",
    "        corrcoeffs[i,j] = sco.score_correlation_coefficient(flat_heatmap_init_ref, flat_trap_heatmap)\n",
    "\n",
    "        ssims[i,j] = sco.score_ssim(flat_heatmap_init_ref, flat_trap_heatmap)\n",
    "\n",
    "        morans[i,j,0], morans[i,j,1], morans[i,j,2] = sco.score_cross_moran(flat_heatmap_init_ref, flat_trap_heatmap, moran_weights)\n",
    "\n",
    "        ks_results[i,j,0], ks_results[i,j,1] = sco.score_kolmogorov_smirnov(flat_heatmap_init_ref, flat_trap_heatmap)\n",
    "\n",
    "        sobolevs[i,j] = sco.score_sobolev_norm(heatmap_init_ref, trap_heatmap)\n",
    "\n",
    "        energies[i,j] = sco.score_energy_test(flat_heatmap_init_ref, flat_trap_heatmap, e_dists)"
   ]
  },
  {
   "cell_type": "markdown",
   "id": "c05cec43-2140-497a-8324-a19422a68156",
   "metadata": {},
   "source": [
    "#### Plot scores"
   ]
  },
  {
   "cell_type": "code",
   "execution_count": 9,
   "id": "7ec3e512-4e98-42ba-82b0-c99049fd9b7a",
   "metadata": {},
   "outputs": [],
   "source": [
    "CB_color_cycle = ['#377eb8', '#ff7f00', '#4daf4a',\n",
    "                  '#f781bf', '#a65628', '#984ea3',\n",
    "                  '#999999', '#e41a1c', '#dede00']\n",
    "plt.rcParams['lines.markersize'] = 4\n",
    "plt.rcParams['axes.prop_cycle'] = cycler(color=CB_color_cycle)"
   ]
  },
  {
   "cell_type": "code",
   "execution_count": 13,
   "id": "8efa0519-e7cb-4909-afcb-9c2f5abf620d",
   "metadata": {
    "scrolled": true
   },
   "outputs": [
    {
     "name": "stdout",
     "output_type": "stream",
     "text": [
      "Reference, number of dots around initiation: 260118\n",
      "ΔDARS1, number of dots around initiation: 257094\n",
      "ΔDARS2, number of dots around initiation: 187766\n",
      "ΔdatA, number of dots around initiation: 343874\n"
     ]
    }
   ],
   "source": [
    "plt.close('all')\n",
    "\n",
    "fig_corr, ax_corr = plt.subplots()\n",
    "fig_ssim, ax_ssim = plt.subplots()\n",
    "fig_moran, ax_moran = plt.subplots()\n",
    "fig_ks, ax_ks = plt.subplots()\n",
    "fig_sobolev, ax_sobolev = plt.subplots()\n",
    "fig_energy, ax_energy = plt.subplots()\n",
    "\n",
    "fig_hist_corr, ax_hist_corr = plt.subplots()\n",
    "fig_hist_ssim, ax_hist_ssim = plt.subplots()\n",
    "fig_hist_moran, ax_hist_moran = plt.subplots()\n",
    "fig_hist_ks, ax_hist_ks = plt.subplots()\n",
    "fig_hist_sobolev, ax_hist_sobolev = plt.subplots()\n",
    "fig_hist_energy, ax_hist_energy = plt.subplots()\n",
    "\n",
    "fig_dots_corr, ax_dots_corr = plt.subplots()\n",
    "fig_dots_ssim, ax_dots_ssim = plt.subplots()\n",
    "fig_dots_moran, ax_dots_moran = plt.subplots()\n",
    "fig_dots_ks, ax_dots_ks = plt.subplots()\n",
    "fig_dots_sobolev, ax_dots_sobolev = plt.subplots()\n",
    "fig_dots_energy, ax_dots_energy = plt.subplots()\n",
    "\n",
    "tot_strain_nr_traps = nr_traps*nr_pos_per_strain\n",
    "plot_range = np.arange(1, tot_strain_nr_traps+1, 1)\n",
    "nr_bins = 30\n",
    "for i in range(0, nr_strains):\n",
    "    strain_correlations = corrcoeffs[pos_inds[i],:].flatten()\n",
    "    strain_ssims = ssims[pos_inds[i],:].flatten()\n",
    "    strain_moran = morans[pos_inds[i],:,0].flatten()\n",
    "    strain_ks = ks_results[pos_inds[i],:,0].flatten()\n",
    "    strain_sobolev = sobolevs[pos_inds[i],:].flatten()\n",
    "    strain_energies = energies[pos_inds[i],:].flatten()\n",
    "    strain_nr_dots = all_traps_nr_dots[pos_inds[i],:].flatten()\n",
    "\n",
    "    ax_corr.plot(plot_range, strain_correlations, 'o', label=titles[i])\n",
    "    ax_ssim.plot(plot_range, strain_ssims, 'o', label=titles[i])\n",
    "    ax_moran.plot(plot_range, strain_moran, 'o', label=titles[i])\n",
    "    ax_ks.plot(plot_range, strain_ks, 'o', label=titles[i])\n",
    "    ax_sobolev.plot(plot_range, strain_sobolev, 'o', label=titles[i])\n",
    "    ax_energy.plot(plot_range, strain_energies, 'o', label=titles[i])\n",
    "\n",
    "    corr_hist, corr_bins = np.histogram(strain_correlations[~np.isnan(strain_correlations)], nr_bins)\n",
    "    ssim_hist, ssim_bins = np.histogram(strain_ssims[~np.isnan(strain_ssims)], nr_bins)\n",
    "    moran_hist, moran_bins = np.histogram(strain_moran[~np.isnan(strain_moran)], nr_bins)\n",
    "    ks_hist, ks_bins = np.histogram(strain_ks[~np.isnan(strain_ks)], nr_bins)\n",
    "    sobolev_hist, sobolev_bins = np.histogram(strain_sobolev[~np.isnan(strain_sobolev)], nr_bins)\n",
    "    energy_hist, energy_bins = np.histogram(strain_energies[~np.isnan(strain_energies)], nr_bins)\n",
    "\n",
    "    corr_bin_cent = 0.5 * (corr_bins[1:] + corr_bins[:-1])\n",
    "    ssim_bin_cent = 0.5 * (ssim_bins[1:] + ssim_bins[:-1]) \n",
    "    moran_bin_cent = 0.5 * (moran_bins[1:] + moran_bins[:-1]) \n",
    "    ks_bin_cent = 0.5 * (ks_bins[1:] + ks_bins[:-1]) \n",
    "    sobolev_bin_cent = 0.5 * (sobolev_bins[1:] + sobolev_bins[:-1]) \n",
    "    energy_bin_cent = 0.5 * (energy_bins[1:] + energy_bins[:-1]) \n",
    "    \n",
    "    ax_hist_corr.plot(corr_bin_cent, corr_hist, label=titles[i])\n",
    "    ax_hist_ssim.plot(ssim_bin_cent, ssim_hist, label=titles[i])\n",
    "    ax_hist_moran.plot(moran_bin_cent, moran_hist, label=titles[i])\n",
    "    ax_hist_ks.plot(ks_bin_cent, ks_hist, label=titles[i])\n",
    "    ax_hist_sobolev.plot(sobolev_bin_cent, sobolev_hist, label=titles[i])\n",
    "    ax_hist_energy.plot(energy_bin_cent, energy_hist, label=titles[i])\n",
    "\n",
    "    ax_dots_corr.plot(strain_nr_dots, strain_correlations, 'o', label=titles[i])\n",
    "    ax_dots_ssim.plot(strain_nr_dots, strain_ssims, 'o', label=titles[i])\n",
    "    ax_dots_moran.plot(strain_nr_dots, strain_moran, 'o', label=titles[i])\n",
    "    ax_dots_ks.plot(strain_nr_dots, strain_ks, 'o', label=titles[i])\n",
    "    ax_dots_sobolev.plot(strain_nr_dots, strain_sobolev, 'o', label=titles[i])\n",
    "    ax_dots_energy.plot(strain_nr_dots, strain_energies, 'o', label=titles[i])\n",
    "\n",
    "    print(f\"{titles[i]}, number of dots around initiation: {int(np.sum(strain_nr_dots))}\")\n",
    "\n",
    "    #ax_hist_corr.hist(strain_correlations, bins=nr_bins, edgecolor='black', alpha=0.5, label=titles[i])\n",
    "    #ax_hist_ssim.hist(strain_ssims, bins=nr_bins, edgecolor='black', alpha=0.5, label=titles[i])\n",
    "    #ax_hist_moran.hist(strain_moran, bins=nr_bins, edgecolor='black', alpha=0.5, label=titles[i])\n",
    "    #ax_hist_ks.hist(strain_ks, bins=nr_bins, edgecolor='black', alpha=0.5, label=titles[i])\n",
    "    #ax_hist_sobolev.hist(strain_sobolev, bins=nr_bins, edgecolor='black', alpha=0.5, label=titles[i])\n",
    "    #ax_hist_energy.hist(strain_energies, bins=nr_bins, edgecolor='black', alpha=0.5, label=titles[i])\n"
   ]
  },
  {
   "cell_type": "code",
   "execution_count": 16,
   "id": "343ec656-fc48-4c7a-b62f-715513e2fcf7",
   "metadata": {},
   "outputs": [
    {
     "data": {
      "text/plain": [
       "<matplotlib.legend.Legend at 0x27e81c18a50>"
      ]
     },
     "execution_count": 16,
     "metadata": {},
     "output_type": "execute_result"
    }
   ],
   "source": [
    "ax_corr.set_title('Strain correlation coefficients')\n",
    "ax_corr.set_xlabel('Channel')\n",
    "ax_corr.set_ylabel('Correlation coefficient')\n",
    "fig_corr.subplots_adjust(right=0.8)\n",
    "ax_corr.legend(loc='upper left', bbox_to_anchor=(1, 0.65))\n",
    "\n",
    "ax_ssim.set_title('Strain SSIM')\n",
    "ax_ssim.set_xlabel('Channel')\n",
    "ax_ssim.set_ylabel('SSIM')\n",
    "fig_ssim.subplots_adjust(right=0.8)\n",
    "ax_ssim.legend(loc='upper left', bbox_to_anchor=(1, 0.65))\n",
    "\n",
    "ax_moran.set_title('Strain Moran')\n",
    "ax_moran.set_xlabel('Channel')\n",
    "ax_moran.set_ylabel('Moran')\n",
    "fig_moran.subplots_adjust(right=0.8)\n",
    "ax_moran.legend(loc='upper left', bbox_to_anchor=(1, 0.65))\n",
    "\n",
    "ax_ks.set_title('Strain KS results')\n",
    "ax_ks.set_xlabel('Channel')\n",
    "ax_ks.set_ylabel('KS result')\n",
    "fig_ks.subplots_adjust(right=0.8)\n",
    "ax_ks.legend(loc='upper left', bbox_to_anchor=(1, 0.65))\n",
    "\n",
    "ax_sobolev.set_title('Strain Sobolev norm')\n",
    "ax_sobolev.set_xlabel('Channel')\n",
    "ax_sobolev.set_ylabel('Sobolev norm')\n",
    "fig_sobolev.subplots_adjust(right=0.8)\n",
    "ax_sobolev.legend(loc='upper left', bbox_to_anchor=(1, 0.65))\n",
    "\n",
    "ax_energy.set_title('Strain energy test')\n",
    "ax_energy.set_xlabel('Channel')\n",
    "ax_energy.set_ylabel('Energy test')\n",
    "fig_energy.subplots_adjust(right=0.8)\n",
    "ax_energy.legend(loc='upper left', bbox_to_anchor=(1, 0.65))"
   ]
  },
  {
   "cell_type": "code",
   "execution_count": 17,
   "id": "350dc2bc-b66c-4ba8-818c-a29afd5709e7",
   "metadata": {},
   "outputs": [
    {
     "data": {
      "text/plain": [
       "<matplotlib.legend.Legend at 0x27e864a8c50>"
      ]
     },
     "execution_count": 17,
     "metadata": {},
     "output_type": "execute_result"
    }
   ],
   "source": [
    "ax_hist_corr.set_title('Strain correlation coefficients')\n",
    "ax_hist_corr.set_ylabel('Count')\n",
    "ax_hist_corr.set_xlabel('Correlation coefficient')\n",
    "fig_hist_corr.subplots_adjust(right=0.8)\n",
    "ax_hist_corr.legend(loc='upper left', bbox_to_anchor=(1, 0.65))\n",
    "\n",
    "ax_hist_ssim.set_title('Strain SSIM')\n",
    "ax_hist_ssim.set_ylabel('Count')\n",
    "ax_hist_ssim.set_xlabel('SSIM')\n",
    "fig_hist_ssim.subplots_adjust(right=0.8)\n",
    "ax_hist_ssim.legend(loc='upper left', bbox_to_anchor=(1, 0.65))\n",
    "\n",
    "ax_hist_moran.set_title('Strain Moran')\n",
    "ax_hist_moran.set_ylabel('Count')\n",
    "ax_hist_moran.set_xlabel('Moran')\n",
    "fig_hist_moran.subplots_adjust(right=0.8)\n",
    "ax_hist_moran.legend(loc='upper left', bbox_to_anchor=(1, 0.65))\n",
    "\n",
    "ax_hist_ks.set_title('Strain KS results')\n",
    "ax_hist_ks.set_ylabel('Count')\n",
    "ax_hist_ks.set_xlabel('KS result')\n",
    "fig_hist_ks.subplots_adjust(right=0.8)\n",
    "ax_hist_ks.legend(loc='upper left', bbox_to_anchor=(1, 0.65))\n",
    "\n",
    "ax_hist_sobolev.set_title('Strain Sobolev norm')\n",
    "ax_hist_sobolev.set_ylabel('Count')\n",
    "ax_hist_sobolev.set_xlabel('Sobolev norm')\n",
    "fig_hist_sobolev.subplots_adjust(right=0.8)\n",
    "ax_hist_sobolev.legend(loc='upper left', bbox_to_anchor=(1, 0.65))\n",
    "\n",
    "ax_hist_energy.set_title('Strain energy test')\n",
    "ax_hist_energy.set_ylabel('Count')\n",
    "ax_hist_energy.set_xlabel('Energy test')\n",
    "fig_hist_energy.subplots_adjust(right=0.8)\n",
    "ax_hist_energy.legend(loc='upper left', bbox_to_anchor=(1, 0.65))"
   ]
  },
  {
   "cell_type": "code",
   "execution_count": 18,
   "id": "35c8f766-e08e-488d-9272-e8cc6966b0d9",
   "metadata": {},
   "outputs": [
    {
     "data": {
      "text/plain": [
       "<matplotlib.legend.Legend at 0x27e81ac2a10>"
      ]
     },
     "execution_count": 18,
     "metadata": {},
     "output_type": "execute_result"
    }
   ],
   "source": [
    "ax_dots_corr.set_title('Strain correlation coefficients')\n",
    "ax_dots_corr.set_xlabel('Numberr of dots')\n",
    "ax_dots_corr.set_ylabel('Correlation coefficient')\n",
    "fig_dots_corr.subplots_adjust(right=0.8)\n",
    "ax_dots_corr.legend(loc='upper left', bbox_to_anchor=(1, 0.65))\n",
    "\n",
    "ax_dots_ssim.set_title('Strain SSIM')\n",
    "ax_dots_ssim.set_xlabel('Number of dots')\n",
    "ax_dots_ssim.set_ylabel('SSIM')\n",
    "fig_dots_ssim.subplots_adjust(right=0.8)\n",
    "ax_dots_ssim.legend(loc='upper left', bbox_to_anchor=(1, 0.65))\n",
    "\n",
    "ax_dots_moran.set_title('Strain Moran')\n",
    "ax_dots_moran.set_xlabel('Number of dots')\n",
    "ax_dots_moran.set_ylabel('Moran')\n",
    "fig_dots_moran.subplots_adjust(right=0.8)\n",
    "ax_dots_moran.legend(loc='upper left', bbox_to_anchor=(1, 0.65))\n",
    "\n",
    "ax_dots_ks.set_title('Strain KS results')\n",
    "ax_dots_ks.set_xlabel('Number of dots')\n",
    "ax_dots_ks.set_ylabel('KS result')\n",
    "fig_dots_ks.subplots_adjust(right=0.8)\n",
    "ax_dots_ks.legend(loc='upper left', bbox_to_anchor=(1, 0.65))\n",
    "\n",
    "ax_dots_sobolev.set_title('Strain Sobolev norm')\n",
    "ax_dots_sobolev.set_xlabel('Number of dots')\n",
    "ax_dots_sobolev.set_ylabel('Sobolev norm')\n",
    "fig_dots_sobolev.subplots_adjust(right=0.8)\n",
    "ax_dots_sobolev.legend(loc='upper left', bbox_to_anchor=(1, 0.65))\n",
    "\n",
    "ax_dots_energy.set_title('Strain energy test')\n",
    "ax_dots_energy.set_xlabel('Number of dots')\n",
    "ax_dots_energy.set_ylabel('Energy test')\n",
    "fig_dots_energy.subplots_adjust(right=0.8)\n",
    "ax_dots_energy.legend(loc='upper left', bbox_to_anchor=(1, 0.65))"
   ]
  },
  {
   "cell_type": "markdown",
   "id": "fb5c86c8-1d06-4df6-9895-835dd65ffe91",
   "metadata": {},
   "source": [
    "#### Save the figures"
   ]
  },
  {
   "cell_type": "code",
   "execution_count": 19,
   "id": "362f810a-1b0b-42e8-be31-c33b0263f0d1",
   "metadata": {},
   "outputs": [],
   "source": [
    "scoring_plot_dir = Path('C:/Users/oscbr226/Desktop/Initiation_Lib_Tweezer/Experiments/EXP-25-CD0128/Scoring')\n",
    "\n",
    "fig_corr.savefig(scoring_plot_dir / 'CorrelationOverChannels.pdf', transparent='True')\n",
    "fig_corr.savefig(scoring_plot_dir / 'CorrelationOverChannels.svg', transparent='True')\n",
    "\n",
    "fig_ssim.savefig(scoring_plot_dir / 'SSIMOverChannels.pdf', transparent='True')\n",
    "fig_ssim.savefig(scoring_plot_dir / 'SSIMOverChannels.svg', transparent='True')\n",
    "\n",
    "fig_moran.savefig(scoring_plot_dir / 'MoranOverChannels.pdf', transparent='True')\n",
    "fig_moran.savefig(scoring_plot_dir / 'MoranOverChannels.svg', transparent='True')\n",
    "\n",
    "fig_ks.savefig(scoring_plot_dir / 'KSOverChannels.pdf', transparent='True')\n",
    "fig_ks.savefig(scoring_plot_dir / 'KSOverChannels.svg', transparent='True')\n",
    "\n",
    "fig_sobolev.savefig(scoring_plot_dir / 'SobolevOverChannels.pdf', transparent='True')\n",
    "fig_sobolev.savefig(scoring_plot_dir / 'SobolevOverChannels.svg', transparent='True')\n",
    "\n",
    "fig_energy.savefig(scoring_plot_dir / 'EnergyOverChannels.pdf', transparent='True')\n",
    "fig_energy.savefig(scoring_plot_dir / 'EnergyOverChannels.svg', transparent='True')"
   ]
  },
  {
   "cell_type": "code",
   "execution_count": 20,
   "id": "b16f359d-b966-45e8-93d0-0e5993906cbd",
   "metadata": {},
   "outputs": [],
   "source": [
    "fig_hist_corr.savefig(scoring_plot_dir / 'CorrelationHistogram.pdf', transparent='True')\n",
    "fig_hist_corr.savefig(scoring_plot_dir / 'CorrelationHistogram.svg', transparent='True')\n",
    "\n",
    "fig_hist_ssim.savefig(scoring_plot_dir / 'SSIMHistogram.pdf', transparent='True')\n",
    "fig_hist_ssim.savefig(scoring_plot_dir / 'SSIMHistogram.svg', transparent='True')\n",
    "\n",
    "fig_hist_moran.savefig(scoring_plot_dir / 'MoranHistogram.pdf', transparent='True')\n",
    "fig_hist_moran.savefig(scoring_plot_dir / 'MoranHistogram.svg', transparent='True')\n",
    "\n",
    "fig_hist_ks.savefig(scoring_plot_dir / 'KSHistogram.pdf', transparent='True')\n",
    "fig_hist_ks.savefig(scoring_plot_dir / 'KSHistogram.svg', transparent='True')\n",
    "\n",
    "fig_hist_sobolev.savefig(scoring_plot_dir / 'SobolevHistogram.pdf', transparent='True')\n",
    "fig_hist_sobolev.savefig(scoring_plot_dir / 'SobolevHistogram.svg', transparent='True')\n",
    "\n",
    "fig_hist_energy.savefig(scoring_plot_dir / 'EnergyHistogram.pdf', transparent='True')\n",
    "fig_hist_energy.savefig(scoring_plot_dir / 'EnergyHistogram.svg', transparent='True')\n"
   ]
  },
  {
   "cell_type": "code",
   "execution_count": 21,
   "id": "71a44e4c-097b-4aa7-b618-6bc2c675d9cc",
   "metadata": {},
   "outputs": [],
   "source": [
    "fig_dots_corr.savefig(scoring_plot_dir / 'CorrelationOverNrDots.pdf', transparent='True')\n",
    "fig_dots_corr.savefig(scoring_plot_dir / 'CorrelationOverNrDots.svg', transparent='True')\n",
    "\n",
    "fig_dots_ssim.savefig(scoring_plot_dir / 'SSIMOverNrDots.pdf', transparent='True')\n",
    "fig_dots_ssim.savefig(scoring_plot_dir / 'SSIMOverNrDots.svg', transparent='True')\n",
    "\n",
    "fig_dots_moran.savefig(scoring_plot_dir / 'MoranOverNrDots.pdf', transparent='True')\n",
    "fig_dots_moran.savefig(scoring_plot_dir / 'MoranOverNrDots.svg', transparent='True')\n",
    "\n",
    "fig_dots_ks.savefig(scoring_plot_dir / 'KSOverNrDots.pdf', transparent='True')\n",
    "fig_dots_ks.savefig(scoring_plot_dir / 'KSOverNrDots.svg', transparent='True')\n",
    "\n",
    "fig_dots_sobolev.savefig(scoring_plot_dir / 'SobolevOverNrDots.pdf', transparent='True')\n",
    "fig_dots_sobolev.savefig(scoring_plot_dir / 'SobolevOverNrDots.svg', transparent='True')\n",
    "\n",
    "fig_dots_energy.savefig(scoring_plot_dir / 'EnergyOverNrDots.pdf', transparent='True')\n",
    "fig_dots_energy.savefig(scoring_plot_dir / 'EnergyOverNrDots.svg', transparent='True')\n"
   ]
  },
  {
   "cell_type": "markdown",
   "id": "6ee9f458-a079-4b06-911c-8e818a577d1c",
   "metadata": {},
   "source": [
    "#### Doing PCA for each strain"
   ]
  },
  {
   "cell_type": "code",
   "execution_count": 22,
   "id": "6199b214-2930-48df-939d-61dae3d47f59",
   "metadata": {},
   "outputs": [
    {
     "name": "stdout",
     "output_type": "stream",
     "text": [
      "[0.72313808]\n",
      "[0.87529145]\n",
      "[0.88561867]\n",
      "[0.62624765]\n"
     ]
    },
    {
     "data": {
      "text/plain": [
       "<matplotlib.legend.Legend at 0x27e81c3eed0>"
      ]
     },
     "execution_count": 22,
     "metadata": {},
     "output_type": "execute_result"
    }
   ],
   "source": [
    "plt.close('all')\n",
    "pca_scaler = StandardScaler()\n",
    "\n",
    "strains_score_matrix = np.full((nr_pos_per_strain*nr_traps, 6, nr_strains), np.nan)\n",
    "\n",
    "pca_fig, pca_ax = plt.subplots()\n",
    "for i in range(0, nr_strains):\n",
    "    strain_correlations = corrcoeffs[pos_inds[i],:].flatten()\n",
    "    strain_ssims = ssims[pos_inds[i],:].flatten()\n",
    "    strain_moran = morans[pos_inds[i],:,0].flatten()\n",
    "    strain_ks = ks_results[pos_inds[i],:,0].flatten()\n",
    "    strain_sobolev = sobolevs[pos_inds[i],:].flatten()\n",
    "    strain_energies = energies[pos_inds[i],:].flatten()\n",
    "\n",
    "    score_matrix = np.column_stack((strain_correlations, strain_ssims, strain_moran, strain_ks, strain_sobolev, strain_energies))\n",
    "    strains_score_matrix[:,:,i] = score_matrix \n",
    "    non_nan_score_matrix = score_matrix[~np.isnan(score_matrix).any(axis=1)]\n",
    "    scaled_scores_for_pca = pca_scaler.fit_transform(non_nan_score_matrix)\n",
    "\n",
    "    pca = PCA(n_components=1)\n",
    "    reduced_scores = pca.fit_transform(scaled_scores_for_pca)\n",
    "\n",
    "    #print(non_nan_score_matrix.shape)\n",
    "    print(pca.explained_variance_ratio_)\n",
    "    #print(pca)\n",
    "    pca_ax.plot(reduced_scores, label=titles[i])\n",
    "\n",
    "pca_fig.subplots_adjust(right=0.8)\n",
    "pca_ax.set_xlabel('Non-empty trap')\n",
    "pca_ax.set_ylabel('PCA')\n",
    "pca_ax.legend(loc='upper left', bbox_to_anchor=(1, 0.65))\n"
   ]
  },
  {
   "cell_type": "code",
   "execution_count": 23,
   "id": "277a7004-fd12-45d8-b139-ac805e7a806d",
   "metadata": {},
   "outputs": [],
   "source": [
    "\n",
    "\n",
    "mat_save_dir = save_dir / 'data_for_pca.mat'\n",
    "heatmap_save_dir = save_dir / 'heatmaps_init.mat'\n",
    "scipy.io.savemat(mat_save_dir, {'strain_scores': strains_score_matrix})\n"
   ]
  },
  {
   "cell_type": "markdown",
   "id": "4e76c497-d235-425e-8adf-798a4ab8ad03",
   "metadata": {},
   "source": [
    "#### PCA on fork plots around initiation"
   ]
  },
  {
   "cell_type": "code",
   "execution_count": 10,
   "id": "0126216a-8ca6-488a-8e87-860b298de27c",
   "metadata": {},
   "outputs": [],
   "source": [
    "strains_trap_heatmaps = np.zeros(shape=(heatmap_init_dims[0], heatmap_init_dims[1], nr_pos_per_strain*nr_traps, nr_strains))\n",
    "flat_strains_trap_heatmaps = np.zeros(shape=(heatmap_init_dims[0]*heatmap_init_dims[1], nr_pos_per_strain*nr_traps, nr_strains))\n",
    "for i in range(0, nr_strains):\n",
    "    dimension_red_heatmap_init = heatmap_init_pos_traps[:,:,pos_inds[i],:].reshape(heatmap_init_dims[0], heatmap_init_dims[1], -1)\n",
    "    flat_dimension_red_heatmap_init = flat_heatmap_init_pos_traps[:,pos_inds[i],:].reshape(heatmap_init_dims[0]*heatmap_init_dims[1],-1)\n",
    "    strains_trap_heatmaps[:,:,:,i] = dimension_red_heatmap_init\n",
    "    flat_strains_trap_heatmaps[:,:,i]= flat_dimension_red_heatmap_init"
   ]
  },
  {
   "cell_type": "code",
   "execution_count": null,
   "id": "a85fbf28-6c08-4fd7-b324-3fe5d855d4d0",
   "metadata": {},
   "outputs": [],
   "source": []
  },
  {
   "cell_type": "code",
   "execution_count": 11,
   "id": "0ec3bac5-2811-4b9f-a094-0c9020018edd",
   "metadata": {},
   "outputs": [
    {
     "name": "stdout",
     "output_type": "stream",
     "text": [
      "(1268, 272)\n"
     ]
    }
   ],
   "source": [
    "pooled_strains_flat_heatmap_non_zero = []\n",
    "nr_non_zero_els = np.zeros(shape=(nr_strains,))\n",
    "for i in range(0,nr_strains):\n",
    "    f_str_trap_hm = flat_strains_trap_heatmaps[:,:,i] \n",
    "    non_zero_flat_heatmap = f_str_trap_hm[:,np.logical_and(np.all(~np.isnan(f_str_trap_hm), axis=0), np.any(f_str_trap_hm > 0, axis=0))]\n",
    "    pooled_strains_flat_heatmap_non_zero.append(non_zero_flat_heatmap)\n",
    "    nr_non_zero_els[i] = non_zero_flat_heatmap.shape[1]\n",
    "\n",
    "\n",
    "concat_strains_flat_heatmap_non_zero = np.transpose(np.hstack(pooled_strains_flat_heatmap_non_zero))\n",
    "print(concat_strains_flat_heatmap_non_zero.shape)"
   ]
  },
  {
   "cell_type": "code",
   "execution_count": null,
   "id": "2fa3e56d-281f-4c5c-ac3f-454810981b02",
   "metadata": {},
   "outputs": [],
   "source": []
  },
  {
   "cell_type": "code",
   "execution_count": 13,
   "id": "3620e428-e63b-4a0b-b6e4-132cf69876bf",
   "metadata": {},
   "outputs": [],
   "source": [
    "covar = np.cov(concat_strains_flat_heatmap_non_zero, rowvar=False)\n",
    "eigvals, eigvecs = np.linalg.eig(covar)\n",
    "selected_eigvecs = np.fliplr(eigvecs[:, 0:3])\n",
    "data_proj = concat_strains_flat_heatmap_non_zero @ selected_eigvecs\n",
    "data_proj[:,1] = -data_proj[:,1]\n",
    "\n",
    "with h5py.File(save_dir / 'pca_data_fork_plots.h5', 'w') as hdf:\n",
    "    hdf.create_dataset('ref_selected_eigvecs', data = selected_eigvecs)\n",
    "    "
   ]
  },
  {
   "cell_type": "code",
   "execution_count": 29,
   "id": "3e59e173-de98-44a3-81b4-3a89df451230",
   "metadata": {},
   "outputs": [],
   "source": [
    "plt.close('all')\n",
    "fig = plt.figure()\n",
    "ax = fig.add_subplot(111, projection='3d')\n",
    "\n",
    "start_idx = 0\n",
    "for i in range(0,nr_strains):\n",
    "    nr_points = int(nr_non_zero_els[i])\n",
    "    inds = np.arange(start_idx, nr_points+start_idx)\n",
    "    scat_plt = ax.scatter(data_proj[inds, 0], data_proj[inds, 1], data_proj[inds, 2], marker='o')\n",
    "    start_idx = nr_points + start_idx\n",
    " \n",
    "ax.set_xlabel('PC1')\n",
    "ax.set_ylabel('PC2')\n",
    "ax.set_zlabel('PC3')\n",
    "ax.legend(titles, loc='upper left', bbox_to_anchor=(0.9, 1.1))\n",
    "\n",
    "ref_range = np.arange(0,int(nr_non_zero_els[0]))\n",
    "ref_points = data_proj[ref_range, :]\n",
    "\n",
    "ref_chull = ConvexHull(ref_points)\n",
    "ref_hull_points = ref_points[ref_chull.vertices]\n",
    "ref_hull_delaunay = Delaunay(ref_hull_points)\n",
    "for simplex in ref_chull.simplices:\n",
    "    faces = ref_points[simplex]\n",
    "    poly = Poly3DCollection([faces], alpha=0.3, edgecolor='black')\n",
    "    ax.add_collection3d(poly)"
   ]
  },
  {
   "cell_type": "code",
   "execution_count": 28,
   "id": "9bca3cf4-4159-4c3c-b237-d5f0530a6a90",
   "metadata": {},
   "outputs": [
    {
     "name": "stdout",
     "output_type": "stream",
     "text": [
      "For ΔDARS1 1.63% of points are within the reference convex hull\n",
      "For ΔDARS2 9.39% of points are within the reference convex hull\n",
      "For ΔdatA 3.44% of points are within the reference convex hull\n"
     ]
    }
   ],
   "source": [
    "start_ind = int(nr_non_zero_els[0])\n",
    "for i in range(1, nr_strains):\n",
    "    nr_strain_points = int(nr_non_zero_els[i])\n",
    "    inds = np.arange(start_ind, nr_strain_points+start_ind)\n",
    "    strain_points = data_proj[inds, :]\n",
    "    is_inside = ref_hull_delaunay.find_simplex(strain_points) >= 0\n",
    "    start_ind = nr_strain_points+start_ind\n",
    "    percent_points_inside = np.sum(is_inside)/len(is_inside)\n",
    "    print(f\"For {titles[i]} {round(percent_points_inside*100,2)}% of points are within the reference convex hull\")"
   ]
  },
  {
   "cell_type": "code",
   "execution_count": 14,
   "id": "13502e2f-3006-4d0e-9500-009ae1040872",
   "metadata": {},
   "outputs": [
    {
     "name": "stdout",
     "output_type": "stream",
     "text": [
      "(8, 34)\n"
     ]
    }
   ],
   "source": [
    "print(heatmap_init_ref.shape)"
   ]
  },
  {
   "cell_type": "code",
   "execution_count": null,
   "id": "6885b6a3-eb4e-470c-9d4a-b4b9394e4bcc",
   "metadata": {},
   "outputs": [],
   "source": []
  }
 ],
 "metadata": {
  "kernelspec": {
   "display_name": "Python 3 (ipykernel)",
   "language": "python",
   "name": "python3"
  },
  "language_info": {
   "codemirror_mode": {
    "name": "ipython",
    "version": 3
   },
   "file_extension": ".py",
   "mimetype": "text/x-python",
   "name": "python",
   "nbconvert_exporter": "python",
   "pygments_lexer": "ipython3",
   "version": "3.11.0"
  }
 },
 "nbformat": 4,
 "nbformat_minor": 5
}
