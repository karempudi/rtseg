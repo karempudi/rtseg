{
 "cells": [
  {
   "cell_type": "code",
   "execution_count": 16,
   "id": "db860bbd-072f-4d32-9a99-7afcb07905a2",
   "metadata": {},
   "outputs": [],
   "source": [
    "%reload_ext autoreload\n",
    "%autoreload 2"
   ]
  },
  {
   "cell_type": "code",
   "execution_count": 17,
   "id": "a0750993-94c7-419c-97f4-96e6c024a855",
   "metadata": {},
   "outputs": [],
   "source": [
    "import numpy as np \n",
    "from pathlib import Path\n",
    "from rtseg.utils.param_io import load_params\n",
    "import matplotlib.pyplot as plt\n",
    "%matplotlib qt5\n",
    "from mpl_toolkits.mplot3d import Axes3D\n",
    "from scipy.spatial import ConvexHull, Delaunay\n",
    "from mpl_toolkits.mplot3d.art3d import Poly3DCollection\n",
    "import h5py"
   ]
  },
  {
   "cell_type": "code",
   "execution_count": 18,
   "id": "4b68791f-f7e1-48ef-a1be-9cbf663d0c83",
   "metadata": {},
   "outputs": [],
   "source": [
    "param = load_params(Path('C:/Users/oscbr226/Desktop/Initiation_Lib_Tweezer/Experiments/EXP-25-CD0126/expt_params.yaml'), ref_type='expt')\n",
    "param.Save.directory = 'C:/Users/oscbr226/Desktop/Initiation_Lib_Tweezer/Experiments/EXP-25-CD0126/'\n",
    "save_dir = Path(param.Save.directory)"
   ]
  },
  {
   "cell_type": "code",
   "execution_count": 19,
   "id": "0e919cff-9c47-4f8b-b685-69a09a98a871",
   "metadata": {},
   "outputs": [
    {
     "name": "stdout",
     "output_type": "stream",
     "text": [
      "(10, 34, 60, 28)\n"
     ]
    }
   ],
   "source": [
    "with h5py.File(save_dir / 'fork_score_data.h5', 'r') as hdf:\n",
    "    fork_data = {}\n",
    "    for key in hdf['fork_data'].keys():\n",
    "        fork_data[key] = hdf['fork_data'][key][()]\n",
    "\n",
    "flat_heatmap_init_pos_traps = fork_data['flat_heatmap_around_init_pos_traps']\n",
    "print(fork_data['heatmap_around_init_pos_traps'].shape)\n",
    "nr_pix_fork = flat_heatmap_init_pos_traps.shape[0]"
   ]
  },
  {
   "cell_type": "code",
   "execution_count": 20,
   "id": "228bce32-bf75-4ac0-a915-a4249056181b",
   "metadata": {},
   "outputs": [],
   "source": [
    "flat_heatmap_init_re = flat_heatmap_init_pos_traps.reshape(nr_pix_fork, -1)\n",
    "non_zero_ind = np.logical_and(np.all(~np.isnan(flat_heatmap_init_re), axis=0), np.any(flat_heatmap_init_re > 0, axis=0))\n",
    "non_zero_flat_heatmap_init = np.transpose(flat_heatmap_init_re[:, non_zero_ind])"
   ]
  },
  {
   "cell_type": "code",
   "execution_count": 21,
   "id": "182e565f-7a97-4551-8c7b-af3afc6aa511",
   "metadata": {},
   "outputs": [
    {
     "name": "stdout",
     "output_type": "stream",
     "text": [
      "(340, 340) (340, 340) (1675, 3)\n"
     ]
    }
   ],
   "source": [
    "covar = np.cov(non_zero_flat_heatmap_init, rowvar=False)\n",
    "_, eigvecs = np.linalg.eig(covar)\n",
    "selected_eigvecs = np.fliplr(eigvecs[:,0:3])\n",
    "data_proj = non_zero_flat_heatmap_init @ selected_eigvecs\n",
    "data_proj[:,1] = -data_proj[:,1]\n",
    "print(covar.shape, eigvecs.shape, data_proj.shape)"
   ]
  },
  {
   "cell_type": "code",
   "execution_count": 22,
   "id": "ebaf5e8b-05e7-41b5-bafa-a1c85e14891d",
   "metadata": {},
   "outputs": [],
   "source": [
    "plt.close('all')\n",
    "fig = plt.figure()\n",
    "ax = fig.add_subplot(111, projection='3d')\n",
    "\n",
    "ax.scatter(data_proj[:,0], data_proj[:,1], data_proj[:,2], marker='o')\n",
    "ax.set_xlabel('PC1')\n",
    "ax.set_ylabel('PC2')\n",
    "ax.set_zlabel('PC3')\n",
    "ax.view_init(elev=20)\n"
   ]
  },
  {
   "cell_type": "code",
   "execution_count": 23,
   "id": "8a0656be-96be-4bd1-999a-39afa26f0799",
   "metadata": {},
   "outputs": [],
   "source": [
    "ref_dir = Path('C:/Users/oscbr226/Desktop/Initiation_Lib_Tweezer/Experiments/EXP-25-CD0125/')\n",
    "with h5py.File(ref_dir / 'pca_data_fork_plots.h5', 'r') as hdf:\n",
    "    ref_selected_eigvecs = hdf['ref_selected_eigvecs'][()]"
   ]
  },
  {
   "cell_type": "code",
   "execution_count": 13,
   "id": "98d0e9b9-7510-456c-b464-1373f49a1b43",
   "metadata": {},
   "outputs": [
    {
     "name": "stdout",
     "output_type": "stream",
     "text": [
      "(272, 3) (1675, 340) (340, 3)\n"
     ]
    }
   ],
   "source": [
    "print(ref_selected_eigvecs.shape, non_zero_flat_heatmap_init.shape, selected_eigvecs.shape)"
   ]
  },
  {
   "cell_type": "code",
   "execution_count": 15,
   "id": "f705f4e0-b2fa-4c6f-b0fb-65a5af0ce1f9",
   "metadata": {},
   "outputs": [
    {
     "ename": "ValueError",
     "evalue": "matmul: Input operand 1 has a mismatch in its core dimension 0, with gufunc signature (n?,k),(k,m?)->(n?,m?) (size 272 is different from 340)",
     "output_type": "error",
     "traceback": [
      "\u001b[1;31m---------------------------------------------------------------------------\u001b[0m",
      "\u001b[1;31mValueError\u001b[0m                                Traceback (most recent call last)",
      "Cell \u001b[1;32mIn[15], line 1\u001b[0m\n\u001b[1;32m----> 1\u001b[0m test \u001b[38;5;241m=\u001b[39m \u001b[43mnon_zero_flat_heatmap_init\u001b[49m\u001b[43m \u001b[49m\u001b[38;5;241;43m@\u001b[39;49m\u001b[43m \u001b[49m\u001b[43mref_selected_eigvecs\u001b[49m\n",
      "\u001b[1;31mValueError\u001b[0m: matmul: Input operand 1 has a mismatch in its core dimension 0, with gufunc signature (n?,k),(k,m?)->(n?,m?) (size 272 is different from 340)"
     ]
    }
   ],
   "source": [
    "test = non_zero_flat_heatmap_init @ ref_selected_eigvecs"
   ]
  },
  {
   "cell_type": "code",
   "execution_count": null,
   "id": "78f6d124-f3f3-4195-adcb-12bb9dd78dfe",
   "metadata": {},
   "outputs": [],
   "source": []
  }
 ],
 "metadata": {
  "kernelspec": {
   "display_name": "Python 3 (ipykernel)",
   "language": "python",
   "name": "python3"
  },
  "language_info": {
   "codemirror_mode": {
    "name": "ipython",
    "version": 3
   },
   "file_extension": ".py",
   "mimetype": "text/x-python",
   "name": "python",
   "nbconvert_exporter": "python",
   "pygments_lexer": "ipython3",
   "version": "3.11.0"
  }
 },
 "nbformat": 4,
 "nbformat_minor": 5
}
