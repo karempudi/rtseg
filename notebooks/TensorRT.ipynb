{
 "cells": [
  {
   "cell_type": "code",
   "execution_count": 1,
   "id": "e622e197-0106-4114-a871-5264bf09f013",
   "metadata": {},
   "outputs": [],
   "source": [
    "import torch\n",
    "import numpy as np\n",
    "import matplotlib.pyplot as plt\n",
    "import tensorrt"
   ]
  },
  {
   "cell_type": "code",
   "execution_count": 2,
   "id": "953c1073-d11d-484a-a8ec-d51c604b939e",
   "metadata": {},
   "outputs": [],
   "source": [
    "import torch.onnx\n",
    "from torchvision import datasets, transforms"
   ]
  },
  {
   "cell_type": "code",
   "execution_count": 3,
   "id": "51a0d8d2-06f5-4410-aca9-7dcfe151cc5e",
   "metadata": {},
   "outputs": [],
   "source": [
    "from mnist import Net"
   ]
  },
  {
   "cell_type": "code",
   "execution_count": 4,
   "id": "2ad64e16-de5f-4bfa-81e1-8e9bfa3291a7",
   "metadata": {},
   "outputs": [],
   "source": [
    "transform=transforms.Compose([\n",
    "    transforms.ToTensor(),\n",
    "    transforms.Normalize((0.1307,), (0.3081,))\n",
    "    ])\n",
    "dataset = datasets.MNIST('./data', train=False, transform=transform)"
   ]
  },
  {
   "cell_type": "code",
   "execution_count": 5,
   "id": "e0dbd817-2479-424c-ba1a-fe18c4577319",
   "metadata": {},
   "outputs": [
    {
     "data": {
      "text/plain": [
       "10000"
      ]
     },
     "execution_count": 5,
     "metadata": {},
     "output_type": "execute_result"
    }
   ],
   "source": [
    "len(dataset)"
   ]
  },
  {
   "cell_type": "code",
   "execution_count": 43,
   "id": "9515e2f6-9cf1-4089-b597-dd401541a9ef",
   "metadata": {},
   "outputs": [],
   "source": [
    "dataloader = torch.utils.data.DataLoader(dataset, batch_size=1200, pin_memory=True, shuffle=False, num_workers=2)"
   ]
  },
  {
   "cell_type": "code",
   "execution_count": 44,
   "id": "60e1136b-e2dd-4fc2-b873-33bead6851ce",
   "metadata": {},
   "outputs": [],
   "source": [
    "a, b = next(iter(dataloader))"
   ]
  },
  {
   "cell_type": "code",
   "execution_count": 45,
   "id": "37e4c7c2-9e55-4b8c-a796-8cc544385c38",
   "metadata": {},
   "outputs": [
    {
     "data": {
      "text/plain": [
       "(torch.Size([1200, 1, 28, 28]), torch.Size([1200]))"
      ]
     },
     "execution_count": 45,
     "metadata": {},
     "output_type": "execute_result"
    }
   ],
   "source": [
    "a.shape, b.shape"
   ]
  },
  {
   "cell_type": "code",
   "execution_count": 46,
   "id": "18abfebe-0575-4418-b933-aab1821cc9d2",
   "metadata": {},
   "outputs": [
    {
     "data": {
      "image/png": "[encoded data removed]",
      "text/plain": [
       "<Figure size 640x480 with 1 Axes>"
      ]
     },
     "metadata": {},
     "output_type": "display_data"
    }
   ],
   "source": [
    "plt.figure()\n",
    "plt.imshow(a.numpy()[1][0], cmap='gray')\n",
    "plt.show()"
   ]
  },
  {
   "cell_type": "code",
   "execution_count": null,
   "id": "b89706ae-5fec-440c-ada0-601962a27d8a",
   "metadata": {},
   "outputs": [],
   "source": []
  },
  {
   "cell_type": "code",
   "execution_count": 10,
   "id": "e510d2c5-b7b5-4535-992a-789f7f4fecf8",
   "metadata": {},
   "outputs": [],
   "source": [
    "net = Net()"
   ]
  },
  {
   "cell_type": "code",
   "execution_count": 11,
   "id": "dad39c99-58a1-429f-bc84-ef94d62264aa",
   "metadata": {},
   "outputs": [
    {
     "data": {
      "text/plain": [
       "<All keys matched successfully>"
      ]
     },
     "execution_count": 11,
     "metadata": {},
     "output_type": "execute_result"
    }
   ],
   "source": [
    "net.load_state_dict(torch.load('mnist_cnn.pt'))"
   ]
  },
  {
   "cell_type": "code",
   "execution_count": 12,
   "id": "4426a23f-796a-450b-a5e1-4bc546cae54d",
   "metadata": {},
   "outputs": [
    {
     "data": {
      "text/plain": [
       "Net(\n",
       "  (conv1): Conv2d(1, 32, kernel_size=(3, 3), stride=(1, 1))\n",
       "  (conv2): Conv2d(32, 64, kernel_size=(3, 3), stride=(1, 1))\n",
       "  (dropout1): Dropout(p=0.25, inplace=False)\n",
       "  (dropout2): Dropout(p=0.5, inplace=False)\n",
       "  (fc1): Linear(in_features=9216, out_features=128, bias=True)\n",
       "  (fc2): Linear(in_features=128, out_features=10, bias=True)\n",
       ")"
      ]
     },
     "execution_count": 12,
     "metadata": {},
     "output_type": "execute_result"
    }
   ],
   "source": [
    "net.eval()"
   ]
  },
  {
   "cell_type": "code",
   "execution_count": null,
   "id": "278e82d3-5bff-4860-9703-2ff8b6eb140d",
   "metadata": {},
   "outputs": [],
   "source": []
  },
  {
   "cell_type": "code",
   "execution_count": 13,
   "id": "f3d0d489-0f27-4df5-9e02-d5d850ed017d",
   "metadata": {},
   "outputs": [],
   "source": [
    "x = torch.randn(1, 1, 28, 28, requires_grad=True)"
   ]
  },
  {
   "cell_type": "code",
   "execution_count": 14,
   "id": "80c44705-f5b7-48a0-b2f3-6546c03c4a01",
   "metadata": {},
   "outputs": [],
   "source": [
    "out = net(x)"
   ]
  },
  {
   "cell_type": "code",
   "execution_count": 15,
   "id": "fac7f86a-fc33-487a-9a21-5bad9db9ae21",
   "metadata": {},
   "outputs": [],
   "source": [
    "torch.onnx.export(net, x, 'mnist.onnx', export_params=True, opset_version=10, do_constant_folding=True,\n",
    "                  input_names=['input'], output_names= ['output'],)"
   ]
  },
  {
   "cell_type": "code",
   "execution_count": 16,
   "id": "03456133-c7ef-4329-b9d4-ba521a2f201f",
   "metadata": {},
   "outputs": [],
   "source": [
    "import onnx"
   ]
  },
  {
   "cell_type": "code",
   "execution_count": 17,
   "id": "b79a7f51-9c8f-49a0-8775-beec88430f4b",
   "metadata": {},
   "outputs": [],
   "source": [
    "onnx_model = onnx.load('mnist.onnx')\n",
    "onnx.checker.check_model(onnx_model)"
   ]
  },
  {
   "cell_type": "code",
   "execution_count": 47,
   "id": "98072e23-f079-458b-91f4-a5fa27e75a90",
   "metadata": {},
   "outputs": [],
   "source": [
    "import tritonclient.http as httpclient"
   ]
  },
  {
   "cell_type": "code",
   "execution_count": 48,
   "id": "0499d1c2-f793-4dba-8729-8c8e88fd2a8b",
   "metadata": {},
   "outputs": [
    {
     "data": {
      "text/plain": [
       "torch.Size([1200, 1, 28, 28])"
      ]
     },
     "execution_count": 48,
     "metadata": {},
     "output_type": "execute_result"
    }
   ],
   "source": [
    "a.shape"
   ]
  },
  {
   "cell_type": "code",
   "execution_count": 49,
   "id": "cd3ff5ff-503f-47b9-8adc-d916e2e43d31",
   "metadata": {},
   "outputs": [],
   "source": [
    "triton_client = httpclient.InferenceServerClient(url=\"localhost:8000\")"
   ]
  },
  {
   "cell_type": "code",
   "execution_count": 50,
   "id": "09546cca-400d-4d4e-93c6-6aa9dea7c81f",
   "metadata": {},
   "outputs": [],
   "source": [
    "test_input = httpclient.InferInput(\"input\", a.numpy().shape, datatype=\"FP32\")"
   ]
  },
  {
   "cell_type": "code",
   "execution_count": 51,
   "id": "616ccdb5-be31-4331-8a85-bd47fd925fdd",
   "metadata": {},
   "outputs": [
    {
     "data": {
      "text/plain": [
       "<tritonclient.http._infer_input.InferInput at 0x74fbe4743390>"
      ]
     },
     "execution_count": 51,
     "metadata": {},
     "output_type": "execute_result"
    }
   ],
   "source": [
    "test_input.set_data_from_numpy(a.numpy(), binary_data=True)"
   ]
  },
  {
   "cell_type": "code",
   "execution_count": 52,
   "id": "34cc8ac1-5447-48bf-b262-fcd614ac4d2c",
   "metadata": {},
   "outputs": [],
   "source": [
    "test_output = httpclient.InferRequestedOutput(\"output\", binary_data=True)"
   ]
  },
  {
   "cell_type": "code",
   "execution_count": 53,
   "id": "5b5e20b7-6ac0-4a25-90a2-224ef7e8b991",
   "metadata": {},
   "outputs": [
    {
     "data": {
      "text/plain": [
       "<tritonclient.http._requested_output.InferRequestedOutput at 0x74fbe4743290>"
      ]
     },
     "execution_count": 53,
     "metadata": {},
     "output_type": "execute_result"
    }
   ],
   "source": [
    "test_output"
   ]
  },
  {
   "cell_type": "code",
   "execution_count": 54,
   "id": "6aef59fa-4745-4719-8a02-f40be353e613",
   "metadata": {},
   "outputs": [
    {
     "ename": "InferenceServerException",
     "evalue": "[400] [request id: <id_unknown>] unexpected shape for input 'input' for model 'mnist_onnx'. Expected [1000,1,28,28], got [1200,1,28,28]. ",
     "output_type": "error",
     "traceback": [
      "\u001b[0;31m---------------------------------------------------------------------------\u001b[0m",
      "\u001b[0;31mInferenceServerException\u001b[0m                  Traceback (most recent call last)",
      "Cell \u001b[0;32mIn[54], line 1\u001b[0m\n\u001b[0;32m----> 1\u001b[0m results \u001b[38;5;241m=\u001b[39m \u001b[43mtriton_client\u001b[49m\u001b[38;5;241;43m.\u001b[39;49m\u001b[43minfer\u001b[49m\u001b[43m(\u001b[49m\u001b[43mmodel_name\u001b[49m\u001b[38;5;241;43m=\u001b[39;49m\u001b[38;5;124;43m\"\u001b[39;49m\u001b[38;5;124;43mmnist_onnx\u001b[39;49m\u001b[38;5;124;43m\"\u001b[39;49m\u001b[43m,\u001b[49m\u001b[43m \u001b[49m\u001b[43minputs\u001b[49m\u001b[38;5;241;43m=\u001b[39;49m\u001b[43m[\u001b[49m\u001b[43mtest_input\u001b[49m\u001b[43m]\u001b[49m\u001b[43m,\u001b[49m\u001b[43m \u001b[49m\u001b[43moutputs\u001b[49m\u001b[38;5;241;43m=\u001b[39;49m\u001b[43m[\u001b[49m\u001b[43mtest_output\u001b[49m\u001b[43m]\u001b[49m\u001b[43m)\u001b[49m\n",
      "File \u001b[0;32m~/Documents/rtseg/.venv/lib/python3.11/site-packages/tritonclient/http/_client.py:1482\u001b[0m, in \u001b[0;36mInferenceServerClient.infer\u001b[0;34m(self, model_name, inputs, model_version, outputs, request_id, sequence_id, sequence_start, sequence_end, priority, timeout, headers, query_params, request_compression_algorithm, response_compression_algorithm, parameters)\u001b[0m\n\u001b[1;32m   1474\u001b[0m     request_uri \u001b[38;5;241m=\u001b[39m \u001b[38;5;124m\"\u001b[39m\u001b[38;5;124mv2/models/\u001b[39m\u001b[38;5;132;01m{}\u001b[39;00m\u001b[38;5;124m/infer\u001b[39m\u001b[38;5;124m\"\u001b[39m\u001b[38;5;241m.\u001b[39mformat(quote(model_name))\n\u001b[1;32m   1476\u001b[0m response \u001b[38;5;241m=\u001b[39m \u001b[38;5;28mself\u001b[39m\u001b[38;5;241m.\u001b[39m_post(\n\u001b[1;32m   1477\u001b[0m     request_uri\u001b[38;5;241m=\u001b[39mrequest_uri,\n\u001b[1;32m   1478\u001b[0m     request_body\u001b[38;5;241m=\u001b[39mrequest_body,\n\u001b[1;32m   1479\u001b[0m     headers\u001b[38;5;241m=\u001b[39mheaders,\n\u001b[1;32m   1480\u001b[0m     query_params\u001b[38;5;241m=\u001b[39mquery_params,\n\u001b[1;32m   1481\u001b[0m )\n\u001b[0;32m-> 1482\u001b[0m \u001b[43m_raise_if_error\u001b[49m\u001b[43m(\u001b[49m\u001b[43mresponse\u001b[49m\u001b[43m)\u001b[49m\n\u001b[1;32m   1484\u001b[0m \u001b[38;5;28;01mreturn\u001b[39;00m InferResult(response, \u001b[38;5;28mself\u001b[39m\u001b[38;5;241m.\u001b[39m_verbose)\n",
      "File \u001b[0;32m~/Documents/rtseg/.venv/lib/python3.11/site-packages/tritonclient/http/_utils.py:69\u001b[0m, in \u001b[0;36m_raise_if_error\u001b[0;34m(response)\u001b[0m\n\u001b[1;32m     67\u001b[0m error \u001b[38;5;241m=\u001b[39m _get_error(response)\n\u001b[1;32m     68\u001b[0m \u001b[38;5;28;01mif\u001b[39;00m error \u001b[38;5;129;01mis\u001b[39;00m \u001b[38;5;129;01mnot\u001b[39;00m \u001b[38;5;28;01mNone\u001b[39;00m:\n\u001b[0;32m---> 69\u001b[0m     \u001b[38;5;28;01mraise\u001b[39;00m error\n",
      "\u001b[0;31mInferenceServerException\u001b[0m: [400] [request id: <id_unknown>] unexpected shape for input 'input' for model 'mnist_onnx'. Expected [1000,1,28,28], got [1200,1,28,28]. "
     ]
    }
   ],
   "source": [
    "results = triton_client.infer(model_name=\"mnist_onnx\", inputs=[test_input], outputs=[test_output])"
   ]
  },
  {
   "cell_type": "code",
   "execution_count": 19,
   "id": "e068a6e0-62c8-4553-a4e5-8a425863df33",
   "metadata": {},
   "outputs": [],
   "source": [
    "output_final = results.as_numpy('output')"
   ]
  },
  {
   "cell_type": "code",
   "execution_count": 28,
   "id": "f0929776-ddf3-420a-974b-e79f3dda4bf2",
   "metadata": {},
   "outputs": [
    {
     "data": {
      "text/plain": [
       "(1000, 10)"
      ]
     },
     "execution_count": 28,
     "metadata": {},
     "output_type": "execute_result"
    }
   ],
   "source": [
    "output_final.shape"
   ]
  },
  {
   "cell_type": "code",
   "execution_count": 30,
   "id": "14fd4114-a150-403b-a9c9-5812dc6ea8b4",
   "metadata": {},
   "outputs": [],
   "source": [
    "outputs_np = np.argmax(output_final, axis=1)"
   ]
  },
  {
   "cell_type": "code",
   "execution_count": 31,
   "id": "b377abb9-3c47-4c29-8b12-d8147e16b631",
   "metadata": {},
   "outputs": [
    {
     "data": {
      "text/plain": [
       "array([7, 2, 1, 0, 4, 1, 4, 9, 5, 9])"
      ]
     },
     "execution_count": 31,
     "metadata": {},
     "output_type": "execute_result"
    }
   ],
   "source": [
    "outputs_np[:10]"
   ]
  },
  {
   "cell_type": "code",
   "execution_count": 41,
   "id": "0495c5a4-005e-4a3f-aadd-6cb3c87c23ec",
   "metadata": {},
   "outputs": [
    {
     "data": {
      "image/png": "[encoded data removed]",
      "text/plain": [
       "<Figure size 640x480 with 1 Axes>"
      ]
     },
     "metadata": {},
     "output_type": "display_data"
    }
   ],
   "source": [
    "plt.figure()\n",
    "plt.imshow(a.numpy()[9][0], cmap='gray')\n",
    "plt.show()"
   ]
  },
  {
   "cell_type": "code",
   "execution_count": null,
   "id": "b05c0700-6c8d-4f71-91ee-6f7098a48c4b",
   "metadata": {},
   "outputs": [],
   "source": []
  }
 ],
 "metadata": {
  "kernelspec": {
   "display_name": "Python 3 (ipykernel)",
   "language": "python",
   "name": "python3"
  },
  "language_info": {
   "codemirror_mode": {
    "name": "ipython",
    "version": 3
   },
   "file_extension": ".py",
   "mimetype": "text/x-python",
   "name": "python",
   "nbconvert_exporter": "python",
   "pygments_lexer": "ipython3",
   "version": "3.11.0rc1"
  }
 },
 "nbformat": 4,
 "nbformat_minor": 5
}
