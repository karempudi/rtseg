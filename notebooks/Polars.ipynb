{
 "cells": [
  {
   "cell_type": "code",
   "execution_count": 1,
   "id": "e11b3b2b-0e2b-40e9-b40e-adf13ea69eb4",
   "metadata": {},
   "outputs": [],
   "source": [
    "%reload_ext autoreload\n",
    "%autoreload 2"
   ]
  },
  {
   "cell_type": "code",
   "execution_count": 2,
   "id": "aec41d2f-da39-4ab8-a93d-2c7b456ef2a0",
   "metadata": {},
   "outputs": [],
   "source": [
    "import numpy as np\n",
    "import polars as pl\n",
    "import datetime as dt"
   ]
  },
  {
   "cell_type": "code",
   "execution_count": 3,
   "id": "cb1b7b72-2161-44df-8213-b19d4327afee",
   "metadata": {},
   "outputs": [
    {
     "name": "stdout",
     "output_type": "stream",
     "text": [
      "shape: (4, 4)\n",
      "┌────────────────┬────────────┬────────┬────────┐\n",
      "│ name           ┆ birthdate  ┆ weight ┆ height │\n",
      "│ ---            ┆ ---        ┆ ---    ┆ ---    │\n",
      "│ str            ┆ date       ┆ f64    ┆ f64    │\n",
      "╞════════════════╪════════════╪════════╪════════╡\n",
      "│ Alice Archer   ┆ 1997-01-10 ┆ 57.9   ┆ 1.56   │\n",
      "│ Ben Brown      ┆ 1985-02-15 ┆ 72.5   ┆ 1.77   │\n",
      "│ Chloe Cooper   ┆ 1983-03-22 ┆ 53.6   ┆ 1.65   │\n",
      "│ Daniel Donovan ┆ 1981-04-30 ┆ 83.1   ┆ 1.75   │\n",
      "└────────────────┴────────────┴────────┴────────┘\n"
     ]
    }
   ],
   "source": [
    "\n",
    "df = pl.DataFrame(\n",
    "    {\n",
    "        \"name\": [\"Alice Archer\", \"Ben Brown\", \"Chloe Cooper\", \"Daniel Donovan\"],\n",
    "        \"birthdate\": [\n",
    "            dt.date(1997, 1, 10),\n",
    "            dt.date(1985, 2, 15),\n",
    "            dt.date(1983, 3, 22),\n",
    "            dt.date(1981, 4, 30),\n",
    "        ],\n",
    "        \"weight\": [57.9, 72.5, 53.6, 83.1],  # (kg)\n",
    "        \"height\": [1.56, 1.77, 1.65, 1.75],  # (m)\n",
    "    }\n",
    ")\n",
    "\n",
    "print(df)"
   ]
  },
  {
   "cell_type": "code",
   "execution_count": 4,
   "id": "533e4ae0-3fbe-410b-a0fd-f264de316fc6",
   "metadata": {},
   "outputs": [
    {
     "name": "stdout",
     "output_type": "stream",
     "text": [
      "shape: (5,)\n",
      "Series: 'ints' [i64]\n",
      "[\n",
      "\t1\n",
      "\t2\n",
      "\t3\n",
      "\t4\n",
      "\t5\n",
      "]\n"
     ]
    }
   ],
   "source": [
    "s = pl.Series(\"ints\", [1, 2, 3, 4, 5])\n",
    "print(s)"
   ]
  },
  {
   "cell_type": "code",
   "execution_count": 6,
   "id": "dddbeb94-7e2b-4f8d-b2a8-ed0a6156576b",
   "metadata": {},
   "outputs": [
    {
     "name": "stdout",
     "output_type": "stream",
     "text": [
      "Int64 UInt64\n"
     ]
    }
   ],
   "source": [
    "s1 = pl.Series(\"ints\", [1, 2, 3, 4, 5])\n",
    "s2 = pl.Series(\"uints\", [1, 2, 3, 4, 5], dtype=pl.UInt64)\n",
    "print(s1.dtype, s2.dtype)"
   ]
  },
  {
   "cell_type": "code",
   "execution_count": 7,
   "id": "0b6c9e60-0d72-4226-8780-2bacbce08db0",
   "metadata": {},
   "outputs": [
    {
     "name": "stdout",
     "output_type": "stream",
     "text": [
      "shape: (4, 4)\n",
      "┌────────────────┬────────────┬────────┬────────┐\n",
      "│ name           ┆ birthdate  ┆ weight ┆ height │\n",
      "│ ---            ┆ ---        ┆ ---    ┆ ---    │\n",
      "│ str            ┆ date       ┆ f64    ┆ f64    │\n",
      "╞════════════════╪════════════╪════════╪════════╡\n",
      "│ Alice Archer   ┆ 1997-01-10 ┆ 57.9   ┆ 1.56   │\n",
      "│ Ben Brown      ┆ 1985-02-15 ┆ 72.5   ┆ 1.77   │\n",
      "│ Chloe Cooper   ┆ 1983-03-22 ┆ 53.6   ┆ 1.65   │\n",
      "│ Daniel Donovan ┆ 1981-04-30 ┆ 83.1   ┆ 1.75   │\n",
      "└────────────────┴────────────┴────────┴────────┘\n"
     ]
    }
   ],
   "source": [
    "from datetime import date\n",
    "\n",
    "df = pl.DataFrame(\n",
    "    {\n",
    "        \"name\": [\"Alice Archer\", \"Ben Brown\", \"Chloe Cooper\", \"Daniel Donovan\"],\n",
    "        \"birthdate\": [\n",
    "            date(1997, 1, 10),\n",
    "            date(1985, 2, 15),\n",
    "            date(1983, 3, 22),\n",
    "            date(1981, 4, 30),\n",
    "        ],\n",
    "        \"weight\": [57.9, 72.5, 53.6, 83.1],  # (kg)\n",
    "        \"height\": [1.56, 1.77, 1.65, 1.75],  # (m)\n",
    "    }\n",
    ")\n",
    "\n",
    "print(df)"
   ]
  },
  {
   "cell_type": "code",
   "execution_count": 8,
   "id": "e0735fef-1464-4ef2-a742-9ac8fb1037ed",
   "metadata": {},
   "outputs": [
    {
     "name": "stdout",
     "output_type": "stream",
     "text": [
      "Rows: 4\n",
      "Columns: 4\n",
      "$ name       <str> 'Alice Archer', 'Ben Brown', 'Chloe Cooper', 'Daniel Donovan'\n",
      "$ birthdate <date> 1997-01-10, 1985-02-15, 1983-03-22, 1981-04-30\n",
      "$ weight     <f64> 57.9, 72.5, 53.6, 83.1\n",
      "$ height     <f64> 1.56, 1.77, 1.65, 1.75\n",
      "\n"
     ]
    }
   ],
   "source": [
    "print(df.glimpse(return_as_string=True))"
   ]
  },
  {
   "cell_type": "code",
   "execution_count": 9,
   "id": "8c955e6a-7f91-412d-8ced-59444f15693c",
   "metadata": {},
   "outputs": [
    {
     "name": "stdout",
     "output_type": "stream",
     "text": [
      "shape: (9, 5)\n",
      "┌────────────┬────────────────┬─────────────────────┬───────────┬──────────┐\n",
      "│ statistic  ┆ name           ┆ birthdate           ┆ weight    ┆ height   │\n",
      "│ ---        ┆ ---            ┆ ---                 ┆ ---       ┆ ---      │\n",
      "│ str        ┆ str            ┆ str                 ┆ f64       ┆ f64      │\n",
      "╞════════════╪════════════════╪═════════════════════╪═══════════╪══════════╡\n",
      "│ count      ┆ 4              ┆ 4                   ┆ 4.0       ┆ 4.0      │\n",
      "│ null_count ┆ 0              ┆ 0                   ┆ 0.0       ┆ 0.0      │\n",
      "│ mean       ┆ null           ┆ 1986-09-04 00:00:00 ┆ 66.775    ┆ 1.6825   │\n",
      "│ std        ┆ null           ┆ null                ┆ 13.560082 ┆ 0.097082 │\n",
      "│ min        ┆ Alice Archer   ┆ 1981-04-30          ┆ 53.6      ┆ 1.56     │\n",
      "│ 25%        ┆ null           ┆ 1983-03-22          ┆ 57.9      ┆ 1.65     │\n",
      "│ 50%        ┆ null           ┆ 1985-02-15          ┆ 72.5      ┆ 1.75     │\n",
      "│ 75%        ┆ null           ┆ 1985-02-15          ┆ 72.5      ┆ 1.75     │\n",
      "│ max        ┆ Daniel Donovan ┆ 1997-01-10          ┆ 83.1      ┆ 1.77     │\n",
      "└────────────┴────────────────┴─────────────────────┴───────────┴──────────┘\n"
     ]
    }
   ],
   "source": [
    "print(df.describe())"
   ]
  },
  {
   "cell_type": "code",
   "execution_count": 10,
   "id": "c5ea4112-41a0-4c30-a5fe-1d7576738141",
   "metadata": {},
   "outputs": [
    {
     "name": "stdout",
     "output_type": "stream",
     "text": [
      "Schema([('name', String), ('birthdate', Date), ('weight', Float64), ('height', Float64)])\n"
     ]
    }
   ],
   "source": [
    "print(df.schema)"
   ]
  },
  {
   "cell_type": "code",
   "execution_count": 14,
   "id": "14c771ff-594d-4096-87e9-882a0bce584e",
   "metadata": {},
   "outputs": [
    {
     "name": "stdout",
     "output_type": "stream",
     "text": [
      "shape: (2, 2)\n",
      "┌────────┬─────────────────────────────────┐\n",
      "│ decade ┆ name                            │\n",
      "│ ---    ┆ ---                             │\n",
      "│ i32    ┆ list[str]                       │\n",
      "╞════════╪═════════════════════════════════╡\n",
      "│ 1980   ┆ [\"Ben Brown\", \"Chloe Cooper\", … │\n",
      "│ 1990   ┆ [\"Alice Archer\"]                │\n",
      "└────────┴─────────────────────────────────┘\n"
     ]
    }
   ],
   "source": [
    "result = df.group_by(\n",
    "    (pl.col(\"birthdate\").dt.year() // 10 * 10).alias(\"decade\"),\n",
    ").agg(pl.col(\"name\"))\n",
    "print(result)"
   ]
  },
  {
   "cell_type": "code",
   "execution_count": null,
   "id": "3a818057-711c-404f-8732-cc0bc6d18849",
   "metadata": {},
   "outputs": [],
   "source": [
    "df = pl.read_csv(\"iris.csv\")\n",
    "df_small = df.filter(pl.col(\"sepal_length\") > 5)\n",
    "df_agg = df_small.group_by(\"species\").agg(pl.col(\"sepal_width\").mean())\n",
    "print(df_agg)"
   ]
  },
  {
   "cell_type": "code",
   "execution_count": 15,
   "id": "8b4770bd-c5c1-4417-9a46-af1488a92896",
   "metadata": {},
   "outputs": [
    {
     "name": "stdout",
     "output_type": "stream",
     "text": [
      "shape: (5, 4)\n",
      "┌──────┬───────┬──────────┬────────┐\n",
      "│ nrs  ┆ names ┆ random   ┆ groups │\n",
      "│ ---  ┆ ---   ┆ ---      ┆ ---    │\n",
      "│ i64  ┆ str   ┆ f64      ┆ str    │\n",
      "╞══════╪═══════╪══════════╪════════╡\n",
      "│ 1    ┆ foo   ┆ 0.37454  ┆ A      │\n",
      "│ 2    ┆ ham   ┆ 0.950714 ┆ A      │\n",
      "│ 3    ┆ spam  ┆ 0.731994 ┆ B      │\n",
      "│ null ┆ egg   ┆ 0.598658 ┆ A      │\n",
      "│ 5    ┆ spam  ┆ 0.156019 ┆ B      │\n",
      "└──────┴───────┴──────────┴────────┘\n"
     ]
    }
   ],
   "source": [
    "import polars as pl\n",
    "import numpy as np\n",
    "\n",
    "np.random.seed(42)  # For reproducibility.\n",
    "\n",
    "df = pl.DataFrame(\n",
    "    {\n",
    "        \"nrs\": [1, 2, 3, None, 5],\n",
    "        \"names\": [\"foo\", \"ham\", \"spam\", \"egg\", \"spam\"],\n",
    "        \"random\": np.random.rand(5),\n",
    "        \"groups\": [\"A\", \"A\", \"B\", \"A\", \"B\"],\n",
    "    }\n",
    ")\n",
    "print(df)"
   ]
  },
  {
   "cell_type": "code",
   "execution_count": 16,
   "id": "bf091c95-cf15-4978-81c7-63ceabceaf45",
   "metadata": {},
   "outputs": [
    {
     "name": "stdout",
     "output_type": "stream",
     "text": [
      "shape: (5, 6)\n",
      "┌─────────┬─────────┬──────────────┬──────────────┬──────────┬─────────┐\n",
      "│ nrs + 5 ┆ nrs - 5 ┆ nrs * random ┆ nrs / random ┆ nrs ** 2 ┆ nrs % 3 │\n",
      "│ ---     ┆ ---     ┆ ---          ┆ ---          ┆ ---      ┆ ---     │\n",
      "│ i64     ┆ i64     ┆ f64          ┆ f64          ┆ i64      ┆ i64     │\n",
      "╞═════════╪═════════╪══════════════╪══════════════╪══════════╪═════════╡\n",
      "│ 6       ┆ -4      ┆ 0.37454      ┆ 2.669941     ┆ 1        ┆ 1       │\n",
      "│ 7       ┆ -3      ┆ 1.901429     ┆ 2.103681     ┆ 4        ┆ 2       │\n",
      "│ 8       ┆ -2      ┆ 2.195982     ┆ 4.098395     ┆ 9        ┆ 0       │\n",
      "│ null    ┆ null    ┆ null         ┆ null         ┆ null     ┆ null    │\n",
      "│ 10      ┆ 0       ┆ 0.780093     ┆ 32.047453    ┆ 25       ┆ 2       │\n",
      "└─────────┴─────────┴──────────────┴──────────────┴──────────┴─────────┘\n"
     ]
    }
   ],
   "source": [
    "result = df.select(\n",
    "    (pl.col(\"nrs\") + 5).alias(\"nrs + 5\"),\n",
    "    (pl.col(\"nrs\") - 5).alias(\"nrs - 5\"),\n",
    "    (pl.col(\"nrs\") * pl.col(\"random\")).alias(\"nrs * random\"),\n",
    "    (pl.col(\"nrs\") / pl.col(\"random\")).alias(\"nrs / random\"),\n",
    "    (pl.col(\"nrs\") ** 2).alias(\"nrs ** 2\"),\n",
    "    (pl.col(\"nrs\") % 3).alias(\"nrs % 3\"),\n",
    ")\n",
    "\n",
    "print(result)"
   ]
  },
  {
   "cell_type": "code",
   "execution_count": 17,
   "id": "f9d089e7-4147-44a4-8041-3d5ab511a3ff",
   "metadata": {},
   "outputs": [
    {
     "name": "stdout",
     "output_type": "stream",
     "text": [
      "shape: (5, 6)\n",
      "┌─────────┬──────────┬─────────────┬──────────────┬──────────┬──────────┐\n",
      "│ nrs > 1 ┆ nrs >= 3 ┆ random < .2 ┆ random <= .5 ┆ nrs != 1 ┆ nrs == 1 │\n",
      "│ ---     ┆ ---      ┆ ---         ┆ ---          ┆ ---      ┆ ---      │\n",
      "│ bool    ┆ bool     ┆ bool        ┆ bool         ┆ bool     ┆ bool     │\n",
      "╞═════════╪══════════╪═════════════╪══════════════╪══════════╪══════════╡\n",
      "│ false   ┆ false    ┆ false       ┆ true         ┆ false    ┆ true     │\n",
      "│ true    ┆ false    ┆ false       ┆ false        ┆ true     ┆ false    │\n",
      "│ true    ┆ true     ┆ false       ┆ false        ┆ true     ┆ false    │\n",
      "│ null    ┆ null     ┆ false       ┆ false        ┆ null     ┆ null     │\n",
      "│ true    ┆ true     ┆ true        ┆ true         ┆ true     ┆ false    │\n",
      "└─────────┴──────────┴─────────────┴──────────────┴──────────┴──────────┘\n"
     ]
    }
   ],
   "source": [
    "result = df.select(\n",
    "    (pl.col(\"nrs\") > 1).alias(\"nrs > 1\"),  # .gt\n",
    "    (pl.col(\"nrs\") >= 3).alias(\"nrs >= 3\"),  # ge\n",
    "    (pl.col(\"random\") < 0.2).alias(\"random < .2\"),  # .lt\n",
    "    (pl.col(\"random\") <= 0.5).alias(\"random <= .5\"),  # .le\n",
    "    (pl.col(\"nrs\") != 1).alias(\"nrs != 1\"),  # .ne\n",
    "    (pl.col(\"nrs\") == 1).alias(\"nrs == 1\"),  # .eq\n",
    ")\n",
    "print(result)"
   ]
  },
  {
   "cell_type": "code",
   "execution_count": 18,
   "id": "e3926f6f-060c-4074-b61a-bc4f52443784",
   "metadata": {},
   "outputs": [
    {
     "name": "stdout",
     "output_type": "stream",
     "text": [
      "shape: (5, 2)\n",
      "┌─────────────────────────────┬─────────────────────────┐\n",
      "│ number not null and group A ┆ random < 0.5 or group B │\n",
      "│ ---                         ┆ ---                     │\n",
      "│ bool                        ┆ bool                    │\n",
      "╞═════════════════════════════╪═════════════════════════╡\n",
      "│ true                        ┆ true                    │\n",
      "│ true                        ┆ false                   │\n",
      "│ false                       ┆ true                    │\n",
      "│ false                       ┆ false                   │\n",
      "│ false                       ┆ true                    │\n",
      "└─────────────────────────────┴─────────────────────────┘\n",
      "True\n"
     ]
    }
   ],
   "source": [
    "# Boolean operators & | ~\n",
    "result = df.select(\n",
    "    ((~pl.col(\"nrs\").is_null()) & (pl.col(\"groups\") == \"A\")).alias(\n",
    "        \"number not null and group A\"\n",
    "    ),\n",
    "    ((pl.col(\"random\") < 0.5) | (pl.col(\"groups\") == \"B\")).alias(\n",
    "        \"random < 0.5 or group B\"\n",
    "    ),\n",
    ")\n",
    "\n",
    "print(result)\n",
    "\n",
    "# Corresponding named functions `and_`, `or_`, and `not_`.\n",
    "result2 = df.select(\n",
    "    (pl.col(\"nrs\").is_null().not_().and_(pl.col(\"groups\") == \"A\")).alias(\n",
    "        \"number not null and group A\"\n",
    "    ),\n",
    "    ((pl.col(\"random\") < 0.5).or_(pl.col(\"groups\") == \"B\")).alias(\n",
    "        \"random < 0.5 or group B\"\n",
    "    ),\n",
    ")\n",
    "print(result.equals(result2))"
   ]
  },
  {
   "cell_type": "code",
   "execution_count": 19,
   "id": "4f258174-1295-48ce-a2e1-f4e3d1452bd1",
   "metadata": {},
   "outputs": [
    {
     "name": "stdout",
     "output_type": "stream",
     "text": [
      "shape: (5, 2)\n",
      "┌─────────────────────────────┬─────────────────────────┐\n",
      "│ number not null and group A ┆ random < 0.5 or group B │\n",
      "│ ---                         ┆ ---                     │\n",
      "│ bool                        ┆ bool                    │\n",
      "╞═════════════════════════════╪═════════════════════════╡\n",
      "│ true                        ┆ true                    │\n",
      "│ true                        ┆ false                   │\n",
      "│ false                       ┆ true                    │\n",
      "│ false                       ┆ false                   │\n",
      "│ false                       ┆ true                    │\n",
      "└─────────────────────────────┴─────────────────────────┘\n"
     ]
    }
   ],
   "source": [
    "print(result)"
   ]
  },
  {
   "cell_type": "code",
   "execution_count": null,
   "id": "d846042d-0eea-4775-b3e7-ba86d3ec9464",
   "metadata": {},
   "outputs": [],
   "source": []
  },
  {
   "cell_type": "code",
   "execution_count": null,
   "id": "17bd9a36-cd29-4eea-8952-af57cf448d44",
   "metadata": {},
   "outputs": [],
   "source": []
  },
  {
   "cell_type": "code",
   "execution_count": null,
   "id": "2b429d3d-45c1-456c-9bbc-05522a6ec51c",
   "metadata": {},
   "outputs": [],
   "source": []
  },
  {
   "cell_type": "code",
   "execution_count": 4,
   "id": "217ae379-27b3-4346-a527-5e6dd4511c2a",
   "metadata": {},
   "outputs": [
    {
     "data": {
      "text/html": [
       "[(col(\"weight\")) / (col(\"height\").pow([dyn int: 2]))]"
      ],
      "text/plain": [
       "<Expr ['[(col(\"weight\")) / (col(\"heigh…'] at 0x7F89C81B0810>"
      ]
     },
     "execution_count": 4,
     "metadata": {},
     "output_type": "execute_result"
    }
   ],
   "source": [
    "pl.col(\"weight\") / (pl.col(\"height\") ** 2)"
   ]
  },
  {
   "cell_type": "code",
   "execution_count": 14,
   "id": "9b27b59a-6d88-4ffe-8734-44afd9a071d5",
   "metadata": {},
   "outputs": [],
   "source": [
    "result = df.select((pl.col(\"weight\") / (pl.col(\"height\") ** 2)).alias(\"bmi\"))"
   ]
  },
  {
   "cell_type": "code",
   "execution_count": 15,
   "id": "00508534-bc47-474f-8ae2-2006d6a9fead",
   "metadata": {},
   "outputs": [
    {
     "name": "stdout",
     "output_type": "stream",
     "text": [
      "shape: (4, 1)\n",
      "┌───────────┐\n",
      "│ bmi       │\n",
      "│ ---       │\n",
      "│ f64       │\n",
      "╞═══════════╡\n",
      "│ 23.791913 │\n",
      "│ 23.141498 │\n",
      "│ 19.687787 │\n",
      "│ 27.134694 │\n",
      "└───────────┘\n"
     ]
    }
   ],
   "source": [
    "print(result)"
   ]
  },
  {
   "cell_type": "code",
   "execution_count": 16,
   "id": "c6d9e2e4-44ac-42d3-a816-0f861f994709",
   "metadata": {},
   "outputs": [
    {
     "name": "stdout",
     "output_type": "stream",
     "text": [
      "shape: (4, 3)\n",
      "┌────────────────┬───────────┬───────────┐\n",
      "│ name           ┆ weight-5% ┆ height-5% │\n",
      "│ ---            ┆ ---       ┆ ---       │\n",
      "│ str            ┆ f64       ┆ f64       │\n",
      "╞════════════════╪═══════════╪═══════════╡\n",
      "│ Alice Archer   ┆ 55.01     ┆ 1.48      │\n",
      "│ Ben Brown      ┆ 68.88     ┆ 1.68      │\n",
      "│ Chloe Cooper   ┆ 50.92     ┆ 1.57      │\n",
      "│ Daniel Donovan ┆ 78.94     ┆ 1.66      │\n",
      "└────────────────┴───────────┴───────────┘\n"
     ]
    }
   ],
   "source": [
    "result = df.select(\n",
    "    pl.col(\"name\"),\n",
    "    (pl.col(\"weight\", \"height\") * 0.95).round(2).name.suffix(\"-5%\"),\n",
    ")\n",
    "print(result)"
   ]
  },
  {
   "cell_type": "code",
   "execution_count": 17,
   "id": "e70bcace-3f88-4457-8cbf-5880f35aca0f",
   "metadata": {},
   "outputs": [
    {
     "name": "stdout",
     "output_type": "stream",
     "text": [
      "shape: (4, 6)\n",
      "┌────────────────┬────────────┬────────┬────────┬────────────┬───────────┐\n",
      "│ name           ┆ birthdate  ┆ weight ┆ height ┆ birth_year ┆ bmi       │\n",
      "│ ---            ┆ ---        ┆ ---    ┆ ---    ┆ ---        ┆ ---       │\n",
      "│ str            ┆ date       ┆ f64    ┆ f64    ┆ i32        ┆ f64       │\n",
      "╞════════════════╪════════════╪════════╪════════╪════════════╪═══════════╡\n",
      "│ Alice Archer   ┆ 1997-01-10 ┆ 57.9   ┆ 1.56   ┆ 1997       ┆ 23.791913 │\n",
      "│ Ben Brown      ┆ 1985-02-15 ┆ 72.5   ┆ 1.77   ┆ 1985       ┆ 23.141498 │\n",
      "│ Chloe Cooper   ┆ 1983-03-22 ┆ 53.6   ┆ 1.65   ┆ 1983       ┆ 19.687787 │\n",
      "│ Daniel Donovan ┆ 1981-04-30 ┆ 83.1   ┆ 1.75   ┆ 1981       ┆ 27.134694 │\n",
      "└────────────────┴────────────┴────────┴────────┴────────────┴───────────┘\n"
     ]
    }
   ],
   "source": [
    "result = df.with_columns(\n",
    "    birth_year=pl.col(\"birthdate\").dt.year(),\n",
    "    bmi=pl.col(\"weight\") / (pl.col(\"height\") ** 2),\n",
    ")\n",
    "print(result)"
   ]
  },
  {
   "cell_type": "code",
   "execution_count": 18,
   "id": "848aff2b-918c-4890-a974-89fcb1759b31",
   "metadata": {},
   "outputs": [
    {
     "name": "stdout",
     "output_type": "stream",
     "text": [
      "shape: (3, 4)\n",
      "┌────────────────┬────────────┬────────┬────────┐\n",
      "│ name           ┆ birthdate  ┆ weight ┆ height │\n",
      "│ ---            ┆ ---        ┆ ---    ┆ ---    │\n",
      "│ str            ┆ date       ┆ f64    ┆ f64    │\n",
      "╞════════════════╪════════════╪════════╪════════╡\n",
      "│ Ben Brown      ┆ 1985-02-15 ┆ 72.5   ┆ 1.77   │\n",
      "│ Chloe Cooper   ┆ 1983-03-22 ┆ 53.6   ┆ 1.65   │\n",
      "│ Daniel Donovan ┆ 1981-04-30 ┆ 83.1   ┆ 1.75   │\n",
      "└────────────────┴────────────┴────────┴────────┘\n"
     ]
    }
   ],
   "source": [
    "result = df.filter(pl.col(\"birthdate\").dt.year() < 1990)\n",
    "print(result)"
   ]
  },
  {
   "cell_type": "code",
   "execution_count": 19,
   "id": "d3702325-d5f7-4fea-bf4f-f51b66c077a1",
   "metadata": {},
   "outputs": [
    {
     "name": "stdout",
     "output_type": "stream",
     "text": [
      "shape: (1, 4)\n",
      "┌───────────┬────────────┬────────┬────────┐\n",
      "│ name      ┆ birthdate  ┆ weight ┆ height │\n",
      "│ ---       ┆ ---        ┆ ---    ┆ ---    │\n",
      "│ str       ┆ date       ┆ f64    ┆ f64    │\n",
      "╞═══════════╪════════════╪════════╪════════╡\n",
      "│ Ben Brown ┆ 1985-02-15 ┆ 72.5   ┆ 1.77   │\n",
      "└───────────┴────────────┴────────┴────────┘\n"
     ]
    }
   ],
   "source": [
    "result = df.filter(\n",
    "    pl.col(\"birthdate\").is_between(dt.date(1982, 12, 31), dt.date(1996, 1, 1)),\n",
    "    pl.col(\"height\") > 1.7,\n",
    ")\n",
    "print(result)"
   ]
  },
  {
   "cell_type": "code",
   "execution_count": 20,
   "id": "9769ca6a-bf98-417f-b668-fd4034e22009",
   "metadata": {},
   "outputs": [
    {
     "name": "stdout",
     "output_type": "stream",
     "text": [
      "shape: (2, 2)\n",
      "┌────────┬─────┐\n",
      "│ decade ┆ len │\n",
      "│ ---    ┆ --- │\n",
      "│ i32    ┆ u32 │\n",
      "╞════════╪═════╡\n",
      "│ 1990   ┆ 1   │\n",
      "│ 1980   ┆ 3   │\n",
      "└────────┴─────┘\n"
     ]
    }
   ],
   "source": [
    "result = df.group_by(\n",
    "    (pl.col(\"birthdate\").dt.year() // 10 * 10).alias(\"decade\"),\n",
    "    maintain_order=True,\n",
    ").len()\n",
    "print(result)"
   ]
  },
  {
   "cell_type": "code",
   "execution_count": 21,
   "id": "04c3bbd9-2e0b-43a2-bb7a-5d6631038f66",
   "metadata": {},
   "outputs": [
    {
     "name": "stdout",
     "output_type": "stream",
     "text": [
      "shape: (2, 4)\n",
      "┌────────┬─────────────┬────────────┬─────────┐\n",
      "│ decade ┆ sample_size ┆ avg_weight ┆ tallest │\n",
      "│ ---    ┆ ---         ┆ ---        ┆ ---     │\n",
      "│ i32    ┆ u32         ┆ f64        ┆ f64     │\n",
      "╞════════╪═════════════╪════════════╪═════════╡\n",
      "│ 1990   ┆ 1           ┆ 57.9       ┆ 1.56    │\n",
      "│ 1980   ┆ 3           ┆ 69.73      ┆ 1.77    │\n",
      "└────────┴─────────────┴────────────┴─────────┘\n"
     ]
    }
   ],
   "source": [
    "result = df.group_by(\n",
    "    (pl.col(\"birthdate\").dt.year() // 10 * 10).alias(\"decade\"),\n",
    "    maintain_order=True,\n",
    ").agg(\n",
    "    pl.len().alias(\"sample_size\"),\n",
    "    pl.col(\"weight\").mean().round(2).alias(\"avg_weight\"),\n",
    "    pl.col(\"height\").max().alias(\"tallest\"),\n",
    ")\n",
    "print(result)"
   ]
  },
  {
   "cell_type": "code",
   "execution_count": 22,
   "id": "6d6b4f80-2f8b-46af-9f43-a903cf2c747a",
   "metadata": {},
   "outputs": [
    {
     "name": "stdout",
     "output_type": "stream",
     "text": [
      "shape: (4, 6)\n",
      "┌────────────────┬────────────┬────────┬────────┬────────┬──────────┐\n",
      "│ name           ┆ birthdate  ┆ weight ┆ height ┆ parent ┆ siblings │\n",
      "│ ---            ┆ ---        ┆ ---    ┆ ---    ┆ ---    ┆ ---      │\n",
      "│ str            ┆ date       ┆ f64    ┆ f64    ┆ bool   ┆ i64      │\n",
      "╞════════════════╪════════════╪════════╪════════╪════════╪══════════╡\n",
      "│ Alice Archer   ┆ 1997-01-10 ┆ 57.9   ┆ 1.56   ┆ false  ┆ 3        │\n",
      "│ Ben Brown      ┆ 1985-02-15 ┆ 72.5   ┆ 1.77   ┆ true   ┆ 1        │\n",
      "│ Chloe Cooper   ┆ 1983-03-22 ┆ 53.6   ┆ 1.65   ┆ false  ┆ 4        │\n",
      "│ Daniel Donovan ┆ 1981-04-30 ┆ 83.1   ┆ 1.75   ┆ false  ┆ 2        │\n",
      "└────────────────┴────────────┴────────┴────────┴────────┴──────────┘\n"
     ]
    }
   ],
   "source": [
    "df2 = pl.DataFrame(\n",
    "    {\n",
    "        \"name\": [\"Ben Brown\", \"Daniel Donovan\", \"Alice Archer\", \"Chloe Cooper\"],\n",
    "        \"parent\": [True, False, False, False],\n",
    "        \"siblings\": [1, 2, 3, 4],\n",
    "    }\n",
    ")\n",
    "\n",
    "print(df.join(df2, on=\"name\", how=\"left\"))"
   ]
  },
  {
   "cell_type": "code",
   "execution_count": 23,
   "id": "c68a88cb-0c1e-41cd-a209-232a44d5fa91",
   "metadata": {},
   "outputs": [
    {
     "name": "stdout",
     "output_type": "stream",
     "text": [
      "shape: (8, 4)\n",
      "┌────────────────┬────────────┬────────┬────────┐\n",
      "│ name           ┆ birthdate  ┆ weight ┆ height │\n",
      "│ ---            ┆ ---        ┆ ---    ┆ ---    │\n",
      "│ str            ┆ date       ┆ f64    ┆ f64    │\n",
      "╞════════════════╪════════════╪════════╪════════╡\n",
      "│ Alice Archer   ┆ 1997-01-10 ┆ 57.9   ┆ 1.56   │\n",
      "│ Ben Brown      ┆ 1985-02-15 ┆ 72.5   ┆ 1.77   │\n",
      "│ Chloe Cooper   ┆ 1983-03-22 ┆ 53.6   ┆ 1.65   │\n",
      "│ Daniel Donovan ┆ 1981-04-30 ┆ 83.1   ┆ 1.75   │\n",
      "│ Ethan Edwards  ┆ 1977-05-10 ┆ 67.9   ┆ 1.76   │\n",
      "│ Fiona Foster   ┆ 1975-06-23 ┆ 72.5   ┆ 1.6    │\n",
      "│ Grace Gibson   ┆ 1973-07-22 ┆ 57.6   ┆ 1.66   │\n",
      "│ Henry Harris   ┆ 1971-08-03 ┆ 93.1   ┆ 1.8    │\n",
      "└────────────────┴────────────┴────────┴────────┘\n"
     ]
    }
   ],
   "source": [
    "df3 = pl.DataFrame(\n",
    "    {\n",
    "        \"name\": [\"Ethan Edwards\", \"Fiona Foster\", \"Grace Gibson\", \"Henry Harris\"],\n",
    "        \"birthdate\": [\n",
    "            dt.date(1977, 5, 10),\n",
    "            dt.date(1975, 6, 23),\n",
    "            dt.date(1973, 7, 22),\n",
    "            dt.date(1971, 8, 3),\n",
    "        ],\n",
    "        \"weight\": [67.9, 72.5, 57.6, 93.1],  # (kg)\n",
    "        \"height\": [1.76, 1.6, 1.66, 1.8],  # (m)\n",
    "    }\n",
    ")\n",
    "\n",
    "print(pl.concat([df, df3], how=\"vertical\"))"
   ]
  },
  {
   "cell_type": "code",
   "execution_count": null,
   "id": "89e212df-ef3a-48ac-a5bd-69ac8a919285",
   "metadata": {},
   "outputs": [],
   "source": []
  },
  {
   "cell_type": "code",
   "execution_count": null,
   "id": "a10657d1-12bd-40e2-8928-8969f6393482",
   "metadata": {},
   "outputs": [],
   "source": []
  },
  {
   "cell_type": "code",
   "execution_count": null,
   "id": "6aa35df4-8695-43d3-9b54-468483124854",
   "metadata": {},
   "outputs": [],
   "source": []
  },
  {
   "cell_type": "code",
   "execution_count": null,
   "id": "39656fa2-85f0-494c-82b4-19b99b4dac64",
   "metadata": {},
   "outputs": [],
   "source": []
  },
  {
   "cell_type": "code",
   "execution_count": 11,
   "id": "f9d1cbdf-9836-4982-8bae-3943acf6c21e",
   "metadata": {},
   "outputs": [
    {
     "name": "stdout",
     "output_type": "stream",
     "text": [
      "shape: (4, 3)\n",
      "┌────────────────┬────────────┬───────────┐\n",
      "│ name           ┆ birth_year ┆ bmi       │\n",
      "│ ---            ┆ ---        ┆ ---       │\n",
      "│ str            ┆ i32        ┆ f64       │\n",
      "╞════════════════╪════════════╪═══════════╡\n",
      "│ Alice Archer   ┆ 1997       ┆ 23.791913 │\n",
      "│ Ben Brown      ┆ 1985       ┆ 23.141498 │\n",
      "│ Chloe Cooper   ┆ 1983       ┆ 19.687787 │\n",
      "│ Daniel Donovan ┆ 1981       ┆ 27.134694 │\n",
      "└────────────────┴────────────┴───────────┘\n"
     ]
    }
   ],
   "source": [
    "result = df.select(\n",
    "    pl.col(\"name\"),\n",
    "    pl.col(\"birthdate\").dt.year().alias(\"birth_year\"),\n",
    "    (pl.col(\"weight\") / (pl.col(\"height\") ** 2)).alias(\"bmi\"),\n",
    ")\n",
    "print(result)"
   ]
  },
  {
   "cell_type": "code",
   "execution_count": null,
   "id": "a63142b3-4a94-48c9-984a-4db1e060c0a3",
   "metadata": {},
   "outputs": [],
   "source": []
  },
  {
   "cell_type": "code",
   "execution_count": null,
   "id": "2c6e8dad-72de-4ee8-9491-c180374ae435",
   "metadata": {},
   "outputs": [],
   "source": []
  },
  {
   "cell_type": "code",
   "execution_count": null,
   "id": "9bdff5e2-24e6-4eed-b8f7-f8ddac994f48",
   "metadata": {},
   "outputs": [],
   "source": []
  },
  {
   "cell_type": "code",
   "execution_count": null,
   "id": "84474af1-11b6-4524-8c9b-7a389b11bebf",
   "metadata": {},
   "outputs": [],
   "source": []
  },
  {
   "cell_type": "code",
   "execution_count": null,
   "id": "f1be8333-d2c8-464c-a9e7-2915ca2a1291",
   "metadata": {},
   "outputs": [],
   "source": []
  },
  {
   "cell_type": "code",
   "execution_count": null,
   "id": "daedc653-a9c9-4593-8455-6548feebb34e",
   "metadata": {},
   "outputs": [],
   "source": []
  },
  {
   "cell_type": "code",
   "execution_count": null,
   "id": "752ec156-cf6b-4b76-a7e0-5bcf68a63042",
   "metadata": {},
   "outputs": [],
   "source": []
  },
  {
   "cell_type": "code",
   "execution_count": 7,
   "id": "9531f5b7-0fd7-48e3-b764-696abc3ba31b",
   "metadata": {},
   "outputs": [
    {
     "name": "stdout",
     "output_type": "stream",
     "text": [
      "shape: (4, 4)\n",
      "┌────────────────┬────────────┬────────┬────────┐\n",
      "│ name           ┆ birthdate  ┆ weight ┆ height │\n",
      "│ ---            ┆ ---        ┆ ---    ┆ ---    │\n",
      "│ str            ┆ date       ┆ f64    ┆ f64    │\n",
      "╞════════════════╪════════════╪════════╪════════╡\n",
      "│ Alice Archer   ┆ 1997-01-10 ┆ 57.9   ┆ 1.56   │\n",
      "│ Ben Brown      ┆ 1985-02-15 ┆ 72.5   ┆ 1.77   │\n",
      "│ Chloe Cooper   ┆ 1983-03-22 ┆ 53.6   ┆ 1.65   │\n",
      "│ Daniel Donovan ┆ 1981-04-30 ┆ 83.1   ┆ 1.75   │\n",
      "└────────────────┴────────────┴────────┴────────┘\n"
     ]
    }
   ],
   "source": [
    "df.write_csv(\"test.csv\")\n",
    "df_csv = pl.read_csv(\"test.csv\", try_parse_dates=True)\n",
    "print(df_csv)"
   ]
  },
  {
   "cell_type": "code",
   "execution_count": 3,
   "id": "6bc4adff-6e61-484f-b6e1-707de26331d8",
   "metadata": {},
   "outputs": [],
   "source": [
    "import polars as pl"
   ]
  },
  {
   "cell_type": "code",
   "execution_count": 4,
   "id": "b8876e72-b3eb-4c15-98e1-5fa17553f575",
   "metadata": {},
   "outputs": [],
   "source": [
    "path = '/mnt/sda1/REALTIME/analysis/EXP-25-CD0116/forks.csv'"
   ]
  },
  {
   "cell_type": "code",
   "execution_count": 7,
   "id": "72399c48-fcaf-40d5-8031-30bf014154ce",
   "metadata": {},
   "outputs": [],
   "source": [
    "df_csv = pl.read_csv(path, ignore_errors=True)"
   ]
  },
  {
   "cell_type": "code",
   "execution_count": 8,
   "id": "cae5365f-7125-497e-bba2-59aa3bbb21c0",
   "metadata": {},
   "outputs": [
    {
     "data": {
      "text/html": [
       "<div><style>\n",
       ".dataframe > thead > tr,\n",
       ".dataframe > tbody > tr {\n",
       "  text-align: right;\n",
       "  white-space: pre-wrap;\n",
       "}\n",
       "</style>\n",
       "<small>shape: (175_140, 12)</small><table border=\"1\" class=\"dataframe\"><thead><tr><th>position</th><th>timepoint</th><th>trap</th><th>cell_label</th><th>area</th><th>length</th><th>normalization_counts</th><th>internal_coord</th><th>normalized_internal_x</th><th>bbox</th><th>global_coords</th><th>local_coords</th></tr><tr><td>i64</td><td>i64</td><td>i64</td><td>i64</td><td>f64</td><td>f64</td><td>i64</td><td>str</td><td>f64</td><td>str</td><td>str</td><td>str</td></tr></thead><tbody><tr><td>24</td><td>0</td><td>20</td><td>8</td><td>547.0</td><td>63.537695</td><td>2</td><td>&quot;(47.63653548727191, -1.2330743…</td><td>0.749737</td><td>&quot;(825, 119, 846, 181)&quot;</td><td>&quot;(831.4609608821213, 164.854029…</td><td>&quot;(6.460960882121299, 45.8540299…</td></tr><tr><td>24</td><td>0</td><td>20</td><td>8</td><td>547.0</td><td>63.537695</td><td>2</td><td>&quot;(20.52619150219716, -1.7899437…</td><td>0.323055</td><td>&quot;(825, 119, 846, 181)&quot;</td><td>&quot;(838.4831130690161, 138.995961…</td><td>&quot;(13.483113069016099, 19.995961…</td></tr><tr><td>24</td><td>0</td><td>14</td><td>10</td><td>411.0</td><td>46.603127</td><td>1</td><td>&quot;(13.249325357811966, -0.108905…</td><td>0.284301</td><td>&quot;(1438, 124, 1454, 171)&quot;</td><td>&quot;(1446.7210479964774, 136.64718…</td><td>&quot;(8.72104799647741, 12.64718185…</td></tr><tr><td>24</td><td>0</td><td>19</td><td>11</td><td>319.0</td><td>28.905198</td><td>1</td><td>&quot;(9.57624072514195, 0.335101230…</td><td>0.331298</td><td>&quot;(924, 124, 942, 154)&quot;</td><td>&quot;(931.5871146518878, 135.009612…</td><td>&quot;(7.5871146518877595, 11.009612…</td></tr><tr><td>24</td><td>0</td><td>7</td><td>13</td><td>996.0</td><td>151.068909</td><td>2</td><td>&quot;(11.910232710005548, 3.1008081…</td><td>0.07884</td><td>&quot;(2189, 132, 2201, 284)&quot;</td><td>&quot;(2190.217202913248, 144.534986…</td><td>&quot;(1.217202913248002, 12.5349866…</td></tr><tr><td>&hellip;</td><td>&hellip;</td><td>&hellip;</td><td>&hellip;</td><td>&hellip;</td><td>&hellip;</td><td>&hellip;</td><td>&hellip;</td><td>&hellip;</td><td>&hellip;</td><td>&hellip;</td><td>&hellip;</td></tr><tr><td>24</td><td>380</td><td>19</td><td>389</td><td>399.0</td><td>44.171262</td><td>1</td><td>&quot;(28.462698527998384, 0.9365748…</td><td>0.644371</td><td>&quot;(928, 1046, 944, 1089)&quot;</td><td>&quot;(936.6763017630176, 1073.15590…</td><td>&quot;(8.676301763017591, 27.1559040…</td></tr><tr><td>24</td><td>380</td><td>8</td><td>390</td><td>275.0</td><td>28.114061</td><td>1</td><td>&quot;(14.202194459056413, 1.6869094…</td><td>0.505163</td><td>&quot;(2088, 1052, 2106, 1080)&quot;</td><td>&quot;(2094.2719482003426, 1065.7541…</td><td>&quot;(6.271948200342649, 13.7541420…</td></tr><tr><td>24</td><td>380</td><td>14</td><td>393</td><td>207.0</td><td>24.504645</td><td>1</td><td>&quot;(10.77531719422217, 2.02105692…</td><td>0.439725</td><td>&quot;(1444, 1053, 1455, 1085)&quot;</td><td>&quot;(1446.8145514223195, 1065.1181…</td><td>&quot;(2.8145514223194823, 12.118161…</td></tr><tr><td>24</td><td>380</td><td>23</td><td>394</td><td>285.0</td><td>30.184645</td><td>2</td><td>&quot;(5.059226814866653, -0.4832180…</td><td>0.167609</td><td>&quot;(520, 1061, 536, 1093)&quot;</td><td>&quot;(525.0471882206848, 1066.31381…</td><td>&quot;(5.047188220684802, 5.31381940…</td></tr><tr><td>24</td><td>380</td><td>23</td><td>394</td><td>285.0</td><td>30.184645</td><td>2</td><td>&quot;(18.96591771117087, 1.05950334…</td><td>0.62833</td><td>&quot;(520, 1061, 536, 1093)&quot;</td><td>&quot;(527.2324687800192, 1080.14817…</td><td>&quot;(7.23246878001919, 19.14817483…</td></tr></tbody></table></div>"
      ],
      "text/plain": [
       "shape: (175_140, 12)\n",
       "┌──────────┬───────────┬──────┬────────────┬───┬────────────┬────────────┬────────────┬────────────┐\n",
       "│ position ┆ timepoint ┆ trap ┆ cell_label ┆ … ┆ normalized ┆ bbox       ┆ global_coo ┆ local_coor │\n",
       "│ ---      ┆ ---       ┆ ---  ┆ ---        ┆   ┆ _internal_ ┆ ---        ┆ rds        ┆ ds         │\n",
       "│ i64      ┆ i64       ┆ i64  ┆ i64        ┆   ┆ x          ┆ str        ┆ ---        ┆ ---        │\n",
       "│          ┆           ┆      ┆            ┆   ┆ ---        ┆            ┆ str        ┆ str        │\n",
       "│          ┆           ┆      ┆            ┆   ┆ f64        ┆            ┆            ┆            │\n",
       "╞══════════╪═══════════╪══════╪════════════╪═══╪════════════╪════════════╪════════════╪════════════╡\n",
       "│ 24       ┆ 0         ┆ 20   ┆ 8          ┆ … ┆ 0.749737   ┆ (825, 119, ┆ (831.46096 ┆ (6.4609608 │\n",
       "│          ┆           ┆      ┆            ┆   ┆            ┆ 846, 181)  ┆ 08821213,  ┆ 82121299,  │\n",
       "│          ┆           ┆      ┆            ┆   ┆            ┆            ┆ 164.854029 ┆ 45.8540299 │\n",
       "│          ┆           ┆      ┆            ┆   ┆            ┆            ┆ …          ┆ …          │\n",
       "│ 24       ┆ 0         ┆ 20   ┆ 8          ┆ … ┆ 0.323055   ┆ (825, 119, ┆ (838.48311 ┆ (13.483113 │\n",
       "│          ┆           ┆      ┆            ┆   ┆            ┆ 846, 181)  ┆ 30690161,  ┆ 069016099, │\n",
       "│          ┆           ┆      ┆            ┆   ┆            ┆            ┆ 138.995961 ┆ 19.995961… │\n",
       "│          ┆           ┆      ┆            ┆   ┆            ┆            ┆ …          ┆            │\n",
       "│ 24       ┆ 0         ┆ 14   ┆ 10         ┆ … ┆ 0.284301   ┆ (1438,     ┆ (1446.7210 ┆ (8.7210479 │\n",
       "│          ┆           ┆      ┆            ┆   ┆            ┆ 124, 1454, ┆ 479964774, ┆ 9647741,   │\n",
       "│          ┆           ┆      ┆            ┆   ┆            ┆ 171)       ┆ 136.64718… ┆ 12.6471818 │\n",
       "│          ┆           ┆      ┆            ┆   ┆            ┆            ┆            ┆ 5…         │\n",
       "│ 24       ┆ 0         ┆ 19   ┆ 11         ┆ … ┆ 0.331298   ┆ (924, 124, ┆ (931.58711 ┆ (7.5871146 │\n",
       "│          ┆           ┆      ┆            ┆   ┆            ┆ 942, 154)  ┆ 46518878,  ┆ 518877595, │\n",
       "│          ┆           ┆      ┆            ┆   ┆            ┆            ┆ 135.009612 ┆ 11.009612… │\n",
       "│          ┆           ┆      ┆            ┆   ┆            ┆            ┆ …          ┆            │\n",
       "│ 24       ┆ 0         ┆ 7    ┆ 13         ┆ … ┆ 0.07884    ┆ (2189,     ┆ (2190.2172 ┆ (1.2172029 │\n",
       "│          ┆           ┆      ┆            ┆   ┆            ┆ 132, 2201, ┆ 02913248,  ┆ 13248002,  │\n",
       "│          ┆           ┆      ┆            ┆   ┆            ┆ 284)       ┆ 144.534986 ┆ 12.5349866 │\n",
       "│          ┆           ┆      ┆            ┆   ┆            ┆            ┆ …          ┆ …          │\n",
       "│ …        ┆ …         ┆ …    ┆ …          ┆ … ┆ …          ┆ …          ┆ …          ┆ …          │\n",
       "│ 24       ┆ 380       ┆ 19   ┆ 389        ┆ … ┆ 0.644371   ┆ (928,      ┆ (936.67630 ┆ (8.6763017 │\n",
       "│          ┆           ┆      ┆            ┆   ┆            ┆ 1046, 944, ┆ 17630176,  ┆ 63017591,  │\n",
       "│          ┆           ┆      ┆            ┆   ┆            ┆ 1089)      ┆ 1073.15590 ┆ 27.1559040 │\n",
       "│          ┆           ┆      ┆            ┆   ┆            ┆            ┆ …          ┆ …          │\n",
       "│ 24       ┆ 380       ┆ 8    ┆ 390        ┆ … ┆ 0.505163   ┆ (2088,     ┆ (2094.2719 ┆ (6.2719482 │\n",
       "│          ┆           ┆      ┆            ┆   ┆            ┆ 1052,      ┆ 482003426, ┆ 00342649,  │\n",
       "│          ┆           ┆      ┆            ┆   ┆            ┆ 2106,      ┆ 1065.7541… ┆ 13.7541420 │\n",
       "│          ┆           ┆      ┆            ┆   ┆            ┆ 1080)      ┆            ┆ …          │\n",
       "│ 24       ┆ 380       ┆ 14   ┆ 393        ┆ … ┆ 0.439725   ┆ (1444,     ┆ (1446.8145 ┆ (2.8145514 │\n",
       "│          ┆           ┆      ┆            ┆   ┆            ┆ 1053,      ┆ 514223195, ┆ 223194823, │\n",
       "│          ┆           ┆      ┆            ┆   ┆            ┆ 1455,      ┆ 1065.1181… ┆ 12.118161… │\n",
       "│          ┆           ┆      ┆            ┆   ┆            ┆ 1085)      ┆            ┆            │\n",
       "│ 24       ┆ 380       ┆ 23   ┆ 394        ┆ … ┆ 0.167609   ┆ (520,      ┆ (525.04718 ┆ (5.0471882 │\n",
       "│          ┆           ┆      ┆            ┆   ┆            ┆ 1061, 536, ┆ 82206848,  ┆ 20684802,  │\n",
       "│          ┆           ┆      ┆            ┆   ┆            ┆ 1093)      ┆ 1066.31381 ┆ 5.31381940 │\n",
       "│          ┆           ┆      ┆            ┆   ┆            ┆            ┆ …          ┆ …          │\n",
       "│ 24       ┆ 380       ┆ 23   ┆ 394        ┆ … ┆ 0.62833    ┆ (520,      ┆ (527.23246 ┆ (7.2324687 │\n",
       "│          ┆           ┆      ┆            ┆   ┆            ┆ 1061, 536, ┆ 87800192,  ┆ 8001919,   │\n",
       "│          ┆           ┆      ┆            ┆   ┆            ┆ 1093)      ┆ 1080.14817 ┆ 19.1481748 │\n",
       "│          ┆           ┆      ┆            ┆   ┆            ┆            ┆ …          ┆ 3…         │\n",
       "└──────────┴───────────┴──────┴────────────┴───┴────────────┴────────────┴────────────┴────────────┘"
      ]
     },
     "execution_count": 8,
     "metadata": {},
     "output_type": "execute_result"
    }
   ],
   "source": [
    "df_csv"
   ]
  },
  {
   "cell_type": "markdown",
   "id": "d8a25b00-41a2-4b3e-b01a-3bf281f0eb9a",
   "metadata": {},
   "source": [
    "#### Convert existing pandas tables into polars"
   ]
  },
  {
   "cell_type": "code",
   "execution_count": null,
   "id": "6cb5f019-cee7-4087-95dd-2250145a91fe",
   "metadata": {},
   "outputs": [],
   "source": []
  },
  {
   "cell_type": "code",
   "execution_count": null,
   "id": "ac27e4db-e601-48f9-a1aa-e9c430089428",
   "metadata": {},
   "outputs": [],
   "source": []
  },
  {
   "cell_type": "code",
   "execution_count": null,
   "id": "c590db7f-8a8c-466a-90c7-1372dfb44ed8",
   "metadata": {},
   "outputs": [],
   "source": []
  },
  {
   "cell_type": "code",
   "execution_count": null,
   "id": "5561770d-d503-405b-99a2-daeb29a6eb1b",
   "metadata": {},
   "outputs": [],
   "source": []
  }
 ],
 "metadata": {
  "kernelspec": {
   "display_name": "Python 3 (ipykernel)",
   "language": "python",
   "name": "python3"
  },
  "language_info": {
   "codemirror_mode": {
    "name": "ipython",
    "version": 3
   },
   "file_extension": ".py",
   "mimetype": "text/x-python",
   "name": "python",
   "nbconvert_exporter": "python",
   "pygments_lexer": "ipython3",
   "version": "3.11.0rc1"
  }
 },
 "nbformat": 4,
 "nbformat_minor": 5
}
