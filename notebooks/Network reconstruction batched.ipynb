{
 "cells": [
  {
   "cell_type": "code",
   "execution_count": 1,
   "id": "ac86a40b-64e3-474d-b0e7-9763cd485c91",
   "metadata": {},
   "outputs": [],
   "source": [
    "%reload_ext autoreload\n",
    "%autoreload 2"
   ]
  },
  {
   "cell_type": "code",
   "execution_count": 2,
   "id": "de5c1339-7241-40c6-b617-06802260b380",
   "metadata": {},
   "outputs": [],
   "source": [
    "import torch\n",
    "import numpy as np\n",
    "import pathlib\n",
    "import matplotlib.pyplot as plt\n",
    "from pathlib import Path\n",
    "%matplotlib qt5"
   ]
  },
  {
   "cell_type": "markdown",
   "id": "e53cce31-4992-40b5-be8a-e13eb5337dcb",
   "metadata": {},
   "source": [
    "#### Dataset and Dataloader"
   ]
  },
  {
   "cell_type": "code",
   "execution_count": 3,
   "id": "2a78623c-7f98-45ed-9952-f5df2f4d66df",
   "metadata": {},
   "outputs": [],
   "source": [
    "from rtseg.cellseg.dataloaders import PhaseContrast\n",
    "from rtseg.cellseg.utils.transforms import transforms\n",
    "from rtseg.cellseg.networks import model_dict\n",
    "from torch.utils.data import DataLoader\n",
    "from rtseg.cellseg.utils.tiling import get_tiler"
   ]
  },
  {
   "cell_type": "code",
   "execution_count": 4,
   "id": "17a4b47f-bb08-4e90-8a2e-7639fc438f22",
   "metadata": {},
   "outputs": [],
   "source": [
    "#test_dir = Path('/home/pk/Documents/rtseg/data/cellseg/omnipose/')\n",
    "test_dir = Path('/mnt/sda1/REALTIME/data/seg_unet/dual/')\n",
    "test_transforms = transforms['eval']"
   ]
  },
  {
   "cell_type": "markdown",
   "id": "4b3e6acb-3766-4203-a211-1231e9fa0933",
   "metadata": {},
   "source": [
    "test_ds = PhaseContrast(phase_dir=test_dir/Path('bacteria_test'),\n",
    "                labels_dir=test_dir/Path('test_masks'),\n",
    "                vf_dir=test_dir/Path('vf_test'),\n",
    "                vf=False,\n",
    "                labels_delimiter='_masks',\n",
    "                vf_delimiter='_vf_11',\n",
    "                transforms=test_transforms,\n",
    "                phase_format='.png',\n",
    "                labels_format='.png',\n",
    "                vf_format='.npy'\n",
    "            )"
   ]
  },
  {
   "cell_type": "code",
   "execution_count": 5,
   "id": "f944ab50-e005-438a-933f-e83399370156",
   "metadata": {},
   "outputs": [],
   "source": [
    "test_ds = PhaseContrast(phase_dir=test_dir/Path('phase'),\n",
    "                labels_dir=test_dir/Path('mask'),\n",
    "                vf_dir=test_dir/Path('vf11'),\n",
    "                vf=False,\n",
    "                labels_delimiter='',\n",
    "                vf_delimiter='_vf_11',\n",
    "                transforms=test_transforms,\n",
    "                phase_format='.tif',\n",
    "                labels_format='.tif',\n",
    "                vf_format='.npy'\n",
    "            )"
   ]
  },
  {
   "cell_type": "markdown",
   "id": "cdbe38a0-7382-4a9a-855c-53ce2bc2f2d9",
   "metadata": {},
   "source": [
    "##### Don't do this with more than 1 batch size"
   ]
  },
  {
   "cell_type": "code",
   "execution_count": 6,
   "id": "c96dcc52-67e8-4fb4-9869-52ce718db737",
   "metadata": {},
   "outputs": [],
   "source": [
    "test_dl = DataLoader(test_ds, batch_size=1, pin_memory=False, drop_last=False, num_workers=2)"
   ]
  },
  {
   "cell_type": "code",
   "execution_count": 7,
   "id": "850397b6-a6b2-4330-90dd-59a9e8c32d60",
   "metadata": {},
   "outputs": [
    {
     "name": "stdout",
     "output_type": "stream",
     "text": [
      "torch.Size([1, 1, 880, 1024]) torch.Size([1, 1, 880, 1024])\n"
     ]
    }
   ],
   "source": [
    "a, b = next(iter(test_dl))\n",
    "print(a.shape, b.shape)"
   ]
  },
  {
   "cell_type": "code",
   "execution_count": null,
   "id": "b212d330-9285-480a-bfb9-03c5031e8664",
   "metadata": {},
   "outputs": [],
   "source": []
  },
  {
   "cell_type": "markdown",
   "id": "0ac063ad-1bca-4f53-a4d1-72d5e52f84c7",
   "metadata": {},
   "source": [
    "#### Model loading"
   ]
  },
  {
   "cell_type": "code",
   "execution_count": 8,
   "id": "a37b6de8-fe79-45ce-9525-dd3728fdd9dc",
   "metadata": {},
   "outputs": [],
   "source": [
    "#model_path = Path('/home/pk/Documents/rtseg/models/cellseg/checkpoints/2024-04-16_09-51-44/model_val.pt')"
   ]
  },
  {
   "cell_type": "code",
   "execution_count": 9,
   "id": "3e8161e3-679c-4796-ba28-39d2dd231568",
   "metadata": {},
   "outputs": [],
   "source": [
    "model_path = Path('/home/pk/Documents/rtseg/models/cellseg/checkpoints/2024-04-17_14-54-31_vf11MM_lr_3e-4_65535/model_val.pt')"
   ]
  },
  {
   "cell_type": "code",
   "execution_count": 10,
   "id": "bd09abfd-a823-4c76-a9b4-2e07dbf25eb0",
   "metadata": {},
   "outputs": [
    {
     "data": {
      "text/plain": [
       "<All keys matched successfully>"
      ]
     },
     "execution_count": 10,
     "metadata": {},
     "output_type": "execute_result"
    }
   ],
   "source": [
    "model = model_dict['ResUnet']\n",
    "model = model.parse(channels_by_scale=[1, 32, 64, 128, 256], num_outputs=[1, 2, 1],\n",
    "                    upsample_type='transpose_conv', feature_fusion_type='concat',\n",
    "                    skip_channel_seg=True)\n",
    "model.load_state_dict(torch.load(model_path))"
   ]
  },
  {
   "cell_type": "code",
   "execution_count": 11,
   "id": "32f05fd6-1191-4efc-80e9-e8327e820bb2",
   "metadata": {},
   "outputs": [
    {
     "data": {
      "text/plain": [
       "ResUnet(\n",
       "  (down_layers): Sequential(\n",
       "    (0): ResConvBlock(\n",
       "      (block): Sequential(\n",
       "        (0): BatchNorm2d(1, eps=1e-05, momentum=0.1, affine=True, track_running_stats=True)\n",
       "        (1): ReLU(inplace=True)\n",
       "        (2): Conv2d(1, 32, kernel_size=(3, 3), stride=(1, 1), padding=(1, 1))\n",
       "        (3): BatchNorm2d(32, eps=1e-05, momentum=0.1, affine=True, track_running_stats=True)\n",
       "        (4): ReLU(inplace=True)\n",
       "        (5): Conv2d(32, 32, kernel_size=(3, 3), stride=(1, 1), padding=(1, 1))\n",
       "      )\n",
       "      (skip_connection): Sequential(\n",
       "        (0): Conv2d(1, 32, kernel_size=(3, 3), stride=(1, 1), padding=(1, 1))\n",
       "      )\n",
       "      (nonlinearity): ReLU(inplace=True)\n",
       "    )\n",
       "    (1): MaxPool2d(kernel_size=2, stride=2, padding=0, dilation=1, ceil_mode=False)\n",
       "    (2): ResConvBlock(\n",
       "      (block): Sequential(\n",
       "        (0): BatchNorm2d(32, eps=1e-05, momentum=0.1, affine=True, track_running_stats=True)\n",
       "        (1): ReLU(inplace=True)\n",
       "        (2): Conv2d(32, 64, kernel_size=(3, 3), stride=(1, 1), padding=(1, 1))\n",
       "        (3): BatchNorm2d(64, eps=1e-05, momentum=0.1, affine=True, track_running_stats=True)\n",
       "        (4): ReLU(inplace=True)\n",
       "        (5): Conv2d(64, 64, kernel_size=(3, 3), stride=(1, 1), padding=(1, 1))\n",
       "      )\n",
       "      (skip_connection): Sequential(\n",
       "        (0): Conv2d(32, 64, kernel_size=(3, 3), stride=(1, 1), padding=(1, 1))\n",
       "      )\n",
       "      (nonlinearity): ReLU(inplace=True)\n",
       "    )\n",
       "    (3): MaxPool2d(kernel_size=2, stride=2, padding=0, dilation=1, ceil_mode=False)\n",
       "    (4): ResConvBlock(\n",
       "      (block): Sequential(\n",
       "        (0): BatchNorm2d(64, eps=1e-05, momentum=0.1, affine=True, track_running_stats=True)\n",
       "        (1): ReLU(inplace=True)\n",
       "        (2): Conv2d(64, 128, kernel_size=(3, 3), stride=(1, 1), padding=(1, 1))\n",
       "        (3): BatchNorm2d(128, eps=1e-05, momentum=0.1, affine=True, track_running_stats=True)\n",
       "        (4): ReLU(inplace=True)\n",
       "        (5): Conv2d(128, 128, kernel_size=(3, 3), stride=(1, 1), padding=(1, 1))\n",
       "      )\n",
       "      (skip_connection): Sequential(\n",
       "        (0): Conv2d(64, 128, kernel_size=(3, 3), stride=(1, 1), padding=(1, 1))\n",
       "      )\n",
       "      (nonlinearity): ReLU(inplace=True)\n",
       "    )\n",
       "    (5): MaxPool2d(kernel_size=2, stride=2, padding=0, dilation=1, ceil_mode=False)\n",
       "    (6): ResConvBlock(\n",
       "      (block): Sequential(\n",
       "        (0): BatchNorm2d(128, eps=1e-05, momentum=0.1, affine=True, track_running_stats=True)\n",
       "        (1): ReLU(inplace=True)\n",
       "        (2): Conv2d(128, 256, kernel_size=(3, 3), stride=(1, 1), padding=(1, 1))\n",
       "        (3): BatchNorm2d(256, eps=1e-05, momentum=0.1, affine=True, track_running_stats=True)\n",
       "        (4): ReLU(inplace=True)\n",
       "        (5): Conv2d(256, 256, kernel_size=(3, 3), stride=(1, 1), padding=(1, 1))\n",
       "      )\n",
       "      (skip_connection): Sequential(\n",
       "        (0): Conv2d(128, 256, kernel_size=(3, 3), stride=(1, 1), padding=(1, 1))\n",
       "      )\n",
       "      (nonlinearity): ReLU(inplace=True)\n",
       "    )\n",
       "  )\n",
       "  (up_layers): Sequential(\n",
       "    (0): ResUpsampleBlock(\n",
       "      (upsample_block): ConvTranspose2d(256, 256, kernel_size=(2, 2), stride=(2, 2))\n",
       "      (conv_block): ResConvBlock(\n",
       "        (block): Sequential(\n",
       "          (0): BatchNorm2d(384, eps=1e-05, momentum=0.1, affine=True, track_running_stats=True)\n",
       "          (1): ReLU(inplace=True)\n",
       "          (2): Conv2d(384, 128, kernel_size=(3, 3), stride=(1, 1), padding=(1, 1))\n",
       "          (3): BatchNorm2d(128, eps=1e-05, momentum=0.1, affine=True, track_running_stats=True)\n",
       "          (4): ReLU(inplace=True)\n",
       "          (5): Conv2d(128, 128, kernel_size=(3, 3), stride=(1, 1), padding=(1, 1))\n",
       "        )\n",
       "        (skip_connection): Sequential(\n",
       "          (0): Conv2d(384, 128, kernel_size=(3, 3), stride=(1, 1), padding=(1, 1))\n",
       "        )\n",
       "        (nonlinearity): ReLU(inplace=True)\n",
       "      )\n",
       "    )\n",
       "    (1): ResUpsampleBlock(\n",
       "      (upsample_block): ConvTranspose2d(128, 128, kernel_size=(2, 2), stride=(2, 2))\n",
       "      (conv_block): ResConvBlock(\n",
       "        (block): Sequential(\n",
       "          (0): BatchNorm2d(192, eps=1e-05, momentum=0.1, affine=True, track_running_stats=True)\n",
       "          (1): ReLU(inplace=True)\n",
       "          (2): Conv2d(192, 64, kernel_size=(3, 3), stride=(1, 1), padding=(1, 1))\n",
       "          (3): BatchNorm2d(64, eps=1e-05, momentum=0.1, affine=True, track_running_stats=True)\n",
       "          (4): ReLU(inplace=True)\n",
       "          (5): Conv2d(64, 64, kernel_size=(3, 3), stride=(1, 1), padding=(1, 1))\n",
       "        )\n",
       "        (skip_connection): Sequential(\n",
       "          (0): Conv2d(192, 64, kernel_size=(3, 3), stride=(1, 1), padding=(1, 1))\n",
       "        )\n",
       "        (nonlinearity): ReLU(inplace=True)\n",
       "      )\n",
       "    )\n",
       "    (2): ResUpsampleBlock(\n",
       "      (upsample_block): ConvTranspose2d(64, 64, kernel_size=(2, 2), stride=(2, 2))\n",
       "      (conv_block): ResConvBlock(\n",
       "        (block): Sequential(\n",
       "          (0): BatchNorm2d(96, eps=1e-05, momentum=0.1, affine=True, track_running_stats=True)\n",
       "          (1): ReLU(inplace=True)\n",
       "          (2): Conv2d(96, 32, kernel_size=(3, 3), stride=(1, 1), padding=(1, 1))\n",
       "          (3): BatchNorm2d(32, eps=1e-05, momentum=0.1, affine=True, track_running_stats=True)\n",
       "          (4): ReLU(inplace=True)\n",
       "          (5): Conv2d(32, 32, kernel_size=(3, 3), stride=(1, 1), padding=(1, 1))\n",
       "        )\n",
       "        (skip_connection): Sequential(\n",
       "          (0): Conv2d(96, 32, kernel_size=(3, 3), stride=(1, 1), padding=(1, 1))\n",
       "        )\n",
       "        (nonlinearity): ReLU(inplace=True)\n",
       "      )\n",
       "    )\n",
       "  )\n",
       "  (semantic_cells_block): FinalBlock(\n",
       "    (block): Sequential(\n",
       "      (0): Conv2d(32, 32, kernel_size=(1, 1), stride=(1, 1), padding=same, bias=False)\n",
       "      (1): BatchNorm2d(32, eps=1e-05, momentum=0.1, affine=True, track_running_stats=True)\n",
       "      (2): ReLU(inplace=True)\n",
       "      (3): Conv2d(32, 32, kernel_size=(1, 1), stride=(1, 1), padding=same, bias=False)\n",
       "      (4): BatchNorm2d(32, eps=1e-05, momentum=0.1, affine=True, track_running_stats=True)\n",
       "      (5): ReLU(inplace=True)\n",
       "    )\n",
       "    (final_conv): Conv2d(32, 1, kernel_size=(1, 1), stride=(1, 1), padding=same)\n",
       "  )\n",
       "  (vf_block): FinalBlock(\n",
       "    (block): Sequential(\n",
       "      (0): Conv2d(32, 32, kernel_size=(1, 1), stride=(1, 1), padding=same, bias=False)\n",
       "      (1): BatchNorm2d(32, eps=1e-05, momentum=0.1, affine=True, track_running_stats=True)\n",
       "      (2): ReLU(inplace=True)\n",
       "      (3): Conv2d(32, 32, kernel_size=(1, 1), stride=(1, 1), padding=same, bias=False)\n",
       "      (4): BatchNorm2d(32, eps=1e-05, momentum=0.1, affine=True, track_running_stats=True)\n",
       "      (5): ReLU(inplace=True)\n",
       "    )\n",
       "    (final_conv): Conv2d(32, 2, kernel_size=(1, 1), stride=(1, 1), padding=same)\n",
       "  )\n",
       ")"
      ]
     },
     "execution_count": 11,
     "metadata": {},
     "output_type": "execute_result"
    }
   ],
   "source": [
    "model.eval()"
   ]
  },
  {
   "cell_type": "code",
   "execution_count": null,
   "id": "875858f3-fffa-440d-924b-ef1721472281",
   "metadata": {},
   "outputs": [],
   "source": []
  },
  {
   "cell_type": "markdown",
   "id": "5f0f20a1-9a2a-4525-871f-b9a56e6647ad",
   "metadata": {},
   "source": [
    "#### Adding tiling and merging wrapper around the model."
   ]
  },
  {
   "cell_type": "code",
   "execution_count": 12,
   "id": "c444055f-4bf4-4ca5-9030-892bf179c981",
   "metadata": {},
   "outputs": [],
   "source": [
    "device = 'cuda:0'"
   ]
  },
  {
   "cell_type": "code",
   "execution_count": 13,
   "id": "8430c4d9-de2f-4c31-8bf9-6a1ac7dde02e",
   "metadata": {},
   "outputs": [],
   "source": [
    "tiler = get_tiler(\"dynamic_overlap\")"
   ]
  },
  {
   "cell_type": "code",
   "execution_count": 14,
   "id": "f8311649-f2ce-44d0-b04f-765aa10b86ed",
   "metadata": {},
   "outputs": [],
   "source": [
    "wrapped_model = tiler(model, device=device)\n",
    "wrapped_model = wrapped_model.to(device)"
   ]
  },
  {
   "cell_type": "code",
   "execution_count": 15,
   "id": "b482caec-e3aa-45f1-87af-4b33b7318b9b",
   "metadata": {},
   "outputs": [],
   "source": [
    "a = a.to(device)"
   ]
  },
  {
   "cell_type": "code",
   "execution_count": 16,
   "id": "3ccd1202-0c61-4f25-a342-62493e988b5b",
   "metadata": {},
   "outputs": [
    {
     "data": {
      "text/plain": [
       "torch.Size([1, 1, 880, 1024])"
      ]
     },
     "execution_count": 16,
     "metadata": {},
     "output_type": "execute_result"
    }
   ],
   "source": [
    "a.shape"
   ]
  },
  {
   "cell_type": "code",
   "execution_count": 17,
   "id": "0c2dc3d4-c5d2-4a8b-a27f-059cdba60b73",
   "metadata": {},
   "outputs": [],
   "source": [
    "double_a = torch.cat([a, a], dim=0)"
   ]
  },
  {
   "cell_type": "code",
   "execution_count": 18,
   "id": "f4b2057a-acfc-4373-ab4e-06f8772b6d76",
   "metadata": {},
   "outputs": [
    {
     "data": {
      "text/plain": [
       "torch.Size([2, 1, 880, 1024])"
      ]
     },
     "execution_count": 18,
     "metadata": {},
     "output_type": "execute_result"
    }
   ],
   "source": [
    "double_a.shape"
   ]
  },
  {
   "cell_type": "code",
   "execution_count": null,
   "id": "92278d15-8eb6-4366-921b-74f7814fdad7",
   "metadata": {},
   "outputs": [],
   "source": []
  },
  {
   "cell_type": "code",
   "execution_count": 19,
   "id": "9954b123-7064-48bc-8de9-6ec5351235bf",
   "metadata": {},
   "outputs": [],
   "source": [
    "plt.figure()\n",
    "plt.imshow(a.cpu()[0][0], cmap='gray')\n",
    "plt.show()"
   ]
  },
  {
   "cell_type": "code",
   "execution_count": null,
   "id": "5d86007c-8f36-4fdb-bac8-10db2b740efd",
   "metadata": {},
   "outputs": [],
   "source": []
  },
  {
   "cell_type": "code",
   "execution_count": 20,
   "id": "8831eb88-b01c-4871-bd2c-09bc0b1ed717",
   "metadata": {},
   "outputs": [],
   "source": [
    "def infer(a):\n",
    "    with torch.inference_mode():\n",
    "        pred_semantic, pred_vf = wrapped_model(a)\n",
    "    return pred_semantic, pred_vf"
   ]
  },
  {
   "cell_type": "code",
   "execution_count": 21,
   "id": "60d112a9-8710-4c07-90aa-23209632129a",
   "metadata": {},
   "outputs": [],
   "source": [
    "pred_semantic, pred_vf = infer(a)"
   ]
  },
  {
   "cell_type": "code",
   "execution_count": 21,
   "id": "1fe950b6-cd07-425a-b999-6b6a2342c932",
   "metadata": {},
   "outputs": [
    {
     "name": "stdout",
     "output_type": "stream",
     "text": [
      "32.5 ms ± 606 µs per loop (mean ± std. dev. of 7 runs, 10 loops each)\n"
     ]
    }
   ],
   "source": [
    "%timeit pred_semantic, pred_vf = infer(a)"
   ]
  },
  {
   "cell_type": "code",
   "execution_count": 22,
   "id": "ef7df8f6-d2da-4f33-9172-16fcacb2a2d8",
   "metadata": {},
   "outputs": [
    {
     "data": {
      "text/plain": [
       "(torch.Size([1, 1, 880, 1024]), torch.Size([1, 2, 880, 1024]))"
      ]
     },
     "execution_count": 22,
     "metadata": {},
     "output_type": "execute_result"
    }
   ],
   "source": [
    "pred_semantic.shape, pred_vf.shape"
   ]
  },
  {
   "cell_type": "code",
   "execution_count": 23,
   "id": "b933e239-1a59-464c-9628-13cd2bbc18a3",
   "metadata": {},
   "outputs": [
    {
     "name": "stdout",
     "output_type": "stream",
     "text": [
      "64.8 ms ± 689 µs per loop (mean ± std. dev. of 7 runs, 10 loops each)\n"
     ]
    }
   ],
   "source": [
    "%timeit pred_semantic_double, pred_vf_double = infer(double_a)"
   ]
  },
  {
   "cell_type": "code",
   "execution_count": 24,
   "id": "9ea339be-972c-45d4-a4d2-16e4b4c89d61",
   "metadata": {},
   "outputs": [],
   "source": [
    "pred_semantic_double, pred_vf_double = infer(double_a)"
   ]
  },
  {
   "cell_type": "code",
   "execution_count": 25,
   "id": "5dbdaa5d-d433-4aac-a677-cafbd9f91919",
   "metadata": {},
   "outputs": [
    {
     "data": {
      "text/plain": [
       "(torch.Size([2, 1, 880, 1024]), torch.Size([2, 2, 880, 1024]))"
      ]
     },
     "execution_count": 25,
     "metadata": {},
     "output_type": "execute_result"
    }
   ],
   "source": [
    "pred_semantic_double.shape, pred_vf_double.shape"
   ]
  },
  {
   "cell_type": "code",
   "execution_count": 25,
   "id": "b0c3e112-2de0-4d09-997d-699e142cda65",
   "metadata": {},
   "outputs": [],
   "source": [
    "mask_constructed = construct_masks_batch(pred_vf, pred_semantic, device='cuda:0', store_solutions=False, fast=True)"
   ]
  },
  {
   "cell_type": "code",
   "execution_count": 26,
   "id": "fe0e7216-6560-4e35-a986-893835eae199",
   "metadata": {},
   "outputs": [],
   "source": [
    "plt.figure()\n",
    "plt.imshow(mask_constructed[0][0])\n",
    "plt.show()"
   ]
  },
  {
   "cell_type": "code",
   "execution_count": 23,
   "id": "77f61bce-4522-40de-bd55-a56be2e5661d",
   "metadata": {},
   "outputs": [],
   "source": [
    "def plot_inference(pred_semantic, pred_vf, device='cpu'):\n",
    "    fig, ax = plt.subplots(nrows=1, ncols=3)\n",
    "    ax[0].imshow(pred_semantic[0][0].cpu().numpy())\n",
    "    ax[0].set_title(\"Semantic\")\n",
    "    ax[1].imshow(pred_vf[0][0].cpu().numpy())\n",
    "    ax[1].set_title(\"vf_x\")\n",
    "    ax[2].imshow(pred_vf[0][1].cpu().numpy())\n",
    "    ax[2].set_title(\"vf_y\")\n",
    "    plt.show()"
   ]
  },
  {
   "cell_type": "code",
   "execution_count": 24,
   "id": "5068c900-4bf1-4b62-891f-cae2377af0d4",
   "metadata": {},
   "outputs": [],
   "source": [
    "plot_inference(pred_semantic, pred_vf)"
   ]
  },
  {
   "cell_type": "code",
   "execution_count": 25,
   "id": "2f18b8f5-001f-4748-b086-ee7dccdd2eac",
   "metadata": {},
   "outputs": [
    {
     "ename": "NameError",
     "evalue": "name 'pred_semantic_double' is not defined",
     "output_type": "error",
     "traceback": [
      "\u001b[0;31m---------------------------------------------------------------------------\u001b[0m",
      "\u001b[0;31mNameError\u001b[0m                                 Traceback (most recent call last)",
      "Cell \u001b[0;32mIn[25], line 1\u001b[0m\n\u001b[0;32m----> 1\u001b[0m plot_inference(\u001b[43mpred_semantic_double\u001b[49m[\u001b[38;5;241m0\u001b[39m][\u001b[38;5;28;01mNone\u001b[39;00m, :], pred_vf_double[\u001b[38;5;241m0\u001b[39m][\u001b[38;5;28;01mNone\u001b[39;00m,:])\n\u001b[1;32m      2\u001b[0m plot_inference(pred_semantic_double[\u001b[38;5;241m1\u001b[39m][\u001b[38;5;28;01mNone\u001b[39;00m, :], pred_vf_double[\u001b[38;5;241m1\u001b[39m][\u001b[38;5;28;01mNone\u001b[39;00m,:])\n",
      "\u001b[0;31mNameError\u001b[0m: name 'pred_semantic_double' is not defined"
     ]
    }
   ],
   "source": [
    "plot_inference(pred_semantic_double[0][None, :], pred_vf_double[0][None,:])\n",
    "plot_inference(pred_semantic_double[1][None, :], pred_vf_double[1][None,:])"
   ]
  },
  {
   "cell_type": "code",
   "execution_count": null,
   "id": "425a4010-bb33-4157-ae60-3adab730bda2",
   "metadata": {},
   "outputs": [],
   "source": []
  },
  {
   "cell_type": "markdown",
   "id": "c19e1a09-895d-4d4f-9528-cc0d3cd17d9d",
   "metadata": {},
   "source": [
    "### Read from file and infer"
   ]
  },
  {
   "cell_type": "code",
   "execution_count": 24,
   "id": "418c17d0-5482-4179-acd6-f6717ace4acb",
   "metadata": {},
   "outputs": [],
   "source": [
    "from rtseg.cellseg.numerics.vf_to_masks import construct_mask, construct_masks_batch\n",
    "from skimage.io import imread"
   ]
  },
  {
   "cell_type": "code",
   "execution_count": 47,
   "id": "da47df66-c64d-47f3-808c-67f751f413b3",
   "metadata": {},
   "outputs": [],
   "source": [
    "image = imread(Path('/home/pk/Documents/waveletCode/data/img_000000000_phase.tiff')).astype('float32')"
   ]
  },
  {
   "cell_type": "code",
   "execution_count": 48,
   "id": "e05307eb-fad8-4d1e-80c0-6d81434cee83",
   "metadata": {},
   "outputs": [],
   "source": [
    "image_tensor = torch.from_numpy(image)[None, None, :].to('cuda:0') / 35000.0"
   ]
  },
  {
   "cell_type": "code",
   "execution_count": 49,
   "id": "b7a158f4-636d-4155-a720-da17b6ed1d30",
   "metadata": {},
   "outputs": [
    {
     "data": {
      "text/plain": [
       "torch.Size([1, 1, 1404, 3200])"
      ]
     },
     "execution_count": 49,
     "metadata": {},
     "output_type": "execute_result"
    }
   ],
   "source": [
    "image_tensor.shape"
   ]
  },
  {
   "cell_type": "code",
   "execution_count": 50,
   "id": "25bf584c-ce16-4676-99d1-36e64517bec1",
   "metadata": {},
   "outputs": [],
   "source": [
    "image_tensor_batch = torch.concatenate([image_tensor, image_tensor, image_tensor], axis=0)"
   ]
  },
  {
   "cell_type": "code",
   "execution_count": 51,
   "id": "d8138536-fee3-406b-a5bb-ca33a649613d",
   "metadata": {},
   "outputs": [
    {
     "data": {
      "text/plain": [
       "torch.Size([3, 1, 1404, 3200])"
      ]
     },
     "execution_count": 51,
     "metadata": {},
     "output_type": "execute_result"
    }
   ],
   "source": [
    "image_tensor_batch.shape"
   ]
  },
  {
   "cell_type": "code",
   "execution_count": 52,
   "id": "2da753f0-6423-4246-a90a-c9e7c5709644",
   "metadata": {},
   "outputs": [
    {
     "name": "stdout",
     "output_type": "stream",
     "text": [
      "367 ms ± 4.71 ms per loop (mean ± std. dev. of 7 runs, 1 loop each)\n"
     ]
    }
   ],
   "source": [
    "%timeit pred_semantic, pred_vf = infer(image_tensor_batch)"
   ]
  },
  {
   "cell_type": "code",
   "execution_count": 53,
   "id": "d0b8345a-5067-4b54-b613-2f520a518365",
   "metadata": {},
   "outputs": [],
   "source": [
    "pred_semantic, pred_vf = infer(image_tensor_batch)"
   ]
  },
  {
   "cell_type": "code",
   "execution_count": 54,
   "id": "2acc5e1c-5c7c-4f5b-80d1-0372777671ca",
   "metadata": {},
   "outputs": [
    {
     "data": {
      "text/plain": [
       "(torch.Size([3, 1, 1404, 3200]), torch.Size([3, 2, 1404, 3200]))"
      ]
     },
     "execution_count": 54,
     "metadata": {},
     "output_type": "execute_result"
    }
   ],
   "source": [
    "pred_semantic.shape, pred_vf.shape"
   ]
  },
  {
   "cell_type": "code",
   "execution_count": 55,
   "id": "3f969350-8dee-4a0e-9dd0-7e03442190eb",
   "metadata": {},
   "outputs": [],
   "source": [
    "plot_inference(pred_semantic, pred_vf)"
   ]
  },
  {
   "cell_type": "code",
   "execution_count": 56,
   "id": "9cacec06-1763-4a2d-9751-f669f529d110",
   "metadata": {},
   "outputs": [
    {
     "name": "stdout",
     "output_type": "stream",
     "text": [
      "994 ms ± 9.92 ms per loop (mean ± std. dev. of 7 runs, 1 loop each)\n"
     ]
    }
   ],
   "source": [
    "%timeit mask_constructed = construct_masks_batch(pred_vf, pred_semantic, device='cuda:0', store_solutions=False, fast=True)"
   ]
  },
  {
   "cell_type": "code",
   "execution_count": 57,
   "id": "b711912e-11c9-4cef-93b6-e0a1d6cf670d",
   "metadata": {},
   "outputs": [],
   "source": [
    "mask_constructed = construct_masks_batch(pred_vf, pred_semantic, device='cuda:0', store_solutions=False, fast=True)"
   ]
  },
  {
   "cell_type": "code",
   "execution_count": 58,
   "id": "2f0d81cd-3e26-4880-8f0b-5690aea52ab3",
   "metadata": {},
   "outputs": [],
   "source": [
    "plt.figure()\n",
    "plt.imshow(mask_constructed[0][0])\n",
    "plt.show()"
   ]
  },
  {
   "cell_type": "code",
   "execution_count": 70,
   "id": "82ce0042-8996-487a-a698-7d4992de8961",
   "metadata": {},
   "outputs": [],
   "source": [
    "save_image_path = Path('/home/pk/Documents/waveletCode/data/img_000000000_mask.tiff')"
   ]
  },
  {
   "cell_type": "code",
   "execution_count": 71,
   "id": "9200f655-88d0-43b6-8a96-d9ed802cc932",
   "metadata": {},
   "outputs": [],
   "source": [
    "from skimage.io import imsave"
   ]
  },
  {
   "cell_type": "code",
   "execution_count": 72,
   "id": "dcbf9353-aed3-411e-8f58-ebf95d76d5fd",
   "metadata": {},
   "outputs": [],
   "source": [
    "imsave(save_image_path, mask_constructed[0][0].numpy(), plugin='tifffile')"
   ]
  },
  {
   "cell_type": "code",
   "execution_count": null,
   "id": "b58c2089-c6bc-44db-bd9d-19bd187c9d01",
   "metadata": {},
   "outputs": [],
   "source": []
  },
  {
   "cell_type": "markdown",
   "id": "0a925ab5-f6e4-46bb-bdef-d856d135d367",
   "metadata": {},
   "source": [
    "### Reconstruction of masks in batches"
   ]
  },
  {
   "cell_type": "code",
   "execution_count": 45,
   "id": "265359b6-1be8-4b82-805a-b6f82005e994",
   "metadata": {},
   "outputs": [],
   "source": [
    "from rtseg.cellseg.numerics.vf_to_masks import construct_mask, construct_masks_batch"
   ]
  },
  {
   "cell_type": "code",
   "execution_count": 33,
   "id": "b1ba15fd-9184-4177-8b56-704367dea23f",
   "metadata": {},
   "outputs": [
    {
     "data": {
      "text/plain": [
       "(device(type='cuda', index=0), device(type='cuda', index=0))"
      ]
     },
     "execution_count": 33,
     "metadata": {},
     "output_type": "execute_result"
    }
   ],
   "source": [
    "pred_vf.device, pred_semantic.device"
   ]
  },
  {
   "cell_type": "code",
   "execution_count": 34,
   "id": "e72f364d-26b9-40bc-887a-364ed1919eab",
   "metadata": {},
   "outputs": [],
   "source": [
    "mask_constructed = construct_mask(pred_vf, pred_semantic, device='cuda:0', store_solutions=False, fast=True)"
   ]
  },
  {
   "cell_type": "code",
   "execution_count": 35,
   "id": "a6a785cb-02a6-4b7b-95c0-b64b24333ee1",
   "metadata": {},
   "outputs": [
    {
     "data": {
      "text/plain": [
       "torch.Size([1, 1, 880, 1024])"
      ]
     },
     "execution_count": 35,
     "metadata": {},
     "output_type": "execute_result"
    }
   ],
   "source": [
    "mask_constructed.shape"
   ]
  },
  {
   "cell_type": "code",
   "execution_count": 36,
   "id": "49c9a30d-8574-471d-946b-c6321bb20a6a",
   "metadata": {},
   "outputs": [
    {
     "data": {
      "text/plain": [
       "torch.float32"
      ]
     },
     "execution_count": 36,
     "metadata": {},
     "output_type": "execute_result"
    }
   ],
   "source": [
    "mask_constructed.dtype"
   ]
  },
  {
   "cell_type": "code",
   "execution_count": 37,
   "id": "a538e89d-58b0-40c0-9688-a576f4dcaf04",
   "metadata": {},
   "outputs": [],
   "source": [
    "mask_constructed = construct_masks_batch(pred_vf_double, pred_semantic_double, device='cuda:0', store_solutions=False, fast=True)"
   ]
  },
  {
   "cell_type": "code",
   "execution_count": 38,
   "id": "ead0ee1e-ee92-4f5c-bb6b-1417cecae4e0",
   "metadata": {},
   "outputs": [
    {
     "data": {
      "text/plain": [
       "torch.Size([2, 1, 880, 1024])"
      ]
     },
     "execution_count": 38,
     "metadata": {},
     "output_type": "execute_result"
    }
   ],
   "source": [
    "mask_constructed.shape"
   ]
  },
  {
   "cell_type": "code",
   "execution_count": 39,
   "id": "fd553a7b-37bb-46e8-828e-61cbb670b12e",
   "metadata": {},
   "outputs": [],
   "source": [
    "plt.figure()\n",
    "plt.imshow(mask_constructed[0][0])\n",
    "plt.show()"
   ]
  },
  {
   "cell_type": "code",
   "execution_count": 37,
   "id": "65213463-93d2-4d51-9ea0-11134c363458",
   "metadata": {},
   "outputs": [],
   "source": [
    "plt.figure()\n",
    "plt.imshow(mask_constructed[1][0])\n",
    "plt.show()"
   ]
  },
  {
   "cell_type": "code",
   "execution_count": 38,
   "id": "7862f099-abf9-42ac-844f-4c8d1bff76c3",
   "metadata": {},
   "outputs": [
    {
     "data": {
      "text/plain": [
       "device(type='cuda', index=0)"
      ]
     },
     "execution_count": 38,
     "metadata": {},
     "output_type": "execute_result"
    }
   ],
   "source": [
    "pred_vf.device"
   ]
  },
  {
   "cell_type": "code",
   "execution_count": 39,
   "id": "51b56f8f-2ee8-4ec6-8eed-b2ea97531d76",
   "metadata": {},
   "outputs": [
    {
     "data": {
      "text/plain": [
       "device(type='cuda', index=0)"
      ]
     },
     "execution_count": 39,
     "metadata": {},
     "output_type": "execute_result"
    }
   ],
   "source": [
    "pred_semantic.device"
   ]
  },
  {
   "cell_type": "code",
   "execution_count": 40,
   "id": "d604da8f-b67b-4a78-a4d7-230069a1e25a",
   "metadata": {},
   "outputs": [
    {
     "data": {
      "text/plain": [
       "torch.Size([2, 1, 880, 1024])"
      ]
     },
     "execution_count": 40,
     "metadata": {},
     "output_type": "execute_result"
    }
   ],
   "source": [
    "mask_constructed.shape"
   ]
  },
  {
   "cell_type": "code",
   "execution_count": null,
   "id": "a694945d-bffd-4922-96c9-3698c5c73bc0",
   "metadata": {},
   "outputs": [],
   "source": []
  },
  {
   "cell_type": "code",
   "execution_count": null,
   "id": "037297e9-d9a9-4ba5-9213-6014b0cf62af",
   "metadata": {},
   "outputs": [],
   "source": []
  },
  {
   "cell_type": "code",
   "execution_count": null,
   "id": "b44f5744-7aea-43a4-88d7-5fb18dff3d5a",
   "metadata": {},
   "outputs": [],
   "source": []
  },
  {
   "cell_type": "markdown",
   "id": "e9799a53-8ea7-469c-92e1-6954499c0234",
   "metadata": {},
   "source": [
    "### Evals"
   ]
  },
  {
   "cell_type": "code",
   "execution_count": null,
   "id": "3e719bd1-7aaf-4e2e-b135-f6cf29f9d1d9",
   "metadata": {},
   "outputs": [],
   "source": []
  },
  {
   "cell_type": "code",
   "execution_count": null,
   "id": "c18cc6c3-8890-44f9-9ead-0cfadaf844b3",
   "metadata": {},
   "outputs": [],
   "source": []
  },
  {
   "cell_type": "code",
   "execution_count": null,
   "id": "d2f582ec-6e5c-4a44-bbe6-453566cc830a",
   "metadata": {},
   "outputs": [],
   "source": []
  },
  {
   "cell_type": "code",
   "execution_count": null,
   "id": "d491668b-4103-4535-b485-2f3bb9c3a06b",
   "metadata": {},
   "outputs": [],
   "source": []
  },
  {
   "cell_type": "code",
   "execution_count": null,
   "id": "a44c83a1-a03d-4626-9469-0d7737e7f60c",
   "metadata": {},
   "outputs": [],
   "source": []
  },
  {
   "cell_type": "code",
   "execution_count": null,
   "id": "afe06ee5-a391-45dc-a065-99b8138bf430",
   "metadata": {},
   "outputs": [],
   "source": []
  }
 ],
 "metadata": {
  "kernelspec": {
   "display_name": "Python 3 (ipykernel)",
   "language": "python",
   "name": "python3"
  },
  "language_info": {
   "codemirror_mode": {
    "name": "ipython",
    "version": 3
   },
   "file_extension": ".py",
   "mimetype": "text/x-python",
   "name": "python",
   "nbconvert_exporter": "python",
   "pygments_lexer": "ipython3",
   "version": "3.11.0rc1"
  }
 },
 "nbformat": 4,
 "nbformat_minor": 5
}
