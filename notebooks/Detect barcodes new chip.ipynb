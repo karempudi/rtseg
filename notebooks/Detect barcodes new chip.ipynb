{
 "cells": [
  {
   "cell_type": "code",
   "execution_count": 1,
   "id": "67e19676-5715-4b03-9d80-3812d8fb8cac",
   "metadata": {},
   "outputs": [],
   "source": [
    "%reload_ext autoreload\n",
    "%autoreload 2"
   ]
  },
  {
   "cell_type": "code",
   "execution_count": 2,
   "id": "e6593e96-df80-4b87-b3f3-1f03acc5ea77",
   "metadata": {},
   "outputs": [],
   "source": [
    "import torch\n",
    "from rtseg.barcodedetect.networks import model_dict as barcode_model_dict\n",
    "from rtseg.utils.hardware import get_device_str\n",
    "from rtseg.utils.param_io import load_params\n",
    "from pathlib import Path\n",
    "from rtseg.barcodedetect.utils import YoloLiveAugmentations, YoloLiveUnAugmentations, plot_results_batch\n",
    "from skimage.io import imread\n",
    "import matplotlib.pyplot as plt\n",
    "import cv2\n",
    "import albumentations as A\n",
    "from rtseg.barcodedetect.transforms import YoloAugmentations, YoloTestAugmentations\n",
    "from rtseg.barcodedetect.datasets import BarcodeDataset, BarcodeTestDataset\n",
    "import matplotlib.patches as patches\n",
    "%matplotlib qt5"
   ]
  },
  {
   "cell_type": "code",
   "execution_count": 3,
   "id": "2839d9f3-1fd6-45f3-8369-e657a4953092",
   "metadata": {},
   "outputs": [],
   "source": [
    "params_path = Path(\"/home/pk/Documents/rtseg/rtseg/resources/reference_params/reference_linux.yaml\")"
   ]
  },
  {
   "cell_type": "code",
   "execution_count": 4,
   "id": "06fce729-df68-47cf-aa53-67327bff0b0a",
   "metadata": {},
   "outputs": [
    {
     "data": {
      "text/plain": [
       "'/home/pk/Documents/rtseg/rtseg/resources/reference_params/reference_linux.yaml'"
      ]
     },
     "execution_count": 4,
     "metadata": {},
     "output_type": "execute_result"
    }
   ],
   "source": [
    "str(params_path)"
   ]
  },
  {
   "cell_type": "code",
   "execution_count": 5,
   "id": "8f4aac9d-6ce6-4a77-b08b-281d0b6a0a25",
   "metadata": {},
   "outputs": [],
   "source": [
    "params = load_params(params_path, ref_type=\"expt\")"
   ]
  },
  {
   "cell_type": "code",
   "execution_count": 7,
   "id": "7e7647b4-6e69-4758-aee7-063cf7d17b7d",
   "metadata": {},
   "outputs": [
    {
     "data": {
      "text/plain": [
       "{'Save': {'trap_width': 40},\n",
       " 'Segmentation': {'model_path': '/home/pk/Documents/rtseg/models/cellseg/checkpoints/2024-12-04_13-16-21/model_val.pt'},\n",
       " 'Dots': None,\n",
       " 'BarcodeAndChannels': {'thresholds': {'conf': 0.25, 'iou': 0.45},\n",
       "  'img_size': [256, 800],\n",
       "  'dist_thresholds': {'min': 600,\n",
       "   'max': 900,\n",
       "   'dist': 760,\n",
       "   'channel_dist': 23,\n",
       "   'size': 20,\n",
       "   'prominences': 400},\n",
       "  'architecture': 'YOLOv3',\n",
       "  'model_path': '/mnt/sda1/REALTIME/network_expts/barcode_expts/2025-01-17_13-26-07/model.pth',\n",
       "  'batch_size': 1,\n",
       "  'transformations': {'before_type': 'YoloLiveAugmentations',\n",
       "   'after_type': 'YoloLiveUnAgumentations'},\n",
       "  'model_params': {'num_classes': 1,\n",
       "   'anchors': {'number': 9,\n",
       "    'sizes': [[19, 168],\n",
       "     [21, 168],\n",
       "     [29, 178],\n",
       "     [11, 130],\n",
       "     [11, 131],\n",
       "     [15, 165],\n",
       "     [6, 115],\n",
       "     [7, 115],\n",
       "     [7, 125]],\n",
       "    'strides': [[32, 32], [16, 16], [8, 8]]}}}}"
      ]
     },
     "execution_count": 7,
     "metadata": {},
     "output_type": "execute_result"
    }
   ],
   "source": [
    "params.to_dict()"
   ]
  },
  {
   "cell_type": "code",
   "execution_count": null,
   "id": "8edf0535-e912-4ab9-9070-24da76773108",
   "metadata": {},
   "outputs": [],
   "source": []
  },
  {
   "cell_type": "code",
   "execution_count": 24,
   "id": "fe204b77-1b88-40d2-a179-c9f594be6778",
   "metadata": {},
   "outputs": [],
   "source": [
    "from copy import deepcopy"
   ]
  },
  {
   "cell_type": "code",
   "execution_count": 25,
   "id": "b027a35c-c752-472a-8388-5b5525b3f59c",
   "metadata": {},
   "outputs": [],
   "source": [
    "params2 = deepcopy(params)"
   ]
  },
  {
   "cell_type": "code",
   "execution_count": 26,
   "id": "aa943add-dc3b-4453-ab1d-62e439f22c69",
   "metadata": {},
   "outputs": [],
   "source": [
    "barcode_params = params.BarcodeAndChannels"
   ]
  },
  {
   "cell_type": "code",
   "execution_count": 27,
   "id": "fe764177-0e37-4ef3-a7f1-1ebec2ddd8ec",
   "metadata": {},
   "outputs": [],
   "source": [
    "device = 'cuda:0'"
   ]
  },
  {
   "cell_type": "code",
   "execution_count": 28,
   "id": "a661f4a0-27f8-459b-b6af-f1c97e25c2e0",
   "metadata": {},
   "outputs": [],
   "source": [
    "barcode_model = barcode_model_dict[barcode_params.architecture]\n",
    "anchor_sizes = barcode_params.model_params.anchors.sizes\n",
    "strides = barcode_params.model_params.anchors.strides\n",
    "num_classes = barcode_params.model_params.num_classes"
   ]
  },
  {
   "cell_type": "code",
   "execution_count": 29,
   "id": "8c756b79-a3cd-47e0-bc1f-7dbae15a292d",
   "metadata": {},
   "outputs": [],
   "source": [
    "anchors_list = [[anchor_sizes[i], anchor_sizes[i+1], anchor_sizes[i+2]] for i in range(0, len(anchor_sizes), 3)]\n",
    "\n",
    "anchors_t = tuple(torch.tensor(anch).float().to(device=device) for anch in anchors_list)\n",
    "strides_t = tuple(torch.tensor(stride).to(device=device) for stride in strides)\n",
    "barcode_model = barcode_model.parse(anchors=anchors_list, num_classes=num_classes).to(device=device)"
   ]
  },
  {
   "cell_type": "markdown",
   "id": "a8612e80-d173-4690-9a2a-b8754d38115f",
   "metadata": {},
   "source": [
    "### Load yolo model weights into the model"
   ]
  },
  {
   "cell_type": "code",
   "execution_count": 30,
   "id": "cf5913df-e5e9-4ef6-b002-872b06e016cb",
   "metadata": {},
   "outputs": [],
   "source": [
    "barcode_model_path = Path(\"/mnt/sda1/REALTIME/network_expts/barcode_expts/2025-01-17_13-26-07/model.pth\")"
   ]
  },
  {
   "cell_type": "code",
   "execution_count": 31,
   "id": "a2135caf-291f-4513-bde2-8cf5ec01d43f",
   "metadata": {},
   "outputs": [
    {
     "data": {
      "text/plain": [
       "YOLOv3(\n",
       "  (dark53): Darknet53(\n",
       "    (conv_1): Sequential(\n",
       "      (conv_1): Conv2d(1, 32, kernel_size=(3, 3), stride=(1, 1), padding=(1, 1))\n",
       "      (batch_norm_1): BatchNorm2d(32, eps=1e-05, momentum=0.1, affine=True, track_running_stats=True)\n",
       "      (leaky_1): LeakyReLU(negative_slope=0.1)\n",
       "    )\n",
       "    (block_1): ConvResBlock(\n",
       "      (conv): Sequential(\n",
       "        (conv_2): Conv2d(32, 64, kernel_size=(3, 3), stride=(2, 2), padding=(1, 1))\n",
       "        (batch_norm_2): BatchNorm2d(64, eps=1e-05, momentum=0.1, affine=True, track_running_stats=True)\n",
       "        (leaky_2): LeakyReLU(negative_slope=0.1)\n",
       "      )\n",
       "      (repeat_list): ModuleList(\n",
       "        (0): Sequential(\n",
       "          (conv_3): Conv2d(64, 32, kernel_size=(1, 1), stride=(1, 1))\n",
       "          (batch_norm_3): BatchNorm2d(32, eps=1e-05, momentum=0.1, affine=True, track_running_stats=True)\n",
       "          (leaky_3): LeakyReLU(negative_slope=0.1)\n",
       "          (conv_4): Conv2d(32, 64, kernel_size=(3, 3), stride=(1, 1), padding=(1, 1))\n",
       "          (batch_norm_4): BatchNorm2d(64, eps=1e-05, momentum=0.1, affine=True, track_running_stats=True)\n",
       "          (leaky_4): LeakyReLU(negative_slope=0.1)\n",
       "        )\n",
       "      )\n",
       "    )\n",
       "    (block_2): ConvResBlock(\n",
       "      (conv): Sequential(\n",
       "        (conv_5): Conv2d(64, 128, kernel_size=(3, 3), stride=(2, 2), padding=(1, 1))\n",
       "        (batch_norm_5): BatchNorm2d(128, eps=1e-05, momentum=0.1, affine=True, track_running_stats=True)\n",
       "        (leaky_5): LeakyReLU(negative_slope=0.1)\n",
       "      )\n",
       "      (repeat_list): ModuleList(\n",
       "        (0): Sequential(\n",
       "          (conv_6): Conv2d(128, 64, kernel_size=(1, 1), stride=(1, 1))\n",
       "          (batch_norm_6): BatchNorm2d(64, eps=1e-05, momentum=0.1, affine=True, track_running_stats=True)\n",
       "          (leaky_6): LeakyReLU(negative_slope=0.1)\n",
       "          (conv_7): Conv2d(64, 128, kernel_size=(3, 3), stride=(1, 1), padding=(1, 1))\n",
       "          (batch_norm_7): BatchNorm2d(128, eps=1e-05, momentum=0.1, affine=True, track_running_stats=True)\n",
       "          (leaky_7): LeakyReLU(negative_slope=0.1)\n",
       "        )\n",
       "        (1): Sequential(\n",
       "          (conv_8): Conv2d(128, 64, kernel_size=(1, 1), stride=(1, 1))\n",
       "          (batch_norm_8): BatchNorm2d(64, eps=1e-05, momentum=0.1, affine=True, track_running_stats=True)\n",
       "          (leaky_8): LeakyReLU(negative_slope=0.1)\n",
       "          (conv_9): Conv2d(64, 128, kernel_size=(3, 3), stride=(1, 1), padding=(1, 1))\n",
       "          (batch_norm_9): BatchNorm2d(128, eps=1e-05, momentum=0.1, affine=True, track_running_stats=True)\n",
       "          (leaky_9): LeakyReLU(negative_slope=0.1)\n",
       "        )\n",
       "      )\n",
       "    )\n",
       "    (block_3): ConvResBlock(\n",
       "      (conv): Sequential(\n",
       "        (conv_10): Conv2d(128, 256, kernel_size=(3, 3), stride=(2, 2), padding=(1, 1))\n",
       "        (batch_norm_10): BatchNorm2d(256, eps=1e-05, momentum=0.1, affine=True, track_running_stats=True)\n",
       "        (leaky_10): LeakyReLU(negative_slope=0.1)\n",
       "      )\n",
       "      (repeat_list): ModuleList(\n",
       "        (0): Sequential(\n",
       "          (conv_11): Conv2d(256, 128, kernel_size=(1, 1), stride=(1, 1))\n",
       "          (batch_norm_11): BatchNorm2d(128, eps=1e-05, momentum=0.1, affine=True, track_running_stats=True)\n",
       "          (leaky_11): LeakyReLU(negative_slope=0.1)\n",
       "          (conv_12): Conv2d(128, 256, kernel_size=(3, 3), stride=(1, 1), padding=(1, 1))\n",
       "          (batch_norm_12): BatchNorm2d(256, eps=1e-05, momentum=0.1, affine=True, track_running_stats=True)\n",
       "          (leaky_12): LeakyReLU(negative_slope=0.1)\n",
       "        )\n",
       "        (1): Sequential(\n",
       "          (conv_13): Conv2d(256, 128, kernel_size=(1, 1), stride=(1, 1))\n",
       "          (batch_norm_13): BatchNorm2d(128, eps=1e-05, momentum=0.1, affine=True, track_running_stats=True)\n",
       "          (leaky_13): LeakyReLU(negative_slope=0.1)\n",
       "          (conv_14): Conv2d(128, 256, kernel_size=(3, 3), stride=(1, 1), padding=(1, 1))\n",
       "          (batch_norm_14): BatchNorm2d(256, eps=1e-05, momentum=0.1, affine=True, track_running_stats=True)\n",
       "          (leaky_14): LeakyReLU(negative_slope=0.1)\n",
       "        )\n",
       "        (2): Sequential(\n",
       "          (conv_15): Conv2d(256, 128, kernel_size=(1, 1), stride=(1, 1))\n",
       "          (batch_norm_15): BatchNorm2d(128, eps=1e-05, momentum=0.1, affine=True, track_running_stats=True)\n",
       "          (leaky_15): LeakyReLU(negative_slope=0.1)\n",
       "          (conv_16): Conv2d(128, 256, kernel_size=(3, 3), stride=(1, 1), padding=(1, 1))\n",
       "          (batch_norm_16): BatchNorm2d(256, eps=1e-05, momentum=0.1, affine=True, track_running_stats=True)\n",
       "          (leaky_16): LeakyReLU(negative_slope=0.1)\n",
       "        )\n",
       "        (3): Sequential(\n",
       "          (conv_17): Conv2d(256, 128, kernel_size=(1, 1), stride=(1, 1))\n",
       "          (batch_norm_17): BatchNorm2d(128, eps=1e-05, momentum=0.1, affine=True, track_running_stats=True)\n",
       "          (leaky_17): LeakyReLU(negative_slope=0.1)\n",
       "          (conv_18): Conv2d(128, 256, kernel_size=(3, 3), stride=(1, 1), padding=(1, 1))\n",
       "          (batch_norm_18): BatchNorm2d(256, eps=1e-05, momentum=0.1, affine=True, track_running_stats=True)\n",
       "          (leaky_18): LeakyReLU(negative_slope=0.1)\n",
       "        )\n",
       "        (4): Sequential(\n",
       "          (conv_19): Conv2d(256, 128, kernel_size=(1, 1), stride=(1, 1))\n",
       "          (batch_norm_19): BatchNorm2d(128, eps=1e-05, momentum=0.1, affine=True, track_running_stats=True)\n",
       "          (leaky_19): LeakyReLU(negative_slope=0.1)\n",
       "          (conv_20): Conv2d(128, 256, kernel_size=(3, 3), stride=(1, 1), padding=(1, 1))\n",
       "          (batch_norm_20): BatchNorm2d(256, eps=1e-05, momentum=0.1, affine=True, track_running_stats=True)\n",
       "          (leaky_20): LeakyReLU(negative_slope=0.1)\n",
       "        )\n",
       "        (5): Sequential(\n",
       "          (conv_21): Conv2d(256, 128, kernel_size=(1, 1), stride=(1, 1))\n",
       "          (batch_norm_21): BatchNorm2d(128, eps=1e-05, momentum=0.1, affine=True, track_running_stats=True)\n",
       "          (leaky_21): LeakyReLU(negative_slope=0.1)\n",
       "          (conv_22): Conv2d(128, 256, kernel_size=(3, 3), stride=(1, 1), padding=(1, 1))\n",
       "          (batch_norm_22): BatchNorm2d(256, eps=1e-05, momentum=0.1, affine=True, track_running_stats=True)\n",
       "          (leaky_22): LeakyReLU(negative_slope=0.1)\n",
       "        )\n",
       "        (6): Sequential(\n",
       "          (conv_23): Conv2d(256, 128, kernel_size=(1, 1), stride=(1, 1))\n",
       "          (batch_norm_23): BatchNorm2d(128, eps=1e-05, momentum=0.1, affine=True, track_running_stats=True)\n",
       "          (leaky_23): LeakyReLU(negative_slope=0.1)\n",
       "          (conv_24): Conv2d(128, 256, kernel_size=(3, 3), stride=(1, 1), padding=(1, 1))\n",
       "          (batch_norm_24): BatchNorm2d(256, eps=1e-05, momentum=0.1, affine=True, track_running_stats=True)\n",
       "          (leaky_24): LeakyReLU(negative_slope=0.1)\n",
       "        )\n",
       "        (7): Sequential(\n",
       "          (conv_25): Conv2d(256, 128, kernel_size=(1, 1), stride=(1, 1))\n",
       "          (batch_norm_25): BatchNorm2d(128, eps=1e-05, momentum=0.1, affine=True, track_running_stats=True)\n",
       "          (leaky_25): LeakyReLU(negative_slope=0.1)\n",
       "          (conv_26): Conv2d(128, 256, kernel_size=(3, 3), stride=(1, 1), padding=(1, 1))\n",
       "          (batch_norm_26): BatchNorm2d(256, eps=1e-05, momentum=0.1, affine=True, track_running_stats=True)\n",
       "          (leaky_26): LeakyReLU(negative_slope=0.1)\n",
       "        )\n",
       "      )\n",
       "    )\n",
       "    (block_4): ConvResBlock(\n",
       "      (conv): Sequential(\n",
       "        (conv_27): Conv2d(256, 512, kernel_size=(3, 3), stride=(2, 2), padding=(1, 1))\n",
       "        (batch_norm_27): BatchNorm2d(512, eps=1e-05, momentum=0.1, affine=True, track_running_stats=True)\n",
       "        (leaky_27): LeakyReLU(negative_slope=0.1)\n",
       "      )\n",
       "      (repeat_list): ModuleList(\n",
       "        (0): Sequential(\n",
       "          (conv_28): Conv2d(512, 256, kernel_size=(1, 1), stride=(1, 1))\n",
       "          (batch_norm_28): BatchNorm2d(256, eps=1e-05, momentum=0.1, affine=True, track_running_stats=True)\n",
       "          (leaky_28): LeakyReLU(negative_slope=0.1)\n",
       "          (conv_29): Conv2d(256, 512, kernel_size=(3, 3), stride=(1, 1), padding=(1, 1))\n",
       "          (batch_norm_29): BatchNorm2d(512, eps=1e-05, momentum=0.1, affine=True, track_running_stats=True)\n",
       "          (leaky_29): LeakyReLU(negative_slope=0.1)\n",
       "        )\n",
       "        (1): Sequential(\n",
       "          (conv_30): Conv2d(512, 256, kernel_size=(1, 1), stride=(1, 1))\n",
       "          (batch_norm_30): BatchNorm2d(256, eps=1e-05, momentum=0.1, affine=True, track_running_stats=True)\n",
       "          (leaky_30): LeakyReLU(negative_slope=0.1)\n",
       "          (conv_31): Conv2d(256, 512, kernel_size=(3, 3), stride=(1, 1), padding=(1, 1))\n",
       "          (batch_norm_31): BatchNorm2d(512, eps=1e-05, momentum=0.1, affine=True, track_running_stats=True)\n",
       "          (leaky_31): LeakyReLU(negative_slope=0.1)\n",
       "        )\n",
       "        (2): Sequential(\n",
       "          (conv_32): Conv2d(512, 256, kernel_size=(1, 1), stride=(1, 1))\n",
       "          (batch_norm_32): BatchNorm2d(256, eps=1e-05, momentum=0.1, affine=True, track_running_stats=True)\n",
       "          (leaky_32): LeakyReLU(negative_slope=0.1)\n",
       "          (conv_33): Conv2d(256, 512, kernel_size=(3, 3), stride=(1, 1), padding=(1, 1))\n",
       "          (batch_norm_33): BatchNorm2d(512, eps=1e-05, momentum=0.1, affine=True, track_running_stats=True)\n",
       "          (leaky_33): LeakyReLU(negative_slope=0.1)\n",
       "        )\n",
       "        (3): Sequential(\n",
       "          (conv_34): Conv2d(512, 256, kernel_size=(1, 1), stride=(1, 1))\n",
       "          (batch_norm_34): BatchNorm2d(256, eps=1e-05, momentum=0.1, affine=True, track_running_stats=True)\n",
       "          (leaky_34): LeakyReLU(negative_slope=0.1)\n",
       "          (conv_35): Conv2d(256, 512, kernel_size=(3, 3), stride=(1, 1), padding=(1, 1))\n",
       "          (batch_norm_35): BatchNorm2d(512, eps=1e-05, momentum=0.1, affine=True, track_running_stats=True)\n",
       "          (leaky_35): LeakyReLU(negative_slope=0.1)\n",
       "        )\n",
       "        (4): Sequential(\n",
       "          (conv_36): Conv2d(512, 256, kernel_size=(1, 1), stride=(1, 1))\n",
       "          (batch_norm_36): BatchNorm2d(256, eps=1e-05, momentum=0.1, affine=True, track_running_stats=True)\n",
       "          (leaky_36): LeakyReLU(negative_slope=0.1)\n",
       "          (conv_37): Conv2d(256, 512, kernel_size=(3, 3), stride=(1, 1), padding=(1, 1))\n",
       "          (batch_norm_37): BatchNorm2d(512, eps=1e-05, momentum=0.1, affine=True, track_running_stats=True)\n",
       "          (leaky_37): LeakyReLU(negative_slope=0.1)\n",
       "        )\n",
       "        (5): Sequential(\n",
       "          (conv_38): Conv2d(512, 256, kernel_size=(1, 1), stride=(1, 1))\n",
       "          (batch_norm_38): BatchNorm2d(256, eps=1e-05, momentum=0.1, affine=True, track_running_stats=True)\n",
       "          (leaky_38): LeakyReLU(negative_slope=0.1)\n",
       "          (conv_39): Conv2d(256, 512, kernel_size=(3, 3), stride=(1, 1), padding=(1, 1))\n",
       "          (batch_norm_39): BatchNorm2d(512, eps=1e-05, momentum=0.1, affine=True, track_running_stats=True)\n",
       "          (leaky_39): LeakyReLU(negative_slope=0.1)\n",
       "        )\n",
       "        (6): Sequential(\n",
       "          (conv_40): Conv2d(512, 256, kernel_size=(1, 1), stride=(1, 1))\n",
       "          (batch_norm_40): BatchNorm2d(256, eps=1e-05, momentum=0.1, affine=True, track_running_stats=True)\n",
       "          (leaky_40): LeakyReLU(negative_slope=0.1)\n",
       "          (conv_41): Conv2d(256, 512, kernel_size=(3, 3), stride=(1, 1), padding=(1, 1))\n",
       "          (batch_norm_41): BatchNorm2d(512, eps=1e-05, momentum=0.1, affine=True, track_running_stats=True)\n",
       "          (leaky_41): LeakyReLU(negative_slope=0.1)\n",
       "        )\n",
       "        (7): Sequential(\n",
       "          (conv_42): Conv2d(512, 256, kernel_size=(1, 1), stride=(1, 1))\n",
       "          (batch_norm_42): BatchNorm2d(256, eps=1e-05, momentum=0.1, affine=True, track_running_stats=True)\n",
       "          (leaky_42): LeakyReLU(negative_slope=0.1)\n",
       "          (conv_43): Conv2d(256, 512, kernel_size=(3, 3), stride=(1, 1), padding=(1, 1))\n",
       "          (batch_norm_43): BatchNorm2d(512, eps=1e-05, momentum=0.1, affine=True, track_running_stats=True)\n",
       "          (leaky_43): LeakyReLU(negative_slope=0.1)\n",
       "        )\n",
       "      )\n",
       "    )\n",
       "    (block_5): ConvResBlock(\n",
       "      (conv): Sequential(\n",
       "        (conv_44): Conv2d(512, 1024, kernel_size=(3, 3), stride=(2, 2), padding=(1, 1))\n",
       "        (batch_norm_44): BatchNorm2d(1024, eps=1e-05, momentum=0.1, affine=True, track_running_stats=True)\n",
       "        (leaky_44): LeakyReLU(negative_slope=0.1)\n",
       "      )\n",
       "      (repeat_list): ModuleList(\n",
       "        (0): Sequential(\n",
       "          (conv_45): Conv2d(1024, 512, kernel_size=(1, 1), stride=(1, 1))\n",
       "          (batch_norm_45): BatchNorm2d(512, eps=1e-05, momentum=0.1, affine=True, track_running_stats=True)\n",
       "          (leaky_45): LeakyReLU(negative_slope=0.1)\n",
       "          (conv_46): Conv2d(512, 1024, kernel_size=(3, 3), stride=(1, 1), padding=(1, 1))\n",
       "          (batch_norm_46): BatchNorm2d(1024, eps=1e-05, momentum=0.1, affine=True, track_running_stats=True)\n",
       "          (leaky_46): LeakyReLU(negative_slope=0.1)\n",
       "        )\n",
       "        (1): Sequential(\n",
       "          (conv_47): Conv2d(1024, 512, kernel_size=(1, 1), stride=(1, 1))\n",
       "          (batch_norm_47): BatchNorm2d(512, eps=1e-05, momentum=0.1, affine=True, track_running_stats=True)\n",
       "          (leaky_47): LeakyReLU(negative_slope=0.1)\n",
       "          (conv_48): Conv2d(512, 1024, kernel_size=(3, 3), stride=(1, 1), padding=(1, 1))\n",
       "          (batch_norm_48): BatchNorm2d(1024, eps=1e-05, momentum=0.1, affine=True, track_running_stats=True)\n",
       "          (leaky_48): LeakyReLU(negative_slope=0.1)\n",
       "        )\n",
       "        (2): Sequential(\n",
       "          (conv_49): Conv2d(1024, 512, kernel_size=(1, 1), stride=(1, 1))\n",
       "          (batch_norm_49): BatchNorm2d(512, eps=1e-05, momentum=0.1, affine=True, track_running_stats=True)\n",
       "          (leaky_49): LeakyReLU(negative_slope=0.1)\n",
       "          (conv_50): Conv2d(512, 1024, kernel_size=(3, 3), stride=(1, 1), padding=(1, 1))\n",
       "          (batch_norm_50): BatchNorm2d(1024, eps=1e-05, momentum=0.1, affine=True, track_running_stats=True)\n",
       "          (leaky_50): LeakyReLU(negative_slope=0.1)\n",
       "        )\n",
       "        (3): Sequential(\n",
       "          (conv_51): Conv2d(1024, 512, kernel_size=(1, 1), stride=(1, 1))\n",
       "          (batch_norm_51): BatchNorm2d(512, eps=1e-05, momentum=0.1, affine=True, track_running_stats=True)\n",
       "          (leaky_51): LeakyReLU(negative_slope=0.1)\n",
       "          (conv_52): Conv2d(512, 1024, kernel_size=(3, 3), stride=(1, 1), padding=(1, 1))\n",
       "          (batch_norm_52): BatchNorm2d(1024, eps=1e-05, momentum=0.1, affine=True, track_running_stats=True)\n",
       "          (leaky_52): LeakyReLU(negative_slope=0.1)\n",
       "        )\n",
       "      )\n",
       "    )\n",
       "  )\n",
       "  (afterdark53_1): AfterDarknet(\n",
       "    (module_list): ModuleList(\n",
       "      (0): Sequential(\n",
       "        (conv_53): Conv2d(1024, 512, kernel_size=(1, 1), stride=(1, 1))\n",
       "        (batch_norm_53): BatchNorm2d(512, eps=1e-05, momentum=0.1, affine=True, track_running_stats=True)\n",
       "        (leaky_53): LeakyReLU(negative_slope=0.1)\n",
       "      )\n",
       "      (1): Sequential(\n",
       "        (conv_54): Conv2d(512, 1024, kernel_size=(3, 3), stride=(1, 1), padding=(1, 1))\n",
       "        (batch_norm_54): BatchNorm2d(1024, eps=1e-05, momentum=0.1, affine=True, track_running_stats=True)\n",
       "        (leaky_54): LeakyReLU(negative_slope=0.1)\n",
       "      )\n",
       "      (2): Sequential(\n",
       "        (conv_55): Conv2d(1024, 512, kernel_size=(1, 1), stride=(1, 1))\n",
       "        (batch_norm_55): BatchNorm2d(512, eps=1e-05, momentum=0.1, affine=True, track_running_stats=True)\n",
       "        (leaky_55): LeakyReLU(negative_slope=0.1)\n",
       "      )\n",
       "      (3): Sequential(\n",
       "        (conv_56): Conv2d(512, 1024, kernel_size=(3, 3), stride=(1, 1), padding=(1, 1))\n",
       "        (batch_norm_56): BatchNorm2d(1024, eps=1e-05, momentum=0.1, affine=True, track_running_stats=True)\n",
       "        (leaky_56): LeakyReLU(negative_slope=0.1)\n",
       "      )\n",
       "      (4): Sequential(\n",
       "        (conv_57): Conv2d(1024, 512, kernel_size=(1, 1), stride=(1, 1))\n",
       "        (batch_norm_57): BatchNorm2d(512, eps=1e-05, momentum=0.1, affine=True, track_running_stats=True)\n",
       "        (leaky_57): LeakyReLU(negative_slope=0.1)\n",
       "      )\n",
       "      (5): Sequential(\n",
       "        (conv_58): Conv2d(512, 1024, kernel_size=(3, 3), stride=(1, 1), padding=(1, 1))\n",
       "        (batch_norm_58): BatchNorm2d(1024, eps=1e-05, momentum=0.1, affine=True, track_running_stats=True)\n",
       "        (leaky_58): LeakyReLU(negative_slope=0.1)\n",
       "      )\n",
       "      (6): Sequential(\n",
       "        (conv_59): Conv2d(1024, 18, kernel_size=(1, 1), stride=(1, 1))\n",
       "        (batch_norm_59): BatchNorm2d(18, eps=1e-05, momentum=0.1, affine=True, track_running_stats=True)\n",
       "      )\n",
       "    )\n",
       "  )\n",
       "  (yolo_1): YOLOLayer(\n",
       "    (mse_loss): MSELoss()\n",
       "    (bce_loss): BCELoss()\n",
       "  )\n",
       "  (conv_after_yolo_1): Sequential(\n",
       "    (conv_60): Conv2d(512, 256, kernel_size=(1, 1), stride=(1, 1))\n",
       "    (batch_norm_60): BatchNorm2d(256, eps=1e-05, momentum=0.1, affine=True, track_running_stats=True)\n",
       "    (leaky_60): LeakyReLU(negative_slope=0.1)\n",
       "  )\n",
       "  (upsample1): Upsample(scale_factor=2.0, mode='nearest')\n",
       "  (afterdark53_2): AfterDarknet(\n",
       "    (module_list): ModuleList(\n",
       "      (0): Sequential(\n",
       "        (conv_61): Conv2d(768, 256, kernel_size=(1, 1), stride=(1, 1))\n",
       "        (batch_norm_61): BatchNorm2d(256, eps=1e-05, momentum=0.1, affine=True, track_running_stats=True)\n",
       "        (leaky_61): LeakyReLU(negative_slope=0.1)\n",
       "      )\n",
       "      (1): Sequential(\n",
       "        (conv_62): Conv2d(256, 512, kernel_size=(3, 3), stride=(1, 1), padding=(1, 1))\n",
       "        (batch_norm_62): BatchNorm2d(512, eps=1e-05, momentum=0.1, affine=True, track_running_stats=True)\n",
       "        (leaky_62): LeakyReLU(negative_slope=0.1)\n",
       "      )\n",
       "      (2): Sequential(\n",
       "        (conv_63): Conv2d(512, 256, kernel_size=(1, 1), stride=(1, 1))\n",
       "        (batch_norm_63): BatchNorm2d(256, eps=1e-05, momentum=0.1, affine=True, track_running_stats=True)\n",
       "        (leaky_63): LeakyReLU(negative_slope=0.1)\n",
       "      )\n",
       "      (3): Sequential(\n",
       "        (conv_64): Conv2d(256, 512, kernel_size=(3, 3), stride=(1, 1), padding=(1, 1))\n",
       "        (batch_norm_64): BatchNorm2d(512, eps=1e-05, momentum=0.1, affine=True, track_running_stats=True)\n",
       "        (leaky_64): LeakyReLU(negative_slope=0.1)\n",
       "      )\n",
       "      (4): Sequential(\n",
       "        (conv_65): Conv2d(512, 256, kernel_size=(1, 1), stride=(1, 1))\n",
       "        (batch_norm_65): BatchNorm2d(256, eps=1e-05, momentum=0.1, affine=True, track_running_stats=True)\n",
       "        (leaky_65): LeakyReLU(negative_slope=0.1)\n",
       "      )\n",
       "      (5): Sequential(\n",
       "        (conv_66): Conv2d(256, 512, kernel_size=(3, 3), stride=(1, 1), padding=(1, 1))\n",
       "        (batch_norm_66): BatchNorm2d(512, eps=1e-05, momentum=0.1, affine=True, track_running_stats=True)\n",
       "        (leaky_66): LeakyReLU(negative_slope=0.1)\n",
       "      )\n",
       "      (6): Sequential(\n",
       "        (conv_67): Conv2d(512, 18, kernel_size=(1, 1), stride=(1, 1))\n",
       "        (batch_norm_67): BatchNorm2d(18, eps=1e-05, momentum=0.1, affine=True, track_running_stats=True)\n",
       "      )\n",
       "    )\n",
       "  )\n",
       "  (yolo_2): YOLOLayer(\n",
       "    (mse_loss): MSELoss()\n",
       "    (bce_loss): BCELoss()\n",
       "  )\n",
       "  (conv_after_yolo_2): Sequential(\n",
       "    (conv_68): Conv2d(256, 128, kernel_size=(1, 1), stride=(1, 1))\n",
       "    (batch_norm_68): BatchNorm2d(128, eps=1e-05, momentum=0.1, affine=True, track_running_stats=True)\n",
       "    (leaky_68): LeakyReLU(negative_slope=0.1)\n",
       "  )\n",
       "  (upsample2): Upsample(scale_factor=2.0, mode='nearest')\n",
       "  (afterdark53_3): AfterDarknet(\n",
       "    (module_list): ModuleList(\n",
       "      (0): Sequential(\n",
       "        (conv_69): Conv2d(384, 128, kernel_size=(1, 1), stride=(1, 1))\n",
       "        (batch_norm_69): BatchNorm2d(128, eps=1e-05, momentum=0.1, affine=True, track_running_stats=True)\n",
       "        (leaky_69): LeakyReLU(negative_slope=0.1)\n",
       "      )\n",
       "      (1): Sequential(\n",
       "        (conv_70): Conv2d(128, 256, kernel_size=(3, 3), stride=(1, 1), padding=(1, 1))\n",
       "        (batch_norm_70): BatchNorm2d(256, eps=1e-05, momentum=0.1, affine=True, track_running_stats=True)\n",
       "        (leaky_70): LeakyReLU(negative_slope=0.1)\n",
       "      )\n",
       "      (2): Sequential(\n",
       "        (conv_71): Conv2d(256, 128, kernel_size=(1, 1), stride=(1, 1))\n",
       "        (batch_norm_71): BatchNorm2d(128, eps=1e-05, momentum=0.1, affine=True, track_running_stats=True)\n",
       "        (leaky_71): LeakyReLU(negative_slope=0.1)\n",
       "      )\n",
       "      (3): Sequential(\n",
       "        (conv_72): Conv2d(128, 256, kernel_size=(3, 3), stride=(1, 1), padding=(1, 1))\n",
       "        (batch_norm_72): BatchNorm2d(256, eps=1e-05, momentum=0.1, affine=True, track_running_stats=True)\n",
       "        (leaky_72): LeakyReLU(negative_slope=0.1)\n",
       "      )\n",
       "      (4): Sequential(\n",
       "        (conv_73): Conv2d(256, 128, kernel_size=(1, 1), stride=(1, 1))\n",
       "        (batch_norm_73): BatchNorm2d(128, eps=1e-05, momentum=0.1, affine=True, track_running_stats=True)\n",
       "        (leaky_73): LeakyReLU(negative_slope=0.1)\n",
       "      )\n",
       "      (5): Sequential(\n",
       "        (conv_74): Conv2d(128, 256, kernel_size=(3, 3), stride=(1, 1), padding=(1, 1))\n",
       "        (batch_norm_74): BatchNorm2d(256, eps=1e-05, momentum=0.1, affine=True, track_running_stats=True)\n",
       "        (leaky_74): LeakyReLU(negative_slope=0.1)\n",
       "      )\n",
       "      (6): Sequential(\n",
       "        (conv_75): Conv2d(256, 18, kernel_size=(1, 1), stride=(1, 1))\n",
       "        (batch_norm_75): BatchNorm2d(18, eps=1e-05, momentum=0.1, affine=True, track_running_stats=True)\n",
       "      )\n",
       "    )\n",
       "  )\n",
       "  (yolo_3): YOLOLayer(\n",
       "    (mse_loss): MSELoss()\n",
       "    (bce_loss): BCELoss()\n",
       "  )\n",
       ")"
      ]
     },
     "execution_count": 31,
     "metadata": {},
     "output_type": "execute_result"
    }
   ],
   "source": [
    "barcode_model.load_state_dict(torch.load(barcode_model_path, map_location=device))\n",
    "barcode_model.eval()"
   ]
  },
  {
   "cell_type": "code",
   "execution_count": null,
   "id": "e4412cb1-26aa-4864-8c9d-784dd9b1f97b",
   "metadata": {},
   "outputs": [],
   "source": []
  },
  {
   "cell_type": "code",
   "execution_count": 32,
   "id": "3d56d705-70fc-4a69-9dac-9fff73e480f6",
   "metadata": {},
   "outputs": [],
   "source": [
    "image_path = Path(\"/mnt/sda1/REALTIME/data/test_data/EXP-24-CD0103/40x newchip testimages/_1/Default/phase/img_channel000_position000_time000000000_z000.tif\")\n",
    "\n",
    "image = imread(image_path).astype('float32')"
   ]
  },
  {
   "cell_type": "code",
   "execution_count": null,
   "id": "164ebd9e-3792-4894-b089-0f19d14cf310",
   "metadata": {},
   "outputs": [],
   "source": []
  },
  {
   "cell_type": "code",
   "execution_count": 33,
   "id": "091e3073-5933-47cc-9507-d95a0975d5f4",
   "metadata": {},
   "outputs": [],
   "source": [
    "pre_barcode_transforms = YoloLiveAugmentations()"
   ]
  },
  {
   "cell_type": "code",
   "execution_count": 34,
   "id": "6763e421-c22a-4008-a965-c7eed7765289",
   "metadata": {},
   "outputs": [],
   "source": [
    "barcode_sample = pre_barcode_transforms({'phase': image})"
   ]
  },
  {
   "cell_type": "code",
   "execution_count": 35,
   "id": "9690bfb9-f0e1-421d-9a18-52840823fdf4",
   "metadata": {},
   "outputs": [
    {
     "data": {
      "text/plain": [
       "torch.Size([1, 256, 800])"
      ]
     },
     "execution_count": 35,
     "metadata": {},
     "output_type": "execute_result"
    }
   ],
   "source": [
    "barcode_sample['phase'].shape"
   ]
  },
  {
   "cell_type": "code",
   "execution_count": 36,
   "id": "5c55dbf5-5e81-42ef-b861-49f6beeb11f4",
   "metadata": {},
   "outputs": [],
   "source": [
    "plt.figure()\n",
    "plt.imshow(barcode_sample['phase'][0], cmap='gray')\n",
    "plt.show()"
   ]
  },
  {
   "cell_type": "code",
   "execution_count": 37,
   "id": "e2d68140-f132-4193-9a42-5707a98d35ec",
   "metadata": {},
   "outputs": [],
   "source": [
    "from rtseg.barcodedetect.utils import outputs_to_bboxes, non_max_suppression, to_cpu"
   ]
  },
  {
   "cell_type": "code",
   "execution_count": 38,
   "id": "d51f037d-2aa7-47c6-a6cd-a80016f815ff",
   "metadata": {},
   "outputs": [],
   "source": [
    "barcode_pred = barcode_model(barcode_sample['phase'].unsqueeze(0).to(device))"
   ]
  },
  {
   "cell_type": "code",
   "execution_count": 39,
   "id": "5abd747f-e76a-429c-8eee-8e7522198ab0",
   "metadata": {},
   "outputs": [],
   "source": [
    "bboxes = outputs_to_bboxes(barcode_pred, anchors_t, strides_t)"
   ]
  },
  {
   "cell_type": "code",
   "execution_count": 40,
   "id": "c172a68e-63c9-4ae6-8966-14353c38adbc",
   "metadata": {},
   "outputs": [],
   "source": [
    "bboxes_cleaned = non_max_suppression(bboxes, conf_thres=0.25,\n",
    "                                     iou_thres=0.45)\n",
    "bboxes_barcode = [bbox.numpy() for bbox in bboxes_cleaned][0]"
   ]
  },
  {
   "cell_type": "code",
   "execution_count": 41,
   "id": "da53e3f7-31ba-4f33-9f1d-bc89ff37e0cd",
   "metadata": {},
   "outputs": [
    {
     "data": {
      "text/plain": [
       "array([[4.7629596e+02, 7.8996033e+01, 4.8608344e+02, 1.8558261e+02,\n",
       "        8.5779959e-01, 0.0000000e+00],\n",
       "       [1.6205576e+02, 6.6377373e+01, 1.7286716e+02, 1.7421210e+02,\n",
       "        8.0090129e-01, 0.0000000e+00],\n",
       "       [6.3333069e+02, 9.0044670e+01, 6.4350159e+02, 1.9209134e+02,\n",
       "        7.2835815e-01, 0.0000000e+00],\n",
       "       [3.1964246e+02, 7.1160767e+01, 3.2968225e+02, 1.7968309e+02,\n",
       "        5.3137660e-01, 0.0000000e+00],\n",
       "       [7.9122137e+02, 8.8817650e+01, 7.9977850e+02, 1.9532199e+02,\n",
       "        3.9682052e-01, 0.0000000e+00]], dtype=float32)"
      ]
     },
     "execution_count": 41,
     "metadata": {},
     "output_type": "execute_result"
    }
   ],
   "source": [
    "bboxes_barcode"
   ]
  },
  {
   "cell_type": "code",
   "execution_count": 42,
   "id": "edcabfb2-df7e-4d44-a127-484ac79fe574",
   "metadata": {},
   "outputs": [],
   "source": [
    "yolo_img_size = barcode_params.img_size"
   ]
  },
  {
   "cell_type": "code",
   "execution_count": 43,
   "id": "875cd76f-3830-4cca-a5fa-1d3874f706ac",
   "metadata": {},
   "outputs": [
    {
     "data": {
      "text/plain": [
       "[256, 800]"
      ]
     },
     "execution_count": 43,
     "metadata": {},
     "output_type": "execute_result"
    }
   ],
   "source": [
    "yolo_img_size"
   ]
  },
  {
   "cell_type": "code",
   "execution_count": 44,
   "id": "d1403de1-ddc6-4baf-8ef9-e26e45137286",
   "metadata": {},
   "outputs": [
    {
     "data": {
      "text/plain": [
       "list"
      ]
     },
     "execution_count": 44,
     "metadata": {},
     "output_type": "execute_result"
    }
   ],
   "source": [
    "type(yolo_img_size)"
   ]
  },
  {
   "cell_type": "code",
   "execution_count": 45,
   "id": "8d0af813-9f43-440e-8bd6-56cc5ab3a39e",
   "metadata": {},
   "outputs": [],
   "source": [
    "yolo_datapoint = {\n",
    "    'yolo_size': yolo_img_size,\n",
    "    'bboxes': bboxes_barcode\n",
    "}"
   ]
  },
  {
   "cell_type": "code",
   "execution_count": 46,
   "id": "812976b8-6036-4481-935e-764bff8b08d3",
   "metadata": {},
   "outputs": [],
   "source": [
    "raw_shape = image.shape"
   ]
  },
  {
   "cell_type": "code",
   "execution_count": 47,
   "id": "64fe2eb3-550a-4b61-aba6-f67cb5a434f4",
   "metadata": {},
   "outputs": [],
   "source": [
    "post_barcode_transformations = YoloLiveUnAugmentations(\n",
    "    parameters = {'resize': {\n",
    "        'height': raw_shape[0],\n",
    "        'width': raw_shape[1],\n",
    "        }\n",
    "    }\n",
    ")"
   ]
  },
  {
   "cell_type": "code",
   "execution_count": 48,
   "id": "f23c9f2c-3ab2-4ed1-9261-d5a9c71a725e",
   "metadata": {},
   "outputs": [],
   "source": [
    "bboxes_final = post_barcode_transformations(yolo_datapoint)"
   ]
  },
  {
   "cell_type": "code",
   "execution_count": 49,
   "id": "802bb2cb-6cb9-4024-904b-0980e7ccfd16",
   "metadata": {},
   "outputs": [],
   "source": [
    "bboxes_final = sorted(bboxes_final, key=lambda x: x[0])"
   ]
  },
  {
   "cell_type": "code",
   "execution_count": 50,
   "id": "a1a17e0b-f426-4b12-89a0-6c05230681b6",
   "metadata": {},
   "outputs": [
    {
     "data": {
      "text/plain": [
       "[array([611.7605   , 212.61502  , 652.5735   , 558.02313  ,   0.8009013,\n",
       "          0.       ], dtype=float32),\n",
       " array([1.2066503e+03, 2.2793683e+02, 1.2445505e+03, 5.7554742e+02,\n",
       "        5.3137660e-01, 0.0000000e+00], dtype=float32),\n",
       " array([1.7980172e+03, 2.5303416e+02, 1.8349648e+03, 5.9444427e+02,\n",
       "        8.5779959e-01, 0.0000000e+00], dtype=float32),\n",
       " array([2.3908232e+03, 2.8842435e+02, 2.4292185e+03, 6.1529254e+02,\n",
       "        7.2835815e-01, 0.0000000e+00], dtype=float32),\n",
       " array([2.9868606e+03, 2.8449405e+02, 3.0191638e+03, 6.2564075e+02,\n",
       "        3.9682052e-01, 0.0000000e+00], dtype=float32)]"
      ]
     },
     "execution_count": 50,
     "metadata": {},
     "output_type": "execute_result"
    }
   ],
   "source": [
    "bboxes_final"
   ]
  },
  {
   "cell_type": "code",
   "execution_count": 51,
   "id": "366aad0b-519b-42e3-a54e-f2c0dce18803",
   "metadata": {},
   "outputs": [],
   "source": [
    "fig, ax = plt.subplots()\n",
    "ax.imshow(image, cmap='gray')\n",
    "for row in bboxes_final:\n",
    "    rect = patches.Rectangle((row[0], row[1]), row[2] - row[0], row[3] - row[1], linewidth=1, edgecolor='r', facecolor='none')\n",
    "    ax.add_patch(rect)\n",
    "plt.show()"
   ]
  },
  {
   "cell_type": "code",
   "execution_count": null,
   "id": "725c7d86-0599-4a90-9039-39680cf46fec",
   "metadata": {},
   "outputs": [],
   "source": []
  },
  {
   "cell_type": "code",
   "execution_count": 52,
   "id": "c6fb6b07-8bd8-4744-81d2-cd01029cc802",
   "metadata": {},
   "outputs": [],
   "source": [
    "from rtseg.identify_channels import get_barcode_model, detect_barcodes"
   ]
  },
  {
   "cell_type": "code",
   "execution_count": 53,
   "id": "2b8c8a20-1918-422e-9d15-c491bc3a8fbb",
   "metadata": {},
   "outputs": [],
   "source": [
    "model, anchors, strides = get_barcode_model(barcode_model_path, anchor_sizes, strides)"
   ]
  },
  {
   "cell_type": "code",
   "execution_count": 54,
   "id": "1f986ed1-7386-49b6-a277-bca2583366f5",
   "metadata": {},
   "outputs": [
    {
     "name": "stdout",
     "output_type": "stream",
     "text": [
      "Barcodes 5 on (820, 3020) detected\n"
     ]
    },
    {
     "data": {
      "text/plain": [
       "[array([611.7605   , 212.61502  , 652.5735   , 558.02313  ,   0.8009013,\n",
       "          0.       ], dtype=float32),\n",
       " array([1.2066503e+03, 2.2793683e+02, 1.2445505e+03, 5.7554742e+02,\n",
       "        5.3137660e-01, 0.0000000e+00], dtype=float32),\n",
       " array([1.7980172e+03, 2.5303416e+02, 1.8349648e+03, 5.9444427e+02,\n",
       "        8.5779959e-01, 0.0000000e+00], dtype=float32),\n",
       " array([2.3908232e+03, 2.8842435e+02, 2.4292185e+03, 6.1529254e+02,\n",
       "        7.2835815e-01, 0.0000000e+00], dtype=float32),\n",
       " array([2.9868606e+03, 2.8449405e+02, 3.0191638e+03, 6.2564075e+02,\n",
       "        3.9682052e-01, 0.0000000e+00], dtype=float32)]"
      ]
     },
     "execution_count": 54,
     "metadata": {},
     "output_type": "execute_result"
    }
   ],
   "source": [
    "detect_barcodes(model, anchors, strides, image.astype('float32'), [256, 800])"
   ]
  },
  {
   "cell_type": "code",
   "execution_count": null,
   "id": "66e99e01-b484-4843-8066-8742a2e20d6c",
   "metadata": {},
   "outputs": [],
   "source": [
    "model."
   ]
  },
  {
   "cell_type": "code",
   "execution_count": null,
   "id": "d939018a-9dbb-453d-b29b-fd27cc41e019",
   "metadata": {},
   "outputs": [],
   "source": []
  },
  {
   "cell_type": "code",
   "execution_count": 1,
   "id": "276c5693-9c85-42b8-a28a-3e7f0eb3f767",
   "metadata": {},
   "outputs": [
    {
     "ename": "NameError",
     "evalue": "name 'params' is not defined",
     "output_type": "error",
     "traceback": [
      "\u001b[0;31m---------------------------------------------------------------------------\u001b[0m",
      "\u001b[0;31mNameError\u001b[0m                                 Traceback (most recent call last)",
      "Cell \u001b[0;32mIn[1], line 1\u001b[0m\n\u001b[0;32m----> 1\u001b[0m \u001b[43mparams\u001b[49m\n",
      "\u001b[0;31mNameError\u001b[0m: name 'params' is not defined"
     ]
    }
   ],
   "source": [
    "params"
   ]
  },
  {
   "cell_type": "code",
   "execution_count": null,
   "id": "34a8bb45-3a2f-4a81-af12-1d03208bb5cc",
   "metadata": {},
   "outputs": [],
   "source": []
  },
  {
   "cell_type": "code",
   "execution_count": null,
   "id": "399bef87-214a-41cb-9b20-48508051b076",
   "metadata": {},
   "outputs": [],
   "source": []
  },
  {
   "cell_type": "code",
   "execution_count": null,
   "id": "ed954fd7-4925-48a9-9e03-541f366fb920",
   "metadata": {},
   "outputs": [],
   "source": []
  },
  {
   "cell_type": "code",
   "execution_count": null,
   "id": "2ecb6a6b-e64d-4aec-a1a6-348fcb93d0ab",
   "metadata": {},
   "outputs": [],
   "source": []
  },
  {
   "cell_type": "code",
   "execution_count": null,
   "id": "8fa4e30d-26bf-4fe9-89b8-662071d23b0b",
   "metadata": {},
   "outputs": [],
   "source": []
  },
  {
   "cell_type": "code",
   "execution_count": null,
   "id": "db07dd4d-68b8-4c6d-9cbd-dd615d8a6555",
   "metadata": {},
   "outputs": [],
   "source": []
  },
  {
   "cell_type": "code",
   "execution_count": null,
   "id": "a4db2af2-2af5-4798-939e-9a3992c072cc",
   "metadata": {},
   "outputs": [],
   "source": []
  },
  {
   "cell_type": "code",
   "execution_count": null,
   "id": "4ffc6500-e6c6-46cb-beba-8343a4ecbd7a",
   "metadata": {},
   "outputs": [],
   "source": []
  },
  {
   "cell_type": "code",
   "execution_count": null,
   "id": "38e490b7-d7c9-459e-babc-2b53c3d826dd",
   "metadata": {},
   "outputs": [],
   "source": []
  }
 ],
 "metadata": {
  "kernelspec": {
   "display_name": "Python 3 (ipykernel)",
   "language": "python",
   "name": "python3"
  },
  "language_info": {
   "codemirror_mode": {
    "name": "ipython",
    "version": 3
   },
   "file_extension": ".py",
   "mimetype": "text/x-python",
   "name": "python",
   "nbconvert_exporter": "python",
   "pygments_lexer": "ipython3",
   "version": "3.11.0rc1"
  }
 },
 "nbformat": 4,
 "nbformat_minor": 5
}
