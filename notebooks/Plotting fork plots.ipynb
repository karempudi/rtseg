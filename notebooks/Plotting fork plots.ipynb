{
 "cells": [
  {
   "cell_type": "code",
   "execution_count": 1,
   "id": "bf6f336e-50a4-449b-b659-143a436d82b1",
   "metadata": {},
   "outputs": [],
   "source": [
    "%reload_ext autoreload\n",
    "%autoreload 2"
   ]
  },
  {
   "cell_type": "code",
   "execution_count": 2,
   "id": "62f945d6-5e5d-4ecb-a1f2-00202dc6dc13",
   "metadata": {},
   "outputs": [],
   "source": [
    "import numpy as np\n",
    "import matplotlib.pyplot as plt\n",
    "import pandas as pd\n",
    "import ast\n",
    "np.seterr(divide='ignore', invalid='ignore')\n",
    "%matplotlib qt5"
   ]
  },
  {
   "cell_type": "code",
   "execution_count": 3,
   "id": "9c9d1995-7d1a-4f48-bb33-b019acd3641b",
   "metadata": {},
   "outputs": [],
   "source": [
    "data = pd.read_csv('forks.csv')"
   ]
  },
  {
   "cell_type": "code",
   "execution_count": 4,
   "id": "82617259-e143-49ef-80d0-3832e85e2b70",
   "metadata": {},
   "outputs": [],
   "source": [
    "areas = data['area']\n",
    "lengths = data['length'] \n",
    "bin_scale=20\n",
    "longs = data['normalized_internal_x']\n",
    "counts = data['normalization_counts']"
   ]
  },
  {
   "cell_type": "code",
   "execution_count": 5,
   "id": "7347fa61-c418-41ac-9afc-84064a119f10",
   "metadata": {},
   "outputs": [],
   "source": [
    "from rtseg.cells.plotting import generate_fork_plot"
   ]
  },
  {
   "cell_type": "code",
   "execution_count": 6,
   "id": "64a6d48e-dcd1-4787-936e-8f0557cfcfa0",
   "metadata": {},
   "outputs": [
    {
     "data": {
      "text/plain": [
       "Text(0, 0.5, 'Cell size (µm^2)')"
      ]
     },
     "execution_count": 6,
     "metadata": {},
     "output_type": "execute_result"
    }
   ],
   "source": [
    "heatmap, mean_cell_lengths, (x, y) = generate_fork_plot(areas, lengths, longs, counts)\n",
    "\n",
    "plt.imshow(heatmap, aspect='auto', interpolation='none', extent=[x[0], x[-1], y[-1], y[0]], origin='upper')\n",
    "plt.plot(-0.5 * mean_cell_lengths, y, 'w', linewidth=2)\n",
    "plt.plot(0.5 * mean_cell_lengths, y, 'w', linewidth=2)\n",
    "plt.xlabel('Cell long axis (µm)')\n",
    "plt.ylabel('Cell size (µm^2)')"
   ]
  },
  {
   "cell_type": "code",
   "execution_count": 7,
   "id": "fed2450d-b515-4e5a-9f96-3b27ba6c9b51",
   "metadata": {},
   "outputs": [
    {
     "data": {
      "text/plain": [
       "array([ 1.54998378,  1.59395179,  1.66887195,         nan,  1.73079313,\n",
       "        1.73636468,  1.83111858,  1.97497763,  2.04635954,  1.88393574,\n",
       "        1.92966875,  1.88215439,  2.16219484,  2.04507083,  2.10881828,\n",
       "        2.07634639,  2.29229938,  2.26061842,  2.40273692,  2.41490314,\n",
       "        2.44421217,  2.43128967,  2.50391578,  2.566323  ,  2.659168  ,\n",
       "        2.58120164,  2.63233816,  2.56089477,  2.72973262,  2.7311826 ,\n",
       "        2.70035949,  3.012912  ,  3.06905901,  3.15087919,  3.10846871,\n",
       "        3.1086096 ,  3.18162191,  3.26080274,  3.23269927,  3.26573434,\n",
       "        3.25697045,  3.23628256,  3.21967627,  3.43281816,  3.54052596,\n",
       "        3.36855862,  3.57503697,  3.73315912,  3.63344419,  3.83413482,\n",
       "        3.41404968,  3.90598491,  4.34526937,  4.03167836,  3.99156377,\n",
       "        4.00085595,  4.06477062,  4.09994337,         nan,  4.16164106,\n",
       "        4.33808926,  4.43597175,  3.92590616,  4.39734251,  4.42214676,\n",
       "        4.09730764,  4.98733949,  4.56046602,  4.156583  ,         nan,\n",
       "               nan,         nan,         nan,  4.93319379,         nan,\n",
       "        4.93767112,         nan,         nan,         nan,         nan,\n",
       "        4.93329801,  5.48222218,  5.42337802,         nan,         nan,\n",
       "        5.0181829 ,         nan,         nan,  5.80291848,         nan,\n",
       "               nan,         nan,         nan,         nan,         nan,\n",
       "        5.7583444 ,         nan,  6.59364181,  6.44503636,         nan,\n",
       "               nan,  5.84746302,  5.89300976,         nan,         nan,\n",
       "               nan,         nan,  6.7662124 ,  6.92678162,  6.99837303,\n",
       "               nan,         nan,         nan,         nan,         nan,\n",
       "               nan,         nan,         nan,         nan,  7.27506752,\n",
       "               nan,         nan,         nan,         nan,         nan,\n",
       "               nan,         nan,         nan,  7.36722146,         nan,\n",
       "               nan,         nan,         nan,         nan,         nan,\n",
       "               nan,  6.85534556,         nan,         nan,         nan,\n",
       "        8.51570177,         nan,         nan,  9.12075022,         nan,\n",
       "               nan,         nan,         nan,         nan,         nan,\n",
       "        8.65234754,         nan,         nan,         nan,         nan,\n",
       "        8.97638461,         nan,         nan,         nan,         nan,\n",
       "               nan,         nan,         nan,         nan,         nan,\n",
       "               nan,  9.25033031,         nan,         nan,         nan,\n",
       "               nan,         nan,         nan,         nan,         nan,\n",
       "               nan,         nan,  9.89558164,         nan,         nan,\n",
       "               nan,         nan,         nan,         nan, 10.30980829,\n",
       "               nan,         nan,         nan,         nan, 10.49238133,\n",
       "               nan,         nan,         nan,         nan, 10.35505661,\n",
       "               nan,         nan,         nan, 10.90543168,         nan,\n",
       "       11.09143514,         nan,         nan,         nan,         nan,\n",
       "               nan,  8.37608918,         nan,         nan,         nan,\n",
       "               nan,         nan,         nan,         nan,         nan,\n",
       "               nan,         nan,         nan,         nan,         nan,\n",
       "               nan,         nan,         nan,         nan,         nan,\n",
       "               nan,         nan,         nan,         nan,         nan,\n",
       "               nan,         nan,         nan,         nan,         nan,\n",
       "               nan,         nan,         nan,         nan,         nan,\n",
       "               nan,         nan,         nan, 12.5165911 ,         nan,\n",
       "               nan,         nan,         nan,         nan,         nan,\n",
       "               nan,         nan,         nan,         nan,         nan,\n",
       "               nan,         nan,         nan,         nan,         nan,\n",
       "               nan,         nan,         nan,         nan,         nan,\n",
       "               nan,         nan,         nan,         nan,         nan,\n",
       "               nan,         nan,         nan,         nan,         nan,\n",
       "               nan,         nan,         nan,         nan,         nan,\n",
       "               nan,         nan,         nan,         nan,         nan,\n",
       "               nan,         nan,         nan,         nan,         nan,\n",
       "               nan,         nan,         nan,         nan,         nan,\n",
       "               nan,         nan,         nan,         nan,         nan,\n",
       "       15.64783863])"
      ]
     },
     "execution_count": 7,
     "metadata": {},
     "output_type": "execute_result"
    }
   ],
   "source": [
    "mean_cell_lengths"
   ]
  },
  {
   "cell_type": "code",
   "execution_count": 5,
   "id": "0ffbcb9e-1e52-4cd9-804f-9127613ddda7",
   "metadata": {},
   "outputs": [],
   "source": [
    "amin = np.quantile(areas, 0.005)\n",
    "amax = np.quantile(areas, 0.98)"
   ]
  },
  {
   "cell_type": "code",
   "execution_count": 6,
   "id": "997b9c12-940c-4fac-8730-85c946eee664",
   "metadata": {},
   "outputs": [],
   "source": [
    "ainds = np.where(np.logical_and(areas >= amin, areas <= amax))[0]"
   ]
  },
  {
   "cell_type": "code",
   "execution_count": 7,
   "id": "3391b76a-9739-4174-b056-b56bf0cfc752",
   "metadata": {},
   "outputs": [],
   "source": [
    "longs = longs - 0.5"
   ]
  },
  {
   "cell_type": "code",
   "execution_count": 8,
   "id": "ecb4b9c4-a030-42a3-a468-da6a0bdd8f00",
   "metadata": {},
   "outputs": [],
   "source": [
    "rescaled_lengths = lengths * longs\n",
    "rescaled_lengths_filtered = rescaled_lengths[ainds]"
   ]
  },
  {
   "cell_type": "code",
   "execution_count": 9,
   "id": "8f30b8bd-374a-43a6-ab37-d3cfeca77784",
   "metadata": {},
   "outputs": [
    {
     "data": {
      "text/plain": [
       "((1025,), (1000,))"
      ]
     },
     "execution_count": 9,
     "metadata": {},
     "output_type": "execute_result"
    }
   ],
   "source": [
    "rescaled_lengths.shape, rescaled_lengths_filtered.shape"
   ]
  },
  {
   "cell_type": "code",
   "execution_count": 10,
   "id": "1183379c-7a57-4d59-b24e-f6d71de21c1c",
   "metadata": {},
   "outputs": [],
   "source": [
    "lmax = max(rescaled_lengths_filtered)\n",
    "lmin = min(rescaled_lengths_filtered)\n",
    "lminmax = max(lmax, -lmin)\n",
    "lnrbins = round(2 * lminmax * bin_scale)\n",
    "if lnrbins % 2 != 0:\n",
    "    lnrbins += 1"
   ]
  },
  {
   "cell_type": "code",
   "execution_count": 11,
   "id": "a73e35b9-2edd-4f32-b2a5-e2e2b8c6553a",
   "metadata": {},
   "outputs": [
    {
     "data": {
      "text/plain": [
       "(7.3832498726986175, -7.53183329711531)"
      ]
     },
     "execution_count": 11,
     "metadata": {},
     "output_type": "execute_result"
    }
   ],
   "source": [
    "lmax, lmin"
   ]
  },
  {
   "cell_type": "code",
   "execution_count": 12,
   "id": "0b2a5ef2-3297-453f-8a2b-6fefc77d239a",
   "metadata": {},
   "outputs": [],
   "source": [
    "lbins = np.linspace(-lminmax, lminmax, lnrbins)\n",
    "anrbins = lnrbins\n",
    "abins = np.linspace(amin, amax, anrbins)"
   ]
  },
  {
   "cell_type": "code",
   "execution_count": 13,
   "id": "6e8d912e-e388-4ff0-b784-2144c3229830",
   "metadata": {},
   "outputs": [
    {
     "data": {
      "text/plain": [
       "302"
      ]
     },
     "execution_count": 13,
     "metadata": {},
     "output_type": "execute_result"
    }
   ],
   "source": [
    "len(lbins)"
   ]
  },
  {
   "cell_type": "code",
   "execution_count": 14,
   "id": "9965a0f4-acf2-425b-8564-da055e173153",
   "metadata": {},
   "outputs": [
    {
     "data": {
      "text/plain": [
       "302"
      ]
     },
     "execution_count": 14,
     "metadata": {},
     "output_type": "execute_result"
    }
   ],
   "source": [
    "len(abins)"
   ]
  },
  {
   "cell_type": "code",
   "execution_count": 15,
   "id": "9dd5d553-76cc-464d-aaf9-7cfcaf425653",
   "metadata": {},
   "outputs": [
    {
     "data": {
      "text/plain": [
       "302"
      ]
     },
     "execution_count": 15,
     "metadata": {},
     "output_type": "execute_result"
    }
   ],
   "source": [
    "anrbins"
   ]
  },
  {
   "cell_type": "code",
   "execution_count": 16,
   "id": "81c6d744-873c-4850-a7b7-b7db13bf5752",
   "metadata": {},
   "outputs": [],
   "source": [
    "heatmap = np.zeros(shape=(anrbins-1, lnrbins))\n",
    "mean_cell_lengths = np.zeros((1, anrbins-1))"
   ]
  },
  {
   "cell_type": "code",
   "execution_count": 18,
   "id": "7b1c699e-400b-4970-8f67-0dbe54533195",
   "metadata": {},
   "outputs": [
    {
     "data": {
      "text/plain": [
       "(302,)"
      ]
     },
     "execution_count": 18,
     "metadata": {},
     "output_type": "execute_result"
    }
   ],
   "source": [
    "lbins.shape"
   ]
  },
  {
   "cell_type": "code",
   "execution_count": 19,
   "id": "be3b282f-7fda-4d26-87c3-be5c25bf2a53",
   "metadata": {},
   "outputs": [
    {
     "data": {
      "text/plain": [
       "(302, 302)"
      ]
     },
     "execution_count": 19,
     "metadata": {},
     "output_type": "execute_result"
    }
   ],
   "source": [
    "len(abins), anrbins"
   ]
  },
  {
   "cell_type": "code",
   "execution_count": null,
   "id": "6b38add4-75df-454b-b2bb-8697ec1ea602",
   "metadata": {},
   "outputs": [],
   "source": []
  },
  {
   "cell_type": "code",
   "execution_count": 30,
   "id": "703e05ad-149f-4584-9602-1c862aae96f1",
   "metadata": {},
   "outputs": [],
   "source": [
    "heatmap = np.zeros(shape=(anrbins-1, lnrbins-1))\n",
    "mean_cell_lengths = np.zeros((anrbins-1,))\n",
    "for i in range(0, anrbins-1):\n",
    "    sel_dots = np.logical_and(areas > abins[i], areas <= abins[i+1])\n",
    "    sel_lengths = lengths[sel_dots]\n",
    "    sel_counts = counts[sel_dots]\n",
    "    sel_long = longs[sel_dots]\n",
    "    h1,_ = np.histogram(sel_long * sel_lengths, lbins)\n",
    "    normFactor = np.sum(1./sel_counts)\n",
    "    heatmap[i, :] = h1 / normFactor\n",
    "    mean_cell_lengths[i] = np.mean(sel_lengths)\n",
    "\n",
    "# threshold heatmap \n",
    "heatmap[np.isnan(heatmap)] = 0\n",
    "#\n",
    "\n",
    "#heatmap[np.isnan(heatmap)] = 0"
   ]
  },
  {
   "cell_type": "code",
   "execution_count": 31,
   "id": "b19ae2b9-ac5b-4d0a-bb4c-db1e32f02d99",
   "metadata": {},
   "outputs": [
    {
     "data": {
      "text/plain": [
       "0.0"
      ]
     },
     "execution_count": 31,
     "metadata": {},
     "output_type": "execute_result"
    }
   ],
   "source": [
    "np.quantile(heatmap, 0.99)"
   ]
  },
  {
   "cell_type": "code",
   "execution_count": null,
   "id": "fe183aca-6fb0-4914-b085-9e47c28df2dd",
   "metadata": {},
   "outputs": [],
   "source": []
  },
  {
   "cell_type": "code",
   "execution_count": 21,
   "id": "160cc0ef-6645-47fd-9446-9a2799c6fd30",
   "metadata": {},
   "outputs": [
    {
     "data": {
      "text/plain": [
       "array([ 1.54998378,  1.59395179,  1.66887195,         nan,  1.73079313,\n",
       "        1.73636468,  1.83111858,  1.97497763,  2.04635954,  1.88393574,\n",
       "        1.92966875,  1.88215439,  2.16219484,  2.04507083,  2.10881828,\n",
       "        2.07634639,  2.29229938,  2.26061842,  2.40273692,  2.41490314,\n",
       "        2.44421217,  2.43128967,  2.50391578,  2.566323  ,  2.659168  ,\n",
       "        2.58120164,  2.63233816,  2.56089477,  2.72973262,  2.7311826 ,\n",
       "        2.70035949,  3.012912  ,  3.06905901,  3.15087919,  3.10846871,\n",
       "        3.1086096 ,  3.18162191,  3.26080274,  3.23269927,  3.26573434,\n",
       "        3.25697045,  3.23628256,  3.21967627,  3.43281816,  3.54052596,\n",
       "        3.36855862,  3.57503697,  3.73315912,  3.63344419,  3.83413482,\n",
       "        3.41404968,  3.90598491,  4.34526937,  4.03167836,  3.99156377,\n",
       "        4.00085595,  4.06477062,  4.09994337,         nan,  4.16164106,\n",
       "        4.33808926,  4.43597175,  3.92590616,  4.39734251,  4.42214676,\n",
       "        4.09730764,  4.98733949,  4.56046602,  4.156583  ,         nan,\n",
       "               nan,         nan,         nan,  4.93319379,         nan,\n",
       "        4.93767112,         nan,         nan,         nan,         nan,\n",
       "        4.93329801,  5.48222218,  5.42337802,         nan,         nan,\n",
       "        5.0181829 ,         nan,         nan,  5.80291848,         nan,\n",
       "               nan,         nan,         nan,         nan,         nan,\n",
       "        5.7583444 ,         nan,  6.59364181,  6.44503636,         nan,\n",
       "               nan,  5.84746302,  5.89300976,         nan,         nan,\n",
       "               nan,         nan,  6.7662124 ,  6.92678162,  6.99837303,\n",
       "               nan,         nan,         nan,         nan,         nan,\n",
       "               nan,         nan,         nan,         nan,  7.27506752,\n",
       "               nan,         nan,         nan,         nan,         nan,\n",
       "               nan,         nan,         nan,  7.36722146,         nan,\n",
       "               nan,         nan,         nan,         nan,         nan,\n",
       "               nan,  6.85534556,         nan,         nan,         nan,\n",
       "        8.51570177,         nan,         nan,  9.12075022,         nan,\n",
       "               nan,         nan,         nan,         nan,         nan,\n",
       "        8.65234754,         nan,         nan,         nan,         nan,\n",
       "        8.97638461,         nan,         nan,         nan,         nan,\n",
       "               nan,         nan,         nan,         nan,         nan,\n",
       "               nan,  9.25033031,         nan,         nan,         nan,\n",
       "               nan,         nan,         nan,         nan,         nan,\n",
       "               nan,         nan,  9.89558164,         nan,         nan,\n",
       "               nan,         nan,         nan,         nan, 10.30980829,\n",
       "               nan,         nan,         nan,         nan, 10.49238133,\n",
       "               nan,         nan,         nan,         nan, 10.35505661,\n",
       "               nan,         nan,         nan, 10.90543168,         nan,\n",
       "       11.09143514,         nan,         nan,         nan,         nan,\n",
       "               nan,  8.37608918,         nan,         nan,         nan,\n",
       "               nan,         nan,         nan,         nan,         nan,\n",
       "               nan,         nan,         nan,         nan,         nan,\n",
       "               nan,         nan,         nan,         nan,         nan,\n",
       "               nan,         nan,         nan,         nan,         nan,\n",
       "               nan,         nan,         nan,         nan,         nan,\n",
       "               nan,         nan,         nan,         nan,         nan,\n",
       "               nan,         nan,         nan, 12.5165911 ,         nan,\n",
       "               nan,         nan,         nan,         nan,         nan,\n",
       "               nan,         nan,         nan,         nan,         nan,\n",
       "               nan,         nan,         nan,         nan,         nan,\n",
       "               nan,         nan,         nan,         nan,         nan,\n",
       "               nan,         nan,         nan,         nan,         nan,\n",
       "               nan,         nan,         nan,         nan,         nan,\n",
       "               nan,         nan,         nan,         nan,         nan,\n",
       "               nan,         nan,         nan,         nan,         nan,\n",
       "               nan,         nan,         nan,         nan,         nan,\n",
       "               nan,         nan,         nan,         nan,         nan,\n",
       "               nan,         nan,         nan,         nan,         nan,\n",
       "       15.64783863])"
      ]
     },
     "execution_count": 21,
     "metadata": {},
     "output_type": "execute_result"
    }
   ],
   "source": [
    "mean_cell_lengths"
   ]
  },
  {
   "cell_type": "code",
   "execution_count": 22,
   "id": "fb1ad1d3-53bc-49a8-a729-b4d8a37a5652",
   "metadata": {},
   "outputs": [],
   "source": [
    "heatmap[np.isnan(heatmap)] = 0"
   ]
  },
  {
   "cell_type": "code",
   "execution_count": 23,
   "id": "fa517541-e5ac-47b0-9bbe-7ef296f27ac6",
   "metadata": {},
   "outputs": [
    {
     "data": {
      "text/plain": [
       "(302,)"
      ]
     },
     "execution_count": 23,
     "metadata": {},
     "output_type": "execute_result"
    }
   ],
   "source": [
    "abins.shape"
   ]
  },
  {
   "cell_type": "code",
   "execution_count": 24,
   "id": "0fccc884-8988-4aa1-9947-07c1227b78a9",
   "metadata": {},
   "outputs": [],
   "source": [
    "y = (abins[0:-1] + abins[1:])/2\n",
    "x = lbins"
   ]
  },
  {
   "cell_type": "code",
   "execution_count": 26,
   "id": "830f4c54-faed-4160-8c32-95318fc8b3e1",
   "metadata": {},
   "outputs": [
    {
     "data": {
      "text/plain": [
       "Text(0, 0.5, 'Cell size (µm^2)')"
      ]
     },
     "execution_count": 26,
     "metadata": {},
     "output_type": "execute_result"
    }
   ],
   "source": [
    "plt.matshow(heatmap, aspect='auto', interpolation='none', extent=[x[0], x[-1], y[-1], y[0]], origin='upper')\n",
    "plt.plot(-0.5 * mean_cell_lengths, y, 'w', linewidth=2)\n",
    "plt.plot(0.5 * mean_cell_lengths, y, 'w', linewidth=2)\n",
    "plt.xlabel('Cell long axis (µm)')\n",
    "plt.ylabel('Cell size (µm^2)')"
   ]
  },
  {
   "cell_type": "code",
   "execution_count": 20,
   "id": "78583ae6-f512-4f79-9175-12de54dda7ef",
   "metadata": {},
   "outputs": [
    {
     "data": {
      "text/plain": [
       "890.0"
      ]
     },
     "execution_count": 20,
     "metadata": {},
     "output_type": "execute_result"
    }
   ],
   "source": [
    "np.sum(heatmap)"
   ]
  },
  {
   "cell_type": "code",
   "execution_count": null,
   "id": "83e0cfb7-9d8b-4c7d-b5d5-988345d42f26",
   "metadata": {},
   "outputs": [],
   "source": []
  },
  {
   "cell_type": "code",
   "execution_count": 45,
   "id": "acf91d78-ede3-431c-b838-aab2a4fe4bed",
   "metadata": {},
   "outputs": [],
   "source": [
    "import numpy as np\n",
    "import matplotlib.pyplot as plt\n",
    "\n",
    "# Create sample data\n",
    "x = np.linspace(-100, -10, 10)\n",
    "y = np.array([-8, -3])\n",
    "data = np.random.randn(len(y), len(x))\n",
    "\n",
    "# Display the image\n",
    "plt.matshow(data, aspect='auto', interpolation='none', \n",
    "           extent=[x[0], x[-1], y[0], y[-1]], origin='lower')\n",
    "plt.colorbar()\n",
    "plt.show()\n"
   ]
  },
  {
   "cell_type": "code",
   "execution_count": 44,
   "id": "761cbc8c-7e96-451e-bd72-207ba0fbd427",
   "metadata": {},
   "outputs": [
    {
     "data": {
      "text/plain": [
       "(2, 10)"
      ]
     },
     "execution_count": 44,
     "metadata": {},
     "output_type": "execute_result"
    }
   ],
   "source": [
    "data.shape"
   ]
  },
  {
   "cell_type": "code",
   "execution_count": 41,
   "id": "bb97c09f-451b-44c5-87d7-3704f3b74ed4",
   "metadata": {},
   "outputs": [
    {
     "data": {
      "text/plain": [
       "-100.0"
      ]
     },
     "execution_count": 41,
     "metadata": {},
     "output_type": "execute_result"
    }
   ],
   "source": [
    "x[0]"
   ]
  },
  {
   "cell_type": "code",
   "execution_count": 42,
   "id": "5788cb74-9a15-4efe-b4b4-d97bc838001d",
   "metadata": {},
   "outputs": [
    {
     "data": {
      "text/plain": [
       "-10.0"
      ]
     },
     "execution_count": 42,
     "metadata": {},
     "output_type": "execute_result"
    }
   ],
   "source": [
    "x[-1]"
   ]
  },
  {
   "cell_type": "code",
   "execution_count": null,
   "id": "14a4b44b-1fc7-4813-8db9-6d5e86afbe97",
   "metadata": {},
   "outputs": [],
   "source": []
  },
  {
   "cell_type": "code",
   "execution_count": 115,
   "id": "b6f9de1d-9441-487d-b859-f0cfa36423e6",
   "metadata": {},
   "outputs": [
    {
     "data": {
      "text/plain": [
       "(6549, 6550)"
      ]
     },
     "execution_count": 115,
     "metadata": {},
     "output_type": "execute_result"
    }
   ],
   "source": [
    "heatmap.shape"
   ]
  },
  {
   "cell_type": "code",
   "execution_count": null,
   "id": "6b2484dd-3956-406c-a777-cbf5cd6ed146",
   "metadata": {},
   "outputs": [],
   "source": []
  },
  {
   "cell_type": "code",
   "execution_count": 107,
   "id": "52d8f993-906f-46df-a697-8f979d68da38",
   "metadata": {},
   "outputs": [
    {
     "data": {
      "text/plain": [
       "Series([], dtype: float64)"
      ]
     },
     "execution_count": 107,
     "metadata": {},
     "output_type": "execute_result"
    }
   ],
   "source": [
    "sel_long * sel_lengths"
   ]
  },
  {
   "cell_type": "code",
   "execution_count": 105,
   "id": "21cacbc6-f2de-49bf-803b-d444104644a3",
   "metadata": {},
   "outputs": [
    {
     "data": {
      "text/plain": [
       "(6549,)"
      ]
     },
     "execution_count": 105,
     "metadata": {},
     "output_type": "execute_result"
    }
   ],
   "source": [
    "h1.shape"
   ]
  },
  {
   "cell_type": "code",
   "execution_count": null,
   "id": "343a1a8d-08d9-4751-a174-2a3a9610a5fa",
   "metadata": {},
   "outputs": [],
   "source": []
  },
  {
   "cell_type": "code",
   "execution_count": null,
   "id": "7413152a-7a14-4aaf-9b9c-5c0886c94371",
   "metadata": {},
   "outputs": [],
   "source": []
  },
  {
   "cell_type": "code",
   "execution_count": null,
   "id": "e328c664-e8b1-478b-8c7c-9ad54b60c726",
   "metadata": {},
   "outputs": [],
   "source": []
  },
  {
   "cell_type": "code",
   "execution_count": 96,
   "id": "f9d6cdca-f89e-414f-9582-55938ec25eec",
   "metadata": {},
   "outputs": [
    {
     "data": {
      "text/plain": [
       "477    0.083333\n",
       "478    0.083333\n",
       "479    0.083333\n",
       "480    0.083333\n",
       "481    0.083333\n",
       "482    0.083333\n",
       "483    0.083333\n",
       "484    0.083333\n",
       "485    0.083333\n",
       "486    0.083333\n",
       "487    0.083333\n",
       "488    0.083333\n",
       "Name: normalization_counts, dtype: float64"
      ]
     },
     "execution_count": 96,
     "metadata": {},
     "output_type": "execute_result"
    }
   ],
   "source": [
    "1./sel_counts"
   ]
  },
  {
   "cell_type": "code",
   "execution_count": null,
   "id": "94cc19cb-895a-4a5c-9ffd-1972de0d91f1",
   "metadata": {},
   "outputs": [],
   "source": []
  },
  {
   "cell_type": "code",
   "execution_count": 75,
   "id": "1989c05f-2fc6-4afc-a4fa-0657b5eafeaf",
   "metadata": {},
   "outputs": [
    {
     "data": {
      "text/plain": [
       "0"
      ]
     },
     "execution_count": 75,
     "metadata": {},
     "output_type": "execute_result"
    }
   ],
   "source": [
    "np.sum(np.logical_and(areas > abins[0], areas <= abins[1]))"
   ]
  },
  {
   "cell_type": "code",
   "execution_count": 73,
   "id": "e24c37ba-7457-4f02-826a-88d88676e1a6",
   "metadata": {},
   "outputs": [
    {
     "data": {
      "text/plain": [
       "0       368.0\n",
       "1       368.0\n",
       "2       596.0\n",
       "3       596.0\n",
       "4       596.0\n",
       "        ...  \n",
       "1020    582.0\n",
       "1021    371.0\n",
       "1022    371.0\n",
       "1023    455.0\n",
       "1024    455.0\n",
       "Name: area, Length: 1025, dtype: float64"
      ]
     },
     "execution_count": 73,
     "metadata": {},
     "output_type": "execute_result"
    }
   ],
   "source": [
    "np.l"
   ]
  },
  {
   "cell_type": "code",
   "execution_count": null,
   "id": "f85fcfea-b32c-4fd9-9029-95476a35417e",
   "metadata": {},
   "outputs": [],
   "source": []
  },
  {
   "cell_type": "code",
   "execution_count": null,
   "id": "d8e61bd9-e249-4e87-9c43-7a6af8e13bce",
   "metadata": {},
   "outputs": [],
   "source": []
  },
  {
   "cell_type": "code",
   "execution_count": null,
   "id": "e75612db-d80d-4892-9509-532521309cb3",
   "metadata": {},
   "outputs": [],
   "source": []
  },
  {
   "cell_type": "code",
   "execution_count": null,
   "id": "ade9cf0a-f803-4f8e-8b03-eaa5970be555",
   "metadata": {},
   "outputs": [],
   "source": []
  },
  {
   "cell_type": "markdown",
   "id": "1e4667d7-d217-4d44-a3b5-ab8b1559126e",
   "metadata": {},
   "source": [
    "### Parameters"
   ]
  },
  {
   "cell_type": "code",
   "execution_count": null,
   "id": "78022e9e-251b-47eb-b80a-78038c54effc",
   "metadata": {},
   "outputs": [],
   "source": []
  },
  {
   "cell_type": "code",
   "execution_count": 3,
   "id": "4e327f60-50f8-4d82-9791-e4d3e5a9f8ad",
   "metadata": {},
   "outputs": [],
   "source": [
    "bin_scale = 20\n",
    "heatmap_threshold = 0.99"
   ]
  },
  {
   "cell_type": "code",
   "execution_count": null,
   "id": "03d517fd-1427-48fe-9d90-e4ca463d366d",
   "metadata": {},
   "outputs": [],
   "source": []
  }
 ],
 "metadata": {
  "kernelspec": {
   "display_name": "Python 3 (ipykernel)",
   "language": "python",
   "name": "python3"
  },
  "language_info": {
   "codemirror_mode": {
    "name": "ipython",
    "version": 3
   },
   "file_extension": ".py",
   "mimetype": "text/x-python",
   "name": "python",
   "nbconvert_exporter": "python",
   "pygments_lexer": "ipython3",
   "version": "3.11.0rc1"
  }
 },
 "nbformat": 4,
 "nbformat_minor": 5
}
